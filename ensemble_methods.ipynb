{
 "cells": [
  {
   "cell_type": "markdown",
   "metadata": {},
   "source": [
    "# ensemble_methods"
   ]
  },
  {
   "cell_type": "code",
   "execution_count": 8,
   "metadata": {},
   "outputs": [],
   "source": [
    "import pandas as pd\n",
    "import numpy as np\n",
    "import math\n",
    "\n",
    "from sklearn.model_selection import train_test_split\n",
    "from sklearn.metrics import mean_absolute_error\n",
    "\n",
    "seed = 42"
   ]
  },
  {
   "cell_type": "code",
   "execution_count": 3,
   "metadata": {},
   "outputs": [],
   "source": [
    "import nbimporter\n",
    "\n",
    "import pre_processing\n",
    "import feature_selection\n",
    "import feature_generation\n",
    "import parameter_tuning"
   ]
  },
  {
   "cell_type": "code",
   "execution_count": 26,
   "metadata": {},
   "outputs": [],
   "source": [
    "def escribir_respuesta(ids,predicciones):\n",
    "    with open(\"respuesta.csv\",'w') as archivo:\n",
    "        archivo.write(\"id,target\\n\")\n",
    "        for i in range(len(ids)):\n",
    "            linea = f\"{int(ids[i])},{predicciones[i]}\"\n",
    "            archivo.write(f\"{linea}\\n\")"
   ]
  },
  {
   "cell_type": "markdown",
   "metadata": {},
   "source": [
    "# Bagging para LightGBM"
   ]
  },
  {
   "cell_type": "code",
   "execution_count": 4,
   "metadata": {},
   "outputs": [],
   "source": [
    "train,test = pre_processing.load_featured_datasets()"
   ]
  },
  {
   "cell_type": "code",
   "execution_count": 5,
   "metadata": {},
   "outputs": [],
   "source": [
    "params = parameter_tuning.get_best_params()"
   ]
  },
  {
   "cell_type": "code",
   "execution_count": 14,
   "metadata": {},
   "outputs": [],
   "source": [
    "from sklearn.ensemble import BaggingRegressor\n",
    "import lightgbm as lgb"
   ]
  },
  {
   "cell_type": "code",
   "execution_count": 9,
   "metadata": {
    "scrolled": true
   },
   "outputs": [],
   "source": [
    "train['precio'] = train['precio'].map(lambda x: math.log(x))"
   ]
  },
  {
   "cell_type": "code",
   "execution_count": 10,
   "metadata": {},
   "outputs": [],
   "source": [
    "train_selected = feature_selection.get_selected_dataframe(train)"
   ]
  },
  {
   "cell_type": "code",
   "execution_count": 11,
   "metadata": {},
   "outputs": [],
   "source": [
    "X = train_selected.drop('precio', axis=1)\n",
    "Y = train_selected['precio']\n",
    "\n",
    "X_train, X_val, Y_train, Y_val = train_test_split(X, Y, test_size=0.2, random_state=seed)"
   ]
  },
  {
   "cell_type": "code",
   "execution_count": 21,
   "metadata": {},
   "outputs": [
    {
     "data": {
      "text/plain": [
       "{'num_leaves': 55,\n",
       " 'min_gain_to_split': 0.2,\n",
       " 'min_data_in_leaf': 3000,\n",
       " 'max_depth': 12,\n",
       " 'max_bin': 150,\n",
       " 'feature_fraction': 0.7,\n",
       " 'bagging_freq': 5,\n",
       " 'bagging_fraction': 0.75,\n",
       " 'boosting_type': 'gbdt',\n",
       " 'objective': 'regression',\n",
       " 'metric': 'mae',\n",
       " 'num_boost_round': 5000,\n",
       " 'verbose': 0,\n",
       " 'learning_rate': 0.1}"
      ]
     },
     "execution_count": 21,
     "metadata": {},
     "output_type": "execute_result"
    }
   ],
   "source": [
    "params['lightgbm']"
   ]
  },
  {
   "cell_type": "code",
   "execution_count": 22,
   "metadata": {
    "scrolled": true
   },
   "outputs": [],
   "source": [
    "reg = lgb.LGBMRegressor(num_leaves= 55, min_gain_to_split= 0.07, min_data_in_leaf= 3000,\n",
    "                        max_depth= 12, max_bin= 150, feature_fraction= 0.7, bagging_freq= 5,\n",
    "                        bagging_fraction= 0.75, boosting_type='gbdt', objective= 'regression',\n",
    "                        metric = 'mae', num_boost_round= 5000, verbose= 0, learning_rate= 0.1)"
   ]
  },
  {
   "cell_type": "code",
   "execution_count": 23,
   "metadata": {},
   "outputs": [],
   "source": [
    "bagging = BaggingRegressor(reg, random_state=seed)"
   ]
  },
  {
   "cell_type": "code",
   "execution_count": 24,
   "metadata": {},
   "outputs": [
    {
     "name": "stderr",
     "output_type": "stream",
     "text": [
      "/usr/local/lib/python3.6/dist-packages/lightgbm/engine.py:148: UserWarning: Found `num_boost_round` in params. Will use it instead of argument\n",
      "  warnings.warn(\"Found `{}` in params. Will use it instead of argument\".format(alias))\n",
      "/usr/local/lib/python3.6/dist-packages/lightgbm/engine.py:148: UserWarning: Found `num_boost_round` in params. Will use it instead of argument\n",
      "  warnings.warn(\"Found `{}` in params. Will use it instead of argument\".format(alias))\n",
      "/usr/local/lib/python3.6/dist-packages/lightgbm/engine.py:148: UserWarning: Found `num_boost_round` in params. Will use it instead of argument\n",
      "  warnings.warn(\"Found `{}` in params. Will use it instead of argument\".format(alias))\n",
      "/usr/local/lib/python3.6/dist-packages/lightgbm/engine.py:148: UserWarning: Found `num_boost_round` in params. Will use it instead of argument\n",
      "  warnings.warn(\"Found `{}` in params. Will use it instead of argument\".format(alias))\n",
      "/usr/local/lib/python3.6/dist-packages/lightgbm/engine.py:148: UserWarning: Found `num_boost_round` in params. Will use it instead of argument\n",
      "  warnings.warn(\"Found `{}` in params. Will use it instead of argument\".format(alias))\n",
      "/usr/local/lib/python3.6/dist-packages/lightgbm/engine.py:148: UserWarning: Found `num_boost_round` in params. Will use it instead of argument\n",
      "  warnings.warn(\"Found `{}` in params. Will use it instead of argument\".format(alias))\n",
      "/usr/local/lib/python3.6/dist-packages/lightgbm/engine.py:148: UserWarning: Found `num_boost_round` in params. Will use it instead of argument\n",
      "  warnings.warn(\"Found `{}` in params. Will use it instead of argument\".format(alias))\n",
      "/usr/local/lib/python3.6/dist-packages/lightgbm/engine.py:148: UserWarning: Found `num_boost_round` in params. Will use it instead of argument\n",
      "  warnings.warn(\"Found `{}` in params. Will use it instead of argument\".format(alias))\n",
      "/usr/local/lib/python3.6/dist-packages/lightgbm/engine.py:148: UserWarning: Found `num_boost_round` in params. Will use it instead of argument\n",
      "  warnings.warn(\"Found `{}` in params. Will use it instead of argument\".format(alias))\n",
      "/usr/local/lib/python3.6/dist-packages/lightgbm/engine.py:148: UserWarning: Found `num_boost_round` in params. Will use it instead of argument\n",
      "  warnings.warn(\"Found `{}` in params. Will use it instead of argument\".format(alias))\n"
     ]
    },
    {
     "data": {
      "text/plain": [
       "BaggingRegressor(base_estimator=LGBMRegressor(bagging_fraction=0.75,\n",
       "                                              bagging_freq=5,\n",
       "                                              boosting_type='gbdt',\n",
       "                                              class_weight=None,\n",
       "                                              colsample_bytree=1.0,\n",
       "                                              feature_fraction=0.7,\n",
       "                                              importance_type='split',\n",
       "                                              learning_rate=0.1, max_bin=150,\n",
       "                                              max_depth=12, metric='mae',\n",
       "                                              min_child_samples=20,\n",
       "                                              min_child_weight=0.001,\n",
       "                                              min_data_in_leaf=3000,\n",
       "                                              min_gain_to_split=0.07,\n",
       "                                              min_split_gain=0.0,\n",
       "                                              n_estimators=100, n_jobs=-1,\n",
       "                                              num_boost_round=5000,\n",
       "                                              num_leaves=55,\n",
       "                                              objective='regression',\n",
       "                                              random_state=None, reg_alpha=0.0,\n",
       "                                              reg_lambda=0.0, silent=True,\n",
       "                                              subsample=1.0,\n",
       "                                              subsample_for_bin=200000,\n",
       "                                              subsample_freq=0, verbose=0),\n",
       "                 bootstrap=True, bootstrap_features=False, max_features=1.0,\n",
       "                 max_samples=1.0, n_estimators=10, n_jobs=None, oob_score=False,\n",
       "                 random_state=42, verbose=0, warm_start=False)"
      ]
     },
     "execution_count": 24,
     "metadata": {},
     "output_type": "execute_result"
    }
   ],
   "source": [
    "bagging.fit(X,Y)"
   ]
  },
  {
   "cell_type": "code",
   "execution_count": 25,
   "metadata": {},
   "outputs": [
    {
     "data": {
      "text/plain": [
       "427622.7929542567"
      ]
     },
     "execution_count": 25,
     "metadata": {},
     "output_type": "execute_result"
    }
   ],
   "source": [
    "Y_pred = bagging.predict(X_val.values)\n",
    "\n",
    "f = np.vectorize(math.exp)\n",
    "Y_pred = f(Y_pred)\n",
    "Y_val = f(Y_val.values)\n",
    "mean_absolute_error(Y_val,Y_pred)"
   ]
  },
  {
   "cell_type": "code",
   "execution_count": 27,
   "metadata": {},
   "outputs": [],
   "source": [
    "test_selected = feature_selection.get_selected_dataframe(test, precio=False)"
   ]
  },
  {
   "cell_type": "code",
   "execution_count": 28,
   "metadata": {},
   "outputs": [],
   "source": [
    "ids = test_selected.index.values\n",
    "X_test = test_selected.values\n",
    "test_predict = bagging.predict(X_test)\n",
    "f = np.vectorize(math.exp)\n",
    "test_predict = f(test_predict)\n",
    "escribir_respuesta(ids, test_predict)"
   ]
  },
  {
   "cell_type": "code",
   "execution_count": null,
   "metadata": {},
   "outputs": [],
   "source": []
  }
 ],
 "metadata": {
  "kernelspec": {
   "display_name": "Python 3",
   "language": "python",
   "name": "python3"
  },
  "language_info": {
   "codemirror_mode": {
    "name": "ipython",
    "version": 3
   },
   "file_extension": ".py",
   "mimetype": "text/x-python",
   "name": "python",
   "nbconvert_exporter": "python",
   "pygments_lexer": "ipython3",
   "version": "3.6.9"
  }
 },
 "nbformat": 4,
 "nbformat_minor": 2
}
