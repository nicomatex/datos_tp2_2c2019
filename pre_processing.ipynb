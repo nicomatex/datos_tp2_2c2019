{
 "cells": [
  {
   "cell_type": "markdown",
   "metadata": {},
   "source": [
    "# pre_processing"
   ]
  },
  {
   "cell_type": "code",
   "execution_count": 1,
   "metadata": {},
   "outputs": [],
   "source": [
    "import pandas as pd\n",
    "import numpy as np"
   ]
  },
  {
   "cell_type": "code",
   "execution_count": 2,
   "metadata": {},
   "outputs": [
    {
     "name": "stdout",
     "output_type": "stream",
     "text": [
      "Importing Jupyter notebook from feature_generation.ipynb\n",
      "Importing Jupyter notebook from pre_processing.ipynb\n",
      "Importing Jupyter notebook from feature_selection.ipynb\n"
     ]
    }
   ],
   "source": [
    "import nbimporter\n",
    "import feature_generation"
   ]
  },
  {
   "cell_type": "code",
   "execution_count": 3,
   "metadata": {},
   "outputs": [],
   "source": [
    "df = pd.read_csv('data/train.csv')"
   ]
  },
  {
   "cell_type": "code",
   "execution_count": 4,
   "metadata": {},
   "outputs": [
    {
     "data": {
      "text/plain": [
       "Index(['id', 'titulo', 'descripcion', 'tipodepropiedad', 'direccion', 'ciudad',\n",
       "       'provincia', 'antiguedad', 'habitaciones', 'garages', 'banos',\n",
       "       'metroscubiertos', 'metrostotales', 'idzona', 'lat', 'lng', 'fecha',\n",
       "       'gimnasio', 'usosmultiples', 'piscina', 'escuelascercanas',\n",
       "       'centroscomercialescercanos', 'precio'],\n",
       "      dtype='object')"
      ]
     },
     "execution_count": 4,
     "metadata": {},
     "output_type": "execute_result"
    }
   ],
   "source": [
    "df.columns"
   ]
  },
  {
   "cell_type": "code",
   "execution_count": 3,
   "metadata": {},
   "outputs": [],
   "source": [
    "features = feature_generation.get_features()\n",
    "features_types = feature_generation.get_features_types()"
   ]
  },
  {
   "cell_type": "code",
   "execution_count": 4,
   "metadata": {},
   "outputs": [],
   "source": [
    "def load_appended_dataset():\n",
    "    \"\"\"Carga ambos dataframes (train y test) y devuelve un solo dataframe que es el resultado de realizar un\n",
    "    append entre ambos. El dataset de test esta al final.\"\"\"\n",
    "\n",
    "    train = pd.read_csv('./data/train.csv', index_col='id', parse_dates=['fecha'])\n",
    "    test = pd.read_csv('./data/test.csv', index_col='id', parse_dates=['fecha'])\n",
    "    df = train.append(test, sort=False)\n",
    "   \n",
    "    return df"
   ]
  },
  {
   "cell_type": "code",
   "execution_count": 5,
   "metadata": {},
   "outputs": [],
   "source": [
    "def separate_train_test(df):\n",
    "    \"\"\"Separa df compuesto por sus primeras 240.000 filas de train.csv y sus 60.000 ultimas filas de test\n",
    "    en los dos dataframes correspondientes.\"\"\"\n",
    "    \n",
    "    train = df.head(240000)\n",
    "    test = df.tail(60000).drop('precio', axis=1)\n",
    "    return train, test"
   ]
  },
  {
   "cell_type": "code",
   "execution_count": 6,
   "metadata": {},
   "outputs": [],
   "source": [
    "def load_datasets():\n",
    "    \"\"\"Carga ambos dataframes (train y test) y devuelve dos datasets en el formato:\n",
    "    train_df, test_df\"\"\"\n",
    "\n",
    "    df = load_appended_dataset()\n",
    "    return separate_train_test(df)"
   ]
  },
  {
   "cell_type": "code",
   "execution_count": 4,
   "metadata": {},
   "outputs": [],
   "source": [
    "def load_featured_appended_dataset(class_feature):\n",
    "    \"\"\"Carga el .csv con los features generados, y lo formatea para ahorrar memoria. Devuelve un unico\n",
    "    dataframe cuyas primeras 240.000 filas son de train.csv y sus ultimas 60.000 de test.\"\"\"\n",
    "      \n",
    "    df = load_appended_dataset()\n",
    "    \n",
    "    csv_names = feature_generation.get_csvs_names()\n",
    "    features_types = feature_generation.get_features_types()\n",
    "    \n",
    "    for file in csv_names:\n",
    "        if file=='class' and not class_feature:\n",
    "            continue\n",
    "        ruta = 'features/'+file+'.csv'\n",
    "        add = pd.read_csv(ruta, index_col='id')\n",
    "        df = pd.merge(df, add, how='left', on='id')\n",
    "           \n",
    "    for categoria in features_types.keys():\n",
    "        if categoria=='class' and not class_feature:\n",
    "            continue\n",
    "        for tipo in features_types[categoria]:\n",
    "            castear = features_types[categoria][tipo]\n",
    "            if (tipo == 'bernoulli'):\n",
    "                df[castear] = df[castear].astype('uint8')\n",
    "            elif (tipo == 'float'):\n",
    "                df[castear] = df[castear].astype('float')\n",
    "            elif (tipo == 'uint8'):\n",
    "                df[castear] = df[castear].astype('uint8')\n",
    "            elif (tipo == 'uint16'):\n",
    "                df[castear] = df[castear].astype('uint16')\n",
    "            elif (tipo == 'uint32'):\n",
    "                df[castear] = df[castear].astype('uint32')\n",
    "    \n",
    "    return df"
   ]
  },
  {
   "cell_type": "code",
   "execution_count": 5,
   "metadata": {},
   "outputs": [],
   "source": [
    "def load_featured_datasets(class_feature=True):\n",
    "    \"\"\"Devuelve dos datasets en el formato:\n",
    "    train_df, test_df\n",
    "    Para los datasets con las features generadas.\"\"\"\n",
    "    \n",
    "    df = load_featured_appended_dataset(class_feature)\n",
    "    return separate_train_test(df)"
   ]
  },
  {
   "cell_type": "code",
   "execution_count": null,
   "metadata": {},
   "outputs": [],
   "source": []
  },
  {
   "cell_type": "code",
   "execution_count": null,
   "metadata": {},
   "outputs": [],
   "source": []
  },
  {
   "cell_type": "code",
   "execution_count": null,
   "metadata": {},
   "outputs": [],
   "source": []
  },
  {
   "cell_type": "code",
   "execution_count": null,
   "metadata": {},
   "outputs": [],
   "source": []
  },
  {
   "cell_type": "code",
   "execution_count": null,
   "metadata": {},
   "outputs": [],
   "source": []
  },
  {
   "cell_type": "code",
   "execution_count": null,
   "metadata": {},
   "outputs": [],
   "source": []
  },
  {
   "cell_type": "markdown",
   "metadata": {},
   "source": [
    "# Ver el tema de dic 2016\n",
    "En el TP1 vimos que habian muchas propiedades que eran de dic del 2016:\n"
   ]
  },
  {
   "cell_type": "code",
   "execution_count": 13,
   "metadata": {},
   "outputs": [],
   "source": [
    "def aniomes(anio, mes):\n",
    "    anio = str(anio)\n",
    "    mes = str(mes)\n",
    "    \n",
    "    if len(mes)==1:\n",
    "        mes = '0'+mes\n",
    "    \n",
    "    return int(anio+mes)"
   ]
  },
  {
   "cell_type": "code",
   "execution_count": 9,
   "metadata": {},
   "outputs": [],
   "source": [
    "df = load_appended_dataset()"
   ]
  },
  {
   "cell_type": "code",
   "execution_count": 12,
   "metadata": {},
   "outputs": [],
   "source": [
    "df['anio'] = df['fecha'].dt.year\n",
    "df['mes'] = df['fecha'].dt.month\n",
    "df['dia'] = df['fecha'].dt.day\n"
   ]
  },
  {
   "cell_type": "code",
   "execution_count": 14,
   "metadata": {},
   "outputs": [],
   "source": [
    "df['aniomes'] = df.apply(lambda x: aniomes(x['anio'], x['mes']), axis=1)"
   ]
  },
  {
   "cell_type": "code",
   "execution_count": 17,
   "metadata": {},
   "outputs": [],
   "source": [
    "df201612 = df.loc[df['aniomes'] == 201612]"
   ]
  },
  {
   "cell_type": "code",
   "execution_count": 28,
   "metadata": {},
   "outputs": [
    {
     "data": {
      "text/plain": [
       "2354764.7388403495"
      ]
     },
     "execution_count": 28,
     "metadata": {},
     "output_type": "execute_result"
    }
   ],
   "source": [
    "df201612['precio'].std()"
   ]
  },
  {
   "cell_type": "code",
   "execution_count": 31,
   "metadata": {},
   "outputs": [
    {
     "name": "stdout",
     "output_type": "stream",
     "text": [
      "201201 - std= 1641045.1049234213 - mean= 1910287.3468586388\n",
      "201202 - std= 1597102.887707227 - mean= 1817814.980406933\n",
      "201203 - std= 1842065.0181309523 - mean= 1966355.1405258386\n",
      "201204 - std= 1975269.7212173168 - mean= 2167271.0683403066\n",
      "201205 - std= 1737103.5293206384 - mean= 1899123.956919763\n",
      "201206 - std= 1725426.7793467424 - mean= 1930387.499343832\n",
      "201207 - std= 1674625.858192183 - mean= 1827298.644196655\n",
      "201208 - std= 1755932.3669465822 - mean= 2116829.444724251\n",
      "201209 - std= 1846279.823949636 - mean= 2092779.5950731332\n",
      "201210 - std= 1874879.4359990053 - mean= 2228156.793419804\n",
      "201211 - std= 1877054.9610941103 - mean= 2188356.604477612\n",
      "201212 - std= 1615653.3092376809 - mean= 1894107.711724138\n",
      "201301 - std= 1741217.1513762006 - mean= 2032821.1996989462\n",
      "201302 - std= 1824441.7826514642 - mean= 2158046.24910778\n",
      "201303 - std= 1796898.6687960827 - mean= 2092787.9019607843\n",
      "201304 - std= 1847035.049653021 - mean= 2164533.3367960635\n",
      "201305 - std= 1807926.9052302793 - mean= 2119536.0345\n",
      "201306 - std= 1813118.4648824409 - mean= 2058967.8501984128\n",
      "201307 - std= 1936829.143279209 - mean= 2221330.790808241\n",
      "201308 - std= 1893928.8491336745 - mean= 2197107.9182813815\n",
      "201309 - std= 1848137.4916427436 - mean= 2112627.3851249623\n",
      "201310 - std= 1901042.657614646 - mean= 2178858.7029092703\n",
      "201311 - std= 1847531.609910109 - mean= 2082400.5453639082\n",
      "201312 - std= 1813574.5691825936 - mean= 2075765.1900191938\n",
      "201401 - std= 1882606.4103320858 - mean= 2194886.6475239284\n",
      "201402 - std= 1913398.9607844383 - mean= 2327648.594711918\n",
      "201403 - std= 1892366.6104959934 - mean= 2268508.58127572\n",
      "201404 - std= 2043984.365707888 - mean= 2360990.835611511\n",
      "201405 - std= 2021083.3968693428 - mean= 2312619.621621622\n",
      "201406 - std= 1937812.891624241 - mean= 2357716.971447112\n",
      "201407 - std= 1990907.747721154 - mean= 2358129.5952\n",
      "201408 - std= 1927102.8074054655 - mean= 2345645.6472229976\n",
      "201409 - std= 1998028.9289568756 - mean= 2430108.504985937\n",
      "201410 - std= 1926790.6677943857 - mean= 2262678.244817633\n",
      "201411 - std= 1932424.327463401 - mean= 2429326.6726642097\n",
      "201412 - std= 2164830.9875098495 - mean= 2553107.229390681\n",
      "201501 - std= 2073894.5842706738 - mean= 2399791.177726218\n",
      "201502 - std= 2055027.7730512915 - mean= 2367703.882140088\n",
      "201503 - std= 2178015.1252117073 - mean= 2602793.961334344\n",
      "201504 - std= 2133037.4072147375 - mean= 2520665.664023262\n",
      "201505 - std= 2136807.6714790035 - mean= 2643570.4607683984\n",
      "201506 - std= 2231758.7432535235 - mean= 2734103.954258675\n",
      "201507 - std= 2257854.0387533084 - mean= 2779177.462967742\n",
      "201508 - std= 2195409.890166862 - mean= 2654494.0304904995\n",
      "201509 - std= 2276603.73683083 - mean= 2778323.671190623\n",
      "201510 - std= 2200963.2300631506 - mean= 2712010.1379683\n",
      "201511 - std= 2241672.1170473127 - mean= 2744395.714838973\n",
      "201512 - std= 2192258.720142535 - mean= 2604719.227304227\n",
      "201601 - std= 2243295.7134038447 - mean= 2688369.6455411254\n",
      "201602 - std= 2285987.454354529 - mean= 2695539.5287456447\n",
      "201603 - std= 2304888.9089883 - mean= 2807389.074074074\n",
      "201604 - std= 2252398.814379493 - mean= 2827182.8417168674\n",
      "201605 - std= 2280586.191214795 - mean= 2726719.6596175064\n",
      "201606 - std= 2252515.0346040907 - mean= 2744906.0999264163\n",
      "201607 - std= 2402627.280999802 - mean= 2882329.8361882586\n",
      "201608 - std= 2333699.194683816 - mean= 2880278.1212168243\n",
      "201609 - std= 2411537.5296290773 - mean= 2918303.5090234443\n",
      "201610 - std= 2315078.696041077 - mean= 2825196.1422836753\n",
      "201611 - std= 2335328.2433011187 - mean= 2824474.0626026946\n",
      "201612 - std= 2354764.7388403495 - mean= 2792976.583155464\n"
     ]
    }
   ],
   "source": [
    "# Vamos a chequear el desvio estandar de los precios para cada anio mes, para luego comparar con el std de\n",
    "# diciembre del 2016.\n",
    "\n",
    "for i in range(2,7):\n",
    "    for j in range(1,13):\n",
    "        anio = str(i)\n",
    "        if len(str(j)) == 1:\n",
    "            mes = '0'+str(j)\n",
    "        else:\n",
    "            mes = str(j)\n",
    "        aniomes = int('201'+anio+mes)\n",
    "        \n",
    "        std = df.loc[df['aniomes'] == aniomes]['precio'].std()\n",
    "        mean = df.loc[df['aniomes'] == aniomes]['precio'].mean()\n",
    "        print(f\"{aniomes} - std= {std} - mean= {mean}\")\n",
    "        "
   ]
  },
  {
   "cell_type": "code",
   "execution_count": 30,
   "metadata": {},
   "outputs": [],
   "source": [
    "# Vemos que si bien es creciente, no hay nada raro en el std del 201612."
   ]
  },
  {
   "cell_type": "code",
   "execution_count": null,
   "metadata": {},
   "outputs": [],
   "source": []
  },
  {
   "cell_type": "markdown",
   "metadata": {},
   "source": [
    "<hr>\n",
    "\n",
    "# Pre procesamiento de datasets externos\n",
    "### Cotizacion USD"
   ]
  },
  {
   "cell_type": "code",
   "execution_count": 9,
   "metadata": {},
   "outputs": [],
   "source": [
    "usd = pd.read_csv('external_datasets/usd_mxn_diario.csv')"
   ]
  },
  {
   "cell_type": "markdown",
   "metadata": {},
   "source": [
    "#### funciones aux"
   ]
  },
  {
   "cell_type": "code",
   "execution_count": 10,
   "metadata": {},
   "outputs": [],
   "source": [
    "def aniomes(x):\n",
    "    anio=x[6:]\n",
    "    mes=x[3:5]\n",
    "    return anio+mes\n",
    "\n",
    "def numeric(x):\n",
    "    entero, fraccion = x.split(',')\n",
    "    return int(entero) + int(fraccion)/10000\n",
    "\n",
    "def varianza(x):\n",
    "    x = x.rstrip('%')\n",
    "    entero, fraccion = x.split(',')\n",
    "    num = entero+\".\"+fraccion\n",
    "    return float(num)"
   ]
  },
  {
   "cell_type": "code",
   "execution_count": 11,
   "metadata": {},
   "outputs": [],
   "source": [
    "usd['aniomes'] = usd['Fecha'].map(aniomes)"
   ]
  },
  {
   "cell_type": "code",
   "execution_count": 12,
   "metadata": {},
   "outputs": [],
   "source": [
    "valores = ['Último', 'Apertura', 'Máximo', 'Mínimo']\n",
    "for valor in valores:\n",
    "    usd[valor] = usd[valor].map(numeric)\n",
    "    \n",
    "usd['usd_varianza'] = usd['% var.'].map(varianza)\n",
    "usd['daily_mean'] = usd.apply(lambda x: (x['Último'] + x['Apertura'])/2, axis=1)"
   ]
  },
  {
   "cell_type": "code",
   "execution_count": 13,
   "metadata": {},
   "outputs": [],
   "source": [
    "usd = usd[['aniomes', 'usd_varianza', 'daily_mean']]"
   ]
  },
  {
   "cell_type": "code",
   "execution_count": 14,
   "metadata": {},
   "outputs": [],
   "source": [
    "usd = usd.groupby('aniomes')['usd_varianza', 'daily_mean'].agg({'usd_varianza':'sum', 'daily_mean':'mean'})"
   ]
  },
  {
   "cell_type": "code",
   "execution_count": 15,
   "metadata": {},
   "outputs": [
    {
     "data": {
      "text/html": [
       "<div>\n",
       "<style scoped>\n",
       "    .dataframe tbody tr th:only-of-type {\n",
       "        vertical-align: middle;\n",
       "    }\n",
       "\n",
       "    .dataframe tbody tr th {\n",
       "        vertical-align: top;\n",
       "    }\n",
       "\n",
       "    .dataframe thead th {\n",
       "        text-align: right;\n",
       "    }\n",
       "</style>\n",
       "<table border=\"1\" class=\"dataframe\">\n",
       "  <thead>\n",
       "    <tr style=\"text-align: right;\">\n",
       "      <th></th>\n",
       "      <th>usd_varianza</th>\n",
       "      <th>daily_mean</th>\n",
       "    </tr>\n",
       "    <tr>\n",
       "      <th>aniomes</th>\n",
       "      <th></th>\n",
       "      <th></th>\n",
       "    </tr>\n",
       "  </thead>\n",
       "  <tbody>\n",
       "    <tr>\n",
       "      <td>201201</td>\n",
       "      <td>-6.71</td>\n",
       "      <td>13.419316</td>\n",
       "    </tr>\n",
       "    <tr>\n",
       "      <td>201202</td>\n",
       "      <td>-1.50</td>\n",
       "      <td>12.789329</td>\n",
       "    </tr>\n",
       "    <tr>\n",
       "      <td>201203</td>\n",
       "      <td>-0.27</td>\n",
       "      <td>12.734559</td>\n",
       "    </tr>\n",
       "    <tr>\n",
       "      <td>201204</td>\n",
       "      <td>1.67</td>\n",
       "      <td>13.047955</td>\n",
       "    </tr>\n",
       "    <tr>\n",
       "      <td>201205</td>\n",
       "      <td>9.99</td>\n",
       "      <td>13.630126</td>\n",
       "    </tr>\n",
       "  </tbody>\n",
       "</table>\n",
       "</div>"
      ],
      "text/plain": [
       "         usd_varianza  daily_mean\n",
       "aniomes                          \n",
       "201201          -6.71   13.419316\n",
       "201202          -1.50   12.789329\n",
       "201203          -0.27   12.734559\n",
       "201204           1.67   13.047955\n",
       "201205           9.99   13.630126"
      ]
     },
     "execution_count": 15,
     "metadata": {},
     "output_type": "execute_result"
    }
   ],
   "source": [
    "usd.head()"
   ]
  },
  {
   "cell_type": "code",
   "execution_count": 16,
   "metadata": {},
   "outputs": [],
   "source": [
    "usd.to_csv('data/usd_mxn_featured.csv')"
   ]
  },
  {
   "cell_type": "code",
   "execution_count": null,
   "metadata": {},
   "outputs": [],
   "source": []
  },
  {
   "cell_type": "code",
   "execution_count": null,
   "metadata": {},
   "outputs": [],
   "source": []
  },
  {
   "cell_type": "markdown",
   "metadata": {},
   "source": [
    "# Volcanes"
   ]
  },
  {
   "cell_type": "code",
   "execution_count": 4,
   "metadata": {},
   "outputs": [],
   "source": [
    "df = pd.read_csv('external_datasets/volcanes.csv')"
   ]
  },
  {
   "cell_type": "code",
   "execution_count": 5,
   "metadata": {},
   "outputs": [],
   "source": [
    "df = df[['properties/OBJECTID', 'properties/LAT', 'properties/LONG_']]"
   ]
  },
  {
   "cell_type": "code",
   "execution_count": 6,
   "metadata": {},
   "outputs": [],
   "source": [
    "df.columns = ['id', 'lat', 'long']"
   ]
  },
  {
   "cell_type": "code",
   "execution_count": 7,
   "metadata": {},
   "outputs": [],
   "source": [
    "df.set_index('id', inplace=True)"
   ]
  },
  {
   "cell_type": "code",
   "execution_count": 29,
   "metadata": {},
   "outputs": [
    {
     "data": {
      "text/html": [
       "<div>\n",
       "<style scoped>\n",
       "    .dataframe tbody tr th:only-of-type {\n",
       "        vertical-align: middle;\n",
       "    }\n",
       "\n",
       "    .dataframe tbody tr th {\n",
       "        vertical-align: top;\n",
       "    }\n",
       "\n",
       "    .dataframe thead th {\n",
       "        text-align: right;\n",
       "    }\n",
       "</style>\n",
       "<table border=\"1\" class=\"dataframe\">\n",
       "  <thead>\n",
       "    <tr style=\"text-align: right;\">\n",
       "      <th></th>\n",
       "      <th>lat</th>\n",
       "      <th>long</th>\n",
       "    </tr>\n",
       "    <tr>\n",
       "      <th>id</th>\n",
       "      <th></th>\n",
       "      <th></th>\n",
       "    </tr>\n",
       "  </thead>\n",
       "  <tbody>\n",
       "    <tr>\n",
       "      <td>19</td>\n",
       "      <td>19.030365</td>\n",
       "      <td>-97.268213</td>\n",
       "    </tr>\n",
       "    <tr>\n",
       "      <td>20</td>\n",
       "      <td>18.562021</td>\n",
       "      <td>-95.198504</td>\n",
       "    </tr>\n",
       "    <tr>\n",
       "      <td>21</td>\n",
       "      <td>19.493241</td>\n",
       "      <td>-102.251431</td>\n",
       "    </tr>\n",
       "    <tr>\n",
       "      <td>22</td>\n",
       "      <td>18.973674</td>\n",
       "      <td>-101.717852</td>\n",
       "    </tr>\n",
       "    <tr>\n",
       "      <td>23</td>\n",
       "      <td>19.308206</td>\n",
       "      <td>-110.806474</td>\n",
       "    </tr>\n",
       "    <tr>\n",
       "      <td>...</td>\n",
       "      <td>...</td>\n",
       "      <td>...</td>\n",
       "    </tr>\n",
       "    <tr>\n",
       "      <td>62</td>\n",
       "      <td>20.830000</td>\n",
       "      <td>-104.820000</td>\n",
       "    </tr>\n",
       "    <tr>\n",
       "      <td>59</td>\n",
       "      <td>28.500000</td>\n",
       "      <td>-113.750000</td>\n",
       "    </tr>\n",
       "    <tr>\n",
       "      <td>54</td>\n",
       "      <td>29.338829</td>\n",
       "      <td>-114.517599</td>\n",
       "    </tr>\n",
       "    <tr>\n",
       "      <td>9</td>\n",
       "      <td>21.849758</td>\n",
       "      <td>-105.885230</td>\n",
       "    </tr>\n",
       "    <tr>\n",
       "      <td>60</td>\n",
       "      <td>18.303998</td>\n",
       "      <td>-94.730072</td>\n",
       "    </tr>\n",
       "  </tbody>\n",
       "</table>\n",
       "<p>67 rows × 2 columns</p>\n",
       "</div>"
      ],
      "text/plain": [
       "          lat        long\n",
       "id                       \n",
       "19  19.030365  -97.268213\n",
       "20  18.562021  -95.198504\n",
       "21  19.493241 -102.251431\n",
       "22  18.973674 -101.717852\n",
       "23  19.308206 -110.806474\n",
       "..        ...         ...\n",
       "62  20.830000 -104.820000\n",
       "59  28.500000 -113.750000\n",
       "54  29.338829 -114.517599\n",
       "9   21.849758 -105.885230\n",
       "60  18.303998  -94.730072\n",
       "\n",
       "[67 rows x 2 columns]"
      ]
     },
     "execution_count": 29,
     "metadata": {},
     "output_type": "execute_result"
    }
   ],
   "source": [
    "df"
   ]
  },
  {
   "cell_type": "code",
   "execution_count": 8,
   "metadata": {},
   "outputs": [],
   "source": [
    "df.to_csv('data/volcanes_featured.csv')"
   ]
  },
  {
   "cell_type": "code",
   "execution_count": null,
   "metadata": {},
   "outputs": [],
   "source": []
  },
  {
   "cell_type": "markdown",
   "metadata": {},
   "source": [
    "# Llenado de valores nulos en tipo de propiedad\n",
    "Funcion que es llamada desde feature_generation"
   ]
  },
  {
   "cell_type": "code",
   "execution_count": 2,
   "metadata": {},
   "outputs": [],
   "source": [
    "def buscar_tipo(x):\n",
    "    lista = ['casas', 'departamento', 'casa', 'terrenos', 'terreno', 'departamentos',\n",
    "             'apartamento', 'apartamentos', 'comercio', 'locales', 'condominio', 'residencia']\n",
    "    palabras = x.lower().split(' ')\n",
    "    categorias=[]\n",
    "    for palabra in palabras:\n",
    "        if palabra in lista:\n",
    "            categorias.append(palabra)\n",
    "    if len(categorias)==0:\n",
    "        return ['Otros']\n",
    "    elif len(categorias)>1:\n",
    "        return casas_condominio(categorias)\n",
    "    return categorias\n",
    "\n",
    "def casas_condominio(lista):\n",
    "    for palabra in lista:\n",
    "        if palabra == 'condominio':\n",
    "            return ['condominio']\n",
    "    return lista\n",
    "\n",
    "def translate_tiposdepropiedad(x):\n",
    "    translate = {'casas':'Casa', 'departamento':'Apartamento', 'casa':'Casa', 'terrenos':'Terreno',\n",
    "                 'terreno':'Terreno', 'departamentos':'Apartamento', 'apartamento':'Apartamento',\n",
    "                 'apartamentos':'Apartamento', 'comercio':'Comercial', 'locales':'Comercial',\n",
    "                 'condominio':'Casa en condominio', 'residencia':'Casa', 'Otros':'Otros'}\n",
    "    return translate[x]"
   ]
  },
  {
   "cell_type": "code",
   "execution_count": 1,
   "metadata": {},
   "outputs": [],
   "source": [
    "def fill_tipodepropiedad_nulls(nulos):\n",
    "    nulos['tipodepropiedad_titulo'] = nulos['titulo'].map(buscar_tipo)\n",
    "    nulos['tipodepropiedad_titulo'] = nulos['tipodepropiedad_titulo'].map(lambda x: translate_tiposdepropiedad(x[0]))\n",
    "    \n",
    "    return nulos.drop('tipodepropiedad', axis=1)"
   ]
  },
  {
   "cell_type": "code",
   "execution_count": null,
   "metadata": {},
   "outputs": [],
   "source": []
  }
 ],
 "metadata": {
  "kernelspec": {
   "display_name": "Python 3",
   "language": "python",
   "name": "python3"
  },
  "language_info": {
   "codemirror_mode": {
    "name": "ipython",
    "version": 3
   },
   "file_extension": ".py",
   "mimetype": "text/x-python",
   "name": "python",
   "nbconvert_exporter": "python",
   "pygments_lexer": "ipython3",
   "version": "3.6.9"
  }
 },
 "nbformat": 4,
 "nbformat_minor": 4
}
