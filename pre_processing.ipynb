{
 "cells": [
  {
   "cell_type": "markdown",
   "metadata": {},
   "source": [
    "# pre_processing"
   ]
  },
  {
   "cell_type": "code",
   "execution_count": 1,
   "metadata": {},
   "outputs": [],
   "source": [
    "import pandas as pd"
   ]
  },
  {
   "cell_type": "code",
   "execution_count": 2,
   "metadata": {},
   "outputs": [],
   "source": [
    "def load_appended_dataset():\n",
    "    \"\"\"Carga ambos dataframes (train y test) y devuelve un solo dataframe que es el resultado de realizar un\n",
    "    append entre ambos. El dataset de test esta al final.\"\"\"\n",
    "\n",
    "    train = pd.read_csv('./data/train.csv', index_col='id', parse_dates=['fecha'])\n",
    "    test = pd.read_csv('./data/test.csv', index_col='id', parse_dates=['fecha'])\n",
    "    df = train.append(test, sort=False)\n",
    "    df = df[['titulo', 'descripcion', 'direccion', 'tipodepropiedad', 'ciudad', 'provincia', 'antiguedad',\n",
    "         'habitaciones', 'garages', 'banos', 'metroscubiertos', 'metrostotales', 'idzona', 'fecha',\n",
    "         'gimnasio', 'usosmultiples', 'piscina', 'escuelascercanas', 'centroscomercialescercanos', 'precio']]\n",
    "    \n",
    "    whitelist_tipodepropiedad = df['tipodepropiedad'].value_counts().index.to_list()[:9]\n",
    "    df['tipodepropiedad'] = df['tipodepropiedad'].apply(lambda x: x if x in whitelist_tipodepropiedad else 'Otro') \n",
    "    \n",
    "    whitelist_ciudad = df['ciudad'].value_counts().index.to_list()[:80]\n",
    "    df['ciudad'] = df['ciudad'].apply(lambda x: x if x in whitelist_ciudad else 'Otro')\n",
    "    \n",
    "    categoricas = ['tipodepropiedad', 'ciudad', 'provincia']\n",
    "    df[categoricas] = df[categoricas].fillna('unknown')\n",
    "    df[categoricas] = df[categoricas].astype('category')\n",
    "    enteras = ['gimnasio', 'usosmultiples', 'piscina', 'escuelascercanas', 'centroscomercialescercanos']\n",
    "    df[enteras] = df[enteras].astype('int8')\n",
    "    \n",
    "    return df"
   ]
  },
  {
   "cell_type": "code",
   "execution_count": 3,
   "metadata": {},
   "outputs": [],
   "source": [
    "def separate_train_test(df):\n",
    "    \"\"\"Separa df compuesto por sus primeras 240.000 filas de train.csv y sus 60.000 ultimas filas de test\n",
    "    en los dos dataframes correspondientes.\"\"\"\n",
    "    \n",
    "    train = df.head(240000)\n",
    "    test = df.tail(60000).drop('precio', axis=1)\n",
    "    return train, test"
   ]
  },
  {
   "cell_type": "code",
   "execution_count": 4,
   "metadata": {},
   "outputs": [],
   "source": [
    "def load_datasets():\n",
    "    \"\"\"Carga ambos dataframes (train y test) y devuelve dos datasets en el formato:\n",
    "    train_df, test_df\"\"\"\n",
    "    \n",
    "    df = load_appended_dataset()\n",
    "    return separate_train_test(df)"
   ]
  }
 ],
 "metadata": {
  "kernelspec": {
   "display_name": "Python 3",
   "language": "python",
   "name": "python3"
  },
  "language_info": {
   "codemirror_mode": {
    "name": "ipython",
    "version": 3
   },
   "file_extension": ".py",
   "mimetype": "text/x-python",
   "name": "python",
   "nbconvert_exporter": "python",
   "pygments_lexer": "ipython3",
   "version": "3.6.8"
  }
 },
 "nbformat": 4,
 "nbformat_minor": 4
}
