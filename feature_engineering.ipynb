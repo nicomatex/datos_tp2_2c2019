{
 "cells": [
  {
   "cell_type": "markdown",
   "metadata": {},
   "source": [
    "# Feature Engineering"
   ]
  },
  {
   "cell_type": "code",
   "execution_count": 14,
   "metadata": {},
   "outputs": [],
   "source": [
    "import pandas as pd\n",
    "from datetime import datetime\n",
    "\n",
    "from sklearn.preprocessing import LabelEncoder\n",
    "import category_encoders as ce"
   ]
  },
  {
   "cell_type": "code",
   "execution_count": 15,
   "metadata": {},
   "outputs": [],
   "source": [
    "import nbimporter\n",
    "from pre_processing import load_train"
   ]
  },
  {
   "cell_type": "markdown",
   "metadata": {},
   "source": [
    "### Funciones auxiliares"
   ]
  },
  {
   "cell_type": "code",
   "execution_count": 16,
   "metadata": {},
   "outputs": [],
   "source": [
    "def corr(df):\n",
    "    return df.corr()['precio'].sort_values(ascending=False)[1:]"
   ]
  },
  {
   "cell_type": "code",
   "execution_count": 17,
   "metadata": {},
   "outputs": [],
   "source": [
    "def aniomes(anio, mes):\n",
    "    if len(str(mes)) == 1:\n",
    "        return int(str(anio)+'0'+str(mes))\n",
    "    return int(str(anio)+str(mes))"
   ]
  },
  {
   "cell_type": "code",
   "execution_count": 18,
   "metadata": {},
   "outputs": [],
   "source": [
    "def contiene_indicador_jardin(descripcion):\n",
    "    indicadores = [\"jardin\",\"patio\"]\n",
    "    for indicador in indicadores:\n",
    "        if indicador in str(descripcion).lower():\n",
    "            return 1\n",
    "    return 0"
   ]
  },
  {
   "cell_type": "code",
   "execution_count": 19,
   "metadata": {},
   "outputs": [],
   "source": [
    "def contiene_vigilancia(descripcion):\n",
    "    indicadores = [\"vigilancia\", \"seguridad\"]\n",
    "    for indicador in indicadores:\n",
    "        if indicador in str(descripcion).lower():\n",
    "            return 1\n",
    "    return 0"
   ]
  },
  {
   "cell_type": "markdown",
   "metadata": {},
   "source": [
    "# Desarollo"
   ]
  },
  {
   "cell_type": "code",
   "execution_count": 20,
   "metadata": {},
   "outputs": [],
   "source": [
    "df = load_train()"
   ]
  },
  {
   "cell_type": "code",
   "execution_count": 21,
   "metadata": {},
   "outputs": [
    {
     "data": {
      "text/html": [
       "<div>\n",
       "<style scoped>\n",
       "    .dataframe tbody tr th:only-of-type {\n",
       "        vertical-align: middle;\n",
       "    }\n",
       "\n",
       "    .dataframe tbody tr th {\n",
       "        vertical-align: top;\n",
       "    }\n",
       "\n",
       "    .dataframe thead th {\n",
       "        text-align: right;\n",
       "    }\n",
       "</style>\n",
       "<table border=\"1\" class=\"dataframe\">\n",
       "  <thead>\n",
       "    <tr style=\"text-align: right;\">\n",
       "      <th></th>\n",
       "      <th>titulo</th>\n",
       "      <th>descripcion</th>\n",
       "      <th>direccion</th>\n",
       "      <th>tipodepropiedad</th>\n",
       "      <th>ciudad</th>\n",
       "      <th>provincia</th>\n",
       "      <th>antiguedad</th>\n",
       "      <th>habitaciones</th>\n",
       "      <th>garages</th>\n",
       "      <th>banos</th>\n",
       "      <th>metroscubiertos</th>\n",
       "      <th>metrostotales</th>\n",
       "      <th>idzona</th>\n",
       "      <th>fecha</th>\n",
       "      <th>gimnasio</th>\n",
       "      <th>usosmultiples</th>\n",
       "      <th>piscina</th>\n",
       "      <th>escuelascercanas</th>\n",
       "      <th>centroscomercialescercanos</th>\n",
       "      <th>precio</th>\n",
       "    </tr>\n",
       "    <tr>\n",
       "      <th>id</th>\n",
       "      <th></th>\n",
       "      <th></th>\n",
       "      <th></th>\n",
       "      <th></th>\n",
       "      <th></th>\n",
       "      <th></th>\n",
       "      <th></th>\n",
       "      <th></th>\n",
       "      <th></th>\n",
       "      <th></th>\n",
       "      <th></th>\n",
       "      <th></th>\n",
       "      <th></th>\n",
       "      <th></th>\n",
       "      <th></th>\n",
       "      <th></th>\n",
       "      <th></th>\n",
       "      <th></th>\n",
       "      <th></th>\n",
       "      <th></th>\n",
       "    </tr>\n",
       "  </thead>\n",
       "  <tbody>\n",
       "    <tr>\n",
       "      <td>254099</td>\n",
       "      <td>depto. tipo a-402</td>\n",
       "      <td>depto. interior de 80.15m2, consta de sala com...</td>\n",
       "      <td>Avenida Division del Norte 2005</td>\n",
       "      <td>Apartamento</td>\n",
       "      <td>Benito Juárez</td>\n",
       "      <td>Distrito Federal</td>\n",
       "      <td>NaN</td>\n",
       "      <td>2.0</td>\n",
       "      <td>1.0</td>\n",
       "      <td>2.0</td>\n",
       "      <td>80.0</td>\n",
       "      <td>80.0</td>\n",
       "      <td>23533.0</td>\n",
       "      <td>2015-08-23</td>\n",
       "      <td>0</td>\n",
       "      <td>0</td>\n",
       "      <td>0</td>\n",
       "      <td>0</td>\n",
       "      <td>0</td>\n",
       "      <td>2273000.0</td>\n",
       "    </tr>\n",
       "    <tr>\n",
       "      <td>53461</td>\n",
       "      <td>condominio horizontal en venta</td>\n",
       "      <td>&lt;p&gt;entre sonora y guerrero, atr&amp;aacute;s del h...</td>\n",
       "      <td>AV. MEXICO</td>\n",
       "      <td>Casa en condominio</td>\n",
       "      <td>La Magdalena Contreras</td>\n",
       "      <td>Distrito Federal</td>\n",
       "      <td>10.0</td>\n",
       "      <td>3.0</td>\n",
       "      <td>2.0</td>\n",
       "      <td>2.0</td>\n",
       "      <td>268.0</td>\n",
       "      <td>180.0</td>\n",
       "      <td>24514.0</td>\n",
       "      <td>2013-06-28</td>\n",
       "      <td>0</td>\n",
       "      <td>0</td>\n",
       "      <td>0</td>\n",
       "      <td>1</td>\n",
       "      <td>1</td>\n",
       "      <td>3600000.0</td>\n",
       "    </tr>\n",
       "  </tbody>\n",
       "</table>\n",
       "</div>"
      ],
      "text/plain": [
       "                                titulo  \\\n",
       "id                                       \n",
       "254099               depto. tipo a-402   \n",
       "53461   condominio horizontal en venta   \n",
       "\n",
       "                                              descripcion  \\\n",
       "id                                                          \n",
       "254099  depto. interior de 80.15m2, consta de sala com...   \n",
       "53461   <p>entre sonora y guerrero, atr&aacute;s del h...   \n",
       "\n",
       "                              direccion     tipodepropiedad  \\\n",
       "id                                                            \n",
       "254099  Avenida Division del Norte 2005         Apartamento   \n",
       "53461                        AV. MEXICO  Casa en condominio   \n",
       "\n",
       "                        ciudad         provincia  antiguedad  habitaciones  \\\n",
       "id                                                                           \n",
       "254099           Benito Juárez  Distrito Federal         NaN           2.0   \n",
       "53461   La Magdalena Contreras  Distrito Federal        10.0           3.0   \n",
       "\n",
       "        garages  banos  metroscubiertos  metrostotales   idzona      fecha  \\\n",
       "id                                                                           \n",
       "254099      1.0    2.0             80.0           80.0  23533.0 2015-08-23   \n",
       "53461       2.0    2.0            268.0          180.0  24514.0 2013-06-28   \n",
       "\n",
       "        gimnasio  usosmultiples  piscina  escuelascercanas  \\\n",
       "id                                                           \n",
       "254099         0              0        0                 0   \n",
       "53461          0              0        0                 1   \n",
       "\n",
       "        centroscomercialescercanos     precio  \n",
       "id                                             \n",
       "254099                           0  2273000.0  \n",
       "53461                            1  3600000.0  "
      ]
     },
     "execution_count": 21,
     "metadata": {},
     "output_type": "execute_result"
    }
   ],
   "source": [
    "df.head(2)"
   ]
  },
  {
   "cell_type": "code",
   "execution_count": 22,
   "metadata": {},
   "outputs": [],
   "source": [
    "features = {}\n",
    "features['originales'] = df.columns.values"
   ]
  },
  {
   "cell_type": "markdown",
   "metadata": {},
   "source": [
    "### Variables categoricas. Encoding."
   ]
  },
  {
   "cell_type": "code",
   "execution_count": 23,
   "metadata": {},
   "outputs": [],
   "source": [
    "var_categoricas = ['tipodepropiedad', 'ciudad', 'provincia']"
   ]
  },
  {
   "cell_type": "code",
   "execution_count": 24,
   "metadata": {
    "scrolled": true
   },
   "outputs": [],
   "source": [
    "# label encoding\n",
    "encoder = LabelEncoder()\n",
    "encoded = df[var_categoricas].apply(encoder.fit_transform).add_suffix(\"_labelencoded\")\n",
    "encoded.to_csv('./features/categoricas_labelencoded.csv')\n",
    "features['categoricas_labelencoded'] = encoded.columns.values"
   ]
  },
  {
   "cell_type": "code",
   "execution_count": 25,
   "metadata": {
    "scrolled": true
   },
   "outputs": [],
   "source": [
    "# onehot \n",
    "\n",
    "# para tipodepropiedad\n",
    "encoder = ce.OneHotEncoder()\n",
    "encoded = encoder.fit_transform(df['tipodepropiedad']).add_suffix(\"_ohencoded\")\n",
    "encoded.to_csv('./features/tipodepropiedad_ohencoded.csv')\n",
    "features['tipodepropiedad_ohencoded'] = encoded.columns.values\n",
    "\n",
    "# para provincias\n",
    "encoder = ce.OneHotEncoder()\n",
    "encoded = encoder.fit_transform(df['provincia']).add_suffix(\"_ohencoded\")\n",
    "encoded.to_csv('./features/provincia_ohencoded.csv')\n",
    "features['provincia_ohencoded'] = encoded.columns.values\n",
    "\n",
    "# para ciudades\n",
    "encoder = ce.OneHotEncoder()\n",
    "encoded = encoder.fit_transform(df['ciudad']).add_suffix(\"_ohencoded\")\n",
    "encoded.to_csv('./features/ciudad_ohencoded.csv')\n",
    "features['ciudad_ohencoded'] = encoded.columns.values"
   ]
  },
  {
   "cell_type": "markdown",
   "metadata": {},
   "source": [
    "### Generacion de nuevas features"
   ]
  },
  {
   "cell_type": "code",
   "execution_count": 26,
   "metadata": {
    "scrolled": true
   },
   "outputs": [
    {
     "data": {
      "text/plain": [
       "Index(['titulo', 'descripcion', 'direccion', 'tipodepropiedad', 'ciudad',\n",
       "       'provincia', 'antiguedad', 'habitaciones', 'garages', 'banos',\n",
       "       'metroscubiertos', 'metrostotales', 'idzona', 'fecha', 'gimnasio',\n",
       "       'usosmultiples', 'piscina', 'escuelascercanas',\n",
       "       'centroscomercialescercanos', 'precio'],\n",
       "      dtype='object')"
      ]
     },
     "execution_count": 26,
     "metadata": {},
     "output_type": "execute_result"
    }
   ],
   "source": [
    "df.columns"
   ]
  },
  {
   "cell_type": "markdown",
   "metadata": {},
   "source": [
    "##### FECHA"
   ]
  },
  {
   "cell_type": "code",
   "execution_count": 27,
   "metadata": {
    "scrolled": true
   },
   "outputs": [],
   "source": [
    "df_fecha = df[['fecha', 'precio', 'metroscubiertos']].copy()\n",
    "\n",
    "df_fecha['anio'] = df_fecha['fecha'].dt.year\n",
    "df_fecha['mes'] = df_fecha['fecha'].dt.month\n",
    "df_fecha['dia'] = df_fecha['fecha'].dt.day\n",
    "df_fecha['timestamp'] = df_fecha['fecha'].apply(lambda x: datetime.timestamp(x))\n",
    "df_fecha['aniomes'] = df_fecha.apply(lambda row: aniomes(row['anio'], row['mes']), axis=1)"
   ]
  },
  {
   "cell_type": "code",
   "execution_count": 28,
   "metadata": {},
   "outputs": [],
   "source": [
    "# calculamos el precio promedio del metro cubierto por aniomes\n",
    "precio_mtcubierto_aniomes = df_fecha.groupby(['aniomes'])['metroscubiertos', 'precio'].agg(sum).apply(lambda x: x['precio']/x['metroscubiertos'], axis=1)\n",
    "df_fecha['precio_promedio_metrocubierto_aniomes'] = df_fecha['aniomes'].apply(lambda x: precio_mtcubierto_aniomes[x])"
   ]
  },
  {
   "cell_type": "code",
   "execution_count": 63,
   "metadata": {},
   "outputs": [],
   "source": [
    "# calculamos el precio promedio del metro cubierto por mes\n",
    "precio_mtcubierto_mes = df_fecha.groupby(['mes'])['metroscubiertos', 'precio'].agg(sum).apply(lambda x: x['precio']/x['metroscubiertos'], axis=1)\n",
    "df_fecha['precio_promedio_metrocubierto_mes'] = df_fecha['mes'].apply(lambda x: precio_mtcubierto_mes[x])"
   ]
  },
  {
   "cell_type": "code",
   "execution_count": 64,
   "metadata": {},
   "outputs": [],
   "source": [
    "df_fecha = df_fecha.drop(['precio', 'metroscubiertos'], axis=1)\n",
    "pasar_a_enteros = ['precio_promedio_metrocubierto_mes', 'precio_promedio_metrocubierto_aniomes']\n",
    "df_fecha[pasar_a_enteros] = df_fecha[pasar_a_enteros].astype('uint16')"
   ]
  },
  {
   "cell_type": "code",
   "execution_count": 65,
   "metadata": {},
   "outputs": [],
   "source": [
    "df_fecha.to_csv('./features/fecha.csv')\n",
    "features['fecha'] = df_fecha.columns.values"
   ]
  },
  {
   "cell_type": "code",
   "execution_count": 66,
   "metadata": {
    "scrolled": true
   },
   "outputs": [],
   "source": [
    "encoder = ce.OneHotEncoder()\n",
    "encoded = encoder.fit_transform(df_fecha['aniomes'].astype('category')).add_suffix(\"_ohencoded\")\n",
    "encoded.to_csv('./features/aniomes_ohencoded.csv')\n",
    "features['aniomes_ohencoded'] = encoded.columns.values"
   ]
  },
  {
   "cell_type": "code",
   "execution_count": 67,
   "metadata": {},
   "outputs": [
    {
     "data": {
      "text/html": [
       "<div>\n",
       "<style scoped>\n",
       "    .dataframe tbody tr th:only-of-type {\n",
       "        vertical-align: middle;\n",
       "    }\n",
       "\n",
       "    .dataframe tbody tr th {\n",
       "        vertical-align: top;\n",
       "    }\n",
       "\n",
       "    .dataframe thead th {\n",
       "        text-align: right;\n",
       "    }\n",
       "</style>\n",
       "<table border=\"1\" class=\"dataframe\">\n",
       "  <thead>\n",
       "    <tr style=\"text-align: right;\">\n",
       "      <th></th>\n",
       "      <th>fecha</th>\n",
       "      <th>anio</th>\n",
       "      <th>mes</th>\n",
       "      <th>dia</th>\n",
       "      <th>timestamp</th>\n",
       "      <th>aniomes</th>\n",
       "      <th>precio_promedio_metrocubierto_aniomes</th>\n",
       "      <th>precio_promedio_metrocubierto_mes</th>\n",
       "    </tr>\n",
       "    <tr>\n",
       "      <th>id</th>\n",
       "      <th></th>\n",
       "      <th></th>\n",
       "      <th></th>\n",
       "      <th></th>\n",
       "      <th></th>\n",
       "      <th></th>\n",
       "      <th></th>\n",
       "      <th></th>\n",
       "    </tr>\n",
       "  </thead>\n",
       "  <tbody>\n",
       "    <tr>\n",
       "      <td>254099</td>\n",
       "      <td>2015-08-23</td>\n",
       "      <td>2015</td>\n",
       "      <td>8</td>\n",
       "      <td>23</td>\n",
       "      <td>1.440299e+09</td>\n",
       "      <td>201508</td>\n",
       "      <td>16183</td>\n",
       "      <td>15363</td>\n",
       "    </tr>\n",
       "    <tr>\n",
       "      <td>53461</td>\n",
       "      <td>2013-06-28</td>\n",
       "      <td>2013</td>\n",
       "      <td>6</td>\n",
       "      <td>28</td>\n",
       "      <td>1.372388e+09</td>\n",
       "      <td>201306</td>\n",
       "      <td>14297</td>\n",
       "      <td>15521</td>\n",
       "    </tr>\n",
       "    <tr>\n",
       "      <td>247984</td>\n",
       "      <td>2015-10-17</td>\n",
       "      <td>2015</td>\n",
       "      <td>10</td>\n",
       "      <td>17</td>\n",
       "      <td>1.445051e+09</td>\n",
       "      <td>201510</td>\n",
       "      <td>15996</td>\n",
       "      <td>15547</td>\n",
       "    </tr>\n",
       "    <tr>\n",
       "      <td>209067</td>\n",
       "      <td>2012-03-09</td>\n",
       "      <td>2012</td>\n",
       "      <td>3</td>\n",
       "      <td>9</td>\n",
       "      <td>1.331262e+09</td>\n",
       "      <td>201203</td>\n",
       "      <td>13039</td>\n",
       "      <td>15423</td>\n",
       "    </tr>\n",
       "    <tr>\n",
       "      <td>185997</td>\n",
       "      <td>2016-06-07</td>\n",
       "      <td>2016</td>\n",
       "      <td>6</td>\n",
       "      <td>7</td>\n",
       "      <td>1.465268e+09</td>\n",
       "      <td>201606</td>\n",
       "      <td>16142</td>\n",
       "      <td>15521</td>\n",
       "    </tr>\n",
       "  </tbody>\n",
       "</table>\n",
       "</div>"
      ],
      "text/plain": [
       "            fecha  anio  mes  dia     timestamp  aniomes  \\\n",
       "id                                                         \n",
       "254099 2015-08-23  2015    8   23  1.440299e+09   201508   \n",
       "53461  2013-06-28  2013    6   28  1.372388e+09   201306   \n",
       "247984 2015-10-17  2015   10   17  1.445051e+09   201510   \n",
       "209067 2012-03-09  2012    3    9  1.331262e+09   201203   \n",
       "185997 2016-06-07  2016    6    7  1.465268e+09   201606   \n",
       "\n",
       "        precio_promedio_metrocubierto_aniomes  \\\n",
       "id                                              \n",
       "254099                                  16183   \n",
       "53461                                   14297   \n",
       "247984                                  15996   \n",
       "209067                                  13039   \n",
       "185997                                  16142   \n",
       "\n",
       "        precio_promedio_metrocubierto_mes  \n",
       "id                                         \n",
       "254099                              15363  \n",
       "53461                               15521  \n",
       "247984                              15547  \n",
       "209067                              15423  \n",
       "185997                              15521  "
      ]
     },
     "execution_count": 67,
     "metadata": {},
     "output_type": "execute_result"
    }
   ],
   "source": [
    "df_fecha.head()"
   ]
  },
  {
   "cell_type": "markdown",
   "metadata": {},
   "source": [
    "##### DESCRIPCION"
   ]
  },
  {
   "cell_type": "code",
   "execution_count": 29,
   "metadata": {
    "scrolled": true
   },
   "outputs": [
    {
     "data": {
      "text/plain": [
       "Index(['titulo', 'descripcion', 'direccion', 'tipodepropiedad', 'ciudad',\n",
       "       'provincia', 'antiguedad', 'habitaciones', 'garages', 'banos',\n",
       "       'metroscubiertos', 'metrostotales', 'idzona', 'fecha', 'gimnasio',\n",
       "       'usosmultiples', 'piscina', 'escuelascercanas',\n",
       "       'centroscomercialescercanos', 'precio'],\n",
       "      dtype='object')"
      ]
     },
     "execution_count": 29,
     "metadata": {},
     "output_type": "execute_result"
    }
   ],
   "source": [
    "df.columns"
   ]
  },
  {
   "cell_type": "code",
   "execution_count": 30,
   "metadata": {},
   "outputs": [],
   "source": [
    "df_descripcion = df[['descripcion']].copy()\n",
    "\n",
    "df_descripcion[\"jardin\"] = df_descripcion[\"descripcion\"].map(contiene_indicador_jardin)\n",
    "df_descripcion[\"vigilancia\"] = df_descripcion[\"descripcion\"].map(contiene_vigilancia)"
   ]
  },
  {
   "cell_type": "code",
   "execution_count": 31,
   "metadata": {},
   "outputs": [
    {
     "data": {
      "text/html": [
       "<div>\n",
       "<style scoped>\n",
       "    .dataframe tbody tr th:only-of-type {\n",
       "        vertical-align: middle;\n",
       "    }\n",
       "\n",
       "    .dataframe tbody tr th {\n",
       "        vertical-align: top;\n",
       "    }\n",
       "\n",
       "    .dataframe thead th {\n",
       "        text-align: right;\n",
       "    }\n",
       "</style>\n",
       "<table border=\"1\" class=\"dataframe\">\n",
       "  <thead>\n",
       "    <tr style=\"text-align: right;\">\n",
       "      <th></th>\n",
       "      <th>descripcion</th>\n",
       "      <th>jardin</th>\n",
       "      <th>vigilancia</th>\n",
       "    </tr>\n",
       "    <tr>\n",
       "      <th>id</th>\n",
       "      <th></th>\n",
       "      <th></th>\n",
       "      <th></th>\n",
       "    </tr>\n",
       "  </thead>\n",
       "  <tbody>\n",
       "    <tr>\n",
       "      <td>254099</td>\n",
       "      <td>depto. interior de 80.15m2, consta de sala com...</td>\n",
       "      <td>0</td>\n",
       "      <td>0</td>\n",
       "    </tr>\n",
       "    <tr>\n",
       "      <td>53461</td>\n",
       "      <td>&lt;p&gt;entre sonora y guerrero, atr&amp;aacute;s del h...</td>\n",
       "      <td>0</td>\n",
       "      <td>0</td>\n",
       "    </tr>\n",
       "  </tbody>\n",
       "</table>\n",
       "</div>"
      ],
      "text/plain": [
       "                                              descripcion  jardin  vigilancia\n",
       "id                                                                           \n",
       "254099  depto. interior de 80.15m2, consta de sala com...       0           0\n",
       "53461   <p>entre sonora y guerrero, atr&aacute;s del h...       0           0"
      ]
     },
     "execution_count": 31,
     "metadata": {},
     "output_type": "execute_result"
    }
   ],
   "source": [
    "df_descripcion.head(2)"
   ]
  },
  {
   "cell_type": "code",
   "execution_count": 32,
   "metadata": {},
   "outputs": [],
   "source": [
    "df_descripcion.drop('descripcion', inplace=True, axis=1)\n",
    "df_descripcion.to_csv('./features/descripcion.csv')\n",
    "features['descripcion'] = df_descripcion.columns.values"
   ]
  },
  {
   "cell_type": "markdown",
   "metadata": {},
   "source": [
    "Promedio y desvio estandar de superficie cubierta en la ciudad"
   ]
  },
  {
   "cell_type": "code",
   "execution_count": 52,
   "metadata": {},
   "outputs": [],
   "source": [
    "df_superficie_cubierta = df[['metroscubiertos','ciudad']].copy().reset_index()"
   ]
  },
  {
   "cell_type": "code",
   "execution_count": 53,
   "metadata": {},
   "outputs": [],
   "source": [
    "avg_metroscubiertos = df_superficie_cubierta.groupby('ciudad').agg({\"metroscubiertos\":[\"mean\",\"std\"]}).reset_index()\n",
    "avg_metroscubiertos.columns = ['ciudad','metroscubiertos_mean','metroscubiertos_std']"
   ]
  },
  {
   "cell_type": "code",
   "execution_count": 54,
   "metadata": {},
   "outputs": [],
   "source": [
    "df_superficie_cubierta_mean_std = pd.merge(df_superficie_cubierta,avg_metroscubiertos,how='inner',on='ciudad').set_index('id')"
   ]
  },
  {
   "cell_type": "code",
   "execution_count": 55,
   "metadata": {},
   "outputs": [],
   "source": [
    "df_superficie_cubierta_mean_std = df_superficie_cubierta_mean_std[[\"metroscubiertos_mean\",\"metroscubiertos_std\"]]"
   ]
  },
  {
   "cell_type": "code",
   "execution_count": 56,
   "metadata": {},
   "outputs": [],
   "source": [
    "df_superficie_cubierta_mean_std.to_csv('./features/superficie_mean_std.csv')"
   ]
  },
  {
   "cell_type": "markdown",
   "metadata": {},
   "source": [
    "Promedio y desvio estandar de antiguedad cubierta en la ciudad"
   ]
  },
  {
   "cell_type": "code",
   "execution_count": 45,
   "metadata": {},
   "outputs": [],
   "source": [
    "df_antiguedad = df[['antiguedad','ciudad']].copy().reset_index()"
   ]
  },
  {
   "cell_type": "code",
   "execution_count": 46,
   "metadata": {},
   "outputs": [],
   "source": [
    "avg_antiguedad = df_antiguedad.groupby('ciudad').agg({\"antiguedad\":[\"mean\",\"std\"]}).reset_index()\n",
    "avg_antiguedad.columns = ['ciudad','antiguedad_mean','antiguedad_std']"
   ]
  },
  {
   "cell_type": "code",
   "execution_count": 47,
   "metadata": {},
   "outputs": [],
   "source": [
    "df_antiguedad_mean_std = pd.merge(df_antiguedad,avg_antiguedad,how='inner',on='ciudad').set_index('id')"
   ]
  },
  {
   "cell_type": "code",
   "execution_count": 49,
   "metadata": {},
   "outputs": [
    {
     "data": {
      "text/html": [
       "<div>\n",
       "<style scoped>\n",
       "    .dataframe tbody tr th:only-of-type {\n",
       "        vertical-align: middle;\n",
       "    }\n",
       "\n",
       "    .dataframe tbody tr th {\n",
       "        vertical-align: top;\n",
       "    }\n",
       "\n",
       "    .dataframe thead th {\n",
       "        text-align: right;\n",
       "    }\n",
       "</style>\n",
       "<table border=\"1\" class=\"dataframe\">\n",
       "  <thead>\n",
       "    <tr style=\"text-align: right;\">\n",
       "      <th></th>\n",
       "      <th>antiguedad</th>\n",
       "      <th>ciudad</th>\n",
       "      <th>antiguedad_mean</th>\n",
       "      <th>antiguedad_std</th>\n",
       "    </tr>\n",
       "    <tr>\n",
       "      <th>id</th>\n",
       "      <th></th>\n",
       "      <th></th>\n",
       "      <th></th>\n",
       "      <th></th>\n",
       "    </tr>\n",
       "  </thead>\n",
       "  <tbody>\n",
       "    <tr>\n",
       "      <td>254099</td>\n",
       "      <td>NaN</td>\n",
       "      <td>Benito Juárez</td>\n",
       "      <td>10.569339</td>\n",
       "      <td>12.252472</td>\n",
       "    </tr>\n",
       "    <tr>\n",
       "      <td>130216</td>\n",
       "      <td>20.0</td>\n",
       "      <td>Benito Juárez</td>\n",
       "      <td>10.569339</td>\n",
       "      <td>12.252472</td>\n",
       "    </tr>\n",
       "    <tr>\n",
       "      <td>73348</td>\n",
       "      <td>5.0</td>\n",
       "      <td>Benito Juárez</td>\n",
       "      <td>10.569339</td>\n",
       "      <td>12.252472</td>\n",
       "    </tr>\n",
       "    <tr>\n",
       "      <td>244353</td>\n",
       "      <td>0.0</td>\n",
       "      <td>Benito Juárez</td>\n",
       "      <td>10.569339</td>\n",
       "      <td>12.252472</td>\n",
       "    </tr>\n",
       "    <tr>\n",
       "      <td>237577</td>\n",
       "      <td>6.0</td>\n",
       "      <td>Benito Juárez</td>\n",
       "      <td>10.569339</td>\n",
       "      <td>12.252472</td>\n",
       "    </tr>\n",
       "    <tr>\n",
       "      <td>...</td>\n",
       "      <td>...</td>\n",
       "      <td>...</td>\n",
       "      <td>...</td>\n",
       "      <td>...</td>\n",
       "    </tr>\n",
       "    <tr>\n",
       "      <td>79273</td>\n",
       "      <td>5.0</td>\n",
       "      <td>Bahía de Banderas</td>\n",
       "      <td>3.412826</td>\n",
       "      <td>3.119107</td>\n",
       "    </tr>\n",
       "    <tr>\n",
       "      <td>204615</td>\n",
       "      <td>5.0</td>\n",
       "      <td>Bahía de Banderas</td>\n",
       "      <td>3.412826</td>\n",
       "      <td>3.119107</td>\n",
       "    </tr>\n",
       "    <tr>\n",
       "      <td>288543</td>\n",
       "      <td>0.0</td>\n",
       "      <td>Bahía de Banderas</td>\n",
       "      <td>3.412826</td>\n",
       "      <td>3.119107</td>\n",
       "    </tr>\n",
       "    <tr>\n",
       "      <td>8007</td>\n",
       "      <td>4.0</td>\n",
       "      <td>Bahía de Banderas</td>\n",
       "      <td>3.412826</td>\n",
       "      <td>3.119107</td>\n",
       "    </tr>\n",
       "    <tr>\n",
       "      <td>134508</td>\n",
       "      <td>5.0</td>\n",
       "      <td>Bahía de Banderas</td>\n",
       "      <td>3.412826</td>\n",
       "      <td>3.119107</td>\n",
       "    </tr>\n",
       "  </tbody>\n",
       "</table>\n",
       "<p>240000 rows × 4 columns</p>\n",
       "</div>"
      ],
      "text/plain": [
       "        antiguedad             ciudad  antiguedad_mean  antiguedad_std\n",
       "id                                                                    \n",
       "254099         NaN      Benito Juárez        10.569339       12.252472\n",
       "130216        20.0      Benito Juárez        10.569339       12.252472\n",
       "73348          5.0      Benito Juárez        10.569339       12.252472\n",
       "244353         0.0      Benito Juárez        10.569339       12.252472\n",
       "237577         6.0      Benito Juárez        10.569339       12.252472\n",
       "...            ...                ...              ...             ...\n",
       "79273          5.0  Bahía de Banderas         3.412826        3.119107\n",
       "204615         5.0  Bahía de Banderas         3.412826        3.119107\n",
       "288543         0.0  Bahía de Banderas         3.412826        3.119107\n",
       "8007           4.0  Bahía de Banderas         3.412826        3.119107\n",
       "134508         5.0  Bahía de Banderas         3.412826        3.119107\n",
       "\n",
       "[240000 rows x 4 columns]"
      ]
     },
     "execution_count": 49,
     "metadata": {},
     "output_type": "execute_result"
    }
   ],
   "source": [
    "df_antiguedad_mean_std"
   ]
  },
  {
   "cell_type": "code",
   "execution_count": 58,
   "metadata": {},
   "outputs": [],
   "source": [
    "df_antiguedad_mean_std = df_antiguedad_mean_std[[\"antiguedad_mean\",\"antiguedad_std\"]]\n",
    "df_antiguedad_mean_std.to_csv('./features/antiguedad_mean_std.csv')"
   ]
  },
  {
   "cell_type": "code",
   "execution_count": 59,
   "metadata": {},
   "outputs": [],
   "source": [
    "def load_engineered_dataset():\n",
    "    df = load_train()\n",
    "    df = df[[\"centroscomercialescercanos\",\"escuelascercanas\",\"metroscubiertos\",\"metrostotales\",\"banos\",\"antiguedad\",\"habitaciones\",\"garages\",\"piscina\",\"gimnasio\",\"precio\"]]\n",
    "    \n",
    "    #Agregado de anio-mes en one hot encoding\n",
    "    df_aniomes_ohencoded = pd.read_csv(\"features/aniomes_ohencoded.csv\", index_col='id')\n",
    "    df = pd.merge(df,df_aniomes_ohencoded,how='left',left_index=True, right_index=True)\n",
    "    \n",
    "    #Agregado de provincia en one hot encoding\n",
    "    df_provincia_ohencoded = pd.read_csv(\"features/provincia_ohencoded.csv\", index_col='id')\n",
    "    df = pd.merge(df,df_provincia_ohencoded,how='left',left_index=True, right_index=True)\n",
    "    \n",
    "    #Agregado de tipodepropiedad en one hot encoding\n",
    "    df_tipo_ohencoded = pd.read_csv(\"features/tipodepropiedad_ohencoded.csv\", index_col='id')\n",
    "    df = pd.merge(df,df_tipo_ohencoded,how='left',left_index=True, right_index=True)\n",
    "    \n",
    "    #Agregado de ciudad en one hot encoding\n",
    "    df_ciudad_ohencoded = pd.read_csv(\"features/ciudad_ohencoded.csv\", index_col='id')\n",
    "    df = pd.merge(df,df_ciudad_ohencoded,how='left',left_index=True, right_index=True)\n",
    "    \n",
    "    \n",
    "    #Agregado de features obtenidos de la descripcion\n",
    "    df_descripcion = pd.read_csv(\"features/descripcion.csv\", index_col='id')\n",
    "    df = pd.merge(df,df_descripcion,how='left',left_index=True, right_index=True)\n",
    "    \n",
    "        \n",
    "    #Agregado de superficie mean y std por ciudad\n",
    "    df_datos_superficie = pd.read_csv(\"features/superficie_mean_std.csv\", index_col='id')\n",
    "    df = pd.merge(df,df_datos_superficie,how='left',left_index=True, right_index=True)\n",
    "    \n",
    "    #Agregado de antiguedad mean y std por ciudad\n",
    "    df_datos_antiguedad = pd.read_csv(\"features/antiguedad_mean_std.csv\", index_col='id')\n",
    "    df = pd.merge(df,df_datos_antiguedad,how='left',left_index=True, right_index=True)\n",
    "    \n",
    "    df = df.reset_index()\n",
    "    df.pop('id')\n",
    "    \n",
    "    return df"
   ]
  }
 ],
 "metadata": {
  "kernelspec": {
   "display_name": "Python 3",
   "language": "python",
   "name": "python3"
  },
  "language_info": {
   "codemirror_mode": {
    "name": "ipython",
    "version": 3
   },
   "file_extension": ".py",
   "mimetype": "text/x-python",
   "name": "python",
   "nbconvert_exporter": "python",
   "pygments_lexer": "ipython3",
   "version": "3.6.8"
  }
 },
 "nbformat": 4,
 "nbformat_minor": 4
}
