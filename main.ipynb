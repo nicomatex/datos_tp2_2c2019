{
 "cells": [
  {
   "cell_type": "markdown",
   "metadata": {},
   "source": [
    "# TP2 - Organización de Datos\n",
    "#### Notebook principal"
   ]
  },
  {
   "cell_type": "markdown",
   "metadata": {},
   "source": [
    "<hr>\n",
    "\n",
    "### Notebooks utilizados:\n",
    "\n",
    "- ***pre_processing:*** notebook para el manejo inicial de los dataframes.\n",
    "- ***feature_generation:*** primer etapa del pipeline. En este notebook se generarán nuevos features para luego, realizar un proceso de selección de los mejores features para cada modelo.\n",
    "- ***feature_selection*** segunda etapa, donde se buscara encontrar los features con mayor importancia, es decir aquellos que aporten mayor informacion.\n",
    "- ***parameter_tuning:*** tercer etapa, notebook donde se tunean los parámetros para cada modelo.\n",
    "\n",
    "<hr>\n"
   ]
  },
  {
   "cell_type": "code",
   "execution_count": 1,
   "metadata": {},
   "outputs": [],
   "source": [
    "import pandas as pd\n",
    "import numpy as np\n",
    "import math\n",
    "\n",
    "from sklearn.model_selection import train_test_split\n",
    "from sklearn.metrics import mean_absolute_error\n",
    "\n",
    "seed = 42"
   ]
  },
  {
   "cell_type": "code",
   "execution_count": 2,
   "metadata": {},
   "outputs": [
    {
     "name": "stdout",
     "output_type": "stream",
     "text": [
      "Importing Jupyter notebook from pre_processing.ipynb\n",
      "Importing Jupyter notebook from feature_generation.ipynb\n",
      "Importing Jupyter notebook from feature_selection.ipynb\n",
      "Importing Jupyter notebook from parameter_tuning.ipynb\n"
     ]
    }
   ],
   "source": [
    "import nbimporter\n",
    "\n",
    "import pre_processing\n",
    "import feature_generation\n",
    "import feature_selection\n",
    "import parameter_tuning"
   ]
  },
  {
   "cell_type": "code",
   "execution_count": 3,
   "metadata": {},
   "outputs": [],
   "source": [
    "def escribir_respuesta(ids,predicciones):\n",
    "    with open(\"respuesta.csv\",'w') as archivo:\n",
    "        archivo.write(\"id,target\\n\")\n",
    "        for i in range(len(ids)):\n",
    "            linea = f\"{int(ids[i])},{predicciones[i]}\"\n",
    "            archivo.write(f\"{linea}\\n\")"
   ]
  },
  {
   "cell_type": "markdown",
   "metadata": {},
   "source": [
    "<hr>\n",
    "\n",
    "# Resultados obtenidos"
   ]
  },
  {
   "cell_type": "markdown",
   "metadata": {},
   "source": [
    "# Mejor submit hasta la fecha -- 19/11\n",
    "Este submit nos dio 472 en Kaggle, pero tiene mucho overfitting."
   ]
  },
  {
   "cell_type": "code",
   "execution_count": 4,
   "metadata": {},
   "outputs": [],
   "source": [
    "import lightgbm as lgb\n",
    "from datetime import datetime"
   ]
  },
  {
   "cell_type": "code",
   "execution_count": 5,
   "metadata": {},
   "outputs": [],
   "source": [
    "params = {\n",
    "    'boosting_type': 'gbdt',\n",
    "    'objective': 'regression',\n",
    "    'metric': 'mae',\n",
    "    'max_depth': 14,\n",
    "    'num_leaves': 120,\n",
    "    'learning_rate': 0.02,\n",
    "    'verbose': 0, \n",
    "    'early_stopping_round': 1000}\n",
    "n_estimators=99999999"
   ]
  },
  {
   "cell_type": "code",
   "execution_count": 6,
   "metadata": {},
   "outputs": [],
   "source": [
    "train,test = pre_processing.load_featured_datasets()"
   ]
  },
  {
   "cell_type": "code",
   "execution_count": 7,
   "metadata": {},
   "outputs": [],
   "source": [
    "train['precio'] = train['precio'].map(lambda x: math.log(x))"
   ]
  },
  {
   "cell_type": "code",
   "execution_count": 8,
   "metadata": {},
   "outputs": [],
   "source": [
    "train_selected = feature_selection.get_selected_dataframe(train)"
   ]
  },
  {
   "cell_type": "code",
   "execution_count": 9,
   "metadata": {},
   "outputs": [],
   "source": [
    "X = train_selected.drop('precio', axis=1)\n",
    "Y = train_selected['precio']\n",
    "\n",
    "X_train, X_val, Y_train, Y_val = train_test_split(X, Y, test_size=0.1, random_state=seed)"
   ]
  },
  {
   "cell_type": "code",
   "execution_count": 10,
   "metadata": {},
   "outputs": [
    {
     "name": "stdout",
     "output_type": "stream",
     "text": [
      "2019-11-19 23:15:12.446117\n"
     ]
    }
   ],
   "source": [
    "print(datetime.now())"
   ]
  },
  {
   "cell_type": "code",
   "execution_count": 11,
   "metadata": {
    "scrolled": true
   },
   "outputs": [
    {
     "name": "stderr",
     "output_type": "stream",
     "text": [
      "/usr/local/lib/python3.6/dist-packages/lightgbm/engine.py:153: UserWarning: Found `early_stopping_round` in params. Will use it instead of argument\n",
      "  warnings.warn(\"Found `{}` in params. Will use it instead of argument\".format(alias))\n"
     ]
    },
    {
     "name": "stdout",
     "output_type": "stream",
     "text": [
      "Training until validation scores don't improve for 1000 rounds\n",
      "[500]\tvalid_0's l1: 0.197949\n",
      "[1000]\tvalid_0's l1: 0.192564\n",
      "[1500]\tvalid_0's l1: 0.189929\n",
      "[2000]\tvalid_0's l1: 0.188237\n",
      "[2500]\tvalid_0's l1: 0.186912\n",
      "[3000]\tvalid_0's l1: 0.185966\n",
      "[3500]\tvalid_0's l1: 0.185192\n",
      "[4000]\tvalid_0's l1: 0.184344\n",
      "[4500]\tvalid_0's l1: 0.183718\n",
      "[5000]\tvalid_0's l1: 0.183126\n",
      "[5500]\tvalid_0's l1: 0.182645\n",
      "[6000]\tvalid_0's l1: 0.182254\n",
      "[6500]\tvalid_0's l1: 0.181833\n",
      "[7000]\tvalid_0's l1: 0.181479\n",
      "[7500]\tvalid_0's l1: 0.181153\n",
      "[8000]\tvalid_0's l1: 0.180848\n",
      "[8500]\tvalid_0's l1: 0.1806\n",
      "[9000]\tvalid_0's l1: 0.180359\n",
      "[9500]\tvalid_0's l1: 0.180107\n",
      "[10000]\tvalid_0's l1: 0.179954\n",
      "[10500]\tvalid_0's l1: 0.179728\n",
      "[11000]\tvalid_0's l1: 0.179515\n",
      "[11500]\tvalid_0's l1: 0.179334\n",
      "[12000]\tvalid_0's l1: 0.179182\n",
      "[12500]\tvalid_0's l1: 0.17907\n",
      "[13000]\tvalid_0's l1: 0.178926\n",
      "[13500]\tvalid_0's l1: 0.178839\n",
      "[14000]\tvalid_0's l1: 0.178763\n",
      "[14500]\tvalid_0's l1: 0.178636\n",
      "[15000]\tvalid_0's l1: 0.178544\n",
      "[15500]\tvalid_0's l1: 0.178446\n",
      "[16000]\tvalid_0's l1: 0.178343\n",
      "[16500]\tvalid_0's l1: 0.178248\n",
      "[17000]\tvalid_0's l1: 0.178204\n",
      "[17500]\tvalid_0's l1: 0.178138\n",
      "[18000]\tvalid_0's l1: 0.178047\n",
      "[18500]\tvalid_0's l1: 0.177967\n",
      "[19000]\tvalid_0's l1: 0.177924\n",
      "[19500]\tvalid_0's l1: 0.177836\n",
      "[20000]\tvalid_0's l1: 0.177771\n",
      "[20500]\tvalid_0's l1: 0.177755\n",
      "[21000]\tvalid_0's l1: 0.177719\n",
      "[21500]\tvalid_0's l1: 0.177672\n",
      "[22000]\tvalid_0's l1: 0.177628\n",
      "[22500]\tvalid_0's l1: 0.177572\n",
      "[23000]\tvalid_0's l1: 0.177494\n",
      "[23500]\tvalid_0's l1: 0.177455\n",
      "[24000]\tvalid_0's l1: 0.177424\n",
      "[24500]\tvalid_0's l1: 0.177353\n",
      "[25000]\tvalid_0's l1: 0.17731\n",
      "[25500]\tvalid_0's l1: 0.177293\n",
      "[26000]\tvalid_0's l1: 0.177299\n",
      "[26500]\tvalid_0's l1: 0.177256\n",
      "[27000]\tvalid_0's l1: 0.177236\n",
      "[27500]\tvalid_0's l1: 0.177232\n",
      "[28000]\tvalid_0's l1: 0.17723\n",
      "[28500]\tvalid_0's l1: 0.177227\n",
      "[29000]\tvalid_0's l1: 0.177203\n",
      "[29500]\tvalid_0's l1: 0.177183\n",
      "[30000]\tvalid_0's l1: 0.177177\n",
      "[30500]\tvalid_0's l1: 0.177154\n",
      "[31000]\tvalid_0's l1: 0.17711\n",
      "[31500]\tvalid_0's l1: 0.177092\n",
      "[32000]\tvalid_0's l1: 0.177083\n",
      "[32500]\tvalid_0's l1: 0.177072\n",
      "[33000]\tvalid_0's l1: 0.177087\n",
      "Early stopping, best iteration is:\n",
      "[32346]\tvalid_0's l1: 0.17707\n"
     ]
    }
   ],
   "source": [
    "d_train = lgb.Dataset(X_train.values, label=Y_train.values)\n",
    "d_valid = lgb.Dataset(X_val.values, label=Y_val.values)\n",
    "watchlist = [d_valid]\n",
    "reg = lgb.train(params, d_train, n_estimators, watchlist, verbose_eval=500)"
   ]
  },
  {
   "cell_type": "code",
   "execution_count": 12,
   "metadata": {},
   "outputs": [
    {
     "name": "stdout",
     "output_type": "stream",
     "text": [
      "2019-11-19 23:32:58.995210\n"
     ]
    }
   ],
   "source": [
    "print(datetime.now())"
   ]
  },
  {
   "cell_type": "code",
   "execution_count": 13,
   "metadata": {},
   "outputs": [
    {
     "data": {
      "text/plain": [
       "449620.60086473916"
      ]
     },
     "execution_count": 13,
     "metadata": {},
     "output_type": "execute_result"
    }
   ],
   "source": [
    "Y_pred = reg.predict(X_val.values)\n",
    "\n",
    "f = np.vectorize(math.exp)\n",
    "Y_pred = f(Y_pred)\n",
    "Y_val = f(Y_val.values)\n",
    "mean_absolute_error(Y_val,Y_pred)"
   ]
  },
  {
   "cell_type": "code",
   "execution_count": 14,
   "metadata": {},
   "outputs": [],
   "source": [
    "# Preparamos respuesta para Kaggle"
   ]
  },
  {
   "cell_type": "code",
   "execution_count": 17,
   "metadata": {},
   "outputs": [],
   "source": [
    "test_selected = feature_selection.get_selected_dataframe(test, precio=False)"
   ]
  },
  {
   "cell_type": "code",
   "execution_count": 18,
   "metadata": {
    "scrolled": true
   },
   "outputs": [],
   "source": [
    "ids = test_selected.index.values\n",
    "X_test = test_selected.values\n",
    "test_predict = reg.predict(X_test)\n",
    "f = np.vectorize(math.exp)\n",
    "test_predict = f(test_predict)\n",
    "escribir_respuesta(ids, test_predict)"
   ]
  },
  {
   "cell_type": "markdown",
   "metadata": {},
   "source": [
    "# LightGBM (sin overfitting)"
   ]
  },
  {
   "cell_type": "code",
   "execution_count": 1,
   "metadata": {},
   "outputs": [],
   "source": [
    "import lightgbm as lgb"
   ]
  },
  {
   "cell_type": "code",
   "execution_count": 5,
   "metadata": {},
   "outputs": [],
   "source": [
    "train,test = pre_processing.load_featured_datasets()"
   ]
  },
  {
   "cell_type": "code",
   "execution_count": 6,
   "metadata": {},
   "outputs": [],
   "source": [
    "params = parameter_tuning.get_best_params()['lightgbm']"
   ]
  },
  {
   "cell_type": "code",
   "execution_count": 7,
   "metadata": {},
   "outputs": [],
   "source": [
    "train['precio'] = train['precio'].map(lambda x: math.log(x))"
   ]
  },
  {
   "cell_type": "code",
   "execution_count": 8,
   "metadata": {},
   "outputs": [],
   "source": [
    "train_selected = feature_selection.get_selected_dataframe(train)\n",
    "test_selected = feature_selection.get_selected_dataframe(test, precio=False)"
   ]
  },
  {
   "cell_type": "code",
   "execution_count": 44,
   "metadata": {},
   "outputs": [],
   "source": [
    "X = train_selected.drop('precio', axis=1)\n",
    "Y = train_selected['precio']\n",
    "\n",
    "X_train, X_val, Y_train, Y_val = train_test_split(X, Y, test_size=0.2, random_state=seed)"
   ]
  },
  {
   "cell_type": "code",
   "execution_count": 45,
   "metadata": {
    "scrolled": true
   },
   "outputs": [
    {
     "data": {
      "text/plain": [
       "{'num_leaves': 55,\n",
       " 'min_gain_to_split': 0.1,\n",
       " 'min_data_in_leaf': 3000,\n",
       " 'max_depth': 12,\n",
       " 'max_bin': 150,\n",
       " 'feature_fraction': 0.7,\n",
       " 'bagging_freq': 5,\n",
       " 'bagging_fraction': 0.75,\n",
       " 'boosting_type': 'gbdt',\n",
       " 'objective': 'regression',\n",
       " 'metric': 'mae',\n",
       " 'num_boost_round': 5000,\n",
       " 'verbose': 0,\n",
       " 'learning_rate': 0.05,\n",
       " 'early_stopping_round': 200,\n",
       " 'min_gain_to_spit': 0}"
      ]
     },
     "execution_count": 45,
     "metadata": {},
     "output_type": "execute_result"
    }
   ],
   "source": [
    "params"
   ]
  },
  {
   "cell_type": "code",
   "execution_count": 48,
   "metadata": {},
   "outputs": [],
   "source": [
    "# Modificamos algunos parametros...\n",
    "params['min_data_in_leaf'] = 5000\n",
    "params['min_gain_to_split'] = 0.05\n",
    "params['learning_rate'] = 0.05\n",
    "params['num_boost_round'] = 10000"
   ]
  },
  {
   "cell_type": "code",
   "execution_count": 49,
   "metadata": {
    "scrolled": true
   },
   "outputs": [
    {
     "name": "stdout",
     "output_type": "stream",
     "text": [
      "Training until validation scores don't improve for 200 rounds\n",
      "[500]\ttraining's l1: 0.210462\tvalid_0's l1: 0.213757\n",
      "[1000]\ttraining's l1: 0.203465\tvalid_0's l1: 0.20783\n",
      "[1500]\ttraining's l1: 0.199426\tvalid_0's l1: 0.20478\n",
      "[2000]\ttraining's l1: 0.196572\tvalid_0's l1: 0.202868\n",
      "[2500]\ttraining's l1: 0.194345\tvalid_0's l1: 0.201554\n",
      "[3000]\ttraining's l1: 0.192489\tvalid_0's l1: 0.200457\n",
      "[3500]\ttraining's l1: 0.190896\tvalid_0's l1: 0.19961\n",
      "[4000]\ttraining's l1: 0.189499\tvalid_0's l1: 0.198897\n",
      "[4500]\ttraining's l1: 0.188276\tvalid_0's l1: 0.198369\n",
      "[5000]\ttraining's l1: 0.187208\tvalid_0's l1: 0.197873\n",
      "[5500]\ttraining's l1: 0.18625\tvalid_0's l1: 0.197477\n",
      "[6000]\ttraining's l1: 0.185358\tvalid_0's l1: 0.197125\n",
      "[6500]\ttraining's l1: 0.184541\tvalid_0's l1: 0.196769\n",
      "[7000]\ttraining's l1: 0.18375\tvalid_0's l1: 0.196454\n",
      "[7500]\ttraining's l1: 0.183003\tvalid_0's l1: 0.196189\n",
      "[8000]\ttraining's l1: 0.182347\tvalid_0's l1: 0.195963\n",
      "[8500]\ttraining's l1: 0.18174\tvalid_0's l1: 0.195729\n",
      "[9000]\ttraining's l1: 0.181119\tvalid_0's l1: 0.195504\n",
      "[9500]\ttraining's l1: 0.180535\tvalid_0's l1: 0.195315\n",
      "[10000]\ttraining's l1: 0.180021\tvalid_0's l1: 0.195199\n",
      "[10500]\ttraining's l1: 0.179509\tvalid_0's l1: 0.195045\n",
      "[11000]\ttraining's l1: 0.179055\tvalid_0's l1: 0.194907\n",
      "[11500]\ttraining's l1: 0.17856\tvalid_0's l1: 0.194807\n",
      "[12000]\ttraining's l1: 0.178134\tvalid_0's l1: 0.194668\n",
      "[12500]\ttraining's l1: 0.177731\tvalid_0's l1: 0.194561\n",
      "[13000]\ttraining's l1: 0.177331\tvalid_0's l1: 0.194431\n",
      "[13500]\ttraining's l1: 0.176947\tvalid_0's l1: 0.194315\n",
      "[14000]\ttraining's l1: 0.176589\tvalid_0's l1: 0.194271\n",
      "[14500]\ttraining's l1: 0.176248\tvalid_0's l1: 0.194157\n"
     ]
    },
    {
     "ename": "KeyboardInterrupt",
     "evalue": "",
     "output_type": "error",
     "traceback": [
      "\u001b[0;31m---------------------------------------------------------------------------\u001b[0m",
      "\u001b[0;31mKeyboardInterrupt\u001b[0m                         Traceback (most recent call last)",
      "\u001b[0;32m<timed exec>\u001b[0m in \u001b[0;36m<module>\u001b[0;34m\u001b[0m\n",
      "\u001b[0;32m/usr/local/lib/python3.6/dist-packages/lightgbm/engine.py\u001b[0m in \u001b[0;36mtrain\u001b[0;34m(params, train_set, num_boost_round, valid_sets, valid_names, fobj, feval, init_model, feature_name, categorical_feature, early_stopping_rounds, evals_result, verbose_eval, learning_rates, keep_training_booster, callbacks)\u001b[0m\n\u001b[1;32m    247\u001b[0m                                     evaluation_result_list=None))\n\u001b[1;32m    248\u001b[0m \u001b[0;34m\u001b[0m\u001b[0m\n\u001b[0;32m--> 249\u001b[0;31m         \u001b[0mbooster\u001b[0m\u001b[0;34m.\u001b[0m\u001b[0mupdate\u001b[0m\u001b[0;34m(\u001b[0m\u001b[0mfobj\u001b[0m\u001b[0;34m=\u001b[0m\u001b[0mfobj\u001b[0m\u001b[0;34m)\u001b[0m\u001b[0;34m\u001b[0m\u001b[0;34m\u001b[0m\u001b[0m\n\u001b[0m\u001b[1;32m    250\u001b[0m \u001b[0;34m\u001b[0m\u001b[0m\n\u001b[1;32m    251\u001b[0m         \u001b[0mevaluation_result_list\u001b[0m \u001b[0;34m=\u001b[0m \u001b[0;34m[\u001b[0m\u001b[0;34m]\u001b[0m\u001b[0;34m\u001b[0m\u001b[0;34m\u001b[0m\u001b[0m\n",
      "\u001b[0;32m/usr/local/lib/python3.6/dist-packages/lightgbm/basic.py\u001b[0m in \u001b[0;36mupdate\u001b[0;34m(self, train_set, fobj)\u001b[0m\n\u001b[1;32m   1924\u001b[0m             _safe_call(_LIB.LGBM_BoosterUpdateOneIter(\n\u001b[1;32m   1925\u001b[0m                 \u001b[0mself\u001b[0m\u001b[0;34m.\u001b[0m\u001b[0mhandle\u001b[0m\u001b[0;34m,\u001b[0m\u001b[0;34m\u001b[0m\u001b[0;34m\u001b[0m\u001b[0m\n\u001b[0;32m-> 1926\u001b[0;31m                 ctypes.byref(is_finished)))\n\u001b[0m\u001b[1;32m   1927\u001b[0m             \u001b[0mself\u001b[0m\u001b[0;34m.\u001b[0m\u001b[0m__is_predicted_cur_iter\u001b[0m \u001b[0;34m=\u001b[0m \u001b[0;34m[\u001b[0m\u001b[0;32mFalse\u001b[0m \u001b[0;32mfor\u001b[0m \u001b[0m_\u001b[0m \u001b[0;32min\u001b[0m \u001b[0mrange_\u001b[0m\u001b[0;34m(\u001b[0m\u001b[0mself\u001b[0m\u001b[0;34m.\u001b[0m\u001b[0m__num_dataset\u001b[0m\u001b[0;34m)\u001b[0m\u001b[0;34m]\u001b[0m\u001b[0;34m\u001b[0m\u001b[0;34m\u001b[0m\u001b[0m\n\u001b[1;32m   1928\u001b[0m             \u001b[0;32mreturn\u001b[0m \u001b[0mis_finished\u001b[0m\u001b[0;34m.\u001b[0m\u001b[0mvalue\u001b[0m \u001b[0;34m==\u001b[0m \u001b[0;36m1\u001b[0m\u001b[0;34m\u001b[0m\u001b[0;34m\u001b[0m\u001b[0m\n",
      "\u001b[0;31mKeyboardInterrupt\u001b[0m: "
     ]
    }
   ],
   "source": [
    "%%time\n",
    "d_train = lgb.Dataset(X_train.values, label=Y_train.values)\n",
    "d_valid = lgb.Dataset(X_val.values, label=Y_val.values)\n",
    "watchlist = [d_valid, d_train]\n",
    "reg = lgb.train(params, train_set = d_train, valid_sets = watchlist, verbose_eval=500)"
   ]
  },
  {
   "cell_type": "code",
   "execution_count": 42,
   "metadata": {},
   "outputs": [
    {
     "data": {
      "text/plain": [
       "496936.9091695474"
      ]
     },
     "execution_count": 42,
     "metadata": {},
     "output_type": "execute_result"
    }
   ],
   "source": [
    "Y_pred = reg.predict(X_val.values)\n",
    "\n",
    "f = np.vectorize(math.exp)\n",
    "Y_pred = f(Y_pred)\n",
    "Y_val = f(Y_val.values)\n",
    "mean_absolute_error(Y_val,Y_pred)"
   ]
  },
  {
   "cell_type": "code",
   "execution_count": 43,
   "metadata": {},
   "outputs": [],
   "source": [
    "# respuesta para kaggle\n",
    "ids = test_selected.index.values\n",
    "X_test = test_selected.values\n",
    "test_predict = reg.predict(X_test)\n",
    "f = np.vectorize(math.exp)\n",
    "test_predict = f(test_predict)\n",
    "escribir_respuesta(ids, test_predict)"
   ]
  },
  {
   "cell_type": "markdown",
   "metadata": {},
   "source": [
    "# AREA DE TESTING"
   ]
  },
  {
   "cell_type": "code",
   "execution_count": 7,
   "metadata": {},
   "outputs": [],
   "source": [
    "import lightgbm as lgb\n",
    "from datetime import datetime"
   ]
  },
  {
   "cell_type": "code",
   "execution_count": 8,
   "metadata": {},
   "outputs": [],
   "source": [
    "params = {\n",
    "    'boosting_type': 'gbdt',\n",
    "    'objective': 'regression',\n",
    "    'metric': 'mae',\n",
    "    # Prevenir overfitting:\n",
    "    'max_bin': 100,\n",
    "    'num_leaves': 120,\n",
    "    'min_data_in_leaf':5000,\n",
    "    'bagging_fraction':0.605,\n",
    "    'bagging_freq': 3,\n",
    "    'feature_fraction': 0.7,\n",
    "    'min_gain_to_split':0.1,\n",
    "    # Parametros grales:\n",
    "    'max_depth': 12,\n",
    "    'learning_rate': 0.05,\n",
    "    'verbose': 0, \n",
    "    'early_stopping_round': 1000}\n",
    "n_estimators=99999999"
   ]
  },
  {
   "cell_type": "code",
   "execution_count": 3,
   "metadata": {},
   "outputs": [],
   "source": [
    "train,test = pre_processing.load_featured_datasets()"
   ]
  },
  {
   "cell_type": "code",
   "execution_count": 10,
   "metadata": {},
   "outputs": [],
   "source": [
    "train['precio'] = train['precio'].map(lambda x: math.log(x))"
   ]
  },
  {
   "cell_type": "code",
   "execution_count": 4,
   "metadata": {},
   "outputs": [],
   "source": [
    "train_selected = feature_selection.get_selected_dataframe(train)"
   ]
  },
  {
   "cell_type": "code",
   "execution_count": 12,
   "metadata": {},
   "outputs": [],
   "source": [
    "X = train_selected.drop('precio', axis=1)\n",
    "Y = train_selected['precio']\n",
    "\n",
    "X_train, X_val, Y_train, Y_val = train_test_split(X, Y, test_size=0.1, random_state=seed)"
   ]
  },
  {
   "cell_type": "code",
   "execution_count": 13,
   "metadata": {
    "scrolled": true
   },
   "outputs": [
    {
     "name": "stdout",
     "output_type": "stream",
     "text": [
      "2019-11-27 19:35:24.278748\n"
     ]
    }
   ],
   "source": [
    "print(datetime.now())"
   ]
  },
  {
   "cell_type": "code",
   "execution_count": 14,
   "metadata": {
    "scrolled": true
   },
   "outputs": [
    {
     "name": "stderr",
     "output_type": "stream",
     "text": [
      "/usr/local/lib/python3.6/dist-packages/lightgbm/engine.py:153: UserWarning: Found `early_stopping_round` in params. Will use it instead of argument\n",
      "  warnings.warn(\"Found `{}` in params. Will use it instead of argument\".format(alias))\n"
     ]
    },
    {
     "name": "stdout",
     "output_type": "stream",
     "text": [
      "Training until validation scores don't improve for 1000 rounds\n",
      "[500]\ttraining's l1: 0.213136\tvalid_0's l1: 0.214525\n",
      "[1000]\ttraining's l1: 0.20647\tvalid_0's l1: 0.208747\n",
      "[1500]\ttraining's l1: 0.2028\tvalid_0's l1: 0.205831\n",
      "[2000]\ttraining's l1: 0.200274\tvalid_0's l1: 0.203974\n",
      "[2500]\ttraining's l1: 0.19836\tvalid_0's l1: 0.202622\n",
      "[3000]\ttraining's l1: 0.196984\tvalid_0's l1: 0.201671\n",
      "[3500]\ttraining's l1: 0.195789\tvalid_0's l1: 0.200955\n",
      "[4000]\ttraining's l1: 0.194816\tvalid_0's l1: 0.200341\n",
      "[4500]\ttraining's l1: 0.193961\tvalid_0's l1: 0.199806\n",
      "[5000]\ttraining's l1: 0.193248\tvalid_0's l1: 0.1994\n",
      "[5500]\ttraining's l1: 0.192529\tvalid_0's l1: 0.199025\n",
      "[6000]\ttraining's l1: 0.191979\tvalid_0's l1: 0.19869\n",
      "[6500]\ttraining's l1: 0.191367\tvalid_0's l1: 0.19846\n",
      "[7000]\ttraining's l1: 0.190866\tvalid_0's l1: 0.198202\n",
      "[7500]\ttraining's l1: 0.190411\tvalid_0's l1: 0.197928\n",
      "[8000]\ttraining's l1: 0.189964\tvalid_0's l1: 0.197746\n",
      "[8500]\ttraining's l1: 0.18955\tvalid_0's l1: 0.197565\n",
      "[9000]\ttraining's l1: 0.189168\tvalid_0's l1: 0.197321\n",
      "[9500]\ttraining's l1: 0.188786\tvalid_0's l1: 0.197167\n",
      "[10000]\ttraining's l1: 0.188406\tvalid_0's l1: 0.197018\n",
      "[10500]\ttraining's l1: 0.18809\tvalid_0's l1: 0.196876\n",
      "[11000]\ttraining's l1: 0.187757\tvalid_0's l1: 0.196728\n",
      "[11500]\ttraining's l1: 0.18744\tvalid_0's l1: 0.196555\n",
      "[12000]\ttraining's l1: 0.187125\tvalid_0's l1: 0.196413\n",
      "[12500]\ttraining's l1: 0.186855\tvalid_0's l1: 0.19629\n",
      "[13000]\ttraining's l1: 0.18659\tvalid_0's l1: 0.196213\n",
      "[13500]\ttraining's l1: 0.186317\tvalid_0's l1: 0.196127\n",
      "[14000]\ttraining's l1: 0.186084\tvalid_0's l1: 0.196024\n",
      "[14500]\ttraining's l1: 0.185848\tvalid_0's l1: 0.195935\n",
      "[15000]\ttraining's l1: 0.185582\tvalid_0's l1: 0.195827\n",
      "[15500]\ttraining's l1: 0.185355\tvalid_0's l1: 0.195716\n",
      "[16000]\ttraining's l1: 0.185153\tvalid_0's l1: 0.195678\n",
      "[16500]\ttraining's l1: 0.184943\tvalid_0's l1: 0.19558\n",
      "[17000]\ttraining's l1: 0.184705\tvalid_0's l1: 0.195465\n",
      "[17500]\ttraining's l1: 0.184474\tvalid_0's l1: 0.195387\n",
      "[18000]\ttraining's l1: 0.184263\tvalid_0's l1: 0.195321\n",
      "[18500]\ttraining's l1: 0.184082\tvalid_0's l1: 0.195259\n",
      "[19000]\ttraining's l1: 0.183912\tvalid_0's l1: 0.195221\n",
      "[19500]\ttraining's l1: 0.183723\tvalid_0's l1: 0.195136\n",
      "[20000]\ttraining's l1: 0.183555\tvalid_0's l1: 0.195093\n",
      "[20500]\ttraining's l1: 0.18336\tvalid_0's l1: 0.194994\n",
      "[21000]\ttraining's l1: 0.183194\tvalid_0's l1: 0.194971\n",
      "[21500]\ttraining's l1: 0.183025\tvalid_0's l1: 0.194887\n",
      "[22000]\ttraining's l1: 0.182859\tvalid_0's l1: 0.194807\n",
      "[22500]\ttraining's l1: 0.182691\tvalid_0's l1: 0.194737\n",
      "[23000]\ttraining's l1: 0.182548\tvalid_0's l1: 0.194709\n",
      "[23500]\ttraining's l1: 0.18242\tvalid_0's l1: 0.194657\n",
      "[24000]\ttraining's l1: 0.182274\tvalid_0's l1: 0.194637\n",
      "[24500]\ttraining's l1: 0.182129\tvalid_0's l1: 0.194594\n",
      "[25000]\ttraining's l1: 0.181976\tvalid_0's l1: 0.194548\n",
      "[25500]\ttraining's l1: 0.181848\tvalid_0's l1: 0.194508\n",
      "[26000]\ttraining's l1: 0.181679\tvalid_0's l1: 0.194444\n",
      "[26500]\ttraining's l1: 0.181557\tvalid_0's l1: 0.194409\n",
      "[27000]\ttraining's l1: 0.18144\tvalid_0's l1: 0.194369\n",
      "[27500]\ttraining's l1: 0.181308\tvalid_0's l1: 0.194319\n",
      "[28000]\ttraining's l1: 0.181175\tvalid_0's l1: 0.194243\n",
      "[28500]\ttraining's l1: 0.181058\tvalid_0's l1: 0.194221\n",
      "[29000]\ttraining's l1: 0.180918\tvalid_0's l1: 0.194183\n",
      "[29500]\ttraining's l1: 0.180803\tvalid_0's l1: 0.194178\n",
      "[30000]\ttraining's l1: 0.180693\tvalid_0's l1: 0.194162\n",
      "[30500]\ttraining's l1: 0.180639\tvalid_0's l1: 0.194136\n",
      "[31000]\ttraining's l1: 0.180639\tvalid_0's l1: 0.194136\n",
      "Early stopping, best iteration is:\n",
      "[30149]\ttraining's l1: 0.18064\tvalid_0's l1: 0.194127\n"
     ]
    }
   ],
   "source": [
    "d_train = lgb.Dataset(X_train.values, label=Y_train.values)\n",
    "d_valid = lgb.Dataset(X_val.values, label=Y_val.values)\n",
    "watchlist = [d_valid, d_train]\n",
    "reg = lgb.train(params, d_train, n_estimators, watchlist, verbose_eval=500)"
   ]
  },
  {
   "cell_type": "code",
   "execution_count": 15,
   "metadata": {},
   "outputs": [
    {
     "name": "stdout",
     "output_type": "stream",
     "text": [
      "2019-11-27 19:44:47.102832\n"
     ]
    }
   ],
   "source": [
    "print(datetime.now())"
   ]
  },
  {
   "cell_type": "code",
   "execution_count": null,
   "metadata": {},
   "outputs": [],
   "source": [
    "Y_pred = reg.predict(X_val.values)\n",
    "\n",
    "f = np.vectorize(math.exp)\n",
    "Y_pred = f(Y_pred)\n",
    "Y_val = f(Y_val.values)\n",
    "mean_absolute_error(Y_val,Y_pred)"
   ]
  },
  {
   "cell_type": "code",
   "execution_count": 16,
   "metadata": {},
   "outputs": [
    {
     "data": {
      "text/plain": [
       "488561.10936908884"
      ]
     },
     "execution_count": 16,
     "metadata": {},
     "output_type": "execute_result"
    }
   ],
   "source": [
    "Y_pred = reg.predict(X_val.values)\n",
    "\n",
    "f = np.vectorize(math.exp)\n",
    "Y_pred = f(Y_pred)\n",
    "Y_val = f(Y_val.values)\n",
    "mean_absolute_error(Y_val,Y_pred)"
   ]
  },
  {
   "cell_type": "code",
   "execution_count": null,
   "metadata": {},
   "outputs": [],
   "source": [
    "Y_pred = reg.predict(X_train.values)\n",
    "\n",
    "f = np.vectorize(math.exp)\n",
    "Y_pred = f(Y_pred)\n",
    "Y_train = f(Y_train.values)\n",
    "mean_absolute_error(Y_train,Y_pred)"
   ]
  },
  {
   "cell_type": "code",
   "execution_count": 17,
   "metadata": {},
   "outputs": [],
   "source": [
    "# Mejores resultados hasta la fecha:"
   ]
  },
  {
   "cell_type": "code",
   "execution_count": 13,
   "metadata": {},
   "outputs": [
    {
     "data": {
      "text/plain": [
       "449620.60086473916"
      ]
     },
     "execution_count": 13,
     "metadata": {},
     "output_type": "execute_result"
    }
   ],
   "source": [
    "Y_pred = reg.predict(X_val.values)\n",
    "\n",
    "f = np.vectorize(math.exp)\n",
    "Y_pred = f(Y_pred)\n",
    "Y_val = f(Y_val.values)\n",
    "mean_absolute_error(Y_val,Y_pred)"
   ]
  },
  {
   "cell_type": "code",
   "execution_count": 26,
   "metadata": {},
   "outputs": [],
   "source": [
    "# Preparamos respuesta para Kaggle"
   ]
  },
  {
   "cell_type": "code",
   "execution_count": 17,
   "metadata": {},
   "outputs": [],
   "source": [
    "test_selected = feature_selection.get_selected_dataframe(test, precio=False)"
   ]
  },
  {
   "cell_type": "code",
   "execution_count": 18,
   "metadata": {
    "scrolled": true
   },
   "outputs": [],
   "source": [
    "ids = test_selected.index.values\n",
    "X_test = test_selected.values\n",
    "test_predict = reg.predict(X_test)\n",
    "f = np.vectorize(math.exp)\n",
    "test_predict = f(test_predict)\n",
    "escribir_respuesta(ids, test_predict)"
   ]
  },
  {
   "cell_type": "markdown",
   "metadata": {},
   "source": [
    "### Modelo: Regresion lineal"
   ]
  },
  {
   "cell_type": "code",
   "execution_count": 11,
   "metadata": {},
   "outputs": [],
   "source": [
    "from sklearn.linear_model import LinearRegression\n",
    "from sklearn.impute import SimpleImputer"
   ]
  },
  {
   "cell_type": "code",
   "execution_count": 6,
   "metadata": {},
   "outputs": [],
   "source": [
    "train,test = pre_processing.load_featured_datasets()"
   ]
  },
  {
   "cell_type": "code",
   "execution_count": 7,
   "metadata": {},
   "outputs": [],
   "source": [
    "train_selected = feature_selection.get_selected_dataframe(train)\n",
    "test_selected = feature_selection.get_selected_dataframe(test, precio=False)"
   ]
  },
  {
   "cell_type": "code",
   "execution_count": 8,
   "metadata": {},
   "outputs": [],
   "source": [
    "X = train_selected.drop('precio', axis=1).values\n",
    "Y = train_selected['precio'].values"
   ]
  },
  {
   "cell_type": "code",
   "execution_count": 12,
   "metadata": {},
   "outputs": [],
   "source": [
    "imp = SimpleImputer(missing_values=np.nan, strategy='mean')"
   ]
  },
  {
   "cell_type": "code",
   "execution_count": 14,
   "metadata": {},
   "outputs": [],
   "source": [
    "X = imp.fit_transform(X)"
   ]
  },
  {
   "cell_type": "code",
   "execution_count": 15,
   "metadata": {},
   "outputs": [],
   "source": [
    "X_train, X_val, Y_train, Y_val = train_test_split(X, Y, test_size=0.2)"
   ]
  },
  {
   "cell_type": "code",
   "execution_count": 16,
   "metadata": {},
   "outputs": [],
   "source": [
    "reg = LinearRegression().fit(X_train,Y_train)"
   ]
  },
  {
   "cell_type": "code",
   "execution_count": 17,
   "metadata": {},
   "outputs": [],
   "source": [
    "Y_predic = reg.predict(X_val)"
   ]
  },
  {
   "cell_type": "code",
   "execution_count": 20,
   "metadata": {},
   "outputs": [
    {
     "data": {
      "text/plain": [
       "736737.7129180954"
      ]
     },
     "execution_count": 20,
     "metadata": {},
     "output_type": "execute_result"
    }
   ],
   "source": [
    "mean_absolute_error(Y_predic,Y_val)"
   ]
  },
  {
   "cell_type": "markdown",
   "metadata": {},
   "source": [
    "### Modelo: RandomForest"
   ]
  },
  {
   "cell_type": "code",
   "execution_count": 12,
   "metadata": {},
   "outputs": [],
   "source": [
    "from sklearn.ensemble import RandomForestRegressor\n",
    "from sklearn.impute import SimpleImputer"
   ]
  },
  {
   "cell_type": "code",
   "execution_count": 7,
   "metadata": {},
   "outputs": [],
   "source": [
    "train,test = pre_processing.load_featured_datasets()"
   ]
  },
  {
   "cell_type": "code",
   "execution_count": 8,
   "metadata": {},
   "outputs": [],
   "source": [
    "train_selected = feature_selection.get_selected_dataframe(train)\n",
    "test_selected = feature_selection.get_selected_dataframe(test, precio=False)"
   ]
  },
  {
   "cell_type": "code",
   "execution_count": 9,
   "metadata": {},
   "outputs": [],
   "source": [
    "X = train_selected.drop('precio', axis=1).values\n",
    "Y = train_selected['precio'].values"
   ]
  },
  {
   "cell_type": "code",
   "execution_count": 13,
   "metadata": {},
   "outputs": [],
   "source": [
    "imp = SimpleImputer(missing_values=np.nan, strategy='mean')"
   ]
  },
  {
   "cell_type": "code",
   "execution_count": 14,
   "metadata": {},
   "outputs": [],
   "source": [
    "X = imp.fit_transform(X)"
   ]
  },
  {
   "cell_type": "code",
   "execution_count": 15,
   "metadata": {},
   "outputs": [],
   "source": [
    "X_train, X_val, Y_train, Y_val = train_test_split(X, Y, test_size=0.2)"
   ]
  },
  {
   "cell_type": "code",
   "execution_count": 17,
   "metadata": {},
   "outputs": [
    {
     "name": "stderr",
     "output_type": "stream",
     "text": [
      "[Parallel(n_jobs=4)]: Using backend ThreadingBackend with 4 concurrent workers.\n"
     ]
    },
    {
     "name": "stdout",
     "output_type": "stream",
     "text": [
      "building tree 1 of 100building tree 2 of 100building tree 3 of 100building tree 4 of 100\n",
      "\n",
      "\n",
      "\n",
      "building tree 5 of 100\n",
      "building tree 6 of 100\n",
      "building tree 7 of 100\n",
      "building tree 8 of 100\n",
      "building tree 9 of 100\n",
      "building tree 10 of 100\n",
      "building tree 11 of 100\n",
      "building tree 12 of 100\n",
      "building tree 13 of 100\n",
      "building tree 14 of 100\n",
      "building tree 15 of 100\n",
      "building tree 16 of 100\n",
      "building tree 17 of 100\n",
      "building tree 18 of 100\n",
      "building tree 19 of 100\n",
      "building tree 20 of 100\n",
      "building tree 21 of 100\n",
      "building tree 22 of 100\n",
      "building tree 23 of 100\n",
      "building tree 24 of 100\n",
      "building tree 25 of 100\n",
      "building tree 26 of 100\n",
      "building tree 27 of 100\n",
      "building tree 28 of 100\n",
      "building tree 29 of 100\n",
      "building tree 30 of 100\n",
      "building tree 31 of 100\n",
      "building tree 32 of 100\n",
      "building tree 33 of 100\n",
      "building tree 34 of 100\n",
      "building tree 35 of 100\n",
      "building tree 36 of 100\n"
     ]
    },
    {
     "name": "stderr",
     "output_type": "stream",
     "text": [
      "[Parallel(n_jobs=4)]: Done  33 tasks      | elapsed:  1.1min\n"
     ]
    },
    {
     "name": "stdout",
     "output_type": "stream",
     "text": [
      "building tree 37 of 100\n",
      "building tree 38 of 100\n",
      "building tree 39 of 100\n",
      "building tree 40 of 100\n",
      "building tree 41 of 100\n",
      "building tree 42 of 100\n",
      "building tree 43 of 100\n",
      "building tree 44 of 100\n",
      "building tree 45 of 100\n",
      "building tree 46 of 100\n",
      "building tree 47 of 100\n",
      "building tree 48 of 100\n",
      "building tree 49 of 100\n",
      "building tree 50 of 100\n",
      "building tree 51 of 100\n",
      "building tree 52 of 100\n",
      "building tree 53 of 100\n",
      "building tree 54 of 100\n",
      "building tree 55 of 100\n",
      "building tree 56 of 100\n",
      "building tree 57 of 100\n",
      "building tree 58 of 100\n",
      "building tree 59 of 100\n",
      "building tree 60 of 100\n",
      "building tree 61 of 100\n",
      "building tree 62 of 100\n",
      "building tree 63 of 100\n",
      "building tree 64 of 100\n",
      "building tree 65 of 100\n",
      "building tree 66 of 100\n",
      "building tree 67 of 100\n",
      "building tree 68 of 100\n",
      "building tree 69 of 100\n",
      "building tree 70 of 100\n",
      "building tree 71 of 100\n",
      "building tree 72 of 100\n",
      "building tree 73 of 100\n",
      "building tree 74 of 100\n",
      "building tree 75 of 100\n",
      "building tree 76 of 100\n",
      "building tree 77 of 100\n",
      "building tree 78 of 100\n",
      "building tree 79 of 100\n",
      "building tree 80 of 100\n",
      "building tree 81 of 100\n",
      "building tree 82 of 100\n",
      "building tree 83 of 100\n",
      "building tree 84 of 100\n",
      "building tree 85 of 100\n",
      "building tree 86 of 100\n",
      "building tree 87 of 100\n",
      "building tree 88 of 100\n",
      "building tree 89 of 100\n",
      "building tree 90 of 100\n",
      "building tree 91 of 100\n",
      "building tree 92 of 100\n",
      "building tree 93 of 100\n",
      "building tree 94 of 100\n",
      "building tree 95 of 100\n",
      "building tree 96 of 100\n",
      "building tree 97 of 100\n",
      "building tree 98 of 100\n",
      "building tree 99 of 100\n",
      "building tree 100 of 100\n"
     ]
    },
    {
     "name": "stderr",
     "output_type": "stream",
     "text": [
      "[Parallel(n_jobs=4)]: Done 100 out of 100 | elapsed:  3.1min finished\n"
     ]
    },
    {
     "data": {
      "text/plain": [
       "RandomForestRegressor(bootstrap=True, criterion='mse', max_depth=10,\n",
       "                      max_features='auto', max_leaf_nodes=None,\n",
       "                      min_impurity_decrease=0.0, min_impurity_split=None,\n",
       "                      min_samples_leaf=1, min_samples_split=2,\n",
       "                      min_weight_fraction_leaf=0.0, n_estimators=100, n_jobs=4,\n",
       "                      oob_score=False, random_state=42, verbose=2,\n",
       "                      warm_start=False)"
      ]
     },
     "execution_count": 17,
     "metadata": {},
     "output_type": "execute_result"
    }
   ],
   "source": [
    "regressor = RandomForestRegressor(n_estimators = 100, random_state = seed, verbose=2, max_depth=10, n_jobs=4) \n",
    "regressor.fit(X_train, Y_train)"
   ]
  },
  {
   "cell_type": "code",
   "execution_count": 18,
   "metadata": {},
   "outputs": [
    {
     "name": "stderr",
     "output_type": "stream",
     "text": [
      "[Parallel(n_jobs=4)]: Using backend ThreadingBackend with 4 concurrent workers.\n",
      "[Parallel(n_jobs=4)]: Done  33 tasks      | elapsed:    0.1s\n",
      "[Parallel(n_jobs=4)]: Done 100 out of 100 | elapsed:    0.3s finished\n"
     ]
    },
    {
     "data": {
      "text/plain": [
       "588415.487957101"
      ]
     },
     "execution_count": 18,
     "metadata": {},
     "output_type": "execute_result"
    }
   ],
   "source": [
    "y_pred = regressor.predict(X_val)\n",
    "mean_absolute_error(Y_val, y_pred)"
   ]
  },
  {
   "cell_type": "code",
   "execution_count": 19,
   "metadata": {},
   "outputs": [
    {
     "name": "stderr",
     "output_type": "stream",
     "text": [
      "[Parallel(n_jobs=4)]: Using backend ThreadingBackend with 4 concurrent workers.\n",
      "[Parallel(n_jobs=4)]: Done  33 tasks      | elapsed:    0.4s\n",
      "[Parallel(n_jobs=4)]: Done 100 out of 100 | elapsed:    1.2s finished\n"
     ]
    },
    {
     "data": {
      "text/plain": [
       "557178.1966972738"
      ]
     },
     "execution_count": 19,
     "metadata": {},
     "output_type": "execute_result"
    }
   ],
   "source": [
    "y_pred2 = regressor.predict(X_train)\n",
    "mean_absolute_error(Y_train, y_pred2)"
   ]
  },
  {
   "cell_type": "markdown",
   "metadata": {},
   "source": [
    "### Modelo: XGBoost"
   ]
  },
  {
   "cell_type": "markdown",
   "metadata": {},
   "source": [
    "_Generacion del dataset de train con sus features_"
   ]
  },
  {
   "cell_type": "code",
   "execution_count": 20,
   "metadata": {},
   "outputs": [],
   "source": [
    "import xgboost"
   ]
  },
  {
   "cell_type": "code",
   "execution_count": 21,
   "metadata": {},
   "outputs": [],
   "source": [
    "train,test = pre_processing.load_featured_datasets()"
   ]
  },
  {
   "cell_type": "code",
   "execution_count": 22,
   "metadata": {},
   "outputs": [],
   "source": [
    "train['precio'] = train['precio'].map(lambda x: math.log(x))"
   ]
  },
  {
   "cell_type": "code",
   "execution_count": 23,
   "metadata": {},
   "outputs": [],
   "source": [
    "train_selected = feature_selection.get_selected_dataframe(train)\n",
    "test_selected = feature_selection.get_selected_dataframe(test, precio=False)"
   ]
  },
  {
   "cell_type": "code",
   "execution_count": 24,
   "metadata": {},
   "outputs": [],
   "source": [
    "X = train_selected.drop('precio', axis=1).values\n",
    "Y = train_selected['precio'].values"
   ]
  },
  {
   "cell_type": "code",
   "execution_count": 25,
   "metadata": {},
   "outputs": [],
   "source": [
    "X_train, X_val, Y_train, Y_val = train_test_split(X, Y, test_size=0.2)"
   ]
  },
  {
   "cell_type": "code",
   "execution_count": 26,
   "metadata": {},
   "outputs": [],
   "source": [
    "reg = xgboost.XGBRegressor()"
   ]
  },
  {
   "cell_type": "code",
   "execution_count": 27,
   "metadata": {
    "scrolled": true
   },
   "outputs": [
    {
     "name": "stdout",
     "output_type": "stream",
     "text": [
      "[17:46:11] WARNING: /workspace/src/objective/regression_obj.cu:152: reg:linear is now deprecated in favor of reg:squarederror.\n",
      "[17:46:13] INFO: /workspace/src/tree/updater_prune.cc:74: tree pruning end, 1 roots, 54 extra nodes, 0 pruned nodes, max_depth=8\n",
      "[17:46:13] INFO: /workspace/src/tree/updater_prune.cc:74: tree pruning end, 1 roots, 64 extra nodes, 0 pruned nodes, max_depth=8\n",
      "[17:46:14] INFO: /workspace/src/tree/updater_prune.cc:74: tree pruning end, 1 roots, 70 extra nodes, 0 pruned nodes, max_depth=9\n",
      "[17:46:14] INFO: /workspace/src/tree/updater_prune.cc:74: tree pruning end, 1 roots, 74 extra nodes, 0 pruned nodes, max_depth=8\n",
      "[17:46:15] INFO: /workspace/src/tree/updater_prune.cc:74: tree pruning end, 1 roots, 86 extra nodes, 0 pruned nodes, max_depth=8\n",
      "[17:46:15] INFO: /workspace/src/tree/updater_prune.cc:74: tree pruning end, 1 roots, 82 extra nodes, 0 pruned nodes, max_depth=8\n",
      "[17:46:16] INFO: /workspace/src/tree/updater_prune.cc:74: tree pruning end, 1 roots, 102 extra nodes, 0 pruned nodes, max_depth=9\n",
      "[17:46:16] INFO: /workspace/src/tree/updater_prune.cc:74: tree pruning end, 1 roots, 104 extra nodes, 0 pruned nodes, max_depth=8\n",
      "[17:46:17] INFO: /workspace/src/tree/updater_prune.cc:74: tree pruning end, 1 roots, 112 extra nodes, 0 pruned nodes, max_depth=8\n",
      "[17:46:18] INFO: /workspace/src/tree/updater_prune.cc:74: tree pruning end, 1 roots, 126 extra nodes, 0 pruned nodes, max_depth=9\n",
      "[17:46:18] INFO: /workspace/src/tree/updater_prune.cc:74: tree pruning end, 1 roots, 138 extra nodes, 0 pruned nodes, max_depth=9\n",
      "[17:46:19] INFO: /workspace/src/tree/updater_prune.cc:74: tree pruning end, 1 roots, 174 extra nodes, 0 pruned nodes, max_depth=10\n",
      "[17:46:20] INFO: /workspace/src/tree/updater_prune.cc:74: tree pruning end, 1 roots, 182 extra nodes, 0 pruned nodes, max_depth=10\n",
      "[17:46:20] INFO: /workspace/src/tree/updater_prune.cc:74: tree pruning end, 1 roots, 186 extra nodes, 0 pruned nodes, max_depth=9\n",
      "[17:46:21] INFO: /workspace/src/tree/updater_prune.cc:74: tree pruning end, 1 roots, 240 extra nodes, 0 pruned nodes, max_depth=10\n",
      "[17:46:22] INFO: /workspace/src/tree/updater_prune.cc:74: tree pruning end, 1 roots, 248 extra nodes, 0 pruned nodes, max_depth=11\n",
      "[17:46:23] INFO: /workspace/src/tree/updater_prune.cc:74: tree pruning end, 1 roots, 322 extra nodes, 0 pruned nodes, max_depth=12\n",
      "[17:46:23] INFO: /workspace/src/tree/updater_prune.cc:74: tree pruning end, 1 roots, 408 extra nodes, 0 pruned nodes, max_depth=14\n",
      "[17:46:24] INFO: /workspace/src/tree/updater_prune.cc:74: tree pruning end, 1 roots, 482 extra nodes, 0 pruned nodes, max_depth=14\n",
      "[17:46:25] INFO: /workspace/src/tree/updater_prune.cc:74: tree pruning end, 1 roots, 584 extra nodes, 0 pruned nodes, max_depth=14\n",
      "[17:46:26] INFO: /workspace/src/tree/updater_prune.cc:74: tree pruning end, 1 roots, 720 extra nodes, 0 pruned nodes, max_depth=14\n",
      "[17:46:27] INFO: /workspace/src/tree/updater_prune.cc:74: tree pruning end, 1 roots, 842 extra nodes, 0 pruned nodes, max_depth=14\n",
      "[17:46:28] INFO: /workspace/src/tree/updater_prune.cc:74: tree pruning end, 1 roots, 1086 extra nodes, 0 pruned nodes, max_depth=14\n",
      "[17:46:29] INFO: /workspace/src/tree/updater_prune.cc:74: tree pruning end, 1 roots, 1418 extra nodes, 0 pruned nodes, max_depth=14\n",
      "[17:46:30] INFO: /workspace/src/tree/updater_prune.cc:74: tree pruning end, 1 roots, 1612 extra nodes, 0 pruned nodes, max_depth=14\n",
      "[17:46:31] INFO: /workspace/src/tree/updater_prune.cc:74: tree pruning end, 1 roots, 1834 extra nodes, 0 pruned nodes, max_depth=14\n",
      "[17:46:33] INFO: /workspace/src/tree/updater_prune.cc:74: tree pruning end, 1 roots, 2444 extra nodes, 0 pruned nodes, max_depth=14\n",
      "[17:46:34] INFO: /workspace/src/tree/updater_prune.cc:74: tree pruning end, 1 roots, 2330 extra nodes, 0 pruned nodes, max_depth=14\n",
      "[17:46:35] INFO: /workspace/src/tree/updater_prune.cc:74: tree pruning end, 1 roots, 2496 extra nodes, 0 pruned nodes, max_depth=14\n",
      "[17:46:37] INFO: /workspace/src/tree/updater_prune.cc:74: tree pruning end, 1 roots, 2998 extra nodes, 0 pruned nodes, max_depth=14\n",
      "[17:46:38] INFO: /workspace/src/tree/updater_prune.cc:74: tree pruning end, 1 roots, 2928 extra nodes, 0 pruned nodes, max_depth=14\n",
      "[17:46:39] INFO: /workspace/src/tree/updater_prune.cc:74: tree pruning end, 1 roots, 3750 extra nodes, 0 pruned nodes, max_depth=14\n",
      "[17:46:40] INFO: /workspace/src/tree/updater_prune.cc:74: tree pruning end, 1 roots, 3844 extra nodes, 0 pruned nodes, max_depth=14\n",
      "[17:46:42] INFO: /workspace/src/tree/updater_prune.cc:74: tree pruning end, 1 roots, 3534 extra nodes, 0 pruned nodes, max_depth=14\n",
      "[17:46:43] INFO: /workspace/src/tree/updater_prune.cc:74: tree pruning end, 1 roots, 3292 extra nodes, 0 pruned nodes, max_depth=14\n",
      "[17:46:45] INFO: /workspace/src/tree/updater_prune.cc:74: tree pruning end, 1 roots, 4180 extra nodes, 0 pruned nodes, max_depth=14\n",
      "[17:46:47] INFO: /workspace/src/tree/updater_prune.cc:74: tree pruning end, 1 roots, 3346 extra nodes, 0 pruned nodes, max_depth=14\n",
      "[17:46:51] INFO: /workspace/src/tree/updater_prune.cc:74: tree pruning end, 1 roots, 3482 extra nodes, 0 pruned nodes, max_depth=14\n",
      "[17:46:53] INFO: /workspace/src/tree/updater_prune.cc:74: tree pruning end, 1 roots, 3470 extra nodes, 0 pruned nodes, max_depth=14\n",
      "[17:46:55] INFO: /workspace/src/tree/updater_prune.cc:74: tree pruning end, 1 roots, 3176 extra nodes, 0 pruned nodes, max_depth=14\n",
      "[17:46:56] INFO: /workspace/src/tree/updater_prune.cc:74: tree pruning end, 1 roots, 3644 extra nodes, 0 pruned nodes, max_depth=14\n",
      "[17:46:58] INFO: /workspace/src/tree/updater_prune.cc:74: tree pruning end, 1 roots, 3104 extra nodes, 0 pruned nodes, max_depth=14\n",
      "[17:46:59] INFO: /workspace/src/tree/updater_prune.cc:74: tree pruning end, 1 roots, 3594 extra nodes, 0 pruned nodes, max_depth=14\n",
      "[17:47:01] INFO: /workspace/src/tree/updater_prune.cc:74: tree pruning end, 1 roots, 2938 extra nodes, 0 pruned nodes, max_depth=14\n",
      "[17:47:03] INFO: /workspace/src/tree/updater_prune.cc:74: tree pruning end, 1 roots, 2808 extra nodes, 0 pruned nodes, max_depth=14\n",
      "[17:47:06] INFO: /workspace/src/tree/updater_prune.cc:74: tree pruning end, 1 roots, 3106 extra nodes, 0 pruned nodes, max_depth=14\n",
      "[17:47:07] INFO: /workspace/src/tree/updater_prune.cc:74: tree pruning end, 1 roots, 3668 extra nodes, 0 pruned nodes, max_depth=14\n",
      "[17:47:09] INFO: /workspace/src/tree/updater_prune.cc:74: tree pruning end, 1 roots, 2646 extra nodes, 0 pruned nodes, max_depth=14\n",
      "[17:47:10] INFO: /workspace/src/tree/updater_prune.cc:74: tree pruning end, 1 roots, 2174 extra nodes, 0 pruned nodes, max_depth=14\n",
      "[17:47:12] INFO: /workspace/src/tree/updater_prune.cc:74: tree pruning end, 1 roots, 3108 extra nodes, 0 pruned nodes, max_depth=14\n",
      "[17:47:13] INFO: /workspace/src/tree/updater_prune.cc:74: tree pruning end, 1 roots, 2172 extra nodes, 0 pruned nodes, max_depth=14\n",
      "[17:47:15] INFO: /workspace/src/tree/updater_prune.cc:74: tree pruning end, 1 roots, 2266 extra nodes, 0 pruned nodes, max_depth=14\n",
      "[17:47:16] INFO: /workspace/src/tree/updater_prune.cc:74: tree pruning end, 1 roots, 2290 extra nodes, 0 pruned nodes, max_depth=14\n",
      "[17:47:18] INFO: /workspace/src/tree/updater_prune.cc:74: tree pruning end, 1 roots, 1778 extra nodes, 0 pruned nodes, max_depth=14\n",
      "[17:47:19] INFO: /workspace/src/tree/updater_prune.cc:74: tree pruning end, 1 roots, 2658 extra nodes, 0 pruned nodes, max_depth=14\n",
      "[17:47:21] INFO: /workspace/src/tree/updater_prune.cc:74: tree pruning end, 1 roots, 1892 extra nodes, 0 pruned nodes, max_depth=14\n",
      "[17:47:22] INFO: /workspace/src/tree/updater_prune.cc:74: tree pruning end, 1 roots, 2872 extra nodes, 0 pruned nodes, max_depth=14\n",
      "[17:47:24] INFO: /workspace/src/tree/updater_prune.cc:74: tree pruning end, 1 roots, 978 extra nodes, 0 pruned nodes, max_depth=14\n",
      "[17:47:26] INFO: /workspace/src/tree/updater_prune.cc:74: tree pruning end, 1 roots, 2112 extra nodes, 0 pruned nodes, max_depth=14\n",
      "[17:47:28] INFO: /workspace/src/tree/updater_prune.cc:74: tree pruning end, 1 roots, 2848 extra nodes, 0 pruned nodes, max_depth=14\n",
      "[17:47:29] INFO: /workspace/src/tree/updater_prune.cc:74: tree pruning end, 1 roots, 1772 extra nodes, 0 pruned nodes, max_depth=14\n",
      "[17:47:30] INFO: /workspace/src/tree/updater_prune.cc:74: tree pruning end, 1 roots, 1626 extra nodes, 0 pruned nodes, max_depth=14\n",
      "[17:47:31] INFO: /workspace/src/tree/updater_prune.cc:74: tree pruning end, 1 roots, 1966 extra nodes, 0 pruned nodes, max_depth=14\n",
      "[17:47:33] INFO: /workspace/src/tree/updater_prune.cc:74: tree pruning end, 1 roots, 1418 extra nodes, 0 pruned nodes, max_depth=14\n",
      "[17:47:35] INFO: /workspace/src/tree/updater_prune.cc:74: tree pruning end, 1 roots, 2338 extra nodes, 0 pruned nodes, max_depth=14\n",
      "[17:47:36] INFO: /workspace/src/tree/updater_prune.cc:74: tree pruning end, 1 roots, 1194 extra nodes, 0 pruned nodes, max_depth=14\n",
      "[17:47:37] INFO: /workspace/src/tree/updater_prune.cc:74: tree pruning end, 1 roots, 886 extra nodes, 0 pruned nodes, max_depth=14\n",
      "[17:47:39] INFO: /workspace/src/tree/updater_prune.cc:74: tree pruning end, 1 roots, 1170 extra nodes, 0 pruned nodes, max_depth=14\n",
      "[17:47:41] INFO: /workspace/src/tree/updater_prune.cc:74: tree pruning end, 1 roots, 1282 extra nodes, 0 pruned nodes, max_depth=14\n",
      "[17:47:43] INFO: /workspace/src/tree/updater_prune.cc:74: tree pruning end, 1 roots, 2960 extra nodes, 0 pruned nodes, max_depth=14\n",
      "[17:47:45] INFO: /workspace/src/tree/updater_prune.cc:74: tree pruning end, 1 roots, 1952 extra nodes, 0 pruned nodes, max_depth=14\n",
      "[17:47:46] INFO: /workspace/src/tree/updater_prune.cc:74: tree pruning end, 1 roots, 1800 extra nodes, 0 pruned nodes, max_depth=14\n",
      "[17:47:48] INFO: /workspace/src/tree/updater_prune.cc:74: tree pruning end, 1 roots, 1792 extra nodes, 0 pruned nodes, max_depth=14\n",
      "[17:47:50] INFO: /workspace/src/tree/updater_prune.cc:74: tree pruning end, 1 roots, 1336 extra nodes, 0 pruned nodes, max_depth=14\n",
      "[17:47:52] INFO: /workspace/src/tree/updater_prune.cc:74: tree pruning end, 1 roots, 2134 extra nodes, 0 pruned nodes, max_depth=14\n",
      "[17:47:53] INFO: /workspace/src/tree/updater_prune.cc:74: tree pruning end, 1 roots, 1000 extra nodes, 0 pruned nodes, max_depth=14\n",
      "[17:47:55] INFO: /workspace/src/tree/updater_prune.cc:74: tree pruning end, 1 roots, 1168 extra nodes, 0 pruned nodes, max_depth=14\n",
      "[17:47:56] INFO: /workspace/src/tree/updater_prune.cc:74: tree pruning end, 1 roots, 1330 extra nodes, 0 pruned nodes, max_depth=14\n",
      "[17:47:59] INFO: /workspace/src/tree/updater_prune.cc:74: tree pruning end, 1 roots, 2392 extra nodes, 0 pruned nodes, max_depth=14\n",
      "[17:48:00] INFO: /workspace/src/tree/updater_prune.cc:74: tree pruning end, 1 roots, 1610 extra nodes, 0 pruned nodes, max_depth=14\n",
      "[17:48:02] INFO: /workspace/src/tree/updater_prune.cc:74: tree pruning end, 1 roots, 954 extra nodes, 0 pruned nodes, max_depth=14\n",
      "[17:48:03] INFO: /workspace/src/tree/updater_prune.cc:74: tree pruning end, 1 roots, 1146 extra nodes, 0 pruned nodes, max_depth=14\n",
      "[17:48:04] INFO: /workspace/src/tree/updater_prune.cc:74: tree pruning end, 1 roots, 1762 extra nodes, 0 pruned nodes, max_depth=14\n",
      "[17:48:06] INFO: /workspace/src/tree/updater_prune.cc:74: tree pruning end, 1 roots, 1236 extra nodes, 0 pruned nodes, max_depth=14\n",
      "[17:48:08] INFO: /workspace/src/tree/updater_prune.cc:74: tree pruning end, 1 roots, 1960 extra nodes, 0 pruned nodes, max_depth=14\n",
      "[17:48:10] INFO: /workspace/src/tree/updater_prune.cc:74: tree pruning end, 1 roots, 1684 extra nodes, 0 pruned nodes, max_depth=14\n",
      "[17:48:12] INFO: /workspace/src/tree/updater_prune.cc:74: tree pruning end, 1 roots, 1674 extra nodes, 0 pruned nodes, max_depth=14\n",
      "[17:48:14] INFO: /workspace/src/tree/updater_prune.cc:74: tree pruning end, 1 roots, 1544 extra nodes, 0 pruned nodes, max_depth=14\n",
      "[17:48:16] INFO: /workspace/src/tree/updater_prune.cc:74: tree pruning end, 1 roots, 1408 extra nodes, 0 pruned nodes, max_depth=14\n",
      "[17:48:18] INFO: /workspace/src/tree/updater_prune.cc:74: tree pruning end, 1 roots, 1660 extra nodes, 0 pruned nodes, max_depth=14\n",
      "[17:48:20] INFO: /workspace/src/tree/updater_prune.cc:74: tree pruning end, 1 roots, 1780 extra nodes, 0 pruned nodes, max_depth=14\n",
      "[17:48:21] INFO: /workspace/src/tree/updater_prune.cc:74: tree pruning end, 1 roots, 1340 extra nodes, 0 pruned nodes, max_depth=14\n",
      "[17:48:23] INFO: /workspace/src/tree/updater_prune.cc:74: tree pruning end, 1 roots, 2290 extra nodes, 0 pruned nodes, max_depth=14\n",
      "[17:48:25] INFO: /workspace/src/tree/updater_prune.cc:74: tree pruning end, 1 roots, 1624 extra nodes, 0 pruned nodes, max_depth=14\n",
      "[17:48:27] INFO: /workspace/src/tree/updater_prune.cc:74: tree pruning end, 1 roots, 1280 extra nodes, 0 pruned nodes, max_depth=14\n",
      "[17:48:28] INFO: /workspace/src/tree/updater_prune.cc:74: tree pruning end, 1 roots, 602 extra nodes, 0 pruned nodes, max_depth=14\n",
      "[17:48:32] INFO: /workspace/src/tree/updater_prune.cc:74: tree pruning end, 1 roots, 1760 extra nodes, 0 pruned nodes, max_depth=14\n",
      "[17:48:33] INFO: /workspace/src/tree/updater_prune.cc:74: tree pruning end, 1 roots, 754 extra nodes, 0 pruned nodes, max_depth=14\n",
      "[17:48:35] INFO: /workspace/src/tree/updater_prune.cc:74: tree pruning end, 1 roots, 1620 extra nodes, 0 pruned nodes, max_depth=14\n",
      "[17:48:36] INFO: /workspace/src/tree/updater_prune.cc:74: tree pruning end, 1 roots, 1212 extra nodes, 0 pruned nodes, max_depth=14\n",
      "[17:48:38] INFO: /workspace/src/tree/updater_prune.cc:74: tree pruning end, 1 roots, 2510 extra nodes, 0 pruned nodes, max_depth=14\n",
      "[17:48:40] INFO: /workspace/src/tree/updater_prune.cc:74: tree pruning end, 1 roots, 1232 extra nodes, 0 pruned nodes, max_depth=14\n",
      "[17:48:42] INFO: /workspace/src/tree/updater_prune.cc:74: tree pruning end, 1 roots, 1080 extra nodes, 0 pruned nodes, max_depth=14\n",
      "[17:48:45] INFO: /workspace/src/tree/updater_prune.cc:74: tree pruning end, 1 roots, 816 extra nodes, 0 pruned nodes, max_depth=14\n",
      "[17:48:48] INFO: /workspace/src/tree/updater_prune.cc:74: tree pruning end, 1 roots, 992 extra nodes, 0 pruned nodes, max_depth=14\n",
      "[17:48:50] INFO: /workspace/src/tree/updater_prune.cc:74: tree pruning end, 1 roots, 1222 extra nodes, 0 pruned nodes, max_depth=14\n",
      "[17:48:51] INFO: /workspace/src/tree/updater_prune.cc:74: tree pruning end, 1 roots, 1850 extra nodes, 0 pruned nodes, max_depth=14\n",
      "[17:48:53] INFO: /workspace/src/tree/updater_prune.cc:74: tree pruning end, 1 roots, 738 extra nodes, 0 pruned nodes, max_depth=14\n",
      "[17:48:54] INFO: /workspace/src/tree/updater_prune.cc:74: tree pruning end, 1 roots, 996 extra nodes, 0 pruned nodes, max_depth=14\n",
      "[17:48:57] INFO: /workspace/src/tree/updater_prune.cc:74: tree pruning end, 1 roots, 1780 extra nodes, 0 pruned nodes, max_depth=14\n",
      "[17:48:59] INFO: /workspace/src/tree/updater_prune.cc:74: tree pruning end, 1 roots, 1348 extra nodes, 0 pruned nodes, max_depth=14\n",
      "[17:49:01] INFO: /workspace/src/tree/updater_prune.cc:74: tree pruning end, 1 roots, 1144 extra nodes, 0 pruned nodes, max_depth=14\n",
      "[17:49:02] INFO: /workspace/src/tree/updater_prune.cc:74: tree pruning end, 1 roots, 1790 extra nodes, 0 pruned nodes, max_depth=14\n",
      "[17:49:05] INFO: /workspace/src/tree/updater_prune.cc:74: tree pruning end, 1 roots, 1804 extra nodes, 0 pruned nodes, max_depth=14\n",
      "[17:49:07] INFO: /workspace/src/tree/updater_prune.cc:74: tree pruning end, 1 roots, 1344 extra nodes, 0 pruned nodes, max_depth=14\n",
      "[17:49:08] INFO: /workspace/src/tree/updater_prune.cc:74: tree pruning end, 1 roots, 828 extra nodes, 0 pruned nodes, max_depth=14\n",
      "[17:49:10] INFO: /workspace/src/tree/updater_prune.cc:74: tree pruning end, 1 roots, 1886 extra nodes, 0 pruned nodes, max_depth=14\n",
      "[17:49:11] INFO: /workspace/src/tree/updater_prune.cc:74: tree pruning end, 1 roots, 1552 extra nodes, 0 pruned nodes, max_depth=14\n",
      "[17:49:13] INFO: /workspace/src/tree/updater_prune.cc:74: tree pruning end, 1 roots, 1324 extra nodes, 0 pruned nodes, max_depth=14\n",
      "[17:49:14] INFO: /workspace/src/tree/updater_prune.cc:74: tree pruning end, 1 roots, 1208 extra nodes, 0 pruned nodes, max_depth=14\n",
      "[17:49:16] INFO: /workspace/src/tree/updater_prune.cc:74: tree pruning end, 1 roots, 1058 extra nodes, 0 pruned nodes, max_depth=14\n",
      "[17:49:17] INFO: /workspace/src/tree/updater_prune.cc:74: tree pruning end, 1 roots, 1768 extra nodes, 0 pruned nodes, max_depth=14\n",
      "[17:49:19] INFO: /workspace/src/tree/updater_prune.cc:74: tree pruning end, 1 roots, 1112 extra nodes, 0 pruned nodes, max_depth=14\n",
      "[17:49:20] INFO: /workspace/src/tree/updater_prune.cc:74: tree pruning end, 1 roots, 972 extra nodes, 0 pruned nodes, max_depth=14\n",
      "[17:49:21] INFO: /workspace/src/tree/updater_prune.cc:74: tree pruning end, 1 roots, 1098 extra nodes, 0 pruned nodes, max_depth=14\n",
      "[17:49:22] INFO: /workspace/src/tree/updater_prune.cc:74: tree pruning end, 1 roots, 1316 extra nodes, 0 pruned nodes, max_depth=14\n",
      "[17:49:24] INFO: /workspace/src/tree/updater_prune.cc:74: tree pruning end, 1 roots, 2166 extra nodes, 0 pruned nodes, max_depth=14\n",
      "[17:49:25] INFO: /workspace/src/tree/updater_prune.cc:74: tree pruning end, 1 roots, 1384 extra nodes, 0 pruned nodes, max_depth=14\n",
      "[17:49:27] INFO: /workspace/src/tree/updater_prune.cc:74: tree pruning end, 1 roots, 1066 extra nodes, 0 pruned nodes, max_depth=14\n",
      "[17:49:28] INFO: /workspace/src/tree/updater_prune.cc:74: tree pruning end, 1 roots, 2018 extra nodes, 0 pruned nodes, max_depth=14\n",
      "[17:49:30] INFO: /workspace/src/tree/updater_prune.cc:74: tree pruning end, 1 roots, 2036 extra nodes, 0 pruned nodes, max_depth=14\n",
      "[17:49:31] INFO: /workspace/src/tree/updater_prune.cc:74: tree pruning end, 1 roots, 1454 extra nodes, 0 pruned nodes, max_depth=14\n",
      "[17:49:32] INFO: /workspace/src/tree/updater_prune.cc:74: tree pruning end, 1 roots, 1048 extra nodes, 0 pruned nodes, max_depth=14\n",
      "[17:49:33] INFO: /workspace/src/tree/updater_prune.cc:74: tree pruning end, 1 roots, 834 extra nodes, 0 pruned nodes, max_depth=14\n",
      "[17:49:35] INFO: /workspace/src/tree/updater_prune.cc:74: tree pruning end, 1 roots, 1132 extra nodes, 0 pruned nodes, max_depth=14\n",
      "[17:49:36] INFO: /workspace/src/tree/updater_prune.cc:74: tree pruning end, 1 roots, 722 extra nodes, 0 pruned nodes, max_depth=14\n",
      "[17:49:38] INFO: /workspace/src/tree/updater_prune.cc:74: tree pruning end, 1 roots, 1974 extra nodes, 0 pruned nodes, max_depth=14\n",
      "[17:49:39] INFO: /workspace/src/tree/updater_prune.cc:74: tree pruning end, 1 roots, 1328 extra nodes, 0 pruned nodes, max_depth=14\n",
      "[17:49:41] INFO: /workspace/src/tree/updater_prune.cc:74: tree pruning end, 1 roots, 1320 extra nodes, 0 pruned nodes, max_depth=14\n",
      "[17:49:42] INFO: /workspace/src/tree/updater_prune.cc:74: tree pruning end, 1 roots, 1114 extra nodes, 0 pruned nodes, max_depth=14\n"
     ]
    },
    {
     "data": {
      "text/plain": [
       "XGBRegressor(base_score=0.5, booster='gbtree', colsample_bylevel=1,\n",
       "             colsample_bynode=1, colsample_bytree=1, gamma=0,\n",
       "             importance_type='gain', learning_rate=0.1, max_delta_step=0,\n",
       "             max_depth=14, min_child_weight=15, missing=None, n_estimators=140,\n",
       "             n_jobs=4, nthread=None, objective='reg:linear', random_state=0,\n",
       "             reg_alpha=0, reg_lambda=1, scale_pos_weight=1, seed=None,\n",
       "             silent=None, subsample=0.9, verbosity=2)"
      ]
     },
     "execution_count": 27,
     "metadata": {},
     "output_type": "execute_result"
    }
   ],
   "source": [
    "reg = xgboost.XGBRegressor(max_depth=14,n_estimators=140 ,learning_rate=0.1, verbosity=2,subsample=0.9, min_child_weight=15,n_jobs=4)\n",
    "reg.fit(X_train,Y_train)"
   ]
  },
  {
   "cell_type": "markdown",
   "metadata": {},
   "source": [
    "_Comprobacion contra el conjunto de validacion_"
   ]
  },
  {
   "cell_type": "code",
   "execution_count": 28,
   "metadata": {
    "scrolled": true
   },
   "outputs": [
    {
     "data": {
      "text/plain": [
       "475474.8101123654"
      ]
     },
     "execution_count": 28,
     "metadata": {},
     "output_type": "execute_result"
    }
   ],
   "source": [
    "Y_pred = reg.predict(X_val)\n",
    "\n",
    "f = np.vectorize(math.exp)\n",
    "Y_pred = f(Y_pred)\n",
    "Y_val = f(Y_val)\n",
    "mean_absolute_error(Y_val,Y_pred)"
   ]
  },
  {
   "cell_type": "code",
   "execution_count": 43,
   "metadata": {},
   "outputs": [],
   "source": [
    "# preparamos el csv de respuesta para kaggle"
   ]
  },
  {
   "cell_type": "code",
   "execution_count": 44,
   "metadata": {},
   "outputs": [],
   "source": [
    "ids = test_selected.index.values\n",
    "X_test = test_selected.values"
   ]
  },
  {
   "cell_type": "code",
   "execution_count": 45,
   "metadata": {},
   "outputs": [],
   "source": [
    "test_predict = reg.predict(X_test)\n",
    "\n",
    "f = np.vectorize(math.exp)\n",
    "test_predict = f(test_predict)"
   ]
  },
  {
   "cell_type": "code",
   "execution_count": 46,
   "metadata": {},
   "outputs": [],
   "source": [
    "escribir_respuesta(ids, test_predict)"
   ]
  },
  {
   "cell_type": "markdown",
   "metadata": {},
   "source": [
    "### Modelo: KNN"
   ]
  },
  {
   "cell_type": "code",
   "execution_count": 11,
   "metadata": {},
   "outputs": [],
   "source": [
    "from sklearn.neighbors import KNeighborsRegressor\n",
    "from sklearn.impute import SimpleImputer\n",
    "from sklearn.preprocessing import MinMaxScaler"
   ]
  },
  {
   "cell_type": "code",
   "execution_count": 5,
   "metadata": {},
   "outputs": [],
   "source": [
    "train,test = pre_processing.load_featured_datasets()"
   ]
  },
  {
   "cell_type": "code",
   "execution_count": 6,
   "metadata": {},
   "outputs": [],
   "source": [
    "train_selected = feature_selection.get_selected_dataframe(train)\n",
    "test_selected = feature_selection.get_selected_dataframe(test, precio=False)"
   ]
  },
  {
   "cell_type": "code",
   "execution_count": 7,
   "metadata": {},
   "outputs": [],
   "source": [
    "X = train_selected.drop('precio', axis=1).values\n",
    "Y = train_selected['precio'].values"
   ]
  },
  {
   "cell_type": "code",
   "execution_count": 12,
   "metadata": {},
   "outputs": [],
   "source": [
    "imp = SimpleImputer(missing_values=np.nan, strategy='mean')"
   ]
  },
  {
   "cell_type": "code",
   "execution_count": 13,
   "metadata": {},
   "outputs": [],
   "source": [
    "X = imp.fit_transform(X)"
   ]
  },
  {
   "cell_type": "code",
   "execution_count": 14,
   "metadata": {},
   "outputs": [],
   "source": [
    "sc = MinMaxScaler()"
   ]
  },
  {
   "cell_type": "code",
   "execution_count": 15,
   "metadata": {},
   "outputs": [],
   "source": [
    "X = sc.fit_transform(X)"
   ]
  },
  {
   "cell_type": "code",
   "execution_count": 16,
   "metadata": {},
   "outputs": [],
   "source": [
    "X_train, X_val, Y_train, Y_val = train_test_split(X, Y, test_size=0.1, random_state=seed)"
   ]
  },
  {
   "cell_type": "code",
   "execution_count": 17,
   "metadata": {},
   "outputs": [],
   "source": [
    "reg = KNeighborsRegressor(n_neighbors=10, algorithm='kd_tree', metric='minkowski', p=2)"
   ]
  },
  {
   "cell_type": "code",
   "execution_count": 18,
   "metadata": {},
   "outputs": [
    {
     "data": {
      "text/plain": [
       "KNeighborsRegressor(algorithm='kd_tree', leaf_size=30, metric='minkowski',\n",
       "                    metric_params=None, n_jobs=None, n_neighbors=10, p=2,\n",
       "                    weights='uniform')"
      ]
     },
     "execution_count": 18,
     "metadata": {},
     "output_type": "execute_result"
    }
   ],
   "source": [
    "reg.fit(X_train,Y_train)"
   ]
  },
  {
   "cell_type": "code",
   "execution_count": 19,
   "metadata": {},
   "outputs": [],
   "source": [
    "Y_pred = reg.predict(X_val)"
   ]
  },
  {
   "cell_type": "code",
   "execution_count": 20,
   "metadata": {},
   "outputs": [
    {
     "data": {
      "text/plain": [
       "750980.8806958334"
      ]
     },
     "execution_count": 20,
     "metadata": {},
     "output_type": "execute_result"
    }
   ],
   "source": [
    "mean_absolute_error(Y_val,Y_pred)"
   ]
  },
  {
   "cell_type": "markdown",
   "metadata": {},
   "source": [
    "### Modelo: Neural Networks"
   ]
  },
  {
   "cell_type": "code",
   "execution_count": 63,
   "metadata": {},
   "outputs": [],
   "source": [
    "from sklearn.neural_network import MLPRegressor\n",
    "from sklearn.preprocessing import MinMaxScaler\n",
    "from sklearn.impute import SimpleImputer"
   ]
  },
  {
   "cell_type": "code",
   "execution_count": 57,
   "metadata": {},
   "outputs": [],
   "source": [
    "train,test = pre_processing.load_featured_datasets()"
   ]
  },
  {
   "cell_type": "code",
   "execution_count": 58,
   "metadata": {},
   "outputs": [],
   "source": [
    "train_selected = feature_selection.get_selected_dataframe(train)\n",
    "test_selected = feature_selection.get_selected_dataframe(test, precio=False)"
   ]
  },
  {
   "cell_type": "code",
   "execution_count": 59,
   "metadata": {},
   "outputs": [],
   "source": [
    "X = train_selected.drop('precio', axis=1).values\n",
    "Y = train_selected['precio'].values"
   ]
  },
  {
   "cell_type": "code",
   "execution_count": 68,
   "metadata": {},
   "outputs": [],
   "source": [
    "## Tratado de nulos y escalado de los datos para la red neuronal"
   ]
  },
  {
   "cell_type": "code",
   "execution_count": 60,
   "metadata": {},
   "outputs": [],
   "source": [
    "scaler = MinMaxScaler()"
   ]
  },
  {
   "cell_type": "code",
   "execution_count": 61,
   "metadata": {},
   "outputs": [],
   "source": [
    "X = scaler.fit_transform(X)"
   ]
  },
  {
   "cell_type": "code",
   "execution_count": 64,
   "metadata": {},
   "outputs": [],
   "source": [
    "imp = SimpleImputer(missing_values=np.nan, strategy='mean')"
   ]
  },
  {
   "cell_type": "code",
   "execution_count": 65,
   "metadata": {},
   "outputs": [],
   "source": [
    "X = imp.fit_transform(X)"
   ]
  },
  {
   "cell_type": "code",
   "execution_count": 67,
   "metadata": {},
   "outputs": [],
   "source": [
    "X_train, X_val, Y_train, Y_val = train_test_split(X, Y, test_size=0.1, random_state=seed)"
   ]
  },
  {
   "cell_type": "code",
   "execution_count": 74,
   "metadata": {},
   "outputs": [],
   "source": [
    "reg = MLPRegressor(hidden_layer_sizes=(6,),activation='relu',solver='adam',learning_rate='adaptive',max_iter=1000,\n",
    "            learning_rate_init=0.01,alpha=0.01, verbose = True)"
   ]
  },
  {
   "cell_type": "code",
   "execution_count": 75,
   "metadata": {},
   "outputs": [
    {
     "name": "stdout",
     "output_type": "stream",
     "text": [
      "Iteration 1, loss = 5479174818011.77636719\n",
      "Iteration 2, loss = 5314735544892.87109375\n",
      "Iteration 3, loss = 5038288825323.17285156\n",
      "Iteration 4, loss = 4690582949306.25097656\n",
      "Iteration 5, loss = 4298947223866.83154297\n",
      "Iteration 6, loss = 3885482613340.61230469\n",
      "Iteration 7, loss = 3469673774375.79101562\n",
      "Iteration 8, loss = 3070898556496.04150391\n",
      "Iteration 9, loss = 2706648010594.15332031\n",
      "Iteration 10, loss = 2393534030732.16455078\n",
      "Iteration 11, loss = 2143240739350.12890625\n",
      "Iteration 12, loss = 1961527643323.32617188\n",
      "Iteration 13, loss = 1843553682394.23071289\n",
      "Iteration 14, loss = 1771439218489.66186523\n",
      "Iteration 15, loss = 1721304165548.47656250\n",
      "Iteration 16, loss = 1677377910150.12377930\n",
      "Iteration 17, loss = 1634672471379.27929688\n",
      "Iteration 18, loss = 1592086428120.01684570\n",
      "Iteration 19, loss = 1549346120525.87890625\n",
      "Iteration 20, loss = 1506515828888.14965820\n",
      "Iteration 21, loss = 1463462610477.21337891\n",
      "Iteration 22, loss = 1420088647230.22167969\n",
      "Iteration 23, loss = 1376657569487.94458008\n",
      "Iteration 24, loss = 1333422835360.80444336\n",
      "Iteration 25, loss = 1290548345446.33862305\n",
      "Iteration 26, loss = 1248105644228.14770508\n",
      "Iteration 27, loss = 1206425168561.58911133\n",
      "Iteration 28, loss = 1166005140975.55590820\n",
      "Iteration 29, loss = 1127568072129.11035156\n",
      "Iteration 30, loss = 1091329696193.44592285\n",
      "Iteration 31, loss = 1057161001211.77453613\n",
      "Iteration 32, loss = 1024326267801.24487305\n",
      "Iteration 33, loss = 994488428925.02380371\n",
      "Iteration 34, loss = 967816210432.85302734\n",
      "Iteration 35, loss = 944179308941.30566406\n",
      "Iteration 36, loss = 923678313024.10278320\n",
      "Iteration 37, loss = 905908547020.27307129\n",
      "Iteration 38, loss = 890289304344.03051758\n",
      "Iteration 39, loss = 876454696175.80468750\n",
      "Iteration 40, loss = 864243559097.91931152\n",
      "Iteration 41, loss = 853342512026.74572754\n",
      "Iteration 42, loss = 843513622558.66027832\n",
      "Iteration 43, loss = 834600576895.48596191\n",
      "Iteration 44, loss = 826449673595.96533203\n",
      "Iteration 45, loss = 819011558356.10998535\n",
      "Iteration 46, loss = 812191248409.24218750\n",
      "Iteration 47, loss = 805862867588.41699219\n",
      "Iteration 48, loss = 800018281331.10949707\n",
      "Iteration 49, loss = 794470704348.65930176\n",
      "Iteration 50, loss = 789136944974.63500977\n",
      "Iteration 51, loss = 784078590391.28210449\n",
      "Iteration 52, loss = 779231476092.23278809\n",
      "Iteration 53, loss = 774601654162.99035645\n",
      "Iteration 54, loss = 770136527745.13269043\n",
      "Iteration 55, loss = 765849527327.49304199\n",
      "Iteration 56, loss = 761737038145.70104980\n",
      "Iteration 57, loss = 757749870976.13317871\n",
      "Iteration 58, loss = 753846619223.23327637\n",
      "Iteration 59, loss = 749998430076.63684082\n",
      "Iteration 60, loss = 746148436571.38049316\n",
      "Iteration 61, loss = 742269138776.18298340\n",
      "Iteration 62, loss = 738385301362.79980469\n",
      "Iteration 63, loss = 734424138617.06420898\n",
      "Iteration 64, loss = 730367237231.88049316\n",
      "Iteration 65, loss = 726158182203.43493652\n",
      "Iteration 66, loss = 721814556485.79516602\n",
      "Iteration 67, loss = 717413895490.27124023\n",
      "Iteration 68, loss = 712989254885.64331055\n",
      "Iteration 69, loss = 708531350106.96057129\n",
      "Iteration 70, loss = 704183923450.99597168\n",
      "Iteration 71, loss = 699944807372.04113770\n",
      "Iteration 72, loss = 695831675600.18090820\n",
      "Iteration 73, loss = 691849395358.17761230\n",
      "Iteration 74, loss = 688030663030.35705566\n",
      "Iteration 75, loss = 684384608192.23657227\n",
      "Iteration 76, loss = 680909689748.64294434\n",
      "Iteration 77, loss = 677661642773.96606445\n",
      "Iteration 78, loss = 674650205511.10864258\n",
      "Iteration 79, loss = 671770286693.03076172\n",
      "Iteration 80, loss = 669035384617.88061523\n",
      "Iteration 81, loss = 666418717613.57714844\n",
      "Iteration 82, loss = 663897919605.62939453\n",
      "Iteration 83, loss = 661503562332.19555664\n",
      "Iteration 84, loss = 659201208240.48461914\n",
      "Iteration 85, loss = 656972556027.90454102\n",
      "Iteration 86, loss = 654834095309.52392578\n",
      "Iteration 87, loss = 652775834798.92358398\n",
      "Iteration 88, loss = 650760184069.20056152\n",
      "Iteration 89, loss = 648803962376.04882812\n",
      "Iteration 90, loss = 646889205882.81750488\n",
      "Iteration 91, loss = 645047283249.41076660\n",
      "Iteration 92, loss = 643265845988.93005371\n",
      "Iteration 93, loss = 641523912815.62377930\n",
      "Iteration 94, loss = 639814636959.03869629\n",
      "Iteration 95, loss = 638158767836.10742188\n",
      "Iteration 96, loss = 636541343218.40747070\n",
      "Iteration 97, loss = 634962386311.79809570\n",
      "Iteration 98, loss = 633431017962.46435547\n",
      "Iteration 99, loss = 631924015872.35449219\n",
      "Iteration 100, loss = 630444772427.25439453\n",
      "Iteration 101, loss = 628992127175.08227539\n",
      "Iteration 102, loss = 627526413904.66992188\n",
      "Iteration 103, loss = 626078202989.60388184\n",
      "Iteration 104, loss = 624640240216.99694824\n",
      "Iteration 105, loss = 623226612268.13269043\n",
      "Iteration 106, loss = 621804715517.42578125\n",
      "Iteration 107, loss = 620380523236.92175293\n",
      "Iteration 108, loss = 618979652174.13891602\n",
      "Iteration 109, loss = 617595668048.37976074\n",
      "Iteration 110, loss = 616238990377.52844238\n",
      "Iteration 111, loss = 614852064685.79663086\n",
      "Iteration 112, loss = 613461198266.42175293\n",
      "Iteration 113, loss = 612113565547.53442383\n",
      "Iteration 114, loss = 610796742106.51647949\n",
      "Iteration 115, loss = 609498540031.24707031\n",
      "Iteration 116, loss = 608212219158.34167480\n",
      "Iteration 117, loss = 606949805162.99487305\n",
      "Iteration 118, loss = 605712241302.23193359\n",
      "Iteration 119, loss = 604510802825.67150879\n",
      "Iteration 120, loss = 603330845699.57055664\n",
      "Iteration 121, loss = 602177187945.19116211\n",
      "Iteration 122, loss = 601046152916.65246582\n",
      "Iteration 123, loss = 599973860856.70202637\n",
      "Iteration 124, loss = 598932019756.07385254\n",
      "Iteration 125, loss = 597912993609.71887207\n",
      "Iteration 126, loss = 596950588056.38195801\n",
      "Iteration 127, loss = 596000123993.74829102\n",
      "Iteration 128, loss = 595093643092.41516113\n",
      "Iteration 129, loss = 594210863632.04394531\n",
      "Iteration 130, loss = 593370057876.32556152\n",
      "Iteration 131, loss = 592528401065.24291992\n",
      "Iteration 132, loss = 591750135853.43261719\n",
      "Iteration 133, loss = 590997395440.24047852\n",
      "Iteration 134, loss = 590268184857.56433105\n",
      "Iteration 135, loss = 589557514790.12121582\n",
      "Iteration 136, loss = 588862355748.08044434\n",
      "Iteration 137, loss = 588190393260.16979980\n",
      "Iteration 138, loss = 587534144404.98913574\n",
      "Iteration 139, loss = 586897871765.26538086\n",
      "Iteration 140, loss = 586280600984.78845215\n",
      "Iteration 141, loss = 585668439703.64526367\n",
      "Iteration 142, loss = 585080603854.86450195\n",
      "Iteration 143, loss = 584504968978.74096680\n",
      "Iteration 144, loss = 583957980494.61767578\n",
      "Iteration 145, loss = 583412989986.52075195\n",
      "Iteration 146, loss = 582891885798.06164551\n",
      "Iteration 147, loss = 582389882972.51550293\n",
      "Iteration 148, loss = 581885811013.53100586\n",
      "Iteration 149, loss = 581390039421.22326660\n",
      "Iteration 150, loss = 580928292299.38916016\n",
      "Iteration 151, loss = 580454901269.62280273\n",
      "Iteration 152, loss = 579986984617.55017090\n",
      "Iteration 153, loss = 579557349361.24780273\n",
      "Iteration 154, loss = 579131670745.95678711\n",
      "Iteration 155, loss = 578710187068.30480957\n",
      "Iteration 156, loss = 578303461841.97595215\n",
      "Iteration 157, loss = 577902442110.56469727\n",
      "Iteration 158, loss = 577503055960.63439941\n",
      "Iteration 159, loss = 577112041227.37145996\n",
      "Iteration 160, loss = 576729071238.12182617\n",
      "Iteration 161, loss = 576352975023.28454590\n",
      "Iteration 162, loss = 575970955397.49328613\n",
      "Iteration 163, loss = 575628282250.59387207\n",
      "Iteration 164, loss = 575258905789.02026367\n",
      "Iteration 165, loss = 574912197852.02429199\n",
      "Iteration 166, loss = 574568736732.37902832\n",
      "Iteration 167, loss = 574225942357.44396973\n",
      "Iteration 168, loss = 573890614493.99743652\n",
      "Iteration 169, loss = 573553258905.41613770\n",
      "Iteration 170, loss = 573234268426.75805664\n",
      "Iteration 171, loss = 572905199235.52294922\n",
      "Iteration 172, loss = 572587790914.83300781\n",
      "Iteration 173, loss = 572276558576.78356934\n",
      "Iteration 174, loss = 571969151986.75634766\n",
      "Iteration 175, loss = 571659089019.01586914\n",
      "Iteration 176, loss = 571358547976.60327148\n",
      "Iteration 177, loss = 571063690250.81494141\n",
      "Iteration 178, loss = 570779161053.75915527\n",
      "Iteration 179, loss = 570484458092.94470215\n",
      "Iteration 180, loss = 570195252703.46508789\n",
      "Iteration 181, loss = 569900742700.57031250\n",
      "Iteration 182, loss = 569628067049.02026367\n",
      "Iteration 183, loss = 569353756911.03051758\n",
      "Iteration 184, loss = 569092471565.42016602\n",
      "Iteration 185, loss = 568821632726.59387207\n",
      "Iteration 186, loss = 568561749297.57922363\n",
      "Iteration 187, loss = 568293634833.88671875\n",
      "Iteration 188, loss = 568052493232.62854004\n",
      "Iteration 189, loss = 567792107962.33654785\n",
      "Iteration 190, loss = 567544351016.54223633\n",
      "Iteration 191, loss = 567291658075.65270996\n",
      "Iteration 192, loss = 567058082847.38854980\n",
      "Iteration 193, loss = 566814898737.61047363\n",
      "Iteration 194, loss = 566567410066.70483398\n",
      "Iteration 195, loss = 566329792632.00048828\n",
      "Iteration 196, loss = 566085875910.00048828\n",
      "Iteration 197, loss = 565859600003.47900391\n",
      "Iteration 198, loss = 565634743319.96801758\n",
      "Iteration 199, loss = 565410489679.89465332\n",
      "Iteration 200, loss = 565178153597.61450195\n",
      "Iteration 201, loss = 564967184268.39233398\n",
      "Iteration 202, loss = 564749680393.84594727\n",
      "Iteration 203, loss = 564536114768.60534668\n",
      "Iteration 204, loss = 564315210473.66149902\n",
      "Iteration 205, loss = 564098612787.94836426\n",
      "Iteration 206, loss = 563900821290.25659180\n",
      "Iteration 207, loss = 563676524478.63598633\n",
      "Iteration 208, loss = 563480773685.92187500\n",
      "Iteration 209, loss = 563266003072.58850098\n",
      "Iteration 210, loss = 563066610133.21130371\n",
      "Iteration 211, loss = 562869958366.77795410\n",
      "Iteration 212, loss = 562666923466.23779297\n",
      "Iteration 213, loss = 562468347026.32019043\n",
      "Iteration 214, loss = 562282700048.89465332\n",
      "Iteration 215, loss = 562085663924.93078613\n",
      "Iteration 216, loss = 561887117993.89062500\n",
      "Iteration 217, loss = 561715013376.83483887\n",
      "Iteration 218, loss = 561520384664.43188477\n",
      "Iteration 219, loss = 561334861449.28698730\n",
      "Iteration 220, loss = 561154973334.72424316\n",
      "Iteration 221, loss = 560975921983.14758301\n",
      "Iteration 222, loss = 560791109088.49755859\n",
      "Iteration 223, loss = 560614268651.14379883\n",
      "Iteration 224, loss = 560441318967.54528809\n",
      "Iteration 225, loss = 560269036821.32702637\n",
      "Iteration 226, loss = 560092286965.66699219\n",
      "Iteration 227, loss = 559922877955.12609863\n",
      "Iteration 228, loss = 559764691427.84375000\n",
      "Iteration 229, loss = 559590122125.14196777\n",
      "Iteration 230, loss = 559425886727.10241699\n",
      "Iteration 231, loss = 559262973902.03796387\n",
      "Iteration 232, loss = 559099089352.14807129\n",
      "Iteration 233, loss = 558932122216.30737305\n",
      "Iteration 234, loss = 558782212513.27087402\n",
      "Iteration 235, loss = 558625082529.95690918\n",
      "Iteration 236, loss = 558455342345.37109375\n",
      "Iteration 237, loss = 558317072270.68139648\n",
      "Iteration 238, loss = 558155713929.36413574\n",
      "Iteration 239, loss = 558007257613.69824219\n",
      "Iteration 240, loss = 557834730689.55358887\n",
      "Iteration 241, loss = 557701768105.43298340\n",
      "Iteration 242, loss = 557558009552.61730957\n",
      "Iteration 243, loss = 557408996827.25573730\n",
      "Iteration 244, loss = 557263484098.39135742\n",
      "Iteration 245, loss = 557129195134.49523926\n",
      "Iteration 246, loss = 556972703104.44946289\n",
      "Iteration 247, loss = 556821401299.79760742\n",
      "Iteration 248, loss = 556697942349.11596680\n",
      "Iteration 249, loss = 556569789347.79418945\n",
      "Iteration 250, loss = 556425112664.60864258\n",
      "Iteration 251, loss = 556287066498.73132324\n",
      "Iteration 252, loss = 556158048665.14440918\n",
      "Iteration 253, loss = 556026793705.16833496\n",
      "Iteration 254, loss = 555889226049.86987305\n",
      "Iteration 255, loss = 555755882435.67431641\n",
      "Iteration 256, loss = 555627966497.32263184\n",
      "Iteration 257, loss = 555507589318.39721680\n",
      "Iteration 258, loss = 555371255639.89880371\n",
      "Iteration 259, loss = 555249828683.09851074\n",
      "Iteration 260, loss = 555122683500.18872070\n",
      "Iteration 261, loss = 554996560142.04455566\n",
      "Iteration 262, loss = 554876220581.38085938\n",
      "Iteration 263, loss = 554733558548.94531250\n",
      "Iteration 264, loss = 554626674072.35974121\n",
      "Iteration 265, loss = 554508309359.92016602\n",
      "Iteration 266, loss = 554383857665.24072266\n",
      "Iteration 267, loss = 554248007569.98583984\n",
      "Iteration 268, loss = 554147866677.38427734\n",
      "Iteration 269, loss = 554029703034.70397949\n",
      "Iteration 270, loss = 553911299380.15991211\n",
      "Iteration 271, loss = 553792660787.55529785\n",
      "Iteration 272, loss = 553680861752.12500000\n",
      "Iteration 273, loss = 553565579433.29772949\n",
      "Iteration 274, loss = 553455582435.33105469\n",
      "Iteration 275, loss = 553339435725.83593750\n",
      "Iteration 276, loss = 553230420977.64501953\n",
      "Iteration 277, loss = 553126293881.86108398\n",
      "Iteration 278, loss = 553010692841.56372070\n",
      "Iteration 279, loss = 552895802389.27331543\n",
      "Iteration 280, loss = 552795571371.95996094\n",
      "Iteration 281, loss = 552681078188.14050293\n",
      "Iteration 282, loss = 552576632299.43603516\n",
      "Iteration 283, loss = 552472772223.24438477\n",
      "Iteration 284, loss = 552380915413.77636719\n",
      "Iteration 285, loss = 552270439700.38708496\n",
      "Iteration 286, loss = 552175726582.62988281\n",
      "Iteration 287, loss = 552067851787.64660645\n",
      "Iteration 288, loss = 551959677523.30004883\n",
      "Iteration 289, loss = 551870704341.80407715\n",
      "Iteration 290, loss = 551762690634.92480469\n",
      "Iteration 291, loss = 551663920129.59899902\n",
      "Iteration 292, loss = 551568149864.22595215\n",
      "Iteration 293, loss = 551474874226.74536133\n",
      "Iteration 294, loss = 551384496152.77172852\n",
      "Iteration 295, loss = 551274618210.71264648\n",
      "Iteration 296, loss = 551181458951.97131348\n",
      "Iteration 297, loss = 551077527557.81542969\n",
      "Iteration 298, loss = 550997413768.57714844\n",
      "Iteration 299, loss = 550888618032.29089355\n",
      "Iteration 300, loss = 550797494268.14062500\n",
      "Iteration 301, loss = 550704863858.29895020\n",
      "Iteration 302, loss = 550620428894.50598145\n",
      "Iteration 303, loss = 550519445135.11901855\n",
      "Iteration 304, loss = 550432708342.33984375\n",
      "Iteration 305, loss = 550355228859.46484375\n",
      "Iteration 306, loss = 550246007743.76501465\n",
      "Iteration 307, loss = 550156287302.20983887\n",
      "Iteration 308, loss = 550079174682.82189941\n",
      "Iteration 309, loss = 549963750811.12927246\n",
      "Iteration 310, loss = 549890724561.19287109\n",
      "Iteration 311, loss = 549805176488.28527832\n",
      "Iteration 312, loss = 549703984270.34387207\n",
      "Iteration 313, loss = 549642822171.52429199\n",
      "Iteration 314, loss = 549563238675.19268799\n",
      "Iteration 315, loss = 549467325802.24487305\n",
      "Iteration 316, loss = 549384685208.95080566\n",
      "Iteration 317, loss = 549296880910.36999512\n",
      "Iteration 318, loss = 549217445011.13934326\n",
      "Iteration 319, loss = 549135769254.47534180\n",
      "Iteration 320, loss = 549046568441.18695068\n",
      "Iteration 321, loss = 548960840928.04333496\n",
      "Iteration 322, loss = 548888284756.26361084\n",
      "Iteration 323, loss = 548809845772.12573242\n",
      "Iteration 324, loss = 548727995830.94946289\n",
      "Iteration 325, loss = 548646451093.97296143\n",
      "Iteration 326, loss = 548551554728.87127686\n",
      "Iteration 327, loss = 548484342965.68798828\n",
      "Iteration 328, loss = 548411954731.40069580\n",
      "Iteration 329, loss = 548319724833.82879639\n",
      "Iteration 330, loss = 548241571349.92913818\n",
      "Iteration 331, loss = 548174607116.75286865\n",
      "Iteration 332, loss = 548087860298.65740967\n",
      "Iteration 333, loss = 548012271376.58697510\n",
      "Iteration 334, loss = 547926606994.51257324\n",
      "Iteration 335, loss = 547842035054.07354736\n",
      "Iteration 336, loss = 547757391409.53283691\n",
      "Iteration 337, loss = 547713308963.75750732\n",
      "Iteration 338, loss = 547613851129.73297119\n",
      "Iteration 339, loss = 547540865556.88531494\n",
      "Iteration 340, loss = 547483577117.15490723\n",
      "Iteration 341, loss = 547395562885.16595459\n",
      "Iteration 342, loss = 547329426643.91992188\n",
      "Iteration 343, loss = 547248282928.55865479\n",
      "Iteration 344, loss = 547171829138.71289062\n",
      "Iteration 345, loss = 547103937747.98547363\n",
      "Iteration 346, loss = 547024529042.05920410\n",
      "Iteration 347, loss = 546954433809.64819336\n",
      "Iteration 348, loss = 546876375859.09649658\n",
      "Iteration 349, loss = 546806111286.50195312\n",
      "Iteration 350, loss = 546728130110.06970215\n",
      "Iteration 351, loss = 546656001930.24493408\n",
      "Iteration 352, loss = 546590345760.37561035\n",
      "Iteration 353, loss = 546522293999.73260498\n",
      "Iteration 354, loss = 546447955235.12994385\n",
      "Iteration 355, loss = 546368423106.90533447\n",
      "Iteration 356, loss = 546301663451.45550537\n",
      "Iteration 357, loss = 546233398016.67669678\n",
      "Iteration 358, loss = 546165422803.93939209\n",
      "Iteration 359, loss = 546080646916.38201904\n",
      "Iteration 360, loss = 546024023023.74713135\n",
      "Iteration 361, loss = 545952389905.86999512\n",
      "Iteration 362, loss = 545888627895.35992432\n",
      "Iteration 363, loss = 545808625963.94702148\n",
      "Iteration 364, loss = 545752257887.95098877\n",
      "Iteration 365, loss = 545679560281.64587402\n",
      "Iteration 366, loss = 545606537484.24194336\n",
      "Iteration 367, loss = 545546034405.32928467\n",
      "Iteration 368, loss = 545476367613.30242920\n",
      "Iteration 369, loss = 545412142180.49371338\n",
      "Iteration 370, loss = 545341845663.54785156\n",
      "Iteration 371, loss = 545279916678.00561523\n",
      "Iteration 372, loss = 545217738669.38903809\n",
      "Iteration 373, loss = 545153105972.42364502\n",
      "Iteration 374, loss = 545081134016.60852051\n",
      "Iteration 375, loss = 545027005115.48956299\n",
      "Iteration 376, loss = 544951199841.56518555\n",
      "Iteration 377, loss = 544889405586.84918213\n",
      "Iteration 378, loss = 544827743419.72497559\n",
      "Iteration 379, loss = 544760225684.75000000\n",
      "Iteration 380, loss = 544688020245.99749756\n",
      "Iteration 381, loss = 544626182739.09246826\n",
      "Iteration 382, loss = 544578186351.49407959\n",
      "Iteration 383, loss = 544499538351.60083008\n",
      "Iteration 384, loss = 544437592837.57525635\n",
      "Iteration 385, loss = 544384209612.84124756\n",
      "Iteration 386, loss = 544322305280.36932373\n",
      "Iteration 387, loss = 544257515588.60845947\n",
      "Iteration 388, loss = 544189807423.67443848\n",
      "Iteration 389, loss = 544128071760.34704590\n",
      "Iteration 390, loss = 544063791985.14276123\n",
      "Iteration 391, loss = 544005305153.62335205\n",
      "Iteration 392, loss = 543944245924.21881104\n",
      "Iteration 393, loss = 543878616830.49896240\n",
      "Iteration 394, loss = 543801779733.98156738\n",
      "Iteration 395, loss = 543754220600.70526123\n",
      "Iteration 396, loss = 543674356559.42669678\n",
      "Iteration 397, loss = 543643048879.66577148\n",
      "Iteration 398, loss = 543575126660.67376709\n",
      "Iteration 399, loss = 543521258612.21710205\n",
      "Iteration 400, loss = 543449201528.10113525\n",
      "Iteration 401, loss = 543400310105.24060059\n",
      "Iteration 402, loss = 543335621366.33416748\n",
      "Iteration 403, loss = 543283188510.47167969\n",
      "Iteration 404, loss = 543214006323.57629395\n",
      "Iteration 405, loss = 543162408159.29217529\n",
      "Iteration 406, loss = 543101585381.26873779\n",
      "Iteration 407, loss = 543041533965.27264404\n",
      "Iteration 408, loss = 542973618316.32202148\n",
      "Iteration 409, loss = 542917412823.05480957\n",
      "Iteration 410, loss = 542865357178.76123047\n",
      "Iteration 411, loss = 542808660972.63275146\n",
      "Iteration 412, loss = 542740736551.96807861\n",
      "Iteration 413, loss = 542686452983.85498047\n",
      "Iteration 414, loss = 542621256017.37103271\n",
      "Iteration 415, loss = 542566855394.00305176\n",
      "Iteration 416, loss = 542502869401.85986328\n",
      "Iteration 417, loss = 542446919178.19580078\n",
      "Iteration 418, loss = 542392089615.99920654\n",
      "Iteration 419, loss = 542327379803.98931885\n",
      "Iteration 420, loss = 542274326083.86920166\n",
      "Iteration 421, loss = 542213450947.83044434\n",
      "Iteration 422, loss = 542152295974.24682617\n",
      "Iteration 423, loss = 542099584056.75683594\n",
      "Iteration 424, loss = 542044222203.60565186\n",
      "Iteration 425, loss = 541979219807.90979004\n",
      "Iteration 426, loss = 541926642823.22125244\n",
      "Iteration 427, loss = 541870482175.70037842\n",
      "Iteration 428, loss = 541814268536.95495605\n",
      "Iteration 429, loss = 541757470482.80102539\n",
      "Iteration 430, loss = 541698249157.20397949\n",
      "Iteration 431, loss = 541644173659.54711914\n",
      "Iteration 432, loss = 541589243032.87927246\n",
      "Iteration 433, loss = 541534461529.42602539\n",
      "Iteration 434, loss = 541481815389.80664062\n",
      "Iteration 435, loss = 541428165111.08197021\n",
      "Iteration 436, loss = 541362261685.24298096\n",
      "Iteration 437, loss = 541312783462.87530518\n",
      "Iteration 438, loss = 541251341237.22668457\n",
      "Iteration 439, loss = 541203202980.97161865\n",
      "Iteration 440, loss = 541155514934.95446777\n",
      "Iteration 441, loss = 541096055262.74743652\n",
      "Iteration 442, loss = 541045075905.20324707\n",
      "Iteration 443, loss = 540995816025.34149170\n",
      "Iteration 444, loss = 540932515091.37896729\n",
      "Iteration 445, loss = 540887705952.94396973\n",
      "Iteration 446, loss = 540829939846.19250488\n",
      "Iteration 447, loss = 540772757896.72283936\n",
      "Iteration 448, loss = 540708503753.99902344\n",
      "Iteration 449, loss = 540679073034.56823730\n",
      "Iteration 450, loss = 540615905118.26812744\n",
      "Iteration 451, loss = 540573223592.01861572\n",
      "Iteration 452, loss = 540510817078.73614502\n",
      "Iteration 453, loss = 540467841196.55017090\n",
      "Iteration 454, loss = 540412346640.00268555\n",
      "Iteration 455, loss = 540360250064.11499023\n",
      "Iteration 456, loss = 540311236567.42303467\n",
      "Iteration 457, loss = 540252553043.88806152\n",
      "Iteration 458, loss = 540194290507.46276855\n",
      "Iteration 459, loss = 540145684616.20806885\n",
      "Iteration 460, loss = 540112062736.69946289\n",
      "Iteration 461, loss = 540048822000.64007568\n",
      "Iteration 462, loss = 539990157985.55895996\n",
      "Iteration 463, loss = 539940829354.54064941\n",
      "Iteration 464, loss = 539891251365.63775635\n",
      "Iteration 465, loss = 539837545726.68243408\n",
      "Iteration 466, loss = 539779242590.20391846\n",
      "Iteration 467, loss = 539735511722.78643799\n",
      "Iteration 468, loss = 539696547432.01171875\n",
      "Iteration 469, loss = 539641743740.53021240\n",
      "Iteration 470, loss = 539586566495.58636475\n",
      "Iteration 471, loss = 539533741789.16912842\n",
      "Iteration 472, loss = 539489294364.66479492\n",
      "Iteration 473, loss = 539427332765.72851562\n",
      "Iteration 474, loss = 539394215592.79260254\n",
      "Iteration 475, loss = 539318636663.03649902\n",
      "Iteration 476, loss = 539289546846.21191406\n",
      "Iteration 477, loss = 539241627859.18798828\n",
      "Iteration 478, loss = 539173324714.29296875\n",
      "Iteration 479, loss = 539133237565.83551025\n",
      "Iteration 480, loss = 539088621117.33868408\n",
      "Iteration 481, loss = 539041001161.74328613\n",
      "Iteration 482, loss = 538984630492.61779785\n",
      "Iteration 483, loss = 538939978257.43035889\n",
      "Iteration 484, loss = 538879448644.27752686\n",
      "Iteration 485, loss = 538851298824.50506592\n",
      "Iteration 486, loss = 538801061745.57189941\n",
      "Iteration 487, loss = 538752256245.53155518\n",
      "Iteration 488, loss = 538707145586.20880127\n",
      "Iteration 489, loss = 538660606177.03350830\n",
      "Iteration 490, loss = 538601659837.09667969\n",
      "Iteration 491, loss = 538564940653.82318115\n",
      "Iteration 492, loss = 538509271858.10321045\n",
      "Iteration 493, loss = 538469156791.56445312\n",
      "Iteration 494, loss = 538422413863.20574951\n",
      "Iteration 495, loss = 538371995413.94378662\n",
      "Iteration 496, loss = 538323864304.83300781\n",
      "Iteration 497, loss = 538280306604.08795166\n",
      "Iteration 498, loss = 538230257293.71368408\n",
      "Iteration 499, loss = 538184268643.15179443\n",
      "Iteration 500, loss = 538143288261.96020508\n",
      "Iteration 501, loss = 538091424958.15734863\n",
      "Iteration 502, loss = 538046299662.57727051\n",
      "Iteration 503, loss = 537996715848.10797119\n",
      "Iteration 504, loss = 537959178408.68103027\n",
      "Iteration 505, loss = 537913092676.75067139\n",
      "Iteration 506, loss = 537861900340.17004395\n",
      "Iteration 507, loss = 537817400644.14874268\n",
      "Iteration 508, loss = 537762441933.22955322\n",
      "Iteration 509, loss = 537715537217.66619873\n",
      "Iteration 510, loss = 537671504562.82427979\n",
      "Iteration 511, loss = 537634653788.61407471\n",
      "Iteration 512, loss = 537592913304.40264893\n",
      "Iteration 513, loss = 537529670364.27667236\n",
      "Iteration 514, loss = 537506824638.63568115\n",
      "Iteration 515, loss = 537458591223.27954102\n",
      "Iteration 516, loss = 537411627155.88446045\n",
      "Iteration 517, loss = 537370024980.31115723\n",
      "Iteration 518, loss = 537324321510.47735596\n",
      "Iteration 519, loss = 537286233179.35760498\n",
      "Iteration 520, loss = 537222428229.99243164\n",
      "Iteration 521, loss = 537191692947.23687744\n",
      "Iteration 522, loss = 537143555056.62390137\n",
      "Iteration 523, loss = 537100984564.83190918\n",
      "Iteration 524, loss = 537052519183.77014160\n",
      "Iteration 525, loss = 537029554916.62451172\n",
      "Iteration 526, loss = 536984877122.25341797\n",
      "Iteration 527, loss = 536926054947.04339600\n",
      "Iteration 528, loss = 536892345092.08715820\n",
      "Iteration 529, loss = 536851816075.13354492\n",
      "Iteration 530, loss = 536804861945.22045898\n",
      "Iteration 531, loss = 536762426515.86584473\n",
      "Iteration 532, loss = 536708120265.23522949\n",
      "Iteration 533, loss = 536686881175.77795410\n",
      "Iteration 534, loss = 536637019108.18627930\n",
      "Iteration 535, loss = 536594335523.01000977\n",
      "Iteration 536, loss = 536548724469.32373047\n",
      "Iteration 537, loss = 536511665694.97332764\n",
      "Iteration 538, loss = 536443472178.71868896\n",
      "Iteration 539, loss = 536426591109.66302490\n",
      "Iteration 540, loss = 536390146984.54321289\n",
      "Iteration 541, loss = 536334402866.25073242\n",
      "Iteration 542, loss = 536295219486.14654541\n",
      "Iteration 543, loss = 536255904006.26452637\n",
      "Iteration 544, loss = 536210577287.66229248\n",
      "Iteration 545, loss = 536172942062.90875244\n",
      "Iteration 546, loss = 536130352858.56402588\n",
      "Iteration 547, loss = 536077562816.92211914\n",
      "Iteration 548, loss = 536045402707.10986328\n",
      "Iteration 549, loss = 535997916465.35076904\n",
      "Iteration 550, loss = 535965196461.95013428\n",
      "Iteration 551, loss = 535911703514.26806641\n",
      "Iteration 552, loss = 535880599962.44342041\n",
      "Iteration 553, loss = 535836111134.07983398\n",
      "Iteration 554, loss = 535770865376.95843506\n",
      "Iteration 555, loss = 535755548694.95880127\n",
      "Iteration 556, loss = 535698928628.15338135\n",
      "Iteration 557, loss = 535662429290.07568359\n",
      "Iteration 558, loss = 535613715006.16302490\n",
      "Iteration 559, loss = 535574699795.08990479\n",
      "Iteration 560, loss = 535537609459.01190186\n",
      "Iteration 561, loss = 535493426396.07586670\n",
      "Iteration 562, loss = 535454631951.20635986\n",
      "Iteration 563, loss = 535410970664.43170166\n",
      "Iteration 564, loss = 535373018916.01739502\n",
      "Iteration 565, loss = 535327007682.83300781\n",
      "Iteration 566, loss = 535264860836.41711426\n",
      "Iteration 567, loss = 535243799292.20861816\n",
      "Iteration 568, loss = 535197334344.46588135\n",
      "Iteration 569, loss = 535152342850.10223389\n",
      "Iteration 570, loss = 535120395431.92205811\n",
      "Iteration 571, loss = 535076623633.77301025\n",
      "Iteration 572, loss = 535030080427.48156738\n",
      "Iteration 573, loss = 534992052403.00384521\n",
      "Iteration 574, loss = 534947469094.00091553\n",
      "Iteration 575, loss = 534889250411.96716309\n",
      "Iteration 576, loss = 534874759510.69250488\n",
      "Iteration 577, loss = 534816892374.37731934\n",
      "Iteration 578, loss = 534778989670.79650879\n",
      "Iteration 579, loss = 534741292952.18261719\n",
      "Iteration 580, loss = 534698627252.32128906\n",
      "Iteration 581, loss = 534661737719.98876953\n",
      "Iteration 582, loss = 534617058335.13928223\n",
      "Iteration 583, loss = 534574051116.90521240\n",
      "Iteration 584, loss = 534524268323.24804688\n",
      "Iteration 585, loss = 534489734975.17639160\n",
      "Iteration 586, loss = 534446963308.78094482\n",
      "Iteration 587, loss = 534395251976.70257568\n",
      "Iteration 588, loss = 534374223554.76739502\n",
      "Iteration 589, loss = 534321151487.79370117\n",
      "Iteration 590, loss = 534292824458.96588135\n",
      "Iteration 591, loss = 534233124234.97436523\n",
      "Iteration 592, loss = 534201113914.56787109\n",
      "Iteration 593, loss = 534168885055.97058105\n",
      "Iteration 594, loss = 534117813346.72052002\n",
      "Iteration 595, loss = 534084075191.03076172\n",
      "Iteration 596, loss = 534046723840.47503662\n",
      "Iteration 597, loss = 534002691063.16369629\n",
      "Iteration 598, loss = 533961695881.72784424\n",
      "Iteration 599, loss = 533921418341.37634277\n",
      "Iteration 600, loss = 533888408940.16082764\n",
      "Iteration 601, loss = 533825734859.78869629\n",
      "Iteration 602, loss = 533799633816.95123291\n",
      "Iteration 603, loss = 533757491636.91577148\n",
      "Iteration 604, loss = 533720513797.42974854\n",
      "Iteration 605, loss = 533679171987.12469482\n",
      "Iteration 606, loss = 533632447726.53210449\n",
      "Iteration 607, loss = 533600903189.56140137\n",
      "Iteration 608, loss = 533551275165.96276855\n",
      "Iteration 609, loss = 533520195964.76525879\n",
      "Iteration 610, loss = 533478822986.92810059\n",
      "Iteration 611, loss = 533427956265.32354736\n",
      "Iteration 612, loss = 533392559724.50616455\n",
      "Iteration 613, loss = 533339054812.57666016\n",
      "Iteration 614, loss = 533311552184.35754395\n",
      "Iteration 615, loss = 533263711452.48223877\n",
      "Iteration 616, loss = 533225758794.91064453\n",
      "Iteration 617, loss = 533183026632.05902100\n",
      "Iteration 618, loss = 533150873530.76934814\n",
      "Iteration 619, loss = 533089293319.57025146\n",
      "Iteration 620, loss = 533062675673.44049072\n",
      "Iteration 621, loss = 533022784268.81823730\n",
      "Iteration 622, loss = 532982629956.52752686\n",
      "Iteration 623, loss = 532937592607.56274414\n",
      "Iteration 624, loss = 532906523470.99505615\n",
      "Iteration 625, loss = 532860921587.55310059\n",
      "Iteration 626, loss = 532815889121.20825195\n",
      "Iteration 627, loss = 532781438516.02935791\n",
      "Iteration 628, loss = 532732178991.89141846\n",
      "Iteration 629, loss = 532695251071.29608154\n",
      "Iteration 630, loss = 532654463508.39630127\n",
      "Iteration 631, loss = 532605899372.54864502\n",
      "Iteration 632, loss = 532559933793.96441650\n",
      "Iteration 633, loss = 532532019980.84594727\n",
      "Iteration 634, loss = 532476337055.45721436\n",
      "Iteration 635, loss = 532437014790.99206543\n",
      "Iteration 636, loss = 532417221031.03778076\n",
      "Iteration 637, loss = 532375247767.24804688\n",
      "Iteration 638, loss = 532322997231.41613770\n",
      "Iteration 639, loss = 532282435519.23992920\n",
      "Iteration 640, loss = 532257265941.20141602\n",
      "Iteration 641, loss = 532212013177.17871094\n",
      "Iteration 642, loss = 532165000981.04876709\n",
      "Iteration 643, loss = 532132815888.30371094\n",
      "Iteration 644, loss = 532090233488.19146729\n",
      "Iteration 645, loss = 532058832949.89862061\n",
      "Iteration 646, loss = 532009120971.61621094\n",
      "Iteration 647, loss = 531971831683.04156494\n",
      "Iteration 648, loss = 531937742053.43127441\n",
      "Iteration 649, loss = 531893929583.81982422\n",
      "Iteration 650, loss = 531863385067.24749756\n",
      "Iteration 651, loss = 531807976186.87835693\n",
      "Iteration 652, loss = 531772535279.54510498\n",
      "Iteration 653, loss = 531739893439.36071777\n",
      "Iteration 654, loss = 531690512353.49121094\n",
      "Iteration 655, loss = 531647247310.34417725\n",
      "Iteration 656, loss = 531612748630.53369141\n",
      "Iteration 657, loss = 531574816275.15289307\n",
      "Iteration 658, loss = 531533949410.07830811\n",
      "Iteration 659, loss = 531490209140.79510498\n",
      "Iteration 660, loss = 531454537629.52349854\n",
      "Iteration 661, loss = 531423415371.59326172\n",
      "Iteration 662, loss = 531378581896.85119629\n",
      "Iteration 663, loss = 531335142327.73156738\n",
      "Iteration 664, loss = 531302848845.93695068\n",
      "Iteration 665, loss = 531244289994.73797607\n",
      "Iteration 666, loss = 531218962249.61474609\n",
      "Iteration 667, loss = 531165893303.86328125\n",
      "Iteration 668, loss = 531135531877.76727295\n",
      "Iteration 669, loss = 531100728760.50286865\n",
      "Iteration 670, loss = 531064243886.44647217\n",
      "Iteration 671, loss = 531023553790.51971436\n",
      "Iteration 672, loss = 530972568205.25830078\n",
      "Iteration 673, loss = 530940846032.75701904\n",
      "Iteration 674, loss = 530903051887.79711914\n",
      "Iteration 675, loss = 530852748205.11151123\n",
      "Iteration 676, loss = 530829396419.99755859\n",
      "Iteration 677, loss = 530781585956.72595215\n",
      "Iteration 678, loss = 530750979247.05090332\n",
      "Iteration 679, loss = 530714822523.65496826\n",
      "Iteration 680, loss = 530672153216.35375977\n",
      "Iteration 681, loss = 530626962885.60534668\n",
      "Iteration 682, loss = 530586290208.22595215\n",
      "Iteration 683, loss = 530565338740.69335938\n",
      "Iteration 684, loss = 530519194821.93487549\n",
      "Iteration 685, loss = 530482538500.75073242\n",
      "Iteration 686, loss = 530437876526.75622559\n",
      "Iteration 687, loss = 530410515550.56427002\n",
      "Iteration 688, loss = 530361677056.85430908\n",
      "Iteration 689, loss = 530332391334.10809326\n",
      "Iteration 690, loss = 530293930979.53533936\n",
      "Iteration 691, loss = 530259966180.98406982\n",
      "Iteration 692, loss = 530217003433.46746826\n",
      "Iteration 693, loss = 530179472520.35430908\n",
      "Iteration 694, loss = 530146910011.91601562\n",
      "Iteration 695, loss = 530106695109.71325684\n",
      "Iteration 696, loss = 530070011054.64715576\n",
      "Iteration 697, loss = 530035988714.06616211\n",
      "Iteration 698, loss = 529989690936.86297607\n",
      "Iteration 699, loss = 529966449007.14599609\n",
      "Iteration 700, loss = 529920451366.09625244\n",
      "Iteration 701, loss = 529882735870.47479248\n",
      "Iteration 702, loss = 529849440890.31726074\n",
      "Iteration 703, loss = 529807259528.18280029\n",
      "Iteration 704, loss = 529771598542.57806396\n",
      "Iteration 705, loss = 529709307110.86608887\n",
      "Iteration 706, loss = 529695616284.61938477\n",
      "Iteration 707, loss = 529665378514.09735107\n",
      "Iteration 708, loss = 529630003470.64605713\n",
      "Iteration 709, loss = 529596323661.94110107\n",
      "Iteration 710, loss = 529550588487.29547119\n",
      "Iteration 711, loss = 529536171422.24005127\n",
      "Iteration 712, loss = 529493378684.10150146\n",
      "Iteration 713, loss = 529455678686.63391113\n",
      "Iteration 714, loss = 529422977592.67871094\n",
      "Iteration 715, loss = 529378182215.83190918\n",
      "Iteration 716, loss = 529358750533.97082520\n",
      "Iteration 717, loss = 529313071327.78002930\n",
      "Iteration 718, loss = 529284516555.53753662\n",
      "Iteration 719, loss = 529253035455.25146484\n",
      "Iteration 720, loss = 529211861038.71917725\n",
      "Iteration 721, loss = 529157103065.96453857\n",
      "Iteration 722, loss = 529141927161.83361816\n",
      "Iteration 723, loss = 529100711763.27093506\n",
      "Iteration 724, loss = 529076039664.29010010\n",
      "Iteration 725, loss = 529030845826.95971680\n",
      "Iteration 726, loss = 528997087294.17675781\n",
      "Iteration 727, loss = 528974835378.66308594\n",
      "Iteration 728, loss = 528942565789.51086426\n",
      "Iteration 729, loss = 528898822808.24230957\n",
      "Iteration 730, loss = 528856710847.85479736\n",
      "Iteration 731, loss = 528831255294.75524902\n",
      "Iteration 732, loss = 528800185601.77502441\n",
      "Iteration 733, loss = 528763502666.17071533\n",
      "Iteration 734, loss = 528718944110.58221436\n",
      "Iteration 735, loss = 528697559499.99304199\n",
      "Iteration 736, loss = 528667028637.56072998\n",
      "Iteration 737, loss = 528624338482.97332764\n",
      "Iteration 738, loss = 528610267338.64288330\n",
      "Iteration 739, loss = 528561302677.05554199\n",
      "Iteration 740, loss = 528518339317.68853760\n",
      "Iteration 741, loss = 528500947990.67236328\n",
      "Iteration 742, loss = 528463916614.94787598\n",
      "Iteration 743, loss = 528420710223.63256836\n",
      "Iteration 744, loss = 528395216659.51214600\n",
      "Iteration 745, loss = 528368457866.29229736\n",
      "Iteration 746, loss = 528313937464.65533447\n",
      "Iteration 747, loss = 528293213904.43090820\n",
      "Iteration 748, loss = 528271599262.91400146\n",
      "Iteration 749, loss = 528236149000.02001953\n",
      "Iteration 750, loss = 528187335438.90563965\n",
      "Iteration 751, loss = 528164518784.46398926\n",
      "Iteration 752, loss = 528140353747.60809326\n",
      "Iteration 753, loss = 528092936117.88317871\n",
      "Iteration 754, loss = 528066123519.56079102\n",
      "Iteration 755, loss = 528024231649.58184814\n",
      "Iteration 756, loss = 528007115350.59570312\n",
      "Iteration 757, loss = 527974438842.30975342\n",
      "Iteration 758, loss = 527948049452.95501709\n",
      "Iteration 759, loss = 527910665671.13848877\n",
      "Iteration 760, loss = 527880532244.13037109\n",
      "Iteration 761, loss = 527843486423.74902344\n",
      "Iteration 762, loss = 527812635688.62597656\n",
      "Iteration 763, loss = 527783320025.89288330\n",
      "Iteration 764, loss = 527759969653.37976074\n",
      "Iteration 765, loss = 527723615687.29278564\n",
      "Iteration 766, loss = 527686726892.24804688\n",
      "Iteration 767, loss = 527649868385.20501709\n",
      "Iteration 768, loss = 527615592925.66961670\n",
      "Iteration 769, loss = 527581435720.69824219\n",
      "Iteration 770, loss = 527567205402.30554199\n",
      "Iteration 771, loss = 527535158538.88861084\n",
      "Iteration 772, loss = 527508168422.84625244\n",
      "Iteration 773, loss = 527468485711.98675537\n",
      "Iteration 774, loss = 527453995399.53735352\n",
      "Iteration 775, loss = 527409077698.48443604\n",
      "Iteration 776, loss = 527377366066.12957764\n",
      "Iteration 777, loss = 527359420539.79296875\n",
      "Iteration 778, loss = 527316225633.65209961\n",
      "Iteration 779, loss = 527286554106.26153564\n",
      "Iteration 780, loss = 527258190662.58538818\n",
      "Iteration 781, loss = 527229447455.82049561\n",
      "Iteration 782, loss = 527195143095.36950684\n",
      "Iteration 783, loss = 527175079729.18621826\n",
      "Iteration 784, loss = 527145079189.18389893\n",
      "Iteration 785, loss = 527110179844.78564453\n",
      "Iteration 786, loss = 527080612979.13592529\n",
      "Iteration 787, loss = 527028842523.87335205\n",
      "Iteration 788, loss = 527032992906.44036865\n",
      "Iteration 789, loss = 526997615275.33740234\n",
      "Iteration 790, loss = 526964921308.90942383\n",
      "Iteration 791, loss = 526938090075.11834717\n",
      "Iteration 792, loss = 526909948046.92089844\n",
      "Iteration 793, loss = 526862976482.67578125\n",
      "Iteration 794, loss = 526852283733.61627197\n",
      "Iteration 795, loss = 526822199144.62426758\n",
      "Iteration 796, loss = 526789684078.22735596\n",
      "Iteration 797, loss = 526764749976.95117188\n",
      "Iteration 798, loss = 526729168918.34320068\n",
      "Iteration 799, loss = 526707303164.25170898\n",
      "Iteration 800, loss = 526665771099.00866699\n",
      "Iteration 801, loss = 526650638898.65051270\n",
      "Iteration 802, loss = 526617089453.37030029\n",
      "Iteration 803, loss = 526594313717.99768066\n",
      "Iteration 804, loss = 526562951332.03875732\n",
      "Iteration 805, loss = 526541911679.79705811\n",
      "Iteration 806, loss = 526492548141.03912354\n",
      "Iteration 807, loss = 526471071242.20672607\n",
      "Iteration 808, loss = 526447251480.03295898\n",
      "Iteration 809, loss = 526438500103.75732422\n",
      "Iteration 810, loss = 526401758492.26538086\n",
      "Iteration 811, loss = 526376113726.75860596\n",
      "Iteration 812, loss = 526356351749.76251221\n",
      "Iteration 813, loss = 526304794070.60406494\n",
      "Iteration 814, loss = 526289963468.09271240\n",
      "Iteration 815, loss = 526265394181.37145996\n",
      "Iteration 816, loss = 526231159883.75109863\n",
      "Iteration 817, loss = 526214839194.03271484\n",
      "Iteration 818, loss = 526191865588.72912598\n",
      "Iteration 819, loss = 526151031624.46954346\n",
      "Iteration 820, loss = 526129067340.46783447\n",
      "Iteration 821, loss = 526110056560.53442383\n",
      "Iteration 822, loss = 526074647493.57080078\n",
      "Iteration 823, loss = 526044263857.31219482\n",
      "Iteration 824, loss = 526026275754.16406250\n",
      "Iteration 825, loss = 525998749132.05963135\n",
      "Iteration 826, loss = 525970446256.01452637\n",
      "Iteration 827, loss = 525940367828.95928955\n",
      "Iteration 828, loss = 525925174929.46600342\n",
      "Iteration 829, loss = 525886928131.18469238\n",
      "Iteration 830, loss = 525859518470.64031982\n",
      "Iteration 831, loss = 525841663555.17187500\n",
      "Iteration 832, loss = 525818723746.22912598\n",
      "Iteration 833, loss = 525789098088.71679688\n",
      "Iteration 834, loss = 525765287700.61712646\n",
      "Iteration 835, loss = 525725228175.61035156\n",
      "Iteration 836, loss = 525718367028.58325195\n",
      "Iteration 837, loss = 525681087932.36920166\n",
      "Iteration 838, loss = 525661098089.94525146\n",
      "Iteration 839, loss = 525641836550.76867676\n",
      "Iteration 840, loss = 525614331221.01617432\n",
      "Iteration 841, loss = 525579383179.52661133\n",
      "Iteration 842, loss = 525557445667.54406738\n",
      "Iteration 843, loss = 525533107816.38806152\n",
      "Iteration 844, loss = 525509376901.24847412\n",
      "Iteration 845, loss = 525483646027.33038330\n",
      "Iteration 846, loss = 525457673499.74957275\n",
      "Iteration 847, loss = 525435203975.96527100\n",
      "Iteration 848, loss = 525413830841.61065674\n",
      "Iteration 849, loss = 525371940288.14422607\n",
      "Iteration 850, loss = 525358494777.25238037\n",
      "Iteration 851, loss = 525334391450.67193604\n",
      "Iteration 852, loss = 525308491645.34710693\n",
      "Iteration 853, loss = 525285420975.70629883\n",
      "Iteration 854, loss = 525256748762.92553711\n",
      "Iteration 855, loss = 525242279282.94567871\n",
      "Iteration 856, loss = 525211927394.71838379\n",
      "Iteration 857, loss = 525184888526.52191162\n",
      "Iteration 858, loss = 525167834192.10821533\n",
      "Iteration 859, loss = 525140070831.19244385\n",
      "Iteration 860, loss = 525109528465.21185303\n",
      "Iteration 861, loss = 525086455950.47473145\n",
      "Iteration 862, loss = 525060955422.12713623\n",
      "Iteration 863, loss = 525039885973.50115967\n",
      "Iteration 864, loss = 525018331227.16906738\n",
      "Iteration 865, loss = 524979431751.73864746\n",
      "Iteration 866, loss = 524961238956.80603027\n",
      "Iteration 867, loss = 524946335170.93170166\n",
      "Iteration 868, loss = 524910797862.10607910\n",
      "Iteration 869, loss = 524899325974.87030029\n",
      "Iteration 870, loss = 524866847490.93621826\n",
      "Iteration 871, loss = 524844845020.87445068\n",
      "Iteration 872, loss = 524828971955.98474121\n",
      "Iteration 873, loss = 524793455297.52593994\n",
      "Iteration 874, loss = 524763309380.53009033\n",
      "Iteration 875, loss = 524736158942.42498779\n",
      "Iteration 876, loss = 524725722715.35931396\n",
      "Iteration 877, loss = 524693857686.52801514\n",
      "Iteration 878, loss = 524674496527.98138428\n",
      "Iteration 879, loss = 524649785788.10668945\n",
      "Iteration 880, loss = 524628866577.80511475\n",
      "Iteration 881, loss = 524596564904.25231934\n",
      "Iteration 882, loss = 524567391425.73089600\n",
      "Iteration 883, loss = 524551953468.41534424\n",
      "Iteration 884, loss = 524532891816.70635986\n",
      "Iteration 885, loss = 524507247071.61645508\n",
      "Iteration 886, loss = 524473964484.48052979\n",
      "Iteration 887, loss = 524464160118.39178467\n",
      "Iteration 888, loss = 524432129183.01031494\n",
      "Iteration 889, loss = 524420498881.21691895\n",
      "Iteration 890, loss = 524378210825.50323486\n",
      "Iteration 891, loss = 524364584267.74273682\n",
      "Iteration 892, loss = 524337417672.37298584\n",
      "Iteration 893, loss = 524314358094.16528320\n",
      "Iteration 894, loss = 524291385677.86413574\n",
      "Iteration 895, loss = 524258283924.57141113\n",
      "Iteration 896, loss = 524241798080.31457520\n",
      "Iteration 897, loss = 524223945937.15081787\n",
      "Iteration 898, loss = 524200715309.28601074\n",
      "Iteration 899, loss = 524163505038.94116211\n",
      "Iteration 900, loss = 524140716623.32202148\n",
      "Iteration 901, loss = 524128866201.09112549\n",
      "Iteration 902, loss = 524101488579.96289062\n",
      "Iteration 903, loss = 524075614016.57983398\n",
      "Iteration 904, loss = 524069237856.30963135\n",
      "Iteration 905, loss = 524050160944.96936035\n",
      "Iteration 906, loss = 524014403211.97296143\n",
      "Iteration 907, loss = 524001015081.61437988\n",
      "Iteration 908, loss = 523979177225.39154053\n",
      "Iteration 909, loss = 523951202445.15081787\n",
      "Iteration 910, loss = 523931397788.42480469\n",
      "Iteration 911, loss = 523913030187.72253418\n",
      "Iteration 912, loss = 523879821418.63842773\n",
      "Iteration 913, loss = 523864660274.41503906\n",
      "Iteration 914, loss = 523840258716.89086914\n",
      "Iteration 915, loss = 523806891830.69268799\n",
      "Iteration 916, loss = 523790441801.48510742\n",
      "Iteration 917, loss = 523766254708.21392822\n",
      "Iteration 918, loss = 523744634636.32757568\n",
      "Iteration 919, loss = 523725038965.84118652\n",
      "Iteration 920, loss = 523693210299.27325439\n",
      "Iteration 921, loss = 523682169778.86743164\n",
      "Iteration 922, loss = 523658695392.90661621\n",
      "Iteration 923, loss = 523626376751.27490234\n",
      "Iteration 924, loss = 523615318727.20837402\n",
      "Iteration 925, loss = 523591610788.80688477\n",
      "Iteration 926, loss = 523568762696.31243896\n",
      "Iteration 927, loss = 523551550083.72155762\n",
      "Iteration 928, loss = 523523793990.12103271\n",
      "Iteration 929, loss = 523505571881.78515625\n",
      "Iteration 930, loss = 523480897067.84002686\n",
      "Iteration 931, loss = 523456019074.05310059\n",
      "Iteration 932, loss = 523435584976.64886475\n",
      "Iteration 933, loss = 523414560408.32666016\n",
      "Iteration 934, loss = 523403512118.44720459\n",
      "Iteration 935, loss = 523385877966.23016357\n",
      "Iteration 936, loss = 523357724755.78851318\n",
      "Iteration 937, loss = 523332006154.16931152\n",
      "Iteration 938, loss = 523304342147.25445557\n",
      "Iteration 939, loss = 523298957137.72253418\n",
      "Iteration 940, loss = 523276681586.60949707\n",
      "Iteration 941, loss = 523249444169.12194824\n",
      "Iteration 942, loss = 523231906321.69299316\n",
      "Iteration 943, loss = 523206996357.39111328\n",
      "Iteration 944, loss = 523188186802.87030029\n",
      "Iteration 945, loss = 523170664992.73236084\n",
      "Iteration 946, loss = 523149992429.27441406\n",
      "Iteration 947, loss = 523128196457.63995361\n",
      "Iteration 948, loss = 523104474865.98797607\n",
      "Iteration 949, loss = 523088403931.76599121\n",
      "Iteration 950, loss = 523064058454.29193115\n",
      "Iteration 951, loss = 523028397893.24389648\n",
      "Iteration 952, loss = 523029177116.64733887\n",
      "Iteration 953, loss = 523009191762.75170898\n",
      "Iteration 954, loss = 522973903751.04199219\n",
      "Iteration 955, loss = 522962330789.94116211\n",
      "Iteration 956, loss = 522932234504.66619873\n",
      "Iteration 957, loss = 522920799676.23614502\n",
      "Iteration 958, loss = 522893988221.89514160\n",
      "Iteration 959, loss = 522882443556.38775635\n",
      "Iteration 960, loss = 522857486235.72491455\n",
      "Iteration 961, loss = 522840935637.75939941\n",
      "Iteration 962, loss = 522811508884.52020264\n",
      "Iteration 963, loss = 522800630433.55212402\n",
      "Iteration 964, loss = 522779833692.86865234\n",
      "Iteration 965, loss = 522749584459.90057373\n",
      "Iteration 966, loss = 522726860543.24176025\n",
      "Iteration 967, loss = 522705464189.98291016\n",
      "Iteration 968, loss = 522701087829.79162598\n",
      "Iteration 969, loss = 522670788666.26965332\n",
      "Iteration 970, loss = 522662242045.60681152\n",
      "Iteration 971, loss = 522613430231.21020508\n",
      "Iteration 972, loss = 522613774802.94567871\n",
      "Iteration 973, loss = 522586547739.69842529\n",
      "Iteration 974, loss = 522572391302.79919434\n",
      "Iteration 975, loss = 522545822403.35754395\n",
      "Iteration 976, loss = 522543059318.95806885\n",
      "Iteration 977, loss = 522506937171.93157959\n",
      "Iteration 978, loss = 522489663959.85852051\n",
      "Iteration 979, loss = 522479124671.83624268\n",
      "Iteration 980, loss = 522444720356.29217529\n",
      "Iteration 981, loss = 522419618543.45001221\n",
      "Iteration 982, loss = 522410021318.19940186\n",
      "Iteration 983, loss = 522388388696.48785400\n",
      "Iteration 984, loss = 522378495212.66705322\n",
      "Iteration 985, loss = 522362937614.08331299\n",
      "Iteration 986, loss = 522328494516.82733154\n",
      "Iteration 987, loss = 522320236603.85925293\n",
      "Iteration 988, loss = 522292798040.08740234\n",
      "Iteration 989, loss = 522277695350.55072021\n",
      "Iteration 990, loss = 522216313698.99194336\n",
      "Iteration 991, loss = 522241587164.41992188\n",
      "Iteration 992, loss = 522224205944.01385498\n",
      "Iteration 993, loss = 522207585914.83795166\n",
      "Iteration 994, loss = 522164893779.68176270\n",
      "Iteration 995, loss = 522156281502.59228516\n",
      "Iteration 996, loss = 522141371923.04083252\n",
      "Iteration 997, loss = 522123704819.38098145\n",
      "Iteration 998, loss = 522104752100.76104736\n",
      "Iteration 999, loss = 522077983300.40521240\n",
      "Iteration 1000, loss = 522057489742.98962402\n"
     ]
    },
    {
     "name": "stderr",
     "output_type": "stream",
     "text": [
      "/usr/local/lib/python3.6/dist-packages/sklearn/neural_network/multilayer_perceptron.py:566: ConvergenceWarning: Stochastic Optimizer: Maximum iterations (1000) reached and the optimization hasn't converged yet.\n",
      "  % self.max_iter, ConvergenceWarning)\n"
     ]
    },
    {
     "data": {
      "text/plain": [
       "MLPRegressor(activation='relu', alpha=0.01, batch_size='auto', beta_1=0.9,\n",
       "             beta_2=0.999, early_stopping=False, epsilon=1e-08,\n",
       "             hidden_layer_sizes=(6,), learning_rate='adaptive',\n",
       "             learning_rate_init=0.01, max_iter=1000, momentum=0.9,\n",
       "             n_iter_no_change=10, nesterovs_momentum=True, power_t=0.5,\n",
       "             random_state=None, shuffle=True, solver='adam', tol=0.0001,\n",
       "             validation_fraction=0.1, verbose=True, warm_start=False)"
      ]
     },
     "execution_count": 75,
     "metadata": {},
     "output_type": "execute_result"
    }
   ],
   "source": [
    "reg.fit(X_train,Y_train)"
   ]
  },
  {
   "cell_type": "code",
   "execution_count": 76,
   "metadata": {},
   "outputs": [],
   "source": [
    "Y_pred = reg.predict(X_val)"
   ]
  },
  {
   "cell_type": "code",
   "execution_count": 77,
   "metadata": {},
   "outputs": [
    {
     "data": {
      "text/plain": [
       "621982.1997982272"
      ]
     },
     "execution_count": 77,
     "metadata": {},
     "output_type": "execute_result"
    }
   ],
   "source": [
    "mean_absolute_error(Y_val,Y_pred)"
   ]
  },
  {
   "cell_type": "markdown",
   "metadata": {},
   "source": [
    "# Ensamble entre LightGBM, XGBoost y RandomForest (Blending)"
   ]
  },
  {
   "cell_type": "code",
   "execution_count": 17,
   "metadata": {},
   "outputs": [],
   "source": [
    "import lightgbm as lgb\n",
    "import xgboost"
   ]
  },
  {
   "cell_type": "code",
   "execution_count": 18,
   "metadata": {},
   "outputs": [],
   "source": [
    "train,test = pre_processing.load_featured_datasets()"
   ]
  },
  {
   "cell_type": "code",
   "execution_count": 19,
   "metadata": {},
   "outputs": [],
   "source": [
    "train['precio'] = train['precio'].map(lambda x: math.log(x))"
   ]
  },
  {
   "cell_type": "code",
   "execution_count": 20,
   "metadata": {},
   "outputs": [],
   "source": [
    "train_selected = feature_selection.get_selected_dataframe(train)\n",
    "test_selected = feature_selection.get_selected_dataframe(test, precio=False)"
   ]
  },
  {
   "cell_type": "code",
   "execution_count": 21,
   "metadata": {},
   "outputs": [],
   "source": [
    "xgb_params = parameter_tuning.get_best_params()['xgboost']\n",
    "lgb_params = parameter_tuning.get_best_params()['lightgbm']"
   ]
  },
  {
   "cell_type": "code",
   "execution_count": 22,
   "metadata": {},
   "outputs": [],
   "source": [
    "X = train_selected.drop('precio', axis=1).values\n",
    "Y = train_selected['precio'].values"
   ]
  },
  {
   "cell_type": "code",
   "execution_count": 23,
   "metadata": {},
   "outputs": [],
   "source": [
    "X_train, X_val, Y_train, Y_val = train_test_split(X, Y, test_size=0.2)"
   ]
  },
  {
   "cell_type": "code",
   "execution_count": 24,
   "metadata": {},
   "outputs": [
    {
     "data": {
      "text/plain": [
       "{'subsample': 0.9,\n",
       " 'n_estimators': 140,\n",
       " 'min_child_weight': 15,\n",
       " 'max_depth': 15,\n",
       " 'learning_rate': 0.1}"
      ]
     },
     "execution_count": 24,
     "metadata": {},
     "output_type": "execute_result"
    }
   ],
   "source": [
    "xgb_params"
   ]
  },
  {
   "cell_type": "code",
   "execution_count": 25,
   "metadata": {},
   "outputs": [],
   "source": [
    "reg_xgb = xgboost.XGBRegressor(max_depth=15,n_estimators=140 ,learning_rate=0.1, verbosity=2,subsample=0.9, min_child_weight=15,n_jobs=4)"
   ]
  },
  {
   "cell_type": "code",
   "execution_count": 26,
   "metadata": {
    "scrolled": true
   },
   "outputs": [
    {
     "name": "stdout",
     "output_type": "stream",
     "text": [
      "[12:51:48] WARNING: /workspace/src/objective/regression_obj.cu:152: reg:linear is now deprecated in favor of reg:squarederror.\n",
      "[12:51:50] INFO: /workspace/src/tree/updater_prune.cc:74: tree pruning end, 1 roots, 56 extra nodes, 0 pruned nodes, max_depth=8\n",
      "[12:51:50] INFO: /workspace/src/tree/updater_prune.cc:74: tree pruning end, 1 roots, 66 extra nodes, 0 pruned nodes, max_depth=8\n",
      "[12:51:51] INFO: /workspace/src/tree/updater_prune.cc:74: tree pruning end, 1 roots, 72 extra nodes, 0 pruned nodes, max_depth=7\n",
      "[12:51:52] INFO: /workspace/src/tree/updater_prune.cc:74: tree pruning end, 1 roots, 72 extra nodes, 0 pruned nodes, max_depth=8\n",
      "[12:51:53] INFO: /workspace/src/tree/updater_prune.cc:74: tree pruning end, 1 roots, 88 extra nodes, 0 pruned nodes, max_depth=9\n",
      "[12:51:54] INFO: /workspace/src/tree/updater_prune.cc:74: tree pruning end, 1 roots, 84 extra nodes, 0 pruned nodes, max_depth=9\n",
      "[12:51:55] INFO: /workspace/src/tree/updater_prune.cc:74: tree pruning end, 1 roots, 100 extra nodes, 0 pruned nodes, max_depth=8\n",
      "[12:51:55] INFO: /workspace/src/tree/updater_prune.cc:74: tree pruning end, 1 roots, 104 extra nodes, 0 pruned nodes, max_depth=8\n",
      "[12:51:56] INFO: /workspace/src/tree/updater_prune.cc:74: tree pruning end, 1 roots, 110 extra nodes, 0 pruned nodes, max_depth=8\n",
      "[12:51:57] INFO: /workspace/src/tree/updater_prune.cc:74: tree pruning end, 1 roots, 132 extra nodes, 0 pruned nodes, max_depth=8\n",
      "[12:51:58] INFO: /workspace/src/tree/updater_prune.cc:74: tree pruning end, 1 roots, 154 extra nodes, 0 pruned nodes, max_depth=9\n",
      "[12:51:59] INFO: /workspace/src/tree/updater_prune.cc:74: tree pruning end, 1 roots, 160 extra nodes, 0 pruned nodes, max_depth=9\n",
      "[12:52:00] INFO: /workspace/src/tree/updater_prune.cc:74: tree pruning end, 1 roots, 188 extra nodes, 0 pruned nodes, max_depth=9\n",
      "[12:52:02] INFO: /workspace/src/tree/updater_prune.cc:74: tree pruning end, 1 roots, 182 extra nodes, 0 pruned nodes, max_depth=10\n",
      "[12:52:03] INFO: /workspace/src/tree/updater_prune.cc:74: tree pruning end, 1 roots, 242 extra nodes, 0 pruned nodes, max_depth=11\n",
      "[12:52:04] INFO: /workspace/src/tree/updater_prune.cc:74: tree pruning end, 1 roots, 264 extra nodes, 0 pruned nodes, max_depth=12\n",
      "[12:52:05] INFO: /workspace/src/tree/updater_prune.cc:74: tree pruning end, 1 roots, 314 extra nodes, 0 pruned nodes, max_depth=12\n",
      "[12:52:07] INFO: /workspace/src/tree/updater_prune.cc:74: tree pruning end, 1 roots, 360 extra nodes, 0 pruned nodes, max_depth=15\n",
      "[12:52:08] INFO: /workspace/src/tree/updater_prune.cc:74: tree pruning end, 1 roots, 484 extra nodes, 0 pruned nodes, max_depth=13\n",
      "[12:52:09] INFO: /workspace/src/tree/updater_prune.cc:74: tree pruning end, 1 roots, 576 extra nodes, 0 pruned nodes, max_depth=14\n",
      "[12:52:11] INFO: /workspace/src/tree/updater_prune.cc:74: tree pruning end, 1 roots, 718 extra nodes, 0 pruned nodes, max_depth=15\n",
      "[12:52:13] INFO: /workspace/src/tree/updater_prune.cc:74: tree pruning end, 1 roots, 874 extra nodes, 0 pruned nodes, max_depth=15\n",
      "[12:52:14] INFO: /workspace/src/tree/updater_prune.cc:74: tree pruning end, 1 roots, 1032 extra nodes, 0 pruned nodes, max_depth=15\n",
      "[12:52:16] INFO: /workspace/src/tree/updater_prune.cc:74: tree pruning end, 1 roots, 1402 extra nodes, 0 pruned nodes, max_depth=15\n",
      "[12:52:17] INFO: /workspace/src/tree/updater_prune.cc:74: tree pruning end, 1 roots, 1868 extra nodes, 0 pruned nodes, max_depth=15\n",
      "[12:52:19] INFO: /workspace/src/tree/updater_prune.cc:74: tree pruning end, 1 roots, 2362 extra nodes, 0 pruned nodes, max_depth=15\n",
      "[12:52:21] INFO: /workspace/src/tree/updater_prune.cc:74: tree pruning end, 1 roots, 2332 extra nodes, 0 pruned nodes, max_depth=15\n",
      "[12:52:23] INFO: /workspace/src/tree/updater_prune.cc:74: tree pruning end, 1 roots, 2692 extra nodes, 0 pruned nodes, max_depth=15\n",
      "[12:52:25] INFO: /workspace/src/tree/updater_prune.cc:74: tree pruning end, 1 roots, 3018 extra nodes, 0 pruned nodes, max_depth=15\n",
      "[12:52:26] INFO: /workspace/src/tree/updater_prune.cc:74: tree pruning end, 1 roots, 3716 extra nodes, 0 pruned nodes, max_depth=15\n",
      "[12:52:28] INFO: /workspace/src/tree/updater_prune.cc:74: tree pruning end, 1 roots, 4054 extra nodes, 0 pruned nodes, max_depth=15\n",
      "[12:52:30] INFO: /workspace/src/tree/updater_prune.cc:74: tree pruning end, 1 roots, 4318 extra nodes, 0 pruned nodes, max_depth=15\n",
      "[12:52:32] INFO: /workspace/src/tree/updater_prune.cc:74: tree pruning end, 1 roots, 3944 extra nodes, 0 pruned nodes, max_depth=15\n",
      "[12:52:33] INFO: /workspace/src/tree/updater_prune.cc:74: tree pruning end, 1 roots, 4322 extra nodes, 0 pruned nodes, max_depth=15\n",
      "[12:52:35] INFO: /workspace/src/tree/updater_prune.cc:74: tree pruning end, 1 roots, 4934 extra nodes, 0 pruned nodes, max_depth=15\n",
      "[12:52:38] INFO: /workspace/src/tree/updater_prune.cc:74: tree pruning end, 1 roots, 4172 extra nodes, 0 pruned nodes, max_depth=15\n",
      "[12:52:40] INFO: /workspace/src/tree/updater_prune.cc:74: tree pruning end, 1 roots, 4162 extra nodes, 0 pruned nodes, max_depth=15\n",
      "[12:52:41] INFO: /workspace/src/tree/updater_prune.cc:74: tree pruning end, 1 roots, 4548 extra nodes, 0 pruned nodes, max_depth=15\n",
      "[12:52:44] INFO: /workspace/src/tree/updater_prune.cc:74: tree pruning end, 1 roots, 4090 extra nodes, 0 pruned nodes, max_depth=15\n",
      "[12:52:46] INFO: /workspace/src/tree/updater_prune.cc:74: tree pruning end, 1 roots, 4146 extra nodes, 0 pruned nodes, max_depth=15\n",
      "[12:52:48] INFO: /workspace/src/tree/updater_prune.cc:74: tree pruning end, 1 roots, 4528 extra nodes, 0 pruned nodes, max_depth=15\n",
      "[12:52:50] INFO: /workspace/src/tree/updater_prune.cc:74: tree pruning end, 1 roots, 3930 extra nodes, 0 pruned nodes, max_depth=15\n",
      "[12:52:52] INFO: /workspace/src/tree/updater_prune.cc:74: tree pruning end, 1 roots, 3878 extra nodes, 0 pruned nodes, max_depth=15\n",
      "[12:52:54] INFO: /workspace/src/tree/updater_prune.cc:74: tree pruning end, 1 roots, 3544 extra nodes, 0 pruned nodes, max_depth=15\n",
      "[12:52:57] INFO: /workspace/src/tree/updater_prune.cc:74: tree pruning end, 1 roots, 3546 extra nodes, 0 pruned nodes, max_depth=15\n",
      "[12:53:00] INFO: /workspace/src/tree/updater_prune.cc:74: tree pruning end, 1 roots, 3608 extra nodes, 0 pruned nodes, max_depth=15\n",
      "[12:53:02] INFO: /workspace/src/tree/updater_prune.cc:74: tree pruning end, 1 roots, 2518 extra nodes, 0 pruned nodes, max_depth=15\n",
      "[12:53:04] INFO: /workspace/src/tree/updater_prune.cc:74: tree pruning end, 1 roots, 3866 extra nodes, 0 pruned nodes, max_depth=15\n",
      "[12:53:06] INFO: /workspace/src/tree/updater_prune.cc:74: tree pruning end, 1 roots, 3104 extra nodes, 0 pruned nodes, max_depth=15\n",
      "[12:53:09] INFO: /workspace/src/tree/updater_prune.cc:74: tree pruning end, 1 roots, 2752 extra nodes, 0 pruned nodes, max_depth=15\n",
      "[12:53:11] INFO: /workspace/src/tree/updater_prune.cc:74: tree pruning end, 1 roots, 3084 extra nodes, 0 pruned nodes, max_depth=15\n",
      "[12:53:14] INFO: /workspace/src/tree/updater_prune.cc:74: tree pruning end, 1 roots, 2780 extra nodes, 0 pruned nodes, max_depth=15\n",
      "[12:53:16] INFO: /workspace/src/tree/updater_prune.cc:74: tree pruning end, 1 roots, 2670 extra nodes, 0 pruned nodes, max_depth=15\n",
      "[12:53:18] INFO: /workspace/src/tree/updater_prune.cc:74: tree pruning end, 1 roots, 2722 extra nodes, 0 pruned nodes, max_depth=15\n",
      "[12:53:19] INFO: /workspace/src/tree/updater_prune.cc:74: tree pruning end, 1 roots, 2278 extra nodes, 0 pruned nodes, max_depth=15\n",
      "[12:53:21] INFO: /workspace/src/tree/updater_prune.cc:74: tree pruning end, 1 roots, 2304 extra nodes, 0 pruned nodes, max_depth=15\n",
      "[12:53:23] INFO: /workspace/src/tree/updater_prune.cc:74: tree pruning end, 1 roots, 2676 extra nodes, 0 pruned nodes, max_depth=15\n",
      "[12:53:25] INFO: /workspace/src/tree/updater_prune.cc:74: tree pruning end, 1 roots, 2092 extra nodes, 0 pruned nodes, max_depth=15\n",
      "[12:53:27] INFO: /workspace/src/tree/updater_prune.cc:74: tree pruning end, 1 roots, 2040 extra nodes, 0 pruned nodes, max_depth=15\n",
      "[12:53:29] INFO: /workspace/src/tree/updater_prune.cc:74: tree pruning end, 1 roots, 1330 extra nodes, 0 pruned nodes, max_depth=15\n",
      "[12:53:30] INFO: /workspace/src/tree/updater_prune.cc:74: tree pruning end, 1 roots, 1568 extra nodes, 0 pruned nodes, max_depth=15\n",
      "[12:53:32] INFO: /workspace/src/tree/updater_prune.cc:74: tree pruning end, 1 roots, 2534 extra nodes, 0 pruned nodes, max_depth=15\n",
      "[12:53:34] INFO: /workspace/src/tree/updater_prune.cc:74: tree pruning end, 1 roots, 3502 extra nodes, 0 pruned nodes, max_depth=15\n",
      "[12:53:36] INFO: /workspace/src/tree/updater_prune.cc:74: tree pruning end, 1 roots, 2182 extra nodes, 0 pruned nodes, max_depth=15\n",
      "[12:53:37] INFO: /workspace/src/tree/updater_prune.cc:74: tree pruning end, 1 roots, 1264 extra nodes, 0 pruned nodes, max_depth=15\n",
      "[12:53:39] INFO: /workspace/src/tree/updater_prune.cc:74: tree pruning end, 1 roots, 2070 extra nodes, 0 pruned nodes, max_depth=15\n",
      "[12:53:41] INFO: /workspace/src/tree/updater_prune.cc:74: tree pruning end, 1 roots, 1718 extra nodes, 0 pruned nodes, max_depth=15\n",
      "[12:53:43] INFO: /workspace/src/tree/updater_prune.cc:74: tree pruning end, 1 roots, 2452 extra nodes, 0 pruned nodes, max_depth=15\n",
      "[12:53:46] INFO: /workspace/src/tree/updater_prune.cc:74: tree pruning end, 1 roots, 1806 extra nodes, 0 pruned nodes, max_depth=15\n",
      "[12:53:48] INFO: /workspace/src/tree/updater_prune.cc:74: tree pruning end, 1 roots, 1786 extra nodes, 0 pruned nodes, max_depth=15\n",
      "[12:53:51] INFO: /workspace/src/tree/updater_prune.cc:74: tree pruning end, 1 roots, 1296 extra nodes, 0 pruned nodes, max_depth=15\n",
      "[12:53:53] INFO: /workspace/src/tree/updater_prune.cc:74: tree pruning end, 1 roots, 1840 extra nodes, 0 pruned nodes, max_depth=15\n",
      "[12:53:55] INFO: /workspace/src/tree/updater_prune.cc:74: tree pruning end, 1 roots, 914 extra nodes, 0 pruned nodes, max_depth=15\n",
      "[12:53:57] INFO: /workspace/src/tree/updater_prune.cc:74: tree pruning end, 1 roots, 1526 extra nodes, 0 pruned nodes, max_depth=15\n",
      "[12:53:59] INFO: /workspace/src/tree/updater_prune.cc:74: tree pruning end, 1 roots, 2546 extra nodes, 0 pruned nodes, max_depth=15\n",
      "[12:54:00] INFO: /workspace/src/tree/updater_prune.cc:74: tree pruning end, 1 roots, 1514 extra nodes, 0 pruned nodes, max_depth=15\n",
      "[12:54:02] INFO: /workspace/src/tree/updater_prune.cc:74: tree pruning end, 1 roots, 1844 extra nodes, 0 pruned nodes, max_depth=15\n",
      "[12:54:04] INFO: /workspace/src/tree/updater_prune.cc:74: tree pruning end, 1 roots, 1670 extra nodes, 0 pruned nodes, max_depth=15\n",
      "[12:54:07] INFO: /workspace/src/tree/updater_prune.cc:74: tree pruning end, 1 roots, 2396 extra nodes, 0 pruned nodes, max_depth=15\n",
      "[12:54:09] INFO: /workspace/src/tree/updater_prune.cc:74: tree pruning end, 1 roots, 1060 extra nodes, 0 pruned nodes, max_depth=15\n",
      "[12:54:11] INFO: /workspace/src/tree/updater_prune.cc:74: tree pruning end, 1 roots, 2698 extra nodes, 0 pruned nodes, max_depth=15\n",
      "[12:54:13] INFO: /workspace/src/tree/updater_prune.cc:74: tree pruning end, 1 roots, 2024 extra nodes, 0 pruned nodes, max_depth=15\n",
      "[12:54:15] INFO: /workspace/src/tree/updater_prune.cc:74: tree pruning end, 1 roots, 1914 extra nodes, 0 pruned nodes, max_depth=15\n",
      "[12:54:16] INFO: /workspace/src/tree/updater_prune.cc:74: tree pruning end, 1 roots, 2020 extra nodes, 0 pruned nodes, max_depth=15\n",
      "[12:54:18] INFO: /workspace/src/tree/updater_prune.cc:74: tree pruning end, 1 roots, 1826 extra nodes, 0 pruned nodes, max_depth=15\n",
      "[12:54:19] INFO: /workspace/src/tree/updater_prune.cc:74: tree pruning end, 1 roots, 1204 extra nodes, 0 pruned nodes, max_depth=15\n",
      "[12:54:21] INFO: /workspace/src/tree/updater_prune.cc:74: tree pruning end, 1 roots, 2038 extra nodes, 0 pruned nodes, max_depth=15\n",
      "[12:54:23] INFO: /workspace/src/tree/updater_prune.cc:74: tree pruning end, 1 roots, 2410 extra nodes, 0 pruned nodes, max_depth=15\n",
      "[12:54:24] INFO: /workspace/src/tree/updater_prune.cc:74: tree pruning end, 1 roots, 1930 extra nodes, 0 pruned nodes, max_depth=15\n",
      "[12:54:26] INFO: /workspace/src/tree/updater_prune.cc:74: tree pruning end, 1 roots, 992 extra nodes, 0 pruned nodes, max_depth=15\n",
      "[12:54:28] INFO: /workspace/src/tree/updater_prune.cc:74: tree pruning end, 1 roots, 1418 extra nodes, 0 pruned nodes, max_depth=15\n",
      "[12:54:29] INFO: /workspace/src/tree/updater_prune.cc:74: tree pruning end, 1 roots, 1974 extra nodes, 0 pruned nodes, max_depth=15\n",
      "[12:54:32] INFO: /workspace/src/tree/updater_prune.cc:74: tree pruning end, 1 roots, 2244 extra nodes, 0 pruned nodes, max_depth=15\n",
      "[12:54:34] INFO: /workspace/src/tree/updater_prune.cc:74: tree pruning end, 1 roots, 1018 extra nodes, 0 pruned nodes, max_depth=15\n",
      "[12:54:35] INFO: /workspace/src/tree/updater_prune.cc:74: tree pruning end, 1 roots, 1498 extra nodes, 0 pruned nodes, max_depth=15\n",
      "[12:54:37] INFO: /workspace/src/tree/updater_prune.cc:74: tree pruning end, 1 roots, 2174 extra nodes, 0 pruned nodes, max_depth=15\n",
      "[12:54:38] INFO: /workspace/src/tree/updater_prune.cc:74: tree pruning end, 1 roots, 1160 extra nodes, 0 pruned nodes, max_depth=15\n",
      "[12:54:40] INFO: /workspace/src/tree/updater_prune.cc:74: tree pruning end, 1 roots, 2516 extra nodes, 0 pruned nodes, max_depth=15\n",
      "[12:54:41] INFO: /workspace/src/tree/updater_prune.cc:74: tree pruning end, 1 roots, 1320 extra nodes, 0 pruned nodes, max_depth=15\n",
      "[12:54:43] INFO: /workspace/src/tree/updater_prune.cc:74: tree pruning end, 1 roots, 1778 extra nodes, 0 pruned nodes, max_depth=15\n",
      "[12:54:45] INFO: /workspace/src/tree/updater_prune.cc:74: tree pruning end, 1 roots, 1970 extra nodes, 0 pruned nodes, max_depth=15\n",
      "[12:54:47] INFO: /workspace/src/tree/updater_prune.cc:74: tree pruning end, 1 roots, 1356 extra nodes, 0 pruned nodes, max_depth=15\n",
      "[12:54:48] INFO: /workspace/src/tree/updater_prune.cc:74: tree pruning end, 1 roots, 2158 extra nodes, 0 pruned nodes, max_depth=15\n",
      "[12:54:50] INFO: /workspace/src/tree/updater_prune.cc:74: tree pruning end, 1 roots, 1344 extra nodes, 0 pruned nodes, max_depth=15\n",
      "[12:54:52] INFO: /workspace/src/tree/updater_prune.cc:74: tree pruning end, 1 roots, 3148 extra nodes, 0 pruned nodes, max_depth=15\n",
      "[12:54:53] INFO: /workspace/src/tree/updater_prune.cc:74: tree pruning end, 1 roots, 1842 extra nodes, 0 pruned nodes, max_depth=15\n",
      "[12:54:55] INFO: /workspace/src/tree/updater_prune.cc:74: tree pruning end, 1 roots, 2412 extra nodes, 0 pruned nodes, max_depth=15\n",
      "[12:54:57] INFO: /workspace/src/tree/updater_prune.cc:74: tree pruning end, 1 roots, 1742 extra nodes, 0 pruned nodes, max_depth=15\n",
      "[12:54:58] INFO: /workspace/src/tree/updater_prune.cc:74: tree pruning end, 1 roots, 666 extra nodes, 0 pruned nodes, max_depth=15\n",
      "[12:55:00] INFO: /workspace/src/tree/updater_prune.cc:74: tree pruning end, 1 roots, 2312 extra nodes, 0 pruned nodes, max_depth=15\n",
      "[12:55:01] INFO: /workspace/src/tree/updater_prune.cc:74: tree pruning end, 1 roots, 1638 extra nodes, 0 pruned nodes, max_depth=15\n",
      "[12:55:03] INFO: /workspace/src/tree/updater_prune.cc:74: tree pruning end, 1 roots, 1660 extra nodes, 0 pruned nodes, max_depth=15\n",
      "[12:55:04] INFO: /workspace/src/tree/updater_prune.cc:74: tree pruning end, 1 roots, 1388 extra nodes, 0 pruned nodes, max_depth=15\n",
      "[12:55:05] INFO: /workspace/src/tree/updater_prune.cc:74: tree pruning end, 1 roots, 1114 extra nodes, 0 pruned nodes, max_depth=15\n",
      "[12:55:07] INFO: /workspace/src/tree/updater_prune.cc:74: tree pruning end, 1 roots, 2028 extra nodes, 0 pruned nodes, max_depth=15\n",
      "[12:55:09] INFO: /workspace/src/tree/updater_prune.cc:74: tree pruning end, 1 roots, 2782 extra nodes, 0 pruned nodes, max_depth=15\n",
      "[12:55:10] INFO: /workspace/src/tree/updater_prune.cc:74: tree pruning end, 1 roots, 912 extra nodes, 0 pruned nodes, max_depth=15\n",
      "[12:55:11] INFO: /workspace/src/tree/updater_prune.cc:74: tree pruning end, 1 roots, 1524 extra nodes, 0 pruned nodes, max_depth=15\n",
      "[12:55:13] INFO: /workspace/src/tree/updater_prune.cc:74: tree pruning end, 1 roots, 1046 extra nodes, 0 pruned nodes, max_depth=15\n",
      "[12:55:15] INFO: /workspace/src/tree/updater_prune.cc:74: tree pruning end, 1 roots, 1884 extra nodes, 0 pruned nodes, max_depth=15\n",
      "[12:55:16] INFO: /workspace/src/tree/updater_prune.cc:74: tree pruning end, 1 roots, 2220 extra nodes, 0 pruned nodes, max_depth=15\n",
      "[12:55:18] INFO: /workspace/src/tree/updater_prune.cc:74: tree pruning end, 1 roots, 1484 extra nodes, 0 pruned nodes, max_depth=15\n",
      "[12:55:19] INFO: /workspace/src/tree/updater_prune.cc:74: tree pruning end, 1 roots, 1018 extra nodes, 0 pruned nodes, max_depth=15\n",
      "[12:55:21] INFO: /workspace/src/tree/updater_prune.cc:74: tree pruning end, 1 roots, 1446 extra nodes, 0 pruned nodes, max_depth=15\n",
      "[12:55:22] INFO: /workspace/src/tree/updater_prune.cc:74: tree pruning end, 1 roots, 1654 extra nodes, 0 pruned nodes, max_depth=15\n",
      "[12:55:24] INFO: /workspace/src/tree/updater_prune.cc:74: tree pruning end, 1 roots, 1440 extra nodes, 0 pruned nodes, max_depth=15\n",
      "[12:55:25] INFO: /workspace/src/tree/updater_prune.cc:74: tree pruning end, 1 roots, 758 extra nodes, 0 pruned nodes, max_depth=15\n",
      "[12:55:26] INFO: /workspace/src/tree/updater_prune.cc:74: tree pruning end, 1 roots, 408 extra nodes, 0 pruned nodes, max_depth=15\n",
      "[12:55:28] INFO: /workspace/src/tree/updater_prune.cc:74: tree pruning end, 1 roots, 1454 extra nodes, 0 pruned nodes, max_depth=15\n",
      "[12:55:29] INFO: /workspace/src/tree/updater_prune.cc:74: tree pruning end, 1 roots, 1134 extra nodes, 0 pruned nodes, max_depth=15\n",
      "[12:55:31] INFO: /workspace/src/tree/updater_prune.cc:74: tree pruning end, 1 roots, 1000 extra nodes, 0 pruned nodes, max_depth=15\n",
      "[12:55:32] INFO: /workspace/src/tree/updater_prune.cc:74: tree pruning end, 1 roots, 854 extra nodes, 0 pruned nodes, max_depth=15\n",
      "[12:55:33] INFO: /workspace/src/tree/updater_prune.cc:74: tree pruning end, 1 roots, 1810 extra nodes, 0 pruned nodes, max_depth=15\n",
      "[12:55:35] INFO: /workspace/src/tree/updater_prune.cc:74: tree pruning end, 1 roots, 1456 extra nodes, 0 pruned nodes, max_depth=15\n",
      "[12:55:36] INFO: /workspace/src/tree/updater_prune.cc:74: tree pruning end, 1 roots, 1124 extra nodes, 0 pruned nodes, max_depth=15\n",
      "[12:55:38] INFO: /workspace/src/tree/updater_prune.cc:74: tree pruning end, 1 roots, 1964 extra nodes, 0 pruned nodes, max_depth=15\n",
      "[12:55:39] INFO: /workspace/src/tree/updater_prune.cc:74: tree pruning end, 1 roots, 1342 extra nodes, 0 pruned nodes, max_depth=15\n",
      "[12:55:41] INFO: /workspace/src/tree/updater_prune.cc:74: tree pruning end, 1 roots, 1308 extra nodes, 0 pruned nodes, max_depth=15\n",
      "[12:55:43] INFO: /workspace/src/tree/updater_prune.cc:74: tree pruning end, 1 roots, 1532 extra nodes, 0 pruned nodes, max_depth=15\n",
      "[12:55:45] INFO: /workspace/src/tree/updater_prune.cc:74: tree pruning end, 1 roots, 2830 extra nodes, 0 pruned nodes, max_depth=15\n"
     ]
    },
    {
     "data": {
      "text/plain": [
       "XGBRegressor(base_score=0.5, booster='gbtree', colsample_bylevel=1,\n",
       "             colsample_bynode=1, colsample_bytree=1, gamma=0,\n",
       "             importance_type='gain', learning_rate=0.1, max_delta_step=0,\n",
       "             max_depth=15, min_child_weight=15, missing=None, n_estimators=140,\n",
       "             n_jobs=4, nthread=None, objective='reg:linear', random_state=0,\n",
       "             reg_alpha=0, reg_lambda=1, scale_pos_weight=1, seed=None,\n",
       "             silent=None, subsample=0.9, verbosity=2)"
      ]
     },
     "execution_count": 26,
     "metadata": {},
     "output_type": "execute_result"
    }
   ],
   "source": [
    "reg_xgb.fit(X_train,Y_train)"
   ]
  },
  {
   "cell_type": "code",
   "execution_count": 28,
   "metadata": {},
   "outputs": [],
   "source": [
    "Y_pred_xgb_val = reg_xgb.predict(X_val)"
   ]
  },
  {
   "cell_type": "code",
   "execution_count": 29,
   "metadata": {},
   "outputs": [],
   "source": [
    "Y_pred_xgb_val = np.exp(Y_pred_xgb_val)"
   ]
  },
  {
   "cell_type": "code",
   "execution_count": 31,
   "metadata": {},
   "outputs": [],
   "source": [
    "X_val_xgbadded = np.hstack((X_val, np.atleast_2d(Y_pred_xgb_val).T)) "
   ]
  },
  {
   "cell_type": "code",
   "execution_count": 33,
   "metadata": {},
   "outputs": [],
   "source": [
    "Y_pred_xgb_train = reg_xgb.predict(X_train)"
   ]
  },
  {
   "cell_type": "code",
   "execution_count": 34,
   "metadata": {},
   "outputs": [],
   "source": [
    "Y_pred_xgb_train = np.exp(Y_pred_xgb_train)"
   ]
  },
  {
   "cell_type": "code",
   "execution_count": 35,
   "metadata": {},
   "outputs": [],
   "source": [
    "X_train_xgbadded = np.hstack((X_train, np.atleast_2d(Y_pred_xgb_train).T)) "
   ]
  },
  {
   "cell_type": "code",
   "execution_count": 36,
   "metadata": {},
   "outputs": [],
   "source": [
    "# Entrenamiento de LightGBM"
   ]
  },
  {
   "cell_type": "code",
   "execution_count": 37,
   "metadata": {},
   "outputs": [
    {
     "data": {
      "text/plain": [
       "{'num_leaves': 55,\n",
       " 'min_gain_to_split': 0.2,\n",
       " 'min_data_in_leaf': 3000,\n",
       " 'max_depth': 12,\n",
       " 'max_bin': 150,\n",
       " 'feature_fraction': 0.7,\n",
       " 'bagging_freq': 5,\n",
       " 'bagging_fraction': 0.75,\n",
       " 'boosting_type': 'gbdt',\n",
       " 'objective': 'regression',\n",
       " 'metric': 'mae',\n",
       " 'num_boost_round': 5000,\n",
       " 'verbose': 0,\n",
       " 'learning_rate': 0.1}"
      ]
     },
     "execution_count": 37,
     "metadata": {},
     "output_type": "execute_result"
    }
   ],
   "source": [
    "lgb_params"
   ]
  },
  {
   "cell_type": "code",
   "execution_count": 38,
   "metadata": {},
   "outputs": [],
   "source": [
    "lgb_params['min_gain_to_split'] = 0\n",
    "lgb_params['learning_rate'] = 0.05"
   ]
  },
  {
   "cell_type": "code",
   "execution_count": 41,
   "metadata": {},
   "outputs": [
    {
     "name": "stderr",
     "output_type": "stream",
     "text": [
      "/usr/local/lib/python3.6/dist-packages/lightgbm/engine.py:148: UserWarning: Found `num_boost_round` in params. Will use it instead of argument\n",
      "  warnings.warn(\"Found `{}` in params. Will use it instead of argument\".format(alias))\n"
     ]
    },
    {
     "name": "stdout",
     "output_type": "stream",
     "text": [
      "[500]\tvalid_0's l1: 0.1915\n",
      "[1000]\tvalid_0's l1: 0.193023\n",
      "[1500]\tvalid_0's l1: 0.193817\n",
      "[2000]\tvalid_0's l1: 0.194267\n",
      "[2500]\tvalid_0's l1: 0.194575\n",
      "[3000]\tvalid_0's l1: 0.194831\n",
      "[3500]\tvalid_0's l1: 0.195017\n",
      "[4000]\tvalid_0's l1: 0.195187\n",
      "[4500]\tvalid_0's l1: 0.195343\n",
      "[5000]\tvalid_0's l1: 0.195491\n"
     ]
    }
   ],
   "source": [
    "d_train = lgb.Dataset(X_train_xgbadded, label=Y_train)\n",
    "d_valid = lgb.Dataset(X_val_xgbadded, label=Y_val)\n",
    "watchlist = [d_valid]\n",
    "reg_lgb = lgb.train(lgb_params, train_set=d_train, valid_sets=watchlist, verbose_eval=500)"
   ]
  },
  {
   "cell_type": "code",
   "execution_count": 42,
   "metadata": {},
   "outputs": [],
   "source": [
    "Y_pred = reg_lgb.predict(X_val_xgbadded)"
   ]
  },
  {
   "cell_type": "code",
   "execution_count": 43,
   "metadata": {},
   "outputs": [],
   "source": [
    "Y_pred = np.exp(Y_pred)"
   ]
  },
  {
   "cell_type": "code",
   "execution_count": 44,
   "metadata": {},
   "outputs": [],
   "source": [
    "Y_val = np.exp(Y_val)"
   ]
  },
  {
   "cell_type": "code",
   "execution_count": 45,
   "metadata": {},
   "outputs": [
    {
     "data": {
      "text/plain": [
       "493694.206134118"
      ]
     },
     "execution_count": 45,
     "metadata": {},
     "output_type": "execute_result"
    }
   ],
   "source": [
    "mean_absolute_error(Y_pred,Y_val)"
   ]
  },
  {
   "cell_type": "code",
   "execution_count": 46,
   "metadata": {},
   "outputs": [],
   "source": [
    "Y_pred_train = reg_lgb.predict(X_train_xgbadded)"
   ]
  },
  {
   "cell_type": "code",
   "execution_count": 47,
   "metadata": {},
   "outputs": [],
   "source": [
    "Y_pred_train = np.exp(Y_pred_train)"
   ]
  },
  {
   "cell_type": "code",
   "execution_count": 48,
   "metadata": {},
   "outputs": [
    {
     "data": {
      "text/plain": [
       "252590.86866978844"
      ]
     },
     "execution_count": 48,
     "metadata": {},
     "output_type": "execute_result"
    }
   ],
   "source": [
    "mean_absolute_error(Y_pred_train,np.exp(Y_train))"
   ]
  },
  {
   "cell_type": "code",
   "execution_count": null,
   "metadata": {},
   "outputs": [],
   "source": []
  },
  {
   "cell_type": "markdown",
   "metadata": {},
   "source": [
    "# Ensamble entre LightGBM, XGBoost y RandomForest (Blending) v2"
   ]
  },
  {
   "cell_type": "code",
   "execution_count": 4,
   "metadata": {},
   "outputs": [],
   "source": [
    "import lightgbm as lgb\n",
    "import xgboost as xgb"
   ]
  },
  {
   "cell_type": "code",
   "execution_count": 5,
   "metadata": {},
   "outputs": [],
   "source": [
    "train,test = pre_processing.load_featured_datasets()"
   ]
  },
  {
   "cell_type": "code",
   "execution_count": 6,
   "metadata": {},
   "outputs": [],
   "source": [
    "train['precio'] = train['precio'].map(lambda x: math.log(x))"
   ]
  },
  {
   "cell_type": "code",
   "execution_count": 7,
   "metadata": {},
   "outputs": [],
   "source": [
    "train_selected = feature_selection.get_selected_dataframe(train)\n",
    "test_selected = feature_selection.get_selected_dataframe(test, precio=False)"
   ]
  },
  {
   "cell_type": "code",
   "execution_count": 8,
   "metadata": {},
   "outputs": [],
   "source": [
    "xgb_params = parameter_tuning.get_best_params()['xgboost']\n",
    "lgb_params = parameter_tuning.get_best_params()['lightgbm']"
   ]
  },
  {
   "cell_type": "code",
   "execution_count": 9,
   "metadata": {},
   "outputs": [],
   "source": [
    "X = train_selected.drop('precio', axis=1)\n",
    "Y = train_selected['precio']"
   ]
  },
  {
   "cell_type": "code",
   "execution_count": 10,
   "metadata": {},
   "outputs": [],
   "source": [
    "# Separamos el set de train en 10-90"
   ]
  },
  {
   "cell_type": "code",
   "execution_count": null,
   "metadata": {},
   "outputs": [],
   "source": [
    "X_90, X_10, Y_90, Y_10 = train_test_split(X, Y, test_size=0.1)"
   ]
  },
  {
   "cell_type": "code",
   "execution_count": 14,
   "metadata": {},
   "outputs": [],
   "source": [
    "# Entrenamos XGBoost"
   ]
  },
  {
   "cell_type": "code",
   "execution_count": 13,
   "metadata": {},
   "outputs": [],
   "source": [
    "reg_xgb = xgb.XGBRegressor(max_depth=15,n_estimators=140 ,learning_rate=0.1, verbosity=0,subsample=0.9, min_child_weight=15,n_jobs=4)"
   ]
  },
  {
   "cell_type": "code",
   "execution_count": 15,
   "metadata": {
    "scrolled": true
   },
   "outputs": [
    {
     "data": {
      "text/plain": [
       "XGBRegressor(base_score=0.5, booster='gbtree', colsample_bylevel=1,\n",
       "             colsample_bynode=1, colsample_bytree=1, gamma=0,\n",
       "             importance_type='gain', learning_rate=0.1, max_delta_step=0,\n",
       "             max_depth=15, min_child_weight=15, missing=None, n_estimators=140,\n",
       "             n_jobs=4, nthread=None, objective='reg:linear', random_state=0,\n",
       "             reg_alpha=0, reg_lambda=1, scale_pos_weight=1, seed=None,\n",
       "             silent=None, subsample=0.9, verbosity=0)"
      ]
     },
     "execution_count": 15,
     "metadata": {},
     "output_type": "execute_result"
    }
   ],
   "source": [
    "reg_xgb.fit(X_90.values,Y_90.values)"
   ]
  },
  {
   "cell_type": "code",
   "execution_count": 16,
   "metadata": {},
   "outputs": [],
   "source": [
    "# Entrenamos LightGBM"
   ]
  },
  {
   "cell_type": "code",
   "execution_count": 17,
   "metadata": {},
   "outputs": [],
   "source": [
    "lgb_params['min_gain_to_split'] = 0\n",
    "lgb_params['learning_rate'] = 0.05\n",
    "lgb_params['early_stopping_round'] = 200"
   ]
  },
  {
   "cell_type": "code",
   "execution_count": 18,
   "metadata": {},
   "outputs": [],
   "source": [
    "X_train, X_val, Y_train, Y_val = train_test_split(X_90, Y_90, test_size=0.2)"
   ]
  },
  {
   "cell_type": "code",
   "execution_count": 19,
   "metadata": {},
   "outputs": [
    {
     "name": "stderr",
     "output_type": "stream",
     "text": [
      "/usr/local/lib/python3.6/dist-packages/lightgbm/engine.py:148: UserWarning: Found `num_boost_round` in params. Will use it instead of argument\n",
      "  warnings.warn(\"Found `{}` in params. Will use it instead of argument\".format(alias))\n",
      "/usr/local/lib/python3.6/dist-packages/lightgbm/engine.py:153: UserWarning: Found `early_stopping_round` in params. Will use it instead of argument\n",
      "  warnings.warn(\"Found `{}` in params. Will use it instead of argument\".format(alias))\n"
     ]
    },
    {
     "name": "stdout",
     "output_type": "stream",
     "text": [
      "Training until validation scores don't improve for 200 rounds\n",
      "[500]\ttraining's l1: 0.204383\tvalid_0's l1: 0.20819\n",
      "[1000]\ttraining's l1: 0.196908\tvalid_0's l1: 0.202772\n",
      "[1500]\ttraining's l1: 0.192314\tvalid_0's l1: 0.199872\n",
      "[2000]\ttraining's l1: 0.18891\tvalid_0's l1: 0.1982\n",
      "[2500]\ttraining's l1: 0.18615\tvalid_0's l1: 0.197009\n",
      "[3000]\ttraining's l1: 0.183734\tvalid_0's l1: 0.19603\n",
      "[3500]\ttraining's l1: 0.181574\tvalid_0's l1: 0.195269\n",
      "[4000]\ttraining's l1: 0.179594\tvalid_0's l1: 0.194624\n",
      "[4500]\ttraining's l1: 0.177765\tvalid_0's l1: 0.194073\n",
      "[5000]\ttraining's l1: 0.176096\tvalid_0's l1: 0.193717\n",
      "Did not meet early stopping. Best iteration is:\n",
      "[5000]\ttraining's l1: 0.176096\tvalid_0's l1: 0.193717\n"
     ]
    }
   ],
   "source": [
    "d_train = lgb.Dataset(X_train.values, label=Y_train.values)\n",
    "d_valid = lgb.Dataset(X_val.values, label=Y_val.values)\n",
    "watchlist = [d_valid, d_train]\n",
    "reg_lgb = lgb.train(lgb_params, train_set=d_train, valid_sets=watchlist, verbose_eval=500)"
   ]
  },
  {
   "cell_type": "code",
   "execution_count": 21,
   "metadata": {},
   "outputs": [],
   "source": [
    "# Realizamos las predicciones para el 10 restante...\n",
    "xgb_pred = reg_xgb.predict(X_10.values) \n",
    "lgb_pred = reg_lgb.predict(X_10.values)"
   ]
  },
  {
   "cell_type": "code",
   "execution_count": 22,
   "metadata": {},
   "outputs": [],
   "source": [
    "# Entrenamos un modelo blender. Se utilizara xgb."
   ]
  },
  {
   "cell_type": "code",
   "execution_count": 31,
   "metadata": {
    "scrolled": true
   },
   "outputs": [],
   "source": [
    "df = Y_10.to_frame()\n",
    "df['xgb'] = xgb_pred\n",
    "df['lgb'] = lgb_pred"
   ]
  },
  {
   "cell_type": "code",
   "execution_count": 34,
   "metadata": {
    "scrolled": true
   },
   "outputs": [],
   "source": [
    "X = df.drop('precio', axis=1)\n",
    "Y = df['precio']"
   ]
  },
  {
   "cell_type": "code",
   "execution_count": 37,
   "metadata": {},
   "outputs": [],
   "source": [
    "blender = xgb.XGBRegressor(max_depth=15,n_estimators=140 ,learning_rate=0.1, verbosity=0,subsample=0.9, min_child_weight=15,n_jobs=4)"
   ]
  },
  {
   "cell_type": "code",
   "execution_count": 38,
   "metadata": {},
   "outputs": [
    {
     "data": {
      "text/plain": [
       "XGBRegressor(base_score=0.5, booster='gbtree', colsample_bylevel=1,\n",
       "             colsample_bynode=1, colsample_bytree=1, gamma=0,\n",
       "             importance_type='gain', learning_rate=0.1, max_delta_step=0,\n",
       "             max_depth=15, min_child_weight=15, missing=None, n_estimators=140,\n",
       "             n_jobs=4, nthread=None, objective='reg:linear', random_state=0,\n",
       "             reg_alpha=0, reg_lambda=1, scale_pos_weight=1, seed=None,\n",
       "             silent=None, subsample=0.9, verbosity=0)"
      ]
     },
     "execution_count": 38,
     "metadata": {},
     "output_type": "execute_result"
    }
   ],
   "source": [
    "blender.fit(X.values,Y.values)"
   ]
  },
  {
   "cell_type": "code",
   "execution_count": 39,
   "metadata": {},
   "outputs": [],
   "source": [
    "# Listo el blender, ahora entrenamos LGB y XGB con train completo."
   ]
  },
  {
   "cell_type": "code",
   "execution_count": 40,
   "metadata": {},
   "outputs": [],
   "source": [
    "train_selected = feature_selection.get_selected_dataframe(train)\n",
    "test_selected = feature_selection.get_selected_dataframe(test, precio=False)"
   ]
  },
  {
   "cell_type": "code",
   "execution_count": 41,
   "metadata": {},
   "outputs": [],
   "source": [
    "X = train_selected.drop('precio', axis=1)\n",
    "Y = train_selected['precio']"
   ]
  },
  {
   "cell_type": "code",
   "execution_count": 42,
   "metadata": {},
   "outputs": [
    {
     "data": {
      "text/plain": [
       "XGBRegressor(base_score=0.5, booster='gbtree', colsample_bylevel=1,\n",
       "             colsample_bynode=1, colsample_bytree=1, gamma=0,\n",
       "             importance_type='gain', learning_rate=0.1, max_delta_step=0,\n",
       "             max_depth=15, min_child_weight=15, missing=None, n_estimators=140,\n",
       "             n_jobs=4, nthread=None, objective='reg:linear', random_state=0,\n",
       "             reg_alpha=0, reg_lambda=1, scale_pos_weight=1, seed=None,\n",
       "             silent=None, subsample=0.9, verbosity=0)"
      ]
     },
     "execution_count": 42,
     "metadata": {},
     "output_type": "execute_result"
    }
   ],
   "source": [
    "# xgb\n",
    "reg_xgb = xgb.XGBRegressor(max_depth=15,n_estimators=140 ,learning_rate=0.1, verbosity=0,subsample=0.9, min_child_weight=15,n_jobs=4)\n",
    "reg_xgb.fit(X.values,Y.values)"
   ]
  },
  {
   "cell_type": "code",
   "execution_count": 45,
   "metadata": {},
   "outputs": [],
   "source": [
    "del lgb_params['early_stopping_round']"
   ]
  },
  {
   "cell_type": "code",
   "execution_count": 47,
   "metadata": {
    "scrolled": true
   },
   "outputs": [],
   "source": [
    "# lgb\n",
    "d_train = lgb.Dataset(X.values, label=Y.values)\n",
    "reg_lgb = lgb.train(lgb_params, train_set=d_train, verbose_eval=False)"
   ]
  },
  {
   "cell_type": "code",
   "execution_count": 48,
   "metadata": {},
   "outputs": [],
   "source": [
    "# Realizamos las predicciones para el set de test\n",
    "xgb_pred = reg_xgb.predict(test_selected.values) \n",
    "lgb_pred = reg_lgb.predict(test_selected.values)"
   ]
  },
  {
   "cell_type": "code",
   "execution_count": 55,
   "metadata": {},
   "outputs": [],
   "source": [
    "# Finalmente, armamos el dataframe con las predicciones y lo mandamos al blender:\n",
    "df_test = test_selected.copy()\n",
    "df_test['xgb'] = xgb_pred\n",
    "df_test['lgb'] = lgb_pred"
   ]
  },
  {
   "cell_type": "code",
   "execution_count": 56,
   "metadata": {},
   "outputs": [],
   "source": [
    "df_test = df_test[['xgb', 'lgb']]"
   ]
  },
  {
   "cell_type": "code",
   "execution_count": 58,
   "metadata": {},
   "outputs": [],
   "source": [
    "ids = df_test.index.values\n",
    "X_test = df_test.values\n",
    "test_predict = blender.predict(X_test)\n",
    "f = np.vectorize(math.exp)\n",
    "test_predict = f(test_predict)\n",
    "escribir_respuesta(ids, test_predict)"
   ]
  },
  {
   "cell_type": "code",
   "execution_count": null,
   "metadata": {},
   "outputs": [],
   "source": []
  }
 ],
 "metadata": {
  "kernelspec": {
   "display_name": "Python 3",
   "language": "python",
   "name": "python3"
  },
  "language_info": {
   "codemirror_mode": {
    "name": "ipython",
    "version": 3
   },
   "file_extension": ".py",
   "mimetype": "text/x-python",
   "name": "python",
   "nbconvert_exporter": "python",
   "pygments_lexer": "ipython3",
   "version": "3.6.8"
  }
 },
 "nbformat": 4,
 "nbformat_minor": 4
}
