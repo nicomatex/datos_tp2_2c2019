{
 "cells": [
  {
   "cell_type": "markdown",
   "metadata": {},
   "source": [
    "# TP2 - Organización de Datos\n",
    "#### Notebook principal"
   ]
  },
  {
   "cell_type": "markdown",
   "metadata": {},
   "source": [
    "<hr>\n",
    "\n",
    "### Notebooks utilizados:\n",
    "\n",
    "- ***pre_processing:*** notebook para el manejo inicial de los dataframes.\n",
    "- ***feature_generation:*** primer etapa del pipeline. En este notebook se generarán nuevos features para luego, realizar un proceso de selección de los mejores features para cada modelo.\n",
    "- ***feature_selection*** segunda etapa, donde se buscara encontrar los features con mayor importancia, es decir aquellos que aporten mayor informacion.\n",
    "- ***parameter_tuning:*** tercer etapa, notebook donde se tunean los parámetros para cada modelo.\n",
    "- ***predict:*** finalmente, una vez obtenidos los mejores parametros y features para cada modelo, este notebook se encargará de generar el csv con las predicciones finales para el modelo que se le indique.\n",
    "\n",
    "<hr>\n"
   ]
  },
  {
   "cell_type": "code",
   "execution_count": 1,
   "metadata": {},
   "outputs": [],
   "source": [
    "import pandas as pd\n",
    "import numpy as np\n",
    "\n",
    "from sklearn.model_selection import train_test_split\n",
    "from sklearn.metrics import mean_absolute_error\n",
    "\n",
    "seed = 7"
   ]
  },
  {
   "cell_type": "code",
   "execution_count": 2,
   "metadata": {},
   "outputs": [
    {
     "name": "stdout",
     "output_type": "stream",
     "text": [
      "Importing Jupyter notebook from pre_processing.ipynb\n",
      "Importing Jupyter notebook from feature_generation.ipynb\n",
      "Importing Jupyter notebook from feature_selection.ipynb\n",
      "Importing Jupyter notebook from parameter_tuning.ipynb\n",
      "Importing Jupyter notebook from predict.ipynb\n"
     ]
    }
   ],
   "source": [
    "import nbimporter\n",
    "\n",
    "from pre_processing import load_featured_datasets\n",
    "import feature_generation\n",
    "import feature_selection\n",
    "import parameter_tuning\n",
    "import predict"
   ]
  },
  {
   "cell_type": "code",
   "execution_count": 3,
   "metadata": {},
   "outputs": [],
   "source": [
    "def escribir_respuesta(ids,predicciones):\n",
    "    with open(\"respuesta.csv\",'w') as archivo:\n",
    "        archivo.write(\"id,target\\n\")\n",
    "        for i in range(len(ids)):\n",
    "            linea = f\"{int(ids[i])},{predicciones[i]}\"\n",
    "            archivo.write(f\"{linea}\\n\")"
   ]
  },
  {
   "cell_type": "markdown",
   "metadata": {},
   "source": [
    "<hr>\n",
    "\n",
    "# Resultados obtenidos"
   ]
  },
  {
   "cell_type": "markdown",
   "metadata": {},
   "source": [
    "# area de testing:"
   ]
  },
  {
   "cell_type": "code",
   "execution_count": 5,
   "metadata": {},
   "outputs": [],
   "source": [
    "train,test = load_datasets()"
   ]
  },
  {
   "cell_type": "code",
   "execution_count": 11,
   "metadata": {
    "scrolled": true
   },
   "outputs": [
    {
     "data": {
      "text/plain": [
       "count                  240000\n",
       "unique                   1830\n",
       "top       2016-12-03 00:00:00\n",
       "freq                     1416\n",
       "first     2012-01-01 00:00:00\n",
       "last      2016-12-31 00:00:00\n",
       "Name: fecha, dtype: object"
      ]
     },
     "execution_count": 11,
     "metadata": {},
     "output_type": "execute_result"
    }
   ],
   "source": [
    "train.fecha.describe()"
   ]
  },
  {
   "cell_type": "code",
   "execution_count": 55,
   "metadata": {},
   "outputs": [],
   "source": [
    "usd = pd.read_csv('data/usd_mxn_diario.csv')"
   ]
  },
  {
   "cell_type": "code",
   "execution_count": 57,
   "metadata": {},
   "outputs": [],
   "source": [
    "def aniomes(x):\n",
    "    #meses = {'Ene':'01', 'Feb':'02', 'Mar':'03', 'Abr':'04', 'May':'05', 'Jun':'06', 'Jul':'07', 'Ago':'08',\n",
    "             #'Sep':'09', 'Oct':'10', 'Nov':'11', 'Dic':'12'}\n",
    "    #mes,anio = x.split()\n",
    "    \n",
    "    mes = x[3:5]\n",
    "    anio = x[6:]\n",
    "    \n",
    "    return anio+mes\n",
    "    "
   ]
  },
  {
   "cell_type": "code",
   "execution_count": 58,
   "metadata": {},
   "outputs": [],
   "source": [
    "def numeric(x):\n",
    "    entero, fraccion = x.split(',')\n",
    "    return int(entero) + int(fraccion)/10000"
   ]
  },
  {
   "cell_type": "code",
   "execution_count": 59,
   "metadata": {},
   "outputs": [],
   "source": [
    "usd['aniomes'] = usd['Fecha'].map(aniomes)"
   ]
  },
  {
   "cell_type": "code",
   "execution_count": 60,
   "metadata": {},
   "outputs": [
    {
     "data": {
      "text/plain": [
       "Index(['Fecha', 'Último', 'Apertura', 'Máximo', 'Mínimo', '% var.', 'aniomes'], dtype='object')"
      ]
     },
     "execution_count": 60,
     "metadata": {},
     "output_type": "execute_result"
    }
   ],
   "source": [
    "usd.columns"
   ]
  },
  {
   "cell_type": "code",
   "execution_count": 61,
   "metadata": {},
   "outputs": [],
   "source": [
    "valores = ['Último', 'Apertura', 'Máximo', 'Mínimo']\n",
    "for valor in valores:\n",
    "    usd[valor] = usd[valor].map(numeric)"
   ]
  },
  {
   "cell_type": "code",
   "execution_count": 62,
   "metadata": {
    "scrolled": true
   },
   "outputs": [],
   "source": [
    "usd['daily_mean'] = usd.apply(lambda x: (x['Último'] + x['Apertura'])/2, axis=1)"
   ]
  },
  {
   "cell_type": "code",
   "execution_count": 64,
   "metadata": {},
   "outputs": [],
   "source": [
    "usd = usd[['aniomes', 'daily_mean']]"
   ]
  },
  {
   "cell_type": "code",
   "execution_count": 65,
   "metadata": {},
   "outputs": [
    {
     "data": {
      "text/html": [
       "<div>\n",
       "<style scoped>\n",
       "    .dataframe tbody tr th:only-of-type {\n",
       "        vertical-align: middle;\n",
       "    }\n",
       "\n",
       "    .dataframe tbody tr th {\n",
       "        vertical-align: top;\n",
       "    }\n",
       "\n",
       "    .dataframe thead th {\n",
       "        text-align: right;\n",
       "    }\n",
       "</style>\n",
       "<table border=\"1\" class=\"dataframe\">\n",
       "  <thead>\n",
       "    <tr style=\"text-align: right;\">\n",
       "      <th></th>\n",
       "      <th>aniomes</th>\n",
       "      <th>daily_mean</th>\n",
       "    </tr>\n",
       "  </thead>\n",
       "  <tbody>\n",
       "    <tr>\n",
       "      <td>0</td>\n",
       "      <td>201612</td>\n",
       "      <td>20.73335</td>\n",
       "    </tr>\n",
       "    <tr>\n",
       "      <td>1</td>\n",
       "      <td>201612</td>\n",
       "      <td>20.74710</td>\n",
       "    </tr>\n",
       "    <tr>\n",
       "      <td>2</td>\n",
       "      <td>201612</td>\n",
       "      <td>20.75710</td>\n",
       "    </tr>\n",
       "  </tbody>\n",
       "</table>\n",
       "</div>"
      ],
      "text/plain": [
       "  aniomes  daily_mean\n",
       "0  201612    20.73335\n",
       "1  201612    20.74710\n",
       "2  201612    20.75710"
      ]
     },
     "execution_count": 65,
     "metadata": {},
     "output_type": "execute_result"
    }
   ],
   "source": [
    "usd.head(3)"
   ]
  },
  {
   "cell_type": "code",
   "execution_count": 68,
   "metadata": {},
   "outputs": [],
   "source": [
    "usd = usd.groupby('aniomes')['daily_mean'].agg(['mean'])"
   ]
  },
  {
   "cell_type": "code",
   "execution_count": 71,
   "metadata": {},
   "outputs": [
    {
     "data": {
      "text/html": [
       "<div>\n",
       "<style scoped>\n",
       "    .dataframe tbody tr th:only-of-type {\n",
       "        vertical-align: middle;\n",
       "    }\n",
       "\n",
       "    .dataframe tbody tr th {\n",
       "        vertical-align: top;\n",
       "    }\n",
       "\n",
       "    .dataframe thead th {\n",
       "        text-align: right;\n",
       "    }\n",
       "</style>\n",
       "<table border=\"1\" class=\"dataframe\">\n",
       "  <thead>\n",
       "    <tr style=\"text-align: right;\">\n",
       "      <th></th>\n",
       "      <th>mean</th>\n",
       "    </tr>\n",
       "    <tr>\n",
       "      <th>aniomes</th>\n",
       "      <th></th>\n",
       "    </tr>\n",
       "  </thead>\n",
       "  <tbody>\n",
       "    <tr>\n",
       "      <td>201201</td>\n",
       "      <td>13.419316</td>\n",
       "    </tr>\n",
       "    <tr>\n",
       "      <td>201202</td>\n",
       "      <td>12.789329</td>\n",
       "    </tr>\n",
       "    <tr>\n",
       "      <td>201203</td>\n",
       "      <td>12.734559</td>\n",
       "    </tr>\n",
       "    <tr>\n",
       "      <td>201204</td>\n",
       "      <td>13.047955</td>\n",
       "    </tr>\n",
       "    <tr>\n",
       "      <td>201205</td>\n",
       "      <td>13.630126</td>\n",
       "    </tr>\n",
       "  </tbody>\n",
       "</table>\n",
       "</div>"
      ],
      "text/plain": [
       "              mean\n",
       "aniomes           \n",
       "201201   13.419316\n",
       "201202   12.789329\n",
       "201203   12.734559\n",
       "201204   13.047955\n",
       "201205   13.630126"
      ]
     },
     "execution_count": 71,
     "metadata": {},
     "output_type": "execute_result"
    }
   ],
   "source": [
    "usd.head(5)"
   ]
  },
  {
   "cell_type": "code",
   "execution_count": 73,
   "metadata": {},
   "outputs": [],
   "source": [
    "usd.columns = ['usd_mxn']"
   ]
  },
  {
   "cell_type": "code",
   "execution_count": 74,
   "metadata": {},
   "outputs": [],
   "source": [
    "usd['mxn_usd'] = usd['usd_mxn'].map(lambda x: 1/x)"
   ]
  },
  {
   "cell_type": "code",
   "execution_count": 79,
   "metadata": {},
   "outputs": [],
   "source": [
    "usd.reset_index(inplace=True)"
   ]
  },
  {
   "cell_type": "code",
   "execution_count": 81,
   "metadata": {},
   "outputs": [],
   "source": [
    "usd.to_csv('data/usd_mxn_featured.csv')"
   ]
  },
  {
   "cell_type": "markdown",
   "metadata": {},
   "source": [
    "### Modelo: Regresion lineal"
   ]
  },
  {
   "cell_type": "code",
   "execution_count": 4,
   "metadata": {},
   "outputs": [],
   "source": [
    "# ..."
   ]
  },
  {
   "cell_type": "markdown",
   "metadata": {},
   "source": [
    "### Modelo: Regresion logistica"
   ]
  },
  {
   "cell_type": "code",
   "execution_count": 5,
   "metadata": {},
   "outputs": [],
   "source": [
    "# ..."
   ]
  },
  {
   "cell_type": "markdown",
   "metadata": {},
   "source": [
    "### Modelo: SVM"
   ]
  },
  {
   "cell_type": "code",
   "execution_count": 6,
   "metadata": {},
   "outputs": [],
   "source": [
    "# ..."
   ]
  },
  {
   "cell_type": "markdown",
   "metadata": {},
   "source": [
    "### Modelo: Decision Tree"
   ]
  },
  {
   "cell_type": "code",
   "execution_count": 7,
   "metadata": {},
   "outputs": [],
   "source": [
    "# ..."
   ]
  },
  {
   "cell_type": "markdown",
   "metadata": {},
   "source": [
    "### Modelo: RandomForest"
   ]
  },
  {
   "cell_type": "code",
   "execution_count": 4,
   "metadata": {},
   "outputs": [],
   "source": [
    "from sklearn.ensemble import RandomForestRegressor"
   ]
  },
  {
   "cell_type": "code",
   "execution_count": 5,
   "metadata": {},
   "outputs": [],
   "source": [
    "train,test = load_featured_datasets()"
   ]
  },
  {
   "cell_type": "code",
   "execution_count": 6,
   "metadata": {},
   "outputs": [
    {
     "data": {
      "text/plain": [
       "(240000, 137)"
      ]
     },
     "execution_count": 6,
     "metadata": {},
     "output_type": "execute_result"
    }
   ],
   "source": [
    "train.shape"
   ]
  },
  {
   "cell_type": "code",
   "execution_count": 7,
   "metadata": {},
   "outputs": [],
   "source": [
    "train.fillna(train.mean(), inplace = True)"
   ]
  },
  {
   "cell_type": "code",
   "execution_count": 8,
   "metadata": {},
   "outputs": [
    {
     "data": {
      "text/plain": [
       "(240000, 137)"
      ]
     },
     "execution_count": 8,
     "metadata": {},
     "output_type": "execute_result"
    }
   ],
   "source": [
    "train.shape"
   ]
  },
  {
   "cell_type": "code",
   "execution_count": 10,
   "metadata": {},
   "outputs": [],
   "source": [
    "X = train.drop('precio', axis=1).values\n",
    "Y = train['precio'].values\n",
    "X_train, X_val, Y_train, Y_val = train_test_split(X, Y, test_size=0.2)"
   ]
  },
  {
   "cell_type": "code",
   "execution_count": 11,
   "metadata": {},
   "outputs": [
    {
     "name": "stderr",
     "output_type": "stream",
     "text": [
      "[Parallel(n_jobs=1)]: Using backend SequentialBackend with 1 concurrent workers.\n"
     ]
    },
    {
     "name": "stdout",
     "output_type": "stream",
     "text": [
      "building tree 1 of 100\n"
     ]
    },
    {
     "name": "stderr",
     "output_type": "stream",
     "text": [
      "[Parallel(n_jobs=1)]: Done   1 out of   1 | elapsed:    2.7s remaining:    0.0s\n"
     ]
    },
    {
     "name": "stdout",
     "output_type": "stream",
     "text": [
      "building tree 2 of 100\n",
      "building tree 3 of 100\n",
      "building tree 4 of 100\n",
      "building tree 5 of 100\n",
      "building tree 6 of 100\n",
      "building tree 7 of 100\n",
      "building tree 8 of 100\n",
      "building tree 9 of 100\n",
      "building tree 10 of 100\n",
      "building tree 11 of 100\n",
      "building tree 12 of 100\n",
      "building tree 13 of 100\n",
      "building tree 14 of 100\n",
      "building tree 15 of 100\n",
      "building tree 16 of 100\n",
      "building tree 17 of 100\n",
      "building tree 18 of 100\n",
      "building tree 19 of 100\n",
      "building tree 20 of 100\n",
      "building tree 21 of 100\n",
      "building tree 22 of 100\n",
      "building tree 23 of 100\n",
      "building tree 24 of 100\n",
      "building tree 25 of 100\n",
      "building tree 26 of 100\n",
      "building tree 27 of 100\n",
      "building tree 28 of 100\n",
      "building tree 29 of 100\n",
      "building tree 30 of 100\n",
      "building tree 31 of 100\n",
      "building tree 32 of 100\n",
      "building tree 33 of 100\n",
      "building tree 34 of 100\n",
      "building tree 35 of 100\n",
      "building tree 36 of 100\n",
      "building tree 37 of 100\n",
      "building tree 38 of 100\n",
      "building tree 39 of 100\n",
      "building tree 40 of 100\n",
      "building tree 41 of 100\n",
      "building tree 42 of 100\n",
      "building tree 43 of 100\n",
      "building tree 44 of 100\n",
      "building tree 45 of 100\n",
      "building tree 46 of 100\n",
      "building tree 47 of 100\n",
      "building tree 48 of 100\n",
      "building tree 49 of 100\n",
      "building tree 50 of 100\n",
      "building tree 51 of 100\n",
      "building tree 52 of 100\n",
      "building tree 53 of 100\n",
      "building tree 54 of 100\n",
      "building tree 55 of 100\n",
      "building tree 56 of 100\n",
      "building tree 57 of 100\n",
      "building tree 58 of 100\n",
      "building tree 59 of 100\n",
      "building tree 60 of 100\n",
      "building tree 61 of 100\n",
      "building tree 62 of 100\n",
      "building tree 63 of 100\n",
      "building tree 64 of 100\n",
      "building tree 65 of 100\n",
      "building tree 66 of 100\n",
      "building tree 67 of 100\n",
      "building tree 68 of 100\n",
      "building tree 69 of 100\n",
      "building tree 70 of 100\n",
      "building tree 71 of 100\n",
      "building tree 72 of 100\n",
      "building tree 73 of 100\n",
      "building tree 74 of 100\n",
      "building tree 75 of 100\n",
      "building tree 76 of 100\n",
      "building tree 77 of 100\n",
      "building tree 78 of 100\n",
      "building tree 79 of 100\n",
      "building tree 80 of 100\n",
      "building tree 81 of 100\n",
      "building tree 82 of 100\n",
      "building tree 83 of 100\n",
      "building tree 84 of 100\n",
      "building tree 85 of 100\n",
      "building tree 86 of 100\n",
      "building tree 87 of 100\n",
      "building tree 88 of 100\n",
      "building tree 89 of 100\n",
      "building tree 90 of 100\n",
      "building tree 91 of 100\n",
      "building tree 92 of 100\n",
      "building tree 93 of 100\n",
      "building tree 94 of 100\n",
      "building tree 95 of 100\n",
      "building tree 96 of 100\n",
      "building tree 97 of 100\n",
      "building tree 98 of 100\n",
      "building tree 99 of 100\n",
      "building tree 100 of 100\n"
     ]
    },
    {
     "name": "stderr",
     "output_type": "stream",
     "text": [
      "[Parallel(n_jobs=1)]: Done 100 out of 100 | elapsed:  5.1min finished\n"
     ]
    },
    {
     "data": {
      "text/plain": [
       "RandomForestRegressor(bootstrap=True, criterion='mse', max_depth=10,\n",
       "                      max_features='auto', max_leaf_nodes=None,\n",
       "                      min_impurity_decrease=0.0, min_impurity_split=None,\n",
       "                      min_samples_leaf=1, min_samples_split=2,\n",
       "                      min_weight_fraction_leaf=0.0, n_estimators=100,\n",
       "                      n_jobs=None, oob_score=False, random_state=7, verbose=2,\n",
       "                      warm_start=False)"
      ]
     },
     "execution_count": 11,
     "metadata": {},
     "output_type": "execute_result"
    }
   ],
   "source": [
    "regressor = RandomForestRegressor(n_estimators = 100, random_state = seed, verbose=2, max_depth=10) \n",
    "regressor.fit(X_train, Y_train)"
   ]
  },
  {
   "cell_type": "code",
   "execution_count": 12,
   "metadata": {},
   "outputs": [],
   "source": [
    "from sklearn import metrics"
   ]
  },
  {
   "cell_type": "code",
   "execution_count": 15,
   "metadata": {},
   "outputs": [
    {
     "name": "stderr",
     "output_type": "stream",
     "text": [
      "[Parallel(n_jobs=1)]: Using backend SequentialBackend with 1 concurrent workers.\n",
      "[Parallel(n_jobs=1)]: Done   1 out of   1 | elapsed:    0.0s remaining:    0.0s\n"
     ]
    },
    {
     "name": "stdout",
     "output_type": "stream",
     "text": [
      "MAE:  688548\n"
     ]
    },
    {
     "name": "stderr",
     "output_type": "stream",
     "text": [
      "[Parallel(n_jobs=1)]: Done 100 out of 100 | elapsed:    0.6s finished\n"
     ]
    }
   ],
   "source": [
    "y_pred = regressor.predict(X_val)\n",
    "print('MAE: ', int(metrics.mean_absolute_error(Y_val, y_pred)))"
   ]
  },
  {
   "cell_type": "code",
   "execution_count": 16,
   "metadata": {},
   "outputs": [
    {
     "name": "stderr",
     "output_type": "stream",
     "text": [
      "[Parallel(n_jobs=1)]: Using backend SequentialBackend with 1 concurrent workers.\n",
      "[Parallel(n_jobs=1)]: Done   1 out of   1 | elapsed:    0.0s remaining:    0.0s\n"
     ]
    },
    {
     "name": "stdout",
     "output_type": "stream",
     "text": [
      "MAE:  663067\n"
     ]
    },
    {
     "name": "stderr",
     "output_type": "stream",
     "text": [
      "[Parallel(n_jobs=1)]: Done 100 out of 100 | elapsed:    2.2s finished\n"
     ]
    }
   ],
   "source": [
    "y_pred2 = regressor.predict(X_train)\n",
    "print('MAE: ', int(metrics.mean_absolute_error(Y_train, y_pred2)))"
   ]
  },
  {
   "cell_type": "code",
   "execution_count": 20,
   "metadata": {},
   "outputs": [
    {
     "name": "stdout",
     "output_type": "stream",
     "text": [
      "[(0.4881, 'metroscubiertos'), (0.2571, 'ciudad_le'), (0.0352, 'ciudad_muycara'), (0.0317, 'banos'), (0.0158, 'tipodepropiedad_1_pol'), (0.0141, 'dia'), (0.0129, 'precio_promedio_metrocubierto_mes'), (0.0125, 'antiguedad'), (0.0113, 'garages'), (0.0105, 'servicio'), (0.0096, 'es_Veracruz'), (0.0093, 'metroscubiertos_mean'), (0.009, 'precio'), (0.0085, 'intercept_pol'), (0.0069, 'tipodepropiedad_2_pol'), (0.0065, 'tipodepropiedad_0_pol'), (0.005, 'habitaciones'), (0.0042, 'aniomes'), (0.0033, 'tipodepropiedad_3_pol'), (0.0031, 'ciudad_barata'), (0.0025, 'es_apart'), (0.0024, 'tipodepropiedad_4_pol'), (0.002, 'tipodepropiedad_le'), (0.002, 'ciudad_cara'), (0.0019, 'tipodepropiedad_8_ohe'), (0.0017, 'lujo'), (0.0017, 'aniomes_scaled'), (0.0015, 'mes'), (0.0015, 'es_casa'), (0.0014, 'tipodepropiedad_7_pol'), (0.0014, 'hab_binning_1_ohe'), (0.0013, 'provincia_10_ohe'), (0.0013, 'gimnasio'), (0.0012, 'parrilla'), (0.0011, 'piscina'), (0.0011, 'es_Distrito Federal'), (0.001, 'hab_binning_7_ohe'), (0.0009, 'usd_mxn'), (0.0007, 'tipodepropiedad_5_pol'), (0.0007, 'precio_promedio_metrocubierto_aniomes'), (0.0007, 'jardin'), (0.0006, 'tipodepropiedad_4_ohe'), (0.0006, 'anio'), (0.0005, 'tipodepropiedad_6_pol'), (0.0005, 'timestamp_scaled'), (0.0005, 'timestamp'), (0.0005, 'provincia_2_binary'), (0.0005, 'provincia_1_binary'), (0.0005, 'hab_binning_5_ohe'), (0.0005, 'hab_binning_3_ohe'), (0.0005, 'es_Querétaro'), (0.0005, 'antiguedad_binning_2_1_ohe2'), (0.0004, 'provincia_8_ohe'), (0.0004, 'provincia_6_binary'), (0.0004, 'provincia_3_binary'), (0.0004, 'provincia_18_ohe'), (0.0004, 'antiguedad_binning_2_4_ohe2'), (0.0003, 'provincia_5_binary'), (0.0003, 'provincia_20_ohe'), (0.0003, 'hab_binning_4_ohe'), (0.0003, 'hab_binning_2_ohe'), (0.0003, 'es_Nuevo León'), (0.0003, 'centroscomercialescercanos'), (0.0002, 'vigilancia'), (0.0002, 'ventilador'), (0.0002, 'tipodepropiedad_9_ohe'), (0.0002, 'tipodepropiedad_1_binary'), (0.0002, 'tipodepropiedad_0_binary'), (0.0002, 'terraza'), (0.0002, 'provincia_14_ohe'), (0.0002, 'metroscubiertos_std'), (0.0002, 'escuelascercanas'), (0.0002, 'es_Edo. de México'), (0.0002, 'ciudad_muybarata'), (0.0002, 'calefaccion'), (0.0002, 'antiguedad_binning_9_ohe1'), (0.0002, 'antiguedad_binning_2_ohe1'), (0.0002, 'antiguedad_binning_1_ohe1'), (0.0001, 'usosmultiples'), (0.0001, 'tipodepropiedad_6_ohe'), (0.0001, 'tipodepropiedad_3_ohe'), (0.0001, 'tipodepropiedad_3_binary'), (0.0001, 'tipodepropiedad_2_binary'), (0.0001, 'tipodepropiedad_1_ohe'), (0.0001, 'provincia_9_ohe'), (0.0001, 'provincia_5_ohe'), (0.0001, 'provincia_4_ohe'), (0.0001, 'provincia_4_binary'), (0.0001, 'provincia_22_ohe'), (0.0001, 'provincia_21_ohe'), (0.0001, 'provincia_11_ohe'), (0.0001, 'hab_binning_6_ohe'), (0.0001, 'es_Jalisco'), (0.0001, 'antiguedad_binning_6_ohe1'), (0.0001, 'antiguedad_binning_5_ohe1'), (0.0001, 'antiguedad_binning_4_ohe1'), (0.0001, 'antiguedad_binning_3_ohe1'), (0.0001, 'antiguedad_binning_2_3_ohe2'), (0.0001, 'antiguedad_binning_2_2_ohe2'), (0.0, 'tipodepropiedad_8_pol'), (0.0, 'tipodepropiedad_7_ohe'), (0.0, 'tipodepropiedad_5_ohe'), (0.0, 'tipodepropiedad_4_binary'), (0.0, 'tipodepropiedad_2_ohe'), (0.0, 'tipodepropiedad_10_ohe'), (0.0, 'provincia_le'), (0.0, 'provincia_7_ohe'), (0.0, 'provincia_6_ohe'), (0.0, 'provincia_3_ohe'), (0.0, 'provincia_33_ohe'), (0.0, 'provincia_32_ohe'), (0.0, 'provincia_31_ohe'), (0.0, 'provincia_30_ohe'), (0.0, 'provincia_2_ohe'), (0.0, 'provincia_29_ohe'), (0.0, 'provincia_28_ohe'), (0.0, 'provincia_27_ohe'), (0.0, 'provincia_26_ohe'), (0.0, 'provincia_25_ohe'), (0.0, 'provincia_24_ohe'), (0.0, 'provincia_23_ohe'), (0.0, 'provincia_1_ohe'), (0.0, 'provincia_19_ohe'), (0.0, 'provincia_17_ohe'), (0.0, 'provincia_16_ohe'), (0.0, 'provincia_15_ohe'), (0.0, 'provincia_13_ohe'), (0.0, 'provincia_12_ohe'), (0.0, 'provincia_0_binary'), (0.0, 'es_Yucatán'), (0.0, 'es_San luis Potosí'), (0.0, 'es_Puebla'), (0.0, 'es_Morelos'), (0.0, 'antiguedad_binning_8_ohe1'), (0.0, 'antiguedad_binning_7_ohe1'), (0.0, 'aire_acondicionado')]\n"
     ]
    }
   ],
   "source": [
    "names = train.columns.to_list()\n",
    "print(sorted(zip(map(lambda x: round(x, 4), regressor.feature_importances_), names), reverse=True))"
   ]
  },
  {
   "cell_type": "markdown",
   "metadata": {},
   "source": [
    "### Modelo: XGBoost"
   ]
  },
  {
   "cell_type": "markdown",
   "metadata": {},
   "source": [
    "_Generacion del dataset de train con sus features_"
   ]
  },
  {
   "cell_type": "code",
   "execution_count": 4,
   "metadata": {},
   "outputs": [],
   "source": [
    "import xgboost"
   ]
  },
  {
   "cell_type": "code",
   "execution_count": 5,
   "metadata": {},
   "outputs": [],
   "source": [
    "train,test = load_featured_datasets()"
   ]
  },
  {
   "cell_type": "code",
   "execution_count": 8,
   "metadata": {},
   "outputs": [],
   "source": [
    "X = train.drop('precio', axis=1).values\n",
    "Y = train['precio'].values"
   ]
  },
  {
   "cell_type": "code",
   "execution_count": 8,
   "metadata": {},
   "outputs": [],
   "source": [
    "#feature_selector = feature_selection.k_features_selector(150,train)\n",
    "#feature_indices = feature_selector.get_support(indices=True)"
   ]
  },
  {
   "cell_type": "code",
   "execution_count": 9,
   "metadata": {
    "scrolled": false
   },
   "outputs": [],
   "source": [
    "#X_purged = X[:,feature_indices]"
   ]
  },
  {
   "cell_type": "code",
   "execution_count": 10,
   "metadata": {},
   "outputs": [
    {
     "data": {
      "text/plain": [
       "(240000, 150)"
      ]
     },
     "execution_count": 10,
     "metadata": {},
     "output_type": "execute_result"
    }
   ],
   "source": [
    "X_purged.shape"
   ]
  },
  {
   "cell_type": "code",
   "execution_count": 10,
   "metadata": {},
   "outputs": [],
   "source": [
    "#X_train, X_val, Y_train, Y_val = train_test_split(X_purged, Y, test_size=0.2)\n",
    "X_train, X_val, Y_train, Y_val = train_test_split(X, Y, test_size=0.2)"
   ]
  },
  {
   "cell_type": "code",
   "execution_count": 11,
   "metadata": {},
   "outputs": [
    {
     "name": "stdout",
     "output_type": "stream",
     "text": [
      "[04:13:26] WARNING: /workspace/src/objective/regression_obj.cu:152: reg:linear is now deprecated in favor of reg:squarederror.\n",
      "[04:13:30] INFO: /workspace/src/tree/updater_prune.cc:74: tree pruning end, 1 roots, 1602 extra nodes, 0 pruned nodes, max_depth=10\n",
      "[04:13:32] INFO: /workspace/src/tree/updater_prune.cc:74: tree pruning end, 1 roots, 1618 extra nodes, 0 pruned nodes, max_depth=10\n",
      "[04:13:34] INFO: /workspace/src/tree/updater_prune.cc:74: tree pruning end, 1 roots, 1652 extra nodes, 0 pruned nodes, max_depth=10\n",
      "[04:13:36] INFO: /workspace/src/tree/updater_prune.cc:74: tree pruning end, 1 roots, 1656 extra nodes, 0 pruned nodes, max_depth=10\n",
      "[04:13:39] INFO: /workspace/src/tree/updater_prune.cc:74: tree pruning end, 1 roots, 1654 extra nodes, 0 pruned nodes, max_depth=10\n",
      "[04:13:41] INFO: /workspace/src/tree/updater_prune.cc:74: tree pruning end, 1 roots, 1680 extra nodes, 0 pruned nodes, max_depth=10\n",
      "[04:13:44] INFO: /workspace/src/tree/updater_prune.cc:74: tree pruning end, 1 roots, 1678 extra nodes, 0 pruned nodes, max_depth=10\n",
      "[04:13:46] INFO: /workspace/src/tree/updater_prune.cc:74: tree pruning end, 1 roots, 1646 extra nodes, 0 pruned nodes, max_depth=10\n",
      "[04:13:48] INFO: /workspace/src/tree/updater_prune.cc:74: tree pruning end, 1 roots, 1614 extra nodes, 0 pruned nodes, max_depth=10\n",
      "[04:13:50] INFO: /workspace/src/tree/updater_prune.cc:74: tree pruning end, 1 roots, 1600 extra nodes, 0 pruned nodes, max_depth=10\n",
      "[04:13:53] INFO: /workspace/src/tree/updater_prune.cc:74: tree pruning end, 1 roots, 1582 extra nodes, 0 pruned nodes, max_depth=10\n",
      "[04:13:55] INFO: /workspace/src/tree/updater_prune.cc:74: tree pruning end, 1 roots, 1622 extra nodes, 0 pruned nodes, max_depth=10\n",
      "[04:13:58] INFO: /workspace/src/tree/updater_prune.cc:74: tree pruning end, 1 roots, 1600 extra nodes, 0 pruned nodes, max_depth=10\n",
      "[04:14:01] INFO: /workspace/src/tree/updater_prune.cc:74: tree pruning end, 1 roots, 1426 extra nodes, 0 pruned nodes, max_depth=10\n",
      "[04:14:04] INFO: /workspace/src/tree/updater_prune.cc:74: tree pruning end, 1 roots, 1604 extra nodes, 0 pruned nodes, max_depth=10\n",
      "[04:14:07] INFO: /workspace/src/tree/updater_prune.cc:74: tree pruning end, 1 roots, 1566 extra nodes, 0 pruned nodes, max_depth=10\n",
      "[04:14:09] INFO: /workspace/src/tree/updater_prune.cc:74: tree pruning end, 1 roots, 1406 extra nodes, 0 pruned nodes, max_depth=10\n",
      "[04:14:11] INFO: /workspace/src/tree/updater_prune.cc:74: tree pruning end, 1 roots, 1508 extra nodes, 0 pruned nodes, max_depth=10\n",
      "[04:14:14] INFO: /workspace/src/tree/updater_prune.cc:74: tree pruning end, 1 roots, 1528 extra nodes, 0 pruned nodes, max_depth=10\n",
      "[04:14:16] INFO: /workspace/src/tree/updater_prune.cc:74: tree pruning end, 1 roots, 1430 extra nodes, 0 pruned nodes, max_depth=10\n",
      "[04:14:19] INFO: /workspace/src/tree/updater_prune.cc:74: tree pruning end, 1 roots, 1352 extra nodes, 0 pruned nodes, max_depth=10\n",
      "[04:14:23] INFO: /workspace/src/tree/updater_prune.cc:74: tree pruning end, 1 roots, 1376 extra nodes, 0 pruned nodes, max_depth=10\n",
      "[04:14:26] INFO: /workspace/src/tree/updater_prune.cc:74: tree pruning end, 1 roots, 1300 extra nodes, 0 pruned nodes, max_depth=10\n",
      "[04:14:28] INFO: /workspace/src/tree/updater_prune.cc:74: tree pruning end, 1 roots, 1352 extra nodes, 0 pruned nodes, max_depth=10\n",
      "[04:14:30] INFO: /workspace/src/tree/updater_prune.cc:74: tree pruning end, 1 roots, 1298 extra nodes, 0 pruned nodes, max_depth=10\n",
      "[04:14:33] INFO: /workspace/src/tree/updater_prune.cc:74: tree pruning end, 1 roots, 1266 extra nodes, 0 pruned nodes, max_depth=10\n",
      "[04:14:35] INFO: /workspace/src/tree/updater_prune.cc:74: tree pruning end, 1 roots, 1214 extra nodes, 0 pruned nodes, max_depth=10\n",
      "[04:14:38] INFO: /workspace/src/tree/updater_prune.cc:74: tree pruning end, 1 roots, 1182 extra nodes, 0 pruned nodes, max_depth=10\n",
      "[04:14:40] INFO: /workspace/src/tree/updater_prune.cc:74: tree pruning end, 1 roots, 1192 extra nodes, 0 pruned nodes, max_depth=10\n",
      "[04:14:42] INFO: /workspace/src/tree/updater_prune.cc:74: tree pruning end, 1 roots, 1134 extra nodes, 0 pruned nodes, max_depth=10\n",
      "[04:14:44] INFO: /workspace/src/tree/updater_prune.cc:74: tree pruning end, 1 roots, 1142 extra nodes, 0 pruned nodes, max_depth=10\n",
      "[04:14:46] INFO: /workspace/src/tree/updater_prune.cc:74: tree pruning end, 1 roots, 1208 extra nodes, 0 pruned nodes, max_depth=10\n",
      "[04:14:49] INFO: /workspace/src/tree/updater_prune.cc:74: tree pruning end, 1 roots, 1028 extra nodes, 0 pruned nodes, max_depth=10\n",
      "[04:14:51] INFO: /workspace/src/tree/updater_prune.cc:74: tree pruning end, 1 roots, 1152 extra nodes, 0 pruned nodes, max_depth=10\n",
      "[04:14:53] INFO: /workspace/src/tree/updater_prune.cc:74: tree pruning end, 1 roots, 1208 extra nodes, 0 pruned nodes, max_depth=10\n",
      "[04:14:55] INFO: /workspace/src/tree/updater_prune.cc:74: tree pruning end, 1 roots, 956 extra nodes, 0 pruned nodes, max_depth=10\n",
      "[04:14:57] INFO: /workspace/src/tree/updater_prune.cc:74: tree pruning end, 1 roots, 852 extra nodes, 0 pruned nodes, max_depth=10\n",
      "[04:15:00] INFO: /workspace/src/tree/updater_prune.cc:74: tree pruning end, 1 roots, 768 extra nodes, 0 pruned nodes, max_depth=10\n",
      "[04:15:02] INFO: /workspace/src/tree/updater_prune.cc:74: tree pruning end, 1 roots, 932 extra nodes, 0 pruned nodes, max_depth=10\n",
      "[04:15:05] INFO: /workspace/src/tree/updater_prune.cc:74: tree pruning end, 1 roots, 934 extra nodes, 0 pruned nodes, max_depth=10\n",
      "[04:15:08] INFO: /workspace/src/tree/updater_prune.cc:74: tree pruning end, 1 roots, 852 extra nodes, 0 pruned nodes, max_depth=10\n",
      "[04:15:11] INFO: /workspace/src/tree/updater_prune.cc:74: tree pruning end, 1 roots, 800 extra nodes, 0 pruned nodes, max_depth=10\n",
      "[04:15:14] INFO: /workspace/src/tree/updater_prune.cc:74: tree pruning end, 1 roots, 784 extra nodes, 0 pruned nodes, max_depth=10\n",
      "[04:15:17] INFO: /workspace/src/tree/updater_prune.cc:74: tree pruning end, 1 roots, 852 extra nodes, 0 pruned nodes, max_depth=10\n",
      "[04:15:19] INFO: /workspace/src/tree/updater_prune.cc:74: tree pruning end, 1 roots, 806 extra nodes, 0 pruned nodes, max_depth=10\n",
      "[04:15:23] INFO: /workspace/src/tree/updater_prune.cc:74: tree pruning end, 1 roots, 878 extra nodes, 0 pruned nodes, max_depth=10\n",
      "[04:15:25] INFO: /workspace/src/tree/updater_prune.cc:74: tree pruning end, 1 roots, 998 extra nodes, 0 pruned nodes, max_depth=10\n",
      "[04:15:27] INFO: /workspace/src/tree/updater_prune.cc:74: tree pruning end, 1 roots, 652 extra nodes, 0 pruned nodes, max_depth=10\n",
      "[04:15:29] INFO: /workspace/src/tree/updater_prune.cc:74: tree pruning end, 1 roots, 652 extra nodes, 0 pruned nodes, max_depth=10\n",
      "[04:15:31] INFO: /workspace/src/tree/updater_prune.cc:74: tree pruning end, 1 roots, 644 extra nodes, 0 pruned nodes, max_depth=10\n",
      "[04:15:33] INFO: /workspace/src/tree/updater_prune.cc:74: tree pruning end, 1 roots, 378 extra nodes, 0 pruned nodes, max_depth=10\n",
      "[04:15:35] INFO: /workspace/src/tree/updater_prune.cc:74: tree pruning end, 1 roots, 618 extra nodes, 0 pruned nodes, max_depth=10\n",
      "[04:15:37] INFO: /workspace/src/tree/updater_prune.cc:74: tree pruning end, 1 roots, 662 extra nodes, 0 pruned nodes, max_depth=10\n",
      "[04:15:39] INFO: /workspace/src/tree/updater_prune.cc:74: tree pruning end, 1 roots, 348 extra nodes, 0 pruned nodes, max_depth=10\n",
      "[04:15:41] INFO: /workspace/src/tree/updater_prune.cc:74: tree pruning end, 1 roots, 564 extra nodes, 0 pruned nodes, max_depth=10\n",
      "[04:15:43] INFO: /workspace/src/tree/updater_prune.cc:74: tree pruning end, 1 roots, 322 extra nodes, 0 pruned nodes, max_depth=10\n",
      "[04:15:46] INFO: /workspace/src/tree/updater_prune.cc:74: tree pruning end, 1 roots, 690 extra nodes, 0 pruned nodes, max_depth=10\n",
      "[04:15:48] INFO: /workspace/src/tree/updater_prune.cc:74: tree pruning end, 1 roots, 622 extra nodes, 0 pruned nodes, max_depth=10\n",
      "[04:15:51] INFO: /workspace/src/tree/updater_prune.cc:74: tree pruning end, 1 roots, 700 extra nodes, 0 pruned nodes, max_depth=10\n",
      "[04:15:53] INFO: /workspace/src/tree/updater_prune.cc:74: tree pruning end, 1 roots, 694 extra nodes, 0 pruned nodes, max_depth=10\n",
      "[04:15:55] INFO: /workspace/src/tree/updater_prune.cc:74: tree pruning end, 1 roots, 308 extra nodes, 0 pruned nodes, max_depth=10\n",
      "[04:15:57] INFO: /workspace/src/tree/updater_prune.cc:74: tree pruning end, 1 roots, 360 extra nodes, 0 pruned nodes, max_depth=10\n"
     ]
    },
    {
     "name": "stdout",
     "output_type": "stream",
     "text": [
      "[04:15:59] INFO: /workspace/src/tree/updater_prune.cc:74: tree pruning end, 1 roots, 442 extra nodes, 0 pruned nodes, max_depth=10\n",
      "[04:16:01] INFO: /workspace/src/tree/updater_prune.cc:74: tree pruning end, 1 roots, 564 extra nodes, 0 pruned nodes, max_depth=10\n",
      "[04:16:03] INFO: /workspace/src/tree/updater_prune.cc:74: tree pruning end, 1 roots, 294 extra nodes, 0 pruned nodes, max_depth=10\n",
      "[04:16:05] INFO: /workspace/src/tree/updater_prune.cc:74: tree pruning end, 1 roots, 426 extra nodes, 0 pruned nodes, max_depth=10\n",
      "[04:16:07] INFO: /workspace/src/tree/updater_prune.cc:74: tree pruning end, 1 roots, 456 extra nodes, 0 pruned nodes, max_depth=10\n",
      "[04:16:10] INFO: /workspace/src/tree/updater_prune.cc:74: tree pruning end, 1 roots, 490 extra nodes, 0 pruned nodes, max_depth=10\n",
      "[04:16:12] INFO: /workspace/src/tree/updater_prune.cc:74: tree pruning end, 1 roots, 466 extra nodes, 0 pruned nodes, max_depth=10\n",
      "[04:16:15] INFO: /workspace/src/tree/updater_prune.cc:74: tree pruning end, 1 roots, 662 extra nodes, 0 pruned nodes, max_depth=10\n",
      "[04:16:17] INFO: /workspace/src/tree/updater_prune.cc:74: tree pruning end, 1 roots, 546 extra nodes, 0 pruned nodes, max_depth=10\n",
      "[04:16:19] INFO: /workspace/src/tree/updater_prune.cc:74: tree pruning end, 1 roots, 464 extra nodes, 0 pruned nodes, max_depth=10\n",
      "[04:16:22] INFO: /workspace/src/tree/updater_prune.cc:74: tree pruning end, 1 roots, 256 extra nodes, 0 pruned nodes, max_depth=10\n",
      "[04:16:25] INFO: /workspace/src/tree/updater_prune.cc:74: tree pruning end, 1 roots, 390 extra nodes, 0 pruned nodes, max_depth=10\n",
      "[04:16:28] INFO: /workspace/src/tree/updater_prune.cc:74: tree pruning end, 1 roots, 412 extra nodes, 0 pruned nodes, max_depth=10\n",
      "[04:16:31] INFO: /workspace/src/tree/updater_prune.cc:74: tree pruning end, 1 roots, 296 extra nodes, 0 pruned nodes, max_depth=10\n",
      "[04:16:33] INFO: /workspace/src/tree/updater_prune.cc:74: tree pruning end, 1 roots, 476 extra nodes, 0 pruned nodes, max_depth=10\n",
      "[04:16:36] INFO: /workspace/src/tree/updater_prune.cc:74: tree pruning end, 1 roots, 220 extra nodes, 0 pruned nodes, max_depth=10\n",
      "[04:16:38] INFO: /workspace/src/tree/updater_prune.cc:74: tree pruning end, 1 roots, 380 extra nodes, 0 pruned nodes, max_depth=10\n",
      "[04:16:41] INFO: /workspace/src/tree/updater_prune.cc:74: tree pruning end, 1 roots, 192 extra nodes, 0 pruned nodes, max_depth=10\n",
      "[04:16:44] INFO: /workspace/src/tree/updater_prune.cc:74: tree pruning end, 1 roots, 402 extra nodes, 0 pruned nodes, max_depth=10\n",
      "[04:16:46] INFO: /workspace/src/tree/updater_prune.cc:74: tree pruning end, 1 roots, 374 extra nodes, 0 pruned nodes, max_depth=10\n",
      "[04:16:48] INFO: /workspace/src/tree/updater_prune.cc:74: tree pruning end, 1 roots, 414 extra nodes, 0 pruned nodes, max_depth=10\n",
      "[04:16:50] INFO: /workspace/src/tree/updater_prune.cc:74: tree pruning end, 1 roots, 546 extra nodes, 0 pruned nodes, max_depth=10\n",
      "[04:16:53] INFO: /workspace/src/tree/updater_prune.cc:74: tree pruning end, 1 roots, 316 extra nodes, 0 pruned nodes, max_depth=10\n",
      "[04:16:55] INFO: /workspace/src/tree/updater_prune.cc:74: tree pruning end, 1 roots, 776 extra nodes, 0 pruned nodes, max_depth=10\n",
      "[04:16:57] INFO: /workspace/src/tree/updater_prune.cc:74: tree pruning end, 1 roots, 570 extra nodes, 0 pruned nodes, max_depth=10\n",
      "[04:16:59] INFO: /workspace/src/tree/updater_prune.cc:74: tree pruning end, 1 roots, 220 extra nodes, 0 pruned nodes, max_depth=10\n",
      "[04:17:01] INFO: /workspace/src/tree/updater_prune.cc:74: tree pruning end, 1 roots, 352 extra nodes, 0 pruned nodes, max_depth=10\n",
      "[04:17:03] INFO: /workspace/src/tree/updater_prune.cc:74: tree pruning end, 1 roots, 546 extra nodes, 0 pruned nodes, max_depth=10\n",
      "[04:17:05] INFO: /workspace/src/tree/updater_prune.cc:74: tree pruning end, 1 roots, 406 extra nodes, 0 pruned nodes, max_depth=10\n",
      "[04:17:07] INFO: /workspace/src/tree/updater_prune.cc:74: tree pruning end, 1 roots, 352 extra nodes, 0 pruned nodes, max_depth=10\n",
      "[04:17:09] INFO: /workspace/src/tree/updater_prune.cc:74: tree pruning end, 1 roots, 440 extra nodes, 0 pruned nodes, max_depth=10\n",
      "[04:17:11] INFO: /workspace/src/tree/updater_prune.cc:74: tree pruning end, 1 roots, 368 extra nodes, 0 pruned nodes, max_depth=10\n",
      "[04:17:13] INFO: /workspace/src/tree/updater_prune.cc:74: tree pruning end, 1 roots, 632 extra nodes, 0 pruned nodes, max_depth=10\n",
      "[04:17:15] INFO: /workspace/src/tree/updater_prune.cc:74: tree pruning end, 1 roots, 424 extra nodes, 0 pruned nodes, max_depth=10\n",
      "[04:17:17] INFO: /workspace/src/tree/updater_prune.cc:74: tree pruning end, 1 roots, 368 extra nodes, 0 pruned nodes, max_depth=10\n",
      "[04:17:19] INFO: /workspace/src/tree/updater_prune.cc:74: tree pruning end, 1 roots, 770 extra nodes, 0 pruned nodes, max_depth=10\n",
      "[04:17:21] INFO: /workspace/src/tree/updater_prune.cc:74: tree pruning end, 1 roots, 504 extra nodes, 0 pruned nodes, max_depth=10\n",
      "[04:17:23] INFO: /workspace/src/tree/updater_prune.cc:74: tree pruning end, 1 roots, 540 extra nodes, 0 pruned nodes, max_depth=10\n",
      "[04:17:25] INFO: /workspace/src/tree/updater_prune.cc:74: tree pruning end, 1 roots, 196 extra nodes, 0 pruned nodes, max_depth=10\n",
      "[04:17:27] INFO: /workspace/src/tree/updater_prune.cc:74: tree pruning end, 1 roots, 236 extra nodes, 0 pruned nodes, max_depth=10\n",
      "[04:17:29] INFO: /workspace/src/tree/updater_prune.cc:74: tree pruning end, 1 roots, 498 extra nodes, 0 pruned nodes, max_depth=10\n",
      "[04:17:32] INFO: /workspace/src/tree/updater_prune.cc:74: tree pruning end, 1 roots, 270 extra nodes, 0 pruned nodes, max_depth=10\n",
      "[04:17:34] INFO: /workspace/src/tree/updater_prune.cc:74: tree pruning end, 1 roots, 822 extra nodes, 0 pruned nodes, max_depth=10\n",
      "[04:17:36] INFO: /workspace/src/tree/updater_prune.cc:74: tree pruning end, 1 roots, 732 extra nodes, 0 pruned nodes, max_depth=10\n",
      "[04:17:38] INFO: /workspace/src/tree/updater_prune.cc:74: tree pruning end, 1 roots, 326 extra nodes, 0 pruned nodes, max_depth=10\n",
      "[04:17:41] INFO: /workspace/src/tree/updater_prune.cc:74: tree pruning end, 1 roots, 554 extra nodes, 0 pruned nodes, max_depth=10\n",
      "[04:17:44] INFO: /workspace/src/tree/updater_prune.cc:74: tree pruning end, 1 roots, 332 extra nodes, 0 pruned nodes, max_depth=10\n",
      "[04:17:48] INFO: /workspace/src/tree/updater_prune.cc:74: tree pruning end, 1 roots, 168 extra nodes, 0 pruned nodes, max_depth=10\n",
      "[04:17:51] INFO: /workspace/src/tree/updater_prune.cc:74: tree pruning end, 1 roots, 914 extra nodes, 0 pruned nodes, max_depth=10\n",
      "[04:17:53] INFO: /workspace/src/tree/updater_prune.cc:74: tree pruning end, 1 roots, 460 extra nodes, 0 pruned nodes, max_depth=10\n",
      "[04:17:55] INFO: /workspace/src/tree/updater_prune.cc:74: tree pruning end, 1 roots, 436 extra nodes, 0 pruned nodes, max_depth=10\n",
      "[04:17:57] INFO: /workspace/src/tree/updater_prune.cc:74: tree pruning end, 1 roots, 534 extra nodes, 0 pruned nodes, max_depth=10\n",
      "[04:17:59] INFO: /workspace/src/tree/updater_prune.cc:74: tree pruning end, 1 roots, 172 extra nodes, 0 pruned nodes, max_depth=10\n",
      "[04:18:01] INFO: /workspace/src/tree/updater_prune.cc:74: tree pruning end, 1 roots, 852 extra nodes, 0 pruned nodes, max_depth=10\n",
      "[04:18:04] INFO: /workspace/src/tree/updater_prune.cc:74: tree pruning end, 1 roots, 336 extra nodes, 0 pruned nodes, max_depth=10\n",
      "[04:18:06] INFO: /workspace/src/tree/updater_prune.cc:74: tree pruning end, 1 roots, 458 extra nodes, 0 pruned nodes, max_depth=10\n",
      "[04:18:08] INFO: /workspace/src/tree/updater_prune.cc:74: tree pruning end, 1 roots, 564 extra nodes, 0 pruned nodes, max_depth=10\n",
      "[04:18:10] INFO: /workspace/src/tree/updater_prune.cc:74: tree pruning end, 1 roots, 270 extra nodes, 0 pruned nodes, max_depth=10\n"
     ]
    },
    {
     "data": {
      "text/plain": [
       "XGBRegressor(base_score=0.5, booster='gbtree', colsample_bylevel=1,\n",
       "             colsample_bynode=1, colsample_bytree=1, gamma=0,\n",
       "             importance_type='gain', learning_rate=0.1, max_delta_step=0,\n",
       "             max_depth=10, min_child_weight=10, missing=None, n_estimators=120,\n",
       "             n_jobs=1, nthread=None, objective='reg:linear', random_state=0,\n",
       "             reg_alpha=0, reg_lambda=1, scale_pos_weight=1, seed=None,\n",
       "             silent=None, subsample=0.9, verbosity=2)"
      ]
     },
     "execution_count": 11,
     "metadata": {},
     "output_type": "execute_result"
    }
   ],
   "source": [
    "reg = xgboost.XGBRegressor(max_depth=10,n_estimators=120 ,learning_rate=0.1, verbosity=2,subsample=0.9, min_child_weight=10)\n",
    "reg.fit(X_train,Y_train)\n",
    "#reg.fit(X_purged,Y)"
   ]
  },
  {
   "cell_type": "markdown",
   "metadata": {},
   "source": [
    "_Comprobacion contra el conjunto de validacion_"
   ]
  },
  {
   "cell_type": "code",
   "execution_count": null,
   "metadata": {},
   "outputs": [],
   "source": [
    "Y_pred = reg.predict(X_val)\n",
    "mean_absolute_error(Y_val,Y_pred)"
   ]
  },
  {
   "cell_type": "code",
   "execution_count": 15,
   "metadata": {},
   "outputs": [],
   "source": [
    "# preparamos el csv de respuesta para kaggle"
   ]
  },
  {
   "cell_type": "code",
   "execution_count": 16,
   "metadata": {},
   "outputs": [],
   "source": [
    "ids = test.index.values\n",
    "X_test = test.values\n",
    "X_test_purged = X_test[:,feature_indices]"
   ]
  },
  {
   "cell_type": "code",
   "execution_count": 17,
   "metadata": {},
   "outputs": [],
   "source": [
    "test_predict = reg.predict(X_test_purged)"
   ]
  },
  {
   "cell_type": "code",
   "execution_count": 18,
   "metadata": {},
   "outputs": [],
   "source": [
    "escribir_respuesta(ids, test_predict)"
   ]
  },
  {
   "cell_type": "markdown",
   "metadata": {},
   "source": [
    "### Modelo: CatBoost"
   ]
  },
  {
   "cell_type": "code",
   "execution_count": null,
   "metadata": {},
   "outputs": [],
   "source": [
    "#..."
   ]
  },
  {
   "cell_type": "markdown",
   "metadata": {},
   "source": [
    "### Modelo: LightGBM"
   ]
  },
  {
   "cell_type": "code",
   "execution_count": 13,
   "metadata": {},
   "outputs": [],
   "source": [
    "import lightgbm as lgb"
   ]
  },
  {
   "cell_type": "code",
   "execution_count": 14,
   "metadata": {},
   "outputs": [],
   "source": [
    "train,test = load_featured_datasets()"
   ]
  },
  {
   "cell_type": "code",
   "execution_count": 15,
   "metadata": {},
   "outputs": [],
   "source": [
    "X = train.drop('precio', axis=1).values\n",
    "Y = train['precio'].values"
   ]
  },
  {
   "cell_type": "code",
   "execution_count": 16,
   "metadata": {
    "scrolled": true
   },
   "outputs": [
    {
     "name": "stderr",
     "output_type": "stream",
     "text": [
      "/usr/local/lib/python3.6/dist-packages/sklearn/feature_selection/univariate_selection.py:299: RuntimeWarning: divide by zero encountered in true_divide\n",
      "  corr /= X_norms\n",
      "/usr/local/lib/python3.6/dist-packages/sklearn/feature_selection/univariate_selection.py:299: RuntimeWarning: invalid value encountered in true_divide\n",
      "  corr /= X_norms\n",
      "/usr/local/lib/python3.6/dist-packages/sklearn/feature_selection/univariate_selection.py:304: RuntimeWarning: invalid value encountered in true_divide\n",
      "  F = corr ** 2 / (1 - corr ** 2) * degrees_of_freedom\n",
      "/usr/local/lib/python3.6/dist-packages/scipy/stats/_distn_infrastructure.py:901: RuntimeWarning: invalid value encountered in greater\n",
      "  return (a < x) & (x < b)\n",
      "/usr/local/lib/python3.6/dist-packages/scipy/stats/_distn_infrastructure.py:901: RuntimeWarning: invalid value encountered in less\n",
      "  return (a < x) & (x < b)\n",
      "/usr/local/lib/python3.6/dist-packages/scipy/stats/_distn_infrastructure.py:1892: RuntimeWarning: invalid value encountered in less_equal\n",
      "  cond2 = cond0 & (x <= _a)\n"
     ]
    }
   ],
   "source": [
    "feature_selector = feature_selection.k_features_selector(100,train)\n",
    "feature_indices = feature_selector.get_support(indices=True)"
   ]
  },
  {
   "cell_type": "code",
   "execution_count": 17,
   "metadata": {},
   "outputs": [],
   "source": [
    "X_purged = X[:,feature_indices]"
   ]
  },
  {
   "cell_type": "code",
   "execution_count": 18,
   "metadata": {},
   "outputs": [],
   "source": [
    "X_train, X_val, Y_train, Y_val = train_test_split(X_purged, Y, test_size=0.2, random_state=seed)\n",
    "#X_train, X_val, Y_train, Y_val = train_test_split(X, Y, test_size=0.2, random_state=seed)"
   ]
  },
  {
   "cell_type": "code",
   "execution_count": 19,
   "metadata": {},
   "outputs": [
    {
     "data": {
      "text/plain": [
       "'Use large max_bin (may be slower)\\nUse small learning_rate with large num_iterations\\nUse large num_leaves (may cause over-fitting)\\nUse bigger training data\\nTry dart'"
      ]
     },
     "execution_count": 19,
     "metadata": {},
     "output_type": "execute_result"
    }
   ],
   "source": [
    "params = {\n",
    "    'boosting_type': 'gbdt',\n",
    "    'objective': 'regression',\n",
    "    'metric': 'mae',\n",
    "    'max_depth': 14, \n",
    "    'learning_rate': 0.05,\n",
    "    'verbose': 0, \n",
    "    'early_stopping_round': 20}\n",
    "n_estimators=5000\n",
    "\n",
    "\"\"\"Use large max_bin (may be slower)\n",
    "Use small learning_rate with large num_iterations\n",
    "Use large num_leaves (may cause over-fitting)\n",
    "Use bigger training data\n",
    "Try dart\"\"\""
   ]
  },
  {
   "cell_type": "code",
   "execution_count": 20,
   "metadata": {},
   "outputs": [
    {
     "name": "stderr",
     "output_type": "stream",
     "text": [
      "/usr/local/lib/python3.6/dist-packages/lightgbm/engine.py:153: UserWarning: Found `early_stopping_round` in params. Will use it instead of argument\n",
      "  warnings.warn(\"Found `{}` in params. Will use it instead of argument\".format(alias))\n"
     ]
    },
    {
     "name": "stdout",
     "output_type": "stream",
     "text": [
      "[1]\tvalid_0's l1: 1.55232e+06\n",
      "Training until validation scores don't improve for 20 rounds\n",
      "[2]\tvalid_0's l1: 1.50069e+06\n",
      "[3]\tvalid_0's l1: 1.45181e+06\n",
      "[4]\tvalid_0's l1: 1.40671e+06\n",
      "[5]\tvalid_0's l1: 1.36443e+06\n",
      "[6]\tvalid_0's l1: 1.32411e+06\n",
      "[7]\tvalid_0's l1: 1.28737e+06\n",
      "[8]\tvalid_0's l1: 1.25194e+06\n",
      "[9]\tvalid_0's l1: 1.21965e+06\n",
      "[10]\tvalid_0's l1: 1.18905e+06\n",
      "[11]\tvalid_0's l1: 1.16e+06\n",
      "[12]\tvalid_0's l1: 1.13357e+06\n",
      "[13]\tvalid_0's l1: 1.10775e+06\n",
      "[14]\tvalid_0's l1: 1.08441e+06\n",
      "[15]\tvalid_0's l1: 1.06186e+06\n",
      "[16]\tvalid_0's l1: 1.04165e+06\n",
      "[17]\tvalid_0's l1: 1.02217e+06\n",
      "[18]\tvalid_0's l1: 1.00433e+06\n",
      "[19]\tvalid_0's l1: 986632\n",
      "[20]\tvalid_0's l1: 970632\n",
      "[21]\tvalid_0's l1: 954833\n",
      "[22]\tvalid_0's l1: 940831\n",
      "[23]\tvalid_0's l1: 926808\n",
      "[24]\tvalid_0's l1: 914199\n",
      "[25]\tvalid_0's l1: 901845\n",
      "[26]\tvalid_0's l1: 890526\n",
      "[27]\tvalid_0's l1: 879681\n",
      "[28]\tvalid_0's l1: 869954\n",
      "[29]\tvalid_0's l1: 859865\n",
      "[30]\tvalid_0's l1: 851311\n",
      "[31]\tvalid_0's l1: 843146\n",
      "[32]\tvalid_0's l1: 835064\n",
      "[33]\tvalid_0's l1: 826823\n",
      "[34]\tvalid_0's l1: 819284\n",
      "[35]\tvalid_0's l1: 812180\n",
      "[36]\tvalid_0's l1: 805684\n",
      "[37]\tvalid_0's l1: 799137\n",
      "[38]\tvalid_0's l1: 792939\n",
      "[39]\tvalid_0's l1: 787433\n",
      "[40]\tvalid_0's l1: 782060\n",
      "[41]\tvalid_0's l1: 776765\n",
      "[42]\tvalid_0's l1: 771946\n",
      "[43]\tvalid_0's l1: 767368\n",
      "[44]\tvalid_0's l1: 762829\n",
      "[45]\tvalid_0's l1: 758741\n",
      "[46]\tvalid_0's l1: 754637\n",
      "[47]\tvalid_0's l1: 750627\n",
      "[48]\tvalid_0's l1: 747246\n",
      "[49]\tvalid_0's l1: 743732\n",
      "[50]\tvalid_0's l1: 740438\n",
      "[51]\tvalid_0's l1: 737287\n",
      "[52]\tvalid_0's l1: 734226\n",
      "[53]\tvalid_0's l1: 731122\n",
      "[54]\tvalid_0's l1: 728264\n",
      "[55]\tvalid_0's l1: 725868\n",
      "[56]\tvalid_0's l1: 723192\n",
      "[57]\tvalid_0's l1: 720584\n",
      "[58]\tvalid_0's l1: 718183\n",
      "[59]\tvalid_0's l1: 716124\n",
      "[60]\tvalid_0's l1: 714239\n",
      "[61]\tvalid_0's l1: 712415\n",
      "[62]\tvalid_0's l1: 710551\n",
      "[63]\tvalid_0's l1: 708925\n",
      "[64]\tvalid_0's l1: 706859\n",
      "[65]\tvalid_0's l1: 705306\n",
      "[66]\tvalid_0's l1: 703710\n",
      "[67]\tvalid_0's l1: 702186\n",
      "[68]\tvalid_0's l1: 700704\n",
      "[69]\tvalid_0's l1: 699207\n",
      "[70]\tvalid_0's l1: 697888\n",
      "[71]\tvalid_0's l1: 696343\n",
      "[72]\tvalid_0's l1: 695170\n",
      "[73]\tvalid_0's l1: 693790\n",
      "[74]\tvalid_0's l1: 692450\n",
      "[75]\tvalid_0's l1: 691264\n",
      "[76]\tvalid_0's l1: 690154\n",
      "[77]\tvalid_0's l1: 689024\n",
      "[78]\tvalid_0's l1: 688022\n",
      "[79]\tvalid_0's l1: 687127\n",
      "[80]\tvalid_0's l1: 685875\n",
      "[81]\tvalid_0's l1: 684837\n",
      "[82]\tvalid_0's l1: 683798\n",
      "[83]\tvalid_0's l1: 682974\n",
      "[84]\tvalid_0's l1: 682110\n",
      "[85]\tvalid_0's l1: 681325\n",
      "[86]\tvalid_0's l1: 680509\n",
      "[87]\tvalid_0's l1: 679825\n",
      "[88]\tvalid_0's l1: 679184\n",
      "[89]\tvalid_0's l1: 678276\n",
      "[90]\tvalid_0's l1: 677524\n",
      "[91]\tvalid_0's l1: 676834\n",
      "[92]\tvalid_0's l1: 676217\n",
      "[93]\tvalid_0's l1: 675606\n",
      "[94]\tvalid_0's l1: 674821\n",
      "[95]\tvalid_0's l1: 674307\n",
      "[96]\tvalid_0's l1: 673635\n",
      "[97]\tvalid_0's l1: 672836\n",
      "[98]\tvalid_0's l1: 672266\n",
      "[99]\tvalid_0's l1: 671823\n",
      "[100]\tvalid_0's l1: 671295\n",
      "[101]\tvalid_0's l1: 670932\n",
      "[102]\tvalid_0's l1: 670301\n",
      "[103]\tvalid_0's l1: 669819\n",
      "[104]\tvalid_0's l1: 669197\n",
      "[105]\tvalid_0's l1: 668695\n",
      "[106]\tvalid_0's l1: 667976\n",
      "[107]\tvalid_0's l1: 667419\n",
      "[108]\tvalid_0's l1: 666984\n",
      "[109]\tvalid_0's l1: 666390\n",
      "[110]\tvalid_0's l1: 665738\n",
      "[111]\tvalid_0's l1: 665424\n",
      "[112]\tvalid_0's l1: 664981\n",
      "[113]\tvalid_0's l1: 664417\n",
      "[114]\tvalid_0's l1: 664102\n",
      "[115]\tvalid_0's l1: 663778\n",
      "[116]\tvalid_0's l1: 663227\n",
      "[117]\tvalid_0's l1: 662937\n",
      "[118]\tvalid_0's l1: 662504\n",
      "[119]\tvalid_0's l1: 662009\n",
      "[120]\tvalid_0's l1: 661608\n",
      "[121]\tvalid_0's l1: 661212\n",
      "[122]\tvalid_0's l1: 660893\n",
      "[123]\tvalid_0's l1: 660560\n",
      "[124]\tvalid_0's l1: 660093\n",
      "[125]\tvalid_0's l1: 659645\n",
      "[126]\tvalid_0's l1: 659392\n",
      "[127]\tvalid_0's l1: 658952\n",
      "[128]\tvalid_0's l1: 658676\n",
      "[129]\tvalid_0's l1: 658270\n",
      "[130]\tvalid_0's l1: 657901\n",
      "[131]\tvalid_0's l1: 657366\n",
      "[132]\tvalid_0's l1: 657185\n",
      "[133]\tvalid_0's l1: 656983\n",
      "[134]\tvalid_0's l1: 656647\n",
      "[135]\tvalid_0's l1: 656253\n",
      "[136]\tvalid_0's l1: 655927\n",
      "[137]\tvalid_0's l1: 655696\n",
      "[138]\tvalid_0's l1: 655542\n",
      "[139]\tvalid_0's l1: 655138\n",
      "[140]\tvalid_0's l1: 654707\n",
      "[141]\tvalid_0's l1: 654342\n",
      "[142]\tvalid_0's l1: 654079\n",
      "[143]\tvalid_0's l1: 653925\n",
      "[144]\tvalid_0's l1: 653662\n",
      "[145]\tvalid_0's l1: 653457\n",
      "[146]\tvalid_0's l1: 653277\n",
      "[147]\tvalid_0's l1: 652991\n",
      "[148]\tvalid_0's l1: 652821\n",
      "[149]\tvalid_0's l1: 652658\n",
      "[150]\tvalid_0's l1: 652551\n",
      "[151]\tvalid_0's l1: 652281\n",
      "[152]\tvalid_0's l1: 651997\n",
      "[153]\tvalid_0's l1: 651871\n",
      "[154]\tvalid_0's l1: 651639\n",
      "[155]\tvalid_0's l1: 651420\n",
      "[156]\tvalid_0's l1: 651292\n",
      "[157]\tvalid_0's l1: 651045\n",
      "[158]\tvalid_0's l1: 650921\n",
      "[159]\tvalid_0's l1: 650712\n",
      "[160]\tvalid_0's l1: 650386\n",
      "[161]\tvalid_0's l1: 650031\n",
      "[162]\tvalid_0's l1: 649744\n",
      "[163]\tvalid_0's l1: 649363\n",
      "[164]\tvalid_0's l1: 649267\n",
      "[165]\tvalid_0's l1: 649178\n",
      "[166]\tvalid_0's l1: 649083\n",
      "[167]\tvalid_0's l1: 648967\n",
      "[168]\tvalid_0's l1: 648794\n",
      "[169]\tvalid_0's l1: 648674\n",
      "[170]\tvalid_0's l1: 648547\n",
      "[171]\tvalid_0's l1: 648477\n",
      "[172]\tvalid_0's l1: 648211\n",
      "[173]\tvalid_0's l1: 647988\n",
      "[174]\tvalid_0's l1: 647846\n",
      "[175]\tvalid_0's l1: 647769\n",
      "[176]\tvalid_0's l1: 647680\n",
      "[177]\tvalid_0's l1: 647621\n",
      "[178]\tvalid_0's l1: 647455\n",
      "[179]\tvalid_0's l1: 647340\n",
      "[180]\tvalid_0's l1: 647257\n",
      "[181]\tvalid_0's l1: 647061\n",
      "[182]\tvalid_0's l1: 646915\n",
      "[183]\tvalid_0's l1: 646822\n",
      "[184]\tvalid_0's l1: 646764\n",
      "[185]\tvalid_0's l1: 646549\n",
      "[186]\tvalid_0's l1: 646467\n",
      "[187]\tvalid_0's l1: 646428\n",
      "[188]\tvalid_0's l1: 646392\n",
      "[189]\tvalid_0's l1: 646185\n",
      "[190]\tvalid_0's l1: 646055\n",
      "[191]\tvalid_0's l1: 645993\n",
      "[192]\tvalid_0's l1: 645894\n",
      "[193]\tvalid_0's l1: 645811\n",
      "[194]\tvalid_0's l1: 645696\n",
      "[195]\tvalid_0's l1: 645667\n",
      "[196]\tvalid_0's l1: 645562\n",
      "[197]\tvalid_0's l1: 645517\n",
      "[198]\tvalid_0's l1: 645474\n",
      "[199]\tvalid_0's l1: 645423\n",
      "[200]\tvalid_0's l1: 645258\n",
      "[201]\tvalid_0's l1: 645105\n",
      "[202]\tvalid_0's l1: 644994\n",
      "[203]\tvalid_0's l1: 644903\n",
      "[204]\tvalid_0's l1: 644735\n",
      "[205]\tvalid_0's l1: 644657\n",
      "[206]\tvalid_0's l1: 644484\n",
      "[207]\tvalid_0's l1: 644311\n",
      "[208]\tvalid_0's l1: 644219\n",
      "[209]\tvalid_0's l1: 644111\n",
      "[210]\tvalid_0's l1: 643951\n",
      "[211]\tvalid_0's l1: 643912\n",
      "[212]\tvalid_0's l1: 643914\n",
      "[213]\tvalid_0's l1: 643652\n",
      "[214]\tvalid_0's l1: 643485\n",
      "[215]\tvalid_0's l1: 643439\n",
      "[216]\tvalid_0's l1: 643369\n",
      "[217]\tvalid_0's l1: 643252\n",
      "[218]\tvalid_0's l1: 643142\n",
      "[219]\tvalid_0's l1: 642977\n",
      "[220]\tvalid_0's l1: 642944\n",
      "[221]\tvalid_0's l1: 642717\n",
      "[222]\tvalid_0's l1: 642634\n",
      "[223]\tvalid_0's l1: 642566\n",
      "[224]\tvalid_0's l1: 642469\n",
      "[225]\tvalid_0's l1: 642421\n",
      "[226]\tvalid_0's l1: 642373\n",
      "[227]\tvalid_0's l1: 642288\n",
      "[228]\tvalid_0's l1: 641995\n",
      "[229]\tvalid_0's l1: 641862\n",
      "[230]\tvalid_0's l1: 641708\n",
      "[231]\tvalid_0's l1: 641517\n",
      "[232]\tvalid_0's l1: 641426\n",
      "[233]\tvalid_0's l1: 641252\n",
      "[234]\tvalid_0's l1: 641122\n",
      "[235]\tvalid_0's l1: 641088\n",
      "[236]\tvalid_0's l1: 641065\n",
      "[237]\tvalid_0's l1: 641022\n",
      "[238]\tvalid_0's l1: 640999\n",
      "[239]\tvalid_0's l1: 640927\n",
      "[240]\tvalid_0's l1: 640853\n",
      "[241]\tvalid_0's l1: 640764\n",
      "[242]\tvalid_0's l1: 640628\n",
      "[243]\tvalid_0's l1: 640493\n",
      "[244]\tvalid_0's l1: 640432\n",
      "[245]\tvalid_0's l1: 640446\n",
      "[246]\tvalid_0's l1: 640391\n",
      "[247]\tvalid_0's l1: 640224\n",
      "[248]\tvalid_0's l1: 640184\n",
      "[249]\tvalid_0's l1: 640049\n",
      "[250]\tvalid_0's l1: 640006\n",
      "[251]\tvalid_0's l1: 639917\n",
      "[252]\tvalid_0's l1: 639746\n",
      "[253]\tvalid_0's l1: 639697\n",
      "[254]\tvalid_0's l1: 639619\n",
      "[255]\tvalid_0's l1: 639615\n",
      "[256]\tvalid_0's l1: 639508\n",
      "[257]\tvalid_0's l1: 639503\n",
      "[258]\tvalid_0's l1: 639464\n",
      "[259]\tvalid_0's l1: 639442\n",
      "[260]\tvalid_0's l1: 639287\n",
      "[261]\tvalid_0's l1: 639237\n",
      "[262]\tvalid_0's l1: 639123\n",
      "[263]\tvalid_0's l1: 639050\n",
      "[264]\tvalid_0's l1: 638921\n",
      "[265]\tvalid_0's l1: 638823\n",
      "[266]\tvalid_0's l1: 638766\n",
      "[267]\tvalid_0's l1: 638723\n",
      "[268]\tvalid_0's l1: 638549\n",
      "[269]\tvalid_0's l1: 638480\n",
      "[270]\tvalid_0's l1: 638446\n",
      "[271]\tvalid_0's l1: 638285\n",
      "[272]\tvalid_0's l1: 638278\n",
      "[273]\tvalid_0's l1: 638180\n",
      "[274]\tvalid_0's l1: 638065\n",
      "[275]\tvalid_0's l1: 637974\n",
      "[276]\tvalid_0's l1: 637939\n",
      "[277]\tvalid_0's l1: 637821\n",
      "[278]\tvalid_0's l1: 637799\n",
      "[279]\tvalid_0's l1: 637754\n",
      "[280]\tvalid_0's l1: 637728\n",
      "[281]\tvalid_0's l1: 637612\n",
      "[282]\tvalid_0's l1: 637544\n",
      "[283]\tvalid_0's l1: 637533\n",
      "[284]\tvalid_0's l1: 637543\n",
      "[285]\tvalid_0's l1: 637536\n",
      "[286]\tvalid_0's l1: 637504\n",
      "[287]\tvalid_0's l1: 637471\n",
      "[288]\tvalid_0's l1: 637354\n",
      "[289]\tvalid_0's l1: 637323\n",
      "[290]\tvalid_0's l1: 637157\n",
      "[291]\tvalid_0's l1: 637115\n",
      "[292]\tvalid_0's l1: 637066\n",
      "[293]\tvalid_0's l1: 637005\n",
      "[294]\tvalid_0's l1: 637002\n",
      "[295]\tvalid_0's l1: 637002\n",
      "[296]\tvalid_0's l1: 636986\n",
      "[297]\tvalid_0's l1: 636986\n",
      "[298]\tvalid_0's l1: 636847\n",
      "[299]\tvalid_0's l1: 636759\n",
      "[300]\tvalid_0's l1: 636684\n",
      "[301]\tvalid_0's l1: 636629\n",
      "[302]\tvalid_0's l1: 636484\n",
      "[303]\tvalid_0's l1: 636414\n",
      "[304]\tvalid_0's l1: 636328\n",
      "[305]\tvalid_0's l1: 636224\n",
      "[306]\tvalid_0's l1: 636191\n",
      "[307]\tvalid_0's l1: 636179\n",
      "[308]\tvalid_0's l1: 636095\n",
      "[309]\tvalid_0's l1: 636043\n",
      "[310]\tvalid_0's l1: 635921\n"
     ]
    },
    {
     "name": "stdout",
     "output_type": "stream",
     "text": [
      "[311]\tvalid_0's l1: 635851\n",
      "[312]\tvalid_0's l1: 635735\n",
      "[313]\tvalid_0's l1: 635618\n",
      "[314]\tvalid_0's l1: 635556\n",
      "[315]\tvalid_0's l1: 635505\n",
      "[316]\tvalid_0's l1: 635494\n",
      "[317]\tvalid_0's l1: 635431\n",
      "[318]\tvalid_0's l1: 635297\n",
      "[319]\tvalid_0's l1: 635204\n",
      "[320]\tvalid_0's l1: 635179\n",
      "[321]\tvalid_0's l1: 635178\n",
      "[322]\tvalid_0's l1: 635127\n",
      "[323]\tvalid_0's l1: 635097\n",
      "[324]\tvalid_0's l1: 635067\n",
      "[325]\tvalid_0's l1: 635046\n",
      "[326]\tvalid_0's l1: 635047\n",
      "[327]\tvalid_0's l1: 635016\n",
      "[328]\tvalid_0's l1: 634953\n",
      "[329]\tvalid_0's l1: 634852\n",
      "[330]\tvalid_0's l1: 634798\n",
      "[331]\tvalid_0's l1: 634745\n",
      "[332]\tvalid_0's l1: 634607\n",
      "[333]\tvalid_0's l1: 634585\n",
      "[334]\tvalid_0's l1: 634578\n",
      "[335]\tvalid_0's l1: 634569\n",
      "[336]\tvalid_0's l1: 634559\n",
      "[337]\tvalid_0's l1: 634535\n",
      "[338]\tvalid_0's l1: 634452\n",
      "[339]\tvalid_0's l1: 634394\n",
      "[340]\tvalid_0's l1: 634255\n",
      "[341]\tvalid_0's l1: 634190\n",
      "[342]\tvalid_0's l1: 634168\n",
      "[343]\tvalid_0's l1: 634149\n",
      "[344]\tvalid_0's l1: 634097\n",
      "[345]\tvalid_0's l1: 634036\n",
      "[346]\tvalid_0's l1: 633914\n",
      "[347]\tvalid_0's l1: 633902\n",
      "[348]\tvalid_0's l1: 633837\n",
      "[349]\tvalid_0's l1: 633797\n",
      "[350]\tvalid_0's l1: 633781\n",
      "[351]\tvalid_0's l1: 633787\n",
      "[352]\tvalid_0's l1: 633762\n",
      "[353]\tvalid_0's l1: 633700\n",
      "[354]\tvalid_0's l1: 633622\n",
      "[355]\tvalid_0's l1: 633504\n",
      "[356]\tvalid_0's l1: 633402\n",
      "[357]\tvalid_0's l1: 633394\n",
      "[358]\tvalid_0's l1: 633373\n",
      "[359]\tvalid_0's l1: 633336\n",
      "[360]\tvalid_0's l1: 633299\n",
      "[361]\tvalid_0's l1: 633286\n",
      "[362]\tvalid_0's l1: 633240\n",
      "[363]\tvalid_0's l1: 633143\n",
      "[364]\tvalid_0's l1: 633073\n",
      "[365]\tvalid_0's l1: 633072\n",
      "[366]\tvalid_0's l1: 633004\n",
      "[367]\tvalid_0's l1: 632898\n",
      "[368]\tvalid_0's l1: 632828\n",
      "[369]\tvalid_0's l1: 632790\n",
      "[370]\tvalid_0's l1: 632786\n",
      "[371]\tvalid_0's l1: 632538\n",
      "[372]\tvalid_0's l1: 632406\n",
      "[373]\tvalid_0's l1: 632343\n",
      "[374]\tvalid_0's l1: 632300\n",
      "[375]\tvalid_0's l1: 632232\n",
      "[376]\tvalid_0's l1: 632172\n",
      "[377]\tvalid_0's l1: 631975\n",
      "[378]\tvalid_0's l1: 631874\n",
      "[379]\tvalid_0's l1: 631808\n",
      "[380]\tvalid_0's l1: 631805\n",
      "[381]\tvalid_0's l1: 631776\n",
      "[382]\tvalid_0's l1: 631770\n",
      "[383]\tvalid_0's l1: 631763\n",
      "[384]\tvalid_0's l1: 631702\n",
      "[385]\tvalid_0's l1: 631621\n",
      "[386]\tvalid_0's l1: 631604\n",
      "[387]\tvalid_0's l1: 631594\n",
      "[388]\tvalid_0's l1: 631582\n",
      "[389]\tvalid_0's l1: 631540\n",
      "[390]\tvalid_0's l1: 631486\n",
      "[391]\tvalid_0's l1: 631392\n",
      "[392]\tvalid_0's l1: 631393\n",
      "[393]\tvalid_0's l1: 631204\n",
      "[394]\tvalid_0's l1: 631147\n",
      "[395]\tvalid_0's l1: 631125\n",
      "[396]\tvalid_0's l1: 631036\n",
      "[397]\tvalid_0's l1: 631034\n",
      "[398]\tvalid_0's l1: 630957\n",
      "[399]\tvalid_0's l1: 630942\n",
      "[400]\tvalid_0's l1: 630908\n",
      "[401]\tvalid_0's l1: 630919\n",
      "[402]\tvalid_0's l1: 630904\n",
      "[403]\tvalid_0's l1: 630794\n",
      "[404]\tvalid_0's l1: 630716\n",
      "[405]\tvalid_0's l1: 630709\n",
      "[406]\tvalid_0's l1: 630673\n",
      "[407]\tvalid_0's l1: 630616\n",
      "[408]\tvalid_0's l1: 630581\n",
      "[409]\tvalid_0's l1: 630518\n",
      "[410]\tvalid_0's l1: 630502\n",
      "[411]\tvalid_0's l1: 630484\n",
      "[412]\tvalid_0's l1: 630414\n",
      "[413]\tvalid_0's l1: 630386\n",
      "[414]\tvalid_0's l1: 630344\n",
      "[415]\tvalid_0's l1: 630343\n",
      "[416]\tvalid_0's l1: 630249\n",
      "[417]\tvalid_0's l1: 630252\n",
      "[418]\tvalid_0's l1: 630221\n",
      "[419]\tvalid_0's l1: 630198\n",
      "[420]\tvalid_0's l1: 630199\n",
      "[421]\tvalid_0's l1: 630193\n",
      "[422]\tvalid_0's l1: 630172\n",
      "[423]\tvalid_0's l1: 630156\n",
      "[424]\tvalid_0's l1: 630133\n",
      "[425]\tvalid_0's l1: 630077\n",
      "[426]\tvalid_0's l1: 630018\n",
      "[427]\tvalid_0's l1: 630003\n",
      "[428]\tvalid_0's l1: 629998\n",
      "[429]\tvalid_0's l1: 629922\n",
      "[430]\tvalid_0's l1: 629898\n",
      "[431]\tvalid_0's l1: 629878\n",
      "[432]\tvalid_0's l1: 629797\n",
      "[433]\tvalid_0's l1: 629742\n",
      "[434]\tvalid_0's l1: 629672\n",
      "[435]\tvalid_0's l1: 629647\n",
      "[436]\tvalid_0's l1: 629645\n",
      "[437]\tvalid_0's l1: 629619\n",
      "[438]\tvalid_0's l1: 629615\n",
      "[439]\tvalid_0's l1: 629603\n",
      "[440]\tvalid_0's l1: 629421\n",
      "[441]\tvalid_0's l1: 629411\n",
      "[442]\tvalid_0's l1: 629418\n",
      "[443]\tvalid_0's l1: 629401\n",
      "[444]\tvalid_0's l1: 629378\n",
      "[445]\tvalid_0's l1: 629342\n",
      "[446]\tvalid_0's l1: 629296\n",
      "[447]\tvalid_0's l1: 629241\n",
      "[448]\tvalid_0's l1: 629241\n",
      "[449]\tvalid_0's l1: 629246\n",
      "[450]\tvalid_0's l1: 629221\n",
      "[451]\tvalid_0's l1: 629146\n",
      "[452]\tvalid_0's l1: 629108\n",
      "[453]\tvalid_0's l1: 629057\n",
      "[454]\tvalid_0's l1: 629012\n",
      "[455]\tvalid_0's l1: 628978\n",
      "[456]\tvalid_0's l1: 628961\n",
      "[457]\tvalid_0's l1: 628943\n",
      "[458]\tvalid_0's l1: 628940\n",
      "[459]\tvalid_0's l1: 628905\n",
      "[460]\tvalid_0's l1: 628882\n",
      "[461]\tvalid_0's l1: 628823\n",
      "[462]\tvalid_0's l1: 628812\n",
      "[463]\tvalid_0's l1: 628751\n",
      "[464]\tvalid_0's l1: 628751\n",
      "[465]\tvalid_0's l1: 628597\n",
      "[466]\tvalid_0's l1: 628508\n",
      "[467]\tvalid_0's l1: 628464\n",
      "[468]\tvalid_0's l1: 628393\n",
      "[469]\tvalid_0's l1: 628343\n",
      "[470]\tvalid_0's l1: 628309\n",
      "[471]\tvalid_0's l1: 628289\n",
      "[472]\tvalid_0's l1: 628283\n",
      "[473]\tvalid_0's l1: 628263\n",
      "[474]\tvalid_0's l1: 628264\n",
      "[475]\tvalid_0's l1: 628270\n",
      "[476]\tvalid_0's l1: 628239\n",
      "[477]\tvalid_0's l1: 628195\n",
      "[478]\tvalid_0's l1: 628131\n",
      "[479]\tvalid_0's l1: 628135\n",
      "[480]\tvalid_0's l1: 628065\n",
      "[481]\tvalid_0's l1: 628016\n",
      "[482]\tvalid_0's l1: 627941\n",
      "[483]\tvalid_0's l1: 627868\n",
      "[484]\tvalid_0's l1: 627820\n",
      "[485]\tvalid_0's l1: 627811\n",
      "[486]\tvalid_0's l1: 627800\n",
      "[487]\tvalid_0's l1: 627761\n",
      "[488]\tvalid_0's l1: 627612\n",
      "[489]\tvalid_0's l1: 627527\n",
      "[490]\tvalid_0's l1: 627532\n",
      "[491]\tvalid_0's l1: 627470\n",
      "[492]\tvalid_0's l1: 627439\n",
      "[493]\tvalid_0's l1: 627393\n",
      "[494]\tvalid_0's l1: 627291\n",
      "[495]\tvalid_0's l1: 627198\n",
      "[496]\tvalid_0's l1: 627160\n",
      "[497]\tvalid_0's l1: 627133\n",
      "[498]\tvalid_0's l1: 627123\n",
      "[499]\tvalid_0's l1: 627096\n",
      "[500]\tvalid_0's l1: 626970\n",
      "[501]\tvalid_0's l1: 626902\n",
      "[502]\tvalid_0's l1: 626831\n",
      "[503]\tvalid_0's l1: 626813\n",
      "[504]\tvalid_0's l1: 626798\n",
      "[505]\tvalid_0's l1: 626772\n",
      "[506]\tvalid_0's l1: 626733\n",
      "[507]\tvalid_0's l1: 626720\n",
      "[508]\tvalid_0's l1: 626648\n",
      "[509]\tvalid_0's l1: 626614\n",
      "[510]\tvalid_0's l1: 626578\n",
      "[511]\tvalid_0's l1: 626530\n",
      "[512]\tvalid_0's l1: 626513\n",
      "[513]\tvalid_0's l1: 626501\n",
      "[514]\tvalid_0's l1: 626491\n",
      "[515]\tvalid_0's l1: 626482\n",
      "[516]\tvalid_0's l1: 626413\n"
     ]
    },
    {
     "ename": "KeyboardInterrupt",
     "evalue": "",
     "output_type": "error",
     "traceback": [
      "\u001b[0;31m---------------------------------------------------------------------------\u001b[0m",
      "\u001b[0;31mKeyboardInterrupt\u001b[0m                         Traceback (most recent call last)",
      "\u001b[0;32m<ipython-input-20-43845b7a2a88>\u001b[0m in \u001b[0;36m<module>\u001b[0;34m\u001b[0m\n\u001b[1;32m      2\u001b[0m \u001b[0md_valid\u001b[0m \u001b[0;34m=\u001b[0m \u001b[0mlgb\u001b[0m\u001b[0;34m.\u001b[0m\u001b[0mDataset\u001b[0m\u001b[0;34m(\u001b[0m\u001b[0mX_val\u001b[0m\u001b[0;34m,\u001b[0m \u001b[0mlabel\u001b[0m\u001b[0;34m=\u001b[0m\u001b[0mY_val\u001b[0m\u001b[0;34m)\u001b[0m\u001b[0;34m\u001b[0m\u001b[0;34m\u001b[0m\u001b[0m\n\u001b[1;32m      3\u001b[0m \u001b[0mwatchlist\u001b[0m \u001b[0;34m=\u001b[0m \u001b[0;34m[\u001b[0m\u001b[0md_valid\u001b[0m\u001b[0;34m]\u001b[0m\u001b[0;34m\u001b[0m\u001b[0;34m\u001b[0m\u001b[0m\n\u001b[0;32m----> 4\u001b[0;31m \u001b[0mreg\u001b[0m \u001b[0;34m=\u001b[0m \u001b[0mlgb\u001b[0m\u001b[0;34m.\u001b[0m\u001b[0mtrain\u001b[0m\u001b[0;34m(\u001b[0m\u001b[0mparams\u001b[0m\u001b[0;34m,\u001b[0m \u001b[0md_train\u001b[0m\u001b[0;34m,\u001b[0m \u001b[0mn_estimators\u001b[0m\u001b[0;34m,\u001b[0m \u001b[0mwatchlist\u001b[0m\u001b[0;34m,\u001b[0m \u001b[0mverbose_eval\u001b[0m\u001b[0;34m=\u001b[0m\u001b[0;36m1\u001b[0m\u001b[0;34m)\u001b[0m\u001b[0;34m\u001b[0m\u001b[0;34m\u001b[0m\u001b[0m\n\u001b[0m",
      "\u001b[0;32m/usr/local/lib/python3.6/dist-packages/lightgbm/engine.py\u001b[0m in \u001b[0;36mtrain\u001b[0;34m(params, train_set, num_boost_round, valid_sets, valid_names, fobj, feval, init_model, feature_name, categorical_feature, early_stopping_rounds, evals_result, verbose_eval, learning_rates, keep_training_booster, callbacks)\u001b[0m\n\u001b[1;32m    247\u001b[0m                                     evaluation_result_list=None))\n\u001b[1;32m    248\u001b[0m \u001b[0;34m\u001b[0m\u001b[0m\n\u001b[0;32m--> 249\u001b[0;31m         \u001b[0mbooster\u001b[0m\u001b[0;34m.\u001b[0m\u001b[0mupdate\u001b[0m\u001b[0;34m(\u001b[0m\u001b[0mfobj\u001b[0m\u001b[0;34m=\u001b[0m\u001b[0mfobj\u001b[0m\u001b[0;34m)\u001b[0m\u001b[0;34m\u001b[0m\u001b[0;34m\u001b[0m\u001b[0m\n\u001b[0m\u001b[1;32m    250\u001b[0m \u001b[0;34m\u001b[0m\u001b[0m\n\u001b[1;32m    251\u001b[0m         \u001b[0mevaluation_result_list\u001b[0m \u001b[0;34m=\u001b[0m \u001b[0;34m[\u001b[0m\u001b[0;34m]\u001b[0m\u001b[0;34m\u001b[0m\u001b[0;34m\u001b[0m\u001b[0m\n",
      "\u001b[0;32m/usr/local/lib/python3.6/dist-packages/lightgbm/basic.py\u001b[0m in \u001b[0;36mupdate\u001b[0;34m(self, train_set, fobj)\u001b[0m\n\u001b[1;32m   1924\u001b[0m             _safe_call(_LIB.LGBM_BoosterUpdateOneIter(\n\u001b[1;32m   1925\u001b[0m                 \u001b[0mself\u001b[0m\u001b[0;34m.\u001b[0m\u001b[0mhandle\u001b[0m\u001b[0;34m,\u001b[0m\u001b[0;34m\u001b[0m\u001b[0;34m\u001b[0m\u001b[0m\n\u001b[0;32m-> 1926\u001b[0;31m                 ctypes.byref(is_finished)))\n\u001b[0m\u001b[1;32m   1927\u001b[0m             \u001b[0mself\u001b[0m\u001b[0;34m.\u001b[0m\u001b[0m__is_predicted_cur_iter\u001b[0m \u001b[0;34m=\u001b[0m \u001b[0;34m[\u001b[0m\u001b[0;32mFalse\u001b[0m \u001b[0;32mfor\u001b[0m \u001b[0m_\u001b[0m \u001b[0;32min\u001b[0m \u001b[0mrange_\u001b[0m\u001b[0;34m(\u001b[0m\u001b[0mself\u001b[0m\u001b[0;34m.\u001b[0m\u001b[0m__num_dataset\u001b[0m\u001b[0;34m)\u001b[0m\u001b[0;34m]\u001b[0m\u001b[0;34m\u001b[0m\u001b[0;34m\u001b[0m\u001b[0m\n\u001b[1;32m   1928\u001b[0m             \u001b[0;32mreturn\u001b[0m \u001b[0mis_finished\u001b[0m\u001b[0;34m.\u001b[0m\u001b[0mvalue\u001b[0m \u001b[0;34m==\u001b[0m \u001b[0;36m1\u001b[0m\u001b[0;34m\u001b[0m\u001b[0;34m\u001b[0m\u001b[0m\n",
      "\u001b[0;31mKeyboardInterrupt\u001b[0m: "
     ]
    }
   ],
   "source": [
    "d_train = lgb.Dataset(X_train, label=Y_train)\n",
    "d_valid = lgb.Dataset(X_val, label=Y_val)\n",
    "watchlist = [d_valid]\n",
    "reg = lgb.train(params, d_train, n_estimators, watchlist, verbose_eval=1)"
   ]
  },
  {
   "cell_type": "code",
   "execution_count": 11,
   "metadata": {
    "scrolled": true
   },
   "outputs": [
    {
     "data": {
      "text/plain": [
       "475851.1325406793"
      ]
     },
     "execution_count": 11,
     "metadata": {},
     "output_type": "execute_result"
    }
   ],
   "source": [
    "Y_pred = reg.predict(X_val)\n",
    "mean_absolute_error(Y_val,Y_pred)"
   ]
  },
  {
   "cell_type": "code",
   "execution_count": 24,
   "metadata": {},
   "outputs": [],
   "source": [
    "# preparamos el csv de respuesta para kaggle"
   ]
  },
  {
   "cell_type": "code",
   "execution_count": 25,
   "metadata": {},
   "outputs": [],
   "source": [
    "ids = test.index.values\n",
    "X_test = test.values"
   ]
  },
  {
   "cell_type": "code",
   "execution_count": 26,
   "metadata": {},
   "outputs": [],
   "source": [
    "test_predict = reg.predict(X_test)\n",
    "escribir_respuesta(ids, test_predict)"
   ]
  },
  {
   "cell_type": "code",
   "execution_count": null,
   "metadata": {},
   "outputs": [],
   "source": []
  },
  {
   "cell_type": "code",
   "execution_count": null,
   "metadata": {},
   "outputs": [],
   "source": [
    "# best params so far\n",
    "params = {\n",
    "    'boosting_type': 'gbdt',\n",
    "    'objective': 'regression',\n",
    "    'metric': 'mae',\n",
    "    'max_depth': 14, \n",
    "    'learning_rate': 0.05,\n",
    "    'verbose': 0, \n",
    "    'early_stopping_round': 20}\n",
    "n_estimators=5000"
   ]
  },
  {
   "cell_type": "markdown",
   "metadata": {},
   "source": [
    "### Modelo: KNN"
   ]
  },
  {
   "cell_type": "code",
   "execution_count": 3,
   "metadata": {},
   "outputs": [],
   "source": [
    "# ..."
   ]
  },
  {
   "cell_type": "markdown",
   "metadata": {},
   "source": [
    "### Modelo: Neural Networks"
   ]
  },
  {
   "cell_type": "code",
   "execution_count": 3,
   "metadata": {},
   "outputs": [],
   "source": [
    "# ..."
   ]
  }
 ],
 "metadata": {
  "kernelspec": {
   "display_name": "Python 3",
   "language": "python",
   "name": "python3"
  },
  "language_info": {
   "codemirror_mode": {
    "name": "ipython",
    "version": 3
   },
   "file_extension": ".py",
   "mimetype": "text/x-python",
   "name": "python",
   "nbconvert_exporter": "python",
   "pygments_lexer": "ipython3",
   "version": "3.6.8"
  }
 },
 "nbformat": 4,
 "nbformat_minor": 4
}
