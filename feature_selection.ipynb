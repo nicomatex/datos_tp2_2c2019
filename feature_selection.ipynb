{
 "cells": [
  {
   "cell_type": "markdown",
   "metadata": {},
   "source": [
    "# feature_selection\n",
    "\n",
    "El objetivo de este notebook es, una vez generadas las features en `feature_generation` sera elegir cuales son las que mas informacion aportan al modelo, porque hemos generado mas de 300 features, generando una dimensionalidad altisima en nuestro dataset final y seguramente, introduciendo ruido. Eligiendo las mejores k features podremos evitar esto y mejorar resultados."
   ]
  },
  {
   "cell_type": "markdown",
   "metadata": {},
   "source": [
    "<hr>"
   ]
  },
  {
   "cell_type": "code",
   "execution_count": 1,
   "metadata": {},
   "outputs": [],
   "source": [
    "import pandas as pd\n",
    "import numpy as np\n",
    "import itertools\n",
    "from datetime import datetime\n",
    "\n",
    "from sklearn.model_selection import train_test_split\n",
    "from sklearn.metrics import mean_absolute_error\n",
    "from sklearn import metrics"
   ]
  },
  {
   "cell_type": "code",
   "execution_count": 2,
   "metadata": {},
   "outputs": [
    {
     "name": "stdout",
     "output_type": "stream",
     "text": [
      "Importing Jupyter notebook from pre_processing.ipynb\n",
      "Importing Jupyter notebook from feature_generation.ipynb\n",
      "Importing Jupyter notebook from feature_selection.ipynb\n"
     ]
    }
   ],
   "source": [
    "import nbimporter\n",
    "\n",
    "import pre_processing\n",
    "import feature_generation\n",
    "\n",
    "seed = 42"
   ]
  },
  {
   "cell_type": "code",
   "execution_count": 3,
   "metadata": {},
   "outputs": [],
   "source": [
    "import lightgbm as lgb\n",
    "# parametros para lograr buena rapidez\n",
    "params = {\n",
    "    'boosting_type': 'gbdt',\n",
    "    'objective': 'regression',\n",
    "    'metric': 'mae',\n",
    "    'max_depth': 7,\n",
    "    'num_leaves': 80,\n",
    "    'learning_rate': 0.2,\n",
    "    'verbose': 0,\n",
    "    'n_jobs': 2,\n",
    "    'save_binary': True}\n",
    "\n",
    "stopping_round = 50\n",
    "n_estimators=10000"
   ]
  },
  {
   "cell_type": "markdown",
   "metadata": {},
   "source": [
    "<hr>"
   ]
  },
  {
   "cell_type": "markdown",
   "metadata": {},
   "source": [
    "# Mejor alternativa para cada categoria\n",
    "En `feature_generation` generamos muchas features para cada categoria, con distintos metodos. Por ejemplo, en el caso de `tipodepropiedad`, probamos distintos metodos de encoding. Ahora intentaremos ver, mediante un proceso de seleccion rapida, cual es el mejor metodo para cada caso.\n",
    "\n",
    "Para probar esto de forma factible (porque si quisieramos probar todas las combinaciones esto requeriria muchisimo timepo) vamos a suponer que nuestras categorias de features son independientes (cosa que sabemos que no es verdad) y analizaremos el caso de cada categoria por separado, para luego quedarnos con la mejor alternativa.\n",
    "\n",
    "El regresor que utilizaremos para obtener la metrica sera **LightGBM** por su grandiosa velocidad y buenos resultados."
   ]
  },
  {
   "cell_type": "markdown",
   "metadata": {},
   "source": [
    "<hr>\n",
    "\n",
    "### Definimos funciones a utilizar:"
   ]
  },
  {
   "cell_type": "code",
   "execution_count": 4,
   "metadata": {},
   "outputs": [],
   "source": [
    "def top3(a, b, c, d):\n",
    "    valores = [a,b,c,d]\n",
    "    first = min(valores, key=lambda x: x[1])\n",
    "    valores.remove(first)\n",
    "    second = min(valores, key=lambda x: x[1])\n",
    "    valores.remove(second)\n",
    "    third = min(valores, key=lambda x: x[1])\n",
    "    valores.remove(third)\n",
    "    return first, second, third"
   ]
  },
  {
   "cell_type": "code",
   "execution_count": 21,
   "metadata": {},
   "outputs": [],
   "source": [
    "def calcular_mae(subset, categ):    \n",
    "    train = base.copy()\n",
    "    \n",
    "    if (type(subset) == int):\n",
    "        add = df[features[categ][subset]]\n",
    "        train = pd.merge(train, add, how='left', on='id')\n",
    "    elif ((type(subset) == tuple) & (len(subset) > 0)):\n",
    "        for option in subset:\n",
    "            add = df[features[categ][option]]\n",
    "            train = pd.merge(train, add, how='left', on='id')\n",
    "            \n",
    "    X = train.drop((['precio']), axis=1).values\n",
    "    Y = train['precio'].values\n",
    "    X_train, X_val, Y_train, Y_val = train_test_split(X, Y, test_size=0.2, random_state=seed)\n",
    "    d_train = lgb.Dataset(X_train, label=Y_train)\n",
    "    d_valid = lgb.Dataset(X_val, label=Y_val)\n",
    "    watchlist = [d_valid]\n",
    "    reg = lgb.train(params, d_train, n_estimators, watchlist, verbose_eval=False,\\\n",
    "                    early_stopping_rounds = stopping_round)\n",
    "    Y_pred = reg.predict(X_val)\n",
    "    return mean_absolute_error(Y_val,Y_pred)"
   ]
  },
  {
   "cell_type": "code",
   "execution_count": 6,
   "metadata": {},
   "outputs": [],
   "source": [
    "def calcular_best_subsets(categoria, lr=0.2):\n",
    "    first = ((-1), 999999)\n",
    "    second = ((-2), 9999999)\n",
    "    third = ((-3), 99999999)\n",
    "\n",
    "    params['learning_rate'] = lr\n",
    "    posibilidades = [i for i in range(len(features[categoria].keys())-1)]\n",
    "    \n",
    "    for L in range(0, len(posibilidades)+1):\n",
    "        for subset in itertools.combinations(posibilidades, L):\n",
    "            print(subset)\n",
    "            mae = calcular_mae(subset, categoria)\n",
    "            current = (subset, mae)\n",
    "            first, second, third = top3(current, first, second, third)\n",
    "            \n",
    "    return (first, second, third)"
   ]
  },
  {
   "cell_type": "code",
   "execution_count": 7,
   "metadata": {},
   "outputs": [],
   "source": [
    "def imprimir_resultados(x):\n",
    "    first = x[0]\n",
    "    second = x[1]\n",
    "    third = x[2]\n",
    "\n",
    "    print(f\"  | 1 | Combinacion: {first[0]} - MAE: {first[1]}\")\n",
    "    print(f\"  | 2 | Combinacion: {second[0]} - MAE: {second[1]}\")\n",
    "    print(f\"  | 3 | Combinacion: {third[0]} - MAE: {third[1]}\")"
   ]
  },
  {
   "cell_type": "markdown",
   "metadata": {},
   "source": [
    "### Ejecucion de las pruebas:\n",
    "Partiremos de un dataset con la informacion basica, al que luego le agregaremos las distintas features."
   ]
  },
  {
   "cell_type": "code",
   "execution_count": 8,
   "metadata": {},
   "outputs": [],
   "source": [
    "df,_ = pre_processing.load_featured_datasets()"
   ]
  },
  {
   "cell_type": "code",
   "execution_count": 9,
   "metadata": {},
   "outputs": [],
   "source": [
    "features = feature_generation.get_features()"
   ]
  },
  {
   "cell_type": "code",
   "execution_count": 10,
   "metadata": {},
   "outputs": [],
   "source": [
    "base = df[['antiguedad', 'habitaciones', 'garages', 'banos', 'metroscubiertos', 'metrostotales',\n",
    "           'idzona', 'lat', 'lng', 'gimnasio', 'usosmultiples', 'piscina', 'escuelascercanas',\n",
    "           'centroscomercialescercanos', 'precio']].copy()"
   ]
  },
  {
   "cell_type": "markdown",
   "metadata": {},
   "source": [
    "El proceso sera asi:\n",
    "\n",
    "Para cada **categoria de feature**, vamos a probar todas las combinaciones entre sus alternativas, para quedarnos con la mejor combinacion de features en cada categoria.\n",
    "Este es un proceso muy costoso en tiempo, por lo que se corre una vez y se guardan los resultados para ser utilizados directamente. Separaremos el proceso para cada categoria, para que si en una categoria cambiamos features, podamos ejecutar nuevamente la seleccion para dicha categoria."
   ]
  },
  {
   "cell_type": "code",
   "execution_count": 11,
   "metadata": {
    "scrolled": false
   },
   "outputs": [
    {
     "data": {
      "text/plain": [
       "dict_keys(['metros', 'tipodepropiedad', 'provincia', 'ciudad', 'fecha', 'descripcion', 'metricas', 'habitaciones', 'antiguedad', 'extras', 'volcanes', 'idzona', 'class', 'otros'])"
      ]
     },
     "execution_count": 11,
     "metadata": {},
     "output_type": "execute_result"
    }
   ],
   "source": [
    "features.keys()"
   ]
  },
  {
   "cell_type": "code",
   "execution_count": 12,
   "metadata": {},
   "outputs": [],
   "source": [
    "features_selected = {}"
   ]
  },
  {
   "cell_type": "markdown",
   "metadata": {},
   "source": [
    "<hr>\n",
    "\n",
    "# Metros"
   ]
  },
  {
   "cell_type": "code",
   "execution_count": 12,
   "metadata": {},
   "outputs": [
    {
     "name": "stdout",
     "output_type": "stream",
     "text": [
      "2019-11-19 02:14:03.319867\n"
     ]
    }
   ],
   "source": [
    "print(datetime.now())"
   ]
  },
  {
   "cell_type": "code",
   "execution_count": 1,
   "metadata": {
    "scrolled": true
   },
   "outputs": [],
   "source": [
    "#%%time\n",
    "#resultados = calcular_best_subsets('metros')"
   ]
  },
  {
   "cell_type": "code",
   "execution_count": 14,
   "metadata": {
    "scrolled": true
   },
   "outputs": [
    {
     "name": "stdout",
     "output_type": "stream",
     "text": [
      "2019-11-19 02:18:39.669611\n",
      "  | 1 | Combinacion: (0, 1, 2, 3) - MAE: 636670.829008086\n",
      "  | 2 | Combinacion: (2, 3) - MAE: 637210.7547316124\n",
      "  | 3 | Combinacion: (0, 2, 3) - MAE: 637587.5465275414\n"
     ]
    }
   ],
   "source": [
    "print(datetime.now())\n",
    "imprimir_resultados(resultados)"
   ]
  },
  {
   "cell_type": "code",
   "execution_count": 13,
   "metadata": {},
   "outputs": [],
   "source": [
    "features_selected['metros'] = [(0,1,2,3), (2,3)]"
   ]
  },
  {
   "cell_type": "markdown",
   "metadata": {},
   "source": [
    "<hr>\n",
    "\n",
    "# Tipo de propiedad"
   ]
  },
  {
   "cell_type": "code",
   "execution_count": 15,
   "metadata": {},
   "outputs": [
    {
     "name": "stdout",
     "output_type": "stream",
     "text": [
      "2019-11-19 02:18:39.677876\n"
     ]
    }
   ],
   "source": [
    "print(datetime.now())"
   ]
  },
  {
   "cell_type": "code",
   "execution_count": 2,
   "metadata": {
    "scrolled": true
   },
   "outputs": [],
   "source": [
    "#%%time\n",
    "#resultados = calcular_best_subsets('tipodepropiedad')"
   ]
  },
  {
   "cell_type": "code",
   "execution_count": 17,
   "metadata": {
    "scrolled": false
   },
   "outputs": [
    {
     "name": "stdout",
     "output_type": "stream",
     "text": [
      "2019-11-19 02:58:58.177046\n",
      "  | 1 | Combinacion: (2, 3) - MAE: 610910.0757500499\n",
      "  | 2 | Combinacion: (0, 1, 2, 4) - MAE: 611011.9991529876\n",
      "  | 3 | Combinacion: (0, 1, 2) - MAE: 611011.9991529876\n"
     ]
    }
   ],
   "source": [
    "print(datetime.now())\n",
    "imprimir_resultados(resultados)"
   ]
  },
  {
   "cell_type": "code",
   "execution_count": 14,
   "metadata": {},
   "outputs": [],
   "source": [
    "features_selected['tipodepropiedad'] = [(2,3), (0,1,2)]"
   ]
  },
  {
   "cell_type": "markdown",
   "metadata": {},
   "source": [
    "<hr>\n",
    "\n",
    "# Provincia"
   ]
  },
  {
   "cell_type": "code",
   "execution_count": 18,
   "metadata": {},
   "outputs": [
    {
     "name": "stdout",
     "output_type": "stream",
     "text": [
      "2019-11-19 02:58:58.189841\n"
     ]
    }
   ],
   "source": [
    "print(datetime.now())"
   ]
  },
  {
   "cell_type": "code",
   "execution_count": 3,
   "metadata": {
    "scrolled": true
   },
   "outputs": [],
   "source": [
    "#%%time\n",
    "#resultados = calcular_best_subsets('provincia')"
   ]
  },
  {
   "cell_type": "code",
   "execution_count": 20,
   "metadata": {
    "scrolled": false
   },
   "outputs": [
    {
     "name": "stdout",
     "output_type": "stream",
     "text": [
      "2019-11-19 03:39:51.342462\n",
      "  | 1 | Combinacion: (3, 4, 5) - MAE: 618267.5602511382\n",
      "  | 2 | Combinacion: (3, 5) - MAE: 618267.5602511382\n",
      "  | 3 | Combinacion: (0, 3, 4, 5) - MAE: 618813.3670313193\n"
     ]
    }
   ],
   "source": [
    "print(datetime.now())\n",
    "imprimir_resultados(resultados)"
   ]
  },
  {
   "cell_type": "code",
   "execution_count": 15,
   "metadata": {},
   "outputs": [],
   "source": [
    "features_selected['provincia'] = [(3,5), (0,3,4,5)]"
   ]
  },
  {
   "cell_type": "markdown",
   "metadata": {},
   "source": [
    "<hr>\n",
    "\n",
    "# Ciudad"
   ]
  },
  {
   "cell_type": "code",
   "execution_count": 21,
   "metadata": {},
   "outputs": [
    {
     "name": "stdout",
     "output_type": "stream",
     "text": [
      "2019-11-19 03:39:51.352174\n"
     ]
    }
   ],
   "source": [
    "print(datetime.now())"
   ]
  },
  {
   "cell_type": "code",
   "execution_count": 4,
   "metadata": {
    "scrolled": true
   },
   "outputs": [],
   "source": [
    "#%%time\n",
    "#resultados = calcular_best_subsets('ciudad')"
   ]
  },
  {
   "cell_type": "code",
   "execution_count": 23,
   "metadata": {
    "scrolled": true
   },
   "outputs": [
    {
     "name": "stdout",
     "output_type": "stream",
     "text": [
      "2019-11-19 03:59:24.905166\n",
      "  | 1 | Combinacion: (1, 2, 3, 5) - MAE: 601692.8675271927\n",
      "  | 2 | Combinacion: (0, 2, 3, 5) - MAE: 601872.0072546843\n",
      "  | 3 | Combinacion: (0, 2, 3, 4, 5) - MAE: 602145.182346223\n"
     ]
    }
   ],
   "source": [
    "print(datetime.now())\n",
    "imprimir_resultados(resultados)"
   ]
  },
  {
   "cell_type": "code",
   "execution_count": 16,
   "metadata": {},
   "outputs": [],
   "source": [
    "features_selected['ciudad'] = [(1, 2, 3, 5), (0, 2, 3, 5)]"
   ]
  },
  {
   "cell_type": "markdown",
   "metadata": {},
   "source": [
    "<hr>\n",
    "\n",
    "# Fecha"
   ]
  },
  {
   "cell_type": "code",
   "execution_count": 24,
   "metadata": {},
   "outputs": [
    {
     "name": "stdout",
     "output_type": "stream",
     "text": [
      "2019-11-19 03:59:24.915204\n"
     ]
    }
   ],
   "source": [
    "print(datetime.now())"
   ]
  },
  {
   "cell_type": "code",
   "execution_count": 5,
   "metadata": {
    "scrolled": true
   },
   "outputs": [],
   "source": [
    "#%%time\n",
    "#resultados = calcular_best_subsets('fecha')"
   ]
  },
  {
   "cell_type": "code",
   "execution_count": 26,
   "metadata": {
    "scrolled": true
   },
   "outputs": [
    {
     "name": "stdout",
     "output_type": "stream",
     "text": [
      "2019-11-19 06:42:03.164536\n",
      "  | 1 | Combinacion: (5, 7) - MAE: 605998.596152037\n",
      "  | 2 | Combinacion: (5, 6) - MAE: 606148.020139398\n",
      "  | 3 | Combinacion: (7,) - MAE: 606344.7326298917\n"
     ]
    }
   ],
   "source": [
    "print(datetime.now())\n",
    "imprimir_resultados(resultados)"
   ]
  },
  {
   "cell_type": "code",
   "execution_count": 17,
   "metadata": {},
   "outputs": [],
   "source": [
    "features_selected['fecha'] = [(5,7), (5,6)]"
   ]
  },
  {
   "cell_type": "markdown",
   "metadata": {},
   "source": [
    "<hr>\n",
    "\n",
    "# Descripcion"
   ]
  },
  {
   "cell_type": "code",
   "execution_count": 27,
   "metadata": {},
   "outputs": [
    {
     "name": "stdout",
     "output_type": "stream",
     "text": [
      "2019-11-19 06:42:03.175110\n"
     ]
    }
   ],
   "source": [
    "print(datetime.now())"
   ]
  },
  {
   "cell_type": "code",
   "execution_count": 6,
   "metadata": {
    "scrolled": true
   },
   "outputs": [],
   "source": [
    "#%%time\n",
    "#resultados = calcular_best_subsets('descripcion')"
   ]
  },
  {
   "cell_type": "code",
   "execution_count": 29,
   "metadata": {
    "scrolled": true
   },
   "outputs": [
    {
     "name": "stdout",
     "output_type": "stream",
     "text": [
      "2019-11-19 09:22:15.371072\n",
      "  | 1 | Combinacion: (0, 1, 4, 5, 6, 8) - MAE: 631227.1441257835\n",
      "  | 2 | Combinacion: (0, 1, 2, 6, 7, 8) - MAE: 631328.238029824\n",
      "  | 3 | Combinacion: (0, 1, 2, 5, 6) - MAE: 631665.4840050902\n"
     ]
    }
   ],
   "source": [
    "print(datetime.now())\n",
    "imprimir_resultados(resultados)"
   ]
  },
  {
   "cell_type": "code",
   "execution_count": 18,
   "metadata": {},
   "outputs": [],
   "source": [
    "features_selected['descripcion'] = [(0, 1, 4, 5, 6, 8), (0, 1, 2, 6, 7, 8)]"
   ]
  },
  {
   "cell_type": "markdown",
   "metadata": {},
   "source": [
    "<hr>\n",
    "\n",
    "# Metricas"
   ]
  },
  {
   "cell_type": "code",
   "execution_count": 30,
   "metadata": {},
   "outputs": [
    {
     "name": "stdout",
     "output_type": "stream",
     "text": [
      "2019-11-19 09:22:15.383528\n"
     ]
    }
   ],
   "source": [
    "print(datetime.now())"
   ]
  },
  {
   "cell_type": "code",
   "execution_count": 7,
   "metadata": {
    "scrolled": true
   },
   "outputs": [],
   "source": [
    "#%%time\n",
    "#resultados = calcular_best_subsets('metricas')"
   ]
  },
  {
   "cell_type": "code",
   "execution_count": 32,
   "metadata": {
    "scrolled": true
   },
   "outputs": [
    {
     "name": "stdout",
     "output_type": "stream",
     "text": [
      "2019-11-19 09:23:20.585960\n",
      "  | 1 | Combinacion: (0, 1) - MAE: 584996.588460809\n",
      "  | 2 | Combinacion: (0,) - MAE: 609343.4729995888\n",
      "  | 3 | Combinacion: (1,) - MAE: 612121.196021603\n"
     ]
    }
   ],
   "source": [
    "print(datetime.now())\n",
    "imprimir_resultados(resultados)"
   ]
  },
  {
   "cell_type": "code",
   "execution_count": 19,
   "metadata": {},
   "outputs": [],
   "source": [
    "features_selected['metricas'] = [(0,1), (0,)]"
   ]
  },
  {
   "cell_type": "markdown",
   "metadata": {},
   "source": [
    "<hr>\n",
    "\n",
    "# Habitaciones"
   ]
  },
  {
   "cell_type": "code",
   "execution_count": 33,
   "metadata": {},
   "outputs": [
    {
     "name": "stdout",
     "output_type": "stream",
     "text": [
      "2019-11-19 09:23:20.594490\n"
     ]
    }
   ],
   "source": [
    "print(datetime.now())"
   ]
  },
  {
   "cell_type": "code",
   "execution_count": 8,
   "metadata": {
    "scrolled": true
   },
   "outputs": [],
   "source": [
    "#%%time\n",
    "#resultados = calcular_best_subsets('habitaciones')"
   ]
  },
  {
   "cell_type": "code",
   "execution_count": 35,
   "metadata": {
    "scrolled": true
   },
   "outputs": [
    {
     "name": "stdout",
     "output_type": "stream",
     "text": [
      "2019-11-19 09:25:33.942816\n",
      "  | 1 | Combinacion: (1, 2) - MAE: 639702.7235279069\n",
      "  | 2 | Combinacion: (2,) - MAE: 639702.7235279069\n",
      "  | 3 | Combinacion: (1,) - MAE: 639702.7235279069\n"
     ]
    }
   ],
   "source": [
    "print(datetime.now())\n",
    "imprimir_resultados(resultados)"
   ]
  },
  {
   "cell_type": "code",
   "execution_count": 22,
   "metadata": {},
   "outputs": [],
   "source": [
    "features_selected['habitaciones'] = [(1,2), (1,)]"
   ]
  },
  {
   "cell_type": "markdown",
   "metadata": {},
   "source": [
    "<hr>\n",
    "\n",
    "# Antiguedad"
   ]
  },
  {
   "cell_type": "code",
   "execution_count": 36,
   "metadata": {},
   "outputs": [
    {
     "name": "stdout",
     "output_type": "stream",
     "text": [
      "2019-11-19 09:25:33.951315\n"
     ]
    }
   ],
   "source": [
    "print(datetime.now())"
   ]
  },
  {
   "cell_type": "code",
   "execution_count": 9,
   "metadata": {
    "scrolled": true
   },
   "outputs": [],
   "source": [
    "#%%time\n",
    "#resultados = calcular_best_subsets('antiguedad')"
   ]
  },
  {
   "cell_type": "code",
   "execution_count": 38,
   "metadata": {
    "scrolled": true
   },
   "outputs": [
    {
     "name": "stdout",
     "output_type": "stream",
     "text": [
      "2019-11-19 09:43:19.089943\n",
      "  | 1 | Combinacion: (0,) - MAE: 638696.0290467282\n",
      "  | 2 | Combinacion: (1, 2) - MAE: 638938.4152738795\n",
      "  | 3 | Combinacion: (2,) - MAE: 638938.4152738795\n"
     ]
    }
   ],
   "source": [
    "print(datetime.now())\n",
    "imprimir_resultados(resultados)"
   ]
  },
  {
   "cell_type": "code",
   "execution_count": 23,
   "metadata": {},
   "outputs": [],
   "source": [
    "features_selected['antiguedad'] = [(0,), (2,)]"
   ]
  },
  {
   "cell_type": "markdown",
   "metadata": {},
   "source": [
    "<hr>\n",
    "\n",
    "# Extras"
   ]
  },
  {
   "cell_type": "code",
   "execution_count": 39,
   "metadata": {},
   "outputs": [
    {
     "name": "stdout",
     "output_type": "stream",
     "text": [
      "2019-11-19 09:43:19.100882\n"
     ]
    }
   ],
   "source": [
    "print(datetime.now())"
   ]
  },
  {
   "cell_type": "code",
   "execution_count": 10,
   "metadata": {
    "scrolled": true
   },
   "outputs": [],
   "source": [
    "#%%time\n",
    "#resultados = calcular_best_subsets('extras')"
   ]
  },
  {
   "cell_type": "code",
   "execution_count": 41,
   "metadata": {
    "scrolled": true
   },
   "outputs": [
    {
     "name": "stdout",
     "output_type": "stream",
     "text": [
      "2019-11-19 09:47:42.226785\n",
      "  | 1 | Combinacion: (1, 3) - MAE: 607965.9778791349\n",
      "  | 2 | Combinacion: (1,) - MAE: 609637.5290293088\n",
      "  | 3 | Combinacion: (0, 1) - MAE: 610674.9637204745\n"
     ]
    }
   ],
   "source": [
    "print(datetime.now())\n",
    "imprimir_resultados(resultados)"
   ]
  },
  {
   "cell_type": "code",
   "execution_count": 24,
   "metadata": {},
   "outputs": [],
   "source": [
    "features_selected['extras'] = [(1,3), (1,)]"
   ]
  },
  {
   "cell_type": "markdown",
   "metadata": {},
   "source": [
    "<hr>\n",
    "\n",
    "# Volcanes"
   ]
  },
  {
   "cell_type": "code",
   "execution_count": 42,
   "metadata": {},
   "outputs": [
    {
     "name": "stdout",
     "output_type": "stream",
     "text": [
      "2019-11-19 09:47:42.236411\n"
     ]
    }
   ],
   "source": [
    "print(datetime.now())"
   ]
  },
  {
   "cell_type": "code",
   "execution_count": 11,
   "metadata": {
    "scrolled": true
   },
   "outputs": [],
   "source": [
    "#%%time\n",
    "#resultados = calcular_best_subsets('volcanes')"
   ]
  },
  {
   "cell_type": "code",
   "execution_count": 44,
   "metadata": {
    "scrolled": false
   },
   "outputs": [
    {
     "name": "stdout",
     "output_type": "stream",
     "text": [
      "2019-11-19 09:48:54.050882\n",
      "  | 1 | Combinacion: (0,) - MAE: 639601.9486926179\n",
      "  | 2 | Combinacion: (0, 1) - MAE: 640206.3664188283\n",
      "  | 3 | Combinacion: (1,) - MAE: 640206.3664188283\n"
     ]
    }
   ],
   "source": [
    "print(datetime.now())\n",
    "imprimir_resultados(resultados)"
   ]
  },
  {
   "cell_type": "code",
   "execution_count": 25,
   "metadata": {},
   "outputs": [],
   "source": [
    "features_selected['volcanes'] = [(0,), (0,1)]"
   ]
  },
  {
   "cell_type": "markdown",
   "metadata": {},
   "source": [
    "<hr>\n",
    "\n",
    "# ID Zona"
   ]
  },
  {
   "cell_type": "code",
   "execution_count": 45,
   "metadata": {},
   "outputs": [
    {
     "name": "stdout",
     "output_type": "stream",
     "text": [
      "2019-11-19 09:48:54.059466\n"
     ]
    }
   ],
   "source": [
    "print(datetime.now())"
   ]
  },
  {
   "cell_type": "code",
   "execution_count": 12,
   "metadata": {
    "scrolled": true
   },
   "outputs": [],
   "source": [
    "#%%time\n",
    "#resultados = calcular_best_subsets('idzona')"
   ]
  },
  {
   "cell_type": "code",
   "execution_count": 47,
   "metadata": {
    "scrolled": true
   },
   "outputs": [
    {
     "name": "stdout",
     "output_type": "stream",
     "text": [
      "2019-11-19 09:57:29.245997\n",
      "  | 1 | Combinacion: (0, 1, 4) - MAE: 570372.429341848\n",
      "  | 2 | Combinacion: (0, 1, 3) - MAE: 570437.0901833787\n",
      "  | 3 | Combinacion: (0, 4) - MAE: 571177.1939581885\n"
     ]
    }
   ],
   "source": [
    "print(datetime.now())\n",
    "imprimir_resultados(resultados)"
   ]
  },
  {
   "cell_type": "code",
   "execution_count": 26,
   "metadata": {},
   "outputs": [],
   "source": [
    "features_selected['idzona'] = [(0,1,4), (0,1,3)]"
   ]
  },
  {
   "cell_type": "markdown",
   "metadata": {},
   "source": [
    "<hr>\n",
    "Como dijimos anteriormente por tratarse de un proceso costoso, hardcodeamos los resultados obtenidos para poder utilizarlos sin tener que correr nuevamente este notebook:"
   ]
  },
  {
   "cell_type": "code",
   "execution_count": 1,
   "metadata": {},
   "outputs": [],
   "source": [
    "def get_selected_dataframe(df, precio=True, aniomes=False):\n",
    "    features = feature_generation.get_features()\n",
    "    \n",
    "    base = ['antiguedad', 'habitaciones', 'garages', 'banos', 'metroscubiertos', 'metrostotales',\n",
    "           'idzona', 'lat', 'lng', 'gimnasio', 'usosmultiples', 'piscina', 'escuelascercanas',\n",
    "           'centroscomercialescercanos']\n",
    "    \n",
    "    selection = {'metros':[0,1,2,3],\n",
    "                 'tipodepropiedad':[2,3],\n",
    "                 'provincia':[3,5],\n",
    "                 'ciudad':[1,2,3,5],\n",
    "                 'fecha':[5,7],\n",
    "                 'descripcion':[0,1,4,5,6,8],\n",
    "                 'metricas':[0,1],\n",
    "                 'habitaciones':[1,2],\n",
    "                 'antiguedad':[0],\n",
    "                 'extras':[1,3],\n",
    "                 'volcanes':[0],\n",
    "                 'idzona':[0,1,4],\n",
    "                 #'class':[0,1], no tuvo buenos resultados\n",
    "                 'otros':[0,1],\n",
    "                 'metrocuadrado':[0]\n",
    "                }\n",
    "    append = []\n",
    "    \n",
    "    for categoria in selection.keys():\n",
    "        for opcion in selection[categoria]:\n",
    "            append += features[categoria][opcion]\n",
    "    \n",
    "    if precio:\n",
    "        append += ['precio']\n",
    "    \n",
    "    if aniomes:\n",
    "        append += ['aniomes']\n",
    "    \n",
    "    return df[base + append]    "
   ]
  },
  {
   "cell_type": "code",
   "execution_count": 2,
   "metadata": {},
   "outputs": [],
   "source": [
    "def get_full_selected_dataframe(df, precio=True, aniomes=False):\n",
    "    \"\"\"A diferencia del caso anterior, en esta funcion devolveremos un dataframe con muchas mas features,\n",
    "    solamente seleccionando en las categorias que debian ser encodeadas.\"\"\"\n",
    "    \n",
    "    features = feature_generation.get_features()\n",
    "    \n",
    "    base = ['antiguedad', 'habitaciones', 'garages', 'banos', 'metroscubiertos', 'metrostotales',\n",
    "           'idzona', 'lat', 'lng', 'gimnasio', 'usosmultiples', 'piscina', 'escuelascercanas',\n",
    "           'centroscomercialescercanos']\n",
    "    \n",
    "    selection = {'metros':['all'],\n",
    "                 'tipodepropiedad':[2,3],\n",
    "                 'provincia':[3,5],\n",
    "                 'ciudad':[1,2,3,5],\n",
    "                 'fecha':['all'],\n",
    "                 'descripcion':['all'],\n",
    "                 'metricas':['all'],\n",
    "                 'habitaciones':[1,2],\n",
    "                 'antiguedad':[0],\n",
    "                 'extras':['all'],\n",
    "                 'volcanes':['all'],\n",
    "                 'idzona':['all'],\n",
    "                 #'class':[0,1], no tuvo buenos resultados\n",
    "                 'otros':['all'],\n",
    "                 'metrocuadrado':[0],\n",
    "                }\n",
    "    append = []\n",
    "    \n",
    "    for categoria in selection.keys():\n",
    "        for opcion in selection[categoria]:\n",
    "            append += features[categoria][opcion]\n",
    "    \n",
    "    if precio:\n",
    "        append += ['precio']\n",
    "    \n",
    "    if aniomes:\n",
    "        append += ['aniomes']\n",
    "    \n",
    "    return df[base + append]    "
   ]
  },
  {
   "cell_type": "markdown",
   "metadata": {},
   "source": [
    "<hr>\n",
    "\n",
    "# Feature Importance"
   ]
  },
  {
   "cell_type": "code",
   "execution_count": 4,
   "metadata": {},
   "outputs": [],
   "source": [
    "import lightgbm as lgb\n",
    "# parametros para lograr buena rapidez\n",
    "params = {\n",
    "    'num_leaves': 55,\n",
    "    'min_gain_to_split': 0.1,\n",
    "    'min_data_in_leaf': 3000,\n",
    "    'max_depth': 12,\n",
    "    'max_bin': 150,\n",
    "    'feature_fraction': 0.7,\n",
    "    'bagging_freq': 5,\n",
    "    'bagging_fraction': 0.75,\n",
    "    # Parametros que no fueron optimizados:\n",
    "    'boosting_type':'gbdt',\n",
    "    'objective':'regression',\n",
    "    'metric':'mae',\n",
    "    'verbose':0,\n",
    "    'learning_rate':0.1,\n",
    "    'n_jobs': 2,\n",
    "    'save_binary': True,\n",
    "    'early_stopping_round':200\n",
    "}\n",
    "n_estimators=5000\n"
   ]
  },
  {
   "cell_type": "code",
   "execution_count": 121,
   "metadata": {},
   "outputs": [],
   "source": [
    "import matplotlib.pyplot as plt\n",
    "import seaborn as sns\n",
    "import warnings\n",
    "import random\n",
    "warnings.simplefilter(action='ignore', category=FutureWarning)\n",
    "\n",
    "def plotImp(model, X , name, num=25, lgb=False, ci=False):\n",
    "    if not lgb:\n",
    "        feature_imp = pd.DataFrame({'Value':model.feature_importances_,'Feature':X.columns})\n",
    "    else:\n",
    "        feature_imp = pd.DataFrame({'Value':model.feature_importance(),'Feature':X.columns})\n",
    "    \n",
    "    tamanio_vertical = (num)/(2*1.2)\n",
    "\n",
    "    plt.figure(figsize=(18, tamanio_vertical))\n",
    "    \n",
    "    #sns.set(font_scale = 3)\n",
    "    rot = [-.75, -.5, -.25, 0, .25, .5, .75]\n",
    "    sns.barplot(x=\"Value\", y=\"Feature\", data=feature_imp.sort_values(by=\"Value\", ascending=False)[0:num],\n",
    "                palette=sns.cubehelix_palette(num, start=0, rot=random.choice(rot), reverse=True))\n",
    "    \n",
    "    titulo = name+\" Top \"+str(num)+\" Feature Importances\"\n",
    "    if ci:\n",
    "        titulo+= \" (post Cumulative Importance)\"\n",
    "    plt.title(titulo, fontsize=20)\n",
    "    plt.xlabel(\"Importance\", fontsize=18)\n",
    "    plt.ylabel(\"Feature\", fontsize=18)\n",
    "    plt.tick_params(grid_alpha=0.5, labelsize=15)\n",
    "   \n",
    "    plt.tight_layout()\n",
    "    if not ci:\n",
    "        file = name.lower()+\"_feature_importance.png\"\n",
    "    else:\n",
    "        file = name.lower()+\"_ci_feature_importance.png\"\n",
    "    plt.savefig(file)\n",
    "    plt.show()"
   ]
  },
  {
   "cell_type": "code",
   "execution_count": 6,
   "metadata": {},
   "outputs": [],
   "source": [
    "train,_ = pre_processing.load_featured_datasets()"
   ]
  },
  {
   "cell_type": "code",
   "execution_count": 7,
   "metadata": {
    "scrolled": true
   },
   "outputs": [],
   "source": [
    "train = get_selected_dataframe(train)"
   ]
  },
  {
   "cell_type": "code",
   "execution_count": 8,
   "metadata": {
    "scrolled": true
   },
   "outputs": [
    {
     "data": {
      "text/plain": [
       "(240000, 145)"
      ]
     },
     "execution_count": 8,
     "metadata": {},
     "output_type": "execute_result"
    }
   ],
   "source": [
    "train.shape"
   ]
  },
  {
   "cell_type": "markdown",
   "metadata": {},
   "source": [
    "<hr>\n",
    "\n",
    "# Feature Importance: LightGBM"
   ]
  },
  {
   "cell_type": "code",
   "execution_count": 104,
   "metadata": {
    "scrolled": true
   },
   "outputs": [
    {
     "name": "stderr",
     "output_type": "stream",
     "text": [
      "/usr/local/lib/python3.6/dist-packages/lightgbm/engine.py:153: UserWarning: Found `early_stopping_round` in params. Will use it instead of argument\n",
      "  warnings.warn(\"Found `{}` in params. Will use it instead of argument\".format(alias))\n"
     ]
    }
   ],
   "source": [
    "X = train.drop((['precio']), axis=1).values\n",
    "Y = train['precio'].values\n",
    "\n",
    "X_train, X_val, Y_train, Y_val = train_test_split(X, Y, test_size=0.2, random_state=seed)\n",
    "\n",
    "d_train = lgb.Dataset(X_train, label=Y_train)\n",
    "d_valid = lgb.Dataset(X_val, label=Y_val)\n",
    "watchlist = [d_valid]\n",
    "reg = lgb.train(params, d_train, n_estimators, watchlist, verbose_eval=False)"
   ]
  },
  {
   "cell_type": "code",
   "execution_count": 105,
   "metadata": {},
   "outputs": [
    {
     "name": "stdout",
     "output_type": "stream",
     "text": [
      "493611.4333018913\n"
     ]
    }
   ],
   "source": [
    "Y_pred = reg.predict(X_val)\n",
    "print(mean_absolute_error(Y_val,Y_pred))"
   ]
  },
  {
   "cell_type": "code",
   "execution_count": 107,
   "metadata": {
    "scrolled": false
   },
   "outputs": [
    {
     "data": {
      "image/png": "[encoded data removed]",
      "text/plain": [
       "<Figure size 1296x750 with 1 Axes>"
      ]
     },
     "metadata": {},
     "output_type": "display_data"
    }
   ],
   "source": [
    "plotImp(reg, train.drop((['precio']), axis=1), 'LightGBM', 25, lgb=True)"
   ]
  },
  {
   "cell_type": "markdown",
   "metadata": {},
   "source": [
    "<hr>\n",
    "\n",
    "# Feature Importance: XGBoost"
   ]
  },
  {
   "cell_type": "code",
   "execution_count": 108,
   "metadata": {},
   "outputs": [],
   "source": [
    "import xgboost\n",
    "\n",
    "X = train.drop('precio', axis=1).values\n",
    "Y = train['precio'].values\n",
    "\n",
    "X_train, X_val, Y_train, Y_val = train_test_split(X, Y, test_size=0.2, random_state=seed)"
   ]
  },
  {
   "cell_type": "code",
   "execution_count": 109,
   "metadata": {
    "scrolled": true
   },
   "outputs": [
    {
     "name": "stdout",
     "output_type": "stream",
     "text": [
      "[14:57:29] WARNING: /workspace/src/objective/regression_obj.cu:152: reg:linear is now deprecated in favor of reg:squarederror.\n",
      "[14:57:32] INFO: /workspace/src/tree/updater_prune.cc:74: tree pruning end, 1 roots, 3028 extra nodes, 0 pruned nodes, max_depth=12\n",
      "[14:57:35] INFO: /workspace/src/tree/updater_prune.cc:74: tree pruning end, 1 roots, 3020 extra nodes, 0 pruned nodes, max_depth=12\n",
      "[14:57:37] INFO: /workspace/src/tree/updater_prune.cc:74: tree pruning end, 1 roots, 3148 extra nodes, 0 pruned nodes, max_depth=12\n",
      "[14:57:39] INFO: /workspace/src/tree/updater_prune.cc:74: tree pruning end, 1 roots, 3304 extra nodes, 0 pruned nodes, max_depth=12\n",
      "[14:57:41] INFO: /workspace/src/tree/updater_prune.cc:74: tree pruning end, 1 roots, 3228 extra nodes, 0 pruned nodes, max_depth=12\n",
      "[14:57:43] INFO: /workspace/src/tree/updater_prune.cc:74: tree pruning end, 1 roots, 3290 extra nodes, 0 pruned nodes, max_depth=12\n",
      "[14:57:44] INFO: /workspace/src/tree/updater_prune.cc:74: tree pruning end, 1 roots, 3556 extra nodes, 0 pruned nodes, max_depth=12\n",
      "[14:57:47] INFO: /workspace/src/tree/updater_prune.cc:74: tree pruning end, 1 roots, 3520 extra nodes, 0 pruned nodes, max_depth=12\n",
      "[14:57:49] INFO: /workspace/src/tree/updater_prune.cc:74: tree pruning end, 1 roots, 3388 extra nodes, 0 pruned nodes, max_depth=12\n",
      "[14:57:50] INFO: /workspace/src/tree/updater_prune.cc:74: tree pruning end, 1 roots, 3324 extra nodes, 0 pruned nodes, max_depth=12\n",
      "[14:57:52] INFO: /workspace/src/tree/updater_prune.cc:74: tree pruning end, 1 roots, 3410 extra nodes, 0 pruned nodes, max_depth=12\n",
      "[14:57:54] INFO: /workspace/src/tree/updater_prune.cc:74: tree pruning end, 1 roots, 3266 extra nodes, 0 pruned nodes, max_depth=12\n",
      "[14:57:55] INFO: /workspace/src/tree/updater_prune.cc:74: tree pruning end, 1 roots, 3572 extra nodes, 0 pruned nodes, max_depth=12\n",
      "[14:57:57] INFO: /workspace/src/tree/updater_prune.cc:74: tree pruning end, 1 roots, 3448 extra nodes, 0 pruned nodes, max_depth=12\n",
      "[14:57:59] INFO: /workspace/src/tree/updater_prune.cc:74: tree pruning end, 1 roots, 3518 extra nodes, 0 pruned nodes, max_depth=12\n",
      "[14:58:00] INFO: /workspace/src/tree/updater_prune.cc:74: tree pruning end, 1 roots, 3150 extra nodes, 0 pruned nodes, max_depth=12\n",
      "[14:58:02] INFO: /workspace/src/tree/updater_prune.cc:74: tree pruning end, 1 roots, 3056 extra nodes, 0 pruned nodes, max_depth=12\n",
      "[14:58:04] INFO: /workspace/src/tree/updater_prune.cc:74: tree pruning end, 1 roots, 3378 extra nodes, 0 pruned nodes, max_depth=12\n",
      "[14:58:05] INFO: /workspace/src/tree/updater_prune.cc:74: tree pruning end, 1 roots, 3174 extra nodes, 0 pruned nodes, max_depth=12\n",
      "[14:58:07] INFO: /workspace/src/tree/updater_prune.cc:74: tree pruning end, 1 roots, 2932 extra nodes, 0 pruned nodes, max_depth=12\n",
      "[14:58:09] INFO: /workspace/src/tree/updater_prune.cc:74: tree pruning end, 1 roots, 3114 extra nodes, 0 pruned nodes, max_depth=12\n",
      "[14:58:11] INFO: /workspace/src/tree/updater_prune.cc:74: tree pruning end, 1 roots, 2654 extra nodes, 0 pruned nodes, max_depth=12\n",
      "[14:58:14] INFO: /workspace/src/tree/updater_prune.cc:74: tree pruning end, 1 roots, 2812 extra nodes, 0 pruned nodes, max_depth=12\n",
      "[14:58:19] INFO: /workspace/src/tree/updater_prune.cc:74: tree pruning end, 1 roots, 2900 extra nodes, 0 pruned nodes, max_depth=12\n",
      "[14:58:21] INFO: /workspace/src/tree/updater_prune.cc:74: tree pruning end, 1 roots, 2832 extra nodes, 0 pruned nodes, max_depth=12\n",
      "[14:58:24] INFO: /workspace/src/tree/updater_prune.cc:74: tree pruning end, 1 roots, 2788 extra nodes, 0 pruned nodes, max_depth=12\n",
      "[14:58:28] INFO: /workspace/src/tree/updater_prune.cc:74: tree pruning end, 1 roots, 2650 extra nodes, 0 pruned nodes, max_depth=12\n",
      "[14:58:31] INFO: /workspace/src/tree/updater_prune.cc:74: tree pruning end, 1 roots, 2462 extra nodes, 0 pruned nodes, max_depth=12\n",
      "[14:58:33] INFO: /workspace/src/tree/updater_prune.cc:74: tree pruning end, 1 roots, 2578 extra nodes, 0 pruned nodes, max_depth=12\n",
      "[14:58:35] INFO: /workspace/src/tree/updater_prune.cc:74: tree pruning end, 1 roots, 2392 extra nodes, 0 pruned nodes, max_depth=12\n",
      "[14:58:37] INFO: /workspace/src/tree/updater_prune.cc:74: tree pruning end, 1 roots, 2316 extra nodes, 0 pruned nodes, max_depth=12\n",
      "[14:58:39] INFO: /workspace/src/tree/updater_prune.cc:74: tree pruning end, 1 roots, 2476 extra nodes, 0 pruned nodes, max_depth=12\n",
      "[14:58:41] INFO: /workspace/src/tree/updater_prune.cc:74: tree pruning end, 1 roots, 2052 extra nodes, 0 pruned nodes, max_depth=12\n",
      "[14:58:42] INFO: /workspace/src/tree/updater_prune.cc:74: tree pruning end, 1 roots, 2156 extra nodes, 0 pruned nodes, max_depth=12\n",
      "[14:58:44] INFO: /workspace/src/tree/updater_prune.cc:74: tree pruning end, 1 roots, 2212 extra nodes, 0 pruned nodes, max_depth=12\n",
      "[14:58:46] INFO: /workspace/src/tree/updater_prune.cc:74: tree pruning end, 1 roots, 2216 extra nodes, 0 pruned nodes, max_depth=12\n",
      "[14:58:48] INFO: /workspace/src/tree/updater_prune.cc:74: tree pruning end, 1 roots, 2160 extra nodes, 0 pruned nodes, max_depth=12\n",
      "[14:58:50] INFO: /workspace/src/tree/updater_prune.cc:74: tree pruning end, 1 roots, 2002 extra nodes, 0 pruned nodes, max_depth=12\n",
      "[14:58:52] INFO: /workspace/src/tree/updater_prune.cc:74: tree pruning end, 1 roots, 2046 extra nodes, 0 pruned nodes, max_depth=12\n",
      "[14:58:54] INFO: /workspace/src/tree/updater_prune.cc:74: tree pruning end, 1 roots, 1900 extra nodes, 0 pruned nodes, max_depth=12\n",
      "[14:58:55] INFO: /workspace/src/tree/updater_prune.cc:74: tree pruning end, 1 roots, 2000 extra nodes, 0 pruned nodes, max_depth=12\n",
      "[14:58:57] INFO: /workspace/src/tree/updater_prune.cc:74: tree pruning end, 1 roots, 1680 extra nodes, 0 pruned nodes, max_depth=12\n",
      "[14:59:01] INFO: /workspace/src/tree/updater_prune.cc:74: tree pruning end, 1 roots, 1638 extra nodes, 0 pruned nodes, max_depth=12\n",
      "[14:59:03] INFO: /workspace/src/tree/updater_prune.cc:74: tree pruning end, 1 roots, 1718 extra nodes, 0 pruned nodes, max_depth=12\n",
      "[14:59:04] INFO: /workspace/src/tree/updater_prune.cc:74: tree pruning end, 1 roots, 1606 extra nodes, 0 pruned nodes, max_depth=12\n",
      "[14:59:06] INFO: /workspace/src/tree/updater_prune.cc:74: tree pruning end, 1 roots, 1678 extra nodes, 0 pruned nodes, max_depth=12\n",
      "[14:59:07] INFO: /workspace/src/tree/updater_prune.cc:74: tree pruning end, 1 roots, 1536 extra nodes, 0 pruned nodes, max_depth=12\n",
      "[14:59:09] INFO: /workspace/src/tree/updater_prune.cc:74: tree pruning end, 1 roots, 1544 extra nodes, 0 pruned nodes, max_depth=12\n",
      "[14:59:11] INFO: /workspace/src/tree/updater_prune.cc:74: tree pruning end, 1 roots, 1684 extra nodes, 0 pruned nodes, max_depth=12\n",
      "[14:59:12] INFO: /workspace/src/tree/updater_prune.cc:74: tree pruning end, 1 roots, 1214 extra nodes, 0 pruned nodes, max_depth=12\n",
      "[14:59:14] INFO: /workspace/src/tree/updater_prune.cc:74: tree pruning end, 1 roots, 1138 extra nodes, 0 pruned nodes, max_depth=12\n",
      "[14:59:16] INFO: /workspace/src/tree/updater_prune.cc:74: tree pruning end, 1 roots, 1406 extra nodes, 0 pruned nodes, max_depth=12\n",
      "[14:59:18] INFO: /workspace/src/tree/updater_prune.cc:74: tree pruning end, 1 roots, 1422 extra nodes, 0 pruned nodes, max_depth=12\n",
      "[14:59:20] INFO: /workspace/src/tree/updater_prune.cc:74: tree pruning end, 1 roots, 1216 extra nodes, 0 pruned nodes, max_depth=12\n",
      "[14:59:21] INFO: /workspace/src/tree/updater_prune.cc:74: tree pruning end, 1 roots, 1342 extra nodes, 0 pruned nodes, max_depth=12\n",
      "[14:59:23] INFO: /workspace/src/tree/updater_prune.cc:74: tree pruning end, 1 roots, 1158 extra nodes, 0 pruned nodes, max_depth=12\n",
      "[14:59:25] INFO: /workspace/src/tree/updater_prune.cc:74: tree pruning end, 1 roots, 1244 extra nodes, 0 pruned nodes, max_depth=12\n",
      "[14:59:27] INFO: /workspace/src/tree/updater_prune.cc:74: tree pruning end, 1 roots, 1158 extra nodes, 0 pruned nodes, max_depth=12\n",
      "[14:59:29] INFO: /workspace/src/tree/updater_prune.cc:74: tree pruning end, 1 roots, 1002 extra nodes, 0 pruned nodes, max_depth=12\n",
      "[14:59:31] INFO: /workspace/src/tree/updater_prune.cc:74: tree pruning end, 1 roots, 1244 extra nodes, 0 pruned nodes, max_depth=12\n",
      "[14:59:32] INFO: /workspace/src/tree/updater_prune.cc:74: tree pruning end, 1 roots, 1160 extra nodes, 0 pruned nodes, max_depth=12\n",
      "[14:59:34] INFO: /workspace/src/tree/updater_prune.cc:74: tree pruning end, 1 roots, 1074 extra nodes, 0 pruned nodes, max_depth=12\n"
     ]
    },
    {
     "name": "stdout",
     "output_type": "stream",
     "text": [
      "[14:59:37] INFO: /workspace/src/tree/updater_prune.cc:74: tree pruning end, 1 roots, 860 extra nodes, 0 pruned nodes, max_depth=12\n",
      "[14:59:39] INFO: /workspace/src/tree/updater_prune.cc:74: tree pruning end, 1 roots, 1020 extra nodes, 0 pruned nodes, max_depth=12\n",
      "[14:59:40] INFO: /workspace/src/tree/updater_prune.cc:74: tree pruning end, 1 roots, 1150 extra nodes, 0 pruned nodes, max_depth=12\n",
      "[14:59:42] INFO: /workspace/src/tree/updater_prune.cc:74: tree pruning end, 1 roots, 962 extra nodes, 0 pruned nodes, max_depth=12\n",
      "[14:59:44] INFO: /workspace/src/tree/updater_prune.cc:74: tree pruning end, 1 roots, 916 extra nodes, 0 pruned nodes, max_depth=12\n",
      "[14:59:46] INFO: /workspace/src/tree/updater_prune.cc:74: tree pruning end, 1 roots, 1296 extra nodes, 0 pruned nodes, max_depth=12\n",
      "[14:59:48] INFO: /workspace/src/tree/updater_prune.cc:74: tree pruning end, 1 roots, 1226 extra nodes, 0 pruned nodes, max_depth=12\n",
      "[14:59:49] INFO: /workspace/src/tree/updater_prune.cc:74: tree pruning end, 1 roots, 952 extra nodes, 0 pruned nodes, max_depth=12\n",
      "[14:59:51] INFO: /workspace/src/tree/updater_prune.cc:74: tree pruning end, 1 roots, 848 extra nodes, 0 pruned nodes, max_depth=12\n",
      "[14:59:53] INFO: /workspace/src/tree/updater_prune.cc:74: tree pruning end, 1 roots, 618 extra nodes, 0 pruned nodes, max_depth=12\n",
      "[14:59:55] INFO: /workspace/src/tree/updater_prune.cc:74: tree pruning end, 1 roots, 1278 extra nodes, 0 pruned nodes, max_depth=12\n",
      "[14:59:57] INFO: /workspace/src/tree/updater_prune.cc:74: tree pruning end, 1 roots, 968 extra nodes, 0 pruned nodes, max_depth=12\n",
      "[14:59:59] INFO: /workspace/src/tree/updater_prune.cc:74: tree pruning end, 1 roots, 1148 extra nodes, 0 pruned nodes, max_depth=12\n",
      "[15:00:01] INFO: /workspace/src/tree/updater_prune.cc:74: tree pruning end, 1 roots, 600 extra nodes, 0 pruned nodes, max_depth=12\n",
      "[15:00:03] INFO: /workspace/src/tree/updater_prune.cc:74: tree pruning end, 1 roots, 730 extra nodes, 0 pruned nodes, max_depth=12\n",
      "[15:00:06] INFO: /workspace/src/tree/updater_prune.cc:74: tree pruning end, 1 roots, 816 extra nodes, 0 pruned nodes, max_depth=12\n",
      "[15:00:08] INFO: /workspace/src/tree/updater_prune.cc:74: tree pruning end, 1 roots, 906 extra nodes, 0 pruned nodes, max_depth=12\n",
      "[15:00:10] INFO: /workspace/src/tree/updater_prune.cc:74: tree pruning end, 1 roots, 742 extra nodes, 0 pruned nodes, max_depth=12\n",
      "[15:00:12] INFO: /workspace/src/tree/updater_prune.cc:74: tree pruning end, 1 roots, 336 extra nodes, 0 pruned nodes, max_depth=12\n",
      "[15:00:14] INFO: /workspace/src/tree/updater_prune.cc:74: tree pruning end, 1 roots, 1034 extra nodes, 0 pruned nodes, max_depth=12\n",
      "[15:00:16] INFO: /workspace/src/tree/updater_prune.cc:74: tree pruning end, 1 roots, 824 extra nodes, 0 pruned nodes, max_depth=12\n",
      "[15:00:17] INFO: /workspace/src/tree/updater_prune.cc:74: tree pruning end, 1 roots, 526 extra nodes, 0 pruned nodes, max_depth=12\n",
      "[15:00:20] INFO: /workspace/src/tree/updater_prune.cc:74: tree pruning end, 1 roots, 836 extra nodes, 0 pruned nodes, max_depth=12\n",
      "[15:00:21] INFO: /workspace/src/tree/updater_prune.cc:74: tree pruning end, 1 roots, 858 extra nodes, 0 pruned nodes, max_depth=12\n",
      "[15:00:23] INFO: /workspace/src/tree/updater_prune.cc:74: tree pruning end, 1 roots, 434 extra nodes, 0 pruned nodes, max_depth=12\n",
      "[15:00:25] INFO: /workspace/src/tree/updater_prune.cc:74: tree pruning end, 1 roots, 578 extra nodes, 0 pruned nodes, max_depth=12\n",
      "[15:00:27] INFO: /workspace/src/tree/updater_prune.cc:74: tree pruning end, 1 roots, 766 extra nodes, 0 pruned nodes, max_depth=12\n",
      "[15:00:28] INFO: /workspace/src/tree/updater_prune.cc:74: tree pruning end, 1 roots, 1000 extra nodes, 0 pruned nodes, max_depth=12\n",
      "[15:00:30] INFO: /workspace/src/tree/updater_prune.cc:74: tree pruning end, 1 roots, 408 extra nodes, 0 pruned nodes, max_depth=12\n",
      "[15:00:31] INFO: /workspace/src/tree/updater_prune.cc:74: tree pruning end, 1 roots, 582 extra nodes, 0 pruned nodes, max_depth=12\n",
      "[15:00:32] INFO: /workspace/src/tree/updater_prune.cc:74: tree pruning end, 1 roots, 470 extra nodes, 0 pruned nodes, max_depth=12\n",
      "[15:00:34] INFO: /workspace/src/tree/updater_prune.cc:74: tree pruning end, 1 roots, 640 extra nodes, 0 pruned nodes, max_depth=12\n",
      "[15:00:35] INFO: /workspace/src/tree/updater_prune.cc:74: tree pruning end, 1 roots, 932 extra nodes, 0 pruned nodes, max_depth=12\n",
      "[15:00:36] INFO: /workspace/src/tree/updater_prune.cc:74: tree pruning end, 1 roots, 432 extra nodes, 0 pruned nodes, max_depth=12\n",
      "[15:00:38] INFO: /workspace/src/tree/updater_prune.cc:74: tree pruning end, 1 roots, 798 extra nodes, 0 pruned nodes, max_depth=12\n",
      "[15:00:40] INFO: /workspace/src/tree/updater_prune.cc:74: tree pruning end, 1 roots, 764 extra nodes, 0 pruned nodes, max_depth=12\n",
      "[15:00:41] INFO: /workspace/src/tree/updater_prune.cc:74: tree pruning end, 1 roots, 522 extra nodes, 0 pruned nodes, max_depth=12\n",
      "[15:00:43] INFO: /workspace/src/tree/updater_prune.cc:74: tree pruning end, 1 roots, 368 extra nodes, 0 pruned nodes, max_depth=12\n",
      "[15:00:45] INFO: /workspace/src/tree/updater_prune.cc:74: tree pruning end, 1 roots, 738 extra nodes, 0 pruned nodes, max_depth=12\n",
      "[15:00:47] INFO: /workspace/src/tree/updater_prune.cc:74: tree pruning end, 1 roots, 640 extra nodes, 0 pruned nodes, max_depth=12\n",
      "[15:00:49] INFO: /workspace/src/tree/updater_prune.cc:74: tree pruning end, 1 roots, 486 extra nodes, 0 pruned nodes, max_depth=12\n",
      "[15:00:51] INFO: /workspace/src/tree/updater_prune.cc:74: tree pruning end, 1 roots, 608 extra nodes, 0 pruned nodes, max_depth=12\n",
      "[15:00:52] INFO: /workspace/src/tree/updater_prune.cc:74: tree pruning end, 1 roots, 602 extra nodes, 0 pruned nodes, max_depth=12\n",
      "[15:00:54] INFO: /workspace/src/tree/updater_prune.cc:74: tree pruning end, 1 roots, 266 extra nodes, 0 pruned nodes, max_depth=12\n",
      "[15:00:56] INFO: /workspace/src/tree/updater_prune.cc:74: tree pruning end, 1 roots, 428 extra nodes, 0 pruned nodes, max_depth=12\n",
      "[15:00:57] INFO: /workspace/src/tree/updater_prune.cc:74: tree pruning end, 1 roots, 418 extra nodes, 0 pruned nodes, max_depth=12\n",
      "[15:00:59] INFO: /workspace/src/tree/updater_prune.cc:74: tree pruning end, 1 roots, 608 extra nodes, 0 pruned nodes, max_depth=12\n",
      "[15:01:01] INFO: /workspace/src/tree/updater_prune.cc:74: tree pruning end, 1 roots, 622 extra nodes, 0 pruned nodes, max_depth=12\n",
      "[15:01:03] INFO: /workspace/src/tree/updater_prune.cc:74: tree pruning end, 1 roots, 688 extra nodes, 0 pruned nodes, max_depth=12\n",
      "[15:01:06] INFO: /workspace/src/tree/updater_prune.cc:74: tree pruning end, 1 roots, 934 extra nodes, 0 pruned nodes, max_depth=12\n",
      "[15:01:08] INFO: /workspace/src/tree/updater_prune.cc:74: tree pruning end, 1 roots, 704 extra nodes, 0 pruned nodes, max_depth=12\n",
      "[15:01:09] INFO: /workspace/src/tree/updater_prune.cc:74: tree pruning end, 1 roots, 634 extra nodes, 0 pruned nodes, max_depth=12\n",
      "[15:01:11] INFO: /workspace/src/tree/updater_prune.cc:74: tree pruning end, 1 roots, 608 extra nodes, 0 pruned nodes, max_depth=12\n",
      "[15:01:13] INFO: /workspace/src/tree/updater_prune.cc:74: tree pruning end, 1 roots, 644 extra nodes, 0 pruned nodes, max_depth=12\n",
      "[15:01:15] INFO: /workspace/src/tree/updater_prune.cc:74: tree pruning end, 1 roots, 1092 extra nodes, 0 pruned nodes, max_depth=12\n",
      "[15:01:17] INFO: /workspace/src/tree/updater_prune.cc:74: tree pruning end, 1 roots, 362 extra nodes, 0 pruned nodes, max_depth=12\n",
      "[15:01:19] INFO: /workspace/src/tree/updater_prune.cc:74: tree pruning end, 1 roots, 362 extra nodes, 0 pruned nodes, max_depth=12\n",
      "[15:01:20] INFO: /workspace/src/tree/updater_prune.cc:74: tree pruning end, 1 roots, 574 extra nodes, 0 pruned nodes, max_depth=12\n",
      "[15:01:22] INFO: /workspace/src/tree/updater_prune.cc:74: tree pruning end, 1 roots, 260 extra nodes, 0 pruned nodes, max_depth=12\n",
      "[15:01:24] INFO: /workspace/src/tree/updater_prune.cc:74: tree pruning end, 1 roots, 728 extra nodes, 0 pruned nodes, max_depth=12\n",
      "[15:01:25] INFO: /workspace/src/tree/updater_prune.cc:74: tree pruning end, 1 roots, 420 extra nodes, 0 pruned nodes, max_depth=12\n",
      "[15:01:27] INFO: /workspace/src/tree/updater_prune.cc:74: tree pruning end, 1 roots, 440 extra nodes, 0 pruned nodes, max_depth=12\n",
      "[15:01:30] INFO: /workspace/src/tree/updater_prune.cc:74: tree pruning end, 1 roots, 1132 extra nodes, 0 pruned nodes, max_depth=12\n"
     ]
    },
    {
     "name": "stdout",
     "output_type": "stream",
     "text": [
      "[15:01:31] INFO: /workspace/src/tree/updater_prune.cc:74: tree pruning end, 1 roots, 338 extra nodes, 0 pruned nodes, max_depth=12\n",
      "[15:01:34] INFO: /workspace/src/tree/updater_prune.cc:74: tree pruning end, 1 roots, 446 extra nodes, 0 pruned nodes, max_depth=12\n",
      "[15:01:36] INFO: /workspace/src/tree/updater_prune.cc:74: tree pruning end, 1 roots, 1052 extra nodes, 0 pruned nodes, max_depth=12\n",
      "[15:01:37] INFO: /workspace/src/tree/updater_prune.cc:74: tree pruning end, 1 roots, 802 extra nodes, 0 pruned nodes, max_depth=12\n",
      "[15:01:40] INFO: /workspace/src/tree/updater_prune.cc:74: tree pruning end, 1 roots, 464 extra nodes, 0 pruned nodes, max_depth=12\n",
      "[15:01:41] INFO: /workspace/src/tree/updater_prune.cc:74: tree pruning end, 1 roots, 340 extra nodes, 0 pruned nodes, max_depth=12\n",
      "[15:01:43] INFO: /workspace/src/tree/updater_prune.cc:74: tree pruning end, 1 roots, 620 extra nodes, 0 pruned nodes, max_depth=12\n",
      "[15:01:45] INFO: /workspace/src/tree/updater_prune.cc:74: tree pruning end, 1 roots, 508 extra nodes, 0 pruned nodes, max_depth=12\n",
      "[15:01:47] INFO: /workspace/src/tree/updater_prune.cc:74: tree pruning end, 1 roots, 514 extra nodes, 0 pruned nodes, max_depth=12\n",
      "[15:01:49] INFO: /workspace/src/tree/updater_prune.cc:74: tree pruning end, 1 roots, 530 extra nodes, 0 pruned nodes, max_depth=12\n",
      "[15:01:51] INFO: /workspace/src/tree/updater_prune.cc:74: tree pruning end, 1 roots, 532 extra nodes, 0 pruned nodes, max_depth=12\n",
      "[15:01:53] INFO: /workspace/src/tree/updater_prune.cc:74: tree pruning end, 1 roots, 556 extra nodes, 0 pruned nodes, max_depth=12\n",
      "[15:01:55] INFO: /workspace/src/tree/updater_prune.cc:74: tree pruning end, 1 roots, 494 extra nodes, 0 pruned nodes, max_depth=12\n",
      "[15:01:57] INFO: /workspace/src/tree/updater_prune.cc:74: tree pruning end, 1 roots, 626 extra nodes, 0 pruned nodes, max_depth=12\n",
      "[15:01:59] INFO: /workspace/src/tree/updater_prune.cc:74: tree pruning end, 1 roots, 470 extra nodes, 0 pruned nodes, max_depth=12\n"
     ]
    },
    {
     "data": {
      "text/plain": [
       "XGBRegressor(base_score=0.5, booster='gbtree', colsample_bylevel=1,\n",
       "             colsample_bynode=1, colsample_bytree=1, gamma=0,\n",
       "             importance_type='gain', learning_rate=0.08, max_delta_step=0,\n",
       "             max_depth=12, min_child_weight=20, missing=None, n_estimators=140,\n",
       "             n_jobs=2, nthread=None, objective='reg:linear', random_state=0,\n",
       "             reg_alpha=0, reg_lambda=1, scale_pos_weight=1, seed=None,\n",
       "             silent=None, subsample=0.9, verbosity=2)"
      ]
     },
     "execution_count": 109,
     "metadata": {},
     "output_type": "execute_result"
    }
   ],
   "source": [
    "reg = xgboost.XGBRegressor(max_depth=12,n_estimators=140 ,learning_rate=0.08, verbosity=2,subsample=0.9, min_child_weight=20, n_jobs=2)\n",
    "reg.fit(X_train,Y_train)"
   ]
  },
  {
   "cell_type": "code",
   "execution_count": 111,
   "metadata": {
    "scrolled": false
   },
   "outputs": [
    {
     "data": {
      "image/png": "[encoded data removed]",
      "text/plain": [
       "<Figure size 1296x750 with 1 Axes>"
      ]
     },
     "metadata": {},
     "output_type": "display_data"
    }
   ],
   "source": [
    "plotImp(reg, train.drop((['precio']), axis=1), 'XGBoost', 25)"
   ]
  },
  {
   "cell_type": "markdown",
   "metadata": {},
   "source": [
    "<hr>\n",
    "\n",
    "# Feature Importance: RandomForest"
   ]
  },
  {
   "cell_type": "code",
   "execution_count": 90,
   "metadata": {},
   "outputs": [],
   "source": [
    "from sklearn.ensemble import RandomForestRegressor\n",
    "from sklearn.impute import SimpleImputer"
   ]
  },
  {
   "cell_type": "code",
   "execution_count": 91,
   "metadata": {},
   "outputs": [],
   "source": [
    "X = train.drop('precio', axis=1).values\n",
    "Y = train['precio'].values\n",
    "\n",
    "imp = SimpleImputer(missing_values=np.nan, strategy='mean')\n",
    "X = imp.fit_transform(X)\n",
    "\n",
    "X_train, X_val, Y_train, Y_val = train_test_split(X, Y, test_size=0.2)"
   ]
  },
  {
   "cell_type": "code",
   "execution_count": 92,
   "metadata": {
    "scrolled": true
   },
   "outputs": [
    {
     "name": "stderr",
     "output_type": "stream",
     "text": [
      "[Parallel(n_jobs=3)]: Using backend ThreadingBackend with 3 concurrent workers.\n"
     ]
    },
    {
     "name": "stdout",
     "output_type": "stream",
     "text": [
      "building tree 1 of 200\n",
      "building tree 2 of 200\n",
      "building tree 3 of 200\n",
      "building tree 4 of 200\n",
      "building tree 5 of 200\n",
      "building tree 6 of 200\n",
      "building tree 7 of 200\n",
      "building tree 8 of 200\n",
      "building tree 9 of 200\n",
      "building tree 10 of 200\n",
      "building tree 11 of 200\n",
      "building tree 12 of 200\n",
      "building tree 13 of 200\n",
      "building tree 14 of 200\n",
      "building tree 15 of 200\n",
      "building tree 16 of 200\n",
      "building tree 17 of 200\n",
      "building tree 18 of 200\n",
      "building tree 19 of 200\n",
      "building tree 20 of 200\n",
      "building tree 21 of 200\n",
      "building tree 22 of 200\n",
      "building tree 23 of 200\n",
      "building tree 24 of 200\n",
      "building tree 25 of 200\n",
      "building tree 26 of 200\n",
      "building tree 27 of 200\n",
      "building tree 28 of 200\n",
      "building tree 29 of 200\n",
      "building tree 30 of 200\n",
      "building tree 31 of 200\n",
      "building tree 32 of 200\n",
      "building tree 33 of 200\n",
      "building tree 34 of 200\n",
      "building tree 35 of 200\n",
      "building tree 36 of 200\n",
      "building tree 37 of 200\n"
     ]
    },
    {
     "name": "stderr",
     "output_type": "stream",
     "text": [
      "[Parallel(n_jobs=3)]: Done  35 tasks      | elapsed:  1.2min\n"
     ]
    },
    {
     "name": "stdout",
     "output_type": "stream",
     "text": [
      "building tree 38 of 200\n",
      "building tree 39 of 200\n",
      "building tree 40 of 200\n",
      "building tree 41 of 200\n",
      "building tree 42 of 200\n",
      "building tree 43 of 200\n",
      "building tree 44 of 200\n",
      "building tree 45 of 200\n",
      "building tree 46 of 200\n",
      "building tree 47 of 200\n",
      "building tree 48 of 200\n",
      "building tree 49 of 200\n",
      "building tree 50 of 200\n",
      "building tree 51 of 200\n",
      "building tree 52 of 200\n",
      "building tree 53 of 200\n",
      "building tree 54 of 200\n",
      "building tree 55 of 200\n",
      "building tree 56 of 200\n",
      "building tree 57 of 200\n",
      "building tree 58 of 200\n",
      "building tree 59 of 200\n",
      "building tree 60 of 200\n",
      "building tree 61 of 200\n",
      "building tree 62 of 200\n",
      "building tree 63 of 200\n",
      "building tree 64 of 200\n",
      "building tree 65 of 200\n",
      "building tree 66 of 200\n",
      "building tree 67 of 200\n",
      "building tree 68 of 200\n",
      "building tree 69 of 200\n",
      "building tree 70 of 200\n",
      "building tree 71 of 200\n",
      "building tree 72 of 200\n",
      "building tree 73 of 200\n",
      "building tree 74 of 200\n",
      "building tree 75 of 200\n",
      "building tree 76 of 200\n",
      "building tree 77 of 200\n",
      "building tree 78 of 200\n",
      "building tree 79 of 200\n",
      "building tree 80 of 200\n",
      "building tree 81 of 200\n",
      "building tree 82 of 200\n",
      "building tree 83 of 200\n",
      "building tree 84 of 200\n",
      "building tree 85 of 200\n",
      "building tree 86 of 200\n",
      "building tree 87 of 200\n",
      "building tree 88 of 200\n",
      "building tree 89 of 200\n",
      "building tree 90 of 200\n",
      "building tree 91 of 200\n",
      "building tree 92 of 200\n",
      "building tree 93 of 200\n",
      "building tree 94 of 200\n",
      "building tree 95 of 200\n",
      "building tree 96 of 200\n",
      "building tree 97 of 200\n",
      "building tree 98 of 200\n",
      "building tree 99 of 200\n",
      "building tree 100 of 200\n",
      "building tree 101 of 200\n",
      "building tree 102 of 200\n",
      "building tree 103 of 200\n",
      "building tree 104 of 200\n",
      "building tree 105 of 200\n",
      "building tree 106 of 200\n",
      "building tree 107 of 200\n",
      "building tree 108 of 200\n",
      "building tree 109 of 200\n",
      "building tree 110 of 200\n",
      "building tree 111 of 200\n",
      "building tree 112 of 200\n",
      "building tree 113 of 200\n",
      "building tree 114 of 200\n",
      "building tree 115 of 200\n",
      "building tree 116 of 200\n",
      "building tree 117 of 200\n",
      "building tree 118 of 200\n",
      "building tree 119 of 200\n",
      "building tree 120 of 200\n",
      "building tree 121 of 200\n",
      "building tree 122 of 200\n",
      "building tree 123 of 200\n",
      "building tree 124 of 200\n",
      "building tree 125 of 200\n",
      "building tree 126 of 200\n",
      "building tree 127 of 200\n",
      "building tree 128 of 200\n",
      "building tree 129 of 200\n",
      "building tree 130 of 200\n",
      "building tree 131 of 200\n",
      "building tree 132 of 200\n",
      "building tree 133 of 200\n",
      "building tree 134 of 200\n",
      "building tree 135 of 200\n",
      "building tree 136 of 200\n",
      "building tree 137 of 200\n",
      "building tree 138 of 200\n",
      "building tree 139 of 200\n",
      "building tree 140 of 200\n",
      "building tree 141 of 200\n",
      "building tree 142 of 200\n",
      "building tree 143 of 200\n",
      "building tree 144 of 200\n",
      "building tree 145 of 200\n",
      "building tree 146 of 200\n",
      "building tree 147 of 200\n",
      "building tree 148 of 200\n",
      "building tree 149 of 200\n",
      "building tree 150 of 200\n",
      "building tree 151 of 200\n",
      "building tree 152 of 200\n",
      "building tree 153 of 200\n",
      "building tree 154 of 200\n",
      "building tree 155 of 200\n",
      "building tree 156 of 200\n",
      "building tree 157 of 200\n",
      "building tree 158 of 200\n"
     ]
    },
    {
     "name": "stderr",
     "output_type": "stream",
     "text": [
      "[Parallel(n_jobs=3)]: Done 156 tasks      | elapsed:  5.6min\n"
     ]
    },
    {
     "name": "stdout",
     "output_type": "stream",
     "text": [
      "building tree 159 of 200\n",
      "building tree 160 of 200\n",
      "building tree 161 of 200\n",
      "building tree 162 of 200\n",
      "building tree 163 of 200\n",
      "building tree 164 of 200\n",
      "building tree 165 of 200\n",
      "building tree 166 of 200\n",
      "building tree 167 of 200\n",
      "building tree 168 of 200\n",
      "building tree 169 of 200\n",
      "building tree 170 of 200\n",
      "building tree 171 of 200\n",
      "building tree 172 of 200\n",
      "building tree 173 of 200\n",
      "building tree 174 of 200\n",
      "building tree 175 of 200\n",
      "building tree 176 of 200\n",
      "building tree 177 of 200\n",
      "building tree 178 of 200\n",
      "building tree 179 of 200\n",
      "building tree 180 of 200\n",
      "building tree 181 of 200\n",
      "building tree 182 of 200\n",
      "building tree 183 of 200\n",
      "building tree 184 of 200\n",
      "building tree 185 of 200\n",
      "building tree 186 of 200\n",
      "building tree 187 of 200\n",
      "building tree 188 of 200\n",
      "building tree 189 of 200\n",
      "building tree 190 of 200\n",
      "building tree 191 of 200\n",
      "building tree 192 of 200\n",
      "building tree 193 of 200\n",
      "building tree 194 of 200\n",
      "building tree 195 of 200\n",
      "building tree 196 of 200\n",
      "building tree 197 of 200\n",
      "building tree 198 of 200\n",
      "building tree 199 of 200\n",
      "building tree 200 of 200\n"
     ]
    },
    {
     "name": "stderr",
     "output_type": "stream",
     "text": [
      "[Parallel(n_jobs=3)]: Done 200 out of 200 | elapsed:  7.3min finished\n"
     ]
    },
    {
     "data": {
      "text/plain": [
       "RandomForestRegressor(bootstrap=True, criterion='mse', max_depth=10,\n",
       "                      max_features='auto', max_leaf_nodes=None,\n",
       "                      min_impurity_decrease=0.0, min_impurity_split=None,\n",
       "                      min_samples_leaf=1, min_samples_split=2,\n",
       "                      min_weight_fraction_leaf=0.0, n_estimators=200, n_jobs=3,\n",
       "                      oob_score=False, random_state=42, verbose=2,\n",
       "                      warm_start=False)"
      ]
     },
     "execution_count": 92,
     "metadata": {},
     "output_type": "execute_result"
    }
   ],
   "source": [
    "reg = RandomForestRegressor(n_estimators = 200, random_state = seed, verbose=2,\n",
    "                            max_depth=10, n_jobs=3) \n",
    "reg.fit(X_train, Y_train)"
   ]
  },
  {
   "cell_type": "code",
   "execution_count": 95,
   "metadata": {},
   "outputs": [
    {
     "name": "stderr",
     "output_type": "stream",
     "text": [
      "[Parallel(n_jobs=3)]: Using backend ThreadingBackend with 3 concurrent workers.\n",
      "[Parallel(n_jobs=3)]: Done  35 tasks      | elapsed:    0.1s\n"
     ]
    },
    {
     "name": "stdout",
     "output_type": "stream",
     "text": [
      "582984.1762735009\n"
     ]
    },
    {
     "name": "stderr",
     "output_type": "stream",
     "text": [
      "[Parallel(n_jobs=3)]: Done 156 tasks      | elapsed:    0.5s\n",
      "[Parallel(n_jobs=3)]: Done 200 out of 200 | elapsed:    0.6s finished\n"
     ]
    }
   ],
   "source": [
    "Y_pred = reg.predict(X_val)\n",
    "print(mean_absolute_error(Y_val,Y_pred))"
   ]
  },
  {
   "cell_type": "code",
   "execution_count": 103,
   "metadata": {
    "scrolled": true
   },
   "outputs": [
    {
     "data": {
      "image/png": "[encoded data removed]",
      "text/plain": [
       "<Figure size 1296x750 with 1 Axes>"
      ]
     },
     "metadata": {},
     "output_type": "display_data"
    }
   ],
   "source": [
    "plotImp(reg, train.drop((['precio']), axis=1), 'RandomForest', 25)"
   ]
  },
  {
   "cell_type": "code",
   "execution_count": 115,
   "metadata": {},
   "outputs": [],
   "source": [
    "# Repetimos, para el modelo entrenado con los features seleccionados por Cumulative Importance"
   ]
  },
  {
   "cell_type": "code",
   "execution_count": 113,
   "metadata": {},
   "outputs": [],
   "source": [
    "train,_ = pre_processing.load_featured_datasets()"
   ]
  },
  {
   "cell_type": "code",
   "execution_count": 116,
   "metadata": {
    "scrolled": true
   },
   "outputs": [],
   "source": [
    "features = best_features_ci()"
   ]
  },
  {
   "cell_type": "code",
   "execution_count": 118,
   "metadata": {
    "scrolled": false
   },
   "outputs": [],
   "source": [
    "train = train[features['opc1'] + ['precio']]"
   ]
  },
  {
   "cell_type": "code",
   "execution_count": 119,
   "metadata": {},
   "outputs": [],
   "source": [
    "X = train.drop('precio', axis=1).values\n",
    "Y = train['precio'].values\n",
    "\n",
    "imp = SimpleImputer(missing_values=np.nan, strategy='mean')\n",
    "X = imp.fit_transform(X)\n",
    "\n",
    "X_train, X_val, Y_train, Y_val = train_test_split(X, Y, test_size=0.2)"
   ]
  },
  {
   "cell_type": "code",
   "execution_count": 120,
   "metadata": {
    "scrolled": true
   },
   "outputs": [
    {
     "name": "stderr",
     "output_type": "stream",
     "text": [
      "[Parallel(n_jobs=3)]: Using backend ThreadingBackend with 3 concurrent workers.\n"
     ]
    },
    {
     "name": "stdout",
     "output_type": "stream",
     "text": [
      "building tree 1 of 200building tree 2 of 200\n",
      "building tree 3 of 200\n",
      "\n",
      "building tree 4 of 200\n",
      "building tree 5 of 200\n",
      "building tree 6 of 200\n",
      "building tree 7 of 200\n",
      "building tree 8 of 200\n",
      "building tree 9 of 200\n",
      "building tree 10 of 200\n",
      "building tree 11 of 200\n",
      "building tree 12 of 200\n",
      "building tree 13 of 200\n",
      "building tree 14 of 200\n",
      "building tree 15 of 200\n",
      "building tree 16 of 200\n",
      "building tree 17 of 200\n",
      "building tree 18 of 200\n",
      "building tree 19 of 200\n",
      "building tree 20 of 200\n",
      "building tree 21 of 200\n",
      "building tree 22 of 200\n",
      "building tree 23 of 200\n",
      "building tree 24 of 200\n",
      "building tree 25 of 200\n",
      "building tree 26 of 200\n",
      "building tree 27 of 200\n",
      "building tree 28 of 200\n",
      "building tree 29 of 200\n",
      "building tree 30 of 200\n",
      "building tree 31 of 200\n",
      "building tree 32 of 200\n",
      "building tree 33 of 200\n",
      "building tree 34 of 200\n",
      "building tree 35 of 200\n",
      "building tree 36 of 200\n",
      "building tree 37 of 200\n",
      "building tree 38 of 200\n"
     ]
    },
    {
     "name": "stderr",
     "output_type": "stream",
     "text": [
      "[Parallel(n_jobs=3)]: Done  35 tasks      | elapsed:  1.4min\n"
     ]
    },
    {
     "name": "stdout",
     "output_type": "stream",
     "text": [
      "building tree 39 of 200\n",
      "building tree 40 of 200\n",
      "building tree 41 of 200\n",
      "building tree 42 of 200\n",
      "building tree 43 of 200\n",
      "building tree 44 of 200\n",
      "building tree 45 of 200\n",
      "building tree 46 of 200\n",
      "building tree 47 of 200\n",
      "building tree 48 of 200\n",
      "building tree 49 of 200\n",
      "building tree 50 of 200\n",
      "building tree 51 of 200\n",
      "building tree 52 of 200\n",
      "building tree 53 of 200\n",
      "building tree 54 of 200\n",
      "building tree 55 of 200\n",
      "building tree 56 of 200\n",
      "building tree 57 of 200\n",
      "building tree 58 of 200\n",
      "building tree 59 of 200\n",
      "building tree 60 of 200\n",
      "building tree 61 of 200\n",
      "building tree 62 of 200\n",
      "building tree 63 of 200\n",
      "building tree 64 of 200\n",
      "building tree 65 of 200\n",
      "building tree 66 of 200\n",
      "building tree 67 of 200\n",
      "building tree 68 of 200\n",
      "building tree 69 of 200\n",
      "building tree 70 of 200\n",
      "building tree 71 of 200\n",
      "building tree 72 of 200\n",
      "building tree 73 of 200\n",
      "building tree 74 of 200\n",
      "building tree 75 of 200\n",
      "building tree 76 of 200\n",
      "building tree 77 of 200\n",
      "building tree 78 of 200\n",
      "building tree 79 of 200\n",
      "building tree 80 of 200\n",
      "building tree 81 of 200\n",
      "building tree 82 of 200\n",
      "building tree 83 of 200\n",
      "building tree 84 of 200\n",
      "building tree 85 of 200\n",
      "building tree 86 of 200\n",
      "building tree 87 of 200\n",
      "building tree 88 of 200\n",
      "building tree 89 of 200\n",
      "building tree 90 of 200\n",
      "building tree 91 of 200\n",
      "building tree 92 of 200\n",
      "building tree 93 of 200\n",
      "building tree 94 of 200\n",
      "building tree 95 of 200\n",
      "building tree 96 of 200\n",
      "building tree 97 of 200\n",
      "building tree 98 of 200\n",
      "building tree 99 of 200\n",
      "building tree 100 of 200\n",
      "building tree 101 of 200\n",
      "building tree 102 of 200\n",
      "building tree 103 of 200\n",
      "building tree 104 of 200\n",
      "building tree 105 of 200\n",
      "building tree 106 of 200\n",
      "building tree 107 of 200\n",
      "building tree 108 of 200\n",
      "building tree 109 of 200\n",
      "building tree 110 of 200\n",
      "building tree 111 of 200\n",
      "building tree 112 of 200\n",
      "building tree 113 of 200\n",
      "building tree 114 of 200\n",
      "building tree 115 of 200\n",
      "building tree 116 of 200\n",
      "building tree 117 of 200\n",
      "building tree 118 of 200\n",
      "building tree 119 of 200\n",
      "building tree 120 of 200\n",
      "building tree 121 of 200\n",
      "building tree 122 of 200\n",
      "building tree 123 of 200\n",
      "building tree 124 of 200\n",
      "building tree 125 of 200\n",
      "building tree 126 of 200\n",
      "building tree 127 of 200\n",
      "building tree 128 of 200\n",
      "building tree 129 of 200\n",
      "building tree 130 of 200\n",
      "building tree 131 of 200\n",
      "building tree 132 of 200\n",
      "building tree 133 of 200\n",
      "building tree 134 of 200\n",
      "building tree 135 of 200\n",
      "building tree 136 of 200\n",
      "building tree 137 of 200\n",
      "building tree 138 of 200\n",
      "building tree 139 of 200\n",
      "building tree 140 of 200\n",
      "building tree 141 of 200\n",
      "building tree 142 of 200\n",
      "building tree 143 of 200\n",
      "building tree 144 of 200\n",
      "building tree 145 of 200\n",
      "building tree 146 of 200\n",
      "building tree 147 of 200\n",
      "building tree 148 of 200\n",
      "building tree 149 of 200\n",
      "building tree 150 of 200\n",
      "building tree 151 of 200\n",
      "building tree 152 of 200\n",
      "building tree 153 of 200\n",
      "building tree 154 of 200\n",
      "building tree 155 of 200\n",
      "building tree 156 of 200\n",
      "building tree 157 of 200\n",
      "building tree 158 of 200\n",
      "building tree 159 of 200\n"
     ]
    },
    {
     "name": "stderr",
     "output_type": "stream",
     "text": [
      "[Parallel(n_jobs=3)]: Done 156 tasks      | elapsed:  6.6min\n"
     ]
    },
    {
     "name": "stdout",
     "output_type": "stream",
     "text": [
      "building tree 160 of 200\n",
      "building tree 161 of 200\n",
      "building tree 162 of 200\n",
      "building tree 163 of 200\n",
      "building tree 164 of 200\n",
      "building tree 165 of 200\n",
      "building tree 166 of 200\n",
      "building tree 167 of 200\n",
      "building tree 168 of 200\n",
      "building tree 169 of 200\n",
      "building tree 170 of 200\n",
      "building tree 171 of 200\n",
      "building tree 172 of 200\n",
      "building tree 173 of 200\n",
      "building tree 174 of 200\n",
      "building tree 175 of 200\n",
      "building tree 176 of 200\n",
      "building tree 177 of 200\n",
      "building tree 178 of 200\n",
      "building tree 179 of 200\n",
      "building tree 180 of 200\n",
      "building tree 181 of 200\n",
      "building tree 182 of 200\n",
      "building tree 183 of 200\n",
      "building tree 184 of 200\n",
      "building tree 185 of 200\n",
      "building tree 186 of 200\n",
      "building tree 187 of 200\n",
      "building tree 188 of 200\n",
      "building tree 189 of 200\n",
      "building tree 190 of 200\n",
      "building tree 191 of 200\n",
      "building tree 192 of 200\n",
      "building tree 193 of 200\n",
      "building tree 194 of 200\n",
      "building tree 195 of 200\n",
      "building tree 196 of 200\n",
      "building tree 197 of 200\n",
      "building tree 198 of 200\n",
      "building tree 199 of 200\n",
      "building tree 200 of 200\n"
     ]
    },
    {
     "name": "stderr",
     "output_type": "stream",
     "text": [
      "[Parallel(n_jobs=3)]: Done 200 out of 200 | elapsed:  8.5min finished\n"
     ]
    },
    {
     "data": {
      "text/plain": [
       "RandomForestRegressor(bootstrap=True, criterion='mse', max_depth=10,\n",
       "                      max_features='auto', max_leaf_nodes=None,\n",
       "                      min_impurity_decrease=0.0, min_impurity_split=None,\n",
       "                      min_samples_leaf=1, min_samples_split=2,\n",
       "                      min_weight_fraction_leaf=0.0, n_estimators=200, n_jobs=3,\n",
       "                      oob_score=False, random_state=42, verbose=2,\n",
       "                      warm_start=False)"
      ]
     },
     "execution_count": 120,
     "metadata": {},
     "output_type": "execute_result"
    }
   ],
   "source": [
    "reg = RandomForestRegressor(n_estimators = 200, random_state = seed, verbose=2,\n",
    "                            max_depth=10, n_jobs=3) \n",
    "reg.fit(X_train, Y_train)"
   ]
  },
  {
   "cell_type": "code",
   "execution_count": 124,
   "metadata": {
    "scrolled": false
   },
   "outputs": [
    {
     "data": {
      "image/png": "[encoded data removed]",
      "text/plain": [
       "<Figure size 1296x750 with 1 Axes>"
      ]
     },
     "metadata": {},
     "output_type": "display_data"
    }
   ],
   "source": [
    "plotImp(reg, train.drop((['precio']), axis=1), 'RandomForest', 25, ci=True)"
   ]
  },
  {
   "cell_type": "markdown",
   "metadata": {},
   "source": [
    "<hr>\n",
    "\n",
    "# Distintos algoritmos de Feature Selection\n",
    "Si bien los resultados mejoraron considerablemente al probar esta estrategia 'greedy' de armado de posibles combinaciones, ahora vamos a utilizar distintos algoritmos para quedarnos con los features que mejor MAE obtengan.\n",
    "Por tratarse de un proceso sumamente costoso, la idea es ejecutarlo una vez y luego guardar los resultados.\n",
    "\n",
    "Usamos Random Forest por su conocida estabilidad para **feature importance**."
   ]
  },
  {
   "cell_type": "code",
   "execution_count": 5,
   "metadata": {
    "scrolled": true
   },
   "outputs": [],
   "source": [
    "df,_ = pre_processing.load_featured_datasets()\n",
    "features = feature_generation.get_features()\n",
    "df = get_full_selected_dataframe(df)"
   ]
  },
  {
   "cell_type": "markdown",
   "metadata": {},
   "source": [
    "# Cumulative Importance"
   ]
  },
  {
   "cell_type": "code",
   "execution_count": 6,
   "metadata": {},
   "outputs": [],
   "source": [
    "from sklearn.ensemble import RandomForestRegressor"
   ]
  },
  {
   "cell_type": "code",
   "execution_count": 7,
   "metadata": {},
   "outputs": [],
   "source": [
    "# Imputando nulos con mean\n",
    "train = df.fillna(df.mean())"
   ]
  },
  {
   "cell_type": "code",
   "execution_count": 8,
   "metadata": {},
   "outputs": [],
   "source": [
    "X = train.drop('precio', axis=1).values\n",
    "Y = train['precio'].values\n",
    "X_train, X_val, Y_train, Y_val = train_test_split(X, Y, test_size=0.2)"
   ]
  },
  {
   "cell_type": "code",
   "execution_count": 9,
   "metadata": {
    "scrolled": true
   },
   "outputs": [
    {
     "name": "stderr",
     "output_type": "stream",
     "text": [
      "[Parallel(n_jobs=3)]: Using backend ThreadingBackend with 3 concurrent workers.\n"
     ]
    },
    {
     "name": "stdout",
     "output_type": "stream",
     "text": [
      "building tree 1 of 200\n",
      "building tree 2 of 200building tree 3 of 200\n",
      "\n",
      "building tree 4 of 200\n",
      "building tree 5 of 200\n",
      "building tree 6 of 200\n",
      "building tree 7 of 200\n",
      "building tree 8 of 200\n",
      "building tree 9 of 200\n",
      "building tree 10 of 200\n",
      "building tree 11 of 200\n",
      "building tree 12 of 200\n",
      "building tree 13 of 200\n",
      "building tree 14 of 200\n",
      "building tree 15 of 200\n",
      "building tree 16 of 200\n",
      "building tree 17 of 200\n",
      "building tree 18 of 200\n",
      "building tree 19 of 200\n",
      "building tree 20 of 200\n",
      "building tree 21 of 200\n",
      "building tree 22 of 200\n",
      "building tree 23 of 200\n",
      "building tree 24 of 200\n",
      "building tree 25 of 200\n",
      "building tree 26 of 200\n",
      "building tree 27 of 200\n",
      "building tree 28 of 200\n",
      "building tree 29 of 200\n",
      "building tree 30 of 200\n",
      "building tree 31 of 200\n",
      "building tree 32 of 200\n",
      "building tree 33 of 200\n",
      "building tree 34 of 200\n",
      "building tree 35 of 200\n",
      "building tree 36 of 200\n",
      "building tree 37 of 200\n",
      "building tree 38 of 200\n"
     ]
    },
    {
     "name": "stderr",
     "output_type": "stream",
     "text": [
      "[Parallel(n_jobs=3)]: Done  35 tasks      | elapsed:  1.5min\n"
     ]
    },
    {
     "name": "stdout",
     "output_type": "stream",
     "text": [
      "building tree 39 of 200\n",
      "building tree 40 of 200\n",
      "building tree 41 of 200\n",
      "building tree 42 of 200\n",
      "building tree 43 of 200\n",
      "building tree 44 of 200\n",
      "building tree 45 of 200\n",
      "building tree 46 of 200\n",
      "building tree 47 of 200\n",
      "building tree 48 of 200\n",
      "building tree 49 of 200\n",
      "building tree 50 of 200\n",
      "building tree 51 of 200\n",
      "building tree 52 of 200\n",
      "building tree 53 of 200\n",
      "building tree 54 of 200\n",
      "building tree 55 of 200\n",
      "building tree 56 of 200\n",
      "building tree 57 of 200\n",
      "building tree 58 of 200\n",
      "building tree 59 of 200\n",
      "building tree 60 of 200\n",
      "building tree 61 of 200\n",
      "building tree 62 of 200\n",
      "building tree 63 of 200\n",
      "building tree 64 of 200\n",
      "building tree 65 of 200\n",
      "building tree 66 of 200\n",
      "building tree 67 of 200\n",
      "building tree 68 of 200\n",
      "building tree 69 of 200\n",
      "building tree 70 of 200\n",
      "building tree 71 of 200\n",
      "building tree 72 of 200\n",
      "building tree 73 of 200\n",
      "building tree 74 of 200\n",
      "building tree 75 of 200\n",
      "building tree 76 of 200\n",
      "building tree 77 of 200\n",
      "building tree 78 of 200\n",
      "building tree 79 of 200\n",
      "building tree 80 of 200\n",
      "building tree 81 of 200\n",
      "building tree 82 of 200\n",
      "building tree 83 of 200\n",
      "building tree 84 of 200\n",
      "building tree 85 of 200\n",
      "building tree 86 of 200\n",
      "building tree 87 of 200\n",
      "building tree 88 of 200\n",
      "building tree 89 of 200\n",
      "building tree 90 of 200\n",
      "building tree 91 of 200\n",
      "building tree 92 of 200\n",
      "building tree 93 of 200\n",
      "building tree 94 of 200\n",
      "building tree 95 of 200\n",
      "building tree 96 of 200\n",
      "building tree 97 of 200\n",
      "building tree 98 of 200\n",
      "building tree 99 of 200\n",
      "building tree 100 of 200\n",
      "building tree 101 of 200\n",
      "building tree 102 of 200\n",
      "building tree 103 of 200\n",
      "building tree 104 of 200\n",
      "building tree 105 of 200\n",
      "building tree 106 of 200\n",
      "building tree 107 of 200\n",
      "building tree 108 of 200\n",
      "building tree 109 of 200\n",
      "building tree 110 of 200\n",
      "building tree 111 of 200\n",
      "building tree 112 of 200\n",
      "building tree 113 of 200\n",
      "building tree 114 of 200\n",
      "building tree 115 of 200\n",
      "building tree 116 of 200\n",
      "building tree 117 of 200\n",
      "building tree 118 of 200\n",
      "building tree 119 of 200\n",
      "building tree 120 of 200\n",
      "building tree 121 of 200\n",
      "building tree 122 of 200\n",
      "building tree 123 of 200\n",
      "building tree 124 of 200\n",
      "building tree 125 of 200\n",
      "building tree 126 of 200\n",
      "building tree 127 of 200\n",
      "building tree 128 of 200\n",
      "building tree 129 of 200\n",
      "building tree 130 of 200\n",
      "building tree 131 of 200\n",
      "building tree 132 of 200\n",
      "building tree 133 of 200\n",
      "building tree 134 of 200\n",
      "building tree 135 of 200\n",
      "building tree 136 of 200\n",
      "building tree 137 of 200\n",
      "building tree 138 of 200\n",
      "building tree 139 of 200\n",
      "building tree 140 of 200\n",
      "building tree 141 of 200\n",
      "building tree 142 of 200\n",
      "building tree 143 of 200\n",
      "building tree 144 of 200\n",
      "building tree 145 of 200\n",
      "building tree 146 of 200\n",
      "building tree 147 of 200\n",
      "building tree 148 of 200\n",
      "building tree 149 of 200\n",
      "building tree 150 of 200\n",
      "building tree 151 of 200\n",
      "building tree 152 of 200\n",
      "building tree 153 of 200\n",
      "building tree 154 of 200\n",
      "building tree 155 of 200\n",
      "building tree 156 of 200\n",
      "building tree 157 of 200\n",
      "building tree 158 of 200\n",
      "building tree 159 of 200\n"
     ]
    },
    {
     "name": "stderr",
     "output_type": "stream",
     "text": [
      "[Parallel(n_jobs=3)]: Done 156 tasks      | elapsed:  6.1min\n"
     ]
    },
    {
     "name": "stdout",
     "output_type": "stream",
     "text": [
      "building tree 160 of 200\n",
      "building tree 161 of 200\n",
      "building tree 162 of 200\n",
      "building tree 163 of 200\n",
      "building tree 164 of 200\n",
      "building tree 165 of 200\n",
      "building tree 166 of 200\n",
      "building tree 167 of 200\n",
      "building tree 168 of 200\n",
      "building tree 169 of 200\n",
      "building tree 170 of 200\n",
      "building tree 171 of 200\n",
      "building tree 172 of 200\n",
      "building tree 173 of 200\n",
      "building tree 174 of 200\n",
      "building tree 175 of 200\n",
      "building tree 176 of 200\n",
      "building tree 177 of 200\n",
      "building tree 178 of 200\n",
      "building tree 179 of 200\n",
      "building tree 180 of 200\n",
      "building tree 181 of 200\n",
      "building tree 182 of 200\n",
      "building tree 183 of 200\n",
      "building tree 184 of 200\n",
      "building tree 185 of 200\n",
      "building tree 186 of 200\n",
      "building tree 187 of 200\n",
      "building tree 188 of 200\n",
      "building tree 189 of 200\n",
      "building tree 190 of 200\n",
      "building tree 191 of 200\n",
      "building tree 192 of 200\n",
      "building tree 193 of 200\n",
      "building tree 194 of 200\n",
      "building tree 195 of 200\n",
      "building tree 196 of 200\n",
      "building tree 197 of 200\n",
      "building tree 198 of 200\n",
      "building tree 199 of 200\n",
      "building tree 200 of 200\n"
     ]
    },
    {
     "name": "stderr",
     "output_type": "stream",
     "text": [
      "[Parallel(n_jobs=3)]: Done 200 out of 200 | elapsed:  7.8min finished\n"
     ]
    },
    {
     "data": {
      "text/plain": [
       "RandomForestRegressor(bootstrap=True, criterion='mse', max_depth=10,\n",
       "                      max_features='auto', max_leaf_nodes=None,\n",
       "                      min_impurity_decrease=0.0, min_impurity_split=None,\n",
       "                      min_samples_leaf=1, min_samples_split=2,\n",
       "                      min_weight_fraction_leaf=0.0, n_estimators=200, n_jobs=3,\n",
       "                      oob_score=False, random_state=7, verbose=2,\n",
       "                      warm_start=False)"
      ]
     },
     "execution_count": 9,
     "metadata": {},
     "output_type": "execute_result"
    }
   ],
   "source": [
    "reg = RandomForestRegressor(n_estimators = 200, random_state = seed, verbose=2,\n",
    "                            max_depth=10, n_jobs=3) \n",
    "reg.fit(X_train, Y_train)"
   ]
  },
  {
   "cell_type": "code",
   "execution_count": 40,
   "metadata": {
    "scrolled": true
   },
   "outputs": [],
   "source": [
    "names = train.columns.to_list()\n",
    "sorted_features = (sorted(zip(map(lambda x: round(x, 4), reg.feature_importances_), names), reverse=True))\n",
    "sorted_features = pd.DataFrame(sorted_features)[1].to_list()"
   ]
  },
  {
   "cell_type": "code",
   "execution_count": 41,
   "metadata": {},
   "outputs": [],
   "source": [
    "lista_progresiva = [sorted_features[:i] for i in range(1,len(sorted_features))]"
   ]
  },
  {
   "cell_type": "code",
   "execution_count": 45,
   "metadata": {},
   "outputs": [
    {
     "data": {
      "text/plain": [
       "163"
      ]
     },
     "execution_count": 45,
     "metadata": {},
     "output_type": "execute_result"
    }
   ],
   "source": [
    "len(lista_progresiva)"
   ]
  },
  {
   "cell_type": "code",
   "execution_count": 46,
   "metadata": {},
   "outputs": [],
   "source": [
    "# Tenemos que realizar 163 corridas del algoritmo para detectar el mejor resultado posible para este algoritmo."
   ]
  },
  {
   "cell_type": "code",
   "execution_count": 92,
   "metadata": {},
   "outputs": [
    {
     "name": "stdout",
     "output_type": "stream",
     "text": [
      "Iteración 1 de 163\n",
      "MAE: 982890 | Mejor MAE hasta el momento: 982890 (i=1).\n",
      "Tiempo: 7 segundos - (0.12 minutos) - (0.0 horas).\n",
      "\n",
      "Iteración 2 de 163\n",
      "MAE: 739676 | Mejor MAE hasta el momento: 739676 (i=2).\n",
      "Tiempo: 9 segundos - (0.15 minutos) - (0.0 horas).\n",
      "\n",
      "Iteración 3 de 163\n",
      "MAE: 738859 | Mejor MAE hasta el momento: 738859 (i=3).\n",
      "Tiempo: 12 segundos - (0.2 minutos) - (0.0 horas).\n",
      "\n",
      "Iteración 4 de 163\n",
      "MAE: 697407 | Mejor MAE hasta el momento: 697407 (i=4).\n",
      "Tiempo: 12 segundos - (0.2 minutos) - (0.0 horas).\n",
      "\n",
      "Iteración 5 de 163\n",
      "MAE: 687101 | Mejor MAE hasta el momento: 687101 (i=5).\n",
      "Tiempo: 15 segundos - (0.25 minutos) - (0.0 horas).\n",
      "\n",
      "Iteración 6 de 163\n",
      "MAE: 668534 | Mejor MAE hasta el momento: 668534 (i=6).\n",
      "Tiempo: 15 segundos - (0.25 minutos) - (0.0 horas).\n",
      "\n",
      "Iteración 7 de 163\n",
      "MAE: 642279 | Mejor MAE hasta el momento: 642279 (i=7).\n",
      "Tiempo: 20 segundos - (0.33 minutos) - (0.01 horas).\n",
      "\n",
      "Iteración 8 de 163\n",
      "MAE: 637011 | Mejor MAE hasta el momento: 637011 (i=8).\n",
      "Tiempo: 21 segundos - (0.35 minutos) - (0.01 horas).\n",
      "\n",
      "Iteración 9 de 163\n",
      "MAE: 625924 | Mejor MAE hasta el momento: 625924 (i=9).\n",
      "Tiempo: 27 segundos - (0.45 minutos) - (0.01 horas).\n",
      "\n",
      "Iteración 10 de 163\n",
      "MAE: 626695 | Mejor MAE hasta el momento: 625924 (i=9).\n",
      "Tiempo: 31 segundos - (0.52 minutos) - (0.01 horas).\n",
      "\n",
      "Iteración 11 de 163\n",
      "MAE: 624293 | Mejor MAE hasta el momento: 624293 (i=11).\n",
      "Tiempo: 33 segundos - (0.55 minutos) - (0.01 horas).\n",
      "\n",
      "Iteración 12 de 163\n",
      "MAE: 611016 | Mejor MAE hasta el momento: 611016 (i=12).\n",
      "Tiempo: 35 segundos - (0.58 minutos) - (0.01 horas).\n",
      "\n",
      "Iteración 13 de 163\n",
      "MAE: 606769 | Mejor MAE hasta el momento: 606769 (i=13).\n",
      "Tiempo: 37 segundos - (0.62 minutos) - (0.01 horas).\n",
      "\n",
      "Iteración 14 de 163\n",
      "MAE: 597246 | Mejor MAE hasta el momento: 597246 (i=14).\n",
      "Tiempo: 39 segundos - (0.65 minutos) - (0.01 horas).\n",
      "\n",
      "Iteración 15 de 163\n",
      "MAE: 603183 | Mejor MAE hasta el momento: 597246 (i=14).\n",
      "Tiempo: 42 segundos - (0.7 minutos) - (0.01 horas).\n",
      "\n",
      "Iteración 16 de 163\n",
      "MAE: 604845 | Mejor MAE hasta el momento: 597246 (i=14).\n",
      "Tiempo: 46 segundos - (0.77 minutos) - (0.01 horas).\n",
      "\n",
      "Iteración 17 de 163\n",
      "MAE: 593841 | Mejor MAE hasta el momento: 593841 (i=17).\n",
      "Tiempo: 47 segundos - (0.78 minutos) - (0.01 horas).\n",
      "\n",
      "Iteración 18 de 163\n",
      "MAE: 598601 | Mejor MAE hasta el momento: 593841 (i=17).\n",
      "Tiempo: 50 segundos - (0.83 minutos) - (0.01 horas).\n",
      "\n",
      "Iteración 19 de 163\n",
      "MAE: 595849 | Mejor MAE hasta el momento: 593841 (i=17).\n",
      "Tiempo: 52 segundos - (0.87 minutos) - (0.01 horas).\n",
      "\n",
      "Iteración 20 de 163\n",
      "MAE: 597468 | Mejor MAE hasta el momento: 593841 (i=17).\n",
      "Tiempo: 55 segundos - (0.92 minutos) - (0.02 horas).\n",
      "\n",
      "Iteración 21 de 163\n",
      "MAE: 592918 | Mejor MAE hasta el momento: 592918 (i=21).\n",
      "Tiempo: 57 segundos - (0.95 minutos) - (0.02 horas).\n",
      "\n",
      "Iteración 22 de 163\n",
      "MAE: 596450 | Mejor MAE hasta el momento: 592918 (i=21).\n",
      "Tiempo: 58 segundos - (0.97 minutos) - (0.02 horas).\n",
      "\n",
      "Iteración 23 de 163\n",
      "MAE: 598732 | Mejor MAE hasta el momento: 592918 (i=21).\n",
      "Tiempo: 61 segundos - (1.02 minutos) - (0.02 horas).\n",
      "\n",
      "Iteración 24 de 163\n",
      "MAE: 594293 | Mejor MAE hasta el momento: 592918 (i=21).\n",
      "Tiempo: 63 segundos - (1.05 minutos) - (0.02 horas).\n",
      "\n",
      "Iteración 25 de 163\n",
      "MAE: 593497 | Mejor MAE hasta el momento: 592918 (i=21).\n",
      "Tiempo: 65 segundos - (1.08 minutos) - (0.02 horas).\n",
      "\n",
      "Iteración 26 de 163\n",
      "MAE: 593311 | Mejor MAE hasta el momento: 592918 (i=21).\n",
      "Tiempo: 70 segundos - (1.17 minutos) - (0.02 horas).\n",
      "\n",
      "Iteración 27 de 163\n",
      "MAE: 592358 | Mejor MAE hasta el momento: 592358 (i=27).\n",
      "Tiempo: 71 segundos - (1.18 minutos) - (0.02 horas).\n",
      "\n",
      "Iteración 28 de 163\n",
      "MAE: 589507 | Mejor MAE hasta el momento: 589507 (i=28).\n",
      "Tiempo: 77 segundos - (1.28 minutos) - (0.02 horas).\n",
      "\n",
      "Iteración 29 de 163\n",
      "MAE: 594545 | Mejor MAE hasta el momento: 589507 (i=28).\n",
      "Tiempo: 78 segundos - (1.3 minutos) - (0.02 horas).\n",
      "\n",
      "Iteración 30 de 163\n",
      "MAE: 600029 | Mejor MAE hasta el momento: 589507 (i=28).\n",
      "Tiempo: 82 segundos - (1.37 minutos) - (0.02 horas).\n",
      "\n",
      "Iteración 31 de 163\n",
      "MAE: 597492 | Mejor MAE hasta el momento: 589507 (i=28).\n",
      "Tiempo: 82 segundos - (1.37 minutos) - (0.02 horas).\n",
      "\n",
      "Iteración 32 de 163\n",
      "MAE: 590724 | Mejor MAE hasta el momento: 589507 (i=28).\n",
      "Tiempo: 84 segundos - (1.4 minutos) - (0.02 horas).\n",
      "\n",
      "Iteración 33 de 163\n",
      "MAE: 591310 | Mejor MAE hasta el momento: 589507 (i=28).\n",
      "Tiempo: 87 segundos - (1.45 minutos) - (0.02 horas).\n",
      "\n",
      "Iteración 34 de 163\n",
      "MAE: 597795 | Mejor MAE hasta el momento: 589507 (i=28).\n",
      "Tiempo: 93 segundos - (1.55 minutos) - (0.03 horas).\n",
      "\n",
      "Iteración 35 de 163\n",
      "MAE: 592294 | Mejor MAE hasta el momento: 589507 (i=28).\n",
      "Tiempo: 93 segundos - (1.55 minutos) - (0.03 horas).\n",
      "\n",
      "Iteración 36 de 163\n",
      "MAE: 595118 | Mejor MAE hasta el momento: 589507 (i=28).\n",
      "Tiempo: 94 segundos - (1.57 minutos) - (0.03 horas).\n",
      "\n",
      "Iteración 37 de 163\n",
      "MAE: 593033 | Mejor MAE hasta el momento: 589507 (i=28).\n",
      "Tiempo: 95 segundos - (1.58 minutos) - (0.03 horas).\n",
      "\n",
      "Iteración 38 de 163\n",
      "MAE: 598391 | Mejor MAE hasta el momento: 589507 (i=28).\n",
      "Tiempo: 99 segundos - (1.65 minutos) - (0.03 horas).\n",
      "\n",
      "Iteración 39 de 163\n",
      "MAE: 590572 | Mejor MAE hasta el momento: 589507 (i=28).\n",
      "Tiempo: 99 segundos - (1.65 minutos) - (0.03 horas).\n",
      "\n",
      "Iteración 40 de 163\n",
      "MAE: 590315 | Mejor MAE hasta el momento: 589507 (i=28).\n",
      "Tiempo: 100 segundos - (1.67 minutos) - (0.03 horas).\n",
      "\n",
      "Iteración 41 de 163\n",
      "MAE: 596582 | Mejor MAE hasta el momento: 589507 (i=28).\n",
      "Tiempo: 102 segundos - (1.7 minutos) - (0.03 horas).\n",
      "\n",
      "Iteración 42 de 163\n",
      "MAE: 596434 | Mejor MAE hasta el momento: 589507 (i=28).\n",
      "Tiempo: 105 segundos - (1.75 minutos) - (0.03 horas).\n",
      "\n",
      "Iteración 43 de 163\n",
      "MAE: 593290 | Mejor MAE hasta el momento: 589507 (i=28).\n",
      "Tiempo: 108 segundos - (1.8 minutos) - (0.03 horas).\n",
      "\n",
      "Iteración 44 de 163\n",
      "MAE: 598857 | Mejor MAE hasta el momento: 589507 (i=28).\n",
      "Tiempo: 111 segundos - (1.85 minutos) - (0.03 horas).\n",
      "\n",
      "Iteración 45 de 163\n",
      "MAE: 595464 | Mejor MAE hasta el momento: 589507 (i=28).\n",
      "Tiempo: 113 segundos - (1.88 minutos) - (0.03 horas).\n",
      "\n",
      "Iteración 46 de 163\n",
      "MAE: 597244 | Mejor MAE hasta el momento: 589507 (i=28).\n",
      "Tiempo: 116 segundos - (1.93 minutos) - (0.03 horas).\n",
      "\n",
      "Iteración 47 de 163\n",
      "MAE: 591063 | Mejor MAE hasta el momento: 589507 (i=28).\n",
      "Tiempo: 116 segundos - (1.93 minutos) - (0.03 horas).\n",
      "\n",
      "Iteración 48 de 163\n",
      "MAE: 599786 | Mejor MAE hasta el momento: 589507 (i=28).\n",
      "Tiempo: 118 segundos - (1.97 minutos) - (0.03 horas).\n",
      "\n",
      "Iteración 49 de 163\n",
      "MAE: 596665 | Mejor MAE hasta el momento: 589507 (i=28).\n",
      "Tiempo: 119 segundos - (1.98 minutos) - (0.03 horas).\n",
      "\n",
      "Iteración 50 de 163\n",
      "MAE: 590697 | Mejor MAE hasta el momento: 589507 (i=28).\n",
      "Tiempo: 121 segundos - (2.02 minutos) - (0.03 horas).\n",
      "\n",
      "Iteración 51 de 163\n",
      "MAE: 597244 | Mejor MAE hasta el momento: 589507 (i=28).\n",
      "Tiempo: 121 segundos - (2.02 minutos) - (0.03 horas).\n",
      "\n",
      "Iteración 52 de 163\n",
      "MAE: 591223 | Mejor MAE hasta el momento: 589507 (i=28).\n",
      "Tiempo: 123 segundos - (2.05 minutos) - (0.03 horas).\n",
      "\n",
      "Iteración 53 de 163\n",
      "MAE: 588816 | Mejor MAE hasta el momento: 588816 (i=53).\n",
      "Tiempo: 125 segundos - (2.08 minutos) - (0.03 horas).\n",
      "\n",
      "Iteración 54 de 163\n",
      "MAE: 591190 | Mejor MAE hasta el momento: 588816 (i=53).\n",
      "Tiempo: 126 segundos - (2.1 minutos) - (0.04 horas).\n",
      "\n",
      "Iteración 55 de 163\n",
      "MAE: 596574 | Mejor MAE hasta el momento: 588816 (i=53).\n",
      "Tiempo: 126 segundos - (2.1 minutos) - (0.04 horas).\n",
      "\n",
      "Iteración 56 de 163\n",
      "MAE: 591123 | Mejor MAE hasta el momento: 588816 (i=53).\n",
      "Tiempo: 127 segundos - (2.12 minutos) - (0.04 horas).\n",
      "\n",
      "Iteración 57 de 163\n",
      "MAE: 591888 | Mejor MAE hasta el momento: 588816 (i=53).\n",
      "Tiempo: 128 segundos - (2.13 minutos) - (0.04 horas).\n",
      "\n",
      "Iteración 58 de 163\n",
      "MAE: 595233 | Mejor MAE hasta el momento: 588816 (i=53).\n",
      "Tiempo: 130 segundos - (2.17 minutos) - (0.04 horas).\n",
      "\n",
      "Iteración 59 de 163\n",
      "MAE: 591103 | Mejor MAE hasta el momento: 588816 (i=53).\n",
      "Tiempo: 131 segundos - (2.18 minutos) - (0.04 horas).\n",
      "\n",
      "Iteración 60 de 163\n",
      "MAE: 595414 | Mejor MAE hasta el momento: 588816 (i=53).\n",
      "Tiempo: 132 segundos - (2.2 minutos) - (0.04 horas).\n",
      "\n",
      "Iteración 61 de 163\n",
      "MAE: 591605 | Mejor MAE hasta el momento: 588816 (i=53).\n",
      "Tiempo: 135 segundos - (2.25 minutos) - (0.04 horas).\n",
      "\n",
      "Iteración 62 de 163\n",
      "MAE: 588134 | Mejor MAE hasta el momento: 588134 (i=62).\n",
      "Tiempo: 136 segundos - (2.27 minutos) - (0.04 horas).\n",
      "\n",
      "Iteración 63 de 163\n",
      "MAE: 590723 | Mejor MAE hasta el momento: 588134 (i=62).\n",
      "Tiempo: 136 segundos - (2.27 minutos) - (0.04 horas).\n",
      "\n",
      "Iteración 64 de 163\n"
     ]
    },
    {
     "name": "stdout",
     "output_type": "stream",
     "text": [
      "MAE: 592195 | Mejor MAE hasta el momento: 588134 (i=62).\n",
      "Tiempo: 136 segundos - (2.27 minutos) - (0.04 horas).\n",
      "\n",
      "Iteración 65 de 163\n",
      "MAE: 599491 | Mejor MAE hasta el momento: 588134 (i=62).\n",
      "Tiempo: 137 segundos - (2.28 minutos) - (0.04 horas).\n",
      "\n",
      "Iteración 66 de 163\n",
      "MAE: 594482 | Mejor MAE hasta el momento: 588134 (i=62).\n",
      "Tiempo: 139 segundos - (2.32 minutos) - (0.04 horas).\n",
      "\n",
      "Iteración 67 de 163\n",
      "MAE: 588410 | Mejor MAE hasta el momento: 588134 (i=62).\n",
      "Tiempo: 139 segundos - (2.32 minutos) - (0.04 horas).\n",
      "\n",
      "Iteración 68 de 163\n",
      "MAE: 597255 | Mejor MAE hasta el momento: 588134 (i=62).\n",
      "Tiempo: 141 segundos - (2.35 minutos) - (0.04 horas).\n",
      "\n",
      "Iteración 69 de 163\n",
      "MAE: 592736 | Mejor MAE hasta el momento: 588134 (i=62).\n",
      "Tiempo: 141 segundos - (2.35 minutos) - (0.04 horas).\n",
      "\n",
      "Iteración 70 de 163\n",
      "MAE: 586364 | Mejor MAE hasta el momento: 586364 (i=70).\n",
      "Tiempo: 143 segundos - (2.38 minutos) - (0.04 horas).\n",
      "\n",
      "Iteración 71 de 163\n",
      "MAE: 591453 | Mejor MAE hasta el momento: 586364 (i=70).\n",
      "Tiempo: 143 segundos - (2.38 minutos) - (0.04 horas).\n",
      "\n",
      "Iteración 72 de 163\n",
      "MAE: 593309 | Mejor MAE hasta el momento: 586364 (i=70).\n",
      "Tiempo: 145 segundos - (2.42 minutos) - (0.04 horas).\n",
      "\n",
      "Iteración 73 de 163\n",
      "MAE: 593267 | Mejor MAE hasta el momento: 586364 (i=70).\n",
      "Tiempo: 145 segundos - (2.42 minutos) - (0.04 horas).\n",
      "\n",
      "Iteración 74 de 163\n",
      "MAE: 590463 | Mejor MAE hasta el momento: 586364 (i=70).\n",
      "Tiempo: 147 segundos - (2.45 minutos) - (0.04 horas).\n",
      "\n",
      "Iteración 75 de 163\n",
      "MAE: 594424 | Mejor MAE hasta el momento: 586364 (i=70).\n",
      "Tiempo: 147 segundos - (2.45 minutos) - (0.04 horas).\n",
      "\n",
      "Iteración 76 de 163\n",
      "MAE: 596077 | Mejor MAE hasta el momento: 586364 (i=70).\n",
      "Tiempo: 148 segundos - (2.47 minutos) - (0.04 horas).\n",
      "\n",
      "Iteración 77 de 163\n",
      "MAE: 593161 | Mejor MAE hasta el momento: 586364 (i=70).\n",
      "Tiempo: 148 segundos - (2.47 minutos) - (0.04 horas).\n",
      "\n",
      "Iteración 78 de 163\n",
      "MAE: 591727 | Mejor MAE hasta el momento: 586364 (i=70).\n",
      "Tiempo: 150 segundos - (2.5 minutos) - (0.04 horas).\n",
      "\n",
      "Iteración 79 de 163\n",
      "MAE: 598438 | Mejor MAE hasta el momento: 586364 (i=70).\n",
      "Tiempo: 151 segundos - (2.52 minutos) - (0.04 horas).\n",
      "\n",
      "Iteración 80 de 163\n",
      "MAE: 595841 | Mejor MAE hasta el momento: 586364 (i=70).\n",
      "Tiempo: 152 segundos - (2.53 minutos) - (0.04 horas).\n",
      "\n",
      "Iteración 81 de 163\n",
      "MAE: 590934 | Mejor MAE hasta el momento: 586364 (i=70).\n",
      "Tiempo: 154 segundos - (2.57 minutos) - (0.04 horas).\n",
      "\n",
      "Iteración 82 de 163\n",
      "MAE: 598588 | Mejor MAE hasta el momento: 586364 (i=70).\n",
      "Tiempo: 156 segundos - (2.6 minutos) - (0.04 horas).\n",
      "\n",
      "Iteración 83 de 163\n",
      "MAE: 596408 | Mejor MAE hasta el momento: 586364 (i=70).\n",
      "Tiempo: 156 segundos - (2.6 minutos) - (0.04 horas).\n",
      "\n",
      "Iteración 84 de 163\n",
      "MAE: 596105 | Mejor MAE hasta el momento: 586364 (i=70).\n",
      "Tiempo: 158 segundos - (2.63 minutos) - (0.04 horas).\n",
      "\n",
      "Iteración 85 de 163\n",
      "MAE: 596151 | Mejor MAE hasta el momento: 586364 (i=70).\n",
      "Tiempo: 157 segundos - (2.62 minutos) - (0.04 horas).\n",
      "\n",
      "Iteración 86 de 163\n",
      "MAE: 592371 | Mejor MAE hasta el momento: 586364 (i=70).\n",
      "Tiempo: 161 segundos - (2.68 minutos) - (0.04 horas).\n",
      "\n",
      "Iteración 87 de 163\n",
      "MAE: 598172 | Mejor MAE hasta el momento: 586364 (i=70).\n",
      "Tiempo: 159 segundos - (2.65 minutos) - (0.04 horas).\n",
      "\n",
      "Iteración 88 de 163\n",
      "MAE: 588540 | Mejor MAE hasta el momento: 586364 (i=70).\n",
      "Tiempo: 161 segundos - (2.68 minutos) - (0.04 horas).\n",
      "\n",
      "Iteración 89 de 163\n",
      "MAE: 593072 | Mejor MAE hasta el momento: 586364 (i=70).\n",
      "Tiempo: 160 segundos - (2.67 minutos) - (0.04 horas).\n",
      "\n",
      "Iteración 90 de 163\n",
      "MAE: 597006 | Mejor MAE hasta el momento: 586364 (i=70).\n",
      "Tiempo: 161 segundos - (2.68 minutos) - (0.04 horas).\n",
      "\n",
      "Iteración 91 de 163\n",
      "MAE: 599727 | Mejor MAE hasta el momento: 586364 (i=70).\n",
      "Tiempo: 161 segundos - (2.68 minutos) - (0.04 horas).\n",
      "\n",
      "Iteración 92 de 163\n",
      "MAE: 594079 | Mejor MAE hasta el momento: 586364 (i=70).\n",
      "Tiempo: 163 segundos - (2.72 minutos) - (0.05 horas).\n",
      "\n",
      "Iteración 93 de 163\n",
      "MAE: 593222 | Mejor MAE hasta el momento: 586364 (i=70).\n",
      "Tiempo: 163 segundos - (2.72 minutos) - (0.05 horas).\n",
      "\n",
      "Iteración 94 de 163\n",
      "MAE: 593900 | Mejor MAE hasta el momento: 586364 (i=70).\n",
      "Tiempo: 165 segundos - (2.75 minutos) - (0.05 horas).\n",
      "\n",
      "Iteración 95 de 163\n",
      "MAE: 601393 | Mejor MAE hasta el momento: 586364 (i=70).\n",
      "Tiempo: 165 segundos - (2.75 minutos) - (0.05 horas).\n",
      "\n",
      "Iteración 96 de 163\n",
      "MAE: 597152 | Mejor MAE hasta el momento: 586364 (i=70).\n",
      "Tiempo: 165 segundos - (2.75 minutos) - (0.05 horas).\n",
      "\n",
      "Iteración 97 de 163\n",
      "MAE: 590455 | Mejor MAE hasta el momento: 586364 (i=70).\n",
      "Tiempo: 168 segundos - (2.8 minutos) - (0.05 horas).\n",
      "\n",
      "Iteración 98 de 163\n",
      "MAE: 594673 | Mejor MAE hasta el momento: 586364 (i=70).\n",
      "Tiempo: 169 segundos - (2.82 minutos) - (0.05 horas).\n",
      "\n",
      "Iteración 99 de 163\n",
      "MAE: 599071 | Mejor MAE hasta el momento: 586364 (i=70).\n",
      "Tiempo: 170 segundos - (2.83 minutos) - (0.05 horas).\n",
      "\n",
      "Iteración 100 de 163\n",
      "MAE: 593121 | Mejor MAE hasta el momento: 586364 (i=70).\n",
      "Tiempo: 171 segundos - (2.85 minutos) - (0.05 horas).\n",
      "\n",
      "Iteración 101 de 163\n",
      "MAE: 598870 | Mejor MAE hasta el momento: 586364 (i=70).\n",
      "Tiempo: 172 segundos - (2.87 minutos) - (0.05 horas).\n",
      "\n",
      "Iteración 102 de 163\n",
      "MAE: 598106 | Mejor MAE hasta el momento: 586364 (i=70).\n",
      "Tiempo: 173 segundos - (2.88 minutos) - (0.05 horas).\n",
      "\n",
      "Iteración 103 de 163\n",
      "MAE: 596456 | Mejor MAE hasta el momento: 586364 (i=70).\n",
      "Tiempo: 172 segundos - (2.87 minutos) - (0.05 horas).\n",
      "\n",
      "Iteración 104 de 163\n",
      "MAE: 597350 | Mejor MAE hasta el momento: 586364 (i=70).\n",
      "Tiempo: 177 segundos - (2.95 minutos) - (0.05 horas).\n",
      "\n",
      "Iteración 105 de 163\n",
      "MAE: 598240 | Mejor MAE hasta el momento: 586364 (i=70).\n",
      "Tiempo: 175 segundos - (2.92 minutos) - (0.05 horas).\n",
      "\n",
      "Iteración 106 de 163\n",
      "MAE: 591627 | Mejor MAE hasta el momento: 586364 (i=70).\n",
      "Tiempo: 176 segundos - (2.93 minutos) - (0.05 horas).\n",
      "\n",
      "Iteración 107 de 163\n",
      "MAE: 596111 | Mejor MAE hasta el momento: 586364 (i=70).\n",
      "Tiempo: 176 segundos - (2.93 minutos) - (0.05 horas).\n",
      "\n",
      "Iteración 108 de 163\n",
      "MAE: 593620 | Mejor MAE hasta el momento: 586364 (i=70).\n",
      "Tiempo: 178 segundos - (2.97 minutos) - (0.05 horas).\n",
      "\n",
      "Iteración 109 de 163\n",
      "MAE: 594911 | Mejor MAE hasta el momento: 586364 (i=70).\n",
      "Tiempo: 177 segundos - (2.95 minutos) - (0.05 horas).\n",
      "\n",
      "Iteración 110 de 163\n",
      "MAE: 600799 | Mejor MAE hasta el momento: 586364 (i=70).\n",
      "Tiempo: 178 segundos - (2.97 minutos) - (0.05 horas).\n",
      "\n",
      "Iteración 111 de 163\n",
      "MAE: 595045 | Mejor MAE hasta el momento: 586364 (i=70).\n",
      "Tiempo: 179 segundos - (2.98 minutos) - (0.05 horas).\n",
      "\n",
      "Iteración 112 de 163\n",
      "MAE: 591286 | Mejor MAE hasta el momento: 586364 (i=70).\n",
      "Tiempo: 180 segundos - (3.0 minutos) - (0.05 horas).\n",
      "\n",
      "Iteración 113 de 163\n",
      "MAE: 592471 | Mejor MAE hasta el momento: 586364 (i=70).\n",
      "Tiempo: 181 segundos - (3.02 minutos) - (0.05 horas).\n",
      "\n",
      "Iteración 114 de 163\n",
      "MAE: 587957 | Mejor MAE hasta el momento: 586364 (i=70).\n",
      "Tiempo: 181 segundos - (3.02 minutos) - (0.05 horas).\n",
      "\n",
      "Iteración 115 de 163\n",
      "MAE: 593906 | Mejor MAE hasta el momento: 586364 (i=70).\n",
      "Tiempo: 182 segundos - (3.03 minutos) - (0.05 horas).\n",
      "\n",
      "Iteración 116 de 163\n",
      "MAE: 596752 | Mejor MAE hasta el momento: 586364 (i=70).\n",
      "Tiempo: 183 segundos - (3.05 minutos) - (0.05 horas).\n",
      "\n",
      "Iteración 117 de 163\n",
      "MAE: 593683 | Mejor MAE hasta el momento: 586364 (i=70).\n",
      "Tiempo: 182 segundos - (3.03 minutos) - (0.05 horas).\n",
      "\n",
      "Iteración 118 de 163\n",
      "MAE: 593332 | Mejor MAE hasta el momento: 586364 (i=70).\n",
      "Tiempo: 185 segundos - (3.08 minutos) - (0.05 horas).\n",
      "\n",
      "Iteración 119 de 163\n",
      "MAE: 587797 | Mejor MAE hasta el momento: 586364 (i=70).\n",
      "Tiempo: 184 segundos - (3.07 minutos) - (0.05 horas).\n",
      "\n",
      "Iteración 120 de 163\n",
      "MAE: 592812 | Mejor MAE hasta el momento: 586364 (i=70).\n",
      "Tiempo: 186 segundos - (3.1 minutos) - (0.05 horas).\n",
      "\n",
      "Iteración 121 de 163\n",
      "MAE: 591254 | Mejor MAE hasta el momento: 586364 (i=70).\n",
      "Tiempo: 185 segundos - (3.08 minutos) - (0.05 horas).\n",
      "\n",
      "Iteración 122 de 163\n",
      "MAE: 596682 | Mejor MAE hasta el momento: 586364 (i=70).\n",
      "Tiempo: 186 segundos - (3.1 minutos) - (0.05 horas).\n",
      "\n",
      "Iteración 123 de 163\n",
      "MAE: 596722 | Mejor MAE hasta el momento: 586364 (i=70).\n",
      "Tiempo: 186 segundos - (3.1 minutos) - (0.05 horas).\n",
      "\n",
      "Iteración 124 de 163\n",
      "MAE: 600848 | Mejor MAE hasta el momento: 586364 (i=70).\n",
      "Tiempo: 187 segundos - (3.12 minutos) - (0.05 horas).\n",
      "\n",
      "Iteración 125 de 163\n",
      "MAE: 589727 | Mejor MAE hasta el momento: 586364 (i=70).\n",
      "Tiempo: 187 segundos - (3.12 minutos) - (0.05 horas).\n",
      "\n",
      "Iteración 126 de 163\n"
     ]
    },
    {
     "name": "stdout",
     "output_type": "stream",
     "text": [
      "MAE: 593129 | Mejor MAE hasta el momento: 586364 (i=70).\n",
      "Tiempo: 191 segundos - (3.18 minutos) - (0.05 horas).\n",
      "\n",
      "Iteración 127 de 163\n",
      "MAE: 595776 | Mejor MAE hasta el momento: 586364 (i=70).\n",
      "Tiempo: 190 segundos - (3.17 minutos) - (0.05 horas).\n",
      "\n",
      "Iteración 128 de 163\n",
      "MAE: 590918 | Mejor MAE hasta el momento: 586364 (i=70).\n",
      "Tiempo: 189 segundos - (3.15 minutos) - (0.05 horas).\n",
      "\n",
      "Iteración 129 de 163\n",
      "MAE: 591460 | Mejor MAE hasta el momento: 586364 (i=70).\n",
      "Tiempo: 191 segundos - (3.18 minutos) - (0.05 horas).\n",
      "\n",
      "Iteración 130 de 163\n",
      "MAE: 593409 | Mejor MAE hasta el momento: 586364 (i=70).\n",
      "Tiempo: 192 segundos - (3.2 minutos) - (0.05 horas).\n",
      "\n",
      "Iteración 131 de 163\n",
      "MAE: 595267 | Mejor MAE hasta el momento: 586364 (i=70).\n",
      "Tiempo: 192 segundos - (3.2 minutos) - (0.05 horas).\n",
      "\n",
      "Iteración 132 de 163\n",
      "MAE: 595925 | Mejor MAE hasta el momento: 586364 (i=70).\n",
      "Tiempo: 195 segundos - (3.25 minutos) - (0.05 horas).\n",
      "\n",
      "Iteración 133 de 163\n",
      "MAE: 595744 | Mejor MAE hasta el momento: 586364 (i=70).\n",
      "Tiempo: 192 segundos - (3.2 minutos) - (0.05 horas).\n",
      "\n",
      "Iteración 134 de 163\n",
      "MAE: 589060 | Mejor MAE hasta el momento: 586364 (i=70).\n",
      "Tiempo: 196 segundos - (3.27 minutos) - (0.05 horas).\n",
      "\n",
      "Iteración 135 de 163\n",
      "MAE: 589291 | Mejor MAE hasta el momento: 586364 (i=70).\n",
      "Tiempo: 194 segundos - (3.23 minutos) - (0.05 horas).\n",
      "\n",
      "Iteración 136 de 163\n",
      "MAE: 591619 | Mejor MAE hasta el momento: 586364 (i=70).\n",
      "Tiempo: 195 segundos - (3.25 minutos) - (0.05 horas).\n",
      "\n",
      "Iteración 137 de 163\n",
      "MAE: 593069 | Mejor MAE hasta el momento: 586364 (i=70).\n",
      "Tiempo: 197 segundos - (3.28 minutos) - (0.05 horas).\n",
      "\n",
      "Iteración 138 de 163\n",
      "MAE: 599082 | Mejor MAE hasta el momento: 586364 (i=70).\n",
      "Tiempo: 198 segundos - (3.3 minutos) - (0.06 horas).\n",
      "\n",
      "Iteración 139 de 163\n",
      "MAE: 596872 | Mejor MAE hasta el momento: 586364 (i=70).\n",
      "Tiempo: 197 segundos - (3.28 minutos) - (0.05 horas).\n",
      "\n",
      "Iteración 140 de 163\n",
      "MAE: 595535 | Mejor MAE hasta el momento: 586364 (i=70).\n",
      "Tiempo: 200 segundos - (3.33 minutos) - (0.06 horas).\n",
      "\n",
      "Iteración 141 de 163\n",
      "MAE: 590006 | Mejor MAE hasta el momento: 586364 (i=70).\n",
      "Tiempo: 198 segundos - (3.3 minutos) - (0.06 horas).\n",
      "\n",
      "Iteración 142 de 163\n",
      "MAE: 585916 | Mejor MAE hasta el momento: 585916 (i=142).\n",
      "Tiempo: 200 segundos - (3.33 minutos) - (0.06 horas).\n",
      "\n",
      "Iteración 143 de 163\n",
      "MAE: 593069 | Mejor MAE hasta el momento: 585916 (i=142).\n",
      "Tiempo: 199 segundos - (3.32 minutos) - (0.06 horas).\n",
      "\n",
      "Iteración 144 de 163\n",
      "MAE: 588508 | Mejor MAE hasta el momento: 585916 (i=142).\n",
      "Tiempo: 201 segundos - (3.35 minutos) - (0.06 horas).\n",
      "\n",
      "Iteración 145 de 163\n",
      "MAE: 597436 | Mejor MAE hasta el momento: 585916 (i=142).\n",
      "Tiempo: 201 segundos - (3.35 minutos) - (0.06 horas).\n",
      "\n",
      "Iteración 146 de 163\n",
      "MAE: 595090 | Mejor MAE hasta el momento: 585916 (i=142).\n",
      "Tiempo: 203 segundos - (3.38 minutos) - (0.06 horas).\n",
      "\n",
      "Iteración 147 de 163\n",
      "MAE: 590088 | Mejor MAE hasta el momento: 585916 (i=142).\n",
      "Tiempo: 202 segundos - (3.37 minutos) - (0.06 horas).\n",
      "\n",
      "Iteración 148 de 163\n",
      "MAE: 586678 | Mejor MAE hasta el momento: 585916 (i=142).\n",
      "Tiempo: 203 segundos - (3.38 minutos) - (0.06 horas).\n",
      "\n",
      "Iteración 149 de 163\n",
      "MAE: 589975 | Mejor MAE hasta el momento: 585916 (i=142).\n",
      "Tiempo: 203 segundos - (3.38 minutos) - (0.06 horas).\n",
      "\n",
      "Iteración 150 de 163\n",
      "MAE: 596017 | Mejor MAE hasta el momento: 585916 (i=142).\n",
      "Tiempo: 206 segundos - (3.43 minutos) - (0.06 horas).\n",
      "\n",
      "Iteración 151 de 163\n",
      "MAE: 587594 | Mejor MAE hasta el momento: 585916 (i=142).\n",
      "Tiempo: 204 segundos - (3.4 minutos) - (0.06 horas).\n",
      "\n",
      "Iteración 152 de 163\n",
      "MAE: 594805 | Mejor MAE hasta el momento: 585916 (i=142).\n",
      "Tiempo: 206 segundos - (3.43 minutos) - (0.06 horas).\n",
      "\n",
      "Iteración 153 de 163\n",
      "MAE: 587723 | Mejor MAE hasta el momento: 585916 (i=142).\n",
      "Tiempo: 206 segundos - (3.43 minutos) - (0.06 horas).\n",
      "\n",
      "Iteración 154 de 163\n",
      "MAE: 586535 | Mejor MAE hasta el momento: 585916 (i=142).\n",
      "Tiempo: 207 segundos - (3.45 minutos) - (0.06 horas).\n",
      "\n",
      "Iteración 155 de 163\n",
      "MAE: 593993 | Mejor MAE hasta el momento: 585916 (i=142).\n",
      "Tiempo: 207 segundos - (3.45 minutos) - (0.06 horas).\n",
      "\n",
      "Iteración 156 de 163\n",
      "MAE: 598025 | Mejor MAE hasta el momento: 585916 (i=142).\n",
      "Tiempo: 207 segundos - (3.45 minutos) - (0.06 horas).\n",
      "\n",
      "Iteración 157 de 163\n",
      "MAE: 595114 | Mejor MAE hasta el momento: 585916 (i=142).\n",
      "Tiempo: 209 segundos - (3.48 minutos) - (0.06 horas).\n",
      "\n",
      "Iteración 158 de 163\n",
      "MAE: 595724 | Mejor MAE hasta el momento: 585916 (i=142).\n",
      "Tiempo: 209 segundos - (3.48 minutos) - (0.06 horas).\n",
      "\n",
      "Iteración 159 de 163\n",
      "MAE: 591347 | Mejor MAE hasta el momento: 585916 (i=142).\n",
      "Tiempo: 211 segundos - (3.52 minutos) - (0.06 horas).\n",
      "\n",
      "Iteración 160 de 163\n",
      "MAE: 587489 | Mejor MAE hasta el momento: 585916 (i=142).\n",
      "Tiempo: 206 segundos - (3.43 minutos) - (0.06 horas).\n",
      "\n",
      "Iteración 161 de 163\n",
      "MAE: 591676 | Mejor MAE hasta el momento: 585916 (i=142).\n",
      "Tiempo: 213 segundos - (3.55 minutos) - (0.06 horas).\n",
      "\n",
      "Iteración 162 de 163\n",
      "MAE: 593383 | Mejor MAE hasta el momento: 585916 (i=142).\n",
      "Tiempo: 214 segundos - (3.57 minutos) - (0.06 horas).\n",
      "\n",
      "Iteración 163 de 163\n",
      "MAE: 591632 | Mejor MAE hasta el momento: 585916 (i=142).\n",
      "Tiempo: 215 segundos - (3.58 minutos) - (0.06 horas).\n",
      "\n"
     ]
    }
   ],
   "source": [
    "Y = train['precio'].values\n",
    "\n",
    "best_mae = 99999999999\n",
    "last_mae = 99999999999\n",
    "features_grosos = []\n",
    "features_muy_grosos = []\n",
    "\n",
    "for i, features in enumerate(lista_progresiva):\n",
    "    print(f\"Iteración {i+1} de {len(lista_progresiva)}\")\n",
    "    start = datetime.now()\n",
    "    \n",
    "    train_i = train[features] \n",
    "    X = train_i.values\n",
    "    X_train, X_val, Y_train, Y_val = train_test_split(X, Y, test_size=0.2)\n",
    "    \n",
    "    reg = RandomForestRegressor(n_estimators = 100, random_state=seed, verbose=0, max_depth=10, n_jobs=3)\n",
    "    reg.fit(X_train, Y_train)\n",
    "    \n",
    "    y_pred = reg.predict(X_val)\n",
    "    mae = metrics.mean_absolute_error(Y_val, y_pred)\n",
    "    \n",
    "    if (mae<last_mae):\n",
    "        features_grosos.append(features[-1])\n",
    "    \n",
    "    if (mae<best_mae):\n",
    "        best_mae = mae\n",
    "        best_features = features\n",
    "        features_muy_grosos.append(features[-1])\n",
    "    \n",
    "    last_mae = mae\n",
    "    \n",
    "    stop = datetime.now()\n",
    "    time = (stop-start).seconds\n",
    "    \n",
    "    print(f\"MAE: {int(mae)} | Mejor MAE hasta el momento: {int(best_mae)} (i={len(best_features)}).\")\n",
    "    print(f\"Tiempo: {time} segundos - ({round((time/60),2)} minutos) - ({round((time/3600),2)} horas).\\n\")\n",
    "    "
   ]
  },
  {
   "cell_type": "code",
   "execution_count": 93,
   "metadata": {
    "scrolled": true
   },
   "outputs": [
    {
     "name": "stdout",
     "output_type": "stream",
     "text": [
      "['idzona_meanencoding_m0', 'metroscubiertos_alt', 'metroscubiertos_i1', 'tipodepropiedad_6_pol', 'metroscubiertos', 'ciudad_cara', 'timestamp_scaled', 'tipodepropiedad_2_pol', 'idzona', 'timestamp', 'antiguedad', 'ciudad_me_m4', 'metroscubiertos_city_mean', 'provincia_me_m0', 'metrostotales_i1', 'idzona_meanencoding_m1', 'banos', 'metrostotales_alt', 'ciudad_me_m1', 'ciudad_me_m3', 'ciudad_me_m2', 'metroscubiertos_tipo_mean', 'idzona_meanencoding_m4', 'garages', 'precio_promedio_metrocubierto_aniomes', 'idzona_meanencoding_m2', 'metroscubiertos_city_std', 'metrostotales_i2', 'metrostotales', 'idzona_meanencoding_m3', 'es_Distrito Federal', 'metroscubiertos_tipo_std', 'lng', 'usd_precio_promedio_mensual', 'lat', 'ciudad_normal', 'habitaciones', 'aniomes_me_m3', 'tipodepropiedad_0_pol', 'es_Edo. de México', 'dia_featured', 'aniomes_me_m4', 'aniomes_me_m2', 'aniomes_me_m1', 'aniomes_me_m0', 'usd_variacion_mes_anterior', 'tipodepropiedad_3_pol', 'ciudad_6_binary', 'usd_variacion', 'tipodepropiedad_1_pol', 'terraza', 'antiguedad_binning_1_ohe1', 'aniomes', 'tipodepropiedad_4_pol', 'ciudad_top50_14_ohe', 'tipodepropiedad_2_binary', 'tipodepropiedad_1_binary', 'precio_promedio_metrocubierto_mes', 'vigilancia', 'piscina', 'mes_featured', 'mes', 'jardin', 'gimnasio', 'ciudad_top50_22_ohe', 'ciudad_top50_1_ohe', 'ciudad_7_binary', 'ciudad_5_binary', 'antiguedad_binning_3_ohe1', 'antiguedad_binning_2_ohe1', 'volcanes_cerca', 'usosmultiples', 'tipodepropiedad_5_pol', 'tipodepropiedad_3_binary', 'servicio', 'parrilla', 'metrostotales_confiables_alt', 'lujo', 'hab_binning_me_m4', 'hab_binning_me_m3', 'hab_binning_me_m2', 'hab_binning_me_m1', 'hab_binning_me_m0', 'escuelascercanas', 'ciudad_top50_5_ohe', 'ciudad_top50_4_ohe', 'ciudad_top50_40_ohe', 'ciudad_top50_38_ohe', 'ciudad_top50_35_ohe', 'ciudad_top50_28_ohe', 'ciudad_top50_19_ohe', 'ciudad_top50_12_ohe', 'ciudad_4_binary', 'ciudad_3_binary', 'ciudad_2_binary', 'centroscomercialescercanos', 'apto_chicos', 'antiguedad_binning_7_ohe1', 'antiguedad_binning_6_ohe1', 'antiguedad_binning_5_ohe1', 'antiguedad_binning_4_ohe1', 'volcan_cerca', 'ventilador', 'usd_subio', 'tipodepropiedad_0_binary', 'intercept_pol', 'full', 'es_Yucatán', 'es_Veracruz', 'es_San luis Potosí', 'es_Querétaro', 'es_Puebla', 'es_Nuevo León', 'es_Morelos', 'es_Jalisco', 'dic2016', 'ciudad_top50_9_ohe', 'ciudad_top50_8_ohe', 'ciudad_top50_7_ohe', 'ciudad_top50_6_ohe', 'ciudad_top50_50_ohe', 'ciudad_top50_49_ohe', 'ciudad_top50_48_ohe', 'ciudad_top50_47_ohe', 'ciudad_top50_46_ohe', 'ciudad_top50_45_ohe', 'ciudad_top50_44_ohe', 'ciudad_top50_43_ohe', 'ciudad_top50_42_ohe', 'ciudad_top50_41_ohe', 'ciudad_top50_3_ohe', 'ciudad_top50_39_ohe', 'ciudad_top50_37_ohe', 'ciudad_top50_36_ohe', 'ciudad_top50_34_ohe', 'ciudad_top50_33_ohe', 'ciudad_top50_32_ohe', 'ciudad_top50_31_ohe', 'ciudad_top50_30_ohe', 'ciudad_top50_2_ohe', 'ciudad_top50_29_ohe', 'ciudad_top50_27_ohe']\n"
     ]
    }
   ],
   "source": [
    "print(best_features)"
   ]
  },
  {
   "cell_type": "code",
   "execution_count": 94,
   "metadata": {},
   "outputs": [
    {
     "name": "stdout",
     "output_type": "stream",
     "text": [
      "['idzona_meanencoding_m0', 'metroscubiertos_alt', 'metroscubiertos_i1', 'tipodepropiedad_6_pol', 'metroscubiertos', 'ciudad_cara', 'timestamp_scaled', 'tipodepropiedad_2_pol', 'idzona', 'antiguedad', 'ciudad_me_m4', 'metroscubiertos_city_mean', 'provincia_me_m0', 'banos', 'ciudad_me_m1', 'ciudad_me_m2', 'garages', 'precio_promedio_metrocubierto_aniomes', 'idzona_meanencoding_m2', 'metroscubiertos_city_std', 'metrostotales_i2', 'es_Distrito Federal', 'metroscubiertos_tipo_std', 'lat', 'habitaciones', 'tipodepropiedad_0_pol', 'es_Edo. de México', 'aniomes_me_m4', 'aniomes_me_m2', 'aniomes_me_m0', 'tipodepropiedad_3_pol', 'usd_variacion', 'tipodepropiedad_1_pol', 'antiguedad_binning_1_ohe1', 'aniomes', 'tipodepropiedad_2_binary', 'vigilancia', 'mes_featured', 'mes', 'ciudad_top50_1_ohe', 'ciudad_7_binary', 'antiguedad_binning_3_ohe1', 'antiguedad_binning_2_ohe1', 'tipodepropiedad_5_pol', 'tipodepropiedad_3_binary', 'metrostotales_confiables_alt', 'lujo', 'hab_binning_me_m3', 'hab_binning_me_m2', 'hab_binning_me_m0', 'escuelascercanas', 'ciudad_top50_4_ohe', 'ciudad_top50_38_ohe', 'ciudad_top50_12_ohe', 'ciudad_4_binary', 'centroscomercialescercanos', 'apto_chicos', 'antiguedad_binning_5_ohe1', 'volcan_cerca', 'ventilador', 'intercept_pol', 'es_Yucatán', 'es_Querétaro', 'es_Puebla', 'es_Morelos', 'ciudad_top50_9_ohe', 'ciudad_top50_8_ohe', 'ciudad_top50_7_ohe', 'ciudad_top50_50_ohe', 'ciudad_top50_46_ohe', 'ciudad_top50_43_ohe', 'ciudad_top50_37_ohe', 'ciudad_top50_36_ohe', 'ciudad_top50_30_ohe', 'ciudad_top50_2_ohe', 'ciudad_top50_29_ohe', 'ciudad_top50_27_ohe', 'ciudad_top50_25_ohe', 'ciudad_top50_23_ohe', 'ciudad_top50_21_ohe', 'ciudad_top50_20_ohe', 'ciudad_top50_16_ohe', 'ciudad_top50_13_ohe', 'ciudad_top50_11_ohe', 'ciudad_1_binary', 'calefaccion', 'antiguedad_binning_9_ohe1', 'anio']\n"
     ]
    }
   ],
   "source": [
    "print(features_grosos)"
   ]
  },
  {
   "cell_type": "code",
   "execution_count": 95,
   "metadata": {
    "scrolled": true
   },
   "outputs": [
    {
     "name": "stdout",
     "output_type": "stream",
     "text": [
      "['idzona_meanencoding_m0', 'metroscubiertos_alt', 'metroscubiertos_i1', 'tipodepropiedad_6_pol', 'metroscubiertos', 'ciudad_cara', 'timestamp_scaled', 'tipodepropiedad_2_pol', 'idzona', 'antiguedad', 'ciudad_me_m4', 'metroscubiertos_city_mean', 'provincia_me_m0', 'banos', 'ciudad_me_m2', 'metroscubiertos_city_std', 'metrostotales_i2', 'aniomes', 'mes', 'antiguedad_binning_2_ohe1', 'ciudad_top50_27_ohe']\n"
     ]
    }
   ],
   "source": [
    "print(features_muy_grosos)"
   ]
  },
  {
   "cell_type": "code",
   "execution_count": 101,
   "metadata": {},
   "outputs": [],
   "source": [
    "# Repetimos el proceso para las listas de features_grosos, teniendo en cuenta que quizas\n",
    "# eliminamos aun mas ruido."
   ]
  },
  {
   "cell_type": "code",
   "execution_count": 97,
   "metadata": {},
   "outputs": [],
   "source": [
    "lista_progresiva_2 = [features_grosos[:i] for i in range(1,len(features_grosos))]"
   ]
  },
  {
   "cell_type": "code",
   "execution_count": 98,
   "metadata": {},
   "outputs": [
    {
     "name": "stdout",
     "output_type": "stream",
     "text": [
      "Iteración 1 de 87\n",
      "MAE: 974483 | Mejor MAE hasta el momento: 974483 (i=1).\n",
      "Tiempo: 7 segundos - (0.12 minutos) - (0.0 horas).\n",
      "\n",
      "Iteración 2 de 87\n",
      "MAE: 737991 | Mejor MAE hasta el momento: 737991 (i=2).\n",
      "Tiempo: 10 segundos - (0.17 minutos) - (0.0 horas).\n",
      "\n",
      "Iteración 3 de 87\n",
      "MAE: 736232 | Mejor MAE hasta el momento: 736232 (i=3).\n",
      "Tiempo: 12 segundos - (0.2 minutos) - (0.0 horas).\n",
      "\n",
      "Iteración 4 de 87\n",
      "MAE: 693355 | Mejor MAE hasta el momento: 693355 (i=4).\n",
      "Tiempo: 15 segundos - (0.25 minutos) - (0.0 horas).\n",
      "\n",
      "Iteración 5 de 87\n",
      "MAE: 681390 | Mejor MAE hasta el momento: 681390 (i=5).\n",
      "Tiempo: 15 segundos - (0.25 minutos) - (0.0 horas).\n",
      "\n",
      "Iteración 6 de 87\n",
      "MAE: 662617 | Mejor MAE hasta el momento: 662617 (i=6).\n",
      "Tiempo: 15 segundos - (0.25 minutos) - (0.0 horas).\n",
      "\n",
      "Iteración 7 de 87\n",
      "MAE: 641235 | Mejor MAE hasta el momento: 641235 (i=7).\n",
      "Tiempo: 20 segundos - (0.33 minutos) - (0.01 horas).\n",
      "\n",
      "Iteración 8 de 87\n",
      "MAE: 638245 | Mejor MAE hasta el momento: 638245 (i=8).\n",
      "Tiempo: 21 segundos - (0.35 minutos) - (0.01 horas).\n",
      "\n",
      "Iteración 9 de 87\n",
      "MAE: 626612 | Mejor MAE hasta el momento: 626612 (i=9).\n",
      "Tiempo: 25 segundos - (0.42 minutos) - (0.01 horas).\n",
      "\n",
      "Iteración 10 de 87\n",
      "MAE: 619485 | Mejor MAE hasta el momento: 619485 (i=10).\n",
      "Tiempo: 27 segundos - (0.45 minutos) - (0.01 horas).\n",
      "\n",
      "Iteración 11 de 87\n",
      "MAE: 608025 | Mejor MAE hasta el momento: 608025 (i=11).\n",
      "Tiempo: 30 segundos - (0.5 minutos) - (0.01 horas).\n",
      "\n",
      "Iteración 12 de 87\n",
      "MAE: 609515 | Mejor MAE hasta el momento: 608025 (i=11).\n",
      "Tiempo: 32 segundos - (0.53 minutos) - (0.01 horas).\n",
      "\n",
      "Iteración 13 de 87\n",
      "MAE: 601736 | Mejor MAE hasta el momento: 601736 (i=13).\n",
      "Tiempo: 34 segundos - (0.57 minutos) - (0.01 horas).\n",
      "\n",
      "Iteración 14 de 87\n",
      "MAE: 600206 | Mejor MAE hasta el momento: 600206 (i=14).\n",
      "Tiempo: 35 segundos - (0.58 minutos) - (0.01 horas).\n",
      "\n",
      "Iteración 15 de 87\n",
      "MAE: 599563 | Mejor MAE hasta el momento: 599563 (i=15).\n",
      "Tiempo: 38 segundos - (0.63 minutos) - (0.01 horas).\n",
      "\n",
      "Iteración 16 de 87\n",
      "MAE: 600830 | Mejor MAE hasta el momento: 599563 (i=15).\n",
      "Tiempo: 39 segundos - (0.65 minutos) - (0.01 horas).\n",
      "\n",
      "Iteración 17 de 87\n",
      "MAE: 590411 | Mejor MAE hasta el momento: 590411 (i=17).\n",
      "Tiempo: 41 segundos - (0.68 minutos) - (0.01 horas).\n",
      "\n",
      "Iteración 18 de 87\n",
      "MAE: 593859 | Mejor MAE hasta el momento: 590411 (i=17).\n",
      "Tiempo: 43 segundos - (0.72 minutos) - (0.01 horas).\n",
      "\n",
      "Iteración 19 de 87\n",
      "MAE: 593151 | Mejor MAE hasta el momento: 590411 (i=17).\n",
      "Tiempo: 48 segundos - (0.8 minutos) - (0.01 horas).\n",
      "\n",
      "Iteración 20 de 87\n",
      "MAE: 591105 | Mejor MAE hasta el momento: 590411 (i=17).\n",
      "Tiempo: 50 segundos - (0.83 minutos) - (0.01 horas).\n",
      "\n",
      "Iteración 21 de 87\n",
      "MAE: 591965 | Mejor MAE hasta el momento: 590411 (i=17).\n",
      "Tiempo: 53 segundos - (0.88 minutos) - (0.01 horas).\n",
      "\n",
      "Iteración 22 de 87\n",
      "MAE: 592946 | Mejor MAE hasta el momento: 590411 (i=17).\n",
      "Tiempo: 54 segundos - (0.9 minutos) - (0.01 horas).\n",
      "\n",
      "Iteración 23 de 87\n",
      "MAE: 588176 | Mejor MAE hasta el momento: 588176 (i=23).\n",
      "Tiempo: 55 segundos - (0.92 minutos) - (0.02 horas).\n",
      "\n",
      "Iteración 24 de 87\n",
      "MAE: 594635 | Mejor MAE hasta el momento: 588176 (i=23).\n",
      "Tiempo: 58 segundos - (0.97 minutos) - (0.02 horas).\n",
      "\n",
      "Iteración 25 de 87\n",
      "MAE: 594734 | Mejor MAE hasta el momento: 588176 (i=23).\n",
      "Tiempo: 60 segundos - (1.0 minutos) - (0.02 horas).\n",
      "\n",
      "Iteración 26 de 87\n",
      "MAE: 596454 | Mejor MAE hasta el momento: 588176 (i=23).\n",
      "Tiempo: 61 segundos - (1.02 minutos) - (0.02 horas).\n",
      "\n",
      "Iteración 27 de 87\n",
      "MAE: 589619 | Mejor MAE hasta el momento: 588176 (i=23).\n",
      "Tiempo: 63 segundos - (1.05 minutos) - (0.02 horas).\n",
      "\n",
      "Iteración 28 de 87\n",
      "MAE: 597272 | Mejor MAE hasta el momento: 588176 (i=23).\n",
      "Tiempo: 64 segundos - (1.07 minutos) - (0.02 horas).\n",
      "\n",
      "Iteración 29 de 87\n",
      "MAE: 595508 | Mejor MAE hasta el momento: 588176 (i=23).\n",
      "Tiempo: 68 segundos - (1.13 minutos) - (0.02 horas).\n",
      "\n",
      "Iteración 30 de 87\n",
      "MAE: 591996 | Mejor MAE hasta el momento: 588176 (i=23).\n",
      "Tiempo: 69 segundos - (1.15 minutos) - (0.02 horas).\n",
      "\n",
      "Iteración 31 de 87\n",
      "MAE: 595906 | Mejor MAE hasta el momento: 588176 (i=23).\n",
      "Tiempo: 71 segundos - (1.18 minutos) - (0.02 horas).\n",
      "\n",
      "Iteración 32 de 87\n",
      "MAE: 593002 | Mejor MAE hasta el momento: 588176 (i=23).\n",
      "Tiempo: 72 segundos - (1.2 minutos) - (0.02 horas).\n",
      "\n",
      "Iteración 33 de 87\n",
      "MAE: 593073 | Mejor MAE hasta el momento: 588176 (i=23).\n",
      "Tiempo: 74 segundos - (1.23 minutos) - (0.02 horas).\n",
      "\n",
      "Iteración 34 de 87\n",
      "MAE: 593880 | Mejor MAE hasta el momento: 588176 (i=23).\n",
      "Tiempo: 75 segundos - (1.25 minutos) - (0.02 horas).\n",
      "\n",
      "Iteración 35 de 87\n",
      "MAE: 594419 | Mejor MAE hasta el momento: 588176 (i=23).\n",
      "Tiempo: 78 segundos - (1.3 minutos) - (0.02 horas).\n",
      "\n",
      "Iteración 36 de 87\n",
      "MAE: 597044 | Mejor MAE hasta el momento: 588176 (i=23).\n",
      "Tiempo: 78 segundos - (1.3 minutos) - (0.02 horas).\n",
      "\n",
      "Iteración 37 de 87\n",
      "MAE: 596228 | Mejor MAE hasta el momento: 588176 (i=23).\n",
      "Tiempo: 79 segundos - (1.32 minutos) - (0.02 horas).\n",
      "\n",
      "Iteración 38 de 87\n",
      "MAE: 593376 | Mejor MAE hasta el momento: 588176 (i=23).\n",
      "Tiempo: 81 segundos - (1.35 minutos) - (0.02 horas).\n",
      "\n",
      "Iteración 39 de 87\n",
      "MAE: 596305 | Mejor MAE hasta el momento: 588176 (i=23).\n",
      "Tiempo: 82 segundos - (1.37 minutos) - (0.02 horas).\n",
      "\n",
      "Iteración 40 de 87\n",
      "MAE: 592421 | Mejor MAE hasta el momento: 588176 (i=23).\n",
      "Tiempo: 84 segundos - (1.4 minutos) - (0.02 horas).\n",
      "\n",
      "Iteración 41 de 87\n",
      "MAE: 594991 | Mejor MAE hasta el momento: 588176 (i=23).\n",
      "Tiempo: 85 segundos - (1.42 minutos) - (0.02 horas).\n",
      "\n",
      "Iteración 42 de 87\n",
      "MAE: 587524 | Mejor MAE hasta el momento: 587524 (i=42).\n",
      "Tiempo: 109 segundos - (1.82 minutos) - (0.03 horas).\n",
      "\n",
      "Iteración 43 de 87\n",
      "MAE: 596464 | Mejor MAE hasta el momento: 587524 (i=42).\n",
      "Tiempo: 86 segundos - (1.43 minutos) - (0.02 horas).\n",
      "\n",
      "Iteración 44 de 87\n",
      "MAE: 591343 | Mejor MAE hasta el momento: 587524 (i=42).\n",
      "Tiempo: 86 segundos - (1.43 minutos) - (0.02 horas).\n",
      "\n",
      "Iteración 45 de 87\n",
      "MAE: 592449 | Mejor MAE hasta el momento: 587524 (i=42).\n",
      "Tiempo: 87 segundos - (1.45 minutos) - (0.02 horas).\n",
      "\n",
      "Iteración 46 de 87\n",
      "MAE: 593095 | Mejor MAE hasta el momento: 587524 (i=42).\n",
      "Tiempo: 88 segundos - (1.47 minutos) - (0.02 horas).\n",
      "\n",
      "Iteración 47 de 87\n",
      "MAE: 591757 | Mejor MAE hasta el momento: 587524 (i=42).\n",
      "Tiempo: 92 segundos - (1.53 minutos) - (0.03 horas).\n",
      "\n",
      "Iteración 48 de 87\n",
      "MAE: 598920 | Mejor MAE hasta el momento: 587524 (i=42).\n",
      "Tiempo: 89 segundos - (1.48 minutos) - (0.02 horas).\n",
      "\n",
      "Iteración 49 de 87\n",
      "MAE: 594727 | Mejor MAE hasta el momento: 587524 (i=42).\n",
      "Tiempo: 91 segundos - (1.52 minutos) - (0.03 horas).\n",
      "\n",
      "Iteración 50 de 87\n",
      "MAE: 594363 | Mejor MAE hasta el momento: 587524 (i=42).\n",
      "Tiempo: 92 segundos - (1.53 minutos) - (0.03 horas).\n",
      "\n",
      "Iteración 51 de 87\n",
      "MAE: 594968 | Mejor MAE hasta el momento: 587524 (i=42).\n",
      "Tiempo: 95 segundos - (1.58 minutos) - (0.03 horas).\n",
      "\n",
      "Iteración 52 de 87\n",
      "MAE: 588294 | Mejor MAE hasta el momento: 587524 (i=42).\n",
      "Tiempo: 98 segundos - (1.63 minutos) - (0.03 horas).\n",
      "\n",
      "Iteración 53 de 87\n",
      "MAE: 592828 | Mejor MAE hasta el momento: 587524 (i=42).\n",
      "Tiempo: 101 segundos - (1.68 minutos) - (0.03 horas).\n",
      "\n",
      "Iteración 54 de 87\n",
      "MAE: 596739 | Mejor MAE hasta el momento: 587524 (i=42).\n",
      "Tiempo: 96 segundos - (1.6 minutos) - (0.03 horas).\n",
      "\n",
      "Iteración 55 de 87\n",
      "MAE: 597670 | Mejor MAE hasta el momento: 587524 (i=42).\n",
      "Tiempo: 97 segundos - (1.62 minutos) - (0.03 horas).\n",
      "\n",
      "Iteración 56 de 87\n",
      "MAE: 594866 | Mejor MAE hasta el momento: 587524 (i=42).\n",
      "Tiempo: 99 segundos - (1.65 minutos) - (0.03 horas).\n",
      "\n",
      "Iteración 57 de 87\n",
      "MAE: 590822 | Mejor MAE hasta el momento: 587524 (i=42).\n",
      "Tiempo: 99 segundos - (1.65 minutos) - (0.03 horas).\n",
      "\n",
      "Iteración 58 de 87\n",
      "MAE: 594942 | Mejor MAE hasta el momento: 587524 (i=42).\n",
      "Tiempo: 99 segundos - (1.65 minutos) - (0.03 horas).\n",
      "\n",
      "Iteración 59 de 87\n",
      "MAE: 597328 | Mejor MAE hasta el momento: 587524 (i=42).\n",
      "Tiempo: 101 segundos - (1.68 minutos) - (0.03 horas).\n",
      "\n",
      "Iteración 60 de 87\n",
      "MAE: 591256 | Mejor MAE hasta el momento: 587524 (i=42).\n",
      "Tiempo: 101 segundos - (1.68 minutos) - (0.03 horas).\n",
      "\n",
      "Iteración 61 de 87\n",
      "MAE: 595113 | Mejor MAE hasta el momento: 587524 (i=42).\n",
      "Tiempo: 106 segundos - (1.77 minutos) - (0.03 horas).\n",
      "\n",
      "Iteración 62 de 87\n",
      "MAE: 592910 | Mejor MAE hasta el momento: 587524 (i=42).\n",
      "Tiempo: 102 segundos - (1.7 minutos) - (0.03 horas).\n",
      "\n",
      "Iteración 63 de 87\n",
      "MAE: 593392 | Mejor MAE hasta el momento: 587524 (i=42).\n",
      "Tiempo: 102 segundos - (1.7 minutos) - (0.03 horas).\n",
      "\n",
      "Iteración 64 de 87\n",
      "MAE: 596090 | Mejor MAE hasta el momento: 587524 (i=42).\n",
      "Tiempo: 110 segundos - (1.83 minutos) - (0.03 horas).\n",
      "\n",
      "Iteración 65 de 87\n"
     ]
    },
    {
     "name": "stdout",
     "output_type": "stream",
     "text": [
      "MAE: 592017 | Mejor MAE hasta el momento: 587524 (i=42).\n",
      "Tiempo: 106 segundos - (1.77 minutos) - (0.03 horas).\n",
      "\n",
      "Iteración 66 de 87\n",
      "MAE: 599645 | Mejor MAE hasta el momento: 587524 (i=42).\n",
      "Tiempo: 107 segundos - (1.78 minutos) - (0.03 horas).\n",
      "\n",
      "Iteración 67 de 87\n",
      "MAE: 588620 | Mejor MAE hasta el momento: 587524 (i=42).\n",
      "Tiempo: 109 segundos - (1.82 minutos) - (0.03 horas).\n",
      "\n",
      "Iteración 68 de 87\n",
      "MAE: 589372 | Mejor MAE hasta el momento: 587524 (i=42).\n",
      "Tiempo: 109 segundos - (1.82 minutos) - (0.03 horas).\n",
      "\n",
      "Iteración 69 de 87\n",
      "MAE: 589283 | Mejor MAE hasta el momento: 587524 (i=42).\n",
      "Tiempo: 109 segundos - (1.82 minutos) - (0.03 horas).\n",
      "\n",
      "Iteración 70 de 87\n",
      "MAE: 595837 | Mejor MAE hasta el momento: 587524 (i=42).\n",
      "Tiempo: 112 segundos - (1.87 minutos) - (0.03 horas).\n",
      "\n",
      "Iteración 71 de 87\n",
      "MAE: 599010 | Mejor MAE hasta el momento: 587524 (i=42).\n",
      "Tiempo: 109 segundos - (1.82 minutos) - (0.03 horas).\n",
      "\n",
      "Iteración 72 de 87\n",
      "MAE: 590989 | Mejor MAE hasta el momento: 587524 (i=42).\n",
      "Tiempo: 109 segundos - (1.82 minutos) - (0.03 horas).\n",
      "\n",
      "Iteración 73 de 87\n",
      "MAE: 592752 | Mejor MAE hasta el momento: 587524 (i=42).\n",
      "Tiempo: 108 segundos - (1.8 minutos) - (0.03 horas).\n",
      "\n",
      "Iteración 74 de 87\n",
      "MAE: 596015 | Mejor MAE hasta el momento: 587524 (i=42).\n",
      "Tiempo: 109 segundos - (1.82 minutos) - (0.03 horas).\n",
      "\n",
      "Iteración 75 de 87\n",
      "MAE: 594115 | Mejor MAE hasta el momento: 587524 (i=42).\n",
      "Tiempo: 115 segundos - (1.92 minutos) - (0.03 horas).\n",
      "\n",
      "Iteración 76 de 87\n",
      "MAE: 599480 | Mejor MAE hasta el momento: 587524 (i=42).\n",
      "Tiempo: 126 segundos - (2.1 minutos) - (0.04 horas).\n",
      "\n",
      "Iteración 77 de 87\n",
      "MAE: 597269 | Mejor MAE hasta el momento: 587524 (i=42).\n",
      "Tiempo: 122 segundos - (2.03 minutos) - (0.03 horas).\n",
      "\n",
      "Iteración 78 de 87\n",
      "MAE: 595879 | Mejor MAE hasta el momento: 587524 (i=42).\n",
      "Tiempo: 116 segundos - (1.93 minutos) - (0.03 horas).\n",
      "\n",
      "Iteración 79 de 87\n",
      "MAE: 596103 | Mejor MAE hasta el momento: 587524 (i=42).\n",
      "Tiempo: 112 segundos - (1.87 minutos) - (0.03 horas).\n",
      "\n",
      "Iteración 80 de 87\n",
      "MAE: 599816 | Mejor MAE hasta el momento: 587524 (i=42).\n",
      "Tiempo: 112 segundos - (1.87 minutos) - (0.03 horas).\n",
      "\n",
      "Iteración 81 de 87\n",
      "MAE: 589764 | Mejor MAE hasta el momento: 587524 (i=42).\n",
      "Tiempo: 116 segundos - (1.93 minutos) - (0.03 horas).\n",
      "\n",
      "Iteración 82 de 87\n",
      "MAE: 594469 | Mejor MAE hasta el momento: 587524 (i=42).\n",
      "Tiempo: 127 segundos - (2.12 minutos) - (0.04 horas).\n",
      "\n",
      "Iteración 83 de 87\n",
      "MAE: 597033 | Mejor MAE hasta el momento: 587524 (i=42).\n",
      "Tiempo: 117 segundos - (1.95 minutos) - (0.03 horas).\n",
      "\n",
      "Iteración 84 de 87\n",
      "MAE: 592992 | Mejor MAE hasta el momento: 587524 (i=42).\n",
      "Tiempo: 118 segundos - (1.97 minutos) - (0.03 horas).\n",
      "\n",
      "Iteración 85 de 87\n",
      "MAE: 594546 | Mejor MAE hasta el momento: 587524 (i=42).\n",
      "Tiempo: 116 segundos - (1.93 minutos) - (0.03 horas).\n",
      "\n",
      "Iteración 86 de 87\n",
      "MAE: 592400 | Mejor MAE hasta el momento: 587524 (i=42).\n",
      "Tiempo: 116 segundos - (1.93 minutos) - (0.03 horas).\n",
      "\n",
      "Iteración 87 de 87\n",
      "MAE: 592073 | Mejor MAE hasta el momento: 587524 (i=42).\n",
      "Tiempo: 136 segundos - (2.27 minutos) - (0.04 horas).\n",
      "\n"
     ]
    }
   ],
   "source": [
    "Y = train['precio'].values\n",
    "\n",
    "best_mae_2 = 99999999999\n",
    "last_mae = 99999999999\n",
    "features_grosos_2 = []\n",
    "features_muy_grosos_2 = []\n",
    "\n",
    "for i, features in enumerate(lista_progresiva_2):\n",
    "    print(f\"Iteración {i+1} de {len(lista_progresiva_2)}\")\n",
    "    start = datetime.now()\n",
    "    \n",
    "    train_i = train[features] \n",
    "    X = train_i.values\n",
    "    X_train, X_val, Y_train, Y_val = train_test_split(X, Y, test_size=0.2)\n",
    "    \n",
    "    reg = RandomForestRegressor(n_estimators = 100, random_state=seed, verbose=0, max_depth=10, n_jobs=3)\n",
    "    reg.fit(X_train, Y_train)\n",
    "    \n",
    "    y_pred = reg.predict(X_val)\n",
    "    mae = metrics.mean_absolute_error(Y_val, y_pred)\n",
    "    \n",
    "    if (mae<last_mae):\n",
    "        features_grosos_2.append(features[-1])\n",
    "    \n",
    "    if (mae<best_mae_2):\n",
    "        best_mae_2 = mae\n",
    "        best_features_2 = features\n",
    "        features_muy_grosos_2.append(features[-1])\n",
    "    \n",
    "    last_mae = mae\n",
    "    \n",
    "    stop = datetime.now()\n",
    "    time = (stop-start).seconds\n",
    "    \n",
    "    print(f\"MAE: {int(mae)} | Mejor MAE hasta el momento: {int(best_mae_2)} (i={len(best_features_2)}).\")\n",
    "    print(f\"Tiempo: {time} segundos - ({round((time/60),2)} minutos) - ({round((time/3600),2)} horas).\\n\")\n",
    "    "
   ]
  },
  {
   "cell_type": "code",
   "execution_count": 100,
   "metadata": {},
   "outputs": [
    {
     "name": "stdout",
     "output_type": "stream",
     "text": [
      "['idzona_meanencoding_m0', 'metroscubiertos_alt', 'metroscubiertos_i1', 'tipodepropiedad_6_pol', 'metroscubiertos', 'ciudad_cara', 'timestamp_scaled', 'tipodepropiedad_2_pol', 'idzona', 'antiguedad', 'ciudad_me_m4', 'metroscubiertos_city_mean', 'provincia_me_m0', 'banos', 'ciudad_me_m1', 'ciudad_me_m2', 'garages', 'precio_promedio_metrocubierto_aniomes', 'idzona_meanencoding_m2', 'metroscubiertos_city_std', 'metrostotales_i2', 'es_Distrito Federal', 'metroscubiertos_tipo_std', 'lat', 'habitaciones', 'tipodepropiedad_0_pol', 'es_Edo. de México', 'aniomes_me_m4', 'aniomes_me_m2', 'aniomes_me_m0', 'tipodepropiedad_3_pol', 'usd_variacion', 'tipodepropiedad_1_pol', 'antiguedad_binning_1_ohe1', 'aniomes', 'tipodepropiedad_2_binary', 'vigilancia', 'mes_featured', 'mes', 'ciudad_top50_1_ohe', 'ciudad_7_binary', 'antiguedad_binning_3_ohe1']\n"
     ]
    }
   ],
   "source": [
    "print(best_features_2)"
   ]
  },
  {
   "cell_type": "code",
   "execution_count": 107,
   "metadata": {
    "scrolled": false
   },
   "outputs": [
    {
     "name": "stdout",
     "output_type": "stream",
     "text": [
      "['idzona_meanencoding_m0', 'metroscubiertos_alt', 'metroscubiertos_i1', 'tipodepropiedad_6_pol', 'metroscubiertos', 'ciudad_cara', 'timestamp_scaled', 'tipodepropiedad_2_pol', 'idzona', 'antiguedad', 'ciudad_me_m4', 'provincia_me_m0', 'banos', 'ciudad_me_m1', 'garages', 'metroscubiertos_tipo_std', 'antiguedad_binning_3_ohe1']\n"
     ]
    }
   ],
   "source": [
    "print(features_muy_grosos_2)"
   ]
  },
  {
   "cell_type": "code",
   "execution_count": 108,
   "metadata": {},
   "outputs": [],
   "source": [
    "# Chequeamos para las dos listas de features_muy_grosos cuanto da:"
   ]
  },
  {
   "cell_type": "code",
   "execution_count": 110,
   "metadata": {},
   "outputs": [
    {
     "name": "stdout",
     "output_type": "stream",
     "text": [
      "Resultados para features_muy_grosos:\n",
      "MAE: 592364.\n",
      "Tiempo: 134 segundos - (2.23 minutos) - (0.04 horas).\n",
      "\n"
     ]
    }
   ],
   "source": [
    "# Para features_muy_grosos:\n",
    "\n",
    "print(f\"Resultados para features_muy_grosos:\")\n",
    "start = datetime.now()\n",
    "\n",
    "train_i = train[features_grosos] \n",
    "X = train_i.values\n",
    "X_train, X_val, Y_train, Y_val = train_test_split(X, Y, test_size=0.2)\n",
    "\n",
    "reg = RandomForestRegressor(n_estimators = 100, random_state=seed, verbose=0, max_depth=10, n_jobs=3)\n",
    "reg.fit(X_train, Y_train)\n",
    "\n",
    "y_pred = reg.predict(X_val)\n",
    "mae = metrics.mean_absolute_error(Y_val, y_pred)\n",
    "\n",
    "stop = datetime.now()\n",
    "time = (stop-start).seconds\n",
    "\n",
    "print(f\"MAE: {int(mae)}.\")\n",
    "print(f\"Tiempo: {time} segundos - ({round((time/60),2)} minutos) - ({round((time/3600),2)} horas).\\n\")"
   ]
  },
  {
   "cell_type": "code",
   "execution_count": 109,
   "metadata": {},
   "outputs": [
    {
     "name": "stdout",
     "output_type": "stream",
     "text": [
      "Resultados para features_muy_grosos_2:\n",
      "MAE: 595894.\n",
      "Tiempo: 73 segundos - (1.22 minutos) - (0.02 horas).\n",
      "\n"
     ]
    }
   ],
   "source": [
    "# Para features_muy_grosos_2:\n",
    "\n",
    "print(f\"Resultados para features_muy_grosos_2:\")\n",
    "start = datetime.now()\n",
    "\n",
    "train_i = train[features_grosos_2] \n",
    "X = train_i.values\n",
    "X_train, X_val, Y_train, Y_val = train_test_split(X, Y, test_size=0.2)\n",
    "\n",
    "reg = RandomForestRegressor(n_estimators = 100, random_state=seed, verbose=0, max_depth=10, n_jobs=3)\n",
    "reg.fit(X_train, Y_train)\n",
    "\n",
    "y_pred = reg.predict(X_val)\n",
    "mae = metrics.mean_absolute_error(Y_val, y_pred)\n",
    "\n",
    "stop = datetime.now()\n",
    "time = (stop-start).seconds\n",
    "\n",
    "print(f\"MAE: {int(mae)}.\")\n",
    "print(f\"Tiempo: {time} segundos - ({round((time/60),2)} minutos) - ({round((time/3600),2)} horas).\\n\")"
   ]
  },
  {
   "cell_type": "code",
   "execution_count": 115,
   "metadata": {},
   "outputs": [
    {
     "name": "stdout",
     "output_type": "stream",
     "text": [
      "['idzona_meanencoding_m0', 'metroscubiertos_alt', 'metroscubiertos_i1', 'tipodepropiedad_6_pol', 'metroscubiertos', 'ciudad_cara', 'timestamp_scaled', 'tipodepropiedad_2_pol', 'idzona', 'antiguedad', 'ciudad_me_m4', 'provincia_me_m0', 'banos', 'ciudad_me_m1', 'garages', 'metroscubiertos_tipo_std', 'antiguedad_binning_3_ohe1']\n"
     ]
    }
   ],
   "source": [
    "print(features_muy_grosos_2)"
   ]
  },
  {
   "cell_type": "code",
   "execution_count": 114,
   "metadata": {},
   "outputs": [],
   "source": [
    "def best_features_ci():\n",
    "    \"\"\"Devolvemos los mejores features obtenidos mediante Cumulative Importance utilizando RandomForest.\"\"\"\n",
    "    # devolvemos los resultados en una funcion por tratarse de un proceso muy costoso.\n",
    "    \n",
    "    return {'opc1':['idzona_meanencoding_m0', 'metroscubiertos_alt', 'metroscubiertos_i1', 'tipodepropiedad_6_pol', 'metroscubiertos', 'ciudad_cara', 'timestamp_scaled', 'tipodepropiedad_2_pol', 'idzona', 'timestamp', 'antiguedad', 'ciudad_me_m4', 'metroscubiertos_city_mean', 'provincia_me_m0', 'metrostotales_i1', 'idzona_meanencoding_m1', 'banos', 'metrostotales_alt', 'ciudad_me_m1', 'ciudad_me_m3', 'ciudad_me_m2', 'metroscubiertos_tipo_mean', 'idzona_meanencoding_m4', 'garages', 'precio_promedio_metrocubierto_aniomes', 'idzona_meanencoding_m2', 'metroscubiertos_city_std', 'metrostotales_i2', 'metrostotales', 'idzona_meanencoding_m3', 'es_Distrito Federal', 'metroscubiertos_tipo_std', 'lng', 'usd_precio_promedio_mensual', 'lat', 'ciudad_normal', 'habitaciones', 'aniomes_me_m3', 'tipodepropiedad_0_pol', 'es_Edo. de México', 'dia_featured', 'aniomes_me_m4', 'aniomes_me_m2', 'aniomes_me_m1', 'aniomes_me_m0', 'usd_variacion_mes_anterior', 'tipodepropiedad_3_pol', 'ciudad_6_binary', 'usd_variacion', 'tipodepropiedad_1_pol', 'terraza', 'antiguedad_binning_1_ohe1', 'aniomes', 'tipodepropiedad_4_pol', 'ciudad_top50_14_ohe', 'tipodepropiedad_2_binary', 'tipodepropiedad_1_binary', 'precio_promedio_metrocubierto_mes', 'vigilancia', 'piscina', 'mes_featured', 'mes', 'jardin', 'gimnasio', 'ciudad_top50_22_ohe', 'ciudad_top50_1_ohe', 'ciudad_7_binary', 'ciudad_5_binary', 'antiguedad_binning_3_ohe1', 'antiguedad_binning_2_ohe1', 'volcanes_cerca', 'usosmultiples', 'tipodepropiedad_5_pol', 'tipodepropiedad_3_binary', 'servicio', 'parrilla', 'metrostotales_confiables_alt', 'lujo', 'hab_binning_me_m4', 'hab_binning_me_m3', 'hab_binning_me_m2', 'hab_binning_me_m1', 'hab_binning_me_m0', 'escuelascercanas', 'ciudad_top50_5_ohe', 'ciudad_top50_4_ohe', 'ciudad_top50_40_ohe', 'ciudad_top50_38_ohe', 'ciudad_top50_35_ohe', 'ciudad_top50_28_ohe', 'ciudad_top50_19_ohe', 'ciudad_top50_12_ohe', 'ciudad_4_binary', 'ciudad_3_binary', 'ciudad_2_binary', 'centroscomercialescercanos', 'apto_chicos', 'antiguedad_binning_7_ohe1', 'antiguedad_binning_6_ohe1', 'antiguedad_binning_5_ohe1', 'antiguedad_binning_4_ohe1', 'volcan_cerca', 'ventilador', 'usd_subio', 'tipodepropiedad_0_binary', 'intercept_pol', 'full', 'es_Yucatán', 'es_Veracruz', 'es_San luis Potosí', 'es_Querétaro', 'es_Puebla', 'es_Nuevo León', 'es_Morelos', 'es_Jalisco', 'dic2016', 'ciudad_top50_9_ohe', 'ciudad_top50_8_ohe', 'ciudad_top50_7_ohe', 'ciudad_top50_6_ohe', 'ciudad_top50_50_ohe', 'ciudad_top50_49_ohe', 'ciudad_top50_48_ohe', 'ciudad_top50_47_ohe', 'ciudad_top50_46_ohe', 'ciudad_top50_45_ohe', 'ciudad_top50_44_ohe', 'ciudad_top50_43_ohe', 'ciudad_top50_42_ohe', 'ciudad_top50_41_ohe', 'ciudad_top50_3_ohe', 'ciudad_top50_39_ohe', 'ciudad_top50_37_ohe', 'ciudad_top50_36_ohe', 'ciudad_top50_34_ohe', 'ciudad_top50_33_ohe', 'ciudad_top50_32_ohe', 'ciudad_top50_31_ohe', 'ciudad_top50_30_ohe', 'ciudad_top50_2_ohe', 'ciudad_top50_29_ohe', 'ciudad_top50_27_ohe'],\n",
    "            'opc2':['idzona_meanencoding_m0', 'metroscubiertos_alt', 'metroscubiertos_i1', 'tipodepropiedad_6_pol', 'metroscubiertos', 'ciudad_cara', 'timestamp_scaled', 'tipodepropiedad_2_pol', 'idzona', 'antiguedad', 'ciudad_me_m4', 'metroscubiertos_city_mean', 'provincia_me_m0', 'banos', 'ciudad_me_m1', 'ciudad_me_m2', 'garages', 'precio_promedio_metrocubierto_aniomes', 'idzona_meanencoding_m2', 'metroscubiertos_city_std', 'metrostotales_i2', 'es_Distrito Federal', 'metroscubiertos_tipo_std', 'lat', 'habitaciones', 'tipodepropiedad_0_pol', 'es_Edo. de México', 'aniomes_me_m4', 'aniomes_me_m2', 'aniomes_me_m0', 'tipodepropiedad_3_pol', 'usd_variacion', 'tipodepropiedad_1_pol', 'antiguedad_binning_1_ohe1', 'aniomes', 'tipodepropiedad_2_binary', 'vigilancia', 'mes_featured', 'mes', 'ciudad_top50_1_ohe', 'ciudad_7_binary', 'antiguedad_binning_3_ohe1'],\n",
    "            'opc3':['idzona_meanencoding_m0', 'metroscubiertos_alt', 'metroscubiertos_i1', 'tipodepropiedad_6_pol', 'metroscubiertos', 'ciudad_cara', 'timestamp_scaled', 'tipodepropiedad_2_pol', 'idzona', 'antiguedad', 'ciudad_me_m4', 'metroscubiertos_city_mean', 'provincia_me_m0', 'banos', 'ciudad_me_m2', 'metroscubiertos_city_std', 'metrostotales_i2', 'aniomes', 'mes', 'antiguedad_binning_2_ohe1', 'ciudad_top50_27_ohe'],\n",
    "            'opc4':['idzona_meanencoding_m0', 'metroscubiertos_alt', 'metroscubiertos_i1', 'tipodepropiedad_6_pol', 'metroscubiertos', 'ciudad_cara', 'timestamp_scaled', 'tipodepropiedad_2_pol', 'idzona', 'antiguedad', 'ciudad_me_m4', 'provincia_me_m0', 'banos', 'ciudad_me_m1', 'garages', 'metroscubiertos_tipo_std', 'antiguedad_binning_3_ohe1']\n",
    "           }"
   ]
  },
  {
   "cell_type": "markdown",
   "metadata": {},
   "source": [
    "<hr>\n",
    "\n",
    "# Seleccion de K Mejores Features"
   ]
  },
  {
   "cell_type": "code",
   "execution_count": 5,
   "metadata": {},
   "outputs": [],
   "source": [
    "from sklearn.feature_selection import f_regression\n",
    "from sklearn.feature_selection import mutual_info_regression\n",
    "from sklearn.feature_selection import SelectKBest"
   ]
  },
  {
   "cell_type": "code",
   "execution_count": 6,
   "metadata": {},
   "outputs": [],
   "source": [
    "train,test = load_featured_datasets()"
   ]
  },
  {
   "cell_type": "code",
   "execution_count": 7,
   "metadata": {},
   "outputs": [],
   "source": [
    "train.fillna(train.mean(),inplace=True)"
   ]
  },
  {
   "cell_type": "code",
   "execution_count": 8,
   "metadata": {},
   "outputs": [],
   "source": [
    "X = train.drop('precio', axis=1).values\n",
    "Y = train['precio'].values"
   ]
  },
  {
   "cell_type": "code",
   "execution_count": 9,
   "metadata": {},
   "outputs": [
    {
     "data": {
      "text/plain": [
       "(240000, 136)"
      ]
     },
     "execution_count": 9,
     "metadata": {},
     "output_type": "execute_result"
    }
   ],
   "source": [
    "X.shape"
   ]
  },
  {
   "cell_type": "code",
   "execution_count": 10,
   "metadata": {},
   "outputs": [],
   "source": [
    "Selector = SelectKBest(f_regression, k=50)"
   ]
  },
  {
   "cell_type": "code",
   "execution_count": 11,
   "metadata": {},
   "outputs": [
    {
     "name": "stderr",
     "output_type": "stream",
     "text": [
      "/usr/local/lib/python3.6/dist-packages/sklearn/feature_selection/univariate_selection.py:299: RuntimeWarning: divide by zero encountered in true_divide\n",
      "  corr /= X_norms\n",
      "/usr/local/lib/python3.6/dist-packages/sklearn/feature_selection/univariate_selection.py:299: RuntimeWarning: invalid value encountered in true_divide\n",
      "  corr /= X_norms\n",
      "/usr/local/lib/python3.6/dist-packages/sklearn/feature_selection/univariate_selection.py:304: RuntimeWarning: invalid value encountered in true_divide\n",
      "  F = corr ** 2 / (1 - corr ** 2) * degrees_of_freedom\n",
      "/usr/local/lib/python3.6/dist-packages/scipy/stats/_distn_infrastructure.py:901: RuntimeWarning: invalid value encountered in greater\n",
      "  return (a < x) & (x < b)\n",
      "/usr/local/lib/python3.6/dist-packages/scipy/stats/_distn_infrastructure.py:901: RuntimeWarning: invalid value encountered in less\n",
      "  return (a < x) & (x < b)\n",
      "/usr/local/lib/python3.6/dist-packages/scipy/stats/_distn_infrastructure.py:1892: RuntimeWarning: invalid value encountered in less_equal\n",
      "  cond2 = cond0 & (x <= _a)\n"
     ]
    },
    {
     "data": {
      "text/plain": [
       "SelectKBest(k=50, score_func=<function f_regression at 0x7f29add1a7b8>)"
      ]
     },
     "execution_count": 11,
     "metadata": {},
     "output_type": "execute_result"
    }
   ],
   "source": [
    "Selector.fit(X,Y)"
   ]
  },
  {
   "cell_type": "code",
   "execution_count": 12,
   "metadata": {},
   "outputs": [],
   "source": [
    "def k_features_selector(k_features,train_df):\n",
    "    train_na_filled_df = train_df.fillna(train_df.mean())\n",
    "    X = train_na_filled_df.drop('precio', axis=1).values\n",
    "    Y = train_na_filled_df['precio'].values\n",
    "    Selector = SelectKBest(f_regression, k=k_features)\n",
    "    Selector.fit(X,Y)\n",
    "    return Selector"
   ]
  },
  {
   "cell_type": "code",
   "execution_count": null,
   "metadata": {},
   "outputs": [],
   "source": []
  }
 ],
 "metadata": {
  "kernelspec": {
   "display_name": "Python 3",
   "language": "python",
   "name": "python3"
  },
  "language_info": {
   "codemirror_mode": {
    "name": "ipython",
    "version": 3
   },
   "file_extension": ".py",
   "mimetype": "text/x-python",
   "name": "python",
   "nbconvert_exporter": "python",
   "pygments_lexer": "ipython3",
   "version": "3.6.9"
  }
 },
 "nbformat": 4,
 "nbformat_minor": 4
}
