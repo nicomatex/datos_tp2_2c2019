{
 "cells": [
  {
   "cell_type": "code",
   "execution_count": 15,
   "metadata": {},
   "outputs": [],
   "source": [
    "import pandas as pd\n",
    "import numpy as np\n",
    "\n",
    "from sklearn.model_selection import train_test_split\n",
    "from sklearn.metrics import mean_absolute_error\n",
    "\n",
    "seed = 42"
   ]
  },
  {
   "cell_type": "code",
   "execution_count": 2,
   "metadata": {
    "scrolled": true
   },
   "outputs": [
    {
     "name": "stdout",
     "output_type": "stream",
     "text": [
      "Importing Jupyter notebook from pre_processing.ipynb\n",
      "Importing Jupyter notebook from feature_generation.ipynb\n",
      "Importing Jupyter notebook from feature_selection.ipynb\n"
     ]
    }
   ],
   "source": [
    "import nbimporter\n",
    "\n",
    "import pre_processing\n",
    "import feature_selection"
   ]
  },
  {
   "cell_type": "code",
   "execution_count": 44,
   "metadata": {},
   "outputs": [],
   "source": [
    "def escribir_respuesta(ids,predicciones):\n",
    "    with open(\"respuesta.csv\",'w') as archivo:\n",
    "        archivo.write(\"id,target\\n\")\n",
    "        for i in range(len(ids)):\n",
    "            linea = f\"{int(ids[i])},{predicciones[i]}\"\n",
    "            archivo.write(f\"{linea}\\n\")"
   ]
  },
  {
   "cell_type": "code",
   "execution_count": 3,
   "metadata": {},
   "outputs": [],
   "source": [
    "train,test = pre_processing.load_featured_datasets()"
   ]
  },
  {
   "cell_type": "code",
   "execution_count": 4,
   "metadata": {},
   "outputs": [],
   "source": [
    "train = feature_selection.get_selected_dataframe(train)\n",
    "test = feature_selection.get_selected_dataframe(test, precio=False)"
   ]
  },
  {
   "cell_type": "markdown",
   "metadata": {},
   "source": [
    "# Problema de clasificacion: queremos ver si es outlier o no\n",
    "### Primer modelo"
   ]
  },
  {
   "cell_type": "code",
   "execution_count": 6,
   "metadata": {},
   "outputs": [],
   "source": [
    "mean = train['precio'].describe()[1]\n",
    "std = train['precio'].describe()[2]"
   ]
  },
  {
   "cell_type": "code",
   "execution_count": 7,
   "metadata": {},
   "outputs": [],
   "source": [
    "def bin_std(x, sup, inf):\n",
    "    if ((x<sup) & (x>inf)):\n",
    "        return 1\n",
    "    return 0"
   ]
  },
  {
   "cell_type": "code",
   "execution_count": 8,
   "metadata": {},
   "outputs": [],
   "source": [
    "train['target'] = train['precio'].map(lambda x: bin_std(x, mean+std, mean-std))"
   ]
  },
  {
   "cell_type": "code",
   "execution_count": 10,
   "metadata": {},
   "outputs": [
    {
     "data": {
      "text/plain": [
       "1    201030\n",
       "0     38970\n",
       "Name: target, dtype: int64"
      ]
     },
     "execution_count": 10,
     "metadata": {},
     "output_type": "execute_result"
    }
   ],
   "source": [
    "train['target'].value_counts()"
   ]
  },
  {
   "cell_type": "code",
   "execution_count": 11,
   "metadata": {},
   "outputs": [],
   "source": [
    "# Entrenamos el modelo"
   ]
  },
  {
   "cell_type": "code",
   "execution_count": 13,
   "metadata": {},
   "outputs": [],
   "source": [
    "train_2 = train.drop('precio', axis=1)"
   ]
  },
  {
   "cell_type": "code",
   "execution_count": 16,
   "metadata": {},
   "outputs": [],
   "source": [
    "X = train_2.drop('target', axis=1)\n",
    "Y = train_2['target']\n",
    "\n",
    "X_train, X_val, Y_train, Y_val = train_test_split(X, Y, test_size=0.2, random_state=seed)"
   ]
  },
  {
   "cell_type": "code",
   "execution_count": 18,
   "metadata": {},
   "outputs": [],
   "source": [
    "import lightgbm as lgb"
   ]
  },
  {
   "cell_type": "code",
   "execution_count": 17,
   "metadata": {},
   "outputs": [],
   "source": [
    "lightgbm = {'objective': 'binary',\n",
    "            'num_leaves': 36,\n",
    "            'metric':'auc',\n",
    "            'n_estimators': 70,\n",
    "            'min_split_gain': 0.01,\n",
    "            'min_child_weight': 5.00001,\n",
    "            'max_depth': 4,\n",
    "            'learning_rate': 0.05,\n",
    "            'lambda_l2': 0,\n",
    "            'feature_fraction': 0.7000000000000001,\n",
    "            'bagging_fraction': 1.0}"
   ]
  },
  {
   "cell_type": "code",
   "execution_count": 20,
   "metadata": {
    "scrolled": true
   },
   "outputs": [
    {
     "name": "stderr",
     "output_type": "stream",
     "text": [
      "/usr/local/lib/python3.6/dist-packages/lightgbm/engine.py:148: UserWarning: Found `n_estimators` in params. Will use it instead of argument\n",
      "  warnings.warn(\"Found `{}` in params. Will use it instead of argument\".format(alias))\n"
     ]
    },
    {
     "name": "stdout",
     "output_type": "stream",
     "text": [
      "[1]\tvalid_0's auc: 0.85031\n",
      "[2]\tvalid_0's auc: 0.871628\n",
      "[3]\tvalid_0's auc: 0.872996\n",
      "[4]\tvalid_0's auc: 0.875698\n",
      "[5]\tvalid_0's auc: 0.892512\n",
      "[6]\tvalid_0's auc: 0.894525\n",
      "[7]\tvalid_0's auc: 0.895374\n",
      "[8]\tvalid_0's auc: 0.900426\n",
      "[9]\tvalid_0's auc: 0.900607\n",
      "[10]\tvalid_0's auc: 0.902773\n",
      "[11]\tvalid_0's auc: 0.904824\n",
      "[12]\tvalid_0's auc: 0.907756\n",
      "[13]\tvalid_0's auc: 0.908252\n",
      "[14]\tvalid_0's auc: 0.910331\n",
      "[15]\tvalid_0's auc: 0.912091\n",
      "[16]\tvalid_0's auc: 0.912711\n",
      "[17]\tvalid_0's auc: 0.913537\n",
      "[18]\tvalid_0's auc: 0.915042\n",
      "[19]\tvalid_0's auc: 0.915538\n",
      "[20]\tvalid_0's auc: 0.916125\n",
      "[21]\tvalid_0's auc: 0.916718\n",
      "[22]\tvalid_0's auc: 0.917486\n",
      "[23]\tvalid_0's auc: 0.91789\n",
      "[24]\tvalid_0's auc: 0.918444\n",
      "[25]\tvalid_0's auc: 0.919666\n",
      "[26]\tvalid_0's auc: 0.920561\n",
      "[27]\tvalid_0's auc: 0.920683\n",
      "[28]\tvalid_0's auc: 0.921344\n",
      "[29]\tvalid_0's auc: 0.92173\n",
      "[30]\tvalid_0's auc: 0.922091\n",
      "[31]\tvalid_0's auc: 0.922329\n",
      "[32]\tvalid_0's auc: 0.923173\n",
      "[33]\tvalid_0's auc: 0.923642\n",
      "[34]\tvalid_0's auc: 0.924422\n",
      "[35]\tvalid_0's auc: 0.925011\n",
      "[36]\tvalid_0's auc: 0.92544\n",
      "[37]\tvalid_0's auc: 0.925977\n",
      "[38]\tvalid_0's auc: 0.926263\n",
      "[39]\tvalid_0's auc: 0.927116\n",
      "[40]\tvalid_0's auc: 0.927484\n",
      "[41]\tvalid_0's auc: 0.92757\n",
      "[42]\tvalid_0's auc: 0.927845\n",
      "[43]\tvalid_0's auc: 0.928581\n",
      "[44]\tvalid_0's auc: 0.928802\n",
      "[45]\tvalid_0's auc: 0.929418\n",
      "[46]\tvalid_0's auc: 0.92963\n",
      "[47]\tvalid_0's auc: 0.929805\n",
      "[48]\tvalid_0's auc: 0.930451\n",
      "[49]\tvalid_0's auc: 0.93099\n",
      "[50]\tvalid_0's auc: 0.931343\n",
      "[51]\tvalid_0's auc: 0.931465\n",
      "[52]\tvalid_0's auc: 0.931664\n",
      "[53]\tvalid_0's auc: 0.931826\n",
      "[54]\tvalid_0's auc: 0.932444\n",
      "[55]\tvalid_0's auc: 0.932836\n",
      "[56]\tvalid_0's auc: 0.933172\n",
      "[57]\tvalid_0's auc: 0.933533\n",
      "[58]\tvalid_0's auc: 0.933777\n",
      "[59]\tvalid_0's auc: 0.934134\n",
      "[60]\tvalid_0's auc: 0.934611\n",
      "[61]\tvalid_0's auc: 0.934805\n",
      "[62]\tvalid_0's auc: 0.935073\n",
      "[63]\tvalid_0's auc: 0.935217\n",
      "[64]\tvalid_0's auc: 0.935394\n",
      "[65]\tvalid_0's auc: 0.935674\n",
      "[66]\tvalid_0's auc: 0.935941\n",
      "[67]\tvalid_0's auc: 0.936072\n",
      "[68]\tvalid_0's auc: 0.936236\n",
      "[69]\tvalid_0's auc: 0.936335\n",
      "[70]\tvalid_0's auc: 0.936425\n"
     ]
    }
   ],
   "source": [
    "d_train = lgb.Dataset(X_train.values, label=Y_train.values)\n",
    "d_valid = lgb.Dataset(X_val.values, label=Y_val.values)\n",
    "watchlist = [d_valid]\n",
    "reg = lgb.train(lightgbm, d_train, valid_sets=watchlist, verbose_eval=1)"
   ]
  },
  {
   "cell_type": "code",
   "execution_count": 23,
   "metadata": {},
   "outputs": [],
   "source": [
    "test_predicted = reg.predict(test)"
   ]
  },
  {
   "cell_type": "code",
   "execution_count": 24,
   "metadata": {},
   "outputs": [],
   "source": [
    "f = np.vectorize(lambda x: 1 if (x>0.5) else 0)\n",
    "test_predicted = f(test_predicted)"
   ]
  },
  {
   "cell_type": "code",
   "execution_count": 25,
   "metadata": {},
   "outputs": [],
   "source": [
    "test['target'] = test_predicted"
   ]
  },
  {
   "cell_type": "code",
   "execution_count": 27,
   "metadata": {},
   "outputs": [
    {
     "data": {
      "text/plain": [
       "1    53287\n",
       "0     6713\n",
       "Name: target, dtype: int64"
      ]
     },
     "execution_count": 27,
     "metadata": {},
     "output_type": "execute_result"
    }
   ],
   "source": [
    "test['target'].value_counts()"
   ]
  },
  {
   "cell_type": "code",
   "execution_count": 29,
   "metadata": {},
   "outputs": [
    {
     "data": {
      "text/plain": [
       "1    201030\n",
       "0     38970\n",
       "Name: target, dtype: int64"
      ]
     },
     "execution_count": 29,
     "metadata": {},
     "output_type": "execute_result"
    }
   ],
   "source": [
    "train['target'].value_counts()"
   ]
  },
  {
   "cell_type": "code",
   "execution_count": 30,
   "metadata": {},
   "outputs": [],
   "source": [
    "# Ahora lo que queremos es separar en dos el problema: MODELO para los datos confiables, y otro modelo\n",
    "# para los datos no confiables, y luego juntar todo."
   ]
  },
  {
   "cell_type": "code",
   "execution_count": 31,
   "metadata": {},
   "outputs": [],
   "source": [
    "train_a = train.loc[train['target'] == 1].drop('target', axis=1).copy()\n",
    "train_b = train.loc[train['target'] == 0].drop('target', axis=1).copy()"
   ]
  },
  {
   "cell_type": "code",
   "execution_count": 37,
   "metadata": {},
   "outputs": [],
   "source": [
    "test_a = test.loc[test['target'] == 1].drop('target', axis=1).copy()\n",
    "test_b = test.loc[test['target'] == 0].drop('target', axis=1).copy()"
   ]
  },
  {
   "cell_type": "markdown",
   "metadata": {},
   "source": [
    "# Predicciones para datos confiables:"
   ]
  },
  {
   "cell_type": "code",
   "execution_count": 34,
   "metadata": {},
   "outputs": [],
   "source": [
    "# Entrenamos el modelo:\n",
    "X = train_a.drop('precio', axis=1)\n",
    "Y = train_a['precio']\n",
    "\n",
    "X_train, X_val, Y_train, Y_val = train_test_split(X, Y, test_size=0.2, random_state=seed)"
   ]
  },
  {
   "cell_type": "code",
   "execution_count": 35,
   "metadata": {},
   "outputs": [],
   "source": [
    "params = {\n",
    "    'boosting_type': 'gbdt',\n",
    "    'objective': 'regression',\n",
    "    'metric': 'mae',\n",
    "    'max_depth': 14,\n",
    "    'num_leaves': 120,\n",
    "    #'learning_rate': 0.02,\n",
    "    'learning_rate': 0.05,\n",
    "    'verbose': 0, \n",
    "    'early_stopping_round': 100}\n",
    "n_estimators=20000"
   ]
  },
  {
   "cell_type": "code",
   "execution_count": 36,
   "metadata": {
    "scrolled": true
   },
   "outputs": [
    {
     "name": "stderr",
     "output_type": "stream",
     "text": [
      "/usr/local/lib/python3.6/dist-packages/lightgbm/engine.py:153: UserWarning: Found `early_stopping_round` in params. Will use it instead of argument\n",
      "  warnings.warn(\"Found `{}` in params. Will use it instead of argument\".format(alias))\n"
     ]
    },
    {
     "name": "stdout",
     "output_type": "stream",
     "text": [
      "Training until validation scores don't improve for 100 rounds\n",
      "[50]\tvalid_0's l1: 382895\n",
      "[100]\tvalid_0's l1: 343759\n",
      "[150]\tvalid_0's l1: 334314\n",
      "[200]\tvalid_0's l1: 329693\n",
      "[250]\tvalid_0's l1: 326999\n",
      "[300]\tvalid_0's l1: 325185\n",
      "[350]\tvalid_0's l1: 323419\n",
      "[400]\tvalid_0's l1: 322047\n",
      "[450]\tvalid_0's l1: 320659\n",
      "[500]\tvalid_0's l1: 319511\n",
      "[550]\tvalid_0's l1: 318476\n",
      "[600]\tvalid_0's l1: 317524\n",
      "[650]\tvalid_0's l1: 316727\n",
      "[700]\tvalid_0's l1: 316114\n",
      "[750]\tvalid_0's l1: 315391\n",
      "[800]\tvalid_0's l1: 314796\n",
      "[850]\tvalid_0's l1: 314198\n",
      "[900]\tvalid_0's l1: 313575\n",
      "[950]\tvalid_0's l1: 313047\n",
      "[1000]\tvalid_0's l1: 312657\n",
      "[1050]\tvalid_0's l1: 312265\n",
      "[1100]\tvalid_0's l1: 311848\n",
      "[1150]\tvalid_0's l1: 311426\n",
      "[1200]\tvalid_0's l1: 310927\n",
      "[1250]\tvalid_0's l1: 310559\n",
      "[1300]\tvalid_0's l1: 310333\n",
      "[1350]\tvalid_0's l1: 310001\n",
      "[1400]\tvalid_0's l1: 309772\n",
      "[1450]\tvalid_0's l1: 309473\n",
      "[1500]\tvalid_0's l1: 309264\n",
      "[1550]\tvalid_0's l1: 309067\n",
      "[1600]\tvalid_0's l1: 308787\n",
      "[1650]\tvalid_0's l1: 308504\n",
      "[1700]\tvalid_0's l1: 308273\n",
      "[1750]\tvalid_0's l1: 308058\n",
      "[1800]\tvalid_0's l1: 307806\n",
      "[1850]\tvalid_0's l1: 307620\n",
      "[1900]\tvalid_0's l1: 307408\n",
      "[1950]\tvalid_0's l1: 307198\n",
      "[2000]\tvalid_0's l1: 307002\n",
      "[2050]\tvalid_0's l1: 306846\n",
      "[2100]\tvalid_0's l1: 306602\n",
      "[2150]\tvalid_0's l1: 306420\n",
      "[2200]\tvalid_0's l1: 306328\n",
      "[2250]\tvalid_0's l1: 306159\n",
      "[2300]\tvalid_0's l1: 305924\n",
      "[2350]\tvalid_0's l1: 305783\n",
      "[2400]\tvalid_0's l1: 305663\n",
      "[2450]\tvalid_0's l1: 305481\n",
      "[2500]\tvalid_0's l1: 305293\n",
      "[2550]\tvalid_0's l1: 305113\n",
      "[2600]\tvalid_0's l1: 304964\n",
      "[2650]\tvalid_0's l1: 304811\n",
      "[2700]\tvalid_0's l1: 304623\n",
      "[2750]\tvalid_0's l1: 304530\n",
      "[2800]\tvalid_0's l1: 304401\n",
      "[2850]\tvalid_0's l1: 304334\n",
      "[2900]\tvalid_0's l1: 304209\n",
      "[2950]\tvalid_0's l1: 304102\n",
      "[3000]\tvalid_0's l1: 304035\n",
      "[3050]\tvalid_0's l1: 303998\n",
      "[3100]\tvalid_0's l1: 303913\n",
      "[3150]\tvalid_0's l1: 303809\n",
      "[3200]\tvalid_0's l1: 303769\n",
      "[3250]\tvalid_0's l1: 303691\n",
      "[3300]\tvalid_0's l1: 303626\n",
      "[3350]\tvalid_0's l1: 303574\n",
      "[3400]\tvalid_0's l1: 303500\n",
      "[3450]\tvalid_0's l1: 303424\n",
      "[3500]\tvalid_0's l1: 303336\n",
      "[3550]\tvalid_0's l1: 303225\n",
      "[3600]\tvalid_0's l1: 303127\n",
      "[3650]\tvalid_0's l1: 303053\n",
      "[3700]\tvalid_0's l1: 302983\n",
      "[3750]\tvalid_0's l1: 302939\n",
      "[3800]\tvalid_0's l1: 302923\n",
      "[3850]\tvalid_0's l1: 302827\n",
      "[3900]\tvalid_0's l1: 302786\n",
      "[3950]\tvalid_0's l1: 302756\n",
      "[4000]\tvalid_0's l1: 302686\n",
      "[4050]\tvalid_0's l1: 302635\n",
      "[4100]\tvalid_0's l1: 302635\n",
      "[4150]\tvalid_0's l1: 302567\n",
      "[4200]\tvalid_0's l1: 302510\n",
      "[4250]\tvalid_0's l1: 302414\n",
      "[4300]\tvalid_0's l1: 302366\n",
      "[4350]\tvalid_0's l1: 302334\n",
      "[4400]\tvalid_0's l1: 302259\n",
      "[4450]\tvalid_0's l1: 302208\n",
      "[4500]\tvalid_0's l1: 302167\n",
      "[4550]\tvalid_0's l1: 302088\n",
      "[4600]\tvalid_0's l1: 302032\n",
      "[4650]\tvalid_0's l1: 301956\n",
      "[4700]\tvalid_0's l1: 301943\n",
      "[4750]\tvalid_0's l1: 301928\n",
      "[4800]\tvalid_0's l1: 301914\n",
      "[4850]\tvalid_0's l1: 301875\n",
      "[4900]\tvalid_0's l1: 301860\n",
      "[4950]\tvalid_0's l1: 301814\n",
      "[5000]\tvalid_0's l1: 301797\n",
      "[5050]\tvalid_0's l1: 301761\n",
      "[5100]\tvalid_0's l1: 301729\n",
      "[5150]\tvalid_0's l1: 301697\n",
      "[5200]\tvalid_0's l1: 301677\n",
      "[5250]\tvalid_0's l1: 301646\n",
      "[5300]\tvalid_0's l1: 301627\n",
      "[5350]\tvalid_0's l1: 301642\n",
      "[5400]\tvalid_0's l1: 301606\n",
      "[5450]\tvalid_0's l1: 301593\n",
      "[5500]\tvalid_0's l1: 301549\n",
      "[5550]\tvalid_0's l1: 301524\n",
      "[5600]\tvalid_0's l1: 301481\n",
      "[5650]\tvalid_0's l1: 301468\n",
      "[5700]\tvalid_0's l1: 301471\n",
      "[5750]\tvalid_0's l1: 301464\n",
      "[5800]\tvalid_0's l1: 301450\n",
      "[5850]\tvalid_0's l1: 301444\n",
      "[5900]\tvalid_0's l1: 301421\n",
      "[5950]\tvalid_0's l1: 301378\n",
      "[6000]\tvalid_0's l1: 301369\n",
      "[6050]\tvalid_0's l1: 301323\n",
      "[6100]\tvalid_0's l1: 301305\n",
      "[6150]\tvalid_0's l1: 301286\n",
      "[6200]\tvalid_0's l1: 301273\n",
      "[6250]\tvalid_0's l1: 301273\n",
      "[6300]\tvalid_0's l1: 301289\n",
      "Early stopping, best iteration is:\n",
      "[6205]\tvalid_0's l1: 301265\n"
     ]
    }
   ],
   "source": [
    "d_train = lgb.Dataset(X_train.values, label=Y_train.values)\n",
    "d_valid = lgb.Dataset(X_val.values, label=Y_val.values)\n",
    "watchlist = [d_valid]\n",
    "reg = lgb.train(params, d_train, n_estimators, valid_sets=watchlist, verbose_eval=50)"
   ]
  },
  {
   "cell_type": "code",
   "execution_count": 41,
   "metadata": {},
   "outputs": [],
   "source": [
    "# Realizamos las predicciones para test_a\n",
    "pred_test_a = reg.predict(test_a.values)"
   ]
  },
  {
   "cell_type": "code",
   "execution_count": 42,
   "metadata": {
    "scrolled": true
   },
   "outputs": [
    {
     "data": {
      "text/plain": [
       "array([1068873.65659347, 2225691.17965524, 1085875.8559637 , ...,\n",
       "        764217.32817345, 1491791.99554189, 2417493.41916187])"
      ]
     },
     "execution_count": 42,
     "metadata": {},
     "output_type": "execute_result"
    }
   ],
   "source": [
    "pred_test_a"
   ]
  },
  {
   "cell_type": "code",
   "execution_count": 45,
   "metadata": {},
   "outputs": [],
   "source": [
    "test_a['precio'] = pred_test_a"
   ]
  },
  {
   "cell_type": "code",
   "execution_count": 46,
   "metadata": {},
   "outputs": [],
   "source": [
    "test_a = test_a.reset_index()[['id', 'precio']]"
   ]
  },
  {
   "cell_type": "code",
   "execution_count": 49,
   "metadata": {
    "scrolled": true
   },
   "outputs": [
    {
     "data": {
      "text/html": [
       "<div>\n",
       "<style scoped>\n",
       "    .dataframe tbody tr th:only-of-type {\n",
       "        vertical-align: middle;\n",
       "    }\n",
       "\n",
       "    .dataframe tbody tr th {\n",
       "        vertical-align: top;\n",
       "    }\n",
       "\n",
       "    .dataframe thead th {\n",
       "        text-align: right;\n",
       "    }\n",
       "</style>\n",
       "<table border=\"1\" class=\"dataframe\">\n",
       "  <thead>\n",
       "    <tr style=\"text-align: right;\">\n",
       "      <th></th>\n",
       "      <th>id</th>\n",
       "      <th>precio</th>\n",
       "    </tr>\n",
       "  </thead>\n",
       "  <tbody>\n",
       "    <tr>\n",
       "      <td>0</td>\n",
       "      <td>51775</td>\n",
       "      <td>1.068874e+06</td>\n",
       "    </tr>\n",
       "    <tr>\n",
       "      <td>1</td>\n",
       "      <td>115253</td>\n",
       "      <td>2.225691e+06</td>\n",
       "    </tr>\n",
       "    <tr>\n",
       "      <td>2</td>\n",
       "      <td>299321</td>\n",
       "      <td>1.085876e+06</td>\n",
       "    </tr>\n",
       "    <tr>\n",
       "      <td>3</td>\n",
       "      <td>173570</td>\n",
       "      <td>6.794024e+05</td>\n",
       "    </tr>\n",
       "    <tr>\n",
       "      <td>4</td>\n",
       "      <td>30862</td>\n",
       "      <td>1.251787e+06</td>\n",
       "    </tr>\n",
       "  </tbody>\n",
       "</table>\n",
       "</div>"
      ],
      "text/plain": [
       "       id        precio\n",
       "0   51775  1.068874e+06\n",
       "1  115253  2.225691e+06\n",
       "2  299321  1.085876e+06\n",
       "3  173570  6.794024e+05\n",
       "4   30862  1.251787e+06"
      ]
     },
     "execution_count": 49,
     "metadata": {},
     "output_type": "execute_result"
    }
   ],
   "source": [
    "# tenemos test a\n",
    "test_a.head()"
   ]
  },
  {
   "cell_type": "markdown",
   "metadata": {},
   "source": [
    "# Predicciones para datos no confiables:"
   ]
  },
  {
   "cell_type": "code",
   "execution_count": 50,
   "metadata": {},
   "outputs": [],
   "source": [
    "# Entrenamos el modelo:\n",
    "X = train_b.drop('precio', axis=1)\n",
    "Y = train_b['precio']\n",
    "\n",
    "X_train, X_val, Y_train, Y_val = train_test_split(X, Y, test_size=0.2, random_state=seed)"
   ]
  },
  {
   "cell_type": "code",
   "execution_count": 53,
   "metadata": {},
   "outputs": [],
   "source": [
    "params = {\n",
    "    'boosting_type': 'gbdt',\n",
    "    'objective': 'regression',\n",
    "    'metric': 'mae',\n",
    "    'max_depth': 11,\n",
    "    'num_leaves': 70,\n",
    "    #'learning_rate': 0.02,\n",
    "    'learning_rate': 0.05,\n",
    "    'verbose': 0, \n",
    "    'early_stopping_round': 100}\n",
    "n_estimators=20000"
   ]
  },
  {
   "cell_type": "code",
   "execution_count": 54,
   "metadata": {
    "scrolled": true
   },
   "outputs": [
    {
     "name": "stdout",
     "output_type": "stream",
     "text": [
      "Training until validation scores don't improve for 100 rounds\n",
      "[50]\tvalid_0's l1: 1.00026e+06\n",
      "[100]\tvalid_0's l1: 891124\n",
      "[150]\tvalid_0's l1: 872183\n",
      "[200]\tvalid_0's l1: 863164\n",
      "[250]\tvalid_0's l1: 856664\n",
      "[300]\tvalid_0's l1: 852965\n",
      "[350]\tvalid_0's l1: 850472\n",
      "[400]\tvalid_0's l1: 848131\n",
      "[450]\tvalid_0's l1: 845008\n",
      "[500]\tvalid_0's l1: 843966\n",
      "[550]\tvalid_0's l1: 841600\n",
      "[600]\tvalid_0's l1: 840469\n",
      "[650]\tvalid_0's l1: 838567\n",
      "[700]\tvalid_0's l1: 837642\n",
      "[750]\tvalid_0's l1: 836588\n",
      "[800]\tvalid_0's l1: 836032\n",
      "[850]\tvalid_0's l1: 835624\n",
      "[900]\tvalid_0's l1: 834890\n",
      "[950]\tvalid_0's l1: 834240\n",
      "[1000]\tvalid_0's l1: 833377\n",
      "[1050]\tvalid_0's l1: 833012\n",
      "[1100]\tvalid_0's l1: 832690\n",
      "[1150]\tvalid_0's l1: 832619\n",
      "[1200]\tvalid_0's l1: 832168\n",
      "[1250]\tvalid_0's l1: 831512\n",
      "[1300]\tvalid_0's l1: 831049\n",
      "[1350]\tvalid_0's l1: 830675\n",
      "[1400]\tvalid_0's l1: 830264\n",
      "[1450]\tvalid_0's l1: 830283\n",
      "[1500]\tvalid_0's l1: 830228\n",
      "[1550]\tvalid_0's l1: 830296\n",
      "[1600]\tvalid_0's l1: 830338\n",
      "Early stopping, best iteration is:\n",
      "[1516]\tvalid_0's l1: 830169\n"
     ]
    }
   ],
   "source": [
    "d_train = lgb.Dataset(X_train.values, label=Y_train.values)\n",
    "d_valid = lgb.Dataset(X_val.values, label=Y_val.values)\n",
    "watchlist = [d_valid]\n",
    "reg = lgb.train(params, d_train, n_estimators, valid_sets=watchlist, verbose_eval=50)"
   ]
  },
  {
   "cell_type": "code",
   "execution_count": 55,
   "metadata": {},
   "outputs": [],
   "source": [
    "# Realizamos las predicciones para test_b\n",
    "pred_test_b = reg.predict(test_b.values)"
   ]
  },
  {
   "cell_type": "code",
   "execution_count": 56,
   "metadata": {},
   "outputs": [
    {
     "data": {
      "text/plain": [
       "array([7622446.01228321, 6426612.8913557 , 5565497.28187775, ...,\n",
       "       8608918.85641762, 8761395.37872929, 9771921.10135002])"
      ]
     },
     "execution_count": 56,
     "metadata": {},
     "output_type": "execute_result"
    }
   ],
   "source": [
    "pred_test_b"
   ]
  },
  {
   "cell_type": "code",
   "execution_count": 57,
   "metadata": {},
   "outputs": [],
   "source": [
    "test_b['precio'] = pred_test_b"
   ]
  },
  {
   "cell_type": "code",
   "execution_count": 58,
   "metadata": {},
   "outputs": [],
   "source": [
    "test_b = test_b.reset_index()[['id', 'precio']]"
   ]
  },
  {
   "cell_type": "code",
   "execution_count": 59,
   "metadata": {
    "scrolled": true
   },
   "outputs": [
    {
     "data": {
      "text/html": [
       "<div>\n",
       "<style scoped>\n",
       "    .dataframe tbody tr th:only-of-type {\n",
       "        vertical-align: middle;\n",
       "    }\n",
       "\n",
       "    .dataframe tbody tr th {\n",
       "        vertical-align: top;\n",
       "    }\n",
       "\n",
       "    .dataframe thead th {\n",
       "        text-align: right;\n",
       "    }\n",
       "</style>\n",
       "<table border=\"1\" class=\"dataframe\">\n",
       "  <thead>\n",
       "    <tr style=\"text-align: right;\">\n",
       "      <th></th>\n",
       "      <th>id</th>\n",
       "      <th>precio</th>\n",
       "    </tr>\n",
       "  </thead>\n",
       "  <tbody>\n",
       "    <tr>\n",
       "      <td>0</td>\n",
       "      <td>4941</td>\n",
       "      <td>7.622446e+06</td>\n",
       "    </tr>\n",
       "    <tr>\n",
       "      <td>1</td>\n",
       "      <td>253578</td>\n",
       "      <td>6.426613e+06</td>\n",
       "    </tr>\n",
       "    <tr>\n",
       "      <td>2</td>\n",
       "      <td>208352</td>\n",
       "      <td>5.565497e+06</td>\n",
       "    </tr>\n",
       "    <tr>\n",
       "      <td>3</td>\n",
       "      <td>295822</td>\n",
       "      <td>5.276481e+06</td>\n",
       "    </tr>\n",
       "    <tr>\n",
       "      <td>4</td>\n",
       "      <td>30763</td>\n",
       "      <td>9.537812e+06</td>\n",
       "    </tr>\n",
       "  </tbody>\n",
       "</table>\n",
       "</div>"
      ],
      "text/plain": [
       "       id        precio\n",
       "0    4941  7.622446e+06\n",
       "1  253578  6.426613e+06\n",
       "2  208352  5.565497e+06\n",
       "3  295822  5.276481e+06\n",
       "4   30763  9.537812e+06"
      ]
     },
     "execution_count": 59,
     "metadata": {},
     "output_type": "execute_result"
    }
   ],
   "source": [
    "# tenemos test_b\n",
    "test_b.head()"
   ]
  },
  {
   "cell_type": "code",
   "execution_count": null,
   "metadata": {},
   "outputs": [],
   "source": []
  },
  {
   "cell_type": "markdown",
   "metadata": {},
   "source": [
    "# Join"
   ]
  },
  {
   "cell_type": "code",
   "execution_count": 65,
   "metadata": {},
   "outputs": [
    {
     "data": {
      "text/plain": [
       "53287"
      ]
     },
     "execution_count": 65,
     "metadata": {},
     "output_type": "execute_result"
    }
   ],
   "source": [
    "test_a['id'].nunique()"
   ]
  },
  {
   "cell_type": "code",
   "execution_count": 66,
   "metadata": {},
   "outputs": [
    {
     "data": {
      "text/plain": [
       "6713"
      ]
     },
     "execution_count": 66,
     "metadata": {},
     "output_type": "execute_result"
    }
   ],
   "source": [
    "test_b['id'].nunique()"
   ]
  },
  {
   "cell_type": "code",
   "execution_count": 68,
   "metadata": {},
   "outputs": [],
   "source": [
    "test = test_a.append(test_b)"
   ]
  },
  {
   "cell_type": "code",
   "execution_count": 69,
   "metadata": {},
   "outputs": [
    {
     "data": {
      "text/plain": [
       "60000"
      ]
     },
     "execution_count": 69,
     "metadata": {},
     "output_type": "execute_result"
    }
   ],
   "source": [
    "test['id'].nunique()"
   ]
  },
  {
   "cell_type": "markdown",
   "metadata": {},
   "source": [
    "# Submit"
   ]
  },
  {
   "cell_type": "code",
   "execution_count": 73,
   "metadata": {},
   "outputs": [],
   "source": [
    "ids = test['id'].values\n",
    "valores = test['precio'].values"
   ]
  },
  {
   "cell_type": "code",
   "execution_count": 74,
   "metadata": {},
   "outputs": [],
   "source": [
    "escribir_respuesta(ids, valores)"
   ]
  },
  {
   "cell_type": "code",
   "execution_count": null,
   "metadata": {},
   "outputs": [],
   "source": []
  }
 ],
 "metadata": {
  "kernelspec": {
   "display_name": "Python 3",
   "language": "python",
   "name": "python3"
  },
  "language_info": {
   "codemirror_mode": {
    "name": "ipython",
    "version": 3
   },
   "file_extension": ".py",
   "mimetype": "text/x-python",
   "name": "python",
   "nbconvert_exporter": "python",
   "pygments_lexer": "ipython3",
   "version": "3.6.8"
  }
 },
 "nbformat": 4,
 "nbformat_minor": 2
}
