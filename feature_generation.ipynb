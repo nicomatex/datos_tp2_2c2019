{
 "cells": [
  {
   "cell_type": "markdown",
   "metadata": {},
   "source": [
    "# feature_generation\n",
    "En este notebook se generaran, por secciones, las features a ser utilizadas. Se seguira por cada una el siguiente proceso:\n",
    "\n",
    "1. Primero generamos las features.\n",
    "2. Guardamos en un `.csv` las features de una determinada categoria por separado (con el objetivo de poder armar el dataframe que queramos con las features que seleccionemos).\n",
    "3. Se hardcodea un diccionario que tiene las distintas features generadas con distintos metodos para cada categoria. La idea es poder probar luego que alternativa es mejor para cada feature (es decir, si para tipodepropiedad por ejemplo utilizamos OHE, Binary Encoding, Mean Encoding, etc.)\n",
    "\n",
    "**IMPORTANTE:** NO es necesario ejecutar todo el notebook cada vez que se realice un entrenamiento, ya que esto es un proceso que cuesta tiempo. Para evitar esto es que guardamos los `csv`'s y los leeremos directamente. Ejecutar **solamente** las secciones que se deseen para generar los `csv` correspondientes."
   ]
  },
  {
   "cell_type": "code",
   "execution_count": 1,
   "metadata": {},
   "outputs": [],
   "source": [
    "import pandas as pd\n",
    "import numpy as np\n",
    "from datetime import datetime\n",
    "import math\n",
    "\n",
    "from sklearn import preprocessing\n",
    "from sklearn.preprocessing import LabelEncoder\n",
    "import category_encoders as ce\n",
    "\n",
    "import seaborn as sns\n",
    "import matplotlib.pyplot as plt"
   ]
  },
  {
   "cell_type": "code",
   "execution_count": 2,
   "metadata": {},
   "outputs": [
    {
     "name": "stdout",
     "output_type": "stream",
     "text": [
      "Importing Jupyter notebook from pre_processing.ipynb\n",
      "Importing Jupyter notebook from feature_generation.ipynb\n",
      "Importing Jupyter notebook from feature_selection.ipynb\n"
     ]
    }
   ],
   "source": [
    "import nbimporter\n",
    "import pre_processing\n",
    "import feature_selection"
   ]
  },
  {
   "cell_type": "markdown",
   "metadata": {},
   "source": [
    "<hr>\n",
    "\n",
    "### Funciones auxiliares"
   ]
  },
  {
   "cell_type": "code",
   "execution_count": 3,
   "metadata": {},
   "outputs": [],
   "source": [
    "def corr(df):\n",
    "    return df.corr()['precio'].sort_values(ascending=False)[1:]"
   ]
  },
  {
   "cell_type": "code",
   "execution_count": 4,
   "metadata": {},
   "outputs": [],
   "source": [
    "def aniomes(anio, mes):\n",
    "    if len(str(mes)) == 1:\n",
    "        return int(str(anio)+'0'+str(mes))\n",
    "    return int(str(anio)+str(mes))"
   ]
  },
  {
   "cell_type": "code",
   "execution_count": 5,
   "metadata": {},
   "outputs": [],
   "source": [
    "def aniomesdia(anio, mes, dia):\n",
    "    anio= str(anio)\n",
    "    mes= str(mes)\n",
    "    dia= str(dia)\n",
    "    \n",
    "    if len(mes) == 1:\n",
    "        mes = '0'+mes\n",
    "    if len(dia) == 1:\n",
    "        dia = '0'+dia\n",
    "    \n",
    "    return int(anio+mes+dia)"
   ]
  },
  {
   "cell_type": "code",
   "execution_count": 6,
   "metadata": {},
   "outputs": [],
   "source": [
    "def aniomesdia(dt):\n",
    "    anio= str(dt.year)\n",
    "    mes= str(dt.month)\n",
    "    dia= str(dt.day)\n",
    "    \n",
    "    if len(mes) == 1:\n",
    "        mes = '0'+mes\n",
    "    if len(dia) == 1:\n",
    "        dia = '0'+dia\n",
    "        \n",
    "    return int(anio+mes+dia)\n",
    "    "
   ]
  },
  {
   "cell_type": "code",
   "execution_count": 7,
   "metadata": {},
   "outputs": [],
   "source": [
    "def equidistanciar_aniomes(x):\n",
    "    x = x-201200\n",
    "    if (x>100):\n",
    "        if(str(x)[0] == '1'):\n",
    "            x = (x-100) + 12\n",
    "        elif(str(x)[0] == '2'):\n",
    "            x = (x-200) + 24\n",
    "        elif(str(x)[0] == '3'):\n",
    "            x = (x-300) + 36\n",
    "        elif(str(x)[0] == '4'):\n",
    "            x = (x-400) + 48\n",
    "        elif(str(x)[0] == '5'):\n",
    "            x = (x-500) + 60\n",
    "    return x"
   ]
  },
  {
   "cell_type": "code",
   "execution_count": 8,
   "metadata": {},
   "outputs": [],
   "source": [
    "def map_anio(x):\n",
    "    x = (x-2012)+1\n",
    "    return x"
   ]
  },
  {
   "cell_type": "code",
   "execution_count": 9,
   "metadata": {},
   "outputs": [],
   "source": [
    "def circular_variable(x, n_max):\n",
    "    x = x/n_max\n",
    "    x = x*2*(math.pi)\n",
    "    x = math.cos(x)\n",
    "    return x"
   ]
  },
  {
   "cell_type": "code",
   "execution_count": 10,
   "metadata": {},
   "outputs": [],
   "source": [
    "def circular_dias(mes, dia):\n",
    "    if (mes==2):\n",
    "        return circular_variable(dia, 28)\n",
    "    elif (mes in [1,3,5,7,8,10,12]):\n",
    "        return circular_variable(dia, 31)\n",
    "    else:\n",
    "        return circular_variable(dia, 30)"
   ]
  },
  {
   "cell_type": "code",
   "execution_count": 11,
   "metadata": {},
   "outputs": [],
   "source": [
    "def contiene_indicadores(descripcion, indicadores):\n",
    "    for indicador in indicadores:\n",
    "        if indicador in str(descripcion).lower():\n",
    "            return 1\n",
    "    return 0"
   ]
  },
  {
   "cell_type": "code",
   "execution_count": 12,
   "metadata": {},
   "outputs": [],
   "source": [
    "def binning_habitaciones(x):\n",
    "    if (x==-1):\n",
    "        return 'unknown'\n",
    "    elif x==1:\n",
    "        return 'monoambiente'\n",
    "    elif (x==2):\n",
    "        return 'dos ambientes'\n",
    "    elif (x==3):\n",
    "        return 'tres ambientes'\n",
    "    elif (x==4):\n",
    "        return 'cuatro ambientes'\n",
    "    elif (x==5):\n",
    "        return 'cinco ambientes'\n",
    "    else:\n",
    "        return 'mas de 5 ambientes'"
   ]
  },
  {
   "cell_type": "code",
   "execution_count": 13,
   "metadata": {},
   "outputs": [],
   "source": [
    "def binning_antiguedad_1(x):\n",
    "    if (x==-1):\n",
    "        return 'unknown'\n",
    "    elif x==0:\n",
    "        return 'new'\n",
    "    elif (x<=5):\n",
    "        return '0 a 5'\n",
    "    elif (x<=10):\n",
    "        return '5 a 10'\n",
    "    elif (x<=15):\n",
    "        return '10 a 15'\n",
    "    elif (x<=20):\n",
    "        return '15 a 20'\n",
    "    elif (x<=30):\n",
    "        return '20 a 30'\n",
    "    elif (x<=50):\n",
    "        return '30 a 50'\n",
    "    else:\n",
    "        return '+50'\n",
    "    "
   ]
  },
  {
   "cell_type": "code",
   "execution_count": 14,
   "metadata": {},
   "outputs": [],
   "source": [
    "def binning_antiguedad_2(x):\n",
    "    if (x==-1):\n",
    "        return 'unknown'\n",
    "    elif x==0:\n",
    "        return 'new'\n",
    "    elif (x<=10):\n",
    "        return 'hasta 10'\n",
    "    else:\n",
    "        return 'mas de 10'\n",
    "    "
   ]
  },
  {
   "cell_type": "code",
   "execution_count": 15,
   "metadata": {},
   "outputs": [],
   "source": [
    "def posee_volcan_cerca(ubicacion, radio_cercania_km):\n",
    "    if ubicacion == 9999:\n",
    "        return np.nan\n",
    "    for volcan in volcanes:\n",
    "        dist = haversine(ubicacion, volcan)\n",
    "        if dist<radio_cercania_km:\n",
    "            return 1\n",
    "    return 0"
   ]
  },
  {
   "cell_type": "code",
   "execution_count": 16,
   "metadata": {},
   "outputs": [],
   "source": [
    "def cantidad_volcanes_cerca(ubicacion, radio_cercania_km):\n",
    "    if ubicacion == 9999:\n",
    "        return np.nan\n",
    "    cantidad = 0\n",
    "    for volcan in volcanes:\n",
    "        dist = haversine(ubicacion, volcan)\n",
    "        if dist<radio_cercania_km:\n",
    "            cantidad+=1\n",
    "    return cantidad"
   ]
  },
  {
   "cell_type": "code",
   "execution_count": 17,
   "metadata": {},
   "outputs": [],
   "source": [
    "def posee_todo(x):\n",
    "    return (x['escuelascercanas'] == 1) & (x['centroscomercialescercanos'] == 1) & (x['piscina'] == 1)\\\n",
    "             & (x['gimnasio'] == 1) & (x['usosmultiples'] == 1)"
   ]
  },
  {
   "cell_type": "code",
   "execution_count": 18,
   "metadata": {},
   "outputs": [],
   "source": [
    "def mean_encoding(df, by, on, m):\n",
    "    mean = df[on].mean()\n",
    "\n",
    "    agg = df.groupby(by)[on].agg(['count', 'mean'])\n",
    "    counts = agg['count']\n",
    "    means = agg['mean']\n",
    "\n",
    "    smooth = (counts * means + m * mean) / (counts + m)\n",
    "    \n",
    "    return df[by].map(smooth)"
   ]
  },
  {
   "cell_type": "code",
   "execution_count": 19,
   "metadata": {},
   "outputs": [],
   "source": [
    "# resulto tener malos resultados\n",
    "\n",
    "def expanding_mean(df, by, on):\n",
    "    cumulative_sum = df.groupby(by)[on].cumsum() - df[on]\n",
    "    cumulative_count = df.groupby(by).cumcount()\n",
    "    return cumulative_sum/cumulative_count"
   ]
  },
  {
   "cell_type": "code",
   "execution_count": 20,
   "metadata": {},
   "outputs": [],
   "source": [
    "filas_train = 240000\n",
    "filas_test = 60000"
   ]
  },
  {
   "cell_type": "markdown",
   "metadata": {},
   "source": [
    "<hr>\n",
    "\n",
    "# Desarollo"
   ]
  },
  {
   "cell_type": "code",
   "execution_count": 22,
   "metadata": {},
   "outputs": [],
   "source": [
    "df = pre_processing.load_appended_dataset()"
   ]
  },
  {
   "cell_type": "markdown",
   "metadata": {},
   "source": [
    "<hr>\n",
    "\n",
    "# Tratamiento de variables importantes con nulos\n",
    "\n",
    "### Metros cubiertos y totales\n",
    "`metrostotales` es una categoria muy importante, asi como `metrostotales`. Es la principal feature que determina el precio de una propiedad. Lamentablemente, muchas propiedades no tienen datos en estas filas o tienen datos inconsistentes. En esta seccion analizaremos que hacer con esto.\n",
    "\n",
    "###### Outliers\n",
    "Ademas de poseer muchos nulos, el dataset tambien posee datos que, por una razon u otra, no tienen sentido. El objetivo de esta seccion es, ya que no podemos eliminarlos porque perderiamos mas de la mitad de los datos y para entrenar esto no tiene sentido, decidimos generar features que indiquen si la fila presenta o no algun dato sin sentido."
   ]
  },
  {
   "cell_type": "code",
   "execution_count": 21,
   "metadata": {
    "scrolled": true
   },
   "outputs": [
    {
     "name": "stdout",
     "output_type": "stream",
     "text": [
      "<class 'pandas.core.frame.DataFrame'>\n",
      "Int64Index: 300000 entries, 254099 to 72612\n",
      "Data columns (total 2 columns):\n",
      "metroscubiertos    278301 non-null float64\n",
      "metrostotales      235878 non-null float64\n",
      "dtypes: float64(2)\n",
      "memory usage: 6.9 MB\n"
     ]
    }
   ],
   "source": [
    "dicc_metros = {}\n",
    "dicc_metros_types = {}\n",
    "\n",
    "df_metros = df[['metroscubiertos', 'metrostotales']].copy()\n",
    "df_metros.info()"
   ]
  },
  {
   "cell_type": "code",
   "execution_count": 22,
   "metadata": {},
   "outputs": [],
   "source": [
    "# Generamos columna que nos diga si los metros totales son confiables."
   ]
  },
  {
   "cell_type": "code",
   "execution_count": 23,
   "metadata": {},
   "outputs": [],
   "source": [
    "df_metros['metrostotales_confiables'] = df_metros.apply(lambda x: 1 if ((x['metrostotales'] > x['metroscubiertos']) & (x['metroscubiertos'] > 0)) else 0, axis=1)"
   ]
  },
  {
   "cell_type": "code",
   "execution_count": 24,
   "metadata": {},
   "outputs": [
    {
     "data": {
      "text/plain": [
       "78794"
      ]
     },
     "execution_count": 24,
     "metadata": {},
     "output_type": "execute_result"
    }
   ],
   "source": [
    "df_metros['metrostotales_confiables'].sum()"
   ]
  },
  {
   "cell_type": "code",
   "execution_count": 25,
   "metadata": {},
   "outputs": [],
   "source": [
    "# Vemos que solo en 80.000 datos de 300.000 (!!!) tiene sentido utilizar los metros totales.\n",
    "# Vamos a tomar una serie de medidas para rellenar los nulos en estos campos, para tener mas informacion.\n",
    "# Son consideraciones que pueden ser erroneas, pero sera un intento por salvar los datos."
   ]
  },
  {
   "cell_type": "markdown",
   "metadata": {},
   "source": [
    "Vemos que solo en 80.000 datos de 300.000 (!!!) tiene sentido utilizar los metros totales.\n",
    "Vamos a tomar una serie de medidas para rellenar los nulos en estos campos, para tener mas informacion. Son consideraciones que pueden ser erroneas, pero sera un intento por salvar los datos.\n",
    "\n",
    "- CASO 1: Los `metroscubiertos` son distintos de `nan`, pero los `metrostotales` son `nan`.\n",
    "- CASO 2: Los `metroscubiertos` son distintos de `nan`, los `metrostotales` son menores que los cubiertos.\n",
    "- CASO 3: Los `metroscubiertos` son `nan`, pero los `metrostotales` son distintos de `nan`."
   ]
  },
  {
   "cell_type": "code",
   "execution_count": 26,
   "metadata": {
    "scrolled": true
   },
   "outputs": [
    {
     "data": {
      "text/html": [
       "<div>\n",
       "<style scoped>\n",
       "    .dataframe tbody tr th:only-of-type {\n",
       "        vertical-align: middle;\n",
       "    }\n",
       "\n",
       "    .dataframe tbody tr th {\n",
       "        vertical-align: top;\n",
       "    }\n",
       "\n",
       "    .dataframe thead th {\n",
       "        text-align: right;\n",
       "    }\n",
       "</style>\n",
       "<table border=\"1\" class=\"dataframe\">\n",
       "  <thead>\n",
       "    <tr style=\"text-align: right;\">\n",
       "      <th></th>\n",
       "      <th>metroscubiertos</th>\n",
       "      <th>metrostotales</th>\n",
       "      <th>metrostotales_confiables</th>\n",
       "    </tr>\n",
       "    <tr>\n",
       "      <th>id</th>\n",
       "      <th></th>\n",
       "      <th></th>\n",
       "      <th></th>\n",
       "    </tr>\n",
       "  </thead>\n",
       "  <tbody>\n",
       "  </tbody>\n",
       "</table>\n",
       "</div>"
      ],
      "text/plain": [
       "Empty DataFrame\n",
       "Columns: [metroscubiertos, metrostotales, metrostotales_confiables]\n",
       "Index: []"
      ]
     },
     "execution_count": 26,
     "metadata": {},
     "output_type": "execute_result"
    }
   ],
   "source": [
    "df_metros.loc[(df_metros['metroscubiertos'].isnull()) & (df_metros['metrostotales'].isnull())]"
   ]
  },
  {
   "cell_type": "code",
   "execution_count": 27,
   "metadata": {},
   "outputs": [],
   "source": [
    "# OBSERVACION! Vemos que no hay propiedades que tengan ambas informaciones faltantes. Esto nos permite tomar como\n",
    "# primer opcion, solucionar los casos llenando la info del faltante con la del presente."
   ]
  },
  {
   "cell_type": "code",
   "execution_count": 28,
   "metadata": {},
   "outputs": [],
   "source": [
    "#CASO 3\n",
    "df_metros['metroscubiertos_alt'] = df_metros['metroscubiertos'].fillna(df_metros['metrostotales'])"
   ]
  },
  {
   "cell_type": "code",
   "execution_count": 29,
   "metadata": {},
   "outputs": [],
   "source": [
    "# Esta alternativa parece tener mucho sentido, ya que puede pasar que haya gente que directamente ponga el dato\n",
    "# en metros totales, y no complete los cubiertos.\n",
    "\n",
    "# En el CASO 1 hay que tener un poco mas de cuidado, ya que los metros totales son por definicion MAYORES O\n",
    "# IGUALES a los cubiertos. En esta primer alternativa, los consideraremos iguales en el caso de nans."
   ]
  },
  {
   "cell_type": "code",
   "execution_count": 30,
   "metadata": {},
   "outputs": [],
   "source": [
    "df_metros['metrostotales_alt'] = df_metros['metrostotales'].fillna(df_metros['metroscubiertos'])"
   ]
  },
  {
   "cell_type": "code",
   "execution_count": 31,
   "metadata": {},
   "outputs": [],
   "source": [
    "# regeneramos la columna de metros confiables\n",
    "df_metros['metrostotales_confiables_alt'] = df_metros.apply(lambda x: 1 if ((x['metrostotales_alt'] > x['metroscubiertos_alt']) & (x['metroscubiertos_alt'] > 0)) else 0, axis=1)"
   ]
  },
  {
   "cell_type": "code",
   "execution_count": 32,
   "metadata": {},
   "outputs": [],
   "source": [
    "# En este caso ya solucionamos entonces caso 1 y 3. Ahora nos falta ver que hacemos con las propiedades que tienen\n",
    "# metros totales MENORES a los cubiertos..."
   ]
  },
  {
   "cell_type": "code",
   "execution_count": 33,
   "metadata": {},
   "outputs": [
    {
     "data": {
      "text/plain": [
       "88101"
      ]
     },
     "execution_count": 33,
     "metadata": {},
     "output_type": "execute_result"
    }
   ],
   "source": [
    "df_metros.loc[(df_metros['metroscubiertos'] > df_metros['metrostotales'])].shape[0]"
   ]
  },
  {
   "cell_type": "code",
   "execution_count": 34,
   "metadata": {},
   "outputs": [],
   "source": [
    "# Vemos que tenemos 88 mil datos con este problema. Vamos a analizar que tanta diferencia hay..."
   ]
  },
  {
   "cell_type": "markdown",
   "metadata": {},
   "source": [
    "Como interpretar esto? Proponemos tres ideas:\n",
    "\n",
    "**Idea 1**: la carga se realizo al reves, es decir que los metros cubiertos serian los metros totales, y los metros totales los metros cubiertos.\n",
    "\n",
    "**Idea 2**: los metros totales representan en realidad, metros descubiertos. Por lo que los metros totales los re-calculamos como la suma entre los totales y los cubiertos."
   ]
  },
  {
   "cell_type": "code",
   "execution_count": 35,
   "metadata": {},
   "outputs": [
    {
     "data": {
      "text/html": [
       "<div>\n",
       "<style scoped>\n",
       "    .dataframe tbody tr th:only-of-type {\n",
       "        vertical-align: middle;\n",
       "    }\n",
       "\n",
       "    .dataframe tbody tr th {\n",
       "        vertical-align: top;\n",
       "    }\n",
       "\n",
       "    .dataframe thead th {\n",
       "        text-align: right;\n",
       "    }\n",
       "</style>\n",
       "<table border=\"1\" class=\"dataframe\">\n",
       "  <thead>\n",
       "    <tr style=\"text-align: right;\">\n",
       "      <th></th>\n",
       "      <th>metroscubiertos</th>\n",
       "      <th>metrostotales</th>\n",
       "      <th>metrostotales_confiables</th>\n",
       "      <th>metroscubiertos_alt</th>\n",
       "      <th>metrostotales_alt</th>\n",
       "      <th>metrostotales_confiables_alt</th>\n",
       "    </tr>\n",
       "    <tr>\n",
       "      <th>id</th>\n",
       "      <th></th>\n",
       "      <th></th>\n",
       "      <th></th>\n",
       "      <th></th>\n",
       "      <th></th>\n",
       "      <th></th>\n",
       "    </tr>\n",
       "  </thead>\n",
       "  <tbody>\n",
       "    <tr>\n",
       "      <td>254099</td>\n",
       "      <td>80.0</td>\n",
       "      <td>80.0</td>\n",
       "      <td>0</td>\n",
       "      <td>80.0</td>\n",
       "      <td>80.0</td>\n",
       "      <td>0</td>\n",
       "    </tr>\n",
       "    <tr>\n",
       "      <td>53461</td>\n",
       "      <td>268.0</td>\n",
       "      <td>180.0</td>\n",
       "      <td>0</td>\n",
       "      <td>268.0</td>\n",
       "      <td>180.0</td>\n",
       "      <td>0</td>\n",
       "    </tr>\n",
       "    <tr>\n",
       "      <td>247984</td>\n",
       "      <td>144.0</td>\n",
       "      <td>166.0</td>\n",
       "      <td>1</td>\n",
       "      <td>144.0</td>\n",
       "      <td>166.0</td>\n",
       "      <td>1</td>\n",
       "    </tr>\n",
       "    <tr>\n",
       "      <td>209067</td>\n",
       "      <td>63.0</td>\n",
       "      <td>67.0</td>\n",
       "      <td>1</td>\n",
       "      <td>63.0</td>\n",
       "      <td>67.0</td>\n",
       "      <td>1</td>\n",
       "    </tr>\n",
       "    <tr>\n",
       "      <td>185997</td>\n",
       "      <td>95.0</td>\n",
       "      <td>95.0</td>\n",
       "      <td>0</td>\n",
       "      <td>95.0</td>\n",
       "      <td>95.0</td>\n",
       "      <td>0</td>\n",
       "    </tr>\n",
       "  </tbody>\n",
       "</table>\n",
       "</div>"
      ],
      "text/plain": [
       "        metroscubiertos  metrostotales  metrostotales_confiables  \\\n",
       "id                                                                 \n",
       "254099             80.0           80.0                         0   \n",
       "53461             268.0          180.0                         0   \n",
       "247984            144.0          166.0                         1   \n",
       "209067             63.0           67.0                         1   \n",
       "185997             95.0           95.0                         0   \n",
       "\n",
       "        metroscubiertos_alt  metrostotales_alt  metrostotales_confiables_alt  \n",
       "id                                                                            \n",
       "254099                 80.0               80.0                             0  \n",
       "53461                 268.0              180.0                             0  \n",
       "247984                144.0              166.0                             1  \n",
       "209067                 63.0               67.0                             1  \n",
       "185997                 95.0               95.0                             0  "
      ]
     },
     "execution_count": 35,
     "metadata": {},
     "output_type": "execute_result"
    }
   ],
   "source": [
    "df_metros.head()"
   ]
  },
  {
   "cell_type": "code",
   "execution_count": 36,
   "metadata": {},
   "outputs": [
    {
     "data": {
      "text/plain": [
       "88101"
      ]
     },
     "execution_count": 36,
     "metadata": {},
     "output_type": "execute_result"
    }
   ],
   "source": [
    "df_metros.loc[(df_metros['metroscubiertos_alt'] > df_metros['metrostotales_alt'])].shape[0]"
   ]
  },
  {
   "cell_type": "code",
   "execution_count": 37,
   "metadata": {},
   "outputs": [],
   "source": [
    "# idea 1: los metros cubiertos serian los metros totales, y los metros totales los metros cubiertos.\n",
    "\n",
    "df_metros['metrostotales_i1'] = df_metros.apply(lambda x: (x['metroscubiertos_alt']) if (x['metroscubiertos_alt'] > x['metrostotales_alt']) else (x['metrostotales_alt']), axis=1)\n",
    "df_metros['metroscubiertos_i1'] = df_metros.apply(lambda x: (x['metrostotales_alt']) if (x['metroscubiertos_alt'] > x['metrostotales_alt']) else (x['metroscubiertos_alt']), axis=1)"
   ]
  },
  {
   "cell_type": "code",
   "execution_count": 38,
   "metadata": {},
   "outputs": [],
   "source": [
    "# idea 2: los metros totales son metros descubiertos, entonces metrostotales = metroscubiertos + metrostotales\n",
    "df_metros['metrostotales_i2'] = df_metros.apply(lambda x: (x['metrostotales_alt'] + x['metroscubiertos_alt']) if (x['metroscubiertos_alt'] > x['metrostotales_alt']) else (x['metrostotales_alt']), axis=1)"
   ]
  },
  {
   "cell_type": "markdown",
   "metadata": {},
   "source": [
    "#### FEATURES NUEVAS DOCUMENTADAS\n",
    "\n",
    "- `metrostotales_confiables`: dato valido y con sentido, considerando las features originales.\n",
    "- `metrostotales_confiables_alt`: dato valido y con sentido, considerando las features _alt.\n",
    "\n",
    "- `metroscubiertos_alt`: llenar los nulos de metros cubiertos con el dato de metros totales.\n",
    "- `metrostotales_alt`: llenar los nulos de metros totales con el dato de metros cubiertos.\n",
    "- `metroscubiertos_i1`: si los metros cubiertos eran mayores a los totales, se invierten.\n",
    "- `metrostotales_i1`: si los metros cubiertos eran mayores a los totales, se invierten.\n",
    "- `metrostotales_i2`: se considera que si los metros cubiertos son mayores a los totales, entonces en realidad lo que habia en totales eran metros descubiertos. Se calcula la suma.\n"
   ]
  },
  {
   "cell_type": "code",
   "execution_count": 39,
   "metadata": {},
   "outputs": [],
   "source": [
    "df_metros.drop(['metroscubiertos', 'metrostotales'], axis=1, inplace=True)"
   ]
  },
  {
   "cell_type": "code",
   "execution_count": 40,
   "metadata": {},
   "outputs": [],
   "source": [
    "# guardamos las features en el diccionario:\n",
    "['metrostotales_confiables', 'metroscubiertos_alt', 'metrostotales_alt',\n",
    " 'metrostotales_i1', 'metroscubiertos_i1', 'metrostotales_i2', 'metrostotales_confiables_alt']\n",
    "\n",
    "dicc_metros[0] = ['metrostotales_confiables_alt']\n",
    "dicc_metros[1] = ['metroscubiertos_alt', 'metrostotales_alt']\n",
    "dicc_metros[2] = ['metroscubiertos_i1', 'metrostotales_i1']\n",
    "dicc_metros[3] = ['metroscubiertos_alt', 'metrostotales_i2']\n",
    "\n",
    "dicc_metros_types['bernoulli'] = ['metrostotales_confiables_alt']\n",
    "dicc_metros_types['uint16'] = ['metroscubiertos_alt', 'metrostotales_alt', 'metrostotales_i1',\n",
    "                             'metroscubiertos_i1', 'metrostotales_i2']"
   ]
  },
  {
   "cell_type": "code",
   "execution_count": 41,
   "metadata": {},
   "outputs": [],
   "source": [
    "# guardamos todo lo generado\n",
    "df_metros.to_csv('features/metros.csv')"
   ]
  },
  {
   "cell_type": "code",
   "execution_count": 42,
   "metadata": {},
   "outputs": [],
   "source": [
    "def get_dicc_metros():\n",
    "    return {0: ['metrostotales_confiables_alt'],\n",
    " 1: ['metroscubiertos_alt', 'metrostotales_alt'],\n",
    " 2: ['metroscubiertos_i1', 'metrostotales_i1'],\n",
    " 3: ['metroscubiertos_alt', 'metrostotales_i2']}"
   ]
  },
  {
   "cell_type": "code",
   "execution_count": 43,
   "metadata": {},
   "outputs": [],
   "source": [
    "def get_dicc_metros_types():\n",
    "    return {'bernoulli': ['metrostotales_confiables_alt'],\n",
    " 'uint16': ['metroscubiertos_alt',\n",
    "  'metrostotales_alt',\n",
    "  'metrostotales_i1',\n",
    "  'metroscubiertos_i1',\n",
    "  'metrostotales_i2']}"
   ]
  },
  {
   "cell_type": "markdown",
   "metadata": {},
   "source": [
    "# Encoding de variables categoricas"
   ]
  },
  {
   "cell_type": "markdown",
   "metadata": {},
   "source": [
    "### TIPO DE PROPIEDAD"
   ]
  },
  {
   "cell_type": "code",
   "execution_count": 44,
   "metadata": {
    "scrolled": true
   },
   "outputs": [
    {
     "data": {
      "text/plain": [
       "Casa                  0.590544\n",
       "Apartamento           0.238615\n",
       "Casa en condominio    0.080708\n",
       "Terreno               0.041307\n",
       "Local Comercial       0.012822\n",
       "Oficina comercial     0.007188\n",
       "Bodega comercial      0.005888\n",
       "Edificio              0.005801\n",
       "Terreno comercial     0.005534\n",
       "Casa uso de suelo     0.003101\n",
       "Name: tipodepropiedad, dtype: float64"
      ]
     },
     "execution_count": 44,
     "metadata": {},
     "output_type": "execute_result"
    }
   ],
   "source": [
    "# En el TP1 vimos que la mayoria de las propiedades eran casas o departamentos. Vamos a chequear esto:\n",
    "dicc_tipodepropiedad = {}\n",
    "dicc_tipodepropiedad_types = {}\n",
    "\n",
    "df_tipodepropiedad = df[['tipodepropiedad', 'titulo', 'precio']].copy()\n",
    "df_tipodepropiedad['tipodepropiedad'].value_counts(normalize=True)[:10]"
   ]
  },
  {
   "cell_type": "code",
   "execution_count": 45,
   "metadata": {},
   "outputs": [],
   "source": [
    "# Vemos que un 80% de las propiedades son casas o apartamentos. En vista de esto, propondremos distintos tipos\n",
    "# de encoding para los tipos de propiedad.\n",
    "\n",
    "# Antes de encodear, vamos a agrupar las categorias minoritarias y las que sean similares. Analicemos:"
   ]
  },
  {
   "cell_type": "code",
   "execution_count": 46,
   "metadata": {
    "scrolled": true
   },
   "outputs": [
    {
     "data": {
      "text/plain": [
       "array(['Apartamento', 'Casa en condominio', 'Casa', 'Terreno',\n",
       "       'Terreno comercial', 'Local Comercial', 'Quinta Vacacional',\n",
       "       'Oficina comercial', 'Edificio', 'Casa uso de suelo',\n",
       "       'Local en centro comercial', 'Bodega comercial', 'Otros', 'Villa',\n",
       "       'Duplex', 'Inmuebles productivos urbanos',\n",
       "       'Departamento Compartido', 'Nave industrial', 'Rancho',\n",
       "       'Terreno industrial', nan, 'Huerta', 'Lote', 'Hospedaje', 'Garage'],\n",
       "      dtype=object)"
      ]
     },
     "execution_count": 46,
     "metadata": {},
     "output_type": "execute_result"
    }
   ],
   "source": [
    "df_tipodepropiedad['tipodepropiedad'].unique()"
   ]
  },
  {
   "cell_type": "code",
   "execution_count": 47,
   "metadata": {},
   "outputs": [],
   "source": [
    "# Aca podemos ver que podemos agrupar:\n",
    "\n",
    "# Terreno = Terreno, Terreno comercial, Terreno industrial.\n",
    "# Comercial = Local Comercial, Oficina comercial, Local en centro comercial, BOdega comercial"
   ]
  },
  {
   "cell_type": "code",
   "execution_count": 48,
   "metadata": {},
   "outputs": [],
   "source": [
    "# Vamos a llenar los nans utilizando los TITULOS, ya que se puede observar que los mismos describen de que tipo\n",
    "# de propiedad se trata. Para esto llamaremos a una funcion definida en pre_processing.\n",
    "\n",
    "nulas = df_tipodepropiedad.loc[df['tipodepropiedad'].isnull()][['titulo', 'tipodepropiedad']]\n",
    "nulas = pre_processing.fill_tipodepropiedad_nulls(nulas).drop('titulo', axis=1)"
   ]
  },
  {
   "cell_type": "code",
   "execution_count": 49,
   "metadata": {
    "scrolled": true
   },
   "outputs": [],
   "source": [
    "df_tipodepropiedad = pd.merge(df_tipodepropiedad, nulas, on='id', how='left')\n",
    "df_tipodepropiedad['tipodepropiedad'].fillna(df_tipodepropiedad['tipodepropiedad_titulo'], inplace=True)"
   ]
  },
  {
   "cell_type": "code",
   "execution_count": 50,
   "metadata": {},
   "outputs": [],
   "source": [
    "whitelist = ['Apartamento', 'Casa en condominio', 'Casa', 'Terreno', 'Edificio', 'Casa uso de suelo',\n",
    "             'Otros', 'Comercial']\n",
    "\n",
    "conversion = {'Terreno comercial':'Terreno', 'Terreno industrial':'Terreno', 'Local Comercial':'Comercial',\n",
    "              'Local en centro comercial':'Comercial', 'Oficina comercial':'Comercial',\n",
    "              'Bodega comercial':'Comercial',  'Quinta Vacacional':'Casa en condominio',\n",
    "              'Local Comercial':'Comercial', 'Duplex':'Apartamento', 'Villa':'Otros',\n",
    "              'Inmuebles productivos urbanos':'Otros', 'Departamento Compartido':'Apartamento',\n",
    "              'Nave industrial':'Otros',  'Rancho':'Otros', 'Huerta':'Otros', 'Lote':'Otros',\n",
    "              'Hospedaje':'Otros',  'Garage':'Otros'}\n",
    "\n",
    "df_tipodepropiedad['tipodepropiedad'] = df_tipodepropiedad['tipodepropiedad'].map(lambda x: x if x in whitelist else conversion[x])"
   ]
  },
  {
   "cell_type": "code",
   "execution_count": 51,
   "metadata": {},
   "outputs": [
    {
     "data": {
      "text/plain": [
       "Casa                  177159\n",
       "Apartamento            72177\n",
       "Casa en condominio     24706\n",
       "Terreno                14095\n",
       "Comercial               7985\n",
       "Edificio                1740\n",
       "Otros                   1208\n",
       "Casa uso de suelo        930\n",
       "Name: tipodepropiedad, dtype: int64"
      ]
     },
     "execution_count": 51,
     "metadata": {},
     "output_type": "execute_result"
    }
   ],
   "source": [
    "df_tipodepropiedad['tipodepropiedad'].value_counts()"
   ]
  },
  {
   "cell_type": "markdown",
   "metadata": {},
   "source": [
    "##### Probamos algunas alternativas de encoding..."
   ]
  },
  {
   "cell_type": "code",
   "execution_count": 52,
   "metadata": {},
   "outputs": [],
   "source": [
    "# label encoder\n",
    "encoder = LabelEncoder()\n",
    "encoded = df_tipodepropiedad[['tipodepropiedad']].apply(encoder.fit_transform).add_suffix(\"_le\")\n",
    "\n",
    "dicc_tipodepropiedad[0] = encoded.columns.to_list()\n",
    "dicc_tipodepropiedad_types['uint8'] = encoded.columns.to_list()\n",
    "df_tipodepropiedad = df_tipodepropiedad.join(encoded, on='id')"
   ]
  },
  {
   "cell_type": "code",
   "execution_count": 53,
   "metadata": {
    "scrolled": true
   },
   "outputs": [],
   "source": [
    "# one hot encoder\n",
    "encoder = ce.one_hot.OneHotEncoder()\n",
    "encoded = encoder.fit_transform(df_tipodepropiedad['tipodepropiedad']).add_suffix(\"_ohe\")\n",
    "\n",
    "dicc_tipodepropiedad[1] = encoded.columns.to_list()\n",
    "dicc_tipodepropiedad_types['bernoulli'] = encoded.columns.to_list()\n",
    "df_tipodepropiedad = df_tipodepropiedad.join(encoded, on='id')"
   ]
  },
  {
   "cell_type": "code",
   "execution_count": 54,
   "metadata": {},
   "outputs": [],
   "source": [
    "# binary encoder\n",
    "encoder = ce.binary.BinaryEncoder()\n",
    "encoded = encoder.fit_transform(df_tipodepropiedad['tipodepropiedad']).add_suffix(\"_binary\")\n",
    "\n",
    "dicc_tipodepropiedad[2] = encoded.columns.to_list()\n",
    "dicc_tipodepropiedad_types['bernoulli'] += encoded.columns.to_list()\n",
    "df_tipodepropiedad = df_tipodepropiedad.join(encoded, on='id')"
   ]
  },
  {
   "cell_type": "code",
   "execution_count": 55,
   "metadata": {},
   "outputs": [],
   "source": [
    "# polynomial encoder\n",
    "encoder = ce.polynomial.PolynomialEncoder()\n",
    "encoded = encoder.fit_transform(df_tipodepropiedad['tipodepropiedad']).add_suffix(\"_pol\")\n",
    "\n",
    "dicc_tipodepropiedad[3] = encoded.columns.to_list()\n",
    "dicc_tipodepropiedad_types['float'] = encoded.columns.to_list()\n",
    "df_tipodepropiedad = df_tipodepropiedad.join(encoded, on='id')"
   ]
  },
  {
   "cell_type": "code",
   "execution_count": 56,
   "metadata": {},
   "outputs": [],
   "source": [
    "df_tipodepropiedad['es_casa'] = df_tipodepropiedad['tipodepropiedad'].map(lambda x: 1 if x == 'Casa' else 0)\n",
    "df_tipodepropiedad['es_apart'] = df_tipodepropiedad['tipodepropiedad'].map(lambda x: 1 if x == 'Apartamento' else 0)\n",
    "\n",
    "dicc_tipodepropiedad_types['bernoulli'] += ['es_casa', 'es_apart']\n",
    "\n",
    "#definimos alternativas manualmente\n",
    "dicc_tipodepropiedad[4] = ['es_casa', 'es_apart']"
   ]
  },
  {
   "cell_type": "code",
   "execution_count": 57,
   "metadata": {},
   "outputs": [],
   "source": [
    "# target encoder con smoothing\n",
    "df_tipodepropiedad['tipodepropiedad_me_m0'] = mean_encoding(df_tipodepropiedad, by='tipodepropiedad', on='precio', m=0)\n",
    "df_tipodepropiedad['tipodepropiedad_me_m1'] = mean_encoding(df_tipodepropiedad, by='tipodepropiedad', on='precio', m=2)\n",
    "df_tipodepropiedad['tipodepropiedad_me_m2'] = mean_encoding(df_tipodepropiedad, by='tipodepropiedad', on='precio', m=5)\n",
    "df_tipodepropiedad['tipodepropiedad_me_m3'] = mean_encoding(df_tipodepropiedad, by='tipodepropiedad', on='precio', m=10)\n",
    "df_tipodepropiedad['tipodepropiedad_me_m4'] = mean_encoding(df_tipodepropiedad, by='tipodepropiedad', on='precio', m=100)\n",
    "\n",
    "dicc_tipodepropiedad[5] = ['tipodepropiedad_me_m0']\n",
    "dicc_tipodepropiedad[6] = ['tipodepropiedad_me_m1', 'tipodepropiedad_me_m2', \n",
    "                          'tipodepropiedad_me_m3', 'tipodepropiedad_me_m4']\n",
    "dicc_tipodepropiedad_types['float'] += ['tipodepropiedad_me_m0', 'tipodepropiedad_me_m1', 'tipodepropiedad_me_m2', \n",
    "                          'tipodepropiedad_me_m3', 'tipodepropiedad_me_m4']"
   ]
  },
  {
   "cell_type": "code",
   "execution_count": 58,
   "metadata": {},
   "outputs": [],
   "source": [
    "# guardamos el csv\n",
    "df_tipodepropiedad.drop(['tipodepropiedad', 'titulo', 'tipodepropiedad_titulo', 'precio'], axis=1, inplace=True)\n",
    "df_tipodepropiedad.to_csv('features/tipodepropiedad.csv')\n"
   ]
  },
  {
   "cell_type": "code",
   "execution_count": 59,
   "metadata": {},
   "outputs": [],
   "source": [
    "def get_dicc_tipodepropiedad():\n",
    "    return {0: ['tipodepropiedad_le'],\n",
    " 1: ['tipodepropiedad_1_ohe',  'tipodepropiedad_2_ohe',  'tipodepropiedad_3_ohe',  'tipodepropiedad_4_ohe',  'tipodepropiedad_5_ohe',\n",
    "  'tipodepropiedad_6_ohe',  'tipodepropiedad_7_ohe',  'tipodepropiedad_8_ohe'],\n",
    " 2: ['tipodepropiedad_0_binary',  'tipodepropiedad_1_binary',  'tipodepropiedad_2_binary',  'tipodepropiedad_3_binary'],\n",
    " 3: ['intercept_pol',  'tipodepropiedad_0_pol',  'tipodepropiedad_1_pol',  'tipodepropiedad_2_pol',\n",
    "  'tipodepropiedad_3_pol',  'tipodepropiedad_4_pol',  'tipodepropiedad_5_pol',  'tipodepropiedad_6_pol'],\n",
    " 4: ['es_casa', 'es_apart'],\n",
    " 5: ['tipodepropiedad_me_m0'],\n",
    " 6: ['tipodepropiedad_me_m1',  'tipodepropiedad_me_m2',  'tipodepropiedad_me_m3',  'tipodepropiedad_me_m4']}"
   ]
  },
  {
   "cell_type": "code",
   "execution_count": 60,
   "metadata": {},
   "outputs": [],
   "source": [
    "def get_dicc_tipodepropiedad_types():\n",
    "    return {'uint8': ['tipodepropiedad_le'],\n",
    " 'bernoulli': ['tipodepropiedad_1_ohe',  'tipodepropiedad_2_ohe',  'tipodepropiedad_3_ohe',  'tipodepropiedad_4_ohe',\n",
    "  'tipodepropiedad_5_ohe',  'tipodepropiedad_6_ohe',  'tipodepropiedad_7_ohe',  'tipodepropiedad_8_ohe',\n",
    "  'tipodepropiedad_0_binary',  'tipodepropiedad_1_binary',  'tipodepropiedad_2_binary',  'tipodepropiedad_3_binary',\n",
    "  'es_casa',  'es_apart'],\n",
    " 'float': ['intercept_pol',  'tipodepropiedad_0_pol',  'tipodepropiedad_1_pol',  'tipodepropiedad_2_pol',\n",
    "  'tipodepropiedad_3_pol',  'tipodepropiedad_4_pol',  'tipodepropiedad_5_pol',  'tipodepropiedad_6_pol',\n",
    "  'tipodepropiedad_me_m0',  'tipodepropiedad_me_m1',  'tipodepropiedad_me_m2',  'tipodepropiedad_me_m3',  'tipodepropiedad_me_m4']}"
   ]
  },
  {
   "cell_type": "markdown",
   "metadata": {},
   "source": [
    "### PROVINCIA"
   ]
  },
  {
   "cell_type": "code",
   "execution_count": 61,
   "metadata": {},
   "outputs": [],
   "source": [
    "# En el TP1 vimos que la mayoria de las publicaciones venian de distrito federal, siendo este un atributo\n",
    "# muy importante a la hora de determinar el precio final.\n",
    "dicc_provincia = {}\n",
    "dicc_provincia_types = {}\n",
    "\n",
    "df_provincia = df[['provincia', 'precio']].copy()\n",
    "df_provincia['provincia'].value_counts()[:10]\n",
    "\n",
    "df_provincia['provincia'].fillna('unknown', inplace=True)"
   ]
  },
  {
   "cell_type": "code",
   "execution_count": 62,
   "metadata": {},
   "outputs": [],
   "source": [
    "# Vamos a generar distintos encodings para representar esta informacion"
   ]
  },
  {
   "cell_type": "code",
   "execution_count": 63,
   "metadata": {
    "scrolled": true
   },
   "outputs": [],
   "source": [
    "# label encoder\n",
    "encoder = LabelEncoder()\n",
    "encoded = df_provincia[['provincia']].apply(encoder.fit_transform).add_suffix(\"_le\")\n",
    "\n",
    "dicc_provincia[0] = encoded.columns.to_list()\n",
    "dicc_provincia_types['uint8'] = encoded.columns.to_list()\n",
    "df_provincia = df_provincia.join(encoded, on='id')"
   ]
  },
  {
   "cell_type": "code",
   "execution_count": 64,
   "metadata": {},
   "outputs": [],
   "source": [
    "# one hot encoder\n",
    "encoder = ce.one_hot.OneHotEncoder()\n",
    "encoded = encoder.fit_transform(df_provincia['provincia']).add_suffix(\"_ohe\")\n",
    "\n",
    "dicc_provincia[1] = encoded.columns.to_list()\n",
    "dicc_provincia_types['bernoulli'] = encoded.columns.to_list()\n",
    "df_provincia = df_provincia.join(encoded, on='id')"
   ]
  },
  {
   "cell_type": "code",
   "execution_count": 65,
   "metadata": {},
   "outputs": [],
   "source": [
    "# binary encoder\n",
    "encoder = ce.binary.BinaryEncoder()\n",
    "encoded = encoder.fit_transform(df_provincia['provincia']).add_suffix(\"_binary\")\n",
    "\n",
    "dicc_provincia[2] = encoded.columns.to_list()\n",
    "dicc_provincia_types['bernoulli'] += encoded.columns.to_list()\n",
    "df_provincia = df_provincia.join(encoded, on='id')"
   ]
  },
  {
   "cell_type": "code",
   "execution_count": 66,
   "metadata": {},
   "outputs": [],
   "source": [
    "# one hot encoding para el top 10 de provincias:\n",
    "top_prov = []\n",
    "for provincia in df_provincia['provincia'].value_counts().index.to_list()[:10]:\n",
    "    name = 'es_'+str(provincia)\n",
    "    top_prov.append(name)\n",
    "    df_provincia[name] = df_provincia['provincia'].map(lambda x: 1 if x == str(provincia) else 0)\n",
    "\n",
    "dicc_provincia_types['bernoulli'] += top_prov\n",
    "\n",
    "#definimos alternativas manualmente\n",
    "dicc_provincia[3] = top_prov\n",
    "dicc_provincia[4] = top_prov[:2]"
   ]
  },
  {
   "cell_type": "code",
   "execution_count": 67,
   "metadata": {},
   "outputs": [],
   "source": [
    "# target encoding\n",
    "\n",
    "df_provincia['provincia_me_m0'] = mean_encoding(df_provincia, by='provincia', on='precio', m=0)\n",
    "df_provincia['provincia_me_m1'] = mean_encoding(df_provincia, by='provincia', on='precio', m=2)\n",
    "df_provincia['provincia_me_m2'] = mean_encoding(df_provincia, by='provincia', on='precio', m=5)\n",
    "df_provincia['provincia_me_m3'] = mean_encoding(df_provincia, by='provincia', on='precio', m=10)\n",
    "df_provincia['provincia_me_m4'] = mean_encoding(df_provincia, by='provincia', on='precio', m=100)\n",
    "\n",
    "dicc_provincia[5] = ['provincia_me_m0']\n",
    "dicc_provincia[6] = ['provincia_me_m1', 'provincia_me_m2', 'provincia_me_m3', \n",
    "                    'provincia_me_m4']\n",
    "dicc_provincia_types['float'] = ['provincia_me_m0', 'provincia_me_m1', 'provincia_me_m2', 'provincia_me_m3', \n",
    "                    'provincia_me_m4']"
   ]
  },
  {
   "cell_type": "code",
   "execution_count": 68,
   "metadata": {},
   "outputs": [],
   "source": [
    "# guardamos el csv\n",
    "df_provincia.drop(['provincia', 'precio'], axis=1, inplace=True)\n",
    "df_provincia.to_csv('features/provincia.csv')"
   ]
  },
  {
   "cell_type": "code",
   "execution_count": 69,
   "metadata": {},
   "outputs": [],
   "source": [
    "def get_dicc_provincia():\n",
    "    return {0: ['provincia_le'],\n",
    " 1: ['provincia_1_ohe',  'provincia_2_ohe',  'provincia_3_ohe',  'provincia_4_ohe',  'provincia_5_ohe',\n",
    "  'provincia_6_ohe',  'provincia_7_ohe',  'provincia_8_ohe',  'provincia_9_ohe',  'provincia_10_ohe',\n",
    "  'provincia_11_ohe',  'provincia_12_ohe',  'provincia_13_ohe',  'provincia_14_ohe',  'provincia_15_ohe',\n",
    "  'provincia_16_ohe',  'provincia_17_ohe',  'provincia_18_ohe',  'provincia_19_ohe',  'provincia_20_ohe',\n",
    "  'provincia_21_ohe',  'provincia_22_ohe',  'provincia_23_ohe',  'provincia_24_ohe',  'provincia_25_ohe',\n",
    "  'provincia_26_ohe',  'provincia_27_ohe',  'provincia_28_ohe',  'provincia_29_ohe',  'provincia_30_ohe',\n",
    "  'provincia_31_ohe',  'provincia_32_ohe',  'provincia_33_ohe'],\n",
    " 2: ['provincia_0_binary',  'provincia_1_binary',  'provincia_2_binary',  'provincia_3_binary',\n",
    "  'provincia_4_binary',  'provincia_5_binary',  'provincia_6_binary'],\n",
    " 3: ['es_Distrito Federal',  'es_Edo. de México',  'es_Jalisco',  'es_Querétaro',\n",
    "  'es_Nuevo León',  'es_Puebla',  'es_San luis Potosí',  'es_Yucatán',\n",
    "  'es_Morelos',  'es_Veracruz'], 4: ['es_Distrito Federal', 'es_Edo. de México'],\n",
    " 5: ['provincia_me_m0'],\n",
    " 6: ['provincia_me_m1',  'provincia_me_m2',  'provincia_me_m3',  'provincia_me_m4']}"
   ]
  },
  {
   "cell_type": "code",
   "execution_count": 70,
   "metadata": {},
   "outputs": [],
   "source": [
    "def get_dicc_provincia_types():\n",
    "    return {'uint8': ['provincia_le'],\n",
    " 'bernoulli': ['provincia_1_ohe',  'provincia_2_ohe',  'provincia_3_ohe',  'provincia_4_ohe',  'provincia_5_ohe',\n",
    "  'provincia_6_ohe',  'provincia_7_ohe',  'provincia_8_ohe',  'provincia_9_ohe',  'provincia_10_ohe',\n",
    "  'provincia_11_ohe',  'provincia_12_ohe',  'provincia_13_ohe',  'provincia_14_ohe',  'provincia_15_ohe',\n",
    "  'provincia_16_ohe',  'provincia_17_ohe',  'provincia_18_ohe',  'provincia_19_ohe',  'provincia_20_ohe',\n",
    "  'provincia_21_ohe',  'provincia_22_ohe',  'provincia_23_ohe',  'provincia_24_ohe',  'provincia_25_ohe',\n",
    "  'provincia_26_ohe',  'provincia_27_ohe',  'provincia_28_ohe',  'provincia_29_ohe',  'provincia_30_ohe',\n",
    "  'provincia_31_ohe',  'provincia_32_ohe',  'provincia_33_ohe',  'provincia_0_binary',  'provincia_1_binary',\n",
    "  'provincia_2_binary',  'provincia_3_binary',  'provincia_4_binary',  'provincia_5_binary',  'provincia_6_binary',\n",
    "  'es_Distrito Federal',  'es_Edo. de México',  'es_Jalisco',  'es_Querétaro',  'es_Nuevo León',\n",
    "  'es_Puebla',  'es_San luis Potosí',  'es_Yucatán',  'es_Morelos',  'es_Veracruz'],\n",
    " 'float': ['provincia_me_m0',  'provincia_me_m1',  'provincia_me_m2',  'provincia_me_m3',  'provincia_me_m4']}"
   ]
  },
  {
   "cell_type": "markdown",
   "metadata": {},
   "source": [
    "### CIUDAD"
   ]
  },
  {
   "cell_type": "code",
   "execution_count": 71,
   "metadata": {},
   "outputs": [
    {
     "data": {
      "text/plain": [
       "Querétaro              15874\n",
       "Benito Juárez          13817\n",
       "Zapopan                12924\n",
       "San Luis Potosí         9875\n",
       "Mérida                  9000\n",
       "                       ...  \n",
       "Villanueva                 1\n",
       "Aquismón                   1\n",
       "Gral. Bravo                1\n",
       "Santiago Miahuatlán        1\n",
       "Nazareno Etla              1\n",
       "Name: ciudad, Length: 922, dtype: int64"
      ]
     },
     "execution_count": 71,
     "metadata": {},
     "output_type": "execute_result"
    }
   ],
   "source": [
    "# Esta variable es conflictiva por la cantidad de valores distintos que posee:\n",
    "dicc_ciudad = {}\n",
    "dicc_ciudad_types = {}\n",
    "\n",
    "df_ciudad = df[['ciudad', 'metroscubiertos', 'precio']].copy()\n",
    "df_ciudad['ciudad'].fillna('unknown', inplace=True)\n",
    "\n",
    "df_ciudad['ciudad'].value_counts()"
   ]
  },
  {
   "cell_type": "code",
   "execution_count": 72,
   "metadata": {},
   "outputs": [],
   "source": [
    "# Como vemos, son 922 valores distintos. Vamos a ver entonces, hasta que ciudad debemos sumar para conservar un\n",
    "# buen porcentaje."
   ]
  },
  {
   "cell_type": "code",
   "execution_count": 73,
   "metadata": {},
   "outputs": [
    {
     "name": "stdout",
     "output_type": "stream",
     "text": [
      "Con 10 ciudades, conservamos el 34% de los datos.\n",
      "Con 20 ciudades, conservamos el 53% de los datos.\n",
      "Con 30 ciudades, conservamos el 65% de los datos.\n",
      "Con 40 ciudades, conservamos el 73% de los datos.\n",
      "Con 50 ciudades, conservamos el 79% de los datos.\n",
      "Con 60 ciudades, conservamos el 83% de los datos.\n",
      "Con 70 ciudades, conservamos el 87% de los datos.\n",
      "Con 80 ciudades, conservamos el 90% de los datos.\n",
      "Con 90 ciudades, conservamos el 92% de los datos.\n",
      "Con 100 ciudades, conservamos el 93% de los datos.\n",
      "Con 200 ciudades, conservamos el 98% de los datos.\n",
      "Con 500 ciudades, conservamos el 99% de los datos.\n",
      "Con 900 ciudades, conservamos el 99% de los datos.\n"
     ]
    }
   ],
   "source": [
    "for i in [10, 20, 30, 40, 50, 60, 70, 80, 90, 100, 200, 500, 900]:\n",
    "    print(f\"Con {i} ciudades, conservamos el {int(df['ciudad'].value_counts(normalize=True)[:i].sum()*100)}% de los datos.\")"
   ]
  },
  {
   "cell_type": "code",
   "execution_count": 74,
   "metadata": {},
   "outputs": [],
   "source": [
    "# Para evitar outliers, vamos a agrupar a las ciudades que tengan pocos datos."
   ]
  },
  {
   "cell_type": "code",
   "execution_count": 75,
   "metadata": {},
   "outputs": [],
   "source": [
    "ciudades = df_ciudad['ciudad'].value_counts()"
   ]
  },
  {
   "cell_type": "code",
   "execution_count": 76,
   "metadata": {},
   "outputs": [],
   "source": [
    "whitelist = []\n",
    "for i in range(ciudades.count()):\n",
    "    if (ciudades.iloc[i] >= 500):\n",
    "        nombre = ciudades.index[i]\n",
    "        whitelist.append(nombre)"
   ]
  },
  {
   "cell_type": "code",
   "execution_count": 77,
   "metadata": {},
   "outputs": [],
   "source": [
    "df_ciudad['ciudad'] = df_ciudad['ciudad'].map(lambda x: x if x in whitelist else 'Otra') "
   ]
  },
  {
   "cell_type": "code",
   "execution_count": 78,
   "metadata": {},
   "outputs": [],
   "source": [
    "# label encoder\n",
    "encoder = LabelEncoder()\n",
    "encoded = df_ciudad[['ciudad']].apply(encoder.fit_transform).add_suffix(\"_le\")\n",
    "\n",
    "dicc_ciudad[0] = encoded.columns.to_list()\n",
    "dicc_ciudad_types['uint16'] = encoded.columns.to_list()\n",
    "df_ciudad = df_ciudad.join(encoded, on='id')"
   ]
  },
  {
   "cell_type": "code",
   "execution_count": 79,
   "metadata": {},
   "outputs": [],
   "source": [
    "# binary encoder\n",
    "encoder = ce.binary.BinaryEncoder()\n",
    "encoded = encoder.fit_transform(df_ciudad['ciudad']).add_suffix(\"_binary\")\n",
    "\n",
    "dicc_ciudad[1] = encoded.columns.to_list()\n",
    "dicc_ciudad_types['bernoulli'] = encoded.columns.to_list()\n",
    "df_ciudad = df_ciudad.join(encoded, on='id')"
   ]
  },
  {
   "cell_type": "code",
   "execution_count": 80,
   "metadata": {},
   "outputs": [],
   "source": [
    "# Para one hot encoding claramente es mucho mas complicado, porque son muchos valores unicos distintos,\n",
    "# por lo que haremos lo siguiente: plantearemos varias alternativas.\n",
    "\n",
    "# La primera sera generar onehot encoding para las primeras 50 ciudades, que como vimos, nos permite conservar\n",
    "# un 80% de precision, y a las demas las empaquetamos en una ciudad \"Otra\""
   ]
  },
  {
   "cell_type": "code",
   "execution_count": 81,
   "metadata": {},
   "outputs": [],
   "source": [
    "whitelist = df_ciudad['ciudad'].value_counts().index.to_list()[:50]\n",
    "df_ciudad['ciudad_top50'] = df_ciudad['ciudad'].map(lambda x: x if x in whitelist else 'Otra')"
   ]
  },
  {
   "cell_type": "code",
   "execution_count": 82,
   "metadata": {},
   "outputs": [],
   "source": [
    "# one hot encoder\n",
    "encoder = ce.one_hot.OneHotEncoder()\n",
    "encoded = encoder.fit_transform(df_ciudad['ciudad_top50']).add_suffix(\"_ohe\")\n",
    "\n",
    "dicc_ciudad[2] = encoded.columns.to_list()\n",
    "dicc_ciudad_types['bernoulli'] += encoded.columns.to_list()\n",
    "df_ciudad = df_ciudad.join(encoded, on='id').drop('ciudad_top50', axis=1)"
   ]
  },
  {
   "cell_type": "code",
   "execution_count": 83,
   "metadata": {},
   "outputs": [],
   "source": [
    "# Otra alternativa sera distinguir ciudades caras de baratas mediante distintos metodos:\n",
    "\n",
    "# 1. Calcularemos cual es el precio promedio del metro cuadrado, realizaremos un binning para distinguir\n",
    "# entre ciudades baratas, normales, y caras, y haremos one hot encoding para este binning."
   ]
  },
  {
   "cell_type": "code",
   "execution_count": 84,
   "metadata": {},
   "outputs": [],
   "source": [
    "precio_ciudades = df_ciudad.head(filas_train).groupby('ciudad')['metroscubiertos', 'precio'].agg('sum')"
   ]
  },
  {
   "cell_type": "code",
   "execution_count": 85,
   "metadata": {},
   "outputs": [],
   "source": [
    "precio_ciudades['precio_prom_mt_ciudad'] = precio_ciudades.apply(lambda x: (int(x['precio']/x['metroscubiertos'])), axis=1)"
   ]
  },
  {
   "cell_type": "code",
   "execution_count": 86,
   "metadata": {},
   "outputs": [],
   "source": [
    "precio_ciudades = precio_ciudades[['precio_prom_mt_ciudad']]"
   ]
  },
  {
   "cell_type": "code",
   "execution_count": 87,
   "metadata": {},
   "outputs": [],
   "source": [
    "df_ciudad['precio_prom_mt_ciudad'] = df_ciudad['ciudad'].map(lambda x: precio_ciudades.loc[x][0])"
   ]
  },
  {
   "cell_type": "code",
   "execution_count": 88,
   "metadata": {},
   "outputs": [],
   "source": [
    "df_ciudad.drop(['metroscubiertos'], axis=1, inplace=True)"
   ]
  },
  {
   "cell_type": "code",
   "execution_count": 89,
   "metadata": {},
   "outputs": [],
   "source": [
    "categorias = df_ciudad['precio_prom_mt_ciudad'].describe()"
   ]
  },
  {
   "cell_type": "code",
   "execution_count": 90,
   "metadata": {},
   "outputs": [],
   "source": [
    "mean = categorias[1]\n",
    "std = categorias[2]"
   ]
  },
  {
   "cell_type": "code",
   "execution_count": 91,
   "metadata": {},
   "outputs": [],
   "source": [
    "df_ciudad['ciudad_cara'] = df_ciudad['precio_prom_mt_ciudad'].map(lambda x: 1 if (x>(mean+std)) else 0)\n",
    "df_ciudad['ciudad_normal'] = df_ciudad['precio_prom_mt_ciudad'].map(lambda x: 1 if ((x>(mean-std)) & (x<(mean+std))) else 0)\n",
    "df_ciudad['ciudad_barata'] = df_ciudad['precio_prom_mt_ciudad'].map(lambda x: 1 if (x<(mean-std)) else 0)"
   ]
  },
  {
   "cell_type": "code",
   "execution_count": 92,
   "metadata": {},
   "outputs": [],
   "source": [
    "df_ciudad.drop(['precio_prom_mt_ciudad'], axis=1, inplace=True)"
   ]
  },
  {
   "cell_type": "code",
   "execution_count": 93,
   "metadata": {
    "scrolled": true
   },
   "outputs": [
    {
     "data": {
      "text/html": [
       "<div>\n",
       "<style scoped>\n",
       "    .dataframe tbody tr th:only-of-type {\n",
       "        vertical-align: middle;\n",
       "    }\n",
       "\n",
       "    .dataframe tbody tr th {\n",
       "        vertical-align: top;\n",
       "    }\n",
       "\n",
       "    .dataframe thead th {\n",
       "        text-align: right;\n",
       "    }\n",
       "</style>\n",
       "<table border=\"1\" class=\"dataframe\">\n",
       "  <thead>\n",
       "    <tr style=\"text-align: right;\">\n",
       "      <th></th>\n",
       "      <th>ciudad</th>\n",
       "      <th>precio</th>\n",
       "      <th>ciudad_le</th>\n",
       "      <th>ciudad_0_binary</th>\n",
       "      <th>ciudad_1_binary</th>\n",
       "      <th>ciudad_2_binary</th>\n",
       "      <th>ciudad_3_binary</th>\n",
       "      <th>ciudad_4_binary</th>\n",
       "      <th>ciudad_5_binary</th>\n",
       "      <th>ciudad_6_binary</th>\n",
       "      <th>...</th>\n",
       "      <th>ciudad_top50_44_ohe</th>\n",
       "      <th>ciudad_top50_45_ohe</th>\n",
       "      <th>ciudad_top50_46_ohe</th>\n",
       "      <th>ciudad_top50_47_ohe</th>\n",
       "      <th>ciudad_top50_48_ohe</th>\n",
       "      <th>ciudad_top50_49_ohe</th>\n",
       "      <th>ciudad_top50_50_ohe</th>\n",
       "      <th>ciudad_cara</th>\n",
       "      <th>ciudad_normal</th>\n",
       "      <th>ciudad_barata</th>\n",
       "    </tr>\n",
       "    <tr>\n",
       "      <th>id</th>\n",
       "      <th></th>\n",
       "      <th></th>\n",
       "      <th></th>\n",
       "      <th></th>\n",
       "      <th></th>\n",
       "      <th></th>\n",
       "      <th></th>\n",
       "      <th></th>\n",
       "      <th></th>\n",
       "      <th></th>\n",
       "      <th></th>\n",
       "      <th></th>\n",
       "      <th></th>\n",
       "      <th></th>\n",
       "      <th></th>\n",
       "      <th></th>\n",
       "      <th></th>\n",
       "      <th></th>\n",
       "      <th></th>\n",
       "      <th></th>\n",
       "      <th></th>\n",
       "    </tr>\n",
       "  </thead>\n",
       "  <tbody>\n",
       "    <tr>\n",
       "      <td>254099</td>\n",
       "      <td>Benito Juárez</td>\n",
       "      <td>2273000.0</td>\n",
       "      <td>8</td>\n",
       "      <td>0</td>\n",
       "      <td>0</td>\n",
       "      <td>0</td>\n",
       "      <td>0</td>\n",
       "      <td>0</td>\n",
       "      <td>0</td>\n",
       "      <td>0</td>\n",
       "      <td>...</td>\n",
       "      <td>0</td>\n",
       "      <td>0</td>\n",
       "      <td>0</td>\n",
       "      <td>0</td>\n",
       "      <td>0</td>\n",
       "      <td>0</td>\n",
       "      <td>0</td>\n",
       "      <td>1</td>\n",
       "      <td>0</td>\n",
       "      <td>0</td>\n",
       "    </tr>\n",
       "    <tr>\n",
       "      <td>53461</td>\n",
       "      <td>La Magdalena Contreras</td>\n",
       "      <td>3600000.0</td>\n",
       "      <td>40</td>\n",
       "      <td>0</td>\n",
       "      <td>0</td>\n",
       "      <td>0</td>\n",
       "      <td>0</td>\n",
       "      <td>0</td>\n",
       "      <td>0</td>\n",
       "      <td>1</td>\n",
       "      <td>...</td>\n",
       "      <td>0</td>\n",
       "      <td>0</td>\n",
       "      <td>0</td>\n",
       "      <td>0</td>\n",
       "      <td>0</td>\n",
       "      <td>0</td>\n",
       "      <td>0</td>\n",
       "      <td>0</td>\n",
       "      <td>1</td>\n",
       "      <td>0</td>\n",
       "    </tr>\n",
       "    <tr>\n",
       "      <td>247984</td>\n",
       "      <td>Tonalá</td>\n",
       "      <td>1200000.0</td>\n",
       "      <td>84</td>\n",
       "      <td>0</td>\n",
       "      <td>0</td>\n",
       "      <td>0</td>\n",
       "      <td>0</td>\n",
       "      <td>0</td>\n",
       "      <td>0</td>\n",
       "      <td>1</td>\n",
       "      <td>...</td>\n",
       "      <td>0</td>\n",
       "      <td>0</td>\n",
       "      <td>0</td>\n",
       "      <td>0</td>\n",
       "      <td>0</td>\n",
       "      <td>0</td>\n",
       "      <td>0</td>\n",
       "      <td>0</td>\n",
       "      <td>0</td>\n",
       "      <td>1</td>\n",
       "    </tr>\n",
       "    <tr>\n",
       "      <td>209067</td>\n",
       "      <td>Otra</td>\n",
       "      <td>650000.0</td>\n",
       "      <td>55</td>\n",
       "      <td>0</td>\n",
       "      <td>0</td>\n",
       "      <td>0</td>\n",
       "      <td>0</td>\n",
       "      <td>0</td>\n",
       "      <td>1</td>\n",
       "      <td>0</td>\n",
       "      <td>...</td>\n",
       "      <td>0</td>\n",
       "      <td>0</td>\n",
       "      <td>0</td>\n",
       "      <td>0</td>\n",
       "      <td>0</td>\n",
       "      <td>0</td>\n",
       "      <td>0</td>\n",
       "      <td>0</td>\n",
       "      <td>1</td>\n",
       "      <td>0</td>\n",
       "    </tr>\n",
       "    <tr>\n",
       "      <td>185997</td>\n",
       "      <td>Zapopan</td>\n",
       "      <td>1150000.0</td>\n",
       "      <td>93</td>\n",
       "      <td>0</td>\n",
       "      <td>0</td>\n",
       "      <td>0</td>\n",
       "      <td>0</td>\n",
       "      <td>0</td>\n",
       "      <td>1</td>\n",
       "      <td>0</td>\n",
       "      <td>...</td>\n",
       "      <td>0</td>\n",
       "      <td>0</td>\n",
       "      <td>0</td>\n",
       "      <td>0</td>\n",
       "      <td>0</td>\n",
       "      <td>0</td>\n",
       "      <td>0</td>\n",
       "      <td>0</td>\n",
       "      <td>1</td>\n",
       "      <td>0</td>\n",
       "    </tr>\n",
       "  </tbody>\n",
       "</table>\n",
       "<p>5 rows × 64 columns</p>\n",
       "</div>"
      ],
      "text/plain": [
       "                        ciudad     precio  ciudad_le  ciudad_0_binary  \\\n",
       "id                                                                      \n",
       "254099           Benito Juárez  2273000.0          8                0   \n",
       "53461   La Magdalena Contreras  3600000.0         40                0   \n",
       "247984                  Tonalá  1200000.0         84                0   \n",
       "209067                    Otra   650000.0         55                0   \n",
       "185997                 Zapopan  1150000.0         93                0   \n",
       "\n",
       "        ciudad_1_binary  ciudad_2_binary  ciudad_3_binary  ciudad_4_binary  \\\n",
       "id                                                                           \n",
       "254099                0                0                0                0   \n",
       "53461                 0                0                0                0   \n",
       "247984                0                0                0                0   \n",
       "209067                0                0                0                0   \n",
       "185997                0                0                0                0   \n",
       "\n",
       "        ciudad_5_binary  ciudad_6_binary  ...  ciudad_top50_44_ohe  \\\n",
       "id                                        ...                        \n",
       "254099                0                0  ...                    0   \n",
       "53461                 0                1  ...                    0   \n",
       "247984                0                1  ...                    0   \n",
       "209067                1                0  ...                    0   \n",
       "185997                1                0  ...                    0   \n",
       "\n",
       "        ciudad_top50_45_ohe  ciudad_top50_46_ohe  ciudad_top50_47_ohe  \\\n",
       "id                                                                      \n",
       "254099                    0                    0                    0   \n",
       "53461                     0                    0                    0   \n",
       "247984                    0                    0                    0   \n",
       "209067                    0                    0                    0   \n",
       "185997                    0                    0                    0   \n",
       "\n",
       "        ciudad_top50_48_ohe  ciudad_top50_49_ohe  ciudad_top50_50_ohe  \\\n",
       "id                                                                      \n",
       "254099                    0                    0                    0   \n",
       "53461                     0                    0                    0   \n",
       "247984                    0                    0                    0   \n",
       "209067                    0                    0                    0   \n",
       "185997                    0                    0                    0   \n",
       "\n",
       "        ciudad_cara  ciudad_normal  ciudad_barata  \n",
       "id                                                 \n",
       "254099            1              0              0  \n",
       "53461             0              1              0  \n",
       "247984            0              0              1  \n",
       "209067            0              1              0  \n",
       "185997            0              1              0  \n",
       "\n",
       "[5 rows x 64 columns]"
      ]
     },
     "execution_count": 93,
     "metadata": {},
     "output_type": "execute_result"
    }
   ],
   "source": [
    "# finalmente, generamos lo que queriamos.\n",
    "df_ciudad.head()"
   ]
  },
  {
   "cell_type": "code",
   "execution_count": 94,
   "metadata": {},
   "outputs": [],
   "source": [
    "dicc_ciudad[3] = ['ciudad_cara', 'ciudad_barata', 'ciudad_normal']\n",
    "dicc_ciudad_types['bernoulli'] += ['ciudad_cara', 'ciudad_barata', 'ciudad_normal']"
   ]
  },
  {
   "cell_type": "code",
   "execution_count": 95,
   "metadata": {
    "scrolled": true
   },
   "outputs": [],
   "source": [
    "# Agregado de Target Mean Encoding\n",
    "df_ciudad['ciudad_me_m0'] = mean_encoding(df_ciudad, by='ciudad', on='precio', m=0)\n",
    "df_ciudad['ciudad_me_m1'] = mean_encoding(df_ciudad, by='ciudad', on='precio', m=2)\n",
    "df_ciudad['ciudad_me_m2'] = mean_encoding(df_ciudad, by='ciudad', on='precio', m=5)\n",
    "df_ciudad['ciudad_me_m3'] = mean_encoding(df_ciudad, by='ciudad', on='precio', m=10)\n",
    "df_ciudad['ciudad_me_m4'] = mean_encoding(df_ciudad, by='ciudad', on='precio', m=100)\n",
    "\n",
    "dicc_ciudad[4] = ['ciudad_me_m0']\n",
    "dicc_ciudad[5] = ['ciudad_me_m1', 'ciudad_me_m2', 'ciudad_me_m3', 'ciudad_me_m4']\n",
    "dicc_ciudad_types['float'] = ['ciudad_me_m0', 'ciudad_me_m1', 'ciudad_me_m2', 'ciudad_me_m3', 'ciudad_me_m4']"
   ]
  },
  {
   "cell_type": "code",
   "execution_count": 96,
   "metadata": {},
   "outputs": [],
   "source": [
    "df_ciudad.drop(['ciudad', 'precio'], axis=1, inplace=True)\n",
    "\n",
    "# guardamos el csv\n",
    "df_ciudad.to_csv('features/ciudad.csv')"
   ]
  },
  {
   "cell_type": "code",
   "execution_count": 97,
   "metadata": {},
   "outputs": [],
   "source": [
    "def get_dicc_ciudad():\n",
    "    return {0: ['ciudad_le'],\n",
    " 1: ['ciudad_0_binary',  'ciudad_1_binary',  'ciudad_2_binary',  'ciudad_3_binary',  'ciudad_4_binary',\n",
    "  'ciudad_5_binary',  'ciudad_6_binary',  'ciudad_7_binary'],\n",
    " 2: ['ciudad_top50_1_ohe',  'ciudad_top50_2_ohe',  'ciudad_top50_3_ohe',  'ciudad_top50_4_ohe',  'ciudad_top50_5_ohe',\n",
    "  'ciudad_top50_6_ohe',  'ciudad_top50_7_ohe',  'ciudad_top50_8_ohe',  'ciudad_top50_9_ohe',  'ciudad_top50_10_ohe',\n",
    "  'ciudad_top50_11_ohe',  'ciudad_top50_12_ohe',  'ciudad_top50_13_ohe',  'ciudad_top50_14_ohe',  'ciudad_top50_15_ohe',\n",
    "  'ciudad_top50_16_ohe',  'ciudad_top50_17_ohe',  'ciudad_top50_18_ohe',  'ciudad_top50_19_ohe',  'ciudad_top50_20_ohe',\n",
    "  'ciudad_top50_21_ohe',  'ciudad_top50_22_ohe',  'ciudad_top50_23_ohe',  'ciudad_top50_24_ohe',  'ciudad_top50_25_ohe',\n",
    "  'ciudad_top50_26_ohe',  'ciudad_top50_27_ohe',  'ciudad_top50_28_ohe',  'ciudad_top50_29_ohe',  'ciudad_top50_30_ohe',\n",
    "  'ciudad_top50_31_ohe',  'ciudad_top50_32_ohe',  'ciudad_top50_33_ohe',  'ciudad_top50_34_ohe',  'ciudad_top50_35_ohe',\n",
    "  'ciudad_top50_36_ohe',  'ciudad_top50_37_ohe',  'ciudad_top50_38_ohe',  'ciudad_top50_39_ohe',  'ciudad_top50_40_ohe',\n",
    "  'ciudad_top50_41_ohe',  'ciudad_top50_42_ohe',  'ciudad_top50_43_ohe',  'ciudad_top50_44_ohe',  'ciudad_top50_45_ohe',\n",
    "  'ciudad_top50_46_ohe',  'ciudad_top50_47_ohe',  'ciudad_top50_48_ohe',  'ciudad_top50_49_ohe',  'ciudad_top50_50_ohe'],\n",
    " 3: ['ciudad_cara', 'ciudad_barata', 'ciudad_normal'],\n",
    " 4: ['ciudad_me_m0'],\n",
    " 5: ['ciudad_me_m1', 'ciudad_me_m2', 'ciudad_me_m3', 'ciudad_me_m4']}"
   ]
  },
  {
   "cell_type": "code",
   "execution_count": 98,
   "metadata": {},
   "outputs": [],
   "source": [
    "def get_dicc_ciudad_types():\n",
    "    return {'uint16': ['ciudad_le'],\n",
    " 'bernoulli': ['ciudad_0_binary',  'ciudad_1_binary',  'ciudad_2_binary',  'ciudad_3_binary',  'ciudad_4_binary',\n",
    "  'ciudad_5_binary',  'ciudad_6_binary',  'ciudad_7_binary',  'ciudad_top50_1_ohe',  'ciudad_top50_2_ohe',\n",
    "  'ciudad_top50_3_ohe',  'ciudad_top50_4_ohe',  'ciudad_top50_5_ohe',  'ciudad_top50_6_ohe',  'ciudad_top50_7_ohe',\n",
    "  'ciudad_top50_8_ohe',  'ciudad_top50_9_ohe',  'ciudad_top50_10_ohe',  'ciudad_top50_11_ohe',  'ciudad_top50_12_ohe',\n",
    "  'ciudad_top50_13_ohe',  'ciudad_top50_14_ohe',  'ciudad_top50_15_ohe',  'ciudad_top50_16_ohe',  'ciudad_top50_17_ohe',\n",
    "  'ciudad_top50_18_ohe',  'ciudad_top50_19_ohe',  'ciudad_top50_20_ohe',  'ciudad_top50_21_ohe',  'ciudad_top50_22_ohe',\n",
    "  'ciudad_top50_23_ohe',  'ciudad_top50_24_ohe',  'ciudad_top50_25_ohe',  'ciudad_top50_26_ohe',  'ciudad_top50_27_ohe',\n",
    "  'ciudad_top50_28_ohe',  'ciudad_top50_29_ohe',  'ciudad_top50_30_ohe',  'ciudad_top50_31_ohe',  'ciudad_top50_32_ohe',\n",
    "  'ciudad_top50_33_ohe',  'ciudad_top50_34_ohe',  'ciudad_top50_35_ohe',  'ciudad_top50_36_ohe',  'ciudad_top50_37_ohe',\n",
    "  'ciudad_top50_38_ohe',  'ciudad_top50_39_ohe',  'ciudad_top50_40_ohe',  'ciudad_top50_41_ohe',  'ciudad_top50_42_ohe',\n",
    "  'ciudad_top50_43_ohe',  'ciudad_top50_44_ohe',  'ciudad_top50_45_ohe',  'ciudad_top50_46_ohe',  'ciudad_top50_47_ohe',\n",
    "  'ciudad_top50_48_ohe',  'ciudad_top50_49_ohe',  'ciudad_top50_50_ohe',  'ciudad_cara',  'ciudad_barata',\n",
    "  'ciudad_normal'],\n",
    "            'float': ['ciudad_me_m0', 'ciudad_me_m1', 'ciudad_me_m2', 'ciudad_me_m3', 'ciudad_me_m4']}"
   ]
  },
  {
   "cell_type": "markdown",
   "metadata": {},
   "source": [
    "# Generacion de nuevas features"
   ]
  },
  {
   "cell_type": "markdown",
   "metadata": {},
   "source": [
    "### FECHA"
   ]
  },
  {
   "cell_type": "code",
   "execution_count": 22,
   "metadata": {},
   "outputs": [],
   "source": [
    "# Es de gran importancia manejar la fecha para el modelo, ya que en gran parte la fecha tiene informacion\n",
    "# importante sobre la evolucion de los precios.\n",
    "\n",
    "dicc_fecha = {}\n",
    "dicc_fecha_types = {}\n",
    "\n",
    "df_fecha = df[['fecha', 'metroscubiertos', 'precio']].copy()"
   ]
  },
  {
   "cell_type": "code",
   "execution_count": 23,
   "metadata": {},
   "outputs": [],
   "source": [
    "df_fecha['anio'] = df_fecha['fecha'].dt.year\n",
    "df_fecha['mes'] = df_fecha['fecha'].dt.month\n",
    "df_fecha['dia'] = df_fecha['fecha'].dt.day\n",
    "df_fecha['timestamp'] = df_fecha['fecha'].apply(lambda x: datetime.timestamp(x))\n",
    "df_fecha['aniomes'] = df_fecha.apply(lambda row: aniomes(row['anio'], row['mes']), axis=1)"
   ]
  },
  {
   "cell_type": "code",
   "execution_count": 24,
   "metadata": {},
   "outputs": [],
   "source": [
    "# calculamos el precio promedio del metro cubierto por aniomes (OJO, COLUMNA PELIGROSA ==> OVERFITTING)\n",
    "precio_mtcubierto_aniomes = df_fecha.head(filas_train).groupby(['aniomes'])['metroscubiertos', 'precio'].agg(sum).apply(lambda x: x['precio']/x['metroscubiertos'], axis=1)\n",
    "df_fecha['precio_promedio_metrocubierto_aniomes'] = df_fecha['aniomes'].apply(lambda x: precio_mtcubierto_aniomes[x])"
   ]
  },
  {
   "cell_type": "code",
   "execution_count": 25,
   "metadata": {},
   "outputs": [],
   "source": [
    "# calculamos el precio promedio del metro cubierto por mes (OJO, COLUMNA PELIGROSA ==> OVERFITTING)\n",
    "precio_mtcubierto_mes = df_fecha.head(filas_train).groupby(['mes'])['metroscubiertos', 'precio'].agg(sum).apply(lambda x: x['precio']/x['metroscubiertos'], axis=1)\n",
    "df_fecha['precio_promedio_metrocubierto_mes'] = df_fecha['mes'].apply(lambda x: precio_mtcubierto_mes[x])"
   ]
  },
  {
   "cell_type": "code",
   "execution_count": 26,
   "metadata": {},
   "outputs": [],
   "source": [
    "df_fecha = df_fecha.drop(['fecha', 'metroscubiertos'], axis=1)\n",
    "pasar_a_enteros = ['precio_promedio_metrocubierto_mes', 'precio_promedio_metrocubierto_aniomes']\n",
    "df_fecha[pasar_a_enteros] = df_fecha[pasar_a_enteros].astype('uint16')"
   ]
  },
  {
   "cell_type": "code",
   "execution_count": 27,
   "metadata": {
    "scrolled": true
   },
   "outputs": [
    {
     "data": {
      "text/html": [
       "<div>\n",
       "<style scoped>\n",
       "    .dataframe tbody tr th:only-of-type {\n",
       "        vertical-align: middle;\n",
       "    }\n",
       "\n",
       "    .dataframe tbody tr th {\n",
       "        vertical-align: top;\n",
       "    }\n",
       "\n",
       "    .dataframe thead th {\n",
       "        text-align: right;\n",
       "    }\n",
       "</style>\n",
       "<table border=\"1\" class=\"dataframe\">\n",
       "  <thead>\n",
       "    <tr style=\"text-align: right;\">\n",
       "      <th></th>\n",
       "      <th>precio</th>\n",
       "      <th>anio</th>\n",
       "      <th>mes</th>\n",
       "      <th>dia</th>\n",
       "      <th>timestamp</th>\n",
       "      <th>aniomes</th>\n",
       "      <th>precio_promedio_metrocubierto_aniomes</th>\n",
       "      <th>precio_promedio_metrocubierto_mes</th>\n",
       "    </tr>\n",
       "    <tr>\n",
       "      <th>id</th>\n",
       "      <th></th>\n",
       "      <th></th>\n",
       "      <th></th>\n",
       "      <th></th>\n",
       "      <th></th>\n",
       "      <th></th>\n",
       "      <th></th>\n",
       "      <th></th>\n",
       "    </tr>\n",
       "  </thead>\n",
       "  <tbody>\n",
       "    <tr>\n",
       "      <td>254099</td>\n",
       "      <td>2273000.0</td>\n",
       "      <td>2015</td>\n",
       "      <td>8</td>\n",
       "      <td>23</td>\n",
       "      <td>1.440299e+09</td>\n",
       "      <td>201508</td>\n",
       "      <td>16183</td>\n",
       "      <td>15363</td>\n",
       "    </tr>\n",
       "    <tr>\n",
       "      <td>53461</td>\n",
       "      <td>3600000.0</td>\n",
       "      <td>2013</td>\n",
       "      <td>6</td>\n",
       "      <td>28</td>\n",
       "      <td>1.372388e+09</td>\n",
       "      <td>201306</td>\n",
       "      <td>14297</td>\n",
       "      <td>15521</td>\n",
       "    </tr>\n",
       "    <tr>\n",
       "      <td>247984</td>\n",
       "      <td>1200000.0</td>\n",
       "      <td>2015</td>\n",
       "      <td>10</td>\n",
       "      <td>17</td>\n",
       "      <td>1.445051e+09</td>\n",
       "      <td>201510</td>\n",
       "      <td>15996</td>\n",
       "      <td>15547</td>\n",
       "    </tr>\n",
       "    <tr>\n",
       "      <td>209067</td>\n",
       "      <td>650000.0</td>\n",
       "      <td>2012</td>\n",
       "      <td>3</td>\n",
       "      <td>9</td>\n",
       "      <td>1.331262e+09</td>\n",
       "      <td>201203</td>\n",
       "      <td>13039</td>\n",
       "      <td>15423</td>\n",
       "    </tr>\n",
       "    <tr>\n",
       "      <td>185997</td>\n",
       "      <td>1150000.0</td>\n",
       "      <td>2016</td>\n",
       "      <td>6</td>\n",
       "      <td>7</td>\n",
       "      <td>1.465268e+09</td>\n",
       "      <td>201606</td>\n",
       "      <td>16142</td>\n",
       "      <td>15521</td>\n",
       "    </tr>\n",
       "  </tbody>\n",
       "</table>\n",
       "</div>"
      ],
      "text/plain": [
       "           precio  anio  mes  dia     timestamp  aniomes  \\\n",
       "id                                                         \n",
       "254099  2273000.0  2015    8   23  1.440299e+09   201508   \n",
       "53461   3600000.0  2013    6   28  1.372388e+09   201306   \n",
       "247984  1200000.0  2015   10   17  1.445051e+09   201510   \n",
       "209067   650000.0  2012    3    9  1.331262e+09   201203   \n",
       "185997  1150000.0  2016    6    7  1.465268e+09   201606   \n",
       "\n",
       "        precio_promedio_metrocubierto_aniomes  \\\n",
       "id                                              \n",
       "254099                                  16183   \n",
       "53461                                   14297   \n",
       "247984                                  15996   \n",
       "209067                                  13039   \n",
       "185997                                  16142   \n",
       "\n",
       "        precio_promedio_metrocubierto_mes  \n",
       "id                                         \n",
       "254099                              15363  \n",
       "53461                               15521  \n",
       "247984                              15547  \n",
       "209067                              15423  \n",
       "185997                              15521  "
      ]
     },
     "execution_count": 27,
     "metadata": {},
     "output_type": "execute_result"
    }
   ],
   "source": [
    "df_fecha.head()"
   ]
  },
  {
   "cell_type": "code",
   "execution_count": 28,
   "metadata": {},
   "outputs": [],
   "source": [
    "# Ahora, antes de guardar los resultados, vamos a analizar si es conveniente realizar alguna transformacion a\n",
    "# estos datos."
   ]
  },
  {
   "cell_type": "code",
   "execution_count": 29,
   "metadata": {},
   "outputs": [],
   "source": [
    "# Primero hay que notar que los datos de aniomes estan distanciados en la realidad por un mes, y en nuestro\n",
    "# modelo 201211 201212 201301 tiene mucha mas separacion entre diciembre y enero. Para arreglar eso, mapearemos\n",
    "# aniomes a numeros de distancia 1."
   ]
  },
  {
   "cell_type": "code",
   "execution_count": 30,
   "metadata": {},
   "outputs": [],
   "source": [
    "df_fecha['aniomes_equidistanced'] = df_fecha['aniomes'].map(equidistanciar_aniomes)"
   ]
  },
  {
   "cell_type": "code",
   "execution_count": 31,
   "metadata": {},
   "outputs": [],
   "source": [
    "# mapeamos anio a 1 2 3 4 5 6 para evitar tener numeros altos innecesariamente"
   ]
  },
  {
   "cell_type": "code",
   "execution_count": 32,
   "metadata": {},
   "outputs": [],
   "source": [
    "df_fecha['anio_featured'] = df_fecha['anio'].map(map_anio)"
   ]
  },
  {
   "cell_type": "code",
   "execution_count": 33,
   "metadata": {},
   "outputs": [],
   "source": [
    "# ahora vemos que las variables dia y mes son circulares, es decir que luego del 12 viene el 1, en el caso\n",
    "# del mes. Sin embargo, representandolo como esta ahora, el salto de 12 a 1 puede confundir al modelo. Para\n",
    "# evitar esto, aplicaremos una transformacion circular, llevando estos a datos a otra representacion\n",
    "# en la que la distancia entre 12 y 1 sea la misma que entre 1 y 2"
   ]
  },
  {
   "cell_type": "code",
   "execution_count": 34,
   "metadata": {},
   "outputs": [],
   "source": [
    "df_fecha['mes_featured'] = df_fecha['mes'].map(lambda x: circular_variable(x, 12))"
   ]
  },
  {
   "cell_type": "code",
   "execution_count": 35,
   "metadata": {},
   "outputs": [],
   "source": [
    "# Repetimos lo mismo para dia"
   ]
  },
  {
   "cell_type": "code",
   "execution_count": 36,
   "metadata": {},
   "outputs": [],
   "source": [
    "df_fecha['dia_featured'] = df_fecha.apply(lambda x: circular_dias(x['mes'], x['dia']), axis=1)"
   ]
  },
  {
   "cell_type": "code",
   "execution_count": 37,
   "metadata": {},
   "outputs": [
    {
     "data": {
      "text/html": [
       "<div>\n",
       "<style scoped>\n",
       "    .dataframe tbody tr th:only-of-type {\n",
       "        vertical-align: middle;\n",
       "    }\n",
       "\n",
       "    .dataframe tbody tr th {\n",
       "        vertical-align: top;\n",
       "    }\n",
       "\n",
       "    .dataframe thead th {\n",
       "        text-align: right;\n",
       "    }\n",
       "</style>\n",
       "<table border=\"1\" class=\"dataframe\">\n",
       "  <thead>\n",
       "    <tr style=\"text-align: right;\">\n",
       "      <th></th>\n",
       "      <th>precio</th>\n",
       "      <th>anio</th>\n",
       "      <th>mes</th>\n",
       "      <th>dia</th>\n",
       "      <th>timestamp</th>\n",
       "      <th>aniomes</th>\n",
       "      <th>precio_promedio_metrocubierto_aniomes</th>\n",
       "      <th>precio_promedio_metrocubierto_mes</th>\n",
       "      <th>aniomes_equidistanced</th>\n",
       "      <th>anio_featured</th>\n",
       "      <th>mes_featured</th>\n",
       "      <th>dia_featured</th>\n",
       "    </tr>\n",
       "    <tr>\n",
       "      <th>id</th>\n",
       "      <th></th>\n",
       "      <th></th>\n",
       "      <th></th>\n",
       "      <th></th>\n",
       "      <th></th>\n",
       "      <th></th>\n",
       "      <th></th>\n",
       "      <th></th>\n",
       "      <th></th>\n",
       "      <th></th>\n",
       "      <th></th>\n",
       "      <th></th>\n",
       "    </tr>\n",
       "  </thead>\n",
       "  <tbody>\n",
       "    <tr>\n",
       "      <td>254099</td>\n",
       "      <td>2273000.0</td>\n",
       "      <td>2015</td>\n",
       "      <td>8</td>\n",
       "      <td>23</td>\n",
       "      <td>1.440299e+09</td>\n",
       "      <td>201508</td>\n",
       "      <td>16183</td>\n",
       "      <td>15363</td>\n",
       "      <td>44</td>\n",
       "      <td>4</td>\n",
       "      <td>-5.000000e-01</td>\n",
       "      <td>-0.050649</td>\n",
       "    </tr>\n",
       "    <tr>\n",
       "      <td>53461</td>\n",
       "      <td>3600000.0</td>\n",
       "      <td>2013</td>\n",
       "      <td>6</td>\n",
       "      <td>28</td>\n",
       "      <td>1.372388e+09</td>\n",
       "      <td>201306</td>\n",
       "      <td>14297</td>\n",
       "      <td>15521</td>\n",
       "      <td>18</td>\n",
       "      <td>2</td>\n",
       "      <td>-1.000000e+00</td>\n",
       "      <td>0.913545</td>\n",
       "    </tr>\n",
       "    <tr>\n",
       "      <td>247984</td>\n",
       "      <td>1200000.0</td>\n",
       "      <td>2015</td>\n",
       "      <td>10</td>\n",
       "      <td>17</td>\n",
       "      <td>1.445051e+09</td>\n",
       "      <td>201510</td>\n",
       "      <td>15996</td>\n",
       "      <td>15547</td>\n",
       "      <td>46</td>\n",
       "      <td>4</td>\n",
       "      <td>5.000000e-01</td>\n",
       "      <td>-0.954139</td>\n",
       "    </tr>\n",
       "    <tr>\n",
       "      <td>209067</td>\n",
       "      <td>650000.0</td>\n",
       "      <td>2012</td>\n",
       "      <td>3</td>\n",
       "      <td>9</td>\n",
       "      <td>1.331262e+09</td>\n",
       "      <td>201203</td>\n",
       "      <td>13039</td>\n",
       "      <td>15423</td>\n",
       "      <td>3</td>\n",
       "      <td>1</td>\n",
       "      <td>6.123234e-17</td>\n",
       "      <td>-0.250653</td>\n",
       "    </tr>\n",
       "    <tr>\n",
       "      <td>185997</td>\n",
       "      <td>1150000.0</td>\n",
       "      <td>2016</td>\n",
       "      <td>6</td>\n",
       "      <td>7</td>\n",
       "      <td>1.465268e+09</td>\n",
       "      <td>201606</td>\n",
       "      <td>16142</td>\n",
       "      <td>15521</td>\n",
       "      <td>54</td>\n",
       "      <td>5</td>\n",
       "      <td>-1.000000e+00</td>\n",
       "      <td>0.104528</td>\n",
       "    </tr>\n",
       "  </tbody>\n",
       "</table>\n",
       "</div>"
      ],
      "text/plain": [
       "           precio  anio  mes  dia     timestamp  aniomes  \\\n",
       "id                                                         \n",
       "254099  2273000.0  2015    8   23  1.440299e+09   201508   \n",
       "53461   3600000.0  2013    6   28  1.372388e+09   201306   \n",
       "247984  1200000.0  2015   10   17  1.445051e+09   201510   \n",
       "209067   650000.0  2012    3    9  1.331262e+09   201203   \n",
       "185997  1150000.0  2016    6    7  1.465268e+09   201606   \n",
       "\n",
       "        precio_promedio_metrocubierto_aniomes  \\\n",
       "id                                              \n",
       "254099                                  16183   \n",
       "53461                                   14297   \n",
       "247984                                  15996   \n",
       "209067                                  13039   \n",
       "185997                                  16142   \n",
       "\n",
       "        precio_promedio_metrocubierto_mes  aniomes_equidistanced  \\\n",
       "id                                                                 \n",
       "254099                              15363                     44   \n",
       "53461                               15521                     18   \n",
       "247984                              15547                     46   \n",
       "209067                              15423                      3   \n",
       "185997                              15521                     54   \n",
       "\n",
       "        anio_featured  mes_featured  dia_featured  \n",
       "id                                                 \n",
       "254099              4 -5.000000e-01     -0.050649  \n",
       "53461               2 -1.000000e+00      0.913545  \n",
       "247984              4  5.000000e-01     -0.954139  \n",
       "209067              1  6.123234e-17     -0.250653  \n",
       "185997              5 -1.000000e+00      0.104528  "
      ]
     },
     "execution_count": 37,
     "metadata": {},
     "output_type": "execute_result"
    }
   ],
   "source": [
    "df_fecha.head()"
   ]
  },
  {
   "cell_type": "code",
   "execution_count": 38,
   "metadata": {
    "scrolled": true
   },
   "outputs": [
    {
     "data": {
      "image/png": "[encoded data removed]",
      "text/plain": [
       "<Figure size 432x288 with 1 Axes>"
      ]
     },
     "metadata": {
      "needs_background": "light"
     },
     "output_type": "display_data"
    }
   ],
   "source": [
    "df_fecha['timestamp'].hist(bins=50, color='r'); "
   ]
  },
  {
   "cell_type": "code",
   "execution_count": 39,
   "metadata": {},
   "outputs": [],
   "source": [
    "# Vamos a escalar las columnas timestamp, aniomes y aniomes_equidistanced entre 0 y 1"
   ]
  },
  {
   "cell_type": "code",
   "execution_count": 40,
   "metadata": {},
   "outputs": [],
   "source": [
    "tmin = df_fecha['timestamp'].min()\n",
    "df_fecha['timestamp_scaled'] = df_fecha['timestamp'].map(lambda x: x-tmin)\n",
    "tmax = df_fecha['timestamp_scaled'].max()\n",
    "df_fecha['timestamp_scaled'] = df_fecha['timestamp_scaled'].map(lambda x: x/tmax)"
   ]
  },
  {
   "cell_type": "code",
   "execution_count": 41,
   "metadata": {},
   "outputs": [],
   "source": [
    "tmin = df_fecha['aniomes'].min()\n",
    "df_fecha['aniomes_scaled'] = df_fecha['aniomes'].map(lambda x: x-tmin)\n",
    "tmax = df_fecha['aniomes_scaled'].max()\n",
    "df_fecha['aniomes_scaled'] = df_fecha['aniomes_scaled'].map(lambda x: x/tmax)"
   ]
  },
  {
   "cell_type": "code",
   "execution_count": 42,
   "metadata": {},
   "outputs": [],
   "source": [
    "tmin = df_fecha['aniomes_equidistanced'].min()\n",
    "df_fecha['aniomes_equidistanced_scaled'] = df_fecha['aniomes_equidistanced'].map(lambda x: x-tmin)\n",
    "tmax = df_fecha['aniomes_equidistanced_scaled'].max()\n",
    "df_fecha['aniomes_equidistanced_scaled'] = df_fecha['aniomes_equidistanced_scaled'].map(lambda x: x/tmax)"
   ]
  },
  {
   "cell_type": "code",
   "execution_count": 43,
   "metadata": {},
   "outputs": [
    {
     "data": {
      "text/html": [
       "<div>\n",
       "<style scoped>\n",
       "    .dataframe tbody tr th:only-of-type {\n",
       "        vertical-align: middle;\n",
       "    }\n",
       "\n",
       "    .dataframe tbody tr th {\n",
       "        vertical-align: top;\n",
       "    }\n",
       "\n",
       "    .dataframe thead th {\n",
       "        text-align: right;\n",
       "    }\n",
       "</style>\n",
       "<table border=\"1\" class=\"dataframe\">\n",
       "  <thead>\n",
       "    <tr style=\"text-align: right;\">\n",
       "      <th></th>\n",
       "      <th>precio</th>\n",
       "      <th>anio</th>\n",
       "      <th>mes</th>\n",
       "      <th>dia</th>\n",
       "      <th>timestamp</th>\n",
       "      <th>aniomes</th>\n",
       "      <th>precio_promedio_metrocubierto_aniomes</th>\n",
       "      <th>precio_promedio_metrocubierto_mes</th>\n",
       "      <th>aniomes_equidistanced</th>\n",
       "      <th>anio_featured</th>\n",
       "      <th>mes_featured</th>\n",
       "      <th>dia_featured</th>\n",
       "      <th>timestamp_scaled</th>\n",
       "      <th>aniomes_scaled</th>\n",
       "      <th>aniomes_equidistanced_scaled</th>\n",
       "    </tr>\n",
       "    <tr>\n",
       "      <th>id</th>\n",
       "      <th></th>\n",
       "      <th></th>\n",
       "      <th></th>\n",
       "      <th></th>\n",
       "      <th></th>\n",
       "      <th></th>\n",
       "      <th></th>\n",
       "      <th></th>\n",
       "      <th></th>\n",
       "      <th></th>\n",
       "      <th></th>\n",
       "      <th></th>\n",
       "      <th></th>\n",
       "      <th></th>\n",
       "      <th></th>\n",
       "    </tr>\n",
       "  </thead>\n",
       "  <tbody>\n",
       "    <tr>\n",
       "      <td>254099</td>\n",
       "      <td>2273000.0</td>\n",
       "      <td>2015</td>\n",
       "      <td>8</td>\n",
       "      <td>23</td>\n",
       "      <td>1.440299e+09</td>\n",
       "      <td>201508</td>\n",
       "      <td>16183</td>\n",
       "      <td>15363</td>\n",
       "      <td>44</td>\n",
       "      <td>4</td>\n",
       "      <td>-5.000000e-01</td>\n",
       "      <td>-0.050649</td>\n",
       "      <td>0.728368</td>\n",
       "      <td>0.746959</td>\n",
       "      <td>0.728814</td>\n",
       "    </tr>\n",
       "    <tr>\n",
       "      <td>53461</td>\n",
       "      <td>3600000.0</td>\n",
       "      <td>2013</td>\n",
       "      <td>6</td>\n",
       "      <td>28</td>\n",
       "      <td>1.372388e+09</td>\n",
       "      <td>201306</td>\n",
       "      <td>14297</td>\n",
       "      <td>15521</td>\n",
       "      <td>18</td>\n",
       "      <td>2</td>\n",
       "      <td>-1.000000e+00</td>\n",
       "      <td>0.913545</td>\n",
       "      <td>0.297919</td>\n",
       "      <td>0.255474</td>\n",
       "      <td>0.288136</td>\n",
       "    </tr>\n",
       "    <tr>\n",
       "      <td>247984</td>\n",
       "      <td>1200000.0</td>\n",
       "      <td>2015</td>\n",
       "      <td>10</td>\n",
       "      <td>17</td>\n",
       "      <td>1.445051e+09</td>\n",
       "      <td>201510</td>\n",
       "      <td>15996</td>\n",
       "      <td>15547</td>\n",
       "      <td>46</td>\n",
       "      <td>4</td>\n",
       "      <td>5.000000e-01</td>\n",
       "      <td>-0.954139</td>\n",
       "      <td>0.758488</td>\n",
       "      <td>0.751825</td>\n",
       "      <td>0.762712</td>\n",
       "    </tr>\n",
       "    <tr>\n",
       "      <td>209067</td>\n",
       "      <td>650000.0</td>\n",
       "      <td>2012</td>\n",
       "      <td>3</td>\n",
       "      <td>9</td>\n",
       "      <td>1.331262e+09</td>\n",
       "      <td>201203</td>\n",
       "      <td>13039</td>\n",
       "      <td>15423</td>\n",
       "      <td>3</td>\n",
       "      <td>1</td>\n",
       "      <td>6.123234e-17</td>\n",
       "      <td>-0.250653</td>\n",
       "      <td>0.037240</td>\n",
       "      <td>0.004866</td>\n",
       "      <td>0.033898</td>\n",
       "    </tr>\n",
       "    <tr>\n",
       "      <td>185997</td>\n",
       "      <td>1150000.0</td>\n",
       "      <td>2016</td>\n",
       "      <td>6</td>\n",
       "      <td>7</td>\n",
       "      <td>1.465268e+09</td>\n",
       "      <td>201606</td>\n",
       "      <td>16142</td>\n",
       "      <td>15521</td>\n",
       "      <td>54</td>\n",
       "      <td>5</td>\n",
       "      <td>-1.000000e+00</td>\n",
       "      <td>0.104528</td>\n",
       "      <td>0.886637</td>\n",
       "      <td>0.985401</td>\n",
       "      <td>0.898305</td>\n",
       "    </tr>\n",
       "  </tbody>\n",
       "</table>\n",
       "</div>"
      ],
      "text/plain": [
       "           precio  anio  mes  dia     timestamp  aniomes  \\\n",
       "id                                                         \n",
       "254099  2273000.0  2015    8   23  1.440299e+09   201508   \n",
       "53461   3600000.0  2013    6   28  1.372388e+09   201306   \n",
       "247984  1200000.0  2015   10   17  1.445051e+09   201510   \n",
       "209067   650000.0  2012    3    9  1.331262e+09   201203   \n",
       "185997  1150000.0  2016    6    7  1.465268e+09   201606   \n",
       "\n",
       "        precio_promedio_metrocubierto_aniomes  \\\n",
       "id                                              \n",
       "254099                                  16183   \n",
       "53461                                   14297   \n",
       "247984                                  15996   \n",
       "209067                                  13039   \n",
       "185997                                  16142   \n",
       "\n",
       "        precio_promedio_metrocubierto_mes  aniomes_equidistanced  \\\n",
       "id                                                                 \n",
       "254099                              15363                     44   \n",
       "53461                               15521                     18   \n",
       "247984                              15547                     46   \n",
       "209067                              15423                      3   \n",
       "185997                              15521                     54   \n",
       "\n",
       "        anio_featured  mes_featured  dia_featured  timestamp_scaled  \\\n",
       "id                                                                    \n",
       "254099              4 -5.000000e-01     -0.050649          0.728368   \n",
       "53461               2 -1.000000e+00      0.913545          0.297919   \n",
       "247984              4  5.000000e-01     -0.954139          0.758488   \n",
       "209067              1  6.123234e-17     -0.250653          0.037240   \n",
       "185997              5 -1.000000e+00      0.104528          0.886637   \n",
       "\n",
       "        aniomes_scaled  aniomes_equidistanced_scaled  \n",
       "id                                                    \n",
       "254099        0.746959                      0.728814  \n",
       "53461         0.255474                      0.288136  \n",
       "247984        0.751825                      0.762712  \n",
       "209067        0.004866                      0.033898  \n",
       "185997        0.985401                      0.898305  "
      ]
     },
     "execution_count": 43,
     "metadata": {},
     "output_type": "execute_result"
    }
   ],
   "source": [
    "df_fecha.head()"
   ]
  },
  {
   "cell_type": "code",
   "execution_count": 44,
   "metadata": {
    "scrolled": true
   },
   "outputs": [
    {
     "data": {
      "text/plain": [
       "201612    0.119043\n",
       "201606    0.028380\n",
       "201610    0.027963\n",
       "201604    0.027410\n",
       "201608    0.026857\n",
       "Name: aniomes, dtype: float64"
      ]
     },
     "execution_count": 44,
     "metadata": {},
     "output_type": "execute_result"
    }
   ],
   "source": [
    "# vemos que hay muchas publicaciones en dic2016:\n",
    "\n",
    "df_fecha['aniomes'].value_counts(normalize=True)[:5]"
   ]
  },
  {
   "cell_type": "code",
   "execution_count": 45,
   "metadata": {},
   "outputs": [],
   "source": [
    "df_fecha['dic2016'] = df_fecha['aniomes'].map(lambda x: 1 if (x == 201612) else 0)"
   ]
  },
  {
   "cell_type": "code",
   "execution_count": 46,
   "metadata": {
    "scrolled": true
   },
   "outputs": [
    {
     "data": {
      "text/plain": [
       "Index(['precio', 'anio', 'mes', 'dia', 'timestamp', 'aniomes',\n",
       "       'precio_promedio_metrocubierto_aniomes',\n",
       "       'precio_promedio_metrocubierto_mes', 'aniomes_equidistanced',\n",
       "       'anio_featured', 'mes_featured', 'dia_featured', 'timestamp_scaled',\n",
       "       'aniomes_scaled', 'aniomes_equidistanced_scaled', 'dic2016'],\n",
       "      dtype='object')"
      ]
     },
     "execution_count": 46,
     "metadata": {},
     "output_type": "execute_result"
    }
   ],
   "source": [
    "df_fecha.columns"
   ]
  },
  {
   "cell_type": "code",
   "execution_count": 47,
   "metadata": {},
   "outputs": [],
   "source": [
    "dicc_fecha[0] = ['timestamp']\n",
    "dicc_fecha[1] = ['timestamp_scaled']\n",
    "dicc_fecha[2] = ['aniomes']\n",
    "dicc_fecha[3] = ['precio_promedio_metrocubierto_aniomes', 'precio_promedio_metrocubierto_mes']\n",
    "dicc_fecha[4] = ['anio_featured', 'mes_featured', 'dia_featured']\n",
    "dicc_fecha[5] = ['dic2016']\n",
    "dicc_fecha[6] = ['anio', 'mes']\n",
    "\n",
    "dicc_fecha_types['bernoulli'] = ['dic2016']\n",
    "dicc_fecha_types['uint8'] = ['mes', 'dia']\n",
    "dicc_fecha_types['uint16'] = ['anio', 'precio_promedio_metrocubierto_aniomes',\n",
    "                            'precio_promedio_metrocubierto_mes']\n",
    "dicc_fecha_types['uint32'] = ['aniomes']\n",
    "dicc_fecha_types['float'] = ['timestamp', 'timestamp_scaled', 'aniomes_scaled', 'aniomes_equidistanced_scaled',\n",
    "                            'anio_featured', 'mes_featured', 'dia_featured']"
   ]
  },
  {
   "cell_type": "code",
   "execution_count": 48,
   "metadata": {},
   "outputs": [],
   "source": [
    "# target\n",
    "\n",
    "# Agregado de Target Mean Encoding\n",
    "df_fecha['aniomes_me_m0'] = mean_encoding(df_fecha, by='aniomes', on='precio', m=0)\n",
    "df_fecha['aniomes_me_m1'] = mean_encoding(df_fecha, by='aniomes', on='precio', m=2)\n",
    "df_fecha['aniomes_me_m2'] = mean_encoding(df_fecha, by='aniomes', on='precio', m=5)\n",
    "df_fecha['aniomes_me_m3'] = mean_encoding(df_fecha, by='aniomes', on='precio', m=10)\n",
    "df_fecha['aniomes_me_m4'] = mean_encoding(df_fecha, by='aniomes', on='precio', m=100)\n",
    "\n",
    "dicc_fecha[7] = ['aniomes_me_m0']\n",
    "dicc_fecha[8] = ['aniomes_me_m1', 'aniomes_me_m2', 'aniomes_me_m3', 'aniomes_me_m4']\n",
    "dicc_fecha_types['float'] += ['aniomes_me_m0', 'aniomes_me_m1', 'aniomes_me_m2', 'aniomes_me_m3', 'aniomes_me_m4']"
   ]
  },
  {
   "cell_type": "code",
   "execution_count": 49,
   "metadata": {},
   "outputs": [],
   "source": [
    "df_fecha.drop('precio', axis=1, inplace=True)\n",
    "df_fecha.to_csv('features/fecha.csv')"
   ]
  },
  {
   "cell_type": "code",
   "execution_count": 127,
   "metadata": {},
   "outputs": [],
   "source": [
    "def get_dicc_fecha():\n",
    "    return {0: ['timestamp'],\n",
    " 1: ['timestamp_scaled'],\n",
    " 2: ['aniomes'],\n",
    " 3: ['precio_promedio_metrocubierto_aniomes',\n",
    "  'precio_promedio_metrocubierto_mes'],\n",
    " 4: ['anio_featured', 'mes_featured', 'dia_featured'],\n",
    " 5: ['dic2016'],\n",
    " 6: ['anio', 'mes'],\n",
    " 7: ['aniomes_me_m0'],\n",
    " 8: ['aniomes_me_m1', 'aniomes_me_m2', 'aniomes_me_m3', 'aniomes_me_m4']}"
   ]
  },
  {
   "cell_type": "code",
   "execution_count": 52,
   "metadata": {},
   "outputs": [],
   "source": [
    "def get_dicc_fecha_types():\n",
    "    return {'bernoulli': ['dic2016'],\n",
    " 'uint8': ['mes', 'dia'],\n",
    " 'uint16': ['anio',\n",
    "  'precio_promedio_metrocubierto_aniomes',\n",
    "  'precio_promedio_metrocubierto_mes'],\n",
    " 'uint32': ['aniomes'],\n",
    " 'float': ['timestamp',\n",
    "  'timestamp_scaled',\n",
    "  'aniomes_scaled',\n",
    "  'aniomes_equidistanced_scaled',\n",
    "  'anio_featured',\n",
    "  'mes_featured',\n",
    "  'dia_featured',\n",
    "  'aniomes_me_m0',\n",
    "  'aniomes_me_m1',\n",
    "  'aniomes_me_m2',\n",
    "  'aniomes_me_m3',\n",
    "  'aniomes_me_m4']}"
   ]
  },
  {
   "cell_type": "markdown",
   "metadata": {},
   "source": [
    "### DESCRIPCION"
   ]
  },
  {
   "cell_type": "code",
   "execution_count": 129,
   "metadata": {},
   "outputs": [],
   "source": [
    "# La idea es analizar la descripcion en busqueda de data interesante que no este incorporada en el\n",
    "# dataset original. Para esto, procesaremos el texto en busqueda de indicadores.\n",
    "\n",
    "dicc_descripcion = {}\n",
    "dicc_descripcion_types = {}\n",
    "\n",
    "df_descripcion = df[['descripcion', 'titulo']].copy()"
   ]
  },
  {
   "cell_type": "code",
   "execution_count": 130,
   "metadata": {},
   "outputs": [],
   "source": [
    "indicadores = [\"jardin\", \"patio\", \"jardín\"]\n",
    "df_descripcion[\"jardin_des\"] = df_descripcion[\"descripcion\"].map(lambda x: contiene_indicadores(x, indicadores))\n",
    "df_descripcion[\"jardin_tit\"] = df_descripcion[\"titulo\"].map(lambda x: contiene_indicadores(x, indicadores))\n",
    "df_descripcion[\"jardin\"] = df_descripcion.apply(lambda x: ((x['jardin_des']) | (x['jardin_tit'])), axis=1)\n",
    "\n",
    "indicadores = [\"vigilancia\", \"seguridad\"]\n",
    "df_descripcion[\"vigilancia_des\"] = df_descripcion[\"descripcion\"].map(lambda x: contiene_indicadores(x, indicadores))\n",
    "df_descripcion[\"vigilancia_tit\"] = df_descripcion[\"titulo\"].map(lambda x: contiene_indicadores(x, indicadores))\n",
    "df_descripcion[\"vigilancia\"] = df_descripcion.apply(lambda x: ((x['vigilancia_des']) | (x['vigilancia_tit'])), axis=1)\n",
    "\n",
    "indicadores = [\"aire acondicionado\", \"aires acondicionados\"]\n",
    "df_descripcion[\"aire_acondicionado_des\"] = df_descripcion[\"descripcion\"].map(lambda x: contiene_indicadores(x, indicadores))\n",
    "df_descripcion[\"aire_acondicionado_tit\"] = df_descripcion[\"titulo\"].map(lambda x: contiene_indicadores(x, indicadores))\n",
    "df_descripcion[\"aire_acondicionado\"] = df_descripcion.apply(lambda x: ((x['aire_acondicionado_des']) | (x['aire_acondicionado_tit'])), axis=1)\n",
    "\n",
    "indicadores = [\"ventilador\", \"ventiladores\"]\n",
    "df_descripcion[\"ventilador_des\"] = df_descripcion[\"descripcion\"].map(lambda x: contiene_indicadores(x, indicadores))\n",
    "df_descripcion[\"ventilador_tit\"] = df_descripcion[\"titulo\"].map(lambda x: contiene_indicadores(x, indicadores))\n",
    "df_descripcion[\"ventilador\"] = df_descripcion.apply(lambda x: ((x['ventilador_des']) | (x['ventilador_tit'])), axis=1)\n",
    "\n",
    "indicadores = [\"calefaccion\", \"caloventor\", \"estufa\", \"calefacción\", \"calentador\"]\n",
    "df_descripcion[\"calefaccion_des\"] = df_descripcion[\"descripcion\"].map(lambda x: contiene_indicadores(x, indicadores))\n",
    "df_descripcion[\"calefaccion_tit\"] = df_descripcion[\"titulo\"].map(lambda x: contiene_indicadores(x, indicadores))\n",
    "df_descripcion[\"calefaccion\"] = df_descripcion.apply(lambda x: ((x['calefaccion_des']) | (x['calefaccion_tit'])), axis=1)\n",
    "\n",
    "indicadores = [\"parrilla\", \"asador\", \"asado\", \"parrillada\"]\n",
    "df_descripcion[\"parrilla_des\"] = df_descripcion[\"descripcion\"].map(lambda x: contiene_indicadores(x, indicadores))\n",
    "df_descripcion[\"parrilla_tit\"] = df_descripcion[\"titulo\"].map(lambda x: contiene_indicadores(x, indicadores))\n",
    "df_descripcion[\"parrilla\"] = df_descripcion.apply(lambda x: ((x['parrilla_des']) | (x['parrilla_tit'])), axis=1)\n",
    "\n",
    "indicadores = [\"terraza\"]\n",
    "df_descripcion[\"terraza_des\"] = df_descripcion[\"descripcion\"].map(lambda x: contiene_indicadores(x, indicadores))\n",
    "df_descripcion[\"terraza_tit\"] = df_descripcion[\"titulo\"].map(lambda x: contiene_indicadores(x, indicadores))\n",
    "df_descripcion[\"terraza\"] = df_descripcion.apply(lambda x: ((x['terraza_des']) | (x['terraza_tit'])), axis=1)\n",
    "\n",
    "indicadores = [\"jacuzzi\", \"sauna\"]\n",
    "df_descripcion[\"lujo_des\"] = df_descripcion[\"descripcion\"].map(lambda x: contiene_indicadores(x, indicadores))\n",
    "df_descripcion[\"lujo_tit\"] = df_descripcion[\"titulo\"].map(lambda x: contiene_indicadores(x, indicadores))\n",
    "df_descripcion[\"lujo\"] = df_descripcion.apply(lambda x: ((x['lujo_des']) | (x['lujo_tit'])), axis=1)\n",
    "\n",
    "indicadores = [\"cuarto de servicio\", \"salon de servicio\", \"salón de servicio\", \"salon servicio\",\n",
    "              \"salón servicio\", \"cuarto servicio\", \"sala servicio\", \"sala de servicio\"]\n",
    "df_descripcion[\"servicio_des\"] = df_descripcion[\"descripcion\"].map(lambda x: contiene_indicadores(x, indicadores))\n",
    "df_descripcion[\"servicio_tit\"] = df_descripcion[\"titulo\"].map(lambda x: contiene_indicadores(x, indicadores))\n",
    "df_descripcion[\"servicio\"] = df_descripcion.apply(lambda x: ((x['servicio_des']) | (x['servicio_tit'])), axis=1)\n",
    "\n",
    "\n",
    "drop_list = ['jardin_des', 'jardin_tit', 'vigilancia_des', 'vigilancia_tit', 'aire_acondicionado_des',\n",
    "            'aire_acondicionado_tit', 'ventilador_des', 'ventilador_tit', 'calefaccion_des', 'calefaccion_tit',\n",
    "            'parrilla_des', 'parrilla_tit', 'terraza_des', 'terraza_tit', 'lujo_des', 'lujo_tit',\n",
    "            'servicio_des', 'servicio_tit']\n",
    "df_descripcion.drop(drop_list, axis=1, inplace=True)"
   ]
  },
  {
   "cell_type": "code",
   "execution_count": 131,
   "metadata": {
    "scrolled": true
   },
   "outputs": [
    {
     "data": {
      "text/plain": [
       "jardin                128653\n",
       "vigilancia             66033\n",
       "aire_acondicionado      8302\n",
       "ventilador              3503\n",
       "calefaccion            17439\n",
       "parrilla               17634\n",
       "terraza                54148\n",
       "lujo                   12926\n",
       "servicio               50057\n",
       "dtype: int64"
      ]
     },
     "execution_count": 131,
     "metadata": {},
     "output_type": "execute_result"
    }
   ],
   "source": [
    "df_descripcion[['jardin', 'vigilancia', 'aire_acondicionado', 'ventilador', 'calefaccion', 'parrilla', 'terraza', 'lujo', 'servicio']].sum()"
   ]
  },
  {
   "cell_type": "code",
   "execution_count": 132,
   "metadata": {},
   "outputs": [],
   "source": [
    "df_descripcion.drop(['titulo', 'descripcion'], axis=1, inplace=True)"
   ]
  },
  {
   "cell_type": "code",
   "execution_count": 133,
   "metadata": {
    "scrolled": true
   },
   "outputs": [
    {
     "data": {
      "text/plain": [
       "['jardin',\n",
       " 'vigilancia',\n",
       " 'aire_acondicionado',\n",
       " 'ventilador',\n",
       " 'calefaccion',\n",
       " 'parrilla',\n",
       " 'terraza',\n",
       " 'lujo',\n",
       " 'servicio']"
      ]
     },
     "execution_count": 133,
     "metadata": {},
     "output_type": "execute_result"
    }
   ],
   "source": [
    "df_descripcion.columns.to_list()"
   ]
  },
  {
   "cell_type": "code",
   "execution_count": 135,
   "metadata": {},
   "outputs": [],
   "source": [
    "dicc_descripcion[0] = ['jardin']\n",
    "dicc_descripcion[1] = ['vigilancia']\n",
    "dicc_descripcion[2] = ['aire_acondicionado']\n",
    "dicc_descripcion[3] = ['ventilador']\n",
    "dicc_descripcion[4] = ['calefaccion']\n",
    "dicc_descripcion[5] = ['parrilla']\n",
    "dicc_descripcion[6] = ['terraza']\n",
    "dicc_descripcion[7] = ['lujo']\n",
    "dicc_descripcion[8] = ['servicio']\n",
    "\n",
    "\n",
    "dicc_descripcion_types['bernoulli'] = ['jardin',\n",
    " 'vigilancia',\n",
    " 'aire_acondicionado',\n",
    " 'ventilador',\n",
    " 'calefaccion',\n",
    " 'parrilla',\n",
    " 'terraza',\n",
    " 'lujo',\n",
    " 'servicio']"
   ]
  },
  {
   "cell_type": "code",
   "execution_count": 136,
   "metadata": {},
   "outputs": [],
   "source": [
    "# guardamos el csv\n",
    "df_descripcion.to_csv('features/descripcion.csv')"
   ]
  },
  {
   "cell_type": "code",
   "execution_count": 137,
   "metadata": {},
   "outputs": [],
   "source": [
    "def get_dicc_descripcion():\n",
    "    return {0: ['jardin'],\n",
    " 1: ['vigilancia'],\n",
    " 2: ['aire_acondicionado'],\n",
    " 3: ['ventilador'],\n",
    " 4: ['calefaccion'],\n",
    " 5: ['parrilla'],\n",
    " 6: ['terraza'],\n",
    " 7: ['lujo'],\n",
    " 8: ['servicio']}"
   ]
  },
  {
   "cell_type": "code",
   "execution_count": 138,
   "metadata": {},
   "outputs": [],
   "source": [
    "def get_dicc_descripcion_types():\n",
    "    return {'bernoulli': ['jardin',  'vigilancia',  'aire_acondicionado',  'ventilador',  'calefaccion',\n",
    "  'parrilla',  'terraza',  'lujo',  'servicio']}"
   ]
  },
  {
   "cell_type": "markdown",
   "metadata": {},
   "source": [
    "### METRICAS DE LOS FEATURES"
   ]
  },
  {
   "cell_type": "code",
   "execution_count": 139,
   "metadata": {},
   "outputs": [],
   "source": [
    "dicc_metricas = {}\n",
    "dicc_metricas_types = {}\n",
    "\n",
    "df_metricas = df[['metroscubiertos','ciudad', 'tipodepropiedad']].copy().reset_index()"
   ]
  },
  {
   "cell_type": "markdown",
   "metadata": {},
   "source": [
    "##### MEAN Y STD DE SUPERFICIE CUBIERTA POR CIUDAD"
   ]
  },
  {
   "cell_type": "code",
   "execution_count": 140,
   "metadata": {},
   "outputs": [],
   "source": [
    "avg_metroscubiertos = df_metricas.groupby('ciudad').agg({\"metroscubiertos\":[\"mean\",\"std\"]}).reset_index()\n",
    "avg_metroscubiertos.columns = ['ciudad','metroscubiertos_city_mean','metroscubiertos_city_std']\n",
    "df_metricas = pd.merge(df_metricas,avg_metroscubiertos,how='inner',on='ciudad')"
   ]
  },
  {
   "cell_type": "code",
   "execution_count": 141,
   "metadata": {
    "scrolled": true
   },
   "outputs": [],
   "source": [
    "dicc_metricas[0] = ['metroscubiertos_city_mean', 'metroscubiertos_city_std']\n",
    "dicc_metricas_types['float'] = ['metroscubiertos_city_mean', 'metroscubiertos_city_std']"
   ]
  },
  {
   "cell_type": "markdown",
   "metadata": {},
   "source": [
    "##### MEAN Y STD DE SUPERFICIE CUBIERTA POR TIPO DE PROPIEDAD"
   ]
  },
  {
   "cell_type": "code",
   "execution_count": 142,
   "metadata": {},
   "outputs": [],
   "source": [
    "avg_metroscubiertos_tipo = df_metricas.groupby('tipodepropiedad').agg({\"metroscubiertos\":[\"mean\",\"std\"]}).reset_index()\n",
    "avg_metroscubiertos_tipo.columns = ['tipodepropiedad','metroscubiertos_tipo_mean','metroscubiertos_tipo_std']\n",
    "df_metricas = pd.merge(df_metricas,avg_metroscubiertos_tipo,how='inner',on='tipodepropiedad').set_index('id')\n",
    "df_metricas.drop(['metroscubiertos', 'tipodepropiedad', 'ciudad'], axis=1, inplace=True)"
   ]
  },
  {
   "cell_type": "code",
   "execution_count": 143,
   "metadata": {},
   "outputs": [],
   "source": [
    "dicc_metricas[1] = ['metroscubiertos_tipo_mean', 'metroscubiertos_tipo_std']\n",
    "dicc_metricas_types['float'] += ['metroscubiertos_tipo_mean', 'metroscubiertos_tipo_std']"
   ]
  },
  {
   "cell_type": "code",
   "execution_count": 144,
   "metadata": {},
   "outputs": [],
   "source": [
    "# guardamos el csv\n",
    "df_metricas.to_csv('features/metricas.csv')"
   ]
  },
  {
   "cell_type": "code",
   "execution_count": 145,
   "metadata": {},
   "outputs": [],
   "source": [
    "def get_dicc_metricas():\n",
    "    return {0: ['metroscubiertos_city_mean', 'metroscubiertos_city_std'],\n",
    " 1: ['metroscubiertos_tipo_mean', 'metroscubiertos_tipo_std']}"
   ]
  },
  {
   "cell_type": "code",
   "execution_count": 146,
   "metadata": {},
   "outputs": [],
   "source": [
    "def get_dicc_metricas_types():\n",
    "    return {'float': ['metroscubiertos_city_mean',  'metroscubiertos_city_std',  'metroscubiertos_tipo_mean',\n",
    "  'metroscubiertos_tipo_std']}"
   ]
  },
  {
   "cell_type": "markdown",
   "metadata": {},
   "source": [
    "### BINNING (+OHE)"
   ]
  },
  {
   "cell_type": "code",
   "execution_count": 147,
   "metadata": {},
   "outputs": [],
   "source": [
    "# binning para antiguedad\n",
    "dicc_antiguedad = {}\n",
    "dicc_antiguedad_types = {}\n",
    "\n",
    "df_antiguedad = df[['antiguedad', 'precio']].copy()"
   ]
  },
  {
   "cell_type": "code",
   "execution_count": 148,
   "metadata": {
    "scrolled": true
   },
   "outputs": [],
   "source": [
    "# binning general (9 bins)\n",
    "df_antiguedad['antiguedad'].fillna(-1, inplace=True)\n",
    "df_antiguedad['antiguedad'] = df_antiguedad['antiguedad'].astype(int)\n",
    "df_antiguedad['antiguedad_binning'] = df_antiguedad['antiguedad'].map(lambda x: binning_antiguedad_1(x))"
   ]
  },
  {
   "cell_type": "code",
   "execution_count": 149,
   "metadata": {
    "scrolled": true
   },
   "outputs": [],
   "source": [
    "# ohe\n",
    "encoder = ce.OneHotEncoder()\n",
    "encoded = encoder.fit_transform(df_antiguedad['antiguedad_binning']).add_suffix(\"_ohe1\")\n",
    "\n",
    "dicc_antiguedad[0] = encoded.columns.to_list()\n",
    "dicc_antiguedad_types['bernoulli'] =  encoded.columns.to_list()\n",
    "df_antiguedad = df_antiguedad.join(encoded, on='id')"
   ]
  },
  {
   "cell_type": "code",
   "execution_count": 150,
   "metadata": {},
   "outputs": [],
   "source": [
    "# target\n",
    "\n",
    "df_antiguedad['antiguedad_me_m0'] = mean_encoding(df_antiguedad, by='antiguedad_binning', on='precio', m=0)\n",
    "df_antiguedad['antiguedad_me_m1'] = mean_encoding(df_antiguedad, by='antiguedad_binning', on='precio', m=2)\n",
    "df_antiguedad['antiguedad_me_m2'] = mean_encoding(df_antiguedad, by='antiguedad_binning', on='precio', m=5)\n",
    "df_antiguedad['antiguedad_me_m3'] = mean_encoding(df_antiguedad, by='antiguedad_binning', on='precio', m=10)\n",
    "df_antiguedad['antiguedad_me_m4'] = mean_encoding(df_antiguedad, by='antiguedad_binning', on='precio', m=100)\n",
    "\n",
    "dicc_antiguedad[1] = ['antiguedad_me_m0']\n",
    "dicc_antiguedad[2] = ['antiguedad_me_m1', 'antiguedad_me_m2', 'antiguedad_me_m3',\n",
    "                      'antiguedad_me_m4']\n",
    "dicc_antiguedad_types['float'] = ['antiguedad_me_m0', 'antiguedad_me_m1', 'antiguedad_me_m2', 'antiguedad_me_m3',\n",
    "                      'antiguedad_me_m4']"
   ]
  },
  {
   "cell_type": "code",
   "execution_count": 151,
   "metadata": {},
   "outputs": [],
   "source": [
    "# binning especifico (4 bins)\n",
    "df_antiguedad['antiguedad_binning_2'] = df_antiguedad['antiguedad'].map(lambda x: binning_antiguedad_2(x))"
   ]
  },
  {
   "cell_type": "code",
   "execution_count": 152,
   "metadata": {},
   "outputs": [],
   "source": [
    "# ohe\n",
    "encoder = ce.OneHotEncoder()\n",
    "encoded = encoder.fit_transform(df_antiguedad['antiguedad_binning_2']).add_suffix(\"_ohe2\")\n",
    "\n",
    "dicc_antiguedad[3] = encoded.columns.to_list()\n",
    "dicc_antiguedad_types['bernoulli'] += encoded.columns.to_list()\n",
    "df_antiguedad = df_antiguedad.join(encoded, on='id')"
   ]
  },
  {
   "cell_type": "code",
   "execution_count": 153,
   "metadata": {},
   "outputs": [],
   "source": [
    "# target\n",
    "\n",
    "df_antiguedad['antiguedad2_me_m0'] = mean_encoding(df_antiguedad, by='antiguedad_binning_2', on='precio', m=0)\n",
    "df_antiguedad['antiguedad2_me_m1'] = mean_encoding(df_antiguedad, by='antiguedad_binning_2', on='precio', m=2)\n",
    "df_antiguedad['antiguedad2_me_m2'] = mean_encoding(df_antiguedad, by='antiguedad_binning_2', on='precio', m=5)\n",
    "df_antiguedad['antiguedad2_me_m3'] = mean_encoding(df_antiguedad, by='antiguedad_binning_2', on='precio', m=10)\n",
    "df_antiguedad['antiguedad2_me_m4'] = mean_encoding(df_antiguedad, by='antiguedad_binning_2', on='precio', m=100)\n",
    "\n",
    "dicc_antiguedad[4] = ['antiguedad2_me_m0']\n",
    "dicc_antiguedad[5] = ['antiguedad2_me_m1', 'antiguedad2_me_m2', 'antiguedad2_me_m3', 'antiguedad2_me_m4']\n",
    "dicc_antiguedad_types['float'] = ['antiguedad2_me_m0', 'antiguedad2_me_m1', 'antiguedad2_me_m2', 'antiguedad2_me_m3',\n",
    "                      'antiguedad2_me_m4']"
   ]
  },
  {
   "cell_type": "code",
   "execution_count": 154,
   "metadata": {},
   "outputs": [],
   "source": [
    "df_antiguedad.drop(['antiguedad', 'antiguedad_binning', 'antiguedad_binning_2', 'precio'], axis=1, inplace=True)\n",
    "# guardamos el csv\n",
    "df_antiguedad.to_csv('features/antiguedad.csv')"
   ]
  },
  {
   "cell_type": "code",
   "execution_count": 155,
   "metadata": {},
   "outputs": [],
   "source": [
    "def get_dicc_antiguedad():\n",
    "    return {0: ['antiguedad_binning_1_ohe1',  'antiguedad_binning_2_ohe1',  'antiguedad_binning_3_ohe1',  'antiguedad_binning_4_ohe1',\n",
    "  'antiguedad_binning_5_ohe1',  'antiguedad_binning_6_ohe1',  'antiguedad_binning_7_ohe1',  'antiguedad_binning_8_ohe1',\n",
    "  'antiguedad_binning_9_ohe1'],\n",
    " 1: ['antiguedad_me_m0'],\n",
    " 2: ['antiguedad_me_m1',  'antiguedad_me_m2',  'antiguedad_me_m3',  'antiguedad_me_m4'],\n",
    " 3: ['antiguedad_binning_2_1_ohe2',  'antiguedad_binning_2_2_ohe2',  'antiguedad_binning_2_3_ohe2',  'antiguedad_binning_2_4_ohe2'],\n",
    " 4: ['antiguedad2_me_m0'],\n",
    " 5: ['antiguedad2_me_m1',  'antiguedad2_me_m2',  'antiguedad2_me_m3',  'antiguedad2_me_m4']}"
   ]
  },
  {
   "cell_type": "code",
   "execution_count": 156,
   "metadata": {},
   "outputs": [],
   "source": [
    "def get_dicc_antiguedad_types():\n",
    "    return {'bernoulli': ['antiguedad_binning_1_ohe1',  'antiguedad_binning_2_ohe1',  'antiguedad_binning_3_ohe1',\n",
    "  'antiguedad_binning_4_ohe1',  'antiguedad_binning_5_ohe1',  'antiguedad_binning_6_ohe1',  'antiguedad_binning_7_ohe1',\n",
    "  'antiguedad_binning_8_ohe1',  'antiguedad_binning_9_ohe1',  'antiguedad_binning_2_1_ohe2',  'antiguedad_binning_2_2_ohe2',\n",
    "  'antiguedad_binning_2_3_ohe2',  'antiguedad_binning_2_4_ohe2'],\n",
    "            'float': ['antiguedad2_me_m0',\n",
    "  'antiguedad2_me_m1',  'antiguedad2_me_m2',  'antiguedad2_me_m3',  'antiguedad2_me_m4']}"
   ]
  },
  {
   "cell_type": "code",
   "execution_count": 157,
   "metadata": {
    "scrolled": true
   },
   "outputs": [],
   "source": [
    "# binning para habitaciones\n",
    "dicc_habitaciones = {}\n",
    "dicc_habitaciones_types = {}\n",
    "\n",
    "df_habitaciones = df[['habitaciones', 'precio']].copy()"
   ]
  },
  {
   "cell_type": "code",
   "execution_count": 158,
   "metadata": {},
   "outputs": [],
   "source": [
    "df_habitaciones['habitaciones'].fillna(-1, inplace=True)\n",
    "df_habitaciones['habitaciones'] = df_habitaciones['habitaciones'].astype(int)\n",
    "df_habitaciones['hab_binning'] = df_habitaciones['habitaciones'].map(lambda x: binning_habitaciones(x))"
   ]
  },
  {
   "cell_type": "code",
   "execution_count": 159,
   "metadata": {},
   "outputs": [],
   "source": [
    "# ohe\n",
    "encoder = ce.OneHotEncoder()\n",
    "encoded = encoder.fit_transform(df_habitaciones['hab_binning']).add_suffix(\"_ohe\")\n",
    "\n",
    "dicc_habitaciones[0] = encoded.columns.to_list()\n",
    "dicc_habitaciones_types['bernoulli'] = encoded.columns.to_list()\n",
    "df_habitaciones = df_habitaciones.join(encoded, on='id')"
   ]
  },
  {
   "cell_type": "code",
   "execution_count": 160,
   "metadata": {},
   "outputs": [],
   "source": [
    "# target\n",
    "\n",
    "df_habitaciones['hab_binning_me_m0'] = mean_encoding(df_habitaciones, by='hab_binning', on='precio', m=0)\n",
    "df_habitaciones['hab_binning_me_m1'] = mean_encoding(df_habitaciones, by='hab_binning', on='precio', m=2)\n",
    "df_habitaciones['hab_binning_me_m2'] = mean_encoding(df_habitaciones, by='hab_binning', on='precio', m=5)\n",
    "df_habitaciones['hab_binning_me_m3'] = mean_encoding(df_habitaciones, by='hab_binning', on='precio', m=10)\n",
    "df_habitaciones['hab_binning_me_m4'] = mean_encoding(df_habitaciones, by='hab_binning', on='precio', m=100)\n",
    "\n",
    "dicc_habitaciones[1] = ['hab_binning_me_m0']\n",
    "dicc_habitaciones[2] = ['hab_binning_me_m1', 'hab_binning_me_m2', 'hab_binning_me_m3',\n",
    "                      'hab_binning_me_m4']\n",
    "dicc_habitaciones_types['float'] = ['hab_binning_me_m0', 'hab_binning_me_m1', 'hab_binning_me_m2', 'hab_binning_me_m3',\n",
    "                      'hab_binning_me_m4']"
   ]
  },
  {
   "cell_type": "code",
   "execution_count": 161,
   "metadata": {},
   "outputs": [],
   "source": [
    "df_habitaciones.drop(['precio', 'habitaciones', 'hab_binning'], inplace=True, axis=1)\n",
    "df_habitaciones.to_csv('features/habitaciones.csv')"
   ]
  },
  {
   "cell_type": "code",
   "execution_count": 162,
   "metadata": {},
   "outputs": [],
   "source": [
    "def get_dicc_habitaciones():\n",
    "    return {0: ['hab_binning_1_ohe',  'hab_binning_2_ohe',  'hab_binning_3_ohe',  'hab_binning_4_ohe',\n",
    "  'hab_binning_5_ohe',  'hab_binning_6_ohe',  'hab_binning_7_ohe'],\n",
    " 1: ['hab_binning_me_m0'],\n",
    " 2: ['hab_binning_me_m1',  'hab_binning_me_m2',  'hab_binning_me_m3',  'hab_binning_me_m4']}"
   ]
  },
  {
   "cell_type": "code",
   "execution_count": 163,
   "metadata": {},
   "outputs": [],
   "source": [
    "def get_dicc_habitaciones_types():\n",
    "    return {'bernoulli': ['hab_binning_1_ohe',  'hab_binning_2_ohe',  'hab_binning_3_ohe',  'hab_binning_4_ohe',  'hab_binning_5_ohe',  'hab_binning_6_ohe',  'hab_binning_7_ohe'],\n",
    " 'float': ['hab_binning_me_m0',  'hab_binning_me_m1',  'hab_binning_me_m2',  'hab_binning_me_m3',  'hab_binning_me_m4']}"
   ]
  },
  {
   "cell_type": "markdown",
   "metadata": {},
   "source": [
    "### COTIZACION DEL USD"
   ]
  },
  {
   "cell_type": "code",
   "execution_count": 164,
   "metadata": {},
   "outputs": [],
   "source": [
    "# Quizas resulte de interes conocer la cotizacion del dolar en pesos mexicanos, ya que el dolar se toma \n",
    "# como moneda de referencia en el mercado inmobiliario en gran parte de America.\n",
    "\n",
    "# Para eso, se utilizo un dataset de https://es.investing.com/currencies/usd-mxn-historical-data\n",
    "\n",
    "dicc_extras = {}\n",
    "dicc_extras_types = {}\n",
    "\n",
    "df_extras = df_fecha[['aniomes']].copy().reset_index()"
   ]
  },
  {
   "cell_type": "code",
   "execution_count": 165,
   "metadata": {},
   "outputs": [],
   "source": [
    "# Cargamos el dataset preprocesado en pre_processing.\n",
    "usd = pd.read_csv('data/usd_mxn_featured.csv', index_col=['aniomes'])"
   ]
  },
  {
   "cell_type": "code",
   "execution_count": 166,
   "metadata": {},
   "outputs": [],
   "source": [
    "usd['usd_var_mesanterior'] = usd['usd_varianza'].shift(1).fillna(0)\n",
    "usd['usd_daily_mean_mesanterior'] = usd['daily_mean'].shift(1).fillna(0)"
   ]
  },
  {
   "cell_type": "code",
   "execution_count": 167,
   "metadata": {
    "scrolled": true
   },
   "outputs": [],
   "source": [
    "df_extras = pd.merge(df_extras, usd, on='aniomes', how='left').drop('aniomes', axis=1).set_index('id')"
   ]
  },
  {
   "cell_type": "code",
   "execution_count": 168,
   "metadata": {},
   "outputs": [],
   "source": [
    "df_extras['usd_subio'] = df_extras.apply(lambda x: 1 if (x['usd_daily_mean_mesanterior']<x['daily_mean']) else 0, axis=1)"
   ]
  },
  {
   "cell_type": "code",
   "execution_count": 169,
   "metadata": {},
   "outputs": [],
   "source": [
    "df_extras.drop('usd_daily_mean_mesanterior', inplace=True, axis=1)"
   ]
  },
  {
   "cell_type": "code",
   "execution_count": 170,
   "metadata": {},
   "outputs": [
    {
     "data": {
      "text/html": [
       "<div>\n",
       "<style scoped>\n",
       "    .dataframe tbody tr th:only-of-type {\n",
       "        vertical-align: middle;\n",
       "    }\n",
       "\n",
       "    .dataframe tbody tr th {\n",
       "        vertical-align: top;\n",
       "    }\n",
       "\n",
       "    .dataframe thead th {\n",
       "        text-align: right;\n",
       "    }\n",
       "</style>\n",
       "<table border=\"1\" class=\"dataframe\">\n",
       "  <thead>\n",
       "    <tr style=\"text-align: right;\">\n",
       "      <th></th>\n",
       "      <th>usd_varianza</th>\n",
       "      <th>daily_mean</th>\n",
       "      <th>usd_var_mesanterior</th>\n",
       "      <th>usd_subio</th>\n",
       "    </tr>\n",
       "    <tr>\n",
       "      <th>id</th>\n",
       "      <th></th>\n",
       "      <th></th>\n",
       "      <th></th>\n",
       "      <th></th>\n",
       "    </tr>\n",
       "  </thead>\n",
       "  <tbody>\n",
       "    <tr>\n",
       "      <td>254099</td>\n",
       "      <td>3.96</td>\n",
       "      <td>16.551050</td>\n",
       "      <td>2.37</td>\n",
       "      <td>1</td>\n",
       "    </tr>\n",
       "    <tr>\n",
       "      <td>53461</td>\n",
       "      <td>1.16</td>\n",
       "      <td>12.955530</td>\n",
       "      <td>5.46</td>\n",
       "      <td>1</td>\n",
       "    </tr>\n",
       "    <tr>\n",
       "      <td>247984</td>\n",
       "      <td>-2.48</td>\n",
       "      <td>16.586802</td>\n",
       "      <td>1.08</td>\n",
       "      <td>0</td>\n",
       "    </tr>\n",
       "    <tr>\n",
       "      <td>209067</td>\n",
       "      <td>-0.27</td>\n",
       "      <td>12.734559</td>\n",
       "      <td>-1.50</td>\n",
       "      <td>0</td>\n",
       "    </tr>\n",
       "    <tr>\n",
       "      <td>185997</td>\n",
       "      <td>-0.82</td>\n",
       "      <td>18.640750</td>\n",
       "      <td>7.34</td>\n",
       "      <td>1</td>\n",
       "    </tr>\n",
       "  </tbody>\n",
       "</table>\n",
       "</div>"
      ],
      "text/plain": [
       "        usd_varianza  daily_mean  usd_var_mesanterior  usd_subio\n",
       "id                                                              \n",
       "254099          3.96   16.551050                 2.37          1\n",
       "53461           1.16   12.955530                 5.46          1\n",
       "247984         -2.48   16.586802                 1.08          0\n",
       "209067         -0.27   12.734559                -1.50          0\n",
       "185997         -0.82   18.640750                 7.34          1"
      ]
     },
     "execution_count": 170,
     "metadata": {},
     "output_type": "execute_result"
    }
   ],
   "source": [
    "df_extras.head()"
   ]
  },
  {
   "cell_type": "code",
   "execution_count": 171,
   "metadata": {},
   "outputs": [],
   "source": [
    "df_extras.columns = ['usd_variacion', 'usd_precio_promedio_mensual', 'usd_variacion_mes_anterior', 'usd_subio']"
   ]
  },
  {
   "cell_type": "code",
   "execution_count": 172,
   "metadata": {},
   "outputs": [
    {
     "data": {
      "text/plain": [
       "['usd_variacion',\n",
       " 'usd_precio_promedio_mensual',\n",
       " 'usd_variacion_mes_anterior',\n",
       " 'usd_subio']"
      ]
     },
     "execution_count": 172,
     "metadata": {},
     "output_type": "execute_result"
    }
   ],
   "source": [
    "df_extras.columns.to_list()"
   ]
  },
  {
   "cell_type": "code",
   "execution_count": 173,
   "metadata": {},
   "outputs": [],
   "source": [
    "dicc_extras[0] = ['usd_variacion']\n",
    "dicc_extras[1] = ['usd_precio_promedio_mensual']\n",
    "dicc_extras[2] = ['usd_variacion_mes_anterior']\n",
    "dicc_extras[3] = ['usd_subio']\n",
    "\n",
    "dicc_extras_types['float'] = ['usd_variacion', 'usd_precio_promedio_mensual', 'usd_variacion_mes_anterior']\n",
    "dicc_extras_types['bernoulli'] = ['usd_subio']"
   ]
  },
  {
   "cell_type": "code",
   "execution_count": 174,
   "metadata": {},
   "outputs": [],
   "source": [
    "df_extras.to_csv('features/extras.csv')"
   ]
  },
  {
   "cell_type": "code",
   "execution_count": 175,
   "metadata": {},
   "outputs": [],
   "source": [
    "def get_dicc_extras():\n",
    "    return {0: ['usd_variacion'],\n",
    " 1: ['usd_precio_promedio_mensual'],\n",
    " 2: ['usd_variacion_mes_anterior'],\n",
    " 3: ['usd_subio']}"
   ]
  },
  {
   "cell_type": "code",
   "execution_count": 176,
   "metadata": {},
   "outputs": [],
   "source": [
    "def get_dicc_extras_types():\n",
    "    return {'float': ['usd_variacion',\n",
    "  'usd_precio_promedio_mensual',\n",
    "  'usd_variacion_mes_anterior'],\n",
    " 'bernoulli': ['usd_subio']}"
   ]
  },
  {
   "cell_type": "markdown",
   "metadata": {},
   "source": [
    "### VOLCANES CERCANOS"
   ]
  },
  {
   "cell_type": "code",
   "execution_count": 177,
   "metadata": {},
   "outputs": [],
   "source": [
    "dicc_volcanes = {}\n",
    "dicc_volcanes_types = {}\n",
    "\n",
    "df_volcanes = df[['lat', 'lng']].copy()"
   ]
  },
  {
   "cell_type": "code",
   "execution_count": 178,
   "metadata": {},
   "outputs": [],
   "source": [
    "from haversine import haversine\n",
    "volcanes = pd.read_csv('data/volcanes_featured.csv')"
   ]
  },
  {
   "cell_type": "code",
   "execution_count": 179,
   "metadata": {},
   "outputs": [],
   "source": [
    "volcanes['punto'] = volcanes.apply(lambda x: (x['lat'], x['long']), axis=1)\n",
    "volcanes = volcanes['punto'].to_list()"
   ]
  },
  {
   "cell_type": "code",
   "execution_count": 180,
   "metadata": {
    "scrolled": true
   },
   "outputs": [],
   "source": [
    "df_volcanes['lat'].fillna(9999, inplace=True)\n",
    "df_volcanes['lng'].fillna(9999, inplace=True)"
   ]
  },
  {
   "cell_type": "code",
   "execution_count": 181,
   "metadata": {},
   "outputs": [],
   "source": [
    "df_volcanes['ubicacion'] = df_volcanes.apply(lambda x: (x['lat'], x['lng']) if ((x['lat'] != 9999) & (x['lng'] != 9999)) else 9999, axis=1)"
   ]
  },
  {
   "cell_type": "code",
   "execution_count": 182,
   "metadata": {},
   "outputs": [],
   "source": [
    "df_volcanes['volcan_cerca'] = df_volcanes['ubicacion'].map(lambda x: posee_volcan_cerca(x, 20))\n",
    "df_volcanes['volcanes_cerca'] = df_volcanes['ubicacion'].map(lambda x: cantidad_volcanes_cerca(x, 20))"
   ]
  },
  {
   "cell_type": "code",
   "execution_count": 183,
   "metadata": {},
   "outputs": [],
   "source": [
    "df_volcanes.drop(['lat', 'lng', 'ubicacion'], inplace=True, axis=1)"
   ]
  },
  {
   "cell_type": "code",
   "execution_count": 184,
   "metadata": {},
   "outputs": [],
   "source": [
    "dicc_volcanes[0] = ['volcan_cerca']\n",
    "dicc_volcanes[1] = ['volcanes_cerca']\n",
    "\n",
    "dicc_volcanes_types['float'] = df_volcanes.columns.to_list()"
   ]
  },
  {
   "cell_type": "code",
   "execution_count": 185,
   "metadata": {},
   "outputs": [],
   "source": [
    "df_volcanes.to_csv('features/volcanes.csv')"
   ]
  },
  {
   "cell_type": "code",
   "execution_count": 186,
   "metadata": {},
   "outputs": [],
   "source": [
    "def get_dicc_volcanes():\n",
    "    return {0: ['volcan_cerca'], 1: ['volcanes_cerca']}"
   ]
  },
  {
   "cell_type": "code",
   "execution_count": 187,
   "metadata": {},
   "outputs": [],
   "source": [
    "def get_dicc_volcanes_types():\n",
    "    return {'float': ['volcan_cerca', 'volcanes_cerca']}"
   ]
  },
  {
   "cell_type": "markdown",
   "metadata": {},
   "source": [
    "## Encoding para IDZONA"
   ]
  },
  {
   "cell_type": "code",
   "execution_count": 188,
   "metadata": {},
   "outputs": [],
   "source": [
    "dicc_idzona = {}\n",
    "dicc_idzona_types = {}\n",
    "\n",
    "df_idzona = df[['idzona', 'precio']].copy()"
   ]
  },
  {
   "cell_type": "code",
   "execution_count": 189,
   "metadata": {},
   "outputs": [],
   "source": [
    "# smoothing\n",
    "\n",
    "df_idzona['idzona_meanencoding_m0'] = mean_encoding(df_idzona, by='idzona', on='precio', m=0)\n",
    "df_idzona['idzona_meanencoding_m1'] = mean_encoding(df_idzona, by='idzona', on='precio', m=2)\n",
    "df_idzona['idzona_meanencoding_m2'] = mean_encoding(df_idzona, by='idzona', on='precio', m=4)\n",
    "df_idzona['idzona_meanencoding_m3'] = mean_encoding(df_idzona, by='idzona', on='precio', m=6)\n",
    "df_idzona['idzona_meanencoding_m4'] = mean_encoding(df_idzona, by='idzona', on='precio', m=8)\n",
    "\n",
    "dicc_idzona[0] = ['idzona_meanencoding_m0']\n",
    "dicc_idzona[1] = ['idzona_meanencoding_m1']\n",
    "dicc_idzona[2] = ['idzona_meanencoding_m2']\n",
    "dicc_idzona[3] = ['idzona_meanencoding_m3']\n",
    "dicc_idzona[4] = ['idzona_meanencoding_m4']\n",
    "\n",
    "dicc_idzona_types['float'] = ['idzona_meanencoding_m0', 'idzona_meanencoding_m1', 'idzona_meanencoding_m2', \n",
    "                             'idzona_meanencoding_m3', 'idzona_meanencoding_m4']"
   ]
  },
  {
   "cell_type": "code",
   "execution_count": 190,
   "metadata": {},
   "outputs": [],
   "source": [
    "# cross validation loops\n",
    "# PROBAR"
   ]
  },
  {
   "cell_type": "code",
   "execution_count": 191,
   "metadata": {},
   "outputs": [],
   "source": [
    "df_idzona.drop(['idzona', 'precio'], axis=1, inplace=True)\n",
    "df_idzona.to_csv('features/idzona.csv')"
   ]
  },
  {
   "cell_type": "code",
   "execution_count": 192,
   "metadata": {
    "scrolled": true
   },
   "outputs": [
    {
     "data": {
      "text/plain": [
       "{0: ['idzona_meanencoding_m0'],\n",
       " 1: ['idzona_meanencoding_m1'],\n",
       " 2: ['idzona_meanencoding_m2'],\n",
       " 3: ['idzona_meanencoding_m3'],\n",
       " 4: ['idzona_meanencoding_m4']}"
      ]
     },
     "execution_count": 192,
     "metadata": {},
     "output_type": "execute_result"
    }
   ],
   "source": [
    "dicc_idzona"
   ]
  },
  {
   "cell_type": "code",
   "execution_count": 193,
   "metadata": {},
   "outputs": [],
   "source": [
    "def get_dicc_idzona():\n",
    "    return {0: ['idzona_meanencoding_m0'],\n",
    " 1: ['idzona_meanencoding_m1'],\n",
    " 2: ['idzona_meanencoding_m2'],\n",
    " 3: ['idzona_meanencoding_m3'],\n",
    " 4: ['idzona_meanencoding_m4']}"
   ]
  },
  {
   "cell_type": "code",
   "execution_count": 194,
   "metadata": {},
   "outputs": [],
   "source": [
    "def get_dicc_idzona_types():\n",
    "    return {'float': ['idzona_meanencoding_m0',\n",
    "  'idzona_meanencoding_m1',\n",
    "  'idzona_meanencoding_m2',\n",
    "  'idzona_meanencoding_m3',\n",
    "  'idzona_meanencoding_m4']}"
   ]
  },
  {
   "cell_type": "markdown",
   "metadata": {},
   "source": [
    "# Precio promedio del m^2 por ciudad"
   ]
  },
  {
   "cell_type": "code",
   "execution_count": 52,
   "metadata": {},
   "outputs": [],
   "source": [
    "df_metros_precio = df[['ciudad','metroscubiertos','precio']].copy().reset_index()"
   ]
  },
  {
   "cell_type": "code",
   "execution_count": 53,
   "metadata": {},
   "outputs": [],
   "source": [
    "precios_y_metros = df_metros_precio.groupby('ciudad').agg({\"metroscubiertos\":\"mean\",\"precio\":\"mean\"}).reset_index()"
   ]
  },
  {
   "cell_type": "code",
   "execution_count": 54,
   "metadata": {},
   "outputs": [],
   "source": [
    "precios_y_metros['mean_city_sqrm_price'] = precios_y_metros['precio'] / precios_y_metros['metroscubiertos']"
   ]
  },
  {
   "cell_type": "code",
   "execution_count": 55,
   "metadata": {},
   "outputs": [],
   "source": [
    "precios_y_metros.drop(['metroscubiertos','precio'],axis=1,inplace=True)"
   ]
  },
  {
   "cell_type": "code",
   "execution_count": 56,
   "metadata": {},
   "outputs": [],
   "source": [
    "df_metros_precio = pd.merge(df_metros_precio,precios_y_metros,on='ciudad',how='left')"
   ]
  },
  {
   "cell_type": "code",
   "execution_count": 59,
   "metadata": {},
   "outputs": [],
   "source": [
    "df_metros_precio.set_index('id',inplace=True)"
   ]
  },
  {
   "cell_type": "code",
   "execution_count": 62,
   "metadata": {},
   "outputs": [],
   "source": [
    "df_metros_precio.drop(['metroscubiertos','ciudad','precio'],axis=1,inplace=True)"
   ]
  },
  {
   "cell_type": "code",
   "execution_count": 64,
   "metadata": {},
   "outputs": [],
   "source": [
    "dicc_metrocuadrado = {}\n",
    "dicc_metrocuadrado_types = {}"
   ]
  },
  {
   "cell_type": "code",
   "execution_count": 65,
   "metadata": {},
   "outputs": [],
   "source": [
    "dicc_metrocuadrado[0] = ['mean_city_sqrm_price']\n",
    "dicc_metrocuadrado_types['float'] = ['mean_city_sqrm_price']"
   ]
  },
  {
   "cell_type": "code",
   "execution_count": 67,
   "metadata": {},
   "outputs": [],
   "source": [
    "df_metros_precio.to_csv('features/metrocuadrado.csv')"
   ]
  },
  {
   "cell_type": "code",
   "execution_count": 66,
   "metadata": {},
   "outputs": [],
   "source": [
    "def get_dicc_metrocuadrado():\n",
    "    return {0:['mean_city_sqrm_price']}\n",
    "def get_dicc_metrocuadrado_types():\n",
    "    return {'float':['mean_city_sqrm_price']}"
   ]
  },
  {
   "cell_type": "markdown",
   "metadata": {},
   "source": [
    "# Clasificando"
   ]
  },
  {
   "cell_type": "code",
   "execution_count": 21,
   "metadata": {},
   "outputs": [],
   "source": [
    "dicc_class = {}\n",
    "dicc_class_types = {}\n",
    "\n",
    "train,test = pre_processing.load_featured_datasets(class_feature=False)"
   ]
  },
  {
   "cell_type": "code",
   "execution_count": 22,
   "metadata": {},
   "outputs": [],
   "source": [
    "train = feature_selection.get_selected_dataframe(train)\n",
    "test = feature_selection.get_selected_dataframe(test, precio=False)"
   ]
  },
  {
   "cell_type": "code",
   "execution_count": 23,
   "metadata": {},
   "outputs": [],
   "source": [
    "mean = train['precio'].mean()\n",
    "std = train['precio'].std()"
   ]
  },
  {
   "cell_type": "code",
   "execution_count": 24,
   "metadata": {},
   "outputs": [],
   "source": [
    "train['precio_alto'] = train['precio'].map(lambda x: 1 if (x> mean+std) else 0)"
   ]
  },
  {
   "cell_type": "code",
   "execution_count": 25,
   "metadata": {},
   "outputs": [],
   "source": [
    "train['precio_bajo'] = train['precio'].map(lambda x: 1 if (x< mean-std) else 0)"
   ]
  },
  {
   "cell_type": "code",
   "execution_count": 26,
   "metadata": {},
   "outputs": [],
   "source": [
    "train_2 = train.drop(['precio', 'precio_bajo'], axis=1).copy()"
   ]
  },
  {
   "cell_type": "code",
   "execution_count": 27,
   "metadata": {},
   "outputs": [],
   "source": [
    "# Para llenar la fila en test, usamos lgb."
   ]
  },
  {
   "cell_type": "code",
   "execution_count": 28,
   "metadata": {},
   "outputs": [],
   "source": [
    "from sklearn.model_selection import train_test_split\n",
    "import lightgbm as lgb\n",
    "seed = 42\n",
    "\n",
    "params = {'objective': 'binary',\n",
    "            'metric':'auc',\n",
    "            'max_bin': 5,\n",
    "            'num_leaves': 5,\n",
    "            'max_depth': 2,\n",
    "            'min_data_in_leaf': 10000,\n",
    "            'min_split_gain': 0.1,\n",
    "            'min_child_weight': 5.00001,\n",
    "            'learning_rate': 0.05,\n",
    "            'lambda_l2': 0.5,\n",
    "            'feature_fraction': 0.25,\n",
    "            'bagging_fraction': 0.25,\n",
    "            'bagging_freq': 5,\n",
    "            'is_unbalance': True,\n",
    "            'boost_from_average': False}\n",
    "\n",
    "n_estimators = 1000\n",
    "stopping = 50"
   ]
  },
  {
   "cell_type": "code",
   "execution_count": 29,
   "metadata": {},
   "outputs": [],
   "source": [
    "X = train_2.drop('precio_alto', axis=1)\n",
    "Y = train_2['precio_alto']\n",
    "\n",
    "X_train, X_val, Y_train, Y_val = train_test_split(X, Y, test_size=0.2, random_state=seed)"
   ]
  },
  {
   "cell_type": "code",
   "execution_count": 30,
   "metadata": {},
   "outputs": [
    {
     "name": "stdout",
     "output_type": "stream",
     "text": [
      "Training until validation scores don't improve for 50 rounds\n",
      "[100]\ttraining's auc: 0.937828\tvalid_0's auc: 0.938108\n",
      "[200]\ttraining's auc: 0.946745\tvalid_0's auc: 0.946473\n",
      "[300]\ttraining's auc: 0.949959\tvalid_0's auc: 0.9495\n",
      "[400]\ttraining's auc: 0.95154\tvalid_0's auc: 0.951021\n",
      "[500]\ttraining's auc: 0.952976\tvalid_0's auc: 0.952353\n",
      "[600]\ttraining's auc: 0.95432\tvalid_0's auc: 0.95358\n",
      "[700]\ttraining's auc: 0.955302\tvalid_0's auc: 0.954505\n",
      "[800]\ttraining's auc: 0.956031\tvalid_0's auc: 0.955213\n",
      "[900]\ttraining's auc: 0.956761\tvalid_0's auc: 0.955903\n",
      "[1000]\ttraining's auc: 0.957333\tvalid_0's auc: 0.956404\n",
      "Did not meet early stopping. Best iteration is:\n",
      "[1000]\ttraining's auc: 0.957333\tvalid_0's auc: 0.956404\n"
     ]
    }
   ],
   "source": [
    "d_train = lgb.Dataset(X_train.values, label=Y_train.values)\n",
    "d_valid = lgb.Dataset(X_val.values, label=Y_val.values)\n",
    "watchlist = [d_valid, d_train]\n",
    "reg = lgb.train(params, d_train, n_estimators, valid_sets=watchlist, verbose_eval=100, early_stopping_rounds=stopping)"
   ]
  },
  {
   "cell_type": "code",
   "execution_count": 31,
   "metadata": {},
   "outputs": [],
   "source": [
    "# Predecimos.\n",
    "test_precio_alto = reg.predict(test)\n",
    "train_precio_alto = reg.predict(X)\n",
    "test['precio_alto'] = test_precio_alto\n",
    "train['precio_alto_predicted'] = train_precio_alto"
   ]
  },
  {
   "cell_type": "code",
   "execution_count": 32,
   "metadata": {},
   "outputs": [],
   "source": [
    "# Idem para precio bajo"
   ]
  },
  {
   "cell_type": "code",
   "execution_count": 33,
   "metadata": {},
   "outputs": [],
   "source": [
    "train_2 = train.drop(['precio', 'precio_alto', 'precio_alto_predicted'], axis=1).copy()"
   ]
  },
  {
   "cell_type": "code",
   "execution_count": 34,
   "metadata": {},
   "outputs": [],
   "source": [
    "X = train_2.drop('precio_bajo', axis=1)\n",
    "Y = train_2['precio_bajo']\n",
    "\n",
    "X_train, X_val, Y_train, Y_val = train_test_split(X, Y, test_size=0.2, random_state=seed)"
   ]
  },
  {
   "cell_type": "code",
   "execution_count": 35,
   "metadata": {
    "scrolled": true
   },
   "outputs": [
    {
     "name": "stdout",
     "output_type": "stream",
     "text": [
      "Training until validation scores don't improve for 50 rounds\n",
      "[100]\ttraining's auc: 0.939279\tvalid_0's auc: 0.93982\n",
      "[200]\ttraining's auc: 0.944915\tvalid_0's auc: 0.945439\n",
      "[300]\ttraining's auc: 0.94851\tvalid_0's auc: 0.948893\n",
      "[400]\ttraining's auc: 0.950439\tvalid_0's auc: 0.95063\n",
      "[500]\ttraining's auc: 0.951725\tvalid_0's auc: 0.951664\n",
      "[600]\ttraining's auc: 0.952742\tvalid_0's auc: 0.952573\n",
      "[700]\ttraining's auc: 0.953844\tvalid_0's auc: 0.953406\n",
      "[800]\ttraining's auc: 0.954373\tvalid_0's auc: 0.953827\n",
      "[900]\ttraining's auc: 0.954889\tvalid_0's auc: 0.954153\n",
      "[1000]\ttraining's auc: 0.955447\tvalid_0's auc: 0.954529\n",
      "Did not meet early stopping. Best iteration is:\n",
      "[996]\ttraining's auc: 0.955454\tvalid_0's auc: 0.954555\n"
     ]
    }
   ],
   "source": [
    "d_train = lgb.Dataset(X_train.values, label=Y_train.values)\n",
    "d_valid = lgb.Dataset(X_val.values, label=Y_val.values)\n",
    "watchlist = [d_valid, d_train]\n",
    "reg = lgb.train(params, d_train, n_estimators, valid_sets=watchlist, verbose_eval=100, early_stopping_rounds=stopping)"
   ]
  },
  {
   "cell_type": "code",
   "execution_count": 36,
   "metadata": {},
   "outputs": [],
   "source": [
    "# Predecimos.\n",
    "test_precio_bajo = reg.predict(test)\n",
    "train_precio_bajo = reg.predict(X)\n",
    "test['precio_bajo'] = test_precio_bajo\n",
    "train['precio_bajo_predicted'] = train_precio_bajo"
   ]
  },
  {
   "cell_type": "markdown",
   "metadata": {},
   "source": [
    "# Analizamos resultados obtenidos en train..."
   ]
  },
  {
   "cell_type": "code",
   "execution_count": 37,
   "metadata": {},
   "outputs": [
    {
     "data": {
      "text/plain": [
       "\"\\ntrain = train[['precio_alto', 'precio_alto_predicted', 'precio_alto_final',\\n               'precio_bajo', 'precio_bajo_predicted', 'precio_bajo_final',]]\\n\""
      ]
     },
     "execution_count": 37,
     "metadata": {},
     "output_type": "execute_result"
    }
   ],
   "source": [
    "\"\"\"\n",
    "train = train[['precio_alto', 'precio_alto_predicted', 'precio_alto_final',\n",
    "               'precio_bajo', 'precio_bajo_predicted', 'precio_bajo_final',]]\n",
    "\"\"\""
   ]
  },
  {
   "cell_type": "code",
   "execution_count": 38,
   "metadata": {},
   "outputs": [
    {
     "data": {
      "text/plain": [
       "'%%time\\nn = 0.50\\nposibles = train.shape[0]\\nmejor_precision = 0\\n\\nfor i in range(50):\\n    \\n    add = i/100\\n    train[\\'precio_alto_final\\'] = train[\\'precio_alto_predicted\\'].map(lambda x: 1 if (x>(n+add)) else 0)\\n    favorables = train.loc[(train[\\'precio_alto\\'] == train[\\'precio_alto_final\\'])].shape[0]\\n    precision = favorables/posibles\\n    \\n    if precision > mejor_precision:\\n        mejor_precision = precision\\n        mejor_m = n+add\\n\\nprint(f\"Precios altos | Mejor precision: {round((mejor_precision*100), 2)}% con m = {mejor_m}.\")'"
      ]
     },
     "execution_count": 38,
     "metadata": {},
     "output_type": "execute_result"
    }
   ],
   "source": [
    "\"\"\"%%time\n",
    "n = 0.50\n",
    "posibles = train.shape[0]\n",
    "mejor_precision = 0\n",
    "\n",
    "for i in range(50):\n",
    "    \n",
    "    add = i/100\n",
    "    train['precio_alto_final'] = train['precio_alto_predicted'].map(lambda x: 1 if (x>(n+add)) else 0)\n",
    "    favorables = train.loc[(train['precio_alto'] == train['precio_alto_final'])].shape[0]\n",
    "    precision = favorables/posibles\n",
    "    \n",
    "    if precision > mejor_precision:\n",
    "        mejor_precision = precision\n",
    "        mejor_m = n+add\n",
    "\n",
    "print(f\"Precios altos | Mejor precision: {round((mejor_precision*100), 2)}% con m = {mejor_m}.\")\"\"\""
   ]
  },
  {
   "cell_type": "code",
   "execution_count": 39,
   "metadata": {},
   "outputs": [
    {
     "data": {
      "text/plain": [
       "'%%time\\nn = 0.01\\nposibles = train.shape[0]\\nmejor_precision = 0\\n\\nfor i in range(50):\\n    \\n    add = i/100\\n    train[\\'precio_bajo_final\\'] = train[\\'precio_bajo_predicted\\'].map(lambda x: 1 if (x>(n+add)) else 0)\\n    favorables = train.loc[(train[\\'precio_bajo\\'] == train[\\'precio_bajo_final\\'])].shape[0]\\n    precision = favorables/posibles\\n    \\n    if precision > mejor_precision:\\n        mejor_precision = precision\\n        mejor_m = n+add\\n\\nprint(f\"Precios bajos | Mejor precision: {round((mejor_precision*100), 2)}% con m = {mejor_m}.\")'"
      ]
     },
     "execution_count": 39,
     "metadata": {},
     "output_type": "execute_result"
    }
   ],
   "source": [
    "\"\"\"%%time\n",
    "n = 0.01\n",
    "posibles = train.shape[0]\n",
    "mejor_precision = 0\n",
    "\n",
    "for i in range(50):\n",
    "    \n",
    "    add = i/100\n",
    "    train['precio_bajo_final'] = train['precio_bajo_predicted'].map(lambda x: 1 if (x>(n+add)) else 0)\n",
    "    favorables = train.loc[(train['precio_bajo'] == train['precio_bajo_final'])].shape[0]\n",
    "    precision = favorables/posibles\n",
    "    \n",
    "    if precision > mejor_precision:\n",
    "        mejor_precision = precision\n",
    "        mejor_m = n+add\n",
    "\n",
    "print(f\"Precios bajos | Mejor precision: {round((mejor_precision*100), 2)}% con m = {mejor_m}.\")\"\"\""
   ]
  },
  {
   "cell_type": "code",
   "execution_count": 40,
   "metadata": {},
   "outputs": [
    {
     "data": {
      "text/plain": [
       "'%%time\\nn = 0.5\\nposibles = train.shape[0]\\nmejor_precision = 0\\n\\nfor i in range(50):\\n    add_a = i/100\\n    train[\\'precio_alto_final\\'] = train[\\'precio_alto_predicted\\'].map(lambda x: 1 if (x>(n+add_a)) else 0)\\n    \\n    for j in range(50):\\n        add_b = j/100\\n        train[\\'precio_bajo_final\\'] = train[\\'precio_bajo_predicted\\'].map(lambda x: 1 if (x>(n+add_b)) else 0)\\n        \\n        \\n        favorables = train.loc[((train[\\'precio_bajo\\'] == train[\\'precio_bajo_final\\']) & (train[\\'precio_alto\\'] == train[\\'precio_alto_final\\']))].shape[0]\\n        precision = favorables/posibles\\n\\n        if precision > mejor_precision:\\n            mejor_precision = precision\\n            mejor_m = (n+add_a, n+add_b)\\n\\nprint(f\"Mejor precision: {round((mejor_precision*100), 2)}% con m = {mejor_m}.\")'"
      ]
     },
     "execution_count": 40,
     "metadata": {},
     "output_type": "execute_result"
    }
   ],
   "source": [
    "\"\"\"%%time\n",
    "n = 0.5\n",
    "posibles = train.shape[0]\n",
    "mejor_precision = 0\n",
    "\n",
    "for i in range(50):\n",
    "    add_a = i/100\n",
    "    train['precio_alto_final'] = train['precio_alto_predicted'].map(lambda x: 1 if (x>(n+add_a)) else 0)\n",
    "    \n",
    "    for j in range(50):\n",
    "        add_b = j/100\n",
    "        train['precio_bajo_final'] = train['precio_bajo_predicted'].map(lambda x: 1 if (x>(n+add_b)) else 0)\n",
    "        \n",
    "        \n",
    "        favorables = train.loc[((train['precio_bajo'] == train['precio_bajo_final']) & (train['precio_alto'] == train['precio_alto_final']))].shape[0]\n",
    "        precision = favorables/posibles\n",
    "\n",
    "        if precision > mejor_precision:\n",
    "            mejor_precision = precision\n",
    "            mejor_m = (n+add_a, n+add_b)\n",
    "\n",
    "print(f\"Mejor precision: {round((mejor_precision*100), 2)}% con m = {mejor_m}.\")\"\"\""
   ]
  },
  {
   "cell_type": "markdown",
   "metadata": {},
   "source": [
    "<hr>"
   ]
  },
  {
   "cell_type": "code",
   "execution_count": 41,
   "metadata": {},
   "outputs": [
    {
     "data": {
      "text/plain": [
       "\"train['precio_alto_final'] = train['precio_alto_predicted'].map(lambda x: 1 if (x>0.85) else 0)\\ntrain['precio_bajo_final'] = train['precio_bajo_predicted'].map(lambda x: 1 if (x>0.98) else 0)\""
      ]
     },
     "execution_count": 41,
     "metadata": {},
     "output_type": "execute_result"
    }
   ],
   "source": [
    "\"\"\"train['precio_alto_final'] = train['precio_alto_predicted'].map(lambda x: 1 if (x>0.85) else 0)\n",
    "train['precio_bajo_final'] = train['precio_bajo_predicted'].map(lambda x: 1 if (x>0.98) else 0)\"\"\""
   ]
  },
  {
   "cell_type": "code",
   "execution_count": 42,
   "metadata": {},
   "outputs": [
    {
     "data": {
      "text/plain": [
       "'posibles = train.shape[0]\\n\\nfavorables = train.loc[(train[\\'precio_alto\\'] == train[\\'precio_alto_final\\'])].shape[0]\\nprint(f\"Para precios altos, la precision es de {int((favorables/posibles)*100)}%.\")\\nfavorables = train.loc[(train[\\'precio_bajo\\'] == train[\\'precio_bajo_final\\'])].shape[0]\\nprint(f\"Para precios bajos, la precision es de {int((favorables/posibles)*100)}%.\")\\nfavorables = train.loc[((train[\\'precio_bajo\\'] == train[\\'precio_bajo_final\\']) & (train[\\'precio_alto\\'] == train[\\'precio_alto_final\\']))].shape[0]\\nprint(f\"Para usar ambos, la precision es de {int((favorables/posibles)*100)}%.\")'"
      ]
     },
     "execution_count": 42,
     "metadata": {},
     "output_type": "execute_result"
    }
   ],
   "source": [
    "\"\"\"posibles = train.shape[0]\n",
    "\n",
    "favorables = train.loc[(train['precio_alto'] == train['precio_alto_final'])].shape[0]\n",
    "print(f\"Para precios altos, la precision es de {int((favorables/posibles)*100)}%.\")\n",
    "favorables = train.loc[(train['precio_bajo'] == train['precio_bajo_final'])].shape[0]\n",
    "print(f\"Para precios bajos, la precision es de {int((favorables/posibles)*100)}%.\")\n",
    "favorables = train.loc[((train['precio_bajo'] == train['precio_bajo_final']) & (train['precio_alto'] == train['precio_alto_final']))].shape[0]\n",
    "print(f\"Para usar ambos, la precision es de {int((favorables/posibles)*100)}%.\")\"\"\""
   ]
  },
  {
   "cell_type": "markdown",
   "metadata": {},
   "source": [
    "<hr>\n",
    "Aplicamos lo que acabamos de ver."
   ]
  },
  {
   "cell_type": "code",
   "execution_count": 43,
   "metadata": {},
   "outputs": [
    {
     "data": {
      "text/plain": [
       "Index(['antiguedad', 'habitaciones', 'garages', 'banos', 'metroscubiertos',\n",
       "       'metrostotales', 'idzona', 'lat', 'lng', 'gimnasio',\n",
       "       ...\n",
       "       'usd_subio', 'volcan_cerca', 'idzona_meanencoding_m0',\n",
       "       'idzona_meanencoding_m1', 'idzona_meanencoding_m4', 'precio',\n",
       "       'precio_alto', 'precio_bajo', 'precio_alto_predicted',\n",
       "       'precio_bajo_predicted'],\n",
       "      dtype='object', length=146)"
      ]
     },
     "execution_count": 43,
     "metadata": {},
     "output_type": "execute_result"
    }
   ],
   "source": [
    "train.columns"
   ]
  },
  {
   "cell_type": "code",
   "execution_count": 44,
   "metadata": {},
   "outputs": [],
   "source": [
    "#test['precio_alto'] = test['precio_alto'].map(lambda x: 1 if (x>0.85) else 0)\n",
    "#test['precio_bajo'] = test['precio_bajo'].map(lambda x: 1 if (x>0.98) else 0)"
   ]
  },
  {
   "cell_type": "code",
   "execution_count": 45,
   "metadata": {},
   "outputs": [],
   "source": [
    "train['precio_alto'] = train['precio_alto_predicted']\n",
    "train['precio_bajo'] = train['precio_bajo_predicted']"
   ]
  },
  {
   "cell_type": "code",
   "execution_count": 46,
   "metadata": {},
   "outputs": [],
   "source": [
    "test = test[['precio_alto', 'precio_bajo']]\n",
    "train = train[['precio_alto', 'precio_bajo']]"
   ]
  },
  {
   "cell_type": "code",
   "execution_count": 47,
   "metadata": {},
   "outputs": [],
   "source": [
    "df_class = train.append(test)"
   ]
  },
  {
   "cell_type": "code",
   "execution_count": 48,
   "metadata": {},
   "outputs": [],
   "source": [
    "dicc_class[0] = ['precio_bajo']\n",
    "dicc_class[1] = ['precio_alto']\n",
    "\n",
    "dicc_class_types['bernoulli'] = ['precio_bajo', 'precio_alto']"
   ]
  },
  {
   "cell_type": "code",
   "execution_count": 49,
   "metadata": {},
   "outputs": [],
   "source": [
    "# guardamos el csv\n",
    "df_class.to_csv('features/class.csv')"
   ]
  },
  {
   "cell_type": "code",
   "execution_count": 50,
   "metadata": {},
   "outputs": [],
   "source": [
    "def get_dicc_class():\n",
    "    return {0: ['precio_bajo'], 1: ['precio_alto']}"
   ]
  },
  {
   "cell_type": "code",
   "execution_count": 51,
   "metadata": {},
   "outputs": [],
   "source": [
    "def get_dicc_class_types():\n",
    "    return {'float': ['precio_bajo', 'precio_alto']}"
   ]
  },
  {
   "cell_type": "markdown",
   "metadata": {},
   "source": [
    "# Otros"
   ]
  },
  {
   "cell_type": "code",
   "execution_count": 24,
   "metadata": {},
   "outputs": [],
   "source": [
    "dicc_otros = {}\n",
    "dicc_otros_types = {}\n",
    "\n",
    "df_otros = df[['habitaciones', 'gimnasio', 'usosmultiples', 'piscina', 'escuelascercanas',\n",
    "       'centroscomercialescercanos']].copy()"
   ]
  },
  {
   "cell_type": "code",
   "execution_count": 25,
   "metadata": {},
   "outputs": [],
   "source": [
    "df_otros['apto_chicos'] = df_otros.apply(lambda x: 1 if ((x['habitaciones'] >= 2) & (x['escuelascercanas'] == 1)) else 0, axis=1)"
   ]
  },
  {
   "cell_type": "code",
   "execution_count": 26,
   "metadata": {},
   "outputs": [
    {
     "data": {
      "text/plain": [
       "Index(['titulo', 'descripcion', 'tipodepropiedad', 'direccion', 'ciudad',\n",
       "       'provincia', 'antiguedad', 'habitaciones', 'garages', 'banos',\n",
       "       'metroscubiertos', 'metrostotales', 'idzona', 'lat', 'lng', 'fecha',\n",
       "       'gimnasio', 'usosmultiples', 'piscina', 'escuelascercanas',\n",
       "       'centroscomercialescercanos', 'precio'],\n",
       "      dtype='object')"
      ]
     },
     "execution_count": 26,
     "metadata": {},
     "output_type": "execute_result"
    }
   ],
   "source": [
    "df.columns"
   ]
  },
  {
   "cell_type": "code",
   "execution_count": 27,
   "metadata": {},
   "outputs": [],
   "source": [
    "df_otros['full'] = df_otros.apply(lambda x: 1 if posee_todo(x) else 0, axis=1)"
   ]
  },
  {
   "cell_type": "code",
   "execution_count": 28,
   "metadata": {},
   "outputs": [
    {
     "data": {
      "text/plain": [
       "4411"
      ]
     },
     "execution_count": 28,
     "metadata": {},
     "output_type": "execute_result"
    }
   ],
   "source": [
    "df_otros['full'].sum()"
   ]
  },
  {
   "cell_type": "code",
   "execution_count": 29,
   "metadata": {},
   "outputs": [],
   "source": [
    "df_otros.drop(['habitaciones', 'gimnasio', 'usosmultiples', 'piscina', 'escuelascercanas',\n",
    "               'centroscomercialescercanos'], axis=1, inplace=True)"
   ]
  },
  {
   "cell_type": "code",
   "execution_count": 30,
   "metadata": {},
   "outputs": [],
   "source": [
    "dicc_otros[0] = ['apto_chicos']\n",
    "dicc_otros[1] = ['full']\n",
    "\n",
    "dicc_otros_types['bernoulli'] = ['apto_chicos', 'full']"
   ]
  },
  {
   "cell_type": "code",
   "execution_count": 31,
   "metadata": {},
   "outputs": [],
   "source": [
    "# guardamos el csv\n",
    "df_otros.to_csv('features/otros.csv')"
   ]
  },
  {
   "cell_type": "code",
   "execution_count": 32,
   "metadata": {},
   "outputs": [],
   "source": [
    "def get_dicc_otros():\n",
    "    return {0: ['apto_chicos'], 1: ['full']}"
   ]
  },
  {
   "cell_type": "code",
   "execution_count": 33,
   "metadata": {},
   "outputs": [],
   "source": [
    "def get_dicc_otros_types():\n",
    "    return {'bernoulli': ['apto_chicos', 'full']}"
   ]
  },
  {
   "cell_type": "markdown",
   "metadata": {},
   "source": [
    "<hr>\n",
    "\n",
    "# Resultados\n",
    "Como mencionamos antes, para evitar tener que ejecutar todo el notebook nuevamente (proceso costoso en tiempo, que ya se ejecuto antes) hardcodeamos los siguientes diccionarios y listas que seran utilizadas en otros notebooks."
   ]
  },
  {
   "cell_type": "code",
   "execution_count": 44,
   "metadata": {},
   "outputs": [],
   "source": [
    "def get_csvs_names():\n",
    "    return ['metros', 'tipodepropiedad', 'provincia', 'ciudad', 'fecha', 'descripcion', 'metricas',\n",
    "            'habitaciones', 'antiguedad', 'extras', 'volcanes', 'idzona', 'class', 'otros', 'metrocuadrado']"
   ]
  },
  {
   "cell_type": "code",
   "execution_count": 45,
   "metadata": {},
   "outputs": [],
   "source": [
    "def get_features():\n",
    "\n",
    "    features = {}\n",
    "    features['metros'] = get_dicc_metros()\n",
    "    features['tipodepropiedad'] = get_dicc_tipodepropiedad()\n",
    "    features['provincia'] = get_dicc_provincia()\n",
    "    features['ciudad'] = get_dicc_ciudad()\n",
    "    features['fecha'] = get_dicc_fecha()\n",
    "    features['descripcion'] = get_dicc_descripcion()\n",
    "    features['metricas'] = get_dicc_metricas()\n",
    "    features['habitaciones'] = get_dicc_habitaciones()\n",
    "    features['antiguedad'] = get_dicc_antiguedad()\n",
    "    features['extras'] = get_dicc_extras()\n",
    "    features['volcanes'] = get_dicc_volcanes()\n",
    "    features['idzona'] = get_dicc_idzona()\n",
    "    features['class'] = get_dicc_class()\n",
    "    features['otros'] = get_dicc_otros()\n",
    "    features['metrocuadrado'] = get_dicc_metrocuadrado()\n",
    "    \n",
    "    for feature in features:\n",
    "        todas = []\n",
    "        for opcion in features[feature]:\n",
    "            valores = features[feature][opcion]\n",
    "            for valor in valores:\n",
    "                if (valor not in todas):\n",
    "                    todas.append(valor)\n",
    "        features[feature]['all'] = todas\n",
    "    \n",
    "    return features"
   ]
  },
  {
   "cell_type": "code",
   "execution_count": 46,
   "metadata": {},
   "outputs": [],
   "source": [
    "def get_features_types():\n",
    "    \n",
    "    types = {}\n",
    "    types['metros'] = get_dicc_metros_types()\n",
    "    types['tipodepropiedad'] = get_dicc_tipodepropiedad_types()\n",
    "    types['provincia'] = get_dicc_provincia_types()\n",
    "    types['ciudad'] = get_dicc_ciudad_types()\n",
    "    types['fecha'] = get_dicc_fecha_types()\n",
    "    types['descripcion'] = get_dicc_descripcion_types()\n",
    "    types['metricas'] = get_dicc_metricas_types()\n",
    "    types['habitaciones'] = get_dicc_habitaciones_types()\n",
    "    types['antiguedad'] = get_dicc_antiguedad_types()\n",
    "    types['extras'] = get_dicc_extras_types()\n",
    "    types['volcanes'] = get_dicc_volcanes_types()\n",
    "    types['idzona'] = get_dicc_idzona_types()\n",
    "    types['class'] = get_dicc_class_types()\n",
    "    types['otros'] = get_dicc_otros_types()\n",
    "    types['metrocuadrado'] = get_dicc_metrocuadrado_types()\n",
    "    return types"
   ]
  },
  {
   "cell_type": "code",
   "execution_count": null,
   "metadata": {},
   "outputs": [],
   "source": []
  }
 ],
 "metadata": {
  "kernelspec": {
   "display_name": "Python 3",
   "language": "python",
   "name": "python3"
  },
  "language_info": {
   "codemirror_mode": {
    "name": "ipython",
    "version": 3
   },
   "file_extension": ".py",
   "mimetype": "text/x-python",
   "name": "python",
   "nbconvert_exporter": "python",
   "pygments_lexer": "ipython3",
   "version": "3.6.9"
  }
 },
 "nbformat": 4,
 "nbformat_minor": 4
}
