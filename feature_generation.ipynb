{
 "cells": [
  {
   "cell_type": "markdown",
   "metadata": {},
   "source": [
    "# feature_generation"
   ]
  },
  {
   "cell_type": "code",
   "execution_count": 43,
   "metadata": {},
   "outputs": [],
   "source": [
    "import pandas as pd\n",
    "import numpy as np\n",
    "from datetime import datetime\n",
    "\n",
    "from sklearn import preprocessing\n",
    "from sklearn.preprocessing import LabelEncoder\n",
    "import category_encoders as ce\n",
    "\n",
    "import seaborn as sns\n",
    "import matplotlib.pyplot as plt"
   ]
  },
  {
   "cell_type": "code",
   "execution_count": 44,
   "metadata": {},
   "outputs": [],
   "source": [
    "import nbimporter\n",
    "import pre_processing"
   ]
  },
  {
   "cell_type": "markdown",
   "metadata": {},
   "source": [
    "### Funciones auxiliares"
   ]
  },
  {
   "cell_type": "code",
   "execution_count": 45,
   "metadata": {},
   "outputs": [],
   "source": [
    "def corr(df):\n",
    "    return df.corr()['precio'].sort_values(ascending=False)[1:]"
   ]
  },
  {
   "cell_type": "code",
   "execution_count": 46,
   "metadata": {},
   "outputs": [],
   "source": [
    "def aniomes(anio, mes):\n",
    "    if len(str(mes)) == 1:\n",
    "        return int(str(anio)+'0'+str(mes))\n",
    "    return int(str(anio)+str(mes))"
   ]
  },
  {
   "cell_type": "code",
   "execution_count": 47,
   "metadata": {},
   "outputs": [],
   "source": [
    "def aniomesdia(anio, mes, dia):\n",
    "    anio= str(anio)\n",
    "    mes= str(mes)\n",
    "    dia= str(dia)\n",
    "    \n",
    "    if len(mes) == 1:\n",
    "        mes = '0'+mes\n",
    "    if len(dia) == 1:\n",
    "        dia = '0'+dia\n",
    "    \n",
    "    return int(anio+mes+dia)"
   ]
  },
  {
   "cell_type": "code",
   "execution_count": 48,
   "metadata": {},
   "outputs": [],
   "source": [
    "def aniomesdia(dt):\n",
    "    anio= str(dt.year)\n",
    "    mes= str(dt.month)\n",
    "    dia= str(dt.day)\n",
    "    \n",
    "    if len(mes) == 1:\n",
    "        mes = '0'+mes\n",
    "    if len(dia) == 1:\n",
    "        dia = '0'+dia\n",
    "        \n",
    "    return int(anio+mes+dia)\n",
    "    "
   ]
  },
  {
   "cell_type": "code",
   "execution_count": 49,
   "metadata": {},
   "outputs": [],
   "source": [
    "def contiene_indicadores(descripcion, indicadores):\n",
    "    for indicador in indicadores:\n",
    "        if indicador in str(descripcion).lower():\n",
    "            return 1\n",
    "    return 0"
   ]
  },
  {
   "cell_type": "code",
   "execution_count": 50,
   "metadata": {},
   "outputs": [],
   "source": [
    "def binning_habitaciones(x):\n",
    "    if (x==-1):\n",
    "        return 'unknown'\n",
    "    elif x==1:\n",
    "        return 'monoambiente'\n",
    "    elif (x==2):\n",
    "        return 'dos ambientes'\n",
    "    elif (x==3):\n",
    "        return 'tres ambientes'\n",
    "    elif (x==4):\n",
    "        return 'cuatro ambientes'\n",
    "    elif (x==5):\n",
    "        return 'cinco ambientes'\n",
    "    else:\n",
    "        return 'mas de 5 ambientes'"
   ]
  },
  {
   "cell_type": "code",
   "execution_count": 51,
   "metadata": {},
   "outputs": [],
   "source": [
    "def binning_antiguedad_1(x):\n",
    "    if (x==-1):\n",
    "        return 'unknown'\n",
    "    elif x==0:\n",
    "        return 'new'\n",
    "    elif (x<=5):\n",
    "        return '0 a 5'\n",
    "    elif (x<=10):\n",
    "        return '5 a 10'\n",
    "    elif (x<=15):\n",
    "        return '10 a 15'\n",
    "    elif (x<=20):\n",
    "        return '15 a 20'\n",
    "    elif (x<=30):\n",
    "        return '20 a 30'\n",
    "    elif (x<=50):\n",
    "        return '30 a 50'\n",
    "    else:\n",
    "        return '+50'\n",
    "    "
   ]
  },
  {
   "cell_type": "code",
   "execution_count": 52,
   "metadata": {},
   "outputs": [],
   "source": [
    "def binning_antiguedad_2(x):\n",
    "    if (x==-1):\n",
    "        return 'unknown'\n",
    "    elif x==0:\n",
    "        return 'new'\n",
    "    elif (x<=10):\n",
    "        return 'hasta 10'\n",
    "    else:\n",
    "        return 'mas de 10'\n",
    "    "
   ]
  },
  {
   "cell_type": "code",
   "execution_count": 53,
   "metadata": {},
   "outputs": [],
   "source": [
    "filas_train = 240000\n",
    "filas_test = 60000"
   ]
  },
  {
   "cell_type": "markdown",
   "metadata": {},
   "source": [
    "# Desarollo"
   ]
  },
  {
   "cell_type": "code",
   "execution_count": 54,
   "metadata": {},
   "outputs": [],
   "source": [
    "df = pre_processing.load_appended_dataset()"
   ]
  },
  {
   "cell_type": "code",
   "execution_count": 55,
   "metadata": {},
   "outputs": [
    {
     "data": {
      "text/html": [
       "<div>\n",
       "<style scoped>\n",
       "    .dataframe tbody tr th:only-of-type {\n",
       "        vertical-align: middle;\n",
       "    }\n",
       "\n",
       "    .dataframe tbody tr th {\n",
       "        vertical-align: top;\n",
       "    }\n",
       "\n",
       "    .dataframe thead th {\n",
       "        text-align: right;\n",
       "    }\n",
       "</style>\n",
       "<table border=\"1\" class=\"dataframe\">\n",
       "  <thead>\n",
       "    <tr style=\"text-align: right;\">\n",
       "      <th></th>\n",
       "      <th>titulo</th>\n",
       "      <th>descripcion</th>\n",
       "      <th>direccion</th>\n",
       "      <th>tipodepropiedad</th>\n",
       "      <th>ciudad</th>\n",
       "      <th>provincia</th>\n",
       "      <th>antiguedad</th>\n",
       "      <th>habitaciones</th>\n",
       "      <th>garages</th>\n",
       "      <th>banos</th>\n",
       "      <th>metroscubiertos</th>\n",
       "      <th>metrostotales</th>\n",
       "      <th>idzona</th>\n",
       "      <th>fecha</th>\n",
       "      <th>gimnasio</th>\n",
       "      <th>usosmultiples</th>\n",
       "      <th>piscina</th>\n",
       "      <th>escuelascercanas</th>\n",
       "      <th>centroscomercialescercanos</th>\n",
       "      <th>precio</th>\n",
       "    </tr>\n",
       "    <tr>\n",
       "      <th>id</th>\n",
       "      <th></th>\n",
       "      <th></th>\n",
       "      <th></th>\n",
       "      <th></th>\n",
       "      <th></th>\n",
       "      <th></th>\n",
       "      <th></th>\n",
       "      <th></th>\n",
       "      <th></th>\n",
       "      <th></th>\n",
       "      <th></th>\n",
       "      <th></th>\n",
       "      <th></th>\n",
       "      <th></th>\n",
       "      <th></th>\n",
       "      <th></th>\n",
       "      <th></th>\n",
       "      <th></th>\n",
       "      <th></th>\n",
       "      <th></th>\n",
       "    </tr>\n",
       "  </thead>\n",
       "  <tbody>\n",
       "    <tr>\n",
       "      <td>254099</td>\n",
       "      <td>depto. tipo a-402</td>\n",
       "      <td>depto. interior de 80.15m2, consta de sala com...</td>\n",
       "      <td>Avenida Division del Norte 2005</td>\n",
       "      <td>Apartamento</td>\n",
       "      <td>Benito Juárez</td>\n",
       "      <td>Distrito Federal</td>\n",
       "      <td>NaN</td>\n",
       "      <td>2.0</td>\n",
       "      <td>1.0</td>\n",
       "      <td>2.0</td>\n",
       "      <td>80.0</td>\n",
       "      <td>80.0</td>\n",
       "      <td>23533.0</td>\n",
       "      <td>2015-08-23</td>\n",
       "      <td>0</td>\n",
       "      <td>0</td>\n",
       "      <td>0</td>\n",
       "      <td>0</td>\n",
       "      <td>0</td>\n",
       "      <td>2273000.0</td>\n",
       "    </tr>\n",
       "  </tbody>\n",
       "</table>\n",
       "</div>"
      ],
      "text/plain": [
       "                   titulo                                        descripcion  \\\n",
       "id                                                                             \n",
       "254099  depto. tipo a-402  depto. interior de 80.15m2, consta de sala com...   \n",
       "\n",
       "                              direccion tipodepropiedad         ciudad  \\\n",
       "id                                                                       \n",
       "254099  Avenida Division del Norte 2005     Apartamento  Benito Juárez   \n",
       "\n",
       "               provincia  antiguedad  habitaciones  garages  banos  \\\n",
       "id                                                                   \n",
       "254099  Distrito Federal         NaN           2.0      1.0    2.0   \n",
       "\n",
       "        metroscubiertos  metrostotales   idzona      fecha  gimnasio  \\\n",
       "id                                                                     \n",
       "254099             80.0           80.0  23533.0 2015-08-23         0   \n",
       "\n",
       "        usosmultiples  piscina  escuelascercanas  centroscomercialescercanos  \\\n",
       "id                                                                             \n",
       "254099              0        0                 0                           0   \n",
       "\n",
       "           precio  \n",
       "id                 \n",
       "254099  2273000.0  "
      ]
     },
     "metadata": {},
     "output_type": "display_data"
    },
    {
     "name": "stdout",
     "output_type": "stream",
     "text": [
      "(300000, 20)\n"
     ]
    }
   ],
   "source": [
    "display(df.head(1))\n",
    "print(df.shape)"
   ]
  },
  {
   "cell_type": "code",
   "execution_count": 56,
   "metadata": {},
   "outputs": [],
   "source": [
    "guardar = False"
   ]
  },
  {
   "cell_type": "code",
   "execution_count": 57,
   "metadata": {},
   "outputs": [],
   "source": [
    "dataframes = []\n",
    "features = {}\n",
    "features_types = {}\n",
    "features_types['bernoulli'] = []\n",
    "features_types['float'] = []\n",
    "features_types['uint8'] = []\n",
    "features_types['uint16'] = []\n",
    "features_types['uint32'] = []"
   ]
  },
  {
   "cell_type": "markdown",
   "metadata": {},
   "source": [
    "# Tratamiento de variables importantes con nulos\n",
    "\n",
    "### Metros cubiertos y totales\n",
    "`metrostotales` es una categoria muy importante, asi como `metrostotales`. Es la principal feature que determina el precio de una propiedad. Lamentablemente, muchas propiedades no tienen datos en estas filas o tienen datos inconsistentes. En esta seccion analizaremos que hacer con esto.\n",
    "\n",
    "###### Outliers\n",
    "Ademas de poseer muchos nulos, el dataset tambien posee datos que, por una razon u otra, no tienen sentido. El objetivo de esta seccion es, ya que no podemos eliminarlos porque perderiamos mas de la mitad de los datos y para entrenar esto no tiene sentido, decidimos generar features que indiquen si la fila presenta o no algun dato sin sentido."
   ]
  },
  {
   "cell_type": "code",
   "execution_count": 58,
   "metadata": {
    "scrolled": true
   },
   "outputs": [
    {
     "name": "stdout",
     "output_type": "stream",
     "text": [
      "<class 'pandas.core.frame.DataFrame'>\n",
      "Int64Index: 300000 entries, 254099 to 72612\n",
      "Data columns (total 2 columns):\n",
      "metroscubiertos    278301 non-null float64\n",
      "metrostotales      235878 non-null float64\n",
      "dtypes: float64(2)\n",
      "memory usage: 6.9 MB\n"
     ]
    }
   ],
   "source": [
    "dicc_metros = {}\n",
    "df_metros = df[['metroscubiertos', 'metrostotales']].copy()\n",
    "df_metros.info()"
   ]
  },
  {
   "cell_type": "code",
   "execution_count": 59,
   "metadata": {},
   "outputs": [],
   "source": [
    "# Generamos columna que nos diga si los metros totales son confiables."
   ]
  },
  {
   "cell_type": "code",
   "execution_count": 60,
   "metadata": {},
   "outputs": [],
   "source": [
    "df_metros['metrostotales_confiables'] = df_metros.apply(lambda x: 1 if ((x['metrostotales'] > x['metroscubiertos']) & (x['metroscubiertos'] > 0)) else 0, axis=1)"
   ]
  },
  {
   "cell_type": "code",
   "execution_count": 61,
   "metadata": {},
   "outputs": [
    {
     "data": {
      "text/plain": [
       "78794"
      ]
     },
     "execution_count": 61,
     "metadata": {},
     "output_type": "execute_result"
    }
   ],
   "source": [
    "df_metros['metrostotales_confiables'].sum()"
   ]
  },
  {
   "cell_type": "code",
   "execution_count": 62,
   "metadata": {},
   "outputs": [],
   "source": [
    "# Vemos que solo en 80.000 datos de 300.000 (!!!) tiene sentido utilizar los metros totales.\n",
    "# Vamos a tomar una serie de medidas para rellenar los nulos en estos campos, para tener mas informacion.\n",
    "# Son consideraciones que pueden ser erroneas, pero sera un intento por salvar los datos."
   ]
  },
  {
   "cell_type": "markdown",
   "metadata": {},
   "source": [
    "Vemos que solo en 80.000 datos de 300.000 (!!!) tiene sentido utilizar los metros totales.\n",
    "Vamos a tomar una serie de medidas para rellenar los nulos en estos campos, para tener mas informacion. Son consideraciones que pueden ser erroneas, pero sera un intento por salvar los datos.\n",
    "\n",
    "- CASO 1: Los `metroscubiertos` son distintos de `nan`, pero los `metrostotales` son `nan`.\n",
    "- CASO 2: Los `metroscubiertos` son distintos de `nan`, los `metrostotales` son menores que los cubiertos.\n",
    "- CASO 3: Los `metroscubiertos` son `nan`, pero los `metrostotales` son distintos de `nan`."
   ]
  },
  {
   "cell_type": "code",
   "execution_count": 63,
   "metadata": {
    "scrolled": true
   },
   "outputs": [
    {
     "data": {
      "text/html": [
       "<div>\n",
       "<style scoped>\n",
       "    .dataframe tbody tr th:only-of-type {\n",
       "        vertical-align: middle;\n",
       "    }\n",
       "\n",
       "    .dataframe tbody tr th {\n",
       "        vertical-align: top;\n",
       "    }\n",
       "\n",
       "    .dataframe thead th {\n",
       "        text-align: right;\n",
       "    }\n",
       "</style>\n",
       "<table border=\"1\" class=\"dataframe\">\n",
       "  <thead>\n",
       "    <tr style=\"text-align: right;\">\n",
       "      <th></th>\n",
       "      <th>metroscubiertos</th>\n",
       "      <th>metrostotales</th>\n",
       "      <th>metrostotales_confiables</th>\n",
       "    </tr>\n",
       "    <tr>\n",
       "      <th>id</th>\n",
       "      <th></th>\n",
       "      <th></th>\n",
       "      <th></th>\n",
       "    </tr>\n",
       "  </thead>\n",
       "  <tbody>\n",
       "  </tbody>\n",
       "</table>\n",
       "</div>"
      ],
      "text/plain": [
       "Empty DataFrame\n",
       "Columns: [metroscubiertos, metrostotales, metrostotales_confiables]\n",
       "Index: []"
      ]
     },
     "execution_count": 63,
     "metadata": {},
     "output_type": "execute_result"
    }
   ],
   "source": [
    "df_metros.loc[(df_metros['metroscubiertos'].isnull()) & (df_metros['metrostotales'].isnull())]"
   ]
  },
  {
   "cell_type": "code",
   "execution_count": 64,
   "metadata": {},
   "outputs": [],
   "source": [
    "# OBSERVACION! Vemos que no hay propiedades que tengan ambas informaciones faltantes. Esto nos permite tomar como\n",
    "# primer opcion, solucionar los casos llenando la info del faltante con la del presente."
   ]
  },
  {
   "cell_type": "code",
   "execution_count": 65,
   "metadata": {},
   "outputs": [],
   "source": [
    "#CASO 3\n",
    "df_metros['metroscubiertos_alt'] = df_metros['metroscubiertos'].fillna(df_metros['metrostotales'])"
   ]
  },
  {
   "cell_type": "code",
   "execution_count": 66,
   "metadata": {},
   "outputs": [],
   "source": [
    "# Esta alternativa parece tener mucho sentido, ya que puede pasar que haya gente que directamente ponga el dato\n",
    "# en metros totales, y no complete los cubiertos.\n",
    "\n",
    "# En el CASO 1 hay que tener un poco mas de cuidado, ya que los metros totales son por definicion MAYORES O\n",
    "# IGUALES a los cubiertos. En esta primer alternativa, los consideraremos iguales en el caso de nans."
   ]
  },
  {
   "cell_type": "code",
   "execution_count": 67,
   "metadata": {},
   "outputs": [],
   "source": [
    "df_metros['metrostotales_alt'] = df_metros['metrostotales'].fillna(df_metros['metroscubiertos'])"
   ]
  },
  {
   "cell_type": "code",
   "execution_count": 68,
   "metadata": {},
   "outputs": [],
   "source": [
    "# regeneramos la columna de metros confiables\n",
    "df_metros['metrostotales_confiables_alt'] = df_metros.apply(lambda x: 1 if ((x['metrostotales_alt'] > x['metroscubiertos_alt']) & (x['metroscubiertos_alt'] > 0)) else 0, axis=1)"
   ]
  },
  {
   "cell_type": "code",
   "execution_count": 69,
   "metadata": {},
   "outputs": [],
   "source": [
    "# En este caso ya solucionamos entonces caso 1 y 3. Ahora nos falta ver que hacemos con las propiedades que tienen\n",
    "# metros totales MENORES a los cubiertos..."
   ]
  },
  {
   "cell_type": "code",
   "execution_count": 70,
   "metadata": {},
   "outputs": [
    {
     "data": {
      "text/plain": [
       "88101"
      ]
     },
     "execution_count": 70,
     "metadata": {},
     "output_type": "execute_result"
    }
   ],
   "source": [
    "df_metros.loc[(df_metros['metroscubiertos'] > df_metros['metrostotales'])].shape[0]"
   ]
  },
  {
   "cell_type": "code",
   "execution_count": 71,
   "metadata": {},
   "outputs": [],
   "source": [
    "# Vemos que tenemos 88 mil datos con este problema. Vamos a analizar que tanta diferencia hay..."
   ]
  },
  {
   "cell_type": "markdown",
   "metadata": {},
   "source": [
    "Como interpretar esto? Proponemos tres ideas:\n",
    "\n",
    "**Idea 1**: la carga se realizo al reves, es decir que los metros cubiertos serian los metros totales, y los metros totales los metros cubiertos.\n",
    "\n",
    "**Idea 2**: los metros totales representan en realidad, metros descubiertos. Por lo que los metros totales los re-calculamos como la suma entre los totales y los cubiertos."
   ]
  },
  {
   "cell_type": "code",
   "execution_count": 72,
   "metadata": {},
   "outputs": [
    {
     "data": {
      "text/html": [
       "<div>\n",
       "<style scoped>\n",
       "    .dataframe tbody tr th:only-of-type {\n",
       "        vertical-align: middle;\n",
       "    }\n",
       "\n",
       "    .dataframe tbody tr th {\n",
       "        vertical-align: top;\n",
       "    }\n",
       "\n",
       "    .dataframe thead th {\n",
       "        text-align: right;\n",
       "    }\n",
       "</style>\n",
       "<table border=\"1\" class=\"dataframe\">\n",
       "  <thead>\n",
       "    <tr style=\"text-align: right;\">\n",
       "      <th></th>\n",
       "      <th>metroscubiertos</th>\n",
       "      <th>metrostotales</th>\n",
       "      <th>metrostotales_confiables</th>\n",
       "      <th>metroscubiertos_alt</th>\n",
       "      <th>metrostotales_alt</th>\n",
       "      <th>metrostotales_confiables_alt</th>\n",
       "    </tr>\n",
       "    <tr>\n",
       "      <th>id</th>\n",
       "      <th></th>\n",
       "      <th></th>\n",
       "      <th></th>\n",
       "      <th></th>\n",
       "      <th></th>\n",
       "      <th></th>\n",
       "    </tr>\n",
       "  </thead>\n",
       "  <tbody>\n",
       "    <tr>\n",
       "      <td>254099</td>\n",
       "      <td>80.0</td>\n",
       "      <td>80.0</td>\n",
       "      <td>0</td>\n",
       "      <td>80.0</td>\n",
       "      <td>80.0</td>\n",
       "      <td>0</td>\n",
       "    </tr>\n",
       "    <tr>\n",
       "      <td>53461</td>\n",
       "      <td>268.0</td>\n",
       "      <td>180.0</td>\n",
       "      <td>0</td>\n",
       "      <td>268.0</td>\n",
       "      <td>180.0</td>\n",
       "      <td>0</td>\n",
       "    </tr>\n",
       "    <tr>\n",
       "      <td>247984</td>\n",
       "      <td>144.0</td>\n",
       "      <td>166.0</td>\n",
       "      <td>1</td>\n",
       "      <td>144.0</td>\n",
       "      <td>166.0</td>\n",
       "      <td>1</td>\n",
       "    </tr>\n",
       "    <tr>\n",
       "      <td>209067</td>\n",
       "      <td>63.0</td>\n",
       "      <td>67.0</td>\n",
       "      <td>1</td>\n",
       "      <td>63.0</td>\n",
       "      <td>67.0</td>\n",
       "      <td>1</td>\n",
       "    </tr>\n",
       "    <tr>\n",
       "      <td>185997</td>\n",
       "      <td>95.0</td>\n",
       "      <td>95.0</td>\n",
       "      <td>0</td>\n",
       "      <td>95.0</td>\n",
       "      <td>95.0</td>\n",
       "      <td>0</td>\n",
       "    </tr>\n",
       "  </tbody>\n",
       "</table>\n",
       "</div>"
      ],
      "text/plain": [
       "        metroscubiertos  metrostotales  metrostotales_confiables  \\\n",
       "id                                                                 \n",
       "254099             80.0           80.0                         0   \n",
       "53461             268.0          180.0                         0   \n",
       "247984            144.0          166.0                         1   \n",
       "209067             63.0           67.0                         1   \n",
       "185997             95.0           95.0                         0   \n",
       "\n",
       "        metroscubiertos_alt  metrostotales_alt  metrostotales_confiables_alt  \n",
       "id                                                                            \n",
       "254099                 80.0               80.0                             0  \n",
       "53461                 268.0              180.0                             0  \n",
       "247984                144.0              166.0                             1  \n",
       "209067                 63.0               67.0                             1  \n",
       "185997                 95.0               95.0                             0  "
      ]
     },
     "execution_count": 72,
     "metadata": {},
     "output_type": "execute_result"
    }
   ],
   "source": [
    "df_metros.head()"
   ]
  },
  {
   "cell_type": "code",
   "execution_count": 73,
   "metadata": {},
   "outputs": [
    {
     "data": {
      "text/plain": [
       "88101"
      ]
     },
     "execution_count": 73,
     "metadata": {},
     "output_type": "execute_result"
    }
   ],
   "source": [
    "df_metros.loc[(df_metros['metroscubiertos_alt'] > df_metros['metrostotales_alt'])].shape[0]"
   ]
  },
  {
   "cell_type": "code",
   "execution_count": 74,
   "metadata": {},
   "outputs": [],
   "source": [
    "# idea 1: los metros cubiertos serian los metros totales, y los metros totales los metros cubiertos.\n",
    "\n",
    "df_metros['metrostotales_i1'] = df_metros.apply(lambda x: (x['metroscubiertos_alt']) if (x['metroscubiertos_alt'] > x['metrostotales_alt']) else (x['metrostotales_alt']), axis=1)\n",
    "df_metros['metroscubiertos_i1'] = df_metros.apply(lambda x: (x['metrostotales_alt']) if (x['metroscubiertos_alt'] > x['metrostotales_alt']) else (x['metroscubiertos_alt']), axis=1)"
   ]
  },
  {
   "cell_type": "code",
   "execution_count": 75,
   "metadata": {},
   "outputs": [],
   "source": [
    "# idea 2: los metros totales son metros descubiertos, entonces metrostotales = metroscubiertos + metrostotales\n",
    "df_metros['metrostotales_i2'] = df_metros.apply(lambda x: (x['metrostotales_alt'] + x['metroscubiertos_alt']) if (x['metroscubiertos_alt'] > x['metrostotales_alt']) else (x['metrostotales_alt']), axis=1)"
   ]
  },
  {
   "cell_type": "markdown",
   "metadata": {},
   "source": [
    "#### FEATURES NUEVAS DOCUMENTADAS\n",
    "\n",
    "- `metrostotales_confiables`: dato valido y con sentido, considerando las features originales.\n",
    "- `metrostotales_confiables_alt`: dato valido y con sentido, considerando las features _alt.\n",
    "\n",
    "- `metroscubiertos_alt`: llenar los nulos de metros cubiertos con el dato de metros totales.\n",
    "- `metrostotales_alt`: llenar los nulos de metros totales con el dato de metros cubiertos.\n",
    "- `metroscubiertos_i1`: si los metros cubiertos eran mayores a los totales, se invierten.\n",
    "- `metrostotales_i1`: si los metros cubiertos eran mayores a los totales, se invierten.\n",
    "- `metrostotales_i2`: se considera que si los metros cubiertos son mayores a los totales, entonces en realidad lo que habia en totales eran metros descubiertos. Se calcula la suma.\n"
   ]
  },
  {
   "cell_type": "code",
   "execution_count": 76,
   "metadata": {},
   "outputs": [],
   "source": [
    "df_metros.drop(['metroscubiertos', 'metrostotales'], axis=1, inplace=True)"
   ]
  },
  {
   "cell_type": "code",
   "execution_count": 77,
   "metadata": {},
   "outputs": [],
   "source": [
    "features_types['bernoulli'] += ['metrostotales_confiables', 'metrostotales_confiables_alt']\n",
    "features_types['uint16'] += ['metroscubiertos_alt', 'metrostotales_alt', 'metrostotales_i1',\n",
    "                             'metroscubiertos_i1', 'metrostotales_i2']"
   ]
  },
  {
   "cell_type": "code",
   "execution_count": 78,
   "metadata": {},
   "outputs": [],
   "source": [
    "# proponemos las alternativas en el dic:\n",
    "['metrostotales_confiables', 'metroscubiertos_alt', 'metrostotales_alt',\n",
    " 'metrostotales_i1', 'metroscubiertos_i1', 'metrostotales_i2', 'metrostotales_confiables_alt']\n",
    "\n",
    "dicc_metros[0] = ['metroscubiertos_alt', 'metrostotales_alt']\n",
    "dicc_metros[1] = ['metroscubiertos_alt', 'metrostotales_alt', 'metrostotales_confiables_alt']\n",
    "dicc_metros[2] = ['metroscubiertos_i1', 'metrostotales_i1']\n",
    "dicc_metros[3] = ['metroscubiertos_i1', 'metrostotales_i1', 'metrostotales_confiables_alt']\n",
    "dicc_metros[4] = ['metroscubiertos_alt', 'metrostotales_i2']\n",
    "dicc_metros[5] = ['metroscubiertos_alt', 'metrostotales_i2', 'metrostotales_confiables_alt']\n",
    "\n",
    "# ME LA JUEGO QUE LA MEJOR ES LA [3] -mau"
   ]
  },
  {
   "cell_type": "code",
   "execution_count": 79,
   "metadata": {},
   "outputs": [],
   "source": [
    "# guardamos todo lo generado\n",
    "if guardar:\n",
    "    df_metros.to_csv('features/metros.csv')\n",
    "features['metros'] = dicc_metros\n",
    "dataframes.append(df_metros)"
   ]
  },
  {
   "cell_type": "markdown",
   "metadata": {},
   "source": [
    "# Encoding de variables categoricas"
   ]
  },
  {
   "cell_type": "markdown",
   "metadata": {},
   "source": [
    "### TIPO DE PROPIEDAD"
   ]
  },
  {
   "cell_type": "code",
   "execution_count": 80,
   "metadata": {
    "scrolled": true
   },
   "outputs": [
    {
     "data": {
      "text/plain": [
       "Casa                  0.590440\n",
       "Apartamento           0.238573\n",
       "Casa en condominio    0.080693\n",
       "Terreno               0.041300\n",
       "Local Comercial       0.012820\n",
       "Otro                  0.011767\n",
       "Oficina comercial     0.007187\n",
       "Bodega comercial      0.005887\n",
       "Edificio              0.005800\n",
       "Terreno comercial     0.005533\n",
       "Name: tipodepropiedad, dtype: float64"
      ]
     },
     "execution_count": 80,
     "metadata": {},
     "output_type": "execute_result"
    }
   ],
   "source": [
    "# En el TP1 vimos que la mayoria de las propiedades eran casas o departamentos. Vamos a chequear esto:\n",
    "dicc_tipodepropiedad = {}\n",
    "df_tipodepropiedad = df[['tipodepropiedad']].copy()\n",
    "df['tipodepropiedad'].value_counts(normalize=True)"
   ]
  },
  {
   "cell_type": "code",
   "execution_count": 81,
   "metadata": {
    "scrolled": true
   },
   "outputs": [
    {
     "data": {
      "text/plain": [
       "count    245731.000000\n",
       "mean          8.123432\n",
       "std           9.563650\n",
       "min           0.000000\n",
       "25%           0.000000\n",
       "50%           5.000000\n",
       "75%          10.000000\n",
       "max          80.000000\n",
       "Name: antiguedad, dtype: float64"
      ]
     },
     "execution_count": 81,
     "metadata": {},
     "output_type": "execute_result"
    }
   ],
   "source": [
    "df['antiguedad'].describe()"
   ]
  },
  {
   "cell_type": "code",
   "execution_count": 82,
   "metadata": {
    "scrolled": true
   },
   "outputs": [
    {
     "data": {
      "text/plain": [
       "3.0     152388\n",
       "2.0      72195\n",
       "4.0      31328\n",
       "1.0       6322\n",
       "5.0       5760\n",
       "6.0       2103\n",
       "7.0        675\n",
       "8.0        497\n",
       "10.0       411\n",
       "9.0        222\n",
       "Name: habitaciones, dtype: int64"
      ]
     },
     "execution_count": 82,
     "metadata": {},
     "output_type": "execute_result"
    }
   ],
   "source": [
    "df['habitaciones'].value_counts()"
   ]
  },
  {
   "cell_type": "code",
   "execution_count": 83,
   "metadata": {},
   "outputs": [],
   "source": [
    "# Vemos que un 80% de las propiedades son casas o apartamentos. En vista de esto, propondremos distintos tipos\n",
    "# de encoding para los tipos de propiedad."
   ]
  },
  {
   "cell_type": "markdown",
   "metadata": {},
   "source": [
    "##### Probamos algunas alternativas de encoding..."
   ]
  },
  {
   "cell_type": "code",
   "execution_count": 84,
   "metadata": {},
   "outputs": [],
   "source": [
    "# label encoder\n",
    "encoder = LabelEncoder()\n",
    "encoded = df[['tipodepropiedad']].apply(encoder.fit_transform).add_suffix(\"_le\")\n",
    "\n",
    "dicc_tipodepropiedad[0] = encoded.columns.to_list()\n",
    "features_types['uint8'] += dicc_tipodepropiedad[0]\n",
    "df_tipodepropiedad = df_tipodepropiedad.join(encoded, on='id')"
   ]
  },
  {
   "cell_type": "code",
   "execution_count": 85,
   "metadata": {
    "scrolled": true
   },
   "outputs": [],
   "source": [
    "# one hot encoder\n",
    "encoder = ce.one_hot.OneHotEncoder()\n",
    "encoded = encoder.fit_transform(df['tipodepropiedad']).add_suffix(\"_ohe\")\n",
    "\n",
    "dicc_tipodepropiedad[1] = encoded.columns.to_list()\n",
    "features_types['bernoulli'] += dicc_tipodepropiedad[1]\n",
    "df_tipodepropiedad = df_tipodepropiedad.join(encoded, on='id')"
   ]
  },
  {
   "cell_type": "code",
   "execution_count": 86,
   "metadata": {},
   "outputs": [],
   "source": [
    "# binary encoder\n",
    "encoder = ce.binary.BinaryEncoder()\n",
    "encoded = encoder.fit_transform(df['tipodepropiedad']).add_suffix(\"_binary\")\n",
    "\n",
    "dicc_tipodepropiedad[2] = encoded.columns.to_list()\n",
    "features_types['bernoulli'] += dicc_tipodepropiedad[2]\n",
    "df_tipodepropiedad = df_tipodepropiedad.join(encoded, on='id')"
   ]
  },
  {
   "cell_type": "code",
   "execution_count": 87,
   "metadata": {},
   "outputs": [],
   "source": [
    "# polynomial encoder\n",
    "encoder = ce.polynomial.PolynomialEncoder()\n",
    "encoded = encoder.fit_transform(df['tipodepropiedad']).add_suffix(\"_pol\")\n",
    "\n",
    "dicc_tipodepropiedad[3] = encoded.columns.to_list()\n",
    "features_types['float'] += dicc_tipodepropiedad[3]\n",
    "df_tipodepropiedad = df_tipodepropiedad.join(encoded, on='id')"
   ]
  },
  {
   "cell_type": "code",
   "execution_count": 88,
   "metadata": {},
   "outputs": [],
   "source": [
    "# probar otros encoders como target encoding..."
   ]
  },
  {
   "cell_type": "code",
   "execution_count": 89,
   "metadata": {},
   "outputs": [],
   "source": [
    "# Ahora generamos otras combinaciones que creemos que pueden ser interesantes:\n",
    "\n",
    "df_tipodepropiedad['es_casa'] = df['tipodepropiedad'].map(lambda x: 1 if x == 'Casa' else 0)\n",
    "df_tipodepropiedad['es_apart'] = df['tipodepropiedad'].map(lambda x: 1 if x == 'Apartamento' else 0)\n",
    "\n",
    "features_types['bernoulli'] += ['es_casa', 'es_apart']\n",
    "\n",
    "#definimos alternativas manualmente\n",
    "dicc_tipodepropiedad[4] = ['es_casa', 'es_apart']\n",
    "dicc_tipodepropiedad[5] = ['es_casa', 'es_apart'] + dicc_tipodepropiedad[0]\n",
    "dicc_tipodepropiedad[6] = ['es_casa', 'es_apart'] + dicc_tipodepropiedad[2]"
   ]
  },
  {
   "cell_type": "code",
   "execution_count": 90,
   "metadata": {},
   "outputs": [],
   "source": [
    "# guardamos el csv\n",
    "df_tipodepropiedad.drop('tipodepropiedad', axis=1, inplace=True)\n",
    "if guardar:\n",
    "    df_tipodepropiedad.to_csv('features/tipodepropiedad_encoded.csv')\n",
    "features['tipodepropiedad_encoded'] = dicc_tipodepropiedad\n",
    "dataframes.append(df_tipodepropiedad)"
   ]
  },
  {
   "cell_type": "markdown",
   "metadata": {},
   "source": [
    "### PROVINCIA"
   ]
  },
  {
   "cell_type": "code",
   "execution_count": 91,
   "metadata": {
    "scrolled": true
   },
   "outputs": [
    {
     "data": {
      "text/plain": [
       "Distrito Federal    73535\n",
       "Edo. de México      51807\n",
       "Jalisco             26559\n",
       "Querétaro           21313\n",
       "Nuevo León          19295\n",
       "Puebla              12903\n",
       "San luis Potosí     10527\n",
       "Yucatán              9950\n",
       "Morelos              9196\n",
       "Veracruz             7202\n",
       "Name: provincia, dtype: int64"
      ]
     },
     "execution_count": 91,
     "metadata": {},
     "output_type": "execute_result"
    }
   ],
   "source": [
    "# En el TP1 vimos que la mayoria de las publicaciones venian de distrito federal, siendo este un atributo\n",
    "# muy importante a la hora de determinar el precio final.\n",
    "dicc_provincia = {}\n",
    "df_provincia = df[['provincia']].copy()\n",
    "df['provincia'].value_counts()[:10]"
   ]
  },
  {
   "cell_type": "code",
   "execution_count": 92,
   "metadata": {},
   "outputs": [],
   "source": [
    "# Vamos a generar distintos encodings para representar esta informacion"
   ]
  },
  {
   "cell_type": "code",
   "execution_count": 93,
   "metadata": {},
   "outputs": [],
   "source": [
    "# label encoder\n",
    "encoder = LabelEncoder()\n",
    "encoded = df[['provincia']].apply(encoder.fit_transform).add_suffix(\"_le\")\n",
    "\n",
    "dicc_provincia[0] = encoded.columns.to_list()\n",
    "features_types['uint8'] += dicc_provincia[0]\n",
    "df_provincia = df_provincia.join(encoded, on='id')"
   ]
  },
  {
   "cell_type": "code",
   "execution_count": 94,
   "metadata": {},
   "outputs": [],
   "source": [
    "# one hot encoder\n",
    "encoder = ce.one_hot.OneHotEncoder()\n",
    "encoded = encoder.fit_transform(df['provincia']).add_suffix(\"_ohe\")\n",
    "\n",
    "dicc_provincia[1] = encoded.columns.to_list()\n",
    "features_types['bernoulli'] += dicc_provincia[1]\n",
    "df_provincia = df_provincia.join(encoded, on='id')"
   ]
  },
  {
   "cell_type": "code",
   "execution_count": 95,
   "metadata": {},
   "outputs": [],
   "source": [
    "# binary encoder\n",
    "encoder = ce.binary.BinaryEncoder()\n",
    "encoded = encoder.fit_transform(df['provincia']).add_suffix(\"_binary\")\n",
    "\n",
    "dicc_provincia[2] = encoded.columns.to_list()\n",
    "features_types['bernoulli'] += dicc_provincia[2]\n",
    "df_provincia = df_provincia.join(encoded, on='id')"
   ]
  },
  {
   "cell_type": "code",
   "execution_count": 96,
   "metadata": {},
   "outputs": [],
   "source": [
    "# Ahora generamos otras combinaciones que creemos que pueden ser interesantes:\n",
    "\n",
    "# one hot encoding para el top 10 de provincias:\n",
    "top_prov = []\n",
    "for provincia in df['provincia'].value_counts().index.to_list()[:10]:\n",
    "    name = 'es_'+str(provincia)\n",
    "    top_prov.append(name)\n",
    "    df_provincia[name] = df_provincia['provincia'].map(lambda x: 1 if x == str(provincia) else 0)\n",
    "\n",
    "features_types['bernoulli'] += top_prov\n",
    "\n",
    "#definimos alternativas manualmente\n",
    "dicc_provincia[3] = top_prov\n",
    "dicc_provincia[4] = top_prov[:5] + dicc_provincia[0]\n",
    "dicc_provincia[5] = top_prov[:2] + dicc_provincia[0]\n",
    "dicc_provincia[6] = top_prov[:2] + dicc_provincia[2]"
   ]
  },
  {
   "cell_type": "code",
   "execution_count": 97,
   "metadata": {},
   "outputs": [],
   "source": [
    "# guardamos el csv\n",
    "df_provincia.drop('provincia', axis=1, inplace=True)\n",
    "df_provincia.to_csv('features/provincia_encoded.csv')\n",
    "features['provincia_encoded'] = dicc_provincia\n",
    "dataframes.append(df_provincia)"
   ]
  },
  {
   "cell_type": "markdown",
   "metadata": {},
   "source": [
    "### CIUDAD"
   ]
  },
  {
   "cell_type": "code",
   "execution_count": 98,
   "metadata": {},
   "outputs": [
    {
     "data": {
      "text/plain": [
       "Querétaro              15874\n",
       "Benito Juárez          13817\n",
       "Zapopan                12924\n",
       "San Luis Potosí         9875\n",
       "Mérida                  9000\n",
       "                       ...  \n",
       "Naranjos Amatlán           1\n",
       "Nazareno Etla              1\n",
       "Nochistlán de Mejía        1\n",
       "Nopaltepec                 1\n",
       "Abalá                      1\n",
       "Name: ciudad, Length: 922, dtype: int64"
      ]
     },
     "execution_count": 98,
     "metadata": {},
     "output_type": "execute_result"
    }
   ],
   "source": [
    "# Esta variable es conflictiva por la cantidad de valores distintos que posee:\n",
    "dicc_ciudad = {}\n",
    "df_ciudad = df[['ciudad', 'metroscubiertos', 'precio']].copy()\n",
    "df['ciudad'].value_counts()"
   ]
  },
  {
   "cell_type": "code",
   "execution_count": 99,
   "metadata": {},
   "outputs": [],
   "source": [
    "# Como vemos, son 922 valores distintos. Vamos a ver entonces, hasta que ciudad debemos sumar para conservar un\n",
    "# buen porcentaje."
   ]
  },
  {
   "cell_type": "code",
   "execution_count": 100,
   "metadata": {},
   "outputs": [
    {
     "name": "stdout",
     "output_type": "stream",
     "text": [
      "Con 10 ciudades, conservamos el 34% de los datos.\n",
      "Con 20 ciudades, conservamos el 53% de los datos.\n",
      "Con 30 ciudades, conservamos el 65% de los datos.\n",
      "Con 40 ciudades, conservamos el 73% de los datos.\n",
      "Con 50 ciudades, conservamos el 79% de los datos.\n",
      "Con 60 ciudades, conservamos el 83% de los datos.\n",
      "Con 70 ciudades, conservamos el 87% de los datos.\n",
      "Con 80 ciudades, conservamos el 89% de los datos.\n",
      "Con 90 ciudades, conservamos el 91% de los datos.\n",
      "Con 100 ciudades, conservamos el 93% de los datos.\n",
      "Con 200 ciudades, conservamos el 98% de los datos.\n",
      "Con 500 ciudades, conservamos el 99% de los datos.\n",
      "Con 900 ciudades, conservamos el 99% de los datos.\n"
     ]
    }
   ],
   "source": [
    "for i in [10, 20, 30, 40, 50, 60, 70, 80, 90, 100, 200, 500, 900]:\n",
    "    print(f\"Con {i} ciudades, conservamos el {int(df['ciudad'].value_counts(normalize=True)[:i].sum()*100)}% de los datos.\")"
   ]
  },
  {
   "cell_type": "code",
   "execution_count": 101,
   "metadata": {},
   "outputs": [],
   "source": [
    "# Para evitar outliers, vamos a agrupar a las ciudades que tengan pocos datos."
   ]
  },
  {
   "cell_type": "code",
   "execution_count": 102,
   "metadata": {},
   "outputs": [],
   "source": [
    "ciudades = df_ciudad['ciudad'].value_counts()"
   ]
  },
  {
   "cell_type": "code",
   "execution_count": 103,
   "metadata": {},
   "outputs": [],
   "source": [
    "whitelist = []\n",
    "for i in range(ciudades.count()):\n",
    "    if (ciudades.iloc[i] >= 500):\n",
    "        nombre = ciudades.index[i]\n",
    "        whitelist.append(nombre)"
   ]
  },
  {
   "cell_type": "code",
   "execution_count": 104,
   "metadata": {},
   "outputs": [],
   "source": [
    "df_ciudad['ciudad'] = df_ciudad['ciudad'].map(lambda x: x if x in whitelist else 'Otra') "
   ]
  },
  {
   "cell_type": "code",
   "execution_count": 105,
   "metadata": {},
   "outputs": [],
   "source": [
    "# label encoder\n",
    "encoder = LabelEncoder()\n",
    "encoded = df_ciudad[['ciudad']].apply(encoder.fit_transform).add_suffix(\"_le\")\n",
    "\n",
    "dicc_ciudad[0] = encoded.columns.to_list()\n",
    "features_types['uint16'] += dicc_ciudad[0]\n",
    "df_ciudad = df_ciudad.join(encoded, on='id')"
   ]
  },
  {
   "cell_type": "code",
   "execution_count": 106,
   "metadata": {},
   "outputs": [],
   "source": [
    "# binary encoder\n",
    "encoder = ce.binary.BinaryEncoder()\n",
    "encoded = encoder.fit_transform(df_ciudad['ciudad']).add_suffix(\"_binary\")\n",
    "\n",
    "dicc_ciudad[1] = encoded.columns.to_list()\n",
    "features_types['bernoulli'] += dicc_ciudad[1]\n",
    "df_ciudad = df_ciudad.join(encoded, on='id')"
   ]
  },
  {
   "cell_type": "code",
   "execution_count": 107,
   "metadata": {},
   "outputs": [],
   "source": [
    "# Para one hot encoding claramente es mucho mas complicado, porque son muchos valores unicos distintos,\n",
    "# por lo que haremos lo siguiente: plantearemos varias alternativas.\n",
    "\n",
    "# La primera sera generar onehot encoding para las primeras 50 ciudades, que como vimos, nos permite conservar\n",
    "# un 80% de precision, y a las demas las empaquetamos en una ciudad \"Otra\""
   ]
  },
  {
   "cell_type": "code",
   "execution_count": 108,
   "metadata": {},
   "outputs": [],
   "source": [
    "whitelist = df_ciudad['ciudad'].value_counts().index.to_list()[:50]\n",
    "df_ciudad['ciudad_top50'] = df_ciudad['ciudad'].map(lambda x: x if x in whitelist else 'Otra')"
   ]
  },
  {
   "cell_type": "code",
   "execution_count": 109,
   "metadata": {},
   "outputs": [],
   "source": [
    "# one hot encoder\n",
    "encoder = ce.one_hot.OneHotEncoder()\n",
    "encoded = encoder.fit_transform(df_ciudad['ciudad_top50']).add_suffix(\"_ohe\")\n",
    "\n",
    "dicc_ciudad[2] = encoded.columns.to_list()\n",
    "features_types['bernoulli'] += dicc_ciudad[2]\n",
    "df_ciudad = df_ciudad.join(encoded, on='id').drop('ciudad_top50', axis=1)"
   ]
  },
  {
   "cell_type": "code",
   "execution_count": 110,
   "metadata": {},
   "outputs": [],
   "source": [
    "# Otra alternativa sera distinguir ciudades caras de baratas mediante distintos metodos:\n",
    "\n",
    "# 1. Calcularemos cual es el precio promedio del metro cuadrado, realizaremos un binning para distinguir\n",
    "# entre ciudades baratas, normales, y caras, y haremos one hot encoding para este binning."
   ]
  },
  {
   "cell_type": "code",
   "execution_count": 111,
   "metadata": {},
   "outputs": [],
   "source": [
    "precio_ciudades = df_ciudad.head(filas_train).groupby('ciudad')['metroscubiertos', 'precio'].agg('sum')"
   ]
  },
  {
   "cell_type": "code",
   "execution_count": 112,
   "metadata": {},
   "outputs": [],
   "source": [
    "precio_ciudades['precio_prom_mt_ciudad'] = precio_ciudades.apply(lambda x: (int(x['precio']/x['metroscubiertos'])), axis=1)"
   ]
  },
  {
   "cell_type": "code",
   "execution_count": 113,
   "metadata": {},
   "outputs": [],
   "source": [
    "precio_ciudades = precio_ciudades[['precio_prom_mt_ciudad']]"
   ]
  },
  {
   "cell_type": "code",
   "execution_count": 114,
   "metadata": {},
   "outputs": [],
   "source": [
    "df_ciudad['precio_prom_mt_ciudad'] = df_ciudad['ciudad'].map(lambda x: precio_ciudades.loc[x][0])"
   ]
  },
  {
   "cell_type": "code",
   "execution_count": 115,
   "metadata": {},
   "outputs": [],
   "source": [
    "df_ciudad.drop(['metroscubiertos', 'precio'], axis=1, inplace=True)"
   ]
  },
  {
   "cell_type": "code",
   "execution_count": 116,
   "metadata": {},
   "outputs": [],
   "source": [
    "categorias = df_ciudad['precio_prom_mt_ciudad'].describe()"
   ]
  },
  {
   "cell_type": "code",
   "execution_count": 117,
   "metadata": {},
   "outputs": [],
   "source": [
    "mean = categorias[1]\n",
    "std = categorias[2]"
   ]
  },
  {
   "cell_type": "code",
   "execution_count": 118,
   "metadata": {},
   "outputs": [],
   "source": [
    "df_ciudad['ciudad_cara'] = df_ciudad['precio_prom_mt_ciudad'].map(lambda x: 1 if (x>(mean+std)) else 0)\n",
    "df_ciudad['ciudad_normal'] = df_ciudad['precio_prom_mt_ciudad'].map(lambda x: 1 if ((x>(mean-std)) & (x<(mean+std))) else 0)\n",
    "df_ciudad['ciudad_barata'] = df_ciudad['precio_prom_mt_ciudad'].map(lambda x: 1 if (x<(mean-std)) else 0)"
   ]
  },
  {
   "cell_type": "code",
   "execution_count": 119,
   "metadata": {},
   "outputs": [],
   "source": [
    "df_ciudad.drop(['ciudad', 'precio_prom_mt_ciudad'], axis=1, inplace=True)"
   ]
  },
  {
   "cell_type": "code",
   "execution_count": 120,
   "metadata": {
    "scrolled": true
   },
   "outputs": [
    {
     "data": {
      "text/html": [
       "<div>\n",
       "<style scoped>\n",
       "    .dataframe tbody tr th:only-of-type {\n",
       "        vertical-align: middle;\n",
       "    }\n",
       "\n",
       "    .dataframe tbody tr th {\n",
       "        vertical-align: top;\n",
       "    }\n",
       "\n",
       "    .dataframe thead th {\n",
       "        text-align: right;\n",
       "    }\n",
       "</style>\n",
       "<table border=\"1\" class=\"dataframe\">\n",
       "  <thead>\n",
       "    <tr style=\"text-align: right;\">\n",
       "      <th></th>\n",
       "      <th>ciudad_le</th>\n",
       "      <th>ciudad_0_binary</th>\n",
       "      <th>ciudad_1_binary</th>\n",
       "      <th>ciudad_2_binary</th>\n",
       "      <th>ciudad_3_binary</th>\n",
       "      <th>ciudad_4_binary</th>\n",
       "      <th>ciudad_5_binary</th>\n",
       "      <th>ciudad_6_binary</th>\n",
       "      <th>ciudad_7_binary</th>\n",
       "      <th>ciudad_top50_1_ohe</th>\n",
       "      <th>...</th>\n",
       "      <th>ciudad_top50_44_ohe</th>\n",
       "      <th>ciudad_top50_45_ohe</th>\n",
       "      <th>ciudad_top50_46_ohe</th>\n",
       "      <th>ciudad_top50_47_ohe</th>\n",
       "      <th>ciudad_top50_48_ohe</th>\n",
       "      <th>ciudad_top50_49_ohe</th>\n",
       "      <th>ciudad_top50_50_ohe</th>\n",
       "      <th>ciudad_cara</th>\n",
       "      <th>ciudad_normal</th>\n",
       "      <th>ciudad_barata</th>\n",
       "    </tr>\n",
       "    <tr>\n",
       "      <th>id</th>\n",
       "      <th></th>\n",
       "      <th></th>\n",
       "      <th></th>\n",
       "      <th></th>\n",
       "      <th></th>\n",
       "      <th></th>\n",
       "      <th></th>\n",
       "      <th></th>\n",
       "      <th></th>\n",
       "      <th></th>\n",
       "      <th></th>\n",
       "      <th></th>\n",
       "      <th></th>\n",
       "      <th></th>\n",
       "      <th></th>\n",
       "      <th></th>\n",
       "      <th></th>\n",
       "      <th></th>\n",
       "      <th></th>\n",
       "      <th></th>\n",
       "      <th></th>\n",
       "    </tr>\n",
       "  </thead>\n",
       "  <tbody>\n",
       "    <tr>\n",
       "      <td>254099</td>\n",
       "      <td>8</td>\n",
       "      <td>0</td>\n",
       "      <td>0</td>\n",
       "      <td>0</td>\n",
       "      <td>0</td>\n",
       "      <td>0</td>\n",
       "      <td>0</td>\n",
       "      <td>0</td>\n",
       "      <td>1</td>\n",
       "      <td>1</td>\n",
       "      <td>...</td>\n",
       "      <td>0</td>\n",
       "      <td>0</td>\n",
       "      <td>0</td>\n",
       "      <td>0</td>\n",
       "      <td>0</td>\n",
       "      <td>0</td>\n",
       "      <td>0</td>\n",
       "      <td>1</td>\n",
       "      <td>0</td>\n",
       "      <td>0</td>\n",
       "    </tr>\n",
       "    <tr>\n",
       "      <td>53461</td>\n",
       "      <td>40</td>\n",
       "      <td>0</td>\n",
       "      <td>0</td>\n",
       "      <td>0</td>\n",
       "      <td>0</td>\n",
       "      <td>0</td>\n",
       "      <td>0</td>\n",
       "      <td>1</td>\n",
       "      <td>0</td>\n",
       "      <td>0</td>\n",
       "      <td>...</td>\n",
       "      <td>0</td>\n",
       "      <td>0</td>\n",
       "      <td>0</td>\n",
       "      <td>0</td>\n",
       "      <td>0</td>\n",
       "      <td>0</td>\n",
       "      <td>0</td>\n",
       "      <td>0</td>\n",
       "      <td>1</td>\n",
       "      <td>0</td>\n",
       "    </tr>\n",
       "    <tr>\n",
       "      <td>247984</td>\n",
       "      <td>84</td>\n",
       "      <td>0</td>\n",
       "      <td>0</td>\n",
       "      <td>0</td>\n",
       "      <td>0</td>\n",
       "      <td>0</td>\n",
       "      <td>0</td>\n",
       "      <td>1</td>\n",
       "      <td>1</td>\n",
       "      <td>0</td>\n",
       "      <td>...</td>\n",
       "      <td>0</td>\n",
       "      <td>0</td>\n",
       "      <td>0</td>\n",
       "      <td>0</td>\n",
       "      <td>0</td>\n",
       "      <td>0</td>\n",
       "      <td>0</td>\n",
       "      <td>0</td>\n",
       "      <td>0</td>\n",
       "      <td>1</td>\n",
       "    </tr>\n",
       "    <tr>\n",
       "      <td>209067</td>\n",
       "      <td>55</td>\n",
       "      <td>0</td>\n",
       "      <td>0</td>\n",
       "      <td>0</td>\n",
       "      <td>0</td>\n",
       "      <td>0</td>\n",
       "      <td>1</td>\n",
       "      <td>0</td>\n",
       "      <td>0</td>\n",
       "      <td>0</td>\n",
       "      <td>...</td>\n",
       "      <td>0</td>\n",
       "      <td>0</td>\n",
       "      <td>0</td>\n",
       "      <td>0</td>\n",
       "      <td>0</td>\n",
       "      <td>0</td>\n",
       "      <td>0</td>\n",
       "      <td>0</td>\n",
       "      <td>1</td>\n",
       "      <td>0</td>\n",
       "    </tr>\n",
       "    <tr>\n",
       "      <td>185997</td>\n",
       "      <td>93</td>\n",
       "      <td>0</td>\n",
       "      <td>0</td>\n",
       "      <td>0</td>\n",
       "      <td>0</td>\n",
       "      <td>0</td>\n",
       "      <td>1</td>\n",
       "      <td>0</td>\n",
       "      <td>1</td>\n",
       "      <td>0</td>\n",
       "      <td>...</td>\n",
       "      <td>0</td>\n",
       "      <td>0</td>\n",
       "      <td>0</td>\n",
       "      <td>0</td>\n",
       "      <td>0</td>\n",
       "      <td>0</td>\n",
       "      <td>0</td>\n",
       "      <td>0</td>\n",
       "      <td>1</td>\n",
       "      <td>0</td>\n",
       "    </tr>\n",
       "  </tbody>\n",
       "</table>\n",
       "<p>5 rows × 62 columns</p>\n",
       "</div>"
      ],
      "text/plain": [
       "        ciudad_le  ciudad_0_binary  ciudad_1_binary  ciudad_2_binary  \\\n",
       "id                                                                     \n",
       "254099          8                0                0                0   \n",
       "53461          40                0                0                0   \n",
       "247984         84                0                0                0   \n",
       "209067         55                0                0                0   \n",
       "185997         93                0                0                0   \n",
       "\n",
       "        ciudad_3_binary  ciudad_4_binary  ciudad_5_binary  ciudad_6_binary  \\\n",
       "id                                                                           \n",
       "254099                0                0                0                0   \n",
       "53461                 0                0                0                1   \n",
       "247984                0                0                0                1   \n",
       "209067                0                0                1                0   \n",
       "185997                0                0                1                0   \n",
       "\n",
       "        ciudad_7_binary  ciudad_top50_1_ohe  ...  ciudad_top50_44_ohe  \\\n",
       "id                                           ...                        \n",
       "254099                1                   1  ...                    0   \n",
       "53461                 0                   0  ...                    0   \n",
       "247984                1                   0  ...                    0   \n",
       "209067                0                   0  ...                    0   \n",
       "185997                1                   0  ...                    0   \n",
       "\n",
       "        ciudad_top50_45_ohe  ciudad_top50_46_ohe  ciudad_top50_47_ohe  \\\n",
       "id                                                                      \n",
       "254099                    0                    0                    0   \n",
       "53461                     0                    0                    0   \n",
       "247984                    0                    0                    0   \n",
       "209067                    0                    0                    0   \n",
       "185997                    0                    0                    0   \n",
       "\n",
       "        ciudad_top50_48_ohe  ciudad_top50_49_ohe  ciudad_top50_50_ohe  \\\n",
       "id                                                                      \n",
       "254099                    0                    0                    0   \n",
       "53461                     0                    0                    0   \n",
       "247984                    0                    0                    0   \n",
       "209067                    0                    0                    0   \n",
       "185997                    0                    0                    0   \n",
       "\n",
       "        ciudad_cara  ciudad_normal  ciudad_barata  \n",
       "id                                                 \n",
       "254099            1              0              0  \n",
       "53461             0              1              0  \n",
       "247984            0              0              1  \n",
       "209067            0              1              0  \n",
       "185997            0              1              0  \n",
       "\n",
       "[5 rows x 62 columns]"
      ]
     },
     "execution_count": 120,
     "metadata": {},
     "output_type": "execute_result"
    }
   ],
   "source": [
    "# finalmente, generamos lo que queriamos.\n",
    "df_ciudad.head()"
   ]
  },
  {
   "cell_type": "code",
   "execution_count": 121,
   "metadata": {},
   "outputs": [],
   "source": [
    "dicc_ciudad[3] = ['ciudad_cara', 'ciudad_barata', 'ciudad_normal']\n",
    "features_types['bernoulli'] += dicc_ciudad[3]"
   ]
  },
  {
   "cell_type": "code",
   "execution_count": 122,
   "metadata": {},
   "outputs": [],
   "source": [
    "# agregamos alternativas a mano\n",
    "dicc_ciudad[4] = dicc_ciudad[3] + dicc_ciudad[0]\n",
    "dicc_ciudad[5] = dicc_ciudad[3] + dicc_ciudad[1]\n",
    "dicc_ciudad[6] = dicc_ciudad[3] + dicc_ciudad[2]"
   ]
  },
  {
   "cell_type": "code",
   "execution_count": 123,
   "metadata": {},
   "outputs": [],
   "source": [
    "# guardamos el csv\n",
    "if guardar:\n",
    "    df_ciudad.to_csv('features/ciudad_encoded.csv')\n",
    "features['ciudad_encoded'] = dicc_ciudad\n",
    "dataframes.append(df_ciudad)"
   ]
  },
  {
   "cell_type": "markdown",
   "metadata": {},
   "source": [
    "# Generacion de nuevas features"
   ]
  },
  {
   "cell_type": "markdown",
   "metadata": {},
   "source": [
    "### FECHA"
   ]
  },
  {
   "cell_type": "code",
   "execution_count": 124,
   "metadata": {},
   "outputs": [],
   "source": [
    "# Es de gran importancia manejar la fecha para el modelo, ya que en gran parte la fecha tiene informacion\n",
    "# importante sobre la evolucion de los precios.\n",
    "\n",
    "dicc_fecha = {}\n",
    "df_fecha = df[['fecha', 'metroscubiertos', 'precio']].copy()"
   ]
  },
  {
   "cell_type": "code",
   "execution_count": 125,
   "metadata": {},
   "outputs": [],
   "source": [
    "df_fecha['anio'] = df_fecha['fecha'].dt.year\n",
    "df_fecha['mes'] = df_fecha['fecha'].dt.month\n",
    "df_fecha['dia'] = df_fecha['fecha'].dt.day\n",
    "df_fecha['timestamp'] = df_fecha['fecha'].apply(lambda x: datetime.timestamp(x))\n",
    "df_fecha['aniomes'] = df_fecha.apply(lambda row: aniomes(row['anio'], row['mes']), axis=1)"
   ]
  },
  {
   "cell_type": "code",
   "execution_count": 126,
   "metadata": {},
   "outputs": [],
   "source": [
    "# calculamos el precio promedio del metro cubierto por aniomes (OJO, COLUMNA PELIGROSA ==> OVERFITTING)\n",
    "precio_mtcubierto_aniomes = df_fecha.head(filas_train).groupby(['aniomes'])['metroscubiertos', 'precio'].agg(sum).apply(lambda x: x['precio']/x['metroscubiertos'], axis=1)\n",
    "df_fecha['precio_promedio_metrocubierto_aniomes'] = df_fecha['aniomes'].apply(lambda x: precio_mtcubierto_aniomes[x])"
   ]
  },
  {
   "cell_type": "code",
   "execution_count": 127,
   "metadata": {},
   "outputs": [],
   "source": [
    "# calculamos el precio promedio del metro cubierto por mes (OJO, COLUMNA PELIGROSA ==> OVERFITTING)\n",
    "precio_mtcubierto_mes = df_fecha.head(filas_train).groupby(['mes'])['metroscubiertos', 'precio'].agg(sum).apply(lambda x: x['precio']/x['metroscubiertos'], axis=1)\n",
    "df_fecha['precio_promedio_metrocubierto_mes'] = df_fecha['mes'].apply(lambda x: precio_mtcubierto_mes[x])"
   ]
  },
  {
   "cell_type": "code",
   "execution_count": 128,
   "metadata": {},
   "outputs": [],
   "source": [
    "df_fecha = df_fecha.drop(['fecha', 'precio', 'metroscubiertos'], axis=1)\n",
    "pasar_a_enteros = ['precio_promedio_metrocubierto_mes', 'precio_promedio_metrocubierto_aniomes']\n",
    "df_fecha[pasar_a_enteros] = df_fecha[pasar_a_enteros].astype('uint16')"
   ]
  },
  {
   "cell_type": "code",
   "execution_count": 129,
   "metadata": {},
   "outputs": [
    {
     "data": {
      "text/html": [
       "<div>\n",
       "<style scoped>\n",
       "    .dataframe tbody tr th:only-of-type {\n",
       "        vertical-align: middle;\n",
       "    }\n",
       "\n",
       "    .dataframe tbody tr th {\n",
       "        vertical-align: top;\n",
       "    }\n",
       "\n",
       "    .dataframe thead th {\n",
       "        text-align: right;\n",
       "    }\n",
       "</style>\n",
       "<table border=\"1\" class=\"dataframe\">\n",
       "  <thead>\n",
       "    <tr style=\"text-align: right;\">\n",
       "      <th></th>\n",
       "      <th>anio</th>\n",
       "      <th>mes</th>\n",
       "      <th>dia</th>\n",
       "      <th>timestamp</th>\n",
       "      <th>aniomes</th>\n",
       "      <th>precio_promedio_metrocubierto_aniomes</th>\n",
       "      <th>precio_promedio_metrocubierto_mes</th>\n",
       "    </tr>\n",
       "    <tr>\n",
       "      <th>id</th>\n",
       "      <th></th>\n",
       "      <th></th>\n",
       "      <th></th>\n",
       "      <th></th>\n",
       "      <th></th>\n",
       "      <th></th>\n",
       "      <th></th>\n",
       "    </tr>\n",
       "  </thead>\n",
       "  <tbody>\n",
       "    <tr>\n",
       "      <td>254099</td>\n",
       "      <td>2015</td>\n",
       "      <td>8</td>\n",
       "      <td>23</td>\n",
       "      <td>1.440299e+09</td>\n",
       "      <td>201508</td>\n",
       "      <td>16183</td>\n",
       "      <td>15363</td>\n",
       "    </tr>\n",
       "    <tr>\n",
       "      <td>53461</td>\n",
       "      <td>2013</td>\n",
       "      <td>6</td>\n",
       "      <td>28</td>\n",
       "      <td>1.372388e+09</td>\n",
       "      <td>201306</td>\n",
       "      <td>14297</td>\n",
       "      <td>15521</td>\n",
       "    </tr>\n",
       "    <tr>\n",
       "      <td>247984</td>\n",
       "      <td>2015</td>\n",
       "      <td>10</td>\n",
       "      <td>17</td>\n",
       "      <td>1.445051e+09</td>\n",
       "      <td>201510</td>\n",
       "      <td>15996</td>\n",
       "      <td>15547</td>\n",
       "    </tr>\n",
       "    <tr>\n",
       "      <td>209067</td>\n",
       "      <td>2012</td>\n",
       "      <td>3</td>\n",
       "      <td>9</td>\n",
       "      <td>1.331262e+09</td>\n",
       "      <td>201203</td>\n",
       "      <td>13039</td>\n",
       "      <td>15423</td>\n",
       "    </tr>\n",
       "    <tr>\n",
       "      <td>185997</td>\n",
       "      <td>2016</td>\n",
       "      <td>6</td>\n",
       "      <td>7</td>\n",
       "      <td>1.465268e+09</td>\n",
       "      <td>201606</td>\n",
       "      <td>16142</td>\n",
       "      <td>15521</td>\n",
       "    </tr>\n",
       "  </tbody>\n",
       "</table>\n",
       "</div>"
      ],
      "text/plain": [
       "        anio  mes  dia     timestamp  aniomes  \\\n",
       "id                                              \n",
       "254099  2015    8   23  1.440299e+09   201508   \n",
       "53461   2013    6   28  1.372388e+09   201306   \n",
       "247984  2015   10   17  1.445051e+09   201510   \n",
       "209067  2012    3    9  1.331262e+09   201203   \n",
       "185997  2016    6    7  1.465268e+09   201606   \n",
       "\n",
       "        precio_promedio_metrocubierto_aniomes  \\\n",
       "id                                              \n",
       "254099                                  16183   \n",
       "53461                                   14297   \n",
       "247984                                  15996   \n",
       "209067                                  13039   \n",
       "185997                                  16142   \n",
       "\n",
       "        precio_promedio_metrocubierto_mes  \n",
       "id                                         \n",
       "254099                              15363  \n",
       "53461                               15521  \n",
       "247984                              15547  \n",
       "209067                              15423  \n",
       "185997                              15521  "
      ]
     },
     "execution_count": 129,
     "metadata": {},
     "output_type": "execute_result"
    }
   ],
   "source": [
    "df_fecha.head()"
   ]
  },
  {
   "cell_type": "code",
   "execution_count": 130,
   "metadata": {},
   "outputs": [],
   "source": [
    "# Ahora, antes de guardar los resultados, vamos a analizar si es conveniente realizar alguna transformacion a\n",
    "# estos datos."
   ]
  },
  {
   "cell_type": "code",
   "execution_count": 131,
   "metadata": {
    "scrolled": true
   },
   "outputs": [
    {
     "data": {
      "image/png": "[encoded data removed]",
      "text/plain": [
       "<Figure size 432x288 with 1 Axes>"
      ]
     },
     "metadata": {
      "needs_background": "light"
     },
     "output_type": "display_data"
    }
   ],
   "source": [
    "df_fecha['timestamp'].hist(bins=50, color='r'); "
   ]
  },
  {
   "cell_type": "code",
   "execution_count": 132,
   "metadata": {},
   "outputs": [],
   "source": [
    "# Vamos a escalar la columna timestamp entre 0 y 1, y lo mismo con la columna aniomes."
   ]
  },
  {
   "cell_type": "code",
   "execution_count": 133,
   "metadata": {},
   "outputs": [],
   "source": [
    "tmin = df_fecha['timestamp'].min()\n",
    "df_fecha['timestamp_scaled'] = df_fecha['timestamp'].map(lambda x: x-tmin)\n",
    "tmax = df_fecha['timestamp_scaled'].max()\n",
    "df_fecha['timestamp_scaled'] = df_fecha['timestamp_scaled'].map(lambda x: x/tmax)"
   ]
  },
  {
   "cell_type": "code",
   "execution_count": 134,
   "metadata": {},
   "outputs": [],
   "source": [
    "tmin = df_fecha['aniomes'].min()\n",
    "df_fecha['aniomes_scaled'] = df_fecha['aniomes'].map(lambda x: x-tmin)\n",
    "tmax = df_fecha['aniomes_scaled'].max()\n",
    "df_fecha['aniomes_scaled'] = df_fecha['aniomes_scaled'].map(lambda x: x/tmax)"
   ]
  },
  {
   "cell_type": "code",
   "execution_count": 135,
   "metadata": {
    "scrolled": true
   },
   "outputs": [
    {
     "data": {
      "text/html": [
       "<div>\n",
       "<style scoped>\n",
       "    .dataframe tbody tr th:only-of-type {\n",
       "        vertical-align: middle;\n",
       "    }\n",
       "\n",
       "    .dataframe tbody tr th {\n",
       "        vertical-align: top;\n",
       "    }\n",
       "\n",
       "    .dataframe thead th {\n",
       "        text-align: right;\n",
       "    }\n",
       "</style>\n",
       "<table border=\"1\" class=\"dataframe\">\n",
       "  <thead>\n",
       "    <tr style=\"text-align: right;\">\n",
       "      <th></th>\n",
       "      <th>anio</th>\n",
       "      <th>mes</th>\n",
       "      <th>dia</th>\n",
       "      <th>timestamp</th>\n",
       "      <th>aniomes</th>\n",
       "      <th>precio_promedio_metrocubierto_aniomes</th>\n",
       "      <th>precio_promedio_metrocubierto_mes</th>\n",
       "      <th>timestamp_scaled</th>\n",
       "      <th>aniomes_scaled</th>\n",
       "    </tr>\n",
       "    <tr>\n",
       "      <th>id</th>\n",
       "      <th></th>\n",
       "      <th></th>\n",
       "      <th></th>\n",
       "      <th></th>\n",
       "      <th></th>\n",
       "      <th></th>\n",
       "      <th></th>\n",
       "      <th></th>\n",
       "      <th></th>\n",
       "    </tr>\n",
       "  </thead>\n",
       "  <tbody>\n",
       "    <tr>\n",
       "      <td>254099</td>\n",
       "      <td>2015</td>\n",
       "      <td>8</td>\n",
       "      <td>23</td>\n",
       "      <td>1.440299e+09</td>\n",
       "      <td>201508</td>\n",
       "      <td>16183</td>\n",
       "      <td>15363</td>\n",
       "      <td>0.728368</td>\n",
       "      <td>0.746959</td>\n",
       "    </tr>\n",
       "    <tr>\n",
       "      <td>53461</td>\n",
       "      <td>2013</td>\n",
       "      <td>6</td>\n",
       "      <td>28</td>\n",
       "      <td>1.372388e+09</td>\n",
       "      <td>201306</td>\n",
       "      <td>14297</td>\n",
       "      <td>15521</td>\n",
       "      <td>0.297919</td>\n",
       "      <td>0.255474</td>\n",
       "    </tr>\n",
       "    <tr>\n",
       "      <td>247984</td>\n",
       "      <td>2015</td>\n",
       "      <td>10</td>\n",
       "      <td>17</td>\n",
       "      <td>1.445051e+09</td>\n",
       "      <td>201510</td>\n",
       "      <td>15996</td>\n",
       "      <td>15547</td>\n",
       "      <td>0.758488</td>\n",
       "      <td>0.751825</td>\n",
       "    </tr>\n",
       "    <tr>\n",
       "      <td>209067</td>\n",
       "      <td>2012</td>\n",
       "      <td>3</td>\n",
       "      <td>9</td>\n",
       "      <td>1.331262e+09</td>\n",
       "      <td>201203</td>\n",
       "      <td>13039</td>\n",
       "      <td>15423</td>\n",
       "      <td>0.037240</td>\n",
       "      <td>0.004866</td>\n",
       "    </tr>\n",
       "    <tr>\n",
       "      <td>185997</td>\n",
       "      <td>2016</td>\n",
       "      <td>6</td>\n",
       "      <td>7</td>\n",
       "      <td>1.465268e+09</td>\n",
       "      <td>201606</td>\n",
       "      <td>16142</td>\n",
       "      <td>15521</td>\n",
       "      <td>0.886637</td>\n",
       "      <td>0.985401</td>\n",
       "    </tr>\n",
       "  </tbody>\n",
       "</table>\n",
       "</div>"
      ],
      "text/plain": [
       "        anio  mes  dia     timestamp  aniomes  \\\n",
       "id                                              \n",
       "254099  2015    8   23  1.440299e+09   201508   \n",
       "53461   2013    6   28  1.372388e+09   201306   \n",
       "247984  2015   10   17  1.445051e+09   201510   \n",
       "209067  2012    3    9  1.331262e+09   201203   \n",
       "185997  2016    6    7  1.465268e+09   201606   \n",
       "\n",
       "        precio_promedio_metrocubierto_aniomes  \\\n",
       "id                                              \n",
       "254099                                  16183   \n",
       "53461                                   14297   \n",
       "247984                                  15996   \n",
       "209067                                  13039   \n",
       "185997                                  16142   \n",
       "\n",
       "        precio_promedio_metrocubierto_mes  timestamp_scaled  aniomes_scaled  \n",
       "id                                                                           \n",
       "254099                              15363          0.728368        0.746959  \n",
       "53461                               15521          0.297919        0.255474  \n",
       "247984                              15547          0.758488        0.751825  \n",
       "209067                              15423          0.037240        0.004866  \n",
       "185997                              15521          0.886637        0.985401  "
      ]
     },
     "execution_count": 135,
     "metadata": {},
     "output_type": "execute_result"
    }
   ],
   "source": [
    "df_fecha.head()"
   ]
  },
  {
   "cell_type": "code",
   "execution_count": 136,
   "metadata": {},
   "outputs": [],
   "source": [
    "dicc_fecha[0] = df_fecha.columns.to_list()\n",
    "dicc_fecha[1] = ['anio', 'mes', 'dia']\n",
    "dicc_fecha[2] = ['anio', 'mes', 'aniomes', 'aniomes_scaled']\n",
    "dicc_fecha[3] = ['anio', 'mes', 'timestamp', 'timestamp_scaled']\n",
    "dicc_fecha[4] = ['timestamp_scaled', 'aniomes_scaled']\n",
    "dicc_fecha[5] = ['anio', 'mes', 'timestamp_scaled', 'aniomes_scaled']\n",
    "dicc_fecha[6] = ['anio', 'mes', 'precio_promedio_metrocubierto_aniomes', 'precio_promedio_metrocubierto_mes',\n",
    "                 'timestamp_scaled', 'aniomes_scaled']\n",
    "\n",
    "features_types['uint8'] += ['mes', 'dia']\n",
    "features_types['uint16'] += ['anio', 'precio_promedio_metrocubierto_aniomes',\n",
    "                            'precio_promedio_metrocubierto_mes']\n",
    "features_types['uint32'] += ['aniomes']\n",
    "features_types['float'] += ['timestamp', 'timestamp_scaled', 'aniomes_scaled']"
   ]
  },
  {
   "cell_type": "code",
   "execution_count": 137,
   "metadata": {},
   "outputs": [],
   "source": [
    "# Generaremos ahora OHE para aniomes.\n",
    "encoder = ce.OneHotEncoder()\n",
    "encoded = encoder.fit_transform(df_fecha['aniomes'].astype('category')).add_suffix(\"_ohe\")\n",
    "\n",
    "dicc_fecha[7] = encoded.columns.to_list()\n",
    "features_types['bernoulli'] += dicc_fecha[7]\n",
    "df_fecha = df_fecha.join(encoded, on='id')"
   ]
  },
  {
   "cell_type": "code",
   "execution_count": 138,
   "metadata": {},
   "outputs": [],
   "source": [
    "# guardamos el csv\n",
    "if guardar:\n",
    "    df_fecha.to_csv('features/fecha.csv')\n",
    "features['fecha'] = dicc_fecha\n",
    "dataframes.append(df_fecha)"
   ]
  },
  {
   "cell_type": "markdown",
   "metadata": {},
   "source": [
    "### DESCRIPCION"
   ]
  },
  {
   "cell_type": "code",
   "execution_count": 139,
   "metadata": {},
   "outputs": [],
   "source": [
    "# La idea es analizar la descripcion en busqueda de data interesante que no este incorporada en el\n",
    "# dataset original. Para esto, procesaremos el texto en busqueda de indicadores.\n",
    "\n",
    "dicc_descripcion = {}\n",
    "df_descripcion = df[['descripcion', 'titulo']].copy()"
   ]
  },
  {
   "cell_type": "code",
   "execution_count": 140,
   "metadata": {},
   "outputs": [],
   "source": [
    "indicadores = [\"jardin\", \"patio\", \"jardín\"]\n",
    "df_descripcion[\"jardin_des\"] = df_descripcion[\"descripcion\"].map(lambda x: contiene_indicadores(x, indicadores))\n",
    "df_descripcion[\"jardin_tit\"] = df_descripcion[\"titulo\"].map(lambda x: contiene_indicadores(x, indicadores))\n",
    "df_descripcion[\"jardin\"] = df_descripcion.apply(lambda x: ((x['jardin_des']) | (x['jardin_tit'])), axis=1)\n",
    "\n",
    "indicadores = [\"vigilancia\", \"seguridad\"]\n",
    "df_descripcion[\"vigilancia_des\"] = df_descripcion[\"descripcion\"].map(lambda x: contiene_indicadores(x, indicadores))\n",
    "df_descripcion[\"vigilancia_tit\"] = df_descripcion[\"titulo\"].map(lambda x: contiene_indicadores(x, indicadores))\n",
    "df_descripcion[\"vigilancia\"] = df_descripcion.apply(lambda x: ((x['vigilancia_des']) | (x['vigilancia_tit'])), axis=1)\n",
    "\n",
    "indicadores = [\"aire acondicionado\", \"aires acondicionados\"]\n",
    "df_descripcion[\"aire_acondicionado_des\"] = df_descripcion[\"descripcion\"].map(lambda x: contiene_indicadores(x, indicadores))\n",
    "df_descripcion[\"aire_acondicionado_tit\"] = df_descripcion[\"titulo\"].map(lambda x: contiene_indicadores(x, indicadores))\n",
    "df_descripcion[\"aire_acondicionado\"] = df_descripcion.apply(lambda x: ((x['aire_acondicionado_des']) | (x['aire_acondicionado_tit'])), axis=1)\n",
    "\n",
    "indicadores = [\"ventilador\", \"ventiladores\"]\n",
    "df_descripcion[\"ventilador_des\"] = df_descripcion[\"descripcion\"].map(lambda x: contiene_indicadores(x, indicadores))\n",
    "df_descripcion[\"ventilador_tit\"] = df_descripcion[\"titulo\"].map(lambda x: contiene_indicadores(x, indicadores))\n",
    "df_descripcion[\"ventilador\"] = df_descripcion.apply(lambda x: ((x['ventilador_des']) | (x['ventilador_tit'])), axis=1)\n",
    "\n",
    "indicadores = [\"calefaccion\", \"caloventor\", \"estufa\", \"calefacción\", \"calentador\"]\n",
    "df_descripcion[\"calefaccion_des\"] = df_descripcion[\"descripcion\"].map(lambda x: contiene_indicadores(x, indicadores))\n",
    "df_descripcion[\"calefaccion_tit\"] = df_descripcion[\"titulo\"].map(lambda x: contiene_indicadores(x, indicadores))\n",
    "df_descripcion[\"calefaccion\"] = df_descripcion.apply(lambda x: ((x['calefaccion_des']) | (x['calefaccion_tit'])), axis=1)\n",
    "\n",
    "indicadores = [\"parrilla\", \"asador\", \"asado\", \"parrillada\"]\n",
    "df_descripcion[\"parrilla_des\"] = df_descripcion[\"descripcion\"].map(lambda x: contiene_indicadores(x, indicadores))\n",
    "df_descripcion[\"parrilla_tit\"] = df_descripcion[\"titulo\"].map(lambda x: contiene_indicadores(x, indicadores))\n",
    "df_descripcion[\"parrilla\"] = df_descripcion.apply(lambda x: ((x['parrilla_des']) | (x['parrilla_tit'])), axis=1)\n",
    "\n",
    "indicadores = [\"terraza\"]\n",
    "df_descripcion[\"terraza_des\"] = df_descripcion[\"descripcion\"].map(lambda x: contiene_indicadores(x, indicadores))\n",
    "df_descripcion[\"terraza_tit\"] = df_descripcion[\"titulo\"].map(lambda x: contiene_indicadores(x, indicadores))\n",
    "df_descripcion[\"terraza\"] = df_descripcion.apply(lambda x: ((x['terraza_des']) | (x['terraza_tit'])), axis=1)\n",
    "\n",
    "indicadores = [\"jacuzzi\", \"sauna\"]\n",
    "df_descripcion[\"lujo_des\"] = df_descripcion[\"descripcion\"].map(lambda x: contiene_indicadores(x, indicadores))\n",
    "df_descripcion[\"lujo_tit\"] = df_descripcion[\"titulo\"].map(lambda x: contiene_indicadores(x, indicadores))\n",
    "df_descripcion[\"lujo\"] = df_descripcion.apply(lambda x: ((x['lujo_des']) | (x['lujo_tit'])), axis=1)\n",
    "\n",
    "indicadores = [\"cuarto de servicio\", \"salon de servicio\", \"salón de servicio\", \"salon servicio\",\n",
    "              \"salón servicio\", \"cuarto servicio\", \"sala servicio\", \"sala de servicio\"]\n",
    "df_descripcion[\"servicio_des\"] = df_descripcion[\"descripcion\"].map(lambda x: contiene_indicadores(x, indicadores))\n",
    "df_descripcion[\"servicio_tit\"] = df_descripcion[\"titulo\"].map(lambda x: contiene_indicadores(x, indicadores))\n",
    "df_descripcion[\"servicio\"] = df_descripcion.apply(lambda x: ((x['servicio_des']) | (x['servicio_tit'])), axis=1)\n",
    "\n",
    "\n",
    "drop_list = ['jardin_des', 'jardin_tit', 'vigilancia_des', 'vigilancia_tit', 'aire_acondicionado_des',\n",
    "            'aire_acondicionado_tit', 'ventilador_des', 'ventilador_tit', 'calefaccion_des', 'calefaccion_tit',\n",
    "            'parrilla_des', 'parrilla_tit', 'terraza_des', 'terraza_tit', 'lujo_des', 'lujo_tit',\n",
    "            'servicio_des', 'servicio_tit']\n",
    "df_descripcion.drop(drop_list, axis=1, inplace=True)"
   ]
  },
  {
   "cell_type": "code",
   "execution_count": 141,
   "metadata": {
    "scrolled": true
   },
   "outputs": [
    {
     "data": {
      "text/plain": [
       "jardin                128653\n",
       "vigilancia             66033\n",
       "aire_acondicionado      8302\n",
       "ventilador              3503\n",
       "calefaccion            17439\n",
       "parrilla               17634\n",
       "terraza                54148\n",
       "lujo                   12926\n",
       "servicio               50057\n",
       "dtype: int64"
      ]
     },
     "execution_count": 141,
     "metadata": {},
     "output_type": "execute_result"
    }
   ],
   "source": [
    "df_descripcion[['jardin', 'vigilancia', 'aire_acondicionado', 'ventilador', 'calefaccion', 'parrilla', 'terraza', 'lujo', 'servicio']].sum()"
   ]
  },
  {
   "cell_type": "code",
   "execution_count": 142,
   "metadata": {},
   "outputs": [],
   "source": [
    "df_descripcion.drop(['titulo', 'descripcion'], axis=1, inplace=True)"
   ]
  },
  {
   "cell_type": "code",
   "execution_count": 143,
   "metadata": {},
   "outputs": [],
   "source": [
    "columnas = df_descripcion.columns.to_list()"
   ]
  },
  {
   "cell_type": "code",
   "execution_count": 144,
   "metadata": {},
   "outputs": [],
   "source": [
    "dicc_descripcion[0] = columnas\n",
    "features_types['bernoulli'] += columnas"
   ]
  },
  {
   "cell_type": "code",
   "execution_count": 145,
   "metadata": {},
   "outputs": [],
   "source": [
    "# guardamos el csv\n",
    "if guardar:\n",
    "    df_descripcion.to_csv('features/descripcion.csv')\n",
    "features['descripcion'] = dicc_descripcion\n",
    "dataframes.append(df_descripcion)"
   ]
  },
  {
   "cell_type": "markdown",
   "metadata": {},
   "source": [
    "### METRICAS DE LOS FEATURES"
   ]
  },
  {
   "cell_type": "code",
   "execution_count": 146,
   "metadata": {},
   "outputs": [],
   "source": [
    "dicc_metricas = {}\n",
    "df_metricas = df[['metroscubiertos','ciudad']].copy().reset_index()"
   ]
  },
  {
   "cell_type": "markdown",
   "metadata": {},
   "source": [
    "##### MEAN Y STD DE SUPERFICIE CUBIERTA POR CIUDAD"
   ]
  },
  {
   "cell_type": "code",
   "execution_count": 147,
   "metadata": {},
   "outputs": [],
   "source": [
    "avg_metroscubiertos = df_metricas.groupby('ciudad').agg({\"metroscubiertos\":[\"mean\",\"std\"]}).reset_index()\n",
    "avg_metroscubiertos.columns = ['ciudad','metroscubiertos_mean','metroscubiertos_std']\n",
    "df_metricas = pd.merge(df_metricas,avg_metroscubiertos,how='inner',on='ciudad').set_index('id')\n",
    "df_metricas.drop(['metroscubiertos', 'ciudad'], axis=1, inplace=True)"
   ]
  },
  {
   "cell_type": "code",
   "execution_count": 148,
   "metadata": {
    "scrolled": true
   },
   "outputs": [],
   "source": [
    "dicc_metricas[0] = df_metricas.columns.to_list()\n",
    "features_types['float'] += df_metricas.columns.to_list()"
   ]
  },
  {
   "cell_type": "code",
   "execution_count": 149,
   "metadata": {},
   "outputs": [],
   "source": [
    "# guardamos el csv\n",
    "if guardar:\n",
    "    df_metricas.to_csv('features/metricas.csv')\n",
    "dataframes.append(df_metricas)"
   ]
  },
  {
   "cell_type": "markdown",
   "metadata": {},
   "source": [
    "MEAN Y STD DE SUPERFICIE CUBIERTA POR TIPO DE PROPIEDAD"
   ]
  },
  {
   "cell_type": "code",
   "execution_count": 150,
   "metadata": {},
   "outputs": [],
   "source": [
    "df_metricas2 = df[['metroscubiertos','tipodepropiedad']].copy().reset_index()"
   ]
  },
  {
   "cell_type": "code",
   "execution_count": 151,
   "metadata": {},
   "outputs": [],
   "source": [
    "avg_metroscubiertos_tipo = df_metricas2.groupby('tipodepropiedad').agg({\"metroscubiertos\":[\"mean\",\"std\"]}).reset_index()\n",
    "avg_metroscubiertos_tipo.columns = ['tipodepropiedad','metroscubiertos_city_mean','metroscubiertos_city_std']\n",
    "df_metricas2 = pd.merge(df_metricas2,avg_metroscubiertos_tipo,how='inner',on='tipodepropiedad').set_index('id')\n",
    "df_metricas2.drop(['metroscubiertos', 'tipodepropiedad'], axis=1, inplace=True)"
   ]
  },
  {
   "cell_type": "code",
   "execution_count": 152,
   "metadata": {},
   "outputs": [],
   "source": [
    "dicc_metricas[1] = df_metricas2.columns.to_list()\n",
    "features_types['float'] += df_metricas2.columns.to_list()"
   ]
  },
  {
   "cell_type": "code",
   "execution_count": 153,
   "metadata": {},
   "outputs": [],
   "source": [
    "features['metricas'] = dicc_metricas\n",
    "dataframes.append(df_metricas2)"
   ]
  },
  {
   "cell_type": "markdown",
   "metadata": {},
   "source": [
    "### BINNING (+OHE)"
   ]
  },
  {
   "cell_type": "code",
   "execution_count": 154,
   "metadata": {},
   "outputs": [],
   "source": [
    "# binning para antiguedad\n",
    "dicc_antiguedad = {}\n",
    "df_antiguedad = df[['antiguedad']].copy()"
   ]
  },
  {
   "cell_type": "code",
   "execution_count": 155,
   "metadata": {
    "scrolled": true
   },
   "outputs": [],
   "source": [
    "# binning general (9 bins)\n",
    "df_antiguedad['antiguedad'].fillna(-1, inplace=True)\n",
    "df_antiguedad['antiguedad'] = df_antiguedad['antiguedad'].astype(int)\n",
    "df_antiguedad['antiguedad_binning'] = df_antiguedad['antiguedad'].map(lambda x: binning_antiguedad_1(x))"
   ]
  },
  {
   "cell_type": "code",
   "execution_count": 156,
   "metadata": {
    "scrolled": true
   },
   "outputs": [],
   "source": [
    "# ohe\n",
    "encoder = ce.OneHotEncoder()\n",
    "encoded = encoder.fit_transform(df_antiguedad['antiguedad_binning']).add_suffix(\"_ohe1\")\n",
    "\n",
    "dicc_antiguedad[0] = encoded.columns.to_list()\n",
    "features_types['bernoulli'] += dicc_antiguedad[0]\n",
    "df_antiguedad = df_antiguedad.join(encoded, on='id')"
   ]
  },
  {
   "cell_type": "code",
   "execution_count": 157,
   "metadata": {},
   "outputs": [],
   "source": [
    "# binning especifico (4 bins)\n",
    "df_antiguedad['antiguedad_binning_2'] = df_antiguedad['antiguedad'].map(lambda x: binning_antiguedad_2(x))"
   ]
  },
  {
   "cell_type": "code",
   "execution_count": 158,
   "metadata": {},
   "outputs": [],
   "source": [
    "# ohe\n",
    "encoder = ce.OneHotEncoder()\n",
    "encoded = encoder.fit_transform(df_antiguedad['antiguedad_binning_2']).add_suffix(\"_ohe2\")\n",
    "\n",
    "dicc_antiguedad[1] = encoded.columns.to_list()\n",
    "features_types['bernoulli'] += dicc_antiguedad[1]\n",
    "df_antiguedad = df_antiguedad.join(encoded, on='id')\n",
    "df_antiguedad.drop(['antiguedad', 'antiguedad_binning', 'antiguedad_binning_2'], axis=1, inplace=True)"
   ]
  },
  {
   "cell_type": "code",
   "execution_count": 159,
   "metadata": {},
   "outputs": [],
   "source": [
    "# guardamos el csv\n",
    "if guardar:\n",
    "    df_antiguedad.to_csv('features/antiguedad.csv')\n",
    "features['antiguedad'] = dicc_antiguedad\n",
    "dataframes.append(df_antiguedad)"
   ]
  },
  {
   "cell_type": "code",
   "execution_count": 160,
   "metadata": {
    "scrolled": true
   },
   "outputs": [],
   "source": [
    "# binning para habitaciones\n",
    "dicc_habitaciones = {}\n",
    "df_habitaciones = df[['habitaciones']].copy()"
   ]
  },
  {
   "cell_type": "code",
   "execution_count": 161,
   "metadata": {},
   "outputs": [],
   "source": [
    "df_habitaciones['habitaciones'].fillna(-1, inplace=True)\n",
    "df_habitaciones['habitaciones'] = df_habitaciones['habitaciones'].astype(int)\n",
    "df_habitaciones['hab_binning'] = df_habitaciones['habitaciones'].map(lambda x: binning_habitaciones(x))"
   ]
  },
  {
   "cell_type": "code",
   "execution_count": 162,
   "metadata": {},
   "outputs": [],
   "source": [
    "# ohe\n",
    "encoder = ce.OneHotEncoder()\n",
    "encoded = encoder.fit_transform(df_habitaciones['hab_binning']).add_suffix(\"_ohe\")\n",
    "\n",
    "dicc_habitaciones[0] = encoded.columns.to_list()\n",
    "features_types['bernoulli'] += dicc_habitaciones[0]\n",
    "df_habitaciones = encoded"
   ]
  },
  {
   "cell_type": "code",
   "execution_count": 163,
   "metadata": {},
   "outputs": [],
   "source": [
    "# guardamos el csv\n",
    "if guardar:\n",
    "    df_habitaciones.to_csv('features/habitaciones.csv')\n",
    "features['habitaciones'] = dicc_habitaciones\n",
    "dataframes.append(df_habitaciones)"
   ]
  },
  {
   "cell_type": "markdown",
   "metadata": {},
   "source": [
    "### COTIZACION DEL USD"
   ]
  },
  {
   "cell_type": "code",
   "execution_count": 164,
   "metadata": {},
   "outputs": [],
   "source": [
    "# Quizas resulte de interes conocer la cotizacion del dolar en pesos mexicanos, ya que el dolar se toma \n",
    "# como moneda de referencia en el mercado inmobiliario en gran parte de America.\n",
    "\n",
    "# Para eso, se utilizo un dataset de https://es.investing.com/currencies/usd-mxn-historical-data\n",
    "\n",
    "dicc_extras = {}\n",
    "df_extras = df_fecha[['aniomes']].copy().reset_index()"
   ]
  },
  {
   "cell_type": "code",
   "execution_count": 165,
   "metadata": {},
   "outputs": [],
   "source": [
    "# Cargamos el dataset preprocesado en pre_processing.\n",
    "usd = pd.read_csv('data/usd_mxn_featured.csv', index_col=['aniomes'])"
   ]
  },
  {
   "cell_type": "code",
   "execution_count": 166,
   "metadata": {},
   "outputs": [],
   "source": [
    "usd['usd_var_mesanterior'] = usd['usd_varianza'].shift(1).fillna(0)\n",
    "usd['usd_daily_mean_mesanterior'] = usd['daily_mean'].shift(1).fillna(0)"
   ]
  },
  {
   "cell_type": "code",
   "execution_count": 167,
   "metadata": {
    "scrolled": true
   },
   "outputs": [],
   "source": [
    "df_extras = pd.merge(df_extras, usd, on='aniomes', how='left').drop('aniomes', axis=1).set_index('id')"
   ]
  },
  {
   "cell_type": "code",
   "execution_count": 168,
   "metadata": {},
   "outputs": [],
   "source": [
    "df_extras['usd_subio'] = df_extras.apply(lambda x: 1 if (x['usd_daily_mean_mesanterior']<x['daily_mean']) else 0, axis=1)"
   ]
  },
  {
   "cell_type": "code",
   "execution_count": 169,
   "metadata": {},
   "outputs": [],
   "source": [
    "df_extras.drop('usd_daily_mean_mesanterior', inplace=True, axis=1)"
   ]
  },
  {
   "cell_type": "code",
   "execution_count": 170,
   "metadata": {},
   "outputs": [
    {
     "data": {
      "text/html": [
       "<div>\n",
       "<style scoped>\n",
       "    .dataframe tbody tr th:only-of-type {\n",
       "        vertical-align: middle;\n",
       "    }\n",
       "\n",
       "    .dataframe tbody tr th {\n",
       "        vertical-align: top;\n",
       "    }\n",
       "\n",
       "    .dataframe thead th {\n",
       "        text-align: right;\n",
       "    }\n",
       "</style>\n",
       "<table border=\"1\" class=\"dataframe\">\n",
       "  <thead>\n",
       "    <tr style=\"text-align: right;\">\n",
       "      <th></th>\n",
       "      <th>usd_varianza</th>\n",
       "      <th>daily_mean</th>\n",
       "      <th>usd_var_mesanterior</th>\n",
       "      <th>usd_subio</th>\n",
       "    </tr>\n",
       "    <tr>\n",
       "      <th>id</th>\n",
       "      <th></th>\n",
       "      <th></th>\n",
       "      <th></th>\n",
       "      <th></th>\n",
       "    </tr>\n",
       "  </thead>\n",
       "  <tbody>\n",
       "    <tr>\n",
       "      <td>254099</td>\n",
       "      <td>3.96</td>\n",
       "      <td>16.551050</td>\n",
       "      <td>2.37</td>\n",
       "      <td>1</td>\n",
       "    </tr>\n",
       "    <tr>\n",
       "      <td>53461</td>\n",
       "      <td>1.16</td>\n",
       "      <td>12.955530</td>\n",
       "      <td>5.46</td>\n",
       "      <td>1</td>\n",
       "    </tr>\n",
       "    <tr>\n",
       "      <td>247984</td>\n",
       "      <td>-2.48</td>\n",
       "      <td>16.586802</td>\n",
       "      <td>1.08</td>\n",
       "      <td>0</td>\n",
       "    </tr>\n",
       "    <tr>\n",
       "      <td>209067</td>\n",
       "      <td>-0.27</td>\n",
       "      <td>12.734559</td>\n",
       "      <td>-1.50</td>\n",
       "      <td>0</td>\n",
       "    </tr>\n",
       "    <tr>\n",
       "      <td>185997</td>\n",
       "      <td>-0.82</td>\n",
       "      <td>18.640750</td>\n",
       "      <td>7.34</td>\n",
       "      <td>1</td>\n",
       "    </tr>\n",
       "  </tbody>\n",
       "</table>\n",
       "</div>"
      ],
      "text/plain": [
       "        usd_varianza  daily_mean  usd_var_mesanterior  usd_subio\n",
       "id                                                              \n",
       "254099          3.96   16.551050                 2.37          1\n",
       "53461           1.16   12.955530                 5.46          1\n",
       "247984         -2.48   16.586802                 1.08          0\n",
       "209067         -0.27   12.734559                -1.50          0\n",
       "185997         -0.82   18.640750                 7.34          1"
      ]
     },
     "execution_count": 170,
     "metadata": {},
     "output_type": "execute_result"
    }
   ],
   "source": [
    "df_extras.head()"
   ]
  },
  {
   "cell_type": "code",
   "execution_count": 171,
   "metadata": {},
   "outputs": [],
   "source": [
    "df_extras.columns = ['usd_variacion', 'usd_precio_promedio_mensual', 'usd_variacion_mes_anterior', 'usd_subio']"
   ]
  },
  {
   "cell_type": "code",
   "execution_count": 172,
   "metadata": {},
   "outputs": [],
   "source": [
    "dicc_extras[0] = df_extras.columns.to_list()\n",
    "dicc_extras[1] = ['usd_subio']\n",
    "dicc_extras[2] = ['usd_precio_promedio_mensual', 'usd_subio']\n",
    "\n",
    "features_types['float'] += ['usd_variacion', 'usd_precio_promedio_mensual', 'usd_variacion_mes_anterior']\n",
    "features_types['bernoulli'] += ['usd_subio']"
   ]
  },
  {
   "cell_type": "code",
   "execution_count": 173,
   "metadata": {},
   "outputs": [],
   "source": [
    "# guardamos el csv\n",
    "if guardar:\n",
    "    df_extras.to_csv('features/extras.csv')\n",
    "features['extras'] = dicc_extras\n",
    "dataframes.append(df_extras)"
   ]
  },
  {
   "cell_type": "markdown",
   "metadata": {},
   "source": [
    "# Full DF"
   ]
  },
  {
   "cell_type": "code",
   "execution_count": 174,
   "metadata": {},
   "outputs": [],
   "source": [
    "# Armamos un df con todas las features."
   ]
  },
  {
   "cell_type": "code",
   "execution_count": 175,
   "metadata": {
    "scrolled": true
   },
   "outputs": [
    {
     "data": {
      "text/plain": [
       "Index(['titulo', 'descripcion', 'direccion', 'tipodepropiedad', 'ciudad',\n",
       "       'provincia', 'antiguedad', 'habitaciones', 'garages', 'banos',\n",
       "       'metroscubiertos', 'metrostotales', 'idzona', 'fecha', 'gimnasio',\n",
       "       'usosmultiples', 'piscina', 'escuelascercanas',\n",
       "       'centroscomercialescercanos', 'precio'],\n",
       "      dtype='object')"
      ]
     },
     "execution_count": 175,
     "metadata": {},
     "output_type": "execute_result"
    }
   ],
   "source": [
    "df.columns"
   ]
  },
  {
   "cell_type": "code",
   "execution_count": 176,
   "metadata": {},
   "outputs": [],
   "source": [
    "df = df[['antiguedad', 'habitaciones', 'garages', 'banos', 'metroscubiertos', 'metrostotales', 'gimnasio',\n",
    "         'usosmultiples', 'piscina', 'escuelascercanas', 'centroscomercialescercanos', 'precio']]"
   ]
  },
  {
   "cell_type": "code",
   "execution_count": 177,
   "metadata": {},
   "outputs": [],
   "source": [
    "for add in dataframes:\n",
    "    df = pd.merge(df,add,how='left',left_index=True, right_index=True)  "
   ]
  },
  {
   "cell_type": "code",
   "execution_count": 178,
   "metadata": {},
   "outputs": [],
   "source": [
    "# guardamos en un csv el dataset final\n",
    "df.to_csv('data/full_featured.csv')"
   ]
  },
  {
   "cell_type": "markdown",
   "metadata": {},
   "source": [
    "# Resultados\n",
    "Como este es un proceso costo en tiempo, devolvemos el diccionario hardcodeado y cargaremos los datos directamente del csv full, pre-procesandolo para optimizar el manejo de la memoria utilizada."
   ]
  },
  {
   "cell_type": "code",
   "execution_count": 181,
   "metadata": {},
   "outputs": [],
   "source": [
    "def get_features():\n",
    "    return {'metros': {0: ['metroscubiertos_alt', 'metrostotales_alt'],\n",
    "  1: ['metroscubiertos_alt',\n",
    "   'metrostotales_alt',\n",
    "   'metrostotales_confiables_alt'],\n",
    "  2: ['metroscubiertos_i1', 'metrostotales_i1'],\n",
    "  3: ['metroscubiertos_i1',\n",
    "   'metrostotales_i1',\n",
    "   'metrostotales_confiables_alt'],\n",
    "  4: ['metroscubiertos_alt', 'metrostotales_i2'],\n",
    "  5: ['metroscubiertos_alt',\n",
    "   'metrostotales_i2',\n",
    "   'metrostotales_confiables_alt']},\n",
    " 'tipodepropiedad_encoded': {0: ['tipodepropiedad_le'],\n",
    "  1: ['tipodepropiedad_1_ohe',\n",
    "   'tipodepropiedad_2_ohe',\n",
    "   'tipodepropiedad_3_ohe',\n",
    "   'tipodepropiedad_4_ohe',\n",
    "   'tipodepropiedad_5_ohe',\n",
    "   'tipodepropiedad_6_ohe',\n",
    "   'tipodepropiedad_7_ohe',\n",
    "   'tipodepropiedad_8_ohe',\n",
    "   'tipodepropiedad_9_ohe',\n",
    "   'tipodepropiedad_10_ohe'],\n",
    "  2: ['tipodepropiedad_0_binary',\n",
    "   'tipodepropiedad_1_binary',\n",
    "   'tipodepropiedad_2_binary',\n",
    "   'tipodepropiedad_3_binary',\n",
    "   'tipodepropiedad_4_binary'],\n",
    "  3: ['intercept_pol',\n",
    "   'tipodepropiedad_0_pol',\n",
    "   'tipodepropiedad_1_pol',\n",
    "   'tipodepropiedad_2_pol',\n",
    "   'tipodepropiedad_3_pol',\n",
    "   'tipodepropiedad_4_pol',\n",
    "   'tipodepropiedad_5_pol',\n",
    "   'tipodepropiedad_6_pol',\n",
    "   'tipodepropiedad_7_pol',\n",
    "   'tipodepropiedad_8_pol'],\n",
    "  4: ['es_casa', 'es_apart'],\n",
    "  5: ['es_casa', 'es_apart', 'tipodepropiedad_le'],\n",
    "  6: ['es_casa',\n",
    "   'es_apart',\n",
    "   'tipodepropiedad_0_binary',\n",
    "   'tipodepropiedad_1_binary',\n",
    "   'tipodepropiedad_2_binary',\n",
    "   'tipodepropiedad_3_binary',\n",
    "   'tipodepropiedad_4_binary']},\n",
    " 'provincia_encoded': {0: ['provincia_le'],\n",
    "  1: ['provincia_1_ohe',\n",
    "   'provincia_2_ohe',\n",
    "   'provincia_3_ohe',\n",
    "   'provincia_4_ohe',\n",
    "   'provincia_5_ohe',\n",
    "   'provincia_6_ohe',\n",
    "   'provincia_7_ohe',\n",
    "   'provincia_8_ohe',\n",
    "   'provincia_9_ohe',\n",
    "   'provincia_10_ohe',\n",
    "   'provincia_11_ohe',\n",
    "   'provincia_12_ohe',\n",
    "   'provincia_13_ohe',\n",
    "   'provincia_14_ohe',\n",
    "   'provincia_15_ohe',\n",
    "   'provincia_16_ohe',\n",
    "   'provincia_17_ohe',\n",
    "   'provincia_18_ohe',\n",
    "   'provincia_19_ohe',\n",
    "   'provincia_20_ohe',\n",
    "   'provincia_21_ohe',\n",
    "   'provincia_22_ohe',\n",
    "   'provincia_23_ohe',\n",
    "   'provincia_24_ohe',\n",
    "   'provincia_25_ohe',\n",
    "   'provincia_26_ohe',\n",
    "   'provincia_27_ohe',\n",
    "   'provincia_28_ohe',\n",
    "   'provincia_29_ohe',\n",
    "   'provincia_30_ohe',\n",
    "   'provincia_31_ohe',\n",
    "   'provincia_32_ohe',\n",
    "   'provincia_33_ohe'],\n",
    "  2: ['provincia_0_binary',\n",
    "   'provincia_1_binary',\n",
    "   'provincia_2_binary',\n",
    "   'provincia_3_binary',\n",
    "   'provincia_4_binary',\n",
    "   'provincia_5_binary',\n",
    "   'provincia_6_binary'],\n",
    "  3: ['es_Distrito Federal',\n",
    "   'es_Edo. de México',\n",
    "   'es_Jalisco',\n",
    "   'es_Querétaro',\n",
    "   'es_Nuevo León',\n",
    "   'es_Puebla',\n",
    "   'es_San luis Potosí',\n",
    "   'es_Yucatán',\n",
    "   'es_Morelos',\n",
    "   'es_Veracruz'],\n",
    "  4: ['es_Distrito Federal',\n",
    "   'es_Edo. de México',\n",
    "   'es_Jalisco',\n",
    "   'es_Querétaro',\n",
    "   'es_Nuevo León',\n",
    "   'provincia_le'],\n",
    "  5: ['es_Distrito Federal', 'es_Edo. de México', 'provincia_le'],\n",
    "  6: ['es_Distrito Federal',\n",
    "   'es_Edo. de México',\n",
    "   'provincia_0_binary',\n",
    "   'provincia_1_binary',\n",
    "   'provincia_2_binary',\n",
    "   'provincia_3_binary',\n",
    "   'provincia_4_binary',\n",
    "   'provincia_5_binary',\n",
    "   'provincia_6_binary']},\n",
    " 'ciudad_encoded': {0: ['ciudad_le'],\n",
    "  1: ['ciudad_0_binary',\n",
    "   'ciudad_1_binary',\n",
    "   'ciudad_2_binary',\n",
    "   'ciudad_3_binary',\n",
    "   'ciudad_4_binary',\n",
    "   'ciudad_5_binary',\n",
    "   'ciudad_6_binary',\n",
    "   'ciudad_7_binary'],\n",
    "  2: ['ciudad_top50_1_ohe',\n",
    "   'ciudad_top50_2_ohe',\n",
    "   'ciudad_top50_3_ohe',\n",
    "   'ciudad_top50_4_ohe',\n",
    "   'ciudad_top50_5_ohe',\n",
    "   'ciudad_top50_6_ohe',\n",
    "   'ciudad_top50_7_ohe',\n",
    "   'ciudad_top50_8_ohe',\n",
    "   'ciudad_top50_9_ohe',\n",
    "   'ciudad_top50_10_ohe',\n",
    "   'ciudad_top50_11_ohe',\n",
    "   'ciudad_top50_12_ohe',\n",
    "   'ciudad_top50_13_ohe',\n",
    "   'ciudad_top50_14_ohe',\n",
    "   'ciudad_top50_15_ohe',\n",
    "   'ciudad_top50_16_ohe',\n",
    "   'ciudad_top50_17_ohe',\n",
    "   'ciudad_top50_18_ohe',\n",
    "   'ciudad_top50_19_ohe',\n",
    "   'ciudad_top50_20_ohe',\n",
    "   'ciudad_top50_21_ohe',\n",
    "   'ciudad_top50_22_ohe',\n",
    "   'ciudad_top50_23_ohe',\n",
    "   'ciudad_top50_24_ohe',\n",
    "   'ciudad_top50_25_ohe',\n",
    "   'ciudad_top50_26_ohe',\n",
    "   'ciudad_top50_27_ohe',\n",
    "   'ciudad_top50_28_ohe',\n",
    "   'ciudad_top50_29_ohe',\n",
    "   'ciudad_top50_30_ohe',\n",
    "   'ciudad_top50_31_ohe',\n",
    "   'ciudad_top50_32_ohe',\n",
    "   'ciudad_top50_33_ohe',\n",
    "   'ciudad_top50_34_ohe',\n",
    "   'ciudad_top50_35_ohe',\n",
    "   'ciudad_top50_36_ohe',\n",
    "   'ciudad_top50_37_ohe',\n",
    "   'ciudad_top50_38_ohe',\n",
    "   'ciudad_top50_39_ohe',\n",
    "   'ciudad_top50_40_ohe',\n",
    "   'ciudad_top50_41_ohe',\n",
    "   'ciudad_top50_42_ohe',\n",
    "   'ciudad_top50_43_ohe',\n",
    "   'ciudad_top50_44_ohe',\n",
    "   'ciudad_top50_45_ohe',\n",
    "   'ciudad_top50_46_ohe',\n",
    "   'ciudad_top50_47_ohe',\n",
    "   'ciudad_top50_48_ohe',\n",
    "   'ciudad_top50_49_ohe',\n",
    "   'ciudad_top50_50_ohe'],\n",
    "  3: ['ciudad_cara', 'ciudad_barata', 'ciudad_normal'],\n",
    "  4: ['ciudad_cara', 'ciudad_barata', 'ciudad_normal', 'ciudad_le'],\n",
    "  5: ['ciudad_cara',\n",
    "   'ciudad_barata',\n",
    "   'ciudad_normal',\n",
    "   'ciudad_0_binary',\n",
    "   'ciudad_1_binary',\n",
    "   'ciudad_2_binary',\n",
    "   'ciudad_3_binary',\n",
    "   'ciudad_4_binary',\n",
    "   'ciudad_5_binary',\n",
    "   'ciudad_6_binary',\n",
    "   'ciudad_7_binary'],\n",
    "  6: ['ciudad_cara',\n",
    "   'ciudad_barata',\n",
    "   'ciudad_normal',\n",
    "   'ciudad_top50_1_ohe',\n",
    "   'ciudad_top50_2_ohe',\n",
    "   'ciudad_top50_3_ohe',\n",
    "   'ciudad_top50_4_ohe',\n",
    "   'ciudad_top50_5_ohe',\n",
    "   'ciudad_top50_6_ohe',\n",
    "   'ciudad_top50_7_ohe',\n",
    "   'ciudad_top50_8_ohe',\n",
    "   'ciudad_top50_9_ohe',\n",
    "   'ciudad_top50_10_ohe',\n",
    "   'ciudad_top50_11_ohe',\n",
    "   'ciudad_top50_12_ohe',\n",
    "   'ciudad_top50_13_ohe',\n",
    "   'ciudad_top50_14_ohe',\n",
    "   'ciudad_top50_15_ohe',\n",
    "   'ciudad_top50_16_ohe',\n",
    "   'ciudad_top50_17_ohe',\n",
    "   'ciudad_top50_18_ohe',\n",
    "   'ciudad_top50_19_ohe',\n",
    "   'ciudad_top50_20_ohe',\n",
    "   'ciudad_top50_21_ohe',\n",
    "   'ciudad_top50_22_ohe',\n",
    "   'ciudad_top50_23_ohe',\n",
    "   'ciudad_top50_24_ohe',\n",
    "   'ciudad_top50_25_ohe',\n",
    "   'ciudad_top50_26_ohe',\n",
    "   'ciudad_top50_27_ohe',\n",
    "   'ciudad_top50_28_ohe',\n",
    "   'ciudad_top50_29_ohe',\n",
    "   'ciudad_top50_30_ohe',\n",
    "   'ciudad_top50_31_ohe',\n",
    "   'ciudad_top50_32_ohe',\n",
    "   'ciudad_top50_33_ohe',\n",
    "   'ciudad_top50_34_ohe',\n",
    "   'ciudad_top50_35_ohe',\n",
    "   'ciudad_top50_36_ohe',\n",
    "   'ciudad_top50_37_ohe',\n",
    "   'ciudad_top50_38_ohe',\n",
    "   'ciudad_top50_39_ohe',\n",
    "   'ciudad_top50_40_ohe',\n",
    "   'ciudad_top50_41_ohe',\n",
    "   'ciudad_top50_42_ohe',\n",
    "   'ciudad_top50_43_ohe',\n",
    "   'ciudad_top50_44_ohe',\n",
    "   'ciudad_top50_45_ohe',\n",
    "   'ciudad_top50_46_ohe',\n",
    "   'ciudad_top50_47_ohe',\n",
    "   'ciudad_top50_48_ohe',\n",
    "   'ciudad_top50_49_ohe',\n",
    "   'ciudad_top50_50_ohe']},\n",
    " 'fecha': {0: ['anio',\n",
    "   'mes',\n",
    "   'dia',\n",
    "   'timestamp',\n",
    "   'aniomes',\n",
    "   'precio_promedio_metrocubierto_aniomes',\n",
    "   'precio_promedio_metrocubierto_mes',\n",
    "   'timestamp_scaled',\n",
    "   'aniomes_scaled'],\n",
    "  1: ['anio', 'mes', 'dia'],\n",
    "  2: ['anio', 'mes', 'aniomes', 'aniomes_scaled'],\n",
    "  3: ['anio', 'mes', 'timestamp', 'timestamp_scaled'],\n",
    "  4: ['timestamp_scaled', 'aniomes_scaled'],\n",
    "  5: ['anio', 'mes', 'timestamp_scaled', 'aniomes_scaled'],\n",
    "  6: ['anio',\n",
    "   'mes',\n",
    "   'precio_promedio_metrocubierto_aniomes',\n",
    "   'precio_promedio_metrocubierto_mes',\n",
    "   'timestamp_scaled',\n",
    "   'aniomes_scaled'],\n",
    "  7: ['aniomes_1_ohe',\n",
    "   'aniomes_2_ohe',\n",
    "   'aniomes_3_ohe',\n",
    "   'aniomes_4_ohe',\n",
    "   'aniomes_5_ohe',\n",
    "   'aniomes_6_ohe',\n",
    "   'aniomes_7_ohe',\n",
    "   'aniomes_8_ohe',\n",
    "   'aniomes_9_ohe',\n",
    "   'aniomes_10_ohe',\n",
    "   'aniomes_11_ohe',\n",
    "   'aniomes_12_ohe',\n",
    "   'aniomes_13_ohe',\n",
    "   'aniomes_14_ohe',\n",
    "   'aniomes_15_ohe',\n",
    "   'aniomes_16_ohe',\n",
    "   'aniomes_17_ohe',\n",
    "   'aniomes_18_ohe',\n",
    "   'aniomes_19_ohe',\n",
    "   'aniomes_20_ohe',\n",
    "   'aniomes_21_ohe',\n",
    "   'aniomes_22_ohe',\n",
    "   'aniomes_23_ohe',\n",
    "   'aniomes_24_ohe',\n",
    "   'aniomes_25_ohe',\n",
    "   'aniomes_26_ohe',\n",
    "   'aniomes_27_ohe',\n",
    "   'aniomes_28_ohe',\n",
    "   'aniomes_29_ohe',\n",
    "   'aniomes_30_ohe',\n",
    "   'aniomes_31_ohe',\n",
    "   'aniomes_32_ohe',\n",
    "   'aniomes_33_ohe',\n",
    "   'aniomes_34_ohe',\n",
    "   'aniomes_35_ohe',\n",
    "   'aniomes_36_ohe',\n",
    "   'aniomes_37_ohe',\n",
    "   'aniomes_38_ohe',\n",
    "   'aniomes_39_ohe',\n",
    "   'aniomes_40_ohe',\n",
    "   'aniomes_41_ohe',\n",
    "   'aniomes_42_ohe',\n",
    "   'aniomes_43_ohe',\n",
    "   'aniomes_44_ohe',\n",
    "   'aniomes_45_ohe',\n",
    "   'aniomes_46_ohe',\n",
    "   'aniomes_47_ohe',\n",
    "   'aniomes_48_ohe',\n",
    "   'aniomes_49_ohe',\n",
    "   'aniomes_50_ohe',\n",
    "   'aniomes_51_ohe',\n",
    "   'aniomes_52_ohe',\n",
    "   'aniomes_53_ohe',\n",
    "   'aniomes_54_ohe',\n",
    "   'aniomes_55_ohe',\n",
    "   'aniomes_56_ohe',\n",
    "   'aniomes_57_ohe',\n",
    "   'aniomes_58_ohe',\n",
    "   'aniomes_59_ohe',\n",
    "   'aniomes_60_ohe']},\n",
    " 'descripcion': {0: ['jardin',\n",
    "   'vigilancia',\n",
    "   'aire_acondicionado',\n",
    "   'ventilador',\n",
    "   'calefaccion',\n",
    "   'parrilla',\n",
    "   'terraza',\n",
    "   'lujo',\n",
    "   'servicio']},\n",
    " 'metricas': {0: ['metroscubiertos_mean', 'metroscubiertos_std'],\n",
    "              1: ['metroscubiertos_city_mean','metroscubiertos_city_std']},\n",
    " 'antiguedad': {0: ['antiguedad_binning_1_ohe1',\n",
    "   'antiguedad_binning_2_ohe1',\n",
    "   'antiguedad_binning_3_ohe1',\n",
    "   'antiguedad_binning_4_ohe1',\n",
    "   'antiguedad_binning_5_ohe1',\n",
    "   'antiguedad_binning_6_ohe1',\n",
    "   'antiguedad_binning_7_ohe1',\n",
    "   'antiguedad_binning_8_ohe1',\n",
    "   'antiguedad_binning_9_ohe1'],\n",
    "  1: ['antiguedad_binning_2_1_ohe2',\n",
    "   'antiguedad_binning_2_2_ohe2',\n",
    "   'antiguedad_binning_2_3_ohe2',\n",
    "   'antiguedad_binning_2_4_ohe2']},\n",
    " 'habitaciones': {0: ['hab_binning_1_ohe',\n",
    "   'hab_binning_2_ohe',\n",
    "   'hab_binning_3_ohe',\n",
    "   'hab_binning_4_ohe',\n",
    "   'hab_binning_5_ohe',\n",
    "   'hab_binning_6_ohe',\n",
    "   'hab_binning_7_ohe']},\n",
    " 'extras': {0: ['usd_variacion',\n",
    "   'usd_precio_promedio_mensual',\n",
    "   'usd_variacion_mes_anterior',\n",
    "   'usd_subio'],\n",
    "  1: ['usd_subio'],\n",
    "  2: ['usd_precio_promedio_mensual', 'usd_subio']}}"
   ]
  },
  {
   "cell_type": "code",
   "execution_count": 180,
   "metadata": {},
   "outputs": [],
   "source": [
    "def get_features_types():\n",
    "    return {'bernoulli': ['tipodepropiedad_1_ohe',\n",
    "  'tipodepropiedad_2_ohe',\n",
    "  'tipodepropiedad_3_ohe',\n",
    "  'tipodepropiedad_4_ohe',\n",
    "  'tipodepropiedad_5_ohe',\n",
    "  'tipodepropiedad_6_ohe',\n",
    "  'tipodepropiedad_7_ohe',\n",
    "  'tipodepropiedad_8_ohe',\n",
    "  'tipodepropiedad_9_ohe',\n",
    "  'tipodepropiedad_10_ohe',\n",
    "  'tipodepropiedad_0_binary',\n",
    "  'tipodepropiedad_1_binary',\n",
    "  'tipodepropiedad_2_binary',\n",
    "  'tipodepropiedad_3_binary',\n",
    "  'tipodepropiedad_4_binary',\n",
    "  'es_casa',\n",
    "  'es_apart',\n",
    "  'provincia_1_ohe',\n",
    "  'provincia_2_ohe',\n",
    "  'provincia_3_ohe',\n",
    "  'provincia_4_ohe',\n",
    "  'provincia_5_ohe',\n",
    "  'provincia_6_ohe',\n",
    "  'provincia_7_ohe',\n",
    "  'provincia_8_ohe',\n",
    "  'provincia_9_ohe',\n",
    "  'provincia_10_ohe',\n",
    "  'provincia_11_ohe',\n",
    "  'provincia_12_ohe',\n",
    "  'provincia_13_ohe',\n",
    "  'provincia_14_ohe',\n",
    "  'provincia_15_ohe',\n",
    "  'provincia_16_ohe',\n",
    "  'provincia_17_ohe',\n",
    "  'provincia_18_ohe',\n",
    "  'provincia_19_ohe',\n",
    "  'provincia_20_ohe',\n",
    "  'provincia_21_ohe',\n",
    "  'provincia_22_ohe',\n",
    "  'provincia_23_ohe',\n",
    "  'provincia_24_ohe',\n",
    "  'provincia_25_ohe',\n",
    "  'provincia_26_ohe',\n",
    "  'provincia_27_ohe',\n",
    "  'provincia_28_ohe',\n",
    "  'provincia_29_ohe',\n",
    "  'provincia_30_ohe',\n",
    "  'provincia_31_ohe',\n",
    "  'provincia_32_ohe',\n",
    "  'provincia_33_ohe',\n",
    "  'provincia_0_binary',\n",
    "  'provincia_1_binary',\n",
    "  'provincia_2_binary',\n",
    "  'provincia_3_binary',\n",
    "  'provincia_4_binary',\n",
    "  'provincia_5_binary',\n",
    "  'provincia_6_binary',\n",
    "  'es_Distrito Federal',\n",
    "  'es_Edo. de México',\n",
    "  'es_Jalisco',\n",
    "  'es_Querétaro',\n",
    "  'es_Nuevo León',\n",
    "  'es_Puebla',\n",
    "  'es_San luis Potosí',\n",
    "  'es_Yucatán',\n",
    "  'es_Morelos',\n",
    "  'es_Veracruz',\n",
    "  'ciudad_0_binary',\n",
    "  'ciudad_1_binary',\n",
    "  'ciudad_2_binary',\n",
    "  'ciudad_3_binary',\n",
    "  'ciudad_4_binary',\n",
    "  'ciudad_5_binary',\n",
    "  'ciudad_6_binary',\n",
    "  'ciudad_7_binary',\n",
    "  'ciudad_top50_1_ohe',\n",
    "  'ciudad_top50_2_ohe',\n",
    "  'ciudad_top50_3_ohe',\n",
    "  'ciudad_top50_4_ohe',\n",
    "  'ciudad_top50_5_ohe',\n",
    "  'ciudad_top50_6_ohe',\n",
    "  'ciudad_top50_7_ohe',\n",
    "  'ciudad_top50_8_ohe',\n",
    "  'ciudad_top50_9_ohe',\n",
    "  'ciudad_top50_10_ohe',\n",
    "  'ciudad_top50_11_ohe',\n",
    "  'ciudad_top50_12_ohe',\n",
    "  'ciudad_top50_13_ohe',\n",
    "  'ciudad_top50_14_ohe',\n",
    "  'ciudad_top50_15_ohe',\n",
    "  'ciudad_top50_16_ohe',\n",
    "  'ciudad_top50_17_ohe',\n",
    "  'ciudad_top50_18_ohe',\n",
    "  'ciudad_top50_19_ohe',\n",
    "  'ciudad_top50_20_ohe',\n",
    "  'ciudad_top50_21_ohe',\n",
    "  'ciudad_top50_22_ohe',\n",
    "  'ciudad_top50_23_ohe',\n",
    "  'ciudad_top50_24_ohe',\n",
    "  'ciudad_top50_25_ohe',\n",
    "  'ciudad_top50_26_ohe',\n",
    "  'ciudad_top50_27_ohe',\n",
    "  'ciudad_top50_28_ohe',\n",
    "  'ciudad_top50_29_ohe',\n",
    "  'ciudad_top50_30_ohe',\n",
    "  'ciudad_top50_31_ohe',\n",
    "  'ciudad_top50_32_ohe',\n",
    "  'ciudad_top50_33_ohe',\n",
    "  'ciudad_top50_34_ohe',\n",
    "  'ciudad_top50_35_ohe',\n",
    "  'ciudad_top50_36_ohe',\n",
    "  'ciudad_top50_37_ohe',\n",
    "  'ciudad_top50_38_ohe',\n",
    "  'ciudad_top50_39_ohe',\n",
    "  'ciudad_top50_40_ohe',\n",
    "  'ciudad_top50_41_ohe',\n",
    "  'ciudad_top50_42_ohe',\n",
    "  'ciudad_top50_43_ohe',\n",
    "  'ciudad_top50_44_ohe',\n",
    "  'ciudad_top50_45_ohe',\n",
    "  'ciudad_top50_46_ohe',\n",
    "  'ciudad_top50_47_ohe',\n",
    "  'ciudad_top50_48_ohe',\n",
    "  'ciudad_top50_49_ohe',\n",
    "  'ciudad_top50_50_ohe',\n",
    "  'ciudad_cara',\n",
    "  'ciudad_barata',\n",
    "  'ciudad_normal',\n",
    "  'aniomes_1_ohe',\n",
    "  'aniomes_2_ohe',\n",
    "  'aniomes_3_ohe',\n",
    "  'aniomes_4_ohe',\n",
    "  'aniomes_5_ohe',\n",
    "  'aniomes_6_ohe',\n",
    "  'aniomes_7_ohe',\n",
    "  'aniomes_8_ohe',\n",
    "  'aniomes_9_ohe',\n",
    "  'aniomes_10_ohe',\n",
    "  'aniomes_11_ohe',\n",
    "  'aniomes_12_ohe',\n",
    "  'aniomes_13_ohe',\n",
    "  'aniomes_14_ohe',\n",
    "  'aniomes_15_ohe',\n",
    "  'aniomes_16_ohe',\n",
    "  'aniomes_17_ohe',\n",
    "  'aniomes_18_ohe',\n",
    "  'aniomes_19_ohe',\n",
    "  'aniomes_20_ohe',\n",
    "  'aniomes_21_ohe',\n",
    "  'aniomes_22_ohe',\n",
    "  'aniomes_23_ohe',\n",
    "  'aniomes_24_ohe',\n",
    "  'aniomes_25_ohe',\n",
    "  'aniomes_26_ohe',\n",
    "  'aniomes_27_ohe',\n",
    "  'aniomes_28_ohe',\n",
    "  'aniomes_29_ohe',\n",
    "  'aniomes_30_ohe',\n",
    "  'aniomes_31_ohe',\n",
    "  'aniomes_32_ohe',\n",
    "  'aniomes_33_ohe',\n",
    "  'aniomes_34_ohe',\n",
    "  'aniomes_35_ohe',\n",
    "  'aniomes_36_ohe',\n",
    "  'aniomes_37_ohe',\n",
    "  'aniomes_38_ohe',\n",
    "  'aniomes_39_ohe',\n",
    "  'aniomes_40_ohe',\n",
    "  'aniomes_41_ohe',\n",
    "  'aniomes_42_ohe',\n",
    "  'aniomes_43_ohe',\n",
    "  'aniomes_44_ohe',\n",
    "  'aniomes_45_ohe',\n",
    "  'aniomes_46_ohe',\n",
    "  'aniomes_47_ohe',\n",
    "  'aniomes_48_ohe',\n",
    "  'aniomes_49_ohe',\n",
    "  'aniomes_50_ohe',\n",
    "  'aniomes_51_ohe',\n",
    "  'aniomes_52_ohe',\n",
    "  'aniomes_53_ohe',\n",
    "  'aniomes_54_ohe',\n",
    "  'aniomes_55_ohe',\n",
    "  'aniomes_56_ohe',\n",
    "  'aniomes_57_ohe',\n",
    "  'aniomes_58_ohe',\n",
    "  'aniomes_59_ohe',\n",
    "  'aniomes_60_ohe',\n",
    "  'jardin',\n",
    "  'vigilancia',\n",
    "  'aire_acondicionado',\n",
    "  'ventilador',\n",
    "  'calefaccion',\n",
    "  'parrilla',\n",
    "  'terraza',\n",
    "  'lujo',\n",
    "  'servicio',\n",
    "  'antiguedad_binning_1_ohe1',\n",
    "  'antiguedad_binning_2_ohe1',\n",
    "  'antiguedad_binning_3_ohe1',\n",
    "  'antiguedad_binning_4_ohe1',\n",
    "  'antiguedad_binning_5_ohe1',\n",
    "  'antiguedad_binning_6_ohe1',\n",
    "  'antiguedad_binning_7_ohe1',\n",
    "  'antiguedad_binning_8_ohe1',\n",
    "  'antiguedad_binning_9_ohe1',\n",
    "  'antiguedad_binning_2_1_ohe2',\n",
    "  'antiguedad_binning_2_2_ohe2',\n",
    "  'antiguedad_binning_2_3_ohe2',\n",
    "  'antiguedad_binning_2_4_ohe2',\n",
    "  'hab_binning_1_ohe',\n",
    "  'hab_binning_2_ohe',\n",
    "  'hab_binning_3_ohe',\n",
    "  'hab_binning_4_ohe',\n",
    "  'hab_binning_5_ohe',\n",
    "  'hab_binning_6_ohe',\n",
    "  'hab_binning_7_ohe',\n",
    "  'usd_subio',\n",
    "  'metrostotales_confiables',\n",
    "  'metrostotales_confiables_alt'],\n",
    " 'float': ['intercept_pol',\n",
    "  'tipodepropiedad_0_pol',\n",
    "  'tipodepropiedad_1_pol',\n",
    "  'tipodepropiedad_2_pol',\n",
    "  'tipodepropiedad_3_pol',\n",
    "  'tipodepropiedad_4_pol',\n",
    "  'tipodepropiedad_5_pol',\n",
    "  'tipodepropiedad_6_pol',\n",
    "  'tipodepropiedad_7_pol',\n",
    "  'tipodepropiedad_8_pol',\n",
    "  'timestamp',\n",
    "  'timestamp_scaled',\n",
    "  'aniomes_scaled',\n",
    "  'metroscubiertos_mean',\n",
    "  'metroscubiertos_std',\n",
    "  'usd_variacion',\n",
    "  'usd_precio_promedio_mensual',\n",
    "  'usd_variacion_mes_anterior'],\n",
    " 'uint8': ['tipodepropiedad_le', 'provincia_le', 'mes', 'dia'],\n",
    " 'uint16': ['ciudad_le',\n",
    "  'anio',\n",
    "  'precio_promedio_metrocubierto_aniomes',\n",
    "  'precio_promedio_metrocubierto_mes',\n",
    "  'metroscubiertos_alt',\n",
    "  'metrostotales_alt',\n",
    "  'metrostotales_i1',\n",
    "  'metroscubiertos_i1',\n",
    "  'metrostotales_i2'],\n",
    " 'uint32': ['aniomes']}"
   ]
  }
 ],
 "metadata": {
  "kernelspec": {
   "display_name": "Python 3",
   "language": "python",
   "name": "python3"
  },
  "language_info": {
   "codemirror_mode": {
    "name": "ipython",
    "version": 3
   },
   "file_extension": ".py",
   "mimetype": "text/x-python",
   "name": "python",
   "nbconvert_exporter": "python",
   "pygments_lexer": "ipython3",
   "version": "3.6.8"
  }
 },
 "nbformat": 4,
 "nbformat_minor": 4
}
