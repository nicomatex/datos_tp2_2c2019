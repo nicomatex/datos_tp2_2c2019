{
 "cells": [
  {
   "cell_type": "markdown",
   "metadata": {},
   "source": [
    "# feature_generation"
   ]
  },
  {
   "cell_type": "code",
   "execution_count": 1,
   "metadata": {},
   "outputs": [],
   "source": [
    "import pandas as pd\n",
    "from datetime import datetime\n",
    "\n",
    "from sklearn.preprocessing import LabelEncoder\n",
    "import category_encoders as ce"
   ]
  },
  {
   "cell_type": "code",
   "execution_count": 2,
   "metadata": {},
   "outputs": [
    {
     "name": "stdout",
     "output_type": "stream",
     "text": [
      "Importing Jupyter notebook from pre_processing.ipynb\n"
     ]
    }
   ],
   "source": [
    "import nbimporter\n",
    "from pre_processing import load_train, load_test"
   ]
  },
  {
   "cell_type": "markdown",
   "metadata": {},
   "source": [
    "### Funciones auxiliares"
   ]
  },
  {
   "cell_type": "code",
   "execution_count": 3,
   "metadata": {},
   "outputs": [],
   "source": [
    "def corr(df):\n",
    "    return df.corr()['precio'].sort_values(ascending=False)[1:]"
   ]
  },
  {
   "cell_type": "code",
   "execution_count": 4,
   "metadata": {},
   "outputs": [],
   "source": [
    "def aniomes(anio, mes):\n",
    "    if len(str(mes)) == 1:\n",
    "        return int(str(anio)+'0'+str(mes))\n",
    "    return int(str(anio)+str(mes))"
   ]
  },
  {
   "cell_type": "code",
   "execution_count": 57,
   "metadata": {},
   "outputs": [],
   "source": [
    "def contiene_indicadores(descripcion, indicadores):\n",
    "    for indicador in indicadores:\n",
    "        if indicador in str(descripcion).lower():\n",
    "            return 1\n",
    "    return 0"
   ]
  },
  {
   "cell_type": "code",
   "execution_count": 105,
   "metadata": {},
   "outputs": [],
   "source": [
    "def binning_habitaciones(x):\n",
    "    if (x==-1):\n",
    "        return 'unknown'\n",
    "    elif x==1:\n",
    "        return 'monoambiente'\n",
    "    elif (x==2):\n",
    "        return 'dos ambientes'\n",
    "    elif (x==3):\n",
    "        return 'tres ambientes'\n",
    "    elif (x==4):\n",
    "        return 'cuatro ambientes'\n",
    "    elif (x==5):\n",
    "        return 'cinco ambientes'\n",
    "    else:\n",
    "        return 'mas de 5 ambientes'"
   ]
  },
  {
   "cell_type": "code",
   "execution_count": 106,
   "metadata": {},
   "outputs": [],
   "source": [
    "def binning_antiguedad(x):\n",
    "    if (x==-1):\n",
    "        return 'unknown'\n",
    "    elif x==0:\n",
    "        return 'new'\n",
    "    elif (x<=5):\n",
    "        return '0 a 5'\n",
    "    elif (x<=10):\n",
    "        return '5 a 10'\n",
    "    elif (x<=15):\n",
    "        return '10 a 15'\n",
    "    elif (x<=20):\n",
    "        return '15 a 20'\n",
    "    elif (x<=30):\n",
    "        return '20 a 30'\n",
    "    elif (x<=50):\n",
    "        return '30 a 50'\n",
    "    else:\n",
    "        return '+50'\n",
    "    "
   ]
  },
  {
   "cell_type": "markdown",
   "metadata": {},
   "source": [
    "# Desarollo"
   ]
  },
  {
   "cell_type": "code",
   "execution_count": 7,
   "metadata": {},
   "outputs": [],
   "source": [
    "df = load_train()\n",
    "df2 = load_test()"
   ]
  },
  {
   "cell_type": "code",
   "execution_count": 11,
   "metadata": {},
   "outputs": [
    {
     "data": {
      "text/html": [
       "<div>\n",
       "<style scoped>\n",
       "    .dataframe tbody tr th:only-of-type {\n",
       "        vertical-align: middle;\n",
       "    }\n",
       "\n",
       "    .dataframe tbody tr th {\n",
       "        vertical-align: top;\n",
       "    }\n",
       "\n",
       "    .dataframe thead th {\n",
       "        text-align: right;\n",
       "    }\n",
       "</style>\n",
       "<table border=\"1\" class=\"dataframe\">\n",
       "  <thead>\n",
       "    <tr style=\"text-align: right;\">\n",
       "      <th></th>\n",
       "      <th>titulo</th>\n",
       "      <th>descripcion</th>\n",
       "      <th>direccion</th>\n",
       "      <th>tipodepropiedad</th>\n",
       "      <th>ciudad</th>\n",
       "      <th>provincia</th>\n",
       "      <th>antiguedad</th>\n",
       "      <th>habitaciones</th>\n",
       "      <th>garages</th>\n",
       "      <th>banos</th>\n",
       "      <th>metroscubiertos</th>\n",
       "      <th>metrostotales</th>\n",
       "      <th>idzona</th>\n",
       "      <th>fecha</th>\n",
       "      <th>gimnasio</th>\n",
       "      <th>usosmultiples</th>\n",
       "      <th>piscina</th>\n",
       "      <th>escuelascercanas</th>\n",
       "      <th>centroscomercialescercanos</th>\n",
       "      <th>precio</th>\n",
       "    </tr>\n",
       "    <tr>\n",
       "      <th>id</th>\n",
       "      <th></th>\n",
       "      <th></th>\n",
       "      <th></th>\n",
       "      <th></th>\n",
       "      <th></th>\n",
       "      <th></th>\n",
       "      <th></th>\n",
       "      <th></th>\n",
       "      <th></th>\n",
       "      <th></th>\n",
       "      <th></th>\n",
       "      <th></th>\n",
       "      <th></th>\n",
       "      <th></th>\n",
       "      <th></th>\n",
       "      <th></th>\n",
       "      <th></th>\n",
       "      <th></th>\n",
       "      <th></th>\n",
       "      <th></th>\n",
       "    </tr>\n",
       "  </thead>\n",
       "  <tbody>\n",
       "    <tr>\n",
       "      <td>254099</td>\n",
       "      <td>depto. tipo a-402</td>\n",
       "      <td>depto. interior de 80.15m2, consta de sala com...</td>\n",
       "      <td>Avenida Division del Norte 2005</td>\n",
       "      <td>Apartamento</td>\n",
       "      <td>Benito Juárez</td>\n",
       "      <td>Distrito Federal</td>\n",
       "      <td>NaN</td>\n",
       "      <td>2.0</td>\n",
       "      <td>1.0</td>\n",
       "      <td>2.0</td>\n",
       "      <td>80.0</td>\n",
       "      <td>80.0</td>\n",
       "      <td>23533.0</td>\n",
       "      <td>2015-08-23</td>\n",
       "      <td>0</td>\n",
       "      <td>0</td>\n",
       "      <td>0</td>\n",
       "      <td>0</td>\n",
       "      <td>0</td>\n",
       "      <td>2273000.0</td>\n",
       "    </tr>\n",
       "    <tr>\n",
       "      <td>53461</td>\n",
       "      <td>condominio horizontal en venta</td>\n",
       "      <td>&lt;p&gt;entre sonora y guerrero, atr&amp;aacute;s del h...</td>\n",
       "      <td>AV. MEXICO</td>\n",
       "      <td>Casa en condominio</td>\n",
       "      <td>La Magdalena Contreras</td>\n",
       "      <td>Distrito Federal</td>\n",
       "      <td>10.0</td>\n",
       "      <td>3.0</td>\n",
       "      <td>2.0</td>\n",
       "      <td>2.0</td>\n",
       "      <td>268.0</td>\n",
       "      <td>180.0</td>\n",
       "      <td>24514.0</td>\n",
       "      <td>2013-06-28</td>\n",
       "      <td>0</td>\n",
       "      <td>0</td>\n",
       "      <td>0</td>\n",
       "      <td>1</td>\n",
       "      <td>1</td>\n",
       "      <td>3600000.0</td>\n",
       "    </tr>\n",
       "  </tbody>\n",
       "</table>\n",
       "</div>"
      ],
      "text/plain": [
       "                                titulo  \\\n",
       "id                                       \n",
       "254099               depto. tipo a-402   \n",
       "53461   condominio horizontal en venta   \n",
       "\n",
       "                                              descripcion  \\\n",
       "id                                                          \n",
       "254099  depto. interior de 80.15m2, consta de sala com...   \n",
       "53461   <p>entre sonora y guerrero, atr&aacute;s del h...   \n",
       "\n",
       "                              direccion     tipodepropiedad  \\\n",
       "id                                                            \n",
       "254099  Avenida Division del Norte 2005         Apartamento   \n",
       "53461                        AV. MEXICO  Casa en condominio   \n",
       "\n",
       "                        ciudad         provincia  antiguedad  habitaciones  \\\n",
       "id                                                                           \n",
       "254099           Benito Juárez  Distrito Federal         NaN           2.0   \n",
       "53461   La Magdalena Contreras  Distrito Federal        10.0           3.0   \n",
       "\n",
       "        garages  banos  metroscubiertos  metrostotales   idzona      fecha  \\\n",
       "id                                                                           \n",
       "254099      1.0    2.0             80.0           80.0  23533.0 2015-08-23   \n",
       "53461       2.0    2.0            268.0          180.0  24514.0 2013-06-28   \n",
       "\n",
       "        gimnasio  usosmultiples  piscina  escuelascercanas  \\\n",
       "id                                                           \n",
       "254099         0              0        0                 0   \n",
       "53461          0              0        0                 1   \n",
       "\n",
       "        centroscomercialescercanos     precio  \n",
       "id                                             \n",
       "254099                           0  2273000.0  \n",
       "53461                            1  3600000.0  "
      ]
     },
     "metadata": {},
     "output_type": "display_data"
    },
    {
     "name": "stdout",
     "output_type": "stream",
     "text": [
      "(240000, 20)\n"
     ]
    }
   ],
   "source": [
    "display(df.head(2))\n",
    "print(df.shape)"
   ]
  },
  {
   "cell_type": "code",
   "execution_count": 12,
   "metadata": {},
   "outputs": [
    {
     "data": {
      "text/html": [
       "<div>\n",
       "<style scoped>\n",
       "    .dataframe tbody tr th:only-of-type {\n",
       "        vertical-align: middle;\n",
       "    }\n",
       "\n",
       "    .dataframe tbody tr th {\n",
       "        vertical-align: top;\n",
       "    }\n",
       "\n",
       "    .dataframe thead th {\n",
       "        text-align: right;\n",
       "    }\n",
       "</style>\n",
       "<table border=\"1\" class=\"dataframe\">\n",
       "  <thead>\n",
       "    <tr style=\"text-align: right;\">\n",
       "      <th></th>\n",
       "      <th>titulo</th>\n",
       "      <th>descripcion</th>\n",
       "      <th>direccion</th>\n",
       "      <th>tipodepropiedad</th>\n",
       "      <th>ciudad</th>\n",
       "      <th>provincia</th>\n",
       "      <th>antiguedad</th>\n",
       "      <th>habitaciones</th>\n",
       "      <th>garages</th>\n",
       "      <th>banos</th>\n",
       "      <th>metroscubiertos</th>\n",
       "      <th>metrostotales</th>\n",
       "      <th>idzona</th>\n",
       "      <th>fecha</th>\n",
       "      <th>gimnasio</th>\n",
       "      <th>usosmultiples</th>\n",
       "      <th>piscina</th>\n",
       "      <th>escuelascercanas</th>\n",
       "      <th>centroscomercialescercanos</th>\n",
       "    </tr>\n",
       "    <tr>\n",
       "      <th>id</th>\n",
       "      <th></th>\n",
       "      <th></th>\n",
       "      <th></th>\n",
       "      <th></th>\n",
       "      <th></th>\n",
       "      <th></th>\n",
       "      <th></th>\n",
       "      <th></th>\n",
       "      <th></th>\n",
       "      <th></th>\n",
       "      <th></th>\n",
       "      <th></th>\n",
       "      <th></th>\n",
       "      <th></th>\n",
       "      <th></th>\n",
       "      <th></th>\n",
       "      <th></th>\n",
       "      <th></th>\n",
       "      <th></th>\n",
       "    </tr>\n",
       "  </thead>\n",
       "  <tbody>\n",
       "    <tr>\n",
       "      <td>4941</td>\n",
       "      <td>casa en venta en miguel hidalgo, distrito federal</td>\n",
       "      <td>&lt;p&gt;excelente casa estilo moderno.&lt;/p&gt;</td>\n",
       "      <td>Bosque de Cedros</td>\n",
       "      <td>Casa</td>\n",
       "      <td>Miguel Hidalgo</td>\n",
       "      <td>Distrito Federal</td>\n",
       "      <td>29.0</td>\n",
       "      <td>3.0</td>\n",
       "      <td>NaN</td>\n",
       "      <td>4.0</td>\n",
       "      <td>300.0</td>\n",
       "      <td>NaN</td>\n",
       "      <td>NaN</td>\n",
       "      <td>2013-07-20</td>\n",
       "      <td>0</td>\n",
       "      <td>0</td>\n",
       "      <td>0</td>\n",
       "      <td>0</td>\n",
       "      <td>0</td>\n",
       "    </tr>\n",
       "    <tr>\n",
       "      <td>51775</td>\n",
       "      <td>departamentos en venta en montebello</td>\n",
       "      <td>&lt;p&gt;departamento una recamara:\\n&lt;/p&gt;&lt;p&gt;departam...</td>\n",
       "      <td>NaN</td>\n",
       "      <td>Apartamento</td>\n",
       "      <td>Mérida</td>\n",
       "      <td>Yucatán</td>\n",
       "      <td>NaN</td>\n",
       "      <td>1.0</td>\n",
       "      <td>1.0</td>\n",
       "      <td>1.0</td>\n",
       "      <td>67.0</td>\n",
       "      <td>67.0</td>\n",
       "      <td>113851.0</td>\n",
       "      <td>2015-10-24</td>\n",
       "      <td>0</td>\n",
       "      <td>0</td>\n",
       "      <td>0</td>\n",
       "      <td>0</td>\n",
       "      <td>0</td>\n",
       "    </tr>\n",
       "  </tbody>\n",
       "</table>\n",
       "</div>"
      ],
      "text/plain": [
       "                                                  titulo  \\\n",
       "id                                                         \n",
       "4941   casa en venta en miguel hidalgo, distrito federal   \n",
       "51775               departamentos en venta en montebello   \n",
       "\n",
       "                                             descripcion          direccion  \\\n",
       "id                                                                            \n",
       "4941               <p>excelente casa estilo moderno.</p>  Bosque de Cedros    \n",
       "51775  <p>departamento una recamara:\\n</p><p>departam...                NaN   \n",
       "\n",
       "      tipodepropiedad          ciudad         provincia  antiguedad  \\\n",
       "id                                                                    \n",
       "4941             Casa  Miguel Hidalgo  Distrito Federal        29.0   \n",
       "51775     Apartamento          Mérida           Yucatán         NaN   \n",
       "\n",
       "       habitaciones  garages  banos  metroscubiertos  metrostotales    idzona  \\\n",
       "id                                                                              \n",
       "4941            3.0      NaN    4.0            300.0            NaN       NaN   \n",
       "51775           1.0      1.0    1.0             67.0           67.0  113851.0   \n",
       "\n",
       "           fecha  gimnasio  usosmultiples  piscina  escuelascercanas  \\\n",
       "id                                                                     \n",
       "4941  2013-07-20         0              0        0                 0   \n",
       "51775 2015-10-24         0              0        0                 0   \n",
       "\n",
       "       centroscomercialescercanos  \n",
       "id                                 \n",
       "4941                            0  \n",
       "51775                           0  "
      ]
     },
     "metadata": {},
     "output_type": "display_data"
    },
    {
     "name": "stdout",
     "output_type": "stream",
     "text": [
      "(60000, 19)\n"
     ]
    }
   ],
   "source": [
    "display(df2.head(2))\n",
    "print(df2.shape)"
   ]
  },
  {
   "cell_type": "code",
   "execution_count": 13,
   "metadata": {},
   "outputs": [],
   "source": [
    "features = {}\n",
    "features['originales'] = df.columns.values"
   ]
  },
  {
   "cell_type": "markdown",
   "metadata": {},
   "source": [
    "### Variables categoricas (encoding)"
   ]
  },
  {
   "cell_type": "code",
   "execution_count": 22,
   "metadata": {},
   "outputs": [],
   "source": [
    "var_categoricas = ['tipodepropiedad', 'ciudad', 'provincia']"
   ]
  },
  {
   "cell_type": "code",
   "execution_count": 24,
   "metadata": {
    "scrolled": true
   },
   "outputs": [],
   "source": [
    "# label encoding\n",
    "encoder = LabelEncoder()\n",
    "encoded = df[var_categoricas].apply(encoder.fit_transform).add_suffix(\"_labelencoded\")\n",
    "encoded.to_csv('./features/train/categoricas_labelencoded.csv')\n",
    "encoder = LabelEncoder()\n",
    "encoded = df2[var_categoricas].apply(encoder.fit_transform).add_suffix(\"_labelencoded\")\n",
    "encoded.to_csv('./features/test/categoricas_labelencoded.csv')\n",
    "features['categoricas_labelencoded'] = encoded.columns.values"
   ]
  },
  {
   "cell_type": "code",
   "execution_count": 25,
   "metadata": {
    "scrolled": true
   },
   "outputs": [],
   "source": [
    "# onehot \n",
    "\n",
    "# para tipodepropiedad\n",
    "encoder = ce.OneHotEncoder()\n",
    "encoded = encoder.fit_transform(df['tipodepropiedad']).add_suffix(\"_ohencoded\")\n",
    "encoded.to_csv('./features/train/tipodepropiedad_ohencoded.csv')\n",
    "encoder = ce.OneHotEncoder()\n",
    "encoded = encoder.fit_transform(df2['tipodepropiedad']).add_suffix(\"_ohencoded\")\n",
    "encoded.to_csv('./features/test/tipodepropiedad_ohencoded.csv')\n",
    "features['tipodepropiedad_ohencoded'] = encoded.columns.values\n",
    "\n",
    "# para provincias\n",
    "encoder = ce.OneHotEncoder()\n",
    "encoded = encoder.fit_transform(df['provincia']).add_suffix(\"_ohencoded\")\n",
    "encoded.to_csv('./features/train/provincia_ohencoded.csv')\n",
    "encoder = ce.OneHotEncoder()\n",
    "encoded = encoder.fit_transform(df2['provincia']).add_suffix(\"_ohencoded\")\n",
    "encoded.to_csv('./features/test/provincia_ohencoded.csv')\n",
    "features['provincia_ohencoded'] = encoded.columns.values"
   ]
  },
  {
   "cell_type": "markdown",
   "metadata": {},
   "source": [
    "### Generacion de nuevas features"
   ]
  },
  {
   "cell_type": "code",
   "execution_count": 26,
   "metadata": {
    "scrolled": true
   },
   "outputs": [
    {
     "data": {
      "text/plain": [
       "Index(['titulo', 'descripcion', 'direccion', 'tipodepropiedad', 'ciudad',\n",
       "       'provincia', 'antiguedad', 'habitaciones', 'garages', 'banos',\n",
       "       'metroscubiertos', 'metrostotales', 'idzona', 'fecha', 'gimnasio',\n",
       "       'usosmultiples', 'piscina', 'escuelascercanas',\n",
       "       'centroscomercialescercanos', 'precio'],\n",
       "      dtype='object')"
      ]
     },
     "execution_count": 26,
     "metadata": {},
     "output_type": "execute_result"
    }
   ],
   "source": [
    "df.columns"
   ]
  },
  {
   "cell_type": "markdown",
   "metadata": {},
   "source": [
    "##### FECHA"
   ]
  },
  {
   "cell_type": "code",
   "execution_count": 28,
   "metadata": {
    "scrolled": true
   },
   "outputs": [],
   "source": [
    "df_fecha = df[['fecha', 'precio', 'metroscubiertos']].copy()\n",
    "df_fecha2 = df2[['fecha', 'metroscubiertos']].copy()\n",
    "\n",
    "df_fecha['anio'] = df_fecha['fecha'].dt.year\n",
    "df_fecha['mes'] = df_fecha['fecha'].dt.month\n",
    "df_fecha['dia'] = df_fecha['fecha'].dt.day\n",
    "df_fecha['timestamp'] = df_fecha['fecha'].apply(lambda x: datetime.timestamp(x))\n",
    "df_fecha['aniomes'] = df_fecha.apply(lambda row: aniomes(row['anio'], row['mes']), axis=1)\n",
    "\n",
    "df_fecha2['anio'] = df_fecha2['fecha'].dt.year\n",
    "df_fecha2['mes'] = df_fecha2['fecha'].dt.month\n",
    "df_fecha2['dia'] = df_fecha2['fecha'].dt.day\n",
    "df_fecha2['timestamp'] = df_fecha2['fecha'].apply(lambda x: datetime.timestamp(x))\n",
    "df_fecha2['aniomes'] = df_fecha2.apply(lambda row: aniomes(row['anio'], row['mes']), axis=1)"
   ]
  },
  {
   "cell_type": "code",
   "execution_count": 29,
   "metadata": {},
   "outputs": [],
   "source": [
    "# calculamos el precio promedio del metro cubierto por aniomes\n",
    "precio_mtcubierto_aniomes = df_fecha.groupby(['aniomes'])['metroscubiertos', 'precio'].agg(sum).apply(lambda x: x['precio']/x['metroscubiertos'], axis=1)\n",
    "\n",
    "df_fecha['precio_promedio_metrocubierto_aniomes'] = df_fecha['aniomes'].apply(lambda x: precio_mtcubierto_aniomes[x])\n",
    "df_fecha2['precio_promedio_metrocubierto_aniomes'] = df_fecha2['aniomes'].apply(lambda x: precio_mtcubierto_aniomes[x])"
   ]
  },
  {
   "cell_type": "code",
   "execution_count": 30,
   "metadata": {},
   "outputs": [],
   "source": [
    "# calculamos el precio promedio del metro cubierto por mes\n",
    "precio_mtcubierto_mes = df_fecha.groupby(['mes'])['metroscubiertos', 'precio'].agg(sum).apply(lambda x: x['precio']/x['metroscubiertos'], axis=1)\n",
    "\n",
    "df_fecha['precio_promedio_metrocubierto_mes'] = df_fecha['mes'].apply(lambda x: precio_mtcubierto_mes[x])\n",
    "df_fecha2['precio_promedio_metrocubierto_mes'] = df_fecha2['mes'].apply(lambda x: precio_mtcubierto_mes[x])"
   ]
  },
  {
   "cell_type": "code",
   "execution_count": 31,
   "metadata": {},
   "outputs": [],
   "source": [
    "df_fecha = df_fecha.drop(['precio', 'metroscubiertos'], axis=1)\n",
    "df_fecha2 = df_fecha2.drop(['metroscubiertos'], axis=1)\n",
    "\n",
    "pasar_a_enteros = ['precio_promedio_metrocubierto_mes', 'precio_promedio_metrocubierto_aniomes']\n",
    "\n",
    "df_fecha[pasar_a_enteros] = df_fecha[pasar_a_enteros].astype('uint16')\n",
    "df_fecha2[pasar_a_enteros] = df_fecha2[pasar_a_enteros].astype('uint16')"
   ]
  },
  {
   "cell_type": "code",
   "execution_count": 32,
   "metadata": {},
   "outputs": [],
   "source": [
    "df_fecha.to_csv('./features/train/fecha.csv')\n",
    "df_fecha2.to_csv('./features/test/fecha.csv')\n",
    "features['fecha'] = df_fecha.columns.values"
   ]
  },
  {
   "cell_type": "code",
   "execution_count": 34,
   "metadata": {
    "scrolled": true
   },
   "outputs": [],
   "source": [
    "encoder = ce.OneHotEncoder()\n",
    "encoded = encoder.fit_transform(df_fecha['aniomes'].astype('category')).add_suffix(\"_ohencoded\")\n",
    "encoded.to_csv('./features/train/aniomes_ohencoded.csv')\n",
    "encoder = ce.OneHotEncoder()\n",
    "encoded = encoder.fit_transform(df_fecha2['aniomes'].astype('category')).add_suffix(\"_ohencoded\")\n",
    "encoded.to_csv('./features/test/aniomes_ohencoded.csv')\n",
    "\n",
    "features['aniomes_ohencoded'] = encoded.columns.values"
   ]
  },
  {
   "cell_type": "markdown",
   "metadata": {},
   "source": [
    "##### DESCRIPCION"
   ]
  },
  {
   "cell_type": "code",
   "execution_count": 35,
   "metadata": {
    "scrolled": true
   },
   "outputs": [
    {
     "data": {
      "text/plain": [
       "Index(['titulo', 'descripcion', 'direccion', 'tipodepropiedad', 'ciudad',\n",
       "       'provincia', 'antiguedad', 'habitaciones', 'garages', 'banos',\n",
       "       'metroscubiertos', 'metrostotales', 'idzona', 'fecha', 'gimnasio',\n",
       "       'usosmultiples', 'piscina', 'escuelascercanas',\n",
       "       'centroscomercialescercanos', 'precio'],\n",
       "      dtype='object')"
      ]
     },
     "execution_count": 35,
     "metadata": {},
     "output_type": "execute_result"
    }
   ],
   "source": [
    "df.columns"
   ]
  },
  {
   "cell_type": "code",
   "execution_count": 42,
   "metadata": {},
   "outputs": [],
   "source": [
    "df_descripcion = df[['descripcion']].copy()\n",
    "df_descripcion2 = df2[['descripcion']].copy()\n",
    "\n",
    "indicadores = [\"jardin\", \"patio\", \"jardín\"]\n",
    "df_descripcion[\"jardin\"] = df_descripcion[\"descripcion\"].map(lambda x: contiene_indicadores(x, indicadores))\n",
    "df_descripcion2[\"jardin\"] = df_descripcion2[\"descripcion\"].map(lambda x: contiene_indicadores(x, indicadores))\n",
    "\n",
    "indicadores = [\"vigilancia\", \"seguridad\"]\n",
    "df_descripcion[\"vigilancia\"] = df_descripcion[\"descripcion\"].map(lambda x: contiene_indicadores(x, indicadores))\n",
    "df_descripcion2[\"vigilancia\"] = df_descripcion2[\"descripcion\"].map(lambda x: contiene_indicadores(x, indicadores))\n",
    "\n",
    "indicadores = [\"aire acondicionado\", \"aires acondicionados\"]\n",
    "df_descripcion[\"aire_acondicionado\"] = df_descripcion[\"descripcion\"].map(lambda x: contiene_indicadores(x, indicadores))\n",
    "df_descripcion2[\"aire_acondicionado\"] = df_descripcion2[\"descripcion\"].map(lambda x: contiene_indicadores(x, indicadores))\n",
    "\n",
    "indicadores = [\"ventilador\", \"ventiladores\"]\n",
    "df_descripcion[\"ventilador\"] = df_descripcion[\"descripcion\"].map(lambda x: contiene_indicadores(x, indicadores))\n",
    "df_descripcion2[\"ventilador\"] = df_descripcion2[\"descripcion\"].map(lambda x: contiene_indicadores(x, indicadores))\n",
    "\n",
    "indicadores = [\"calefaccion\", \"caloventor\", \"estufa\", \"calefacción\", \"calentador\"]\n",
    "df_descripcion[\"calefaccion\"] = df_descripcion[\"descripcion\"].map(lambda x: contiene_indicadores(x, indicadores))\n",
    "df_descripcion2[\"calefaccion\"] = df_descripcion2[\"descripcion\"].map(lambda x: contiene_indicadores(x, indicadores))"
   ]
  },
  {
   "cell_type": "code",
   "execution_count": 44,
   "metadata": {},
   "outputs": [],
   "source": [
    "df_descripcion.drop('descripcion', inplace=True, axis=1)\n",
    "df_descripcion2.drop('descripcion', inplace=True, axis=1)\n",
    "\n",
    "df_descripcion.to_csv('./features/train/descripcion.csv')\n",
    "df_descripcion2.to_csv('./features/test/descripcion.csv')\n",
    "features['descripcion'] = df_descripcion.columns.values"
   ]
  },
  {
   "cell_type": "markdown",
   "metadata": {},
   "source": [
    "##### BINNING (+OHE)"
   ]
  },
  {
   "cell_type": "code",
   "execution_count": 100,
   "metadata": {},
   "outputs": [],
   "source": [
    "# binning para antiguedad\n",
    "\n",
    "df_antiguedad = df[['antiguedad']].copy()\n",
    "df_antiguedad2 = df2[['antiguedad']].copy()"
   ]
  },
  {
   "cell_type": "code",
   "execution_count": 101,
   "metadata": {
    "scrolled": true
   },
   "outputs": [],
   "source": [
    "df_antiguedad['antiguedad'].fillna(-1, inplace=True)\n",
    "df_antiguedad2['antiguedad'].fillna(-1, inplace=True)\n",
    "\n",
    "df_antiguedad['antiguedad'] = df_antiguedad['antiguedad'].astype(int)\n",
    "df_antiguedad2['antiguedad'] = df_antiguedad2['antiguedad'].astype(int)\n",
    "\n",
    "df_antiguedad['antiguedad_binning'] = df_antiguedad['antiguedad'].map(lambda x: binning_antiguedad(x))\n",
    "df_antiguedad2['antiguedad_binning'] = df_antiguedad2['antiguedad'].map(lambda x: binning_antiguedad(x))"
   ]
  },
  {
   "cell_type": "code",
   "execution_count": 102,
   "metadata": {},
   "outputs": [],
   "source": [
    "# ohe\n",
    "encoder = ce.OneHotEncoder()\n",
    "encoded = encoder.fit_transform(df_antiguedad['antiguedad_binning']).add_suffix(\"_ohencoded\")\n",
    "encoded.to_csv('./features/train/antiguedad_binning.csv')\n",
    "encoder = ce.OneHotEncoder()\n",
    "encoded = encoder.fit_transform(df_antiguedad2['antiguedad_binning']).add_suffix(\"_ohencoded\")\n",
    "encoded.to_csv('./features/test/antiguedad_binning.csv')\n",
    "features['antiguedad_binning'] = encoded.columns.values"
   ]
  },
  {
   "cell_type": "code",
   "execution_count": 95,
   "metadata": {},
   "outputs": [],
   "source": [
    "# binning para habitaciones\n",
    "df_habitaciones = df[['habitaciones']].copy()\n",
    "df_habitaciones2 = df2[['habitaciones']].copy()"
   ]
  },
  {
   "cell_type": "code",
   "execution_count": 107,
   "metadata": {},
   "outputs": [],
   "source": [
    "df_habitaciones['habitaciones'].fillna(-1, inplace=True)\n",
    "df_habitaciones2['habitaciones'].fillna(-1, inplace=True)\n",
    "\n",
    "df_habitaciones['habitaciones'] = df_habitaciones['habitaciones'].astype(int)\n",
    "df_habitaciones2['habitaciones'] = df_habitaciones2['habitaciones'].astype(int)\n",
    "\n",
    "df_habitaciones['hab_binning'] = df_habitaciones['habitaciones'].map(lambda x: binning_habitaciones(x))\n",
    "df_habitaciones2['hab_binning'] = df_habitaciones2['habitaciones'].map(lambda x: binning_habitaciones(x))"
   ]
  },
  {
   "cell_type": "code",
   "execution_count": 112,
   "metadata": {},
   "outputs": [],
   "source": [
    "# ohe\n",
    "encoder = ce.OneHotEncoder()\n",
    "encoded = encoder.fit_transform(df_habitaciones['hab_binning']).add_suffix(\"_ohencoded\")\n",
    "encoded.to_csv('./features/train/habitaciones_binning.csv')\n",
    "encoder = ce.OneHotEncoder()\n",
    "encoded = encoder.fit_transform(df_habitaciones2['hab_binning']).add_suffix(\"_ohencoded\")\n",
    "encoded.to_csv('./features/test/habitaciones_binning.csv')\n",
    "features['habitaciones_binning'] = encoded.columns.values"
   ]
  },
  {
   "cell_type": "markdown",
   "metadata": {},
   "source": [
    "# Resultados"
   ]
  },
  {
   "cell_type": "code",
   "execution_count": 88,
   "metadata": {},
   "outputs": [
    {
     "data": {
      "text/plain": [
       "{'originales': array(['titulo', 'descripcion', 'direccion', 'tipodepropiedad', 'ciudad',\n",
       "        'provincia', 'antiguedad', 'habitaciones', 'garages', 'banos',\n",
       "        'metroscubiertos', 'metrostotales', 'idzona', 'fecha', 'gimnasio',\n",
       "        'usosmultiples', 'piscina', 'escuelascercanas',\n",
       "        'centroscomercialescercanos', 'precio'], dtype=object),\n",
       " 'categoricas_labelencoded': array(['tipodepropiedad_labelencoded', 'ciudad_labelencoded',\n",
       "        'provincia_labelencoded'], dtype=object),\n",
       " 'tipodepropiedad_ohencoded': array(['tipodepropiedad_1_ohencoded', 'tipodepropiedad_2_ohencoded',\n",
       "        'tipodepropiedad_3_ohencoded', 'tipodepropiedad_4_ohencoded',\n",
       "        'tipodepropiedad_5_ohencoded', 'tipodepropiedad_6_ohencoded',\n",
       "        'tipodepropiedad_7_ohencoded', 'tipodepropiedad_8_ohencoded',\n",
       "        'tipodepropiedad_9_ohencoded', 'tipodepropiedad_10_ohencoded'],\n",
       "       dtype=object),\n",
       " 'provincia_ohencoded': array(['provincia_1_ohencoded', 'provincia_2_ohencoded',\n",
       "        'provincia_3_ohencoded', 'provincia_4_ohencoded',\n",
       "        'provincia_5_ohencoded', 'provincia_6_ohencoded',\n",
       "        'provincia_7_ohencoded', 'provincia_8_ohencoded',\n",
       "        'provincia_9_ohencoded', 'provincia_10_ohencoded',\n",
       "        'provincia_11_ohencoded', 'provincia_12_ohencoded',\n",
       "        'provincia_13_ohencoded', 'provincia_14_ohencoded',\n",
       "        'provincia_15_ohencoded', 'provincia_16_ohencoded',\n",
       "        'provincia_17_ohencoded', 'provincia_18_ohencoded',\n",
       "        'provincia_19_ohencoded', 'provincia_20_ohencoded',\n",
       "        'provincia_21_ohencoded', 'provincia_22_ohencoded',\n",
       "        'provincia_23_ohencoded', 'provincia_24_ohencoded',\n",
       "        'provincia_25_ohencoded', 'provincia_26_ohencoded',\n",
       "        'provincia_27_ohencoded', 'provincia_28_ohencoded',\n",
       "        'provincia_29_ohencoded', 'provincia_30_ohencoded',\n",
       "        'provincia_31_ohencoded', 'provincia_32_ohencoded',\n",
       "        'provincia_33_ohencoded'], dtype=object),\n",
       " 'fecha': array(['fecha', 'anio', 'mes', 'dia', 'timestamp', 'aniomes',\n",
       "        'precio_promedio_metrocubierto_aniomes',\n",
       "        'precio_promedio_metrocubierto_mes'], dtype=object),\n",
       " 'aniomes_ohencoded': array(['aniomes_1_ohencoded', 'aniomes_2_ohencoded',\n",
       "        'aniomes_3_ohencoded', 'aniomes_4_ohencoded',\n",
       "        'aniomes_5_ohencoded', 'aniomes_6_ohencoded',\n",
       "        'aniomes_7_ohencoded', 'aniomes_8_ohencoded',\n",
       "        'aniomes_9_ohencoded', 'aniomes_10_ohencoded',\n",
       "        'aniomes_11_ohencoded', 'aniomes_12_ohencoded',\n",
       "        'aniomes_13_ohencoded', 'aniomes_14_ohencoded',\n",
       "        'aniomes_15_ohencoded', 'aniomes_16_ohencoded',\n",
       "        'aniomes_17_ohencoded', 'aniomes_18_ohencoded',\n",
       "        'aniomes_19_ohencoded', 'aniomes_20_ohencoded',\n",
       "        'aniomes_21_ohencoded', 'aniomes_22_ohencoded',\n",
       "        'aniomes_23_ohencoded', 'aniomes_24_ohencoded',\n",
       "        'aniomes_25_ohencoded', 'aniomes_26_ohencoded',\n",
       "        'aniomes_27_ohencoded', 'aniomes_28_ohencoded',\n",
       "        'aniomes_29_ohencoded', 'aniomes_30_ohencoded',\n",
       "        'aniomes_31_ohencoded', 'aniomes_32_ohencoded',\n",
       "        'aniomes_33_ohencoded', 'aniomes_34_ohencoded',\n",
       "        'aniomes_35_ohencoded', 'aniomes_36_ohencoded',\n",
       "        'aniomes_37_ohencoded', 'aniomes_38_ohencoded',\n",
       "        'aniomes_39_ohencoded', 'aniomes_40_ohencoded',\n",
       "        'aniomes_41_ohencoded', 'aniomes_42_ohencoded',\n",
       "        'aniomes_43_ohencoded', 'aniomes_44_ohencoded',\n",
       "        'aniomes_45_ohencoded', 'aniomes_46_ohencoded',\n",
       "        'aniomes_47_ohencoded', 'aniomes_48_ohencoded',\n",
       "        'aniomes_49_ohencoded', 'aniomes_50_ohencoded',\n",
       "        'aniomes_51_ohencoded', 'aniomes_52_ohencoded',\n",
       "        'aniomes_53_ohencoded', 'aniomes_54_ohencoded',\n",
       "        'aniomes_55_ohencoded', 'aniomes_56_ohencoded',\n",
       "        'aniomes_57_ohencoded', 'aniomes_58_ohencoded',\n",
       "        'aniomes_59_ohencoded', 'aniomes_60_ohencoded'], dtype=object),\n",
       " 'descripcion': array(['jardin', 'vigilancia', 'aire_acondicionado', 'ventilador',\n",
       "        'calefaccion'], dtype=object),\n",
       " 'antiguedad_binning': array(['antiguedad_binning_1_ohencoded', 'antiguedad_binning_2_ohencoded',\n",
       "        'antiguedad_binning_3_ohencoded', 'antiguedad_binning_4_ohencoded',\n",
       "        'antiguedad_binning_5_ohencoded', 'antiguedad_binning_6_ohencoded',\n",
       "        'antiguedad_binning_7_ohencoded', 'antiguedad_binning_8_ohencoded',\n",
       "        'antiguedad_binning_9_ohencoded'], dtype=object)}"
      ]
     },
     "execution_count": 88,
     "metadata": {},
     "output_type": "execute_result"
    }
   ],
   "source": [
    "features\n",
    "# hardcodear diccionario para devolverlo"
   ]
  },
  {
   "cell_type": "code",
   "execution_count": null,
   "metadata": {},
   "outputs": [],
   "source": []
  }
 ],
 "metadata": {
  "kernelspec": {
   "display_name": "Python 3",
   "language": "python",
   "name": "python3"
  },
  "language_info": {
   "codemirror_mode": {
    "name": "ipython",
    "version": 3
   },
   "file_extension": ".py",
   "mimetype": "text/x-python",
   "name": "python",
   "nbconvert_exporter": "python",
   "pygments_lexer": "ipython3",
   "version": "3.6.8"
  }
 },
 "nbformat": 4,
 "nbformat_minor": 2
}
