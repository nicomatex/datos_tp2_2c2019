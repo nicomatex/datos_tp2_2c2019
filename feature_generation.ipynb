{
 "cells": [
  {
   "cell_type": "markdown",
   "metadata": {},
   "source": [
    "# feature_generation"
   ]
  },
  {
   "cell_type": "code",
   "execution_count": 1,
   "metadata": {},
   "outputs": [],
   "source": [
    "import pandas as pd\n",
    "from datetime import datetime\n",
    "\n",
    "from sklearn.preprocessing import LabelEncoder\n",
    "import category_encoders as ce"
   ]
  },
  {
   "cell_type": "code",
   "execution_count": 2,
   "metadata": {},
   "outputs": [
    {
     "name": "stdout",
     "output_type": "stream",
     "text": [
      "Importing Jupyter notebook from pre_processing.ipynb\n"
     ]
    }
   ],
   "source": [
    "import nbimporter\n",
    "from pre_processing import load_appended_dataset, separate_train_test, load_datasets"
   ]
  },
  {
   "cell_type": "markdown",
   "metadata": {},
   "source": [
    "### Funciones auxiliares"
   ]
  },
  {
   "cell_type": "code",
   "execution_count": 3,
   "metadata": {},
   "outputs": [],
   "source": [
    "def corr(df):\n",
    "    return df.corr()['precio'].sort_values(ascending=False)[1:]"
   ]
  },
  {
   "cell_type": "code",
   "execution_count": 4,
   "metadata": {},
   "outputs": [],
   "source": [
    "def aniomes(anio, mes):\n",
    "    if len(str(mes)) == 1:\n",
    "        return int(str(anio)+'0'+str(mes))\n",
    "    return int(str(anio)+str(mes))"
   ]
  },
  {
   "cell_type": "code",
   "execution_count": 5,
   "metadata": {},
   "outputs": [],
   "source": [
    "def contiene_indicadores(descripcion, indicadores):\n",
    "    for indicador in indicadores:\n",
    "        if indicador in str(descripcion).lower():\n",
    "            return 1\n",
    "    return 0"
   ]
  },
  {
   "cell_type": "code",
   "execution_count": 6,
   "metadata": {},
   "outputs": [],
   "source": [
    "def binning_habitaciones(x):\n",
    "    if (x==-1):\n",
    "        return 'unknown'\n",
    "    elif x==1:\n",
    "        return 'monoambiente'\n",
    "    elif (x==2):\n",
    "        return 'dos ambientes'\n",
    "    elif (x==3):\n",
    "        return 'tres ambientes'\n",
    "    elif (x==4):\n",
    "        return 'cuatro ambientes'\n",
    "    elif (x==5):\n",
    "        return 'cinco ambientes'\n",
    "    else:\n",
    "        return 'mas de 5 ambientes'"
   ]
  },
  {
   "cell_type": "code",
   "execution_count": 7,
   "metadata": {},
   "outputs": [],
   "source": [
    "def binning_antiguedad(x):\n",
    "    if (x==-1):\n",
    "        return 'unknown'\n",
    "    elif x==0:\n",
    "        return 'new'\n",
    "    elif (x<=5):\n",
    "        return '0 a 5'\n",
    "    elif (x<=10):\n",
    "        return '5 a 10'\n",
    "    elif (x<=15):\n",
    "        return '10 a 15'\n",
    "    elif (x<=20):\n",
    "        return '15 a 20'\n",
    "    elif (x<=30):\n",
    "        return '20 a 30'\n",
    "    elif (x<=50):\n",
    "        return '30 a 50'\n",
    "    else:\n",
    "        return '+50'\n",
    "    "
   ]
  },
  {
   "cell_type": "code",
   "execution_count": 8,
   "metadata": {},
   "outputs": [],
   "source": [
    "filas_train = 240000\n",
    "filas_test = 60000"
   ]
  },
  {
   "cell_type": "markdown",
   "metadata": {},
   "source": [
    "# Desarollo"
   ]
  },
  {
   "cell_type": "code",
   "execution_count": 9,
   "metadata": {},
   "outputs": [],
   "source": [
    "df = load_appended_dataset()"
   ]
  },
  {
   "cell_type": "code",
   "execution_count": 10,
   "metadata": {},
   "outputs": [
    {
     "data": {
      "text/html": [
       "<div>\n",
       "<style scoped>\n",
       "    .dataframe tbody tr th:only-of-type {\n",
       "        vertical-align: middle;\n",
       "    }\n",
       "\n",
       "    .dataframe tbody tr th {\n",
       "        vertical-align: top;\n",
       "    }\n",
       "\n",
       "    .dataframe thead th {\n",
       "        text-align: right;\n",
       "    }\n",
       "</style>\n",
       "<table border=\"1\" class=\"dataframe\">\n",
       "  <thead>\n",
       "    <tr style=\"text-align: right;\">\n",
       "      <th></th>\n",
       "      <th>titulo</th>\n",
       "      <th>descripcion</th>\n",
       "      <th>direccion</th>\n",
       "      <th>tipodepropiedad</th>\n",
       "      <th>ciudad</th>\n",
       "      <th>provincia</th>\n",
       "      <th>antiguedad</th>\n",
       "      <th>habitaciones</th>\n",
       "      <th>garages</th>\n",
       "      <th>banos</th>\n",
       "      <th>metroscubiertos</th>\n",
       "      <th>metrostotales</th>\n",
       "      <th>idzona</th>\n",
       "      <th>fecha</th>\n",
       "      <th>gimnasio</th>\n",
       "      <th>usosmultiples</th>\n",
       "      <th>piscina</th>\n",
       "      <th>escuelascercanas</th>\n",
       "      <th>centroscomercialescercanos</th>\n",
       "      <th>precio</th>\n",
       "    </tr>\n",
       "    <tr>\n",
       "      <th>id</th>\n",
       "      <th></th>\n",
       "      <th></th>\n",
       "      <th></th>\n",
       "      <th></th>\n",
       "      <th></th>\n",
       "      <th></th>\n",
       "      <th></th>\n",
       "      <th></th>\n",
       "      <th></th>\n",
       "      <th></th>\n",
       "      <th></th>\n",
       "      <th></th>\n",
       "      <th></th>\n",
       "      <th></th>\n",
       "      <th></th>\n",
       "      <th></th>\n",
       "      <th></th>\n",
       "      <th></th>\n",
       "      <th></th>\n",
       "      <th></th>\n",
       "    </tr>\n",
       "  </thead>\n",
       "  <tbody>\n",
       "    <tr>\n",
       "      <td>254099</td>\n",
       "      <td>depto. tipo a-402</td>\n",
       "      <td>depto. interior de 80.15m2, consta de sala com...</td>\n",
       "      <td>Avenida Division del Norte 2005</td>\n",
       "      <td>Apartamento</td>\n",
       "      <td>Benito Juárez</td>\n",
       "      <td>Distrito Federal</td>\n",
       "      <td>NaN</td>\n",
       "      <td>2.0</td>\n",
       "      <td>1.0</td>\n",
       "      <td>2.0</td>\n",
       "      <td>80.0</td>\n",
       "      <td>80.0</td>\n",
       "      <td>23533.0</td>\n",
       "      <td>2015-08-23</td>\n",
       "      <td>0</td>\n",
       "      <td>0</td>\n",
       "      <td>0</td>\n",
       "      <td>0</td>\n",
       "      <td>0</td>\n",
       "      <td>2273000.0</td>\n",
       "    </tr>\n",
       "  </tbody>\n",
       "</table>\n",
       "</div>"
      ],
      "text/plain": [
       "                   titulo                                        descripcion  \\\n",
       "id                                                                             \n",
       "254099  depto. tipo a-402  depto. interior de 80.15m2, consta de sala com...   \n",
       "\n",
       "                              direccion tipodepropiedad         ciudad  \\\n",
       "id                                                                       \n",
       "254099  Avenida Division del Norte 2005     Apartamento  Benito Juárez   \n",
       "\n",
       "               provincia  antiguedad  habitaciones  garages  banos  \\\n",
       "id                                                                   \n",
       "254099  Distrito Federal         NaN           2.0      1.0    2.0   \n",
       "\n",
       "        metroscubiertos  metrostotales   idzona      fecha  gimnasio  \\\n",
       "id                                                                     \n",
       "254099             80.0           80.0  23533.0 2015-08-23         0   \n",
       "\n",
       "        usosmultiples  piscina  escuelascercanas  centroscomercialescercanos  \\\n",
       "id                                                                             \n",
       "254099              0        0                 0                           0   \n",
       "\n",
       "           precio  \n",
       "id                 \n",
       "254099  2273000.0  "
      ]
     },
     "metadata": {},
     "output_type": "display_data"
    },
    {
     "name": "stdout",
     "output_type": "stream",
     "text": [
      "(300000, 20)\n"
     ]
    }
   ],
   "source": [
    "display(df.head(1))\n",
    "print(df.shape)"
   ]
  },
  {
   "cell_type": "code",
   "execution_count": 11,
   "metadata": {},
   "outputs": [],
   "source": [
    "features = {}"
   ]
  },
  {
   "cell_type": "markdown",
   "metadata": {},
   "source": [
    "### Variables categoricas (encoding)"
   ]
  },
  {
   "cell_type": "code",
   "execution_count": 14,
   "metadata": {},
   "outputs": [],
   "source": [
    "var_categoricas = ['tipodepropiedad', 'ciudad', 'provincia']"
   ]
  },
  {
   "cell_type": "code",
   "execution_count": 15,
   "metadata": {
    "scrolled": true
   },
   "outputs": [],
   "source": [
    "# label encoding\n",
    "encoder = LabelEncoder()\n",
    "encoded = df[var_categoricas].apply(encoder.fit_transform).add_suffix(\"_labelencoded\")\n",
    "encoded.to_csv('./features/categoricas_labelencoded.csv')\n",
    "features['categoricas_labelencoded'] = encoded.columns.values"
   ]
  },
  {
   "cell_type": "code",
   "execution_count": 16,
   "metadata": {
    "scrolled": true
   },
   "outputs": [],
   "source": [
    "# onehot \n",
    "\n",
    "# para tipodepropiedad\n",
    "encoder = ce.OneHotEncoder()\n",
    "encoded = encoder.fit_transform(df['tipodepropiedad']).add_suffix(\"_ohencoded\")\n",
    "encoded.to_csv('./features/tipodepropiedad_ohencoded.csv')\n",
    "features['tipodepropiedad_ohencoded'] = encoded.columns.values\n",
    "\n",
    "# para provincias\n",
    "encoder = ce.OneHotEncoder()\n",
    "encoded = encoder.fit_transform(df['provincia']).add_suffix(\"_ohencoded\")\n",
    "encoded.to_csv('./features/provincia_ohencoded.csv')\n",
    "features['provincia_ohencoded'] = encoded.columns.values\n",
    "\n",
    "# para ciudades\n",
    "encoder = ce.OneHotEncoder()\n",
    "encoded = encoder.fit_transform(df['ciudad']).add_suffix(\"_ohencoded\")\n",
    "encoded.to_csv('./features/ciudad_ohencoded.csv')\n",
    "features['ciudad_ohencoded'] = encoded.columns.values\n"
   ]
  },
  {
   "cell_type": "markdown",
   "metadata": {},
   "source": [
    "### Generacion de nuevas features"
   ]
  },
  {
   "cell_type": "markdown",
   "metadata": {},
   "source": [
    "##### FECHA"
   ]
  },
  {
   "cell_type": "code",
   "execution_count": 12,
   "metadata": {
    "scrolled": true
   },
   "outputs": [],
   "source": [
    "df_fecha = df[['fecha', 'precio', 'metroscubiertos']].copy()\n",
    "\n",
    "df_fecha['anio'] = df_fecha['fecha'].dt.year\n",
    "df_fecha['mes'] = df_fecha['fecha'].dt.month\n",
    "df_fecha['dia'] = df_fecha['fecha'].dt.day\n",
    "df_fecha['timestamp'] = df_fecha['fecha'].apply(lambda x: datetime.timestamp(x))\n",
    "df_fecha['aniomes'] = df_fecha.apply(lambda row: aniomes(row['anio'], row['mes']), axis=1)"
   ]
  },
  {
   "cell_type": "code",
   "execution_count": 18,
   "metadata": {},
   "outputs": [],
   "source": [
    "# calculamos el precio promedio del metro cubierto por aniomes\n",
    "precio_mtcubierto_aniomes = df_fecha.head(filas_train).groupby(['aniomes'])['metroscubiertos', 'precio'].agg(sum).apply(lambda x: x['precio']/x['metroscubiertos'], axis=1)\n",
    "df_fecha['precio_promedio_metrocubierto_aniomes'] = df_fecha['aniomes'].apply(lambda x: precio_mtcubierto_aniomes[x])"
   ]
  },
  {
   "cell_type": "code",
   "execution_count": 19,
   "metadata": {},
   "outputs": [],
   "source": [
    "# calculamos el precio promedio del metro cubierto por mes\n",
    "precio_mtcubierto_mes = df_fecha.head(filas_train).groupby(['mes'])['metroscubiertos', 'precio'].agg(sum).apply(lambda x: x['precio']/x['metroscubiertos'], axis=1)\n",
    "df_fecha['precio_promedio_metrocubierto_mes'] = df_fecha['mes'].apply(lambda x: precio_mtcubierto_mes[x])"
   ]
  },
  {
   "cell_type": "code",
   "execution_count": 20,
   "metadata": {},
   "outputs": [],
   "source": [
    "df_fecha = df_fecha.drop(['fecha', 'precio', 'metroscubiertos'], axis=1)\n",
    "pasar_a_enteros = ['precio_promedio_metrocubierto_mes', 'precio_promedio_metrocubierto_aniomes']\n",
    "df_fecha[pasar_a_enteros] = df_fecha[pasar_a_enteros].astype('uint16')"
   ]
  },
  {
   "cell_type": "code",
   "execution_count": 21,
   "metadata": {},
   "outputs": [],
   "source": [
    "df_fecha.to_csv('./features/fecha.csv')\n",
    "features['fecha'] = df_fecha.columns.values"
   ]
  },
  {
   "cell_type": "code",
   "execution_count": 22,
   "metadata": {
    "scrolled": true
   },
   "outputs": [],
   "source": [
    "encoder = ce.OneHotEncoder()\n",
    "encoded = encoder.fit_transform(df_fecha['aniomes'].astype('category')).add_suffix(\"_ohencoded\")\n",
    "encoded.to_csv('./features/aniomes_ohencoded.csv')\n",
    "\n",
    "features['aniomes_ohencoded'] = encoded.columns.values"
   ]
  },
  {
   "cell_type": "markdown",
   "metadata": {},
   "source": [
    "##### DESCRIPCION"
   ]
  },
  {
   "cell_type": "code",
   "execution_count": 23,
   "metadata": {},
   "outputs": [],
   "source": [
    "df_descripcion = df[['descripcion']].copy()\n",
    "\n",
    "indicadores = [\"jardin\", \"patio\", \"jardín\"]\n",
    "df_descripcion[\"jardin\"] = df_descripcion[\"descripcion\"].map(lambda x: contiene_indicadores(x, indicadores))\n",
    "\n",
    "indicadores = [\"vigilancia\", \"seguridad\"]\n",
    "df_descripcion[\"vigilancia\"] = df_descripcion[\"descripcion\"].map(lambda x: contiene_indicadores(x, indicadores))\n",
    "\n",
    "indicadores = [\"aire acondicionado\", \"aires acondicionados\"]\n",
    "df_descripcion[\"aire_acondicionado\"] = df_descripcion[\"descripcion\"].map(lambda x: contiene_indicadores(x, indicadores))\n",
    "\n",
    "indicadores = [\"ventilador\", \"ventiladores\"]\n",
    "df_descripcion[\"ventilador\"] = df_descripcion[\"descripcion\"].map(lambda x: contiene_indicadores(x, indicadores))\n",
    "\n",
    "indicadores = [\"calefaccion\", \"caloventor\", \"estufa\", \"calefacción\", \"calentador\"]\n",
    "df_descripcion[\"calefaccion\"] = df_descripcion[\"descripcion\"].map(lambda x: contiene_indicadores(x, indicadores))"
   ]
  },
  {
   "cell_type": "code",
   "execution_count": 24,
   "metadata": {},
   "outputs": [],
   "source": [
    "df_descripcion.drop('descripcion', inplace=True, axis=1)\n",
    "df_descripcion.to_csv('./features/descripcion.csv')\n",
    "\n",
    "features['descripcion'] = df_descripcion.columns.values"
   ]
  },
  {
   "cell_type": "markdown",
   "metadata": {},
   "source": [
    "##### MEAN Y STD DE SUPERFICIE CUBIERTA POR CIUDAD"
   ]
  },
  {
   "cell_type": "code",
   "execution_count": 25,
   "metadata": {},
   "outputs": [],
   "source": [
    "df_superficie_cubierta = df[['metroscubiertos','ciudad']].copy().reset_index()\n",
    "\n",
    "avg_metroscubiertos = df_superficie_cubierta.groupby('ciudad').agg({\"metroscubiertos\":[\"mean\",\"std\"]}).reset_index()\n",
    "avg_metroscubiertos.columns = ['ciudad','metroscubiertos_mean','metroscubiertos_std']\n",
    "\n",
    "df_superficie_cubierta_mean_std = pd.merge(df_superficie_cubierta,avg_metroscubiertos,how='inner',on='ciudad').set_index('id')\n",
    "df_superficie_cubierta_mean_std = df_superficie_cubierta_mean_std[[\"metroscubiertos_mean\",\"metroscubiertos_std\"]]\n",
    "\n",
    "df_superficie_cubierta_mean_std.to_csv('./features/superficie_mean_std.csv')"
   ]
  },
  {
   "cell_type": "markdown",
   "metadata": {},
   "source": [
    "##### BINNING (+OHE)"
   ]
  },
  {
   "cell_type": "code",
   "execution_count": 26,
   "metadata": {},
   "outputs": [],
   "source": [
    "# binning para antiguedad\n",
    "df_antiguedad = df[['antiguedad']].copy()"
   ]
  },
  {
   "cell_type": "code",
   "execution_count": 27,
   "metadata": {
    "scrolled": true
   },
   "outputs": [],
   "source": [
    "df_antiguedad['antiguedad'].fillna(-1, inplace=True)\n",
    "df_antiguedad['antiguedad'] = df_antiguedad['antiguedad'].astype(int)\n",
    "df_antiguedad['antiguedad_binning'] = df_antiguedad['antiguedad'].map(lambda x: binning_antiguedad(x))"
   ]
  },
  {
   "cell_type": "code",
   "execution_count": 28,
   "metadata": {},
   "outputs": [],
   "source": [
    "# ohe\n",
    "encoder = ce.OneHotEncoder()\n",
    "encoded = encoder.fit_transform(df_antiguedad['antiguedad_binning']).add_suffix(\"_ohencoded\")\n",
    "encoded.to_csv('./features/antiguedad_binning.csv')\n",
    "features['antiguedad_binning'] = encoded.columns.values"
   ]
  },
  {
   "cell_type": "code",
   "execution_count": 29,
   "metadata": {},
   "outputs": [],
   "source": [
    "# binning para habitaciones\n",
    "df_habitaciones = df[['habitaciones']].copy()"
   ]
  },
  {
   "cell_type": "code",
   "execution_count": 30,
   "metadata": {},
   "outputs": [],
   "source": [
    "df_habitaciones['habitaciones'].fillna(-1, inplace=True)\n",
    "df_habitaciones['habitaciones'] = df_habitaciones['habitaciones'].astype(int)\n",
    "df_habitaciones['hab_binning'] = df_habitaciones['habitaciones'].map(lambda x: binning_habitaciones(x))"
   ]
  },
  {
   "cell_type": "code",
   "execution_count": 31,
   "metadata": {},
   "outputs": [],
   "source": [
    "# ohe\n",
    "encoder = ce.OneHotEncoder()\n",
    "encoded = encoder.fit_transform(df_habitaciones['hab_binning']).add_suffix(\"_ohencoded\")\n",
    "encoded.to_csv('./features/habitaciones_binning.csv')\n",
    "features['habitaciones_binning'] = encoded.columns.values"
   ]
  },
  {
   "cell_type": "markdown",
   "metadata": {},
   "source": [
    "##### COTIZACION DEL USD"
   ]
  },
  {
   "cell_type": "code",
   "execution_count": 38,
   "metadata": {},
   "outputs": [],
   "source": [
    "df_cotizacion = df_fecha[['aniomes']].copy().reset_index()\n",
    "\n",
    "# Cargamos el dataset preprocesado en pre_processing.\n",
    "usd = pd.read_csv('data/usd_mxn_featured')"
   ]
  },
  {
   "cell_type": "code",
   "execution_count": 39,
   "metadata": {},
   "outputs": [],
   "source": [
    "usd = usd[['aniomes', 'usd_mxn', 'mxn_usd']]"
   ]
  },
  {
   "cell_type": "code",
   "execution_count": 40,
   "metadata": {
    "scrolled": true
   },
   "outputs": [],
   "source": [
    "df_cotizacion = pd.merge(df_cotizacion, usd, on='aniomes', how='inner').drop('aniomes', axis=1)"
   ]
  },
  {
   "cell_type": "code",
   "execution_count": 41,
   "metadata": {},
   "outputs": [],
   "source": [
    "df_cotizacion.set_index('id', inplace=True)"
   ]
  },
  {
   "cell_type": "code",
   "execution_count": 42,
   "metadata": {
    "scrolled": true
   },
   "outputs": [
    {
     "data": {
      "text/html": [
       "<div>\n",
       "<style scoped>\n",
       "    .dataframe tbody tr th:only-of-type {\n",
       "        vertical-align: middle;\n",
       "    }\n",
       "\n",
       "    .dataframe tbody tr th {\n",
       "        vertical-align: top;\n",
       "    }\n",
       "\n",
       "    .dataframe thead th {\n",
       "        text-align: right;\n",
       "    }\n",
       "</style>\n",
       "<table border=\"1\" class=\"dataframe\">\n",
       "  <thead>\n",
       "    <tr style=\"text-align: right;\">\n",
       "      <th></th>\n",
       "      <th>usd_mxn</th>\n",
       "      <th>mxn_usd</th>\n",
       "    </tr>\n",
       "    <tr>\n",
       "      <th>id</th>\n",
       "      <th></th>\n",
       "      <th></th>\n",
       "    </tr>\n",
       "  </thead>\n",
       "  <tbody>\n",
       "    <tr>\n",
       "      <td>254099</td>\n",
       "      <td>16.55105</td>\n",
       "      <td>0.060419</td>\n",
       "    </tr>\n",
       "    <tr>\n",
       "      <td>18684</td>\n",
       "      <td>16.55105</td>\n",
       "      <td>0.060419</td>\n",
       "    </tr>\n",
       "    <tr>\n",
       "      <td>81195</td>\n",
       "      <td>16.55105</td>\n",
       "      <td>0.060419</td>\n",
       "    </tr>\n",
       "    <tr>\n",
       "      <td>14228</td>\n",
       "      <td>16.55105</td>\n",
       "      <td>0.060419</td>\n",
       "    </tr>\n",
       "    <tr>\n",
       "      <td>46540</td>\n",
       "      <td>16.55105</td>\n",
       "      <td>0.060419</td>\n",
       "    </tr>\n",
       "    <tr>\n",
       "      <td>...</td>\n",
       "      <td>...</td>\n",
       "      <td>...</td>\n",
       "    </tr>\n",
       "    <tr>\n",
       "      <td>131588</td>\n",
       "      <td>12.71043</td>\n",
       "      <td>0.078676</td>\n",
       "    </tr>\n",
       "    <tr>\n",
       "      <td>5686</td>\n",
       "      <td>12.71043</td>\n",
       "      <td>0.078676</td>\n",
       "    </tr>\n",
       "    <tr>\n",
       "      <td>234506</td>\n",
       "      <td>12.71043</td>\n",
       "      <td>0.078676</td>\n",
       "    </tr>\n",
       "    <tr>\n",
       "      <td>116686</td>\n",
       "      <td>12.71043</td>\n",
       "      <td>0.078676</td>\n",
       "    </tr>\n",
       "    <tr>\n",
       "      <td>72612</td>\n",
       "      <td>12.71043</td>\n",
       "      <td>0.078676</td>\n",
       "    </tr>\n",
       "  </tbody>\n",
       "</table>\n",
       "<p>300000 rows × 2 columns</p>\n",
       "</div>"
      ],
      "text/plain": [
       "         usd_mxn   mxn_usd\n",
       "id                        \n",
       "254099  16.55105  0.060419\n",
       "18684   16.55105  0.060419\n",
       "81195   16.55105  0.060419\n",
       "14228   16.55105  0.060419\n",
       "46540   16.55105  0.060419\n",
       "...          ...       ...\n",
       "131588  12.71043  0.078676\n",
       "5686    12.71043  0.078676\n",
       "234506  12.71043  0.078676\n",
       "116686  12.71043  0.078676\n",
       "72612   12.71043  0.078676\n",
       "\n",
       "[300000 rows x 2 columns]"
      ]
     },
     "execution_count": 42,
     "metadata": {},
     "output_type": "execute_result"
    }
   ],
   "source": [
    "df_cotizacion"
   ]
  },
  {
   "cell_type": "code",
   "execution_count": 43,
   "metadata": {},
   "outputs": [],
   "source": [
    "df_cotizacion.to_csv('./features/cotizacion.csv')\n",
    "features['cotizacion'] = df_cotizacion.columns.values"
   ]
  },
  {
   "cell_type": "code",
   "execution_count": null,
   "metadata": {},
   "outputs": [],
   "source": []
  },
  {
   "cell_type": "markdown",
   "metadata": {},
   "source": [
    "# Full DF"
   ]
  },
  {
   "cell_type": "code",
   "execution_count": 47,
   "metadata": {},
   "outputs": [
    {
     "data": {
      "text/plain": [
       "dict_keys(['categoricas_labelencoded', 'tipodepropiedad_ohencoded', 'provincia_ohencoded', 'ciudad_ohencoded', 'fecha', 'aniomes_ohencoded', 'descripcion', 'antiguedad_binning', 'habitaciones_binning', 'cotizacion'])"
      ]
     },
     "execution_count": 47,
     "metadata": {},
     "output_type": "execute_result"
    }
   ],
   "source": [
    "features.keys()"
   ]
  },
  {
   "cell_type": "code",
   "execution_count": 48,
   "metadata": {},
   "outputs": [],
   "source": [
    "def load_featured_appended_dataset():\n",
    "    \"\"\"Carga el dataset original, y le agrega todas las features obtenidas en este notebook. Devuelve\n",
    "    un unico dataset, del cual las primeras 240.000 filas son de train.csv y las ultimas 60.000 de test.csv\"\"\"\n",
    "    \n",
    "    df = load_appended_dataset()\n",
    "    # archivos (features.keys())\n",
    "    files = ['categoricas_labelencoded', 'tipodepropiedad_ohencoded', 'provincia_ohencoded', 'ciudad_ohencoded',\n",
    "             'fecha', 'aniomes_ohencoded', 'descripcion', 'antiguedad_binning', 'habitaciones_binning',\n",
    "             'cotizacion']\n",
    "    for file in files:\n",
    "        ruta = \"features/\"+file+\".csv\"\n",
    "        add = pd.read_csv(ruta, index_col='id')\n",
    "        df = pd.merge(df,add,how='left',left_index=True, right_index=True)\n",
    "        \n",
    "    return df"
   ]
  },
  {
   "cell_type": "code",
   "execution_count": 49,
   "metadata": {},
   "outputs": [],
   "source": [
    "def load_featured_datasets():\n",
    "    \"\"\"Carga el dataset original, y le agrega todas las features obtenidas en este notebook. Devuelve\n",
    "    dos datasets: train, test.\"\"\"\n",
    "    \n",
    "    df = load_featured_appended_dataset()\n",
    "    \n",
    "    return separate_train_test(df)"
   ]
  },
  {
   "cell_type": "markdown",
   "metadata": {},
   "source": [
    "# Resultados"
   ]
  },
  {
   "cell_type": "code",
   "execution_count": 31,
   "metadata": {
    "scrolled": true
   },
   "outputs": [
    {
     "data": {
      "text/plain": [
       "{'categoricas_labelencoded': array(['tipodepropiedad_labelencoded', 'ciudad_labelencoded',\n",
       "        'provincia_labelencoded'], dtype=object),\n",
       " 'tipodepropiedad_ohencoded': array(['tipodepropiedad_1_ohencoded', 'tipodepropiedad_2_ohencoded',\n",
       "        'tipodepropiedad_3_ohencoded', 'tipodepropiedad_4_ohencoded',\n",
       "        'tipodepropiedad_5_ohencoded', 'tipodepropiedad_6_ohencoded',\n",
       "        'tipodepropiedad_7_ohencoded', 'tipodepropiedad_8_ohencoded',\n",
       "        'tipodepropiedad_9_ohencoded', 'tipodepropiedad_10_ohencoded'],\n",
       "       dtype=object),\n",
       " 'provincia_ohencoded': array(['provincia_1_ohencoded', 'provincia_2_ohencoded',\n",
       "        'provincia_3_ohencoded', 'provincia_4_ohencoded',\n",
       "        'provincia_5_ohencoded', 'provincia_6_ohencoded',\n",
       "        'provincia_7_ohencoded', 'provincia_8_ohencoded',\n",
       "        'provincia_9_ohencoded', 'provincia_10_ohencoded',\n",
       "        'provincia_11_ohencoded', 'provincia_12_ohencoded',\n",
       "        'provincia_13_ohencoded', 'provincia_14_ohencoded',\n",
       "        'provincia_15_ohencoded', 'provincia_16_ohencoded',\n",
       "        'provincia_17_ohencoded', 'provincia_18_ohencoded',\n",
       "        'provincia_19_ohencoded', 'provincia_20_ohencoded',\n",
       "        'provincia_21_ohencoded', 'provincia_22_ohencoded',\n",
       "        'provincia_23_ohencoded', 'provincia_24_ohencoded',\n",
       "        'provincia_25_ohencoded', 'provincia_26_ohencoded',\n",
       "        'provincia_27_ohencoded', 'provincia_28_ohencoded',\n",
       "        'provincia_29_ohencoded', 'provincia_30_ohencoded',\n",
       "        'provincia_31_ohencoded', 'provincia_32_ohencoded',\n",
       "        'provincia_33_ohencoded'], dtype=object),\n",
       " 'ciudad_ohencoded': array(['ciudad_1_ohencoded', 'ciudad_2_ohencoded', 'ciudad_3_ohencoded',\n",
       "        'ciudad_4_ohencoded', 'ciudad_5_ohencoded', 'ciudad_6_ohencoded',\n",
       "        'ciudad_7_ohencoded', 'ciudad_8_ohencoded', 'ciudad_9_ohencoded',\n",
       "        'ciudad_10_ohencoded', 'ciudad_11_ohencoded',\n",
       "        'ciudad_12_ohencoded', 'ciudad_13_ohencoded',\n",
       "        'ciudad_14_ohencoded', 'ciudad_15_ohencoded',\n",
       "        'ciudad_16_ohencoded', 'ciudad_17_ohencoded',\n",
       "        'ciudad_18_ohencoded', 'ciudad_19_ohencoded',\n",
       "        'ciudad_20_ohencoded', 'ciudad_21_ohencoded',\n",
       "        'ciudad_22_ohencoded', 'ciudad_23_ohencoded',\n",
       "        'ciudad_24_ohencoded', 'ciudad_25_ohencoded',\n",
       "        'ciudad_26_ohencoded', 'ciudad_27_ohencoded',\n",
       "        'ciudad_28_ohencoded', 'ciudad_29_ohencoded',\n",
       "        'ciudad_30_ohencoded', 'ciudad_31_ohencoded',\n",
       "        'ciudad_32_ohencoded', 'ciudad_33_ohencoded',\n",
       "        'ciudad_34_ohencoded', 'ciudad_35_ohencoded',\n",
       "        'ciudad_36_ohencoded', 'ciudad_37_ohencoded',\n",
       "        'ciudad_38_ohencoded', 'ciudad_39_ohencoded',\n",
       "        'ciudad_40_ohencoded', 'ciudad_41_ohencoded',\n",
       "        'ciudad_42_ohencoded', 'ciudad_43_ohencoded',\n",
       "        'ciudad_44_ohencoded', 'ciudad_45_ohencoded',\n",
       "        'ciudad_46_ohencoded', 'ciudad_47_ohencoded',\n",
       "        'ciudad_48_ohencoded', 'ciudad_49_ohencoded',\n",
       "        'ciudad_50_ohencoded', 'ciudad_51_ohencoded',\n",
       "        'ciudad_52_ohencoded', 'ciudad_53_ohencoded',\n",
       "        'ciudad_54_ohencoded', 'ciudad_55_ohencoded',\n",
       "        'ciudad_56_ohencoded', 'ciudad_57_ohencoded',\n",
       "        'ciudad_58_ohencoded', 'ciudad_59_ohencoded',\n",
       "        'ciudad_60_ohencoded', 'ciudad_61_ohencoded',\n",
       "        'ciudad_62_ohencoded', 'ciudad_63_ohencoded',\n",
       "        'ciudad_64_ohencoded', 'ciudad_65_ohencoded',\n",
       "        'ciudad_66_ohencoded', 'ciudad_67_ohencoded',\n",
       "        'ciudad_68_ohencoded', 'ciudad_69_ohencoded',\n",
       "        'ciudad_70_ohencoded', 'ciudad_71_ohencoded',\n",
       "        'ciudad_72_ohencoded', 'ciudad_73_ohencoded',\n",
       "        'ciudad_74_ohencoded', 'ciudad_75_ohencoded',\n",
       "        'ciudad_76_ohencoded', 'ciudad_77_ohencoded',\n",
       "        'ciudad_78_ohencoded', 'ciudad_79_ohencoded',\n",
       "        'ciudad_80_ohencoded', 'ciudad_81_ohencoded'], dtype=object),\n",
       " 'fecha': array(['anio', 'mes', 'dia', 'timestamp', 'aniomes',\n",
       "        'precio_promedio_metrocubierto_aniomes',\n",
       "        'precio_promedio_metrocubierto_mes'], dtype=object),\n",
       " 'aniomes_ohencoded': array(['aniomes_1_ohencoded', 'aniomes_2_ohencoded',\n",
       "        'aniomes_3_ohencoded', 'aniomes_4_ohencoded',\n",
       "        'aniomes_5_ohencoded', 'aniomes_6_ohencoded',\n",
       "        'aniomes_7_ohencoded', 'aniomes_8_ohencoded',\n",
       "        'aniomes_9_ohencoded', 'aniomes_10_ohencoded',\n",
       "        'aniomes_11_ohencoded', 'aniomes_12_ohencoded',\n",
       "        'aniomes_13_ohencoded', 'aniomes_14_ohencoded',\n",
       "        'aniomes_15_ohencoded', 'aniomes_16_ohencoded',\n",
       "        'aniomes_17_ohencoded', 'aniomes_18_ohencoded',\n",
       "        'aniomes_19_ohencoded', 'aniomes_20_ohencoded',\n",
       "        'aniomes_21_ohencoded', 'aniomes_22_ohencoded',\n",
       "        'aniomes_23_ohencoded', 'aniomes_24_ohencoded',\n",
       "        'aniomes_25_ohencoded', 'aniomes_26_ohencoded',\n",
       "        'aniomes_27_ohencoded', 'aniomes_28_ohencoded',\n",
       "        'aniomes_29_ohencoded', 'aniomes_30_ohencoded',\n",
       "        'aniomes_31_ohencoded', 'aniomes_32_ohencoded',\n",
       "        'aniomes_33_ohencoded', 'aniomes_34_ohencoded',\n",
       "        'aniomes_35_ohencoded', 'aniomes_36_ohencoded',\n",
       "        'aniomes_37_ohencoded', 'aniomes_38_ohencoded',\n",
       "        'aniomes_39_ohencoded', 'aniomes_40_ohencoded',\n",
       "        'aniomes_41_ohencoded', 'aniomes_42_ohencoded',\n",
       "        'aniomes_43_ohencoded', 'aniomes_44_ohencoded',\n",
       "        'aniomes_45_ohencoded', 'aniomes_46_ohencoded',\n",
       "        'aniomes_47_ohencoded', 'aniomes_48_ohencoded',\n",
       "        'aniomes_49_ohencoded', 'aniomes_50_ohencoded',\n",
       "        'aniomes_51_ohencoded', 'aniomes_52_ohencoded',\n",
       "        'aniomes_53_ohencoded', 'aniomes_54_ohencoded',\n",
       "        'aniomes_55_ohencoded', 'aniomes_56_ohencoded',\n",
       "        'aniomes_57_ohencoded', 'aniomes_58_ohencoded',\n",
       "        'aniomes_59_ohencoded', 'aniomes_60_ohencoded'], dtype=object),\n",
       " 'descripcion': array(['jardin', 'vigilancia', 'aire_acondicionado', 'ventilador',\n",
       "        'calefaccion'], dtype=object),\n",
       " 'antiguedad_binning': array(['antiguedad_binning_1_ohencoded', 'antiguedad_binning_2_ohencoded',\n",
       "        'antiguedad_binning_3_ohencoded', 'antiguedad_binning_4_ohencoded',\n",
       "        'antiguedad_binning_5_ohencoded', 'antiguedad_binning_6_ohencoded',\n",
       "        'antiguedad_binning_7_ohencoded', 'antiguedad_binning_8_ohencoded',\n",
       "        'antiguedad_binning_9_ohencoded'], dtype=object),\n",
       " 'habitaciones_binning': array(['hab_binning_1_ohencoded', 'hab_binning_2_ohencoded',\n",
       "        'hab_binning_3_ohencoded', 'hab_binning_4_ohencoded',\n",
       "        'hab_binning_5_ohencoded', 'hab_binning_6_ohencoded',\n",
       "        'hab_binning_7_ohencoded'], dtype=object)}"
      ]
     },
     "execution_count": 31,
     "metadata": {},
     "output_type": "execute_result"
    }
   ],
   "source": [
    "features\n",
    "# hardcodear diccionario para devolverlo"
   ]
  },
  {
   "cell_type": "code",
   "execution_count": null,
   "metadata": {},
   "outputs": [],
   "source": []
  }
 ],
 "metadata": {
  "kernelspec": {
   "display_name": "Python 3",
   "language": "python",
   "name": "python3"
  },
  "language_info": {
   "codemirror_mode": {
    "name": "ipython",
    "version": 3
   },
   "file_extension": ".py",
   "mimetype": "text/x-python",
   "name": "python",
   "nbconvert_exporter": "python",
   "pygments_lexer": "ipython3",
   "version": "3.6.8"
  }
 },
 "nbformat": 4,
 "nbformat_minor": 4
}
