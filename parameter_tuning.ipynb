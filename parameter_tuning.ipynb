{
 "cells": [
  {
   "cell_type": "code",
   "execution_count": 4,
   "metadata": {},
   "outputs": [],
   "source": [
    "import pandas as pd\n",
    "import numpy as np\n",
    "import math\n",
    "from sklearn.model_selection import train_test_split\n",
    "from sklearn.metrics import mean_absolute_error\n",
    "\n",
    "seed = 42"
   ]
  },
  {
   "cell_type": "code",
   "execution_count": 5,
   "metadata": {},
   "outputs": [],
   "source": [
    "import nbimporter\n",
    "\n",
    "import pre_processing\n",
    "import feature_generation\n",
    "import feature_selection\n",
    "import predict"
   ]
  },
  {
   "cell_type": "markdown",
   "metadata": {},
   "source": [
    "# Parameter Tuning para LightGBM\n",
    "Utilizaremos learning rate de 0.1 y 5000 estimadores, luego esto sera escalado a mas estimadores con mejores learning rates, pero no deberia variar el resultado."
   ]
  },
  {
   "cell_type": "code",
   "execution_count": 6,
   "metadata": {},
   "outputs": [],
   "source": [
    "import lightgbm as lgb\n",
    "from sklearn.model_selection import GridSearchCV, RandomizedSearchCV"
   ]
  },
  {
   "cell_type": "code",
   "execution_count": 7,
   "metadata": {},
   "outputs": [],
   "source": [
    "train,test = pre_processing.load_featured_datasets()"
   ]
  },
  {
   "cell_type": "code",
   "execution_count": 8,
   "metadata": {},
   "outputs": [],
   "source": [
    "#train['precio'] = train['precio'].map(lambda x: math.log(x))"
   ]
  },
  {
   "cell_type": "code",
   "execution_count": 9,
   "metadata": {},
   "outputs": [],
   "source": [
    "train_selected = feature_selection.get_selected_dataframe(train)\n",
    "#test_selected = feature_selection.get_selected_dataframe(test, precio=False)"
   ]
  },
  {
   "cell_type": "code",
   "execution_count": 10,
   "metadata": {},
   "outputs": [],
   "source": [
    "X = train_selected.drop('precio', axis=1).values\n",
    "Y = train_selected['precio'].values"
   ]
  },
  {
   "cell_type": "code",
   "execution_count": 11,
   "metadata": {},
   "outputs": [],
   "source": [
    "param_grid = {\n",
    "    'num_leaves': [55, 60, 65],\n",
    "    'max_depth': [8,10,12],\n",
    "    'min_gain_to_split':[0.1, 0.2], \n",
    "    'max_bin':[50, 100, 150],\n",
    "    'min_data_in_leaf':[3000, 5000, 7000],\n",
    "    'bagging_freq':[4,5,6],\n",
    "    'bagging_fraction':[0.65, 0.7, 0.75],\n",
    "    'feature_fraction':[0.7]\n",
    "}"
   ]
  },
  {
   "cell_type": "code",
   "execution_count": 12,
   "metadata": {},
   "outputs": [],
   "source": [
    "reg = lgb.LGBMRegressor(boosting_type='gbdt',  objective='regression', metric='mae', num_boost_round=5000,\n",
    "                       verbose=0, learning_rate=0.1)"
   ]
  },
  {
   "cell_type": "code",
   "execution_count": 13,
   "metadata": {},
   "outputs": [],
   "source": [
    "#gridsearch = GridSearchCV(reg, param_grid, cv=4, scoring = 'neg_mean_absolute_error')\n",
    "gridsearch = RandomizedSearchCV(reg, param_grid, n_iter=120, n_jobs=3, cv=4, scoring = 'neg_mean_absolute_error')"
   ]
  },
  {
   "cell_type": "code",
   "execution_count": 14,
   "metadata": {},
   "outputs": [
    {
     "name": "stderr",
     "output_type": "stream",
     "text": [
      "/usr/local/lib/python3.6/dist-packages/lightgbm/engine.py:148: UserWarning: Found `num_boost_round` in params. Will use it instead of argument\n",
      "  warnings.warn(\"Found `{}` in params. Will use it instead of argument\".format(alias))\n"
     ]
    },
    {
     "name": "stdout",
     "output_type": "stream",
     "text": [
      "CPU times: user 11min 24s, sys: 1.72 s, total: 11min 25s\n",
      "Wall time: 16h 57min 11s\n"
     ]
    },
    {
     "data": {
      "text/plain": [
       "RandomizedSearchCV(cv=4, error_score='raise-deprecating',\n",
       "                   estimator=LGBMRegressor(boosting_type='gbdt',\n",
       "                                           class_weight=None,\n",
       "                                           colsample_bytree=1.0,\n",
       "                                           importance_type='split',\n",
       "                                           learning_rage=0.1, learning_rate=0.1,\n",
       "                                           max_depth=-1, metric='mae',\n",
       "                                           min_child_samples=20,\n",
       "                                           min_child_weight=0.001,\n",
       "                                           min_split_gain=0.0, n_estimators=100,\n",
       "                                           n_jobs=-1, num_boost_round=5000,\n",
       "                                           num_leaves=31...\n",
       "                   param_distributions={'bagging_fraction': [0.65, 0.7, 0.75],\n",
       "                                        'bagging_freq': [4, 5, 6],\n",
       "                                        'feature_fraction': [0.7],\n",
       "                                        'max_bin': [50, 100, 150],\n",
       "                                        'max_depth': [8, 10, 12],\n",
       "                                        'min_data_in_leaf': [3000, 5000, 7000],\n",
       "                                        'min_gain_to_split': [0.1, 0.2],\n",
       "                                        'num_leaves': [55, 60, 65]},\n",
       "                   pre_dispatch='2*n_jobs', random_state=None, refit=True,\n",
       "                   return_train_score=False, scoring='neg_mean_absolute_error',\n",
       "                   verbose=0)"
      ]
     },
     "execution_count": 14,
     "metadata": {},
     "output_type": "execute_result"
    }
   ],
   "source": [
    "%%time\n",
    "gridsearch.fit(X,Y)"
   ]
  },
  {
   "cell_type": "code",
   "execution_count": 15,
   "metadata": {
    "scrolled": false
   },
   "outputs": [
    {
     "data": {
      "text/plain": [
       "-494138.8445571253"
      ]
     },
     "execution_count": 15,
     "metadata": {},
     "output_type": "execute_result"
    }
   ],
   "source": [
    "gridsearch.best_score_"
   ]
  },
  {
   "cell_type": "code",
   "execution_count": 16,
   "metadata": {},
   "outputs": [
    {
     "data": {
      "text/plain": [
       "{'num_leaves': 55,\n",
       " 'min_gain_to_split': 0.2,\n",
       " 'min_data_in_leaf': 3000,\n",
       " 'max_depth': 12,\n",
       " 'max_bin': 150,\n",
       " 'feature_fraction': 0.7,\n",
       " 'bagging_freq': 5,\n",
       " 'bagging_fraction': 0.75}"
      ]
     },
     "execution_count": 16,
     "metadata": {},
     "output_type": "execute_result"
    }
   ],
   "source": [
    "gridsearch.best_params_"
   ]
  },
  {
   "cell_type": "markdown",
   "metadata": {},
   "source": [
    "# Resultados obtenidos..."
   ]
  },
  {
   "cell_type": "markdown",
   "metadata": {},
   "source": [
    "**Detalles de la prueba:**\n",
    "- Metodo utilizado: RandomizedGridSearch.\n",
    "- n_iterations: 40.\n",
    "- Parametros a probar:\n",
    "\n",
    "```\n",
    "param_grid = {\n",
    "    # Prevenir overfitting:\n",
    "    'num_leaves': [60, 80, 100, 120],\n",
    "    'max_depth': [5,10,15],\n",
    "    'min_gain_to_split':[0.1], \n",
    "    'max_bin':[100],\n",
    "    'min_data_in_leaf':[5000],\n",
    "    'bagging_freq':[3, 5],\n",
    "    'bagging_fraction':[0.5, 0.605, 0.7],\n",
    "    'feature_fraction':[0.7]\n",
    "}\n",
    "```\n",
    "\n",
    "**Resultados (4h 35min)**:\n",
    "```\n",
    "{'num_leaves': 60,\n",
    " 'min_gain_to_split': 0.1,\n",
    " 'min_data_in_leaf': 5000,\n",
    " 'max_depth': 10,\n",
    " 'max_bin': 100,\n",
    " 'feature_fraction': 0.7,\n",
    " 'bagging_freq': 5,\n",
    " 'bagging_fraction': 0.7}\n",
    " \n",
    "MAE = 502020k\n",
    " ```\n",
    " \n",
    "<hr>\n",
    "\n",
    "**Detalles de la prueba:**\n",
    "- Metodo utilizado: RandomizedGridSearch.\n",
    "- n_iterations: 120.\n",
    "- Parametros a probar:\n",
    "\n",
    "```\n",
    "param_grid = {\n",
    "    'num_leaves': [55, 60, 65],\n",
    "    'max_depth': [8,10,12],\n",
    "    'min_gain_to_split':[0.1, 0.2], \n",
    "    'max_bin':[50, 100, 150],\n",
    "    'min_data_in_leaf':[3000, 5000, 7000],\n",
    "    'bagging_freq':[4,5,6],\n",
    "    'bagging_fraction':[0.65, 0.7, 0.75],\n",
    "    'feature_fraction':[0.7]\n",
    "}\n",
    "```\n",
    "\n",
    "**Resultados (16h 57min)**:\n",
    "```\n",
    "{'num_leaves': 55,\n",
    " 'min_gain_to_split': 0.2,\n",
    " 'min_data_in_leaf': 3000,\n",
    " 'max_depth': 12,\n",
    " 'max_bin': 150,\n",
    " 'feature_fraction': 0.7,\n",
    " 'bagging_freq': 5,\n",
    " 'bagging_fraction': 0.75}\n",
    " \n",
    "MAE = 494138k\n",
    " ```"
   ]
  },
  {
   "cell_type": "code",
   "execution_count": 1,
   "metadata": {},
   "outputs": [],
   "source": [
    "def get_best_params_lgb():\n",
    "    return {'num_leaves': 55,\n",
    "            'min_gain_to_split': 0.2,\n",
    "            'min_data_in_leaf': 3000,\n",
    "            'max_depth': 12,\n",
    "            'max_bin': 150,\n",
    "            'feature_fraction': 0.7,\n",
    "            'bagging_freq': 5,\n",
    "            'bagging_fraction': 0.75,\n",
    "            # Parametros que no fueron optimizados:\n",
    "            'boosting_type':'gbdt',\n",
    "            'objective':'regression',\n",
    "            'metric':'mae',\n",
    "            'num_boost_round':5000,\n",
    "            'verbose':0,\n",
    "            'learning_rate':0.1\n",
    "           }"
   ]
  },
  {
   "cell_type": "code",
   "execution_count": null,
   "metadata": {},
   "outputs": [],
   "source": []
  }
 ],
 "metadata": {
  "kernelspec": {
   "display_name": "Python 3",
   "language": "python",
   "name": "python3"
  },
  "language_info": {
   "codemirror_mode": {
    "name": "ipython",
    "version": 3
   },
   "file_extension": ".py",
   "mimetype": "text/x-python",
   "name": "python",
   "nbconvert_exporter": "python",
   "pygments_lexer": "ipython3",
   "version": "3.6.9"
  }
 },
 "nbformat": 4,
 "nbformat_minor": 4
}
